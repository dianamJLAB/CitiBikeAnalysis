{
 "cells": [
  {
   "cell_type": "markdown",
   "metadata": {},
   "source": [
    "### Load libraries and inspect data"
   ]
  },
  {
   "cell_type": "code",
   "execution_count": 1,
   "metadata": {},
   "outputs": [],
   "source": [
    "# load modules\n",
    "from pyspark.sql import SparkSession\n",
    "\n",
    "from pyspark.mllib.stat import Statistics as stat\n",
    "from pyspark.ml.regression import LinearRegression\n",
    "from pyspark.ml.evaluation import RegressionEvaluator\n",
    "from pyspark.ml.regression import RandomForestRegressor\n",
    "from pyspark.ml.feature import StringIndexer, OneHotEncoder, VectorAssembler, StandardScaler\n",
    "from pyspark.ml.tuning import ParamGridBuilder, CrossValidator\n",
    "from pyspark.ml import Pipeline\n",
    "\n",
    "import pandas as pd\n",
    "import numpy as np\n",
    "import pyspark.sql.functions as F\n",
    "from pyspark.sql import DataFrame\n",
    "from pyspark.sql.types import StructType, StructField, DoubleType, StringType, IntegerType\n",
    "from pyspark.sql.functions import col, when, isnan, count, udf, struct, date_format, coalesce, lit, round\n",
    "from math import sin, cos, sqrt, atan2, radians    \n",
    "from pyspark.sql.functions import col, radians, asin, sin, sqrt, cos\n",
    "import matplotlib.pyplot as plt\n",
    "import os"
   ]
  },
  {
   "cell_type": "code",
   "execution_count": 2,
   "metadata": {},
   "outputs": [],
   "source": [
    "#Spark session\n",
    "spark = SparkSession.builder \\\n",
    "        .appName(\"model\") \\\n",
    "        .config(\"spark.executor.memory\", '18g') \\\n",
    "        .config('spark.executor.cores', '5') \\\n",
    "        .config('spark.executor.instances', '29') \\\n",
    "        .getOrCreate()"
   ]
  },
  {
   "cell_type": "code",
   "execution_count": 3,
   "metadata": {},
   "outputs": [
    {
     "name": "stdout",
     "output_type": "stream",
     "text": [
      "<class 'pyspark.sql.dataframe.DataFrame'>\n"
     ]
    }
   ],
   "source": [
    "#Load data in\n",
    "data = spark.read.parquet('/project/ds5559/Summer2021_TeamBike/master_dataset.parquet')\n",
    "print(type(data))"
   ]
  },
  {
   "cell_type": "code",
   "execution_count": 4,
   "metadata": {},
   "outputs": [
    {
     "name": "stdout",
     "output_type": "stream",
     "text": [
      "+--------+----------+--------------+--------------------+--------------------+---------------------+----------+----+------------+--------------------+------------+--------------------+------------------+-------------------+-------+----------+---------+------+------+----------+--------+--------+--------+--------+----------+-------+-------+-------+-------+----------+------------+---+------+-----+--------+------------+----+---------+---------+---------+--------------------+--------------------+--------+------------------+------------------+----------------------+----------------------+----------------------+-------------------+------------------+-------------------+------------------+--------------------+\n",
      "| Borough|month_year|startStationId|    startStationName|startStationLatitude|startStationLongitude|      date|hour|tripduration|           starttime|endStationId|      endStationName|endStationLatitude|endStationLongitude| bikeid|  usertype|birthyear|gender|  temp|feels_like|temp_min|temp_max|pressure|humidity|wind_speed|rain_1h|rain_3h|snow_1h|snow_3h|clouds_all|weather_main|dow|   day|month|time_bin|peak_commute|year|3h_precip|1h_precip|   precip|      start_lat_long|        end_lat_long|zipcodes|avg_days_on_market|avg_discount_share|avg_median_sales_price|avg_median_asking_sale|avg_median_asking_rent|avg_price_cut_share|  avg_sales_volume|avg_sales_inventory|avg_rent_inventory|avg_sales_list_ratio|\n",
      "+--------+----------+--------------+--------------------+--------------------+---------------------+----------+----+------------+--------------------+------------+--------------------+------------------+-------------------+-------+----------+---------+------+------+----------+--------+--------+--------+--------+----------+-------+-------+-------+-------+----------+------------+---+------+-----+--------+------------+----+---------+---------+---------+--------------------+--------------------+--------+------------------+------------------+----------------------+----------------------+----------------------+-------------------+------------------+-------------------+------------------+--------------------+\n",
      "|Brooklyn|   2020-06|          3419| Douglass St & 4 Ave|   40.67927879999999|         -73.98154004|2020-06-01|   0|        1062|2020-06-01 00:00:...|      3419.0| Douglass St & 4 Ave| 40.67927879999999|       -73.98154004|39852.0|  Customer|     1997|   2.0|64.292|     57.38|  62.006|  62.006|    1018|      43|      3.93|    0.0|    0.0|    0.0|    0.0|         1|       Clear|  2|Monday|  Jun|   Night|    non_peak|2020|      0.0|      0.0|no_precip|[40.6792787999999...|[40.6792787999999...|   11217| 90.31829652996842|0.1875610615471485|     854338.1216332259|    1057032.5681996944|     2549.918969486926|0.08441581266425231|38.345454545454544|  241.6909090909091|1002.4363636363636|  0.9601094091903719|\n",
      "|Brooklyn|   2020-06|           366|Clinton Ave & Myr...|           40.693261|           -73.968896|2020-06-01|   0|        3810|2020-06-01 00:00:...|       336.0|Sullivan St & Was...|       40.73047747|       -73.99906065|37558.0|Subscriber|     1969|   0.0|64.292|     57.38|  62.006|  62.006|    1018|      43|      3.93|    0.0|    0.0|    0.0|    0.0|         1|       Clear|  2|Monday|  Jun|   Night|    non_peak|2020|      0.0|      0.0|no_precip|[40.693261, -73.9...|[40.73047747, -73...|   11205| 90.31829652996842|0.1875610615471485|     854338.1216332259|    1057032.5681996944|     2549.918969486926|0.08441581266425231|38.345454545454544|  241.6909090909091|1002.4363636363636|  0.9601094091903719|\n",
      "|Brooklyn|   2020-06|           389| Broadway & Berry St|         40.71044554|         -73.96525063|2020-06-01|   0|        1017|2020-06-01 00:00:...|      3562.0|Classon Ave & St ...|40.676519799999994|        -73.9596082|37512.0|  Customer|     1988|   2.0|64.292|     57.38|  62.006|  62.006|    1018|      43|      3.93|    0.0|    0.0|    0.0|    0.0|         1|       Clear|  2|Monday|  Jun|   Night|    non_peak|2020|      0.0|      0.0|no_precip|[40.71044554, -73...|[40.6765197999999...|   11207| 90.31829652996842|0.1875610615471485|     854338.1216332259|    1057032.5681996944|     2549.918969486926|0.08441581266425231|38.345454545454544|  241.6909090909091|1002.4363636363636|  0.9601094091903719|\n",
      "+--------+----------+--------------+--------------------+--------------------+---------------------+----------+----+------------+--------------------+------------+--------------------+------------------+-------------------+-------+----------+---------+------+------+----------+--------+--------+--------+--------+----------+-------+-------+-------+-------+----------+------------+---+------+-----+--------+------------+----+---------+---------+---------+--------------------+--------------------+--------+------------------+------------------+----------------------+----------------------+----------------------+-------------------+------------------+-------------------+------------------+--------------------+\n",
      "only showing top 3 rows\n",
      "\n"
     ]
    }
   ],
   "source": [
    "#inspect\n",
    "data.show(3)"
   ]
  },
  {
   "cell_type": "markdown",
   "metadata": {},
   "source": [
    "#### Data Pre-processing:\n",
    "##### Create new columns crowDist and sales_rent_inventory_ratio"
   ]
  },
  {
   "cell_type": "code",
   "execution_count": 4,
   "metadata": {},
   "outputs": [],
   "source": [
    "## Create Distnace columns\n",
    "# radius of earth in miles\n",
    "R = 3963.0\n",
    "\n",
    "#Convert start/end latitude and longitude from degrees to Radians\n",
    "data = data.withColumn(\"startRadLong\", radians(data.startStationLongitude))\n",
    "data = data.withColumn(\"endRadLong\", radians(data.endStationLongitude))\n",
    "data = data.withColumn(\"startRadLat\", radians(data.startStationLatitude))\n",
    "data = data.withColumn(\"endRadLat\", radians(data.endStationLatitude))\n",
    "data = data.withColumn(\"diffRadLong\", (data.startRadLong-data.endRadLong))\n",
    "data = data.withColumn(\"diffRadLat\", (data.startRadLat-data.endRadLat))\n",
    "data = data.withColumn(\"crowDist\", asin(sqrt(sin(data.diffRadLat/2)**2 + cos(data.startRadLat) * cos(data.endRadLat) * sin(data.diffRadLong/2)**2)) * 2 * R)\n",
    "data = data.drop(\"startRadLong\",\"endRadLong\",\"startRadLat\",\"endRadLat\",\"diffRadLong\",\"diffRadLat\")\n",
    "data = data.withColumn(\"sales_rent_inventory_ratio\", data.avg_sales_inventory/data.avg_rent_inventory)"
   ]
  },
  {
   "cell_type": "markdown",
   "metadata": {},
   "source": [
    "---"
   ]
  },
  {
   "cell_type": "markdown",
   "metadata": {},
   "source": [
    "#### Get wanted features and look at data"
   ]
  },
  {
   "cell_type": "code",
   "execution_count": 5,
   "metadata": {},
   "outputs": [
    {
     "name": "stdout",
     "output_type": "stream",
     "text": [
      "+----------------------+--------------------------+----------------+----------+--------+----------+------------+----------+------------+---------+--------+--------+\n",
      "|avg_median_sales_price|sales_rent_inventory_ratio|        crowDist|feels_like|humidity|wind_speed|tripduration|clouds_all|peak_commute|   precip|time_bin|zipcodes|\n",
      "+----------------------+--------------------------+----------------+----------+--------+----------+------------+----------+------------+---------+--------+--------+\n",
      "|     854338.1216332259|       0.24110349330721517|             0.0|     57.38|      43|      3.93|        1062|         1|    non_peak|no_precip|   Night|   11217|\n",
      "|     854338.1216332259|       0.24110349330721517|3.02116973218692|     57.38|      43|      3.93|        3810|         1|    non_peak|no_precip|   Night|   11205|\n",
      "+----------------------+--------------------------+----------------+----------+--------+----------+------------+----------+------------+---------+--------+--------+\n",
      "only showing top 2 rows\n",
      "\n"
     ]
    }
   ],
   "source": [
    "# retain these predictors\n",
    "vars_to_keep = [\"avg_median_sales_price\",\n",
    "                \"sales_rent_inventory_ratio\",\n",
    "                \"crowDist\",\n",
    "                \"feels_like\",\n",
    "                \"humidity\",\n",
    "                \"wind_speed\",\n",
    "                \"tripduration\",\n",
    "                \"clouds_all\",\n",
    "                \"peak_commute\",\n",
    "                \"precip\",\n",
    "                \"time_bin\",\n",
    "                \"zipcodes\"]\n",
    "\n",
    "# subset the dataframe on these predictors\n",
    "df = data[vars_to_keep]\n",
    "df.show(2)"
   ]
  },
  {
   "cell_type": "code",
   "execution_count": 6,
   "metadata": {},
   "outputs": [
    {
     "name": "stdout",
     "output_type": "stream",
     "text": [
      "+--------+------+\n",
      "|zipcodes| count|\n",
      "+--------+------+\n",
      "|   11205|288665|\n",
      "|   11106|332881|\n",
      "|   11251| 85721|\n",
      "+--------+------+\n",
      "only showing top 3 rows\n",
      "\n"
     ]
    }
   ],
   "source": [
    "#Get count of trips by zip\n",
    "cnt_trips = data.groupby(\"zipcodes\").count()\n",
    "cnt_trips.show(3)"
   ]
  },
  {
   "cell_type": "code",
   "execution_count": 7,
   "metadata": {},
   "outputs": [
    {
     "name": "stdout",
     "output_type": "stream",
     "text": [
      "root\n",
      " |-- avg_median_sales_price: double (nullable = true)\n",
      " |-- sales_rent_inventory_ratio: double (nullable = true)\n",
      " |-- crowDist: double (nullable = true)\n",
      " |-- feels_like: double (nullable = true)\n",
      " |-- humidity: long (nullable = true)\n",
      " |-- wind_speed: double (nullable = true)\n",
      " |-- tripduration: long (nullable = true)\n",
      " |-- clouds_all: long (nullable = true)\n",
      " |-- peak_commute: string (nullable = true)\n",
      " |-- precip: string (nullable = true)\n",
      " |-- time_bin: string (nullable = true)\n",
      " |-- zipcodes: string (nullable = true)\n",
      "\n"
     ]
    }
   ],
   "source": [
    "#Schema\n",
    "df.printSchema()"
   ]
  },
  {
   "cell_type": "code",
   "execution_count": 8,
   "metadata": {},
   "outputs": [],
   "source": [
    "#Get a count of station\n",
    "grouped_data = df.groupby(\"zipcodes\")\n",
    "agg_data = grouped_data.agg(F.avg(\"avg_median_sales_price\").alias(\"avg_median_sales_price_by_zip\"),\n",
    "                 F.avg(\"sales_rent_inventory_ratio\").alias(\"avg_sales_rent_ratio_by_zip\"),\n",
    "                 F.stddev(\"sales_rent_inventory_ratio\").alias(\"std_of_avg_sales_rent_ratio_by_zip\"),\n",
    "                 #F.avg(\"avg_median_asking_rent\").alias(\"avg_median_asking_rent_by_zip\"),\n",
    "                 #F.stddev(\"avg_median_asking_rent\").alias(\"std_of_avg_median_asking_rent_by_zip\"),\n",
    "                 #F.avg(\"avg_price_cut_share\").alias(\"avg_price_cut_share_by_zip\"),\n",
    "                 #F.stddev(\"avg_price_cut_share\").alias(\"std_of_avg_price_cut_share_by_zip\"),\n",
    "                 #F.avg(\"avg_sales_volume\").alias(\"avg_sales_volume_by_zip\"),\n",
    "                 #F.stddev(\"avg_sales_volume\").alias(\"std_of_avg_sales_volume_by_zip\"),\n",
    "                 #F.avg(\"avg_sales_list_ratio\").alias(\"avg_sales_list_ratio_by_zip\"),\n",
    "                 #F.stddev(\"avg_sales_list_ratio\").alias(\"std_of_avg_sales_list_ratio_by_zip\"),\n",
    "                 F.avg(\"crowDist\").alias(\"avg_crowDist\"),\n",
    "                 F.stddev(\"crowDist\").alias(\"std_crowDist\"), \n",
    "                 F.avg(\"feels_like\").alias(\"avg_feels_like\"),\n",
    "                 F.stddev(\"feels_like\").alias(\"std_feels_like\"),\n",
    "                 F.avg(\"humidity\").alias(\"avg_humidity\"),\n",
    "                 F.stddev(\"humidity\").alias(\"std_humidity\"),\n",
    "                 F.avg(\"wind_speed\").alias(\"avg_wind_speed\"),\n",
    "                 F.stddev(\"wind_speed\").alias(\"std_wind_speed\"),\n",
    "                 F.avg(\"tripduration\").alias(\"avg_tripduration\"),\n",
    "                 F.stddev(\"tripduration\").alias(\"std_tripduration\"),\n",
    "                 F.count(when(df.clouds_all == 1, lit(1))).alias(\"clouds_count\"),\n",
    "                 F.count(when(df.clouds_all == 0, lit(1))).alias(\"no_clouds_count\"),\n",
    "                 F.count(when(df.peak_commute == \"peak\", lit(1))).alias(\"peak_count\"),\n",
    "                 F.count(when(df.peak_commute == \"non_peak\", lit(1))).alias(\"non_peak_count\"),\n",
    "                 F.count(when(df.precip == \"precip\", lit(1))).alias(\"precip_count\"),\n",
    "                 F.count(when(df.precip == \"no_precip\", lit(1))).alias(\"non_precip_count\"),\n",
    "                 F.count(when(df.time_bin == \"Morning\", lit(1))).alias(\"morning_count\"),\n",
    "                 F.count(when(df.time_bin == \"Afternoon\", lit(1))).alias(\"afternoon_count\"),\n",
    "                 F.count(when(df.time_bin == \"Evening\", lit(1))).alias(\"evening_count\"),\n",
    "                 F.count(when(df.time_bin == \"Night\", lit(1))).alias(\"night_count\"))"
   ]
  },
  {
   "cell_type": "code",
   "execution_count": 17,
   "metadata": {},
   "outputs": [
    {
     "name": "stdout",
     "output_type": "stream",
     "text": [
      "+--------+-----------------------------+---------------------------+----------------------------------+------------------+------------------+-----------------+------------------+------------------+-----------------+------------------+------------------+------------------+------------------+------------+---------------+----------+--------------+------------+----------------+-------------+---------------+-------------+-----------+\n",
      "|zipcodes|avg_median_sales_price_by_zip|avg_sales_rent_ratio_by_zip|std_of_avg_sales_rent_ratio_by_zip|      avg_crowDist|      std_crowDist|   avg_feels_like|    std_feels_like|      avg_humidity|     std_humidity|    avg_wind_speed|    std_wind_speed|  avg_tripduration|  std_tripduration|clouds_count|no_clouds_count|peak_count|non_peak_count|precip_count|non_precip_count|morning_count|afternoon_count|evening_count|night_count|\n",
      "+--------+-----------------------------+---------------------------+----------------------------------+------------------+------------------+-----------------+------------------+------------------+-----------------+------------------+------------------+------------------+------------------+------------+---------------+----------+--------------+------------+----------------+-------------+---------------+-------------+-----------+\n",
      "|   11205|            867179.1991829557|        0.34756407068040934|                0.1026400428647906| 1.131836337155021|0.8321290267014246|55.31562731886467|21.082537945466296|63.040354736459214|20.37958107702054| 2.751850345556017|1.3758321658337156|1053.3450158488213|16333.648137140188|      140769|             81|    120813|        167852|       59317|          229348|       104108|          90992|        77282|      16283|\n",
      "|   11106|            640739.3143198597|         0.5563349502444294|               0.12053700293006114|0.9838887232747059| 0.915011424913106|58.54426411239988| 20.62269454221591|61.761557433437176|20.26504125518906|2.7373413321877416|1.3467673308811126| 1074.423956308711|14656.191221564886|      165053|            128|    126223|        206658|       62408|          270473|        96718|         108739|       105595|      21829|\n",
      "+--------+-----------------------------+---------------------------+----------------------------------+------------------+------------------+-----------------+------------------+------------------+-----------------+------------------+------------------+------------------+------------------+------------+---------------+----------+--------------+------------+----------------+-------------+---------------+-------------+-----------+\n",
      "only showing top 2 rows\n",
      "\n"
     ]
    }
   ],
   "source": [
    "#Inspect\n",
    "agg_data.show(2)"
   ]
  },
  {
   "cell_type": "code",
   "execution_count": 9,
   "metadata": {},
   "outputs": [],
   "source": [
    "#Get dataframe with counts\n",
    "df = agg_data.join(cnt_trips, agg_data.zipcodes==cnt_trips.zipcodes, how=\"inner\").drop(cnt_trips.zipcodes)\n",
    "df = df.orderBy(\"zipcodes\").withColumnRenamed(\"count\", \"trip_count_by_zip\")"
   ]
  },
  {
   "cell_type": "code",
   "execution_count": 19,
   "metadata": {},
   "outputs": [
    {
     "name": "stdout",
     "output_type": "stream",
     "text": [
      "+-----------------------------+---------------------------+----------------------------------+------------------+------------------+-----------------+------------------+------------------+------------------+------------------+------------------+------------------+------------------+------------+---------------+----------+--------------+------------+----------------+-------------+---------------+-------------+-----------+--------+-----------------+\n",
      "|avg_median_sales_price_by_zip|avg_sales_rent_ratio_by_zip|std_of_avg_sales_rent_ratio_by_zip|      avg_crowDist|      std_crowDist|   avg_feels_like|    std_feels_like|      avg_humidity|      std_humidity|    avg_wind_speed|    std_wind_speed|  avg_tripduration|  std_tripduration|clouds_count|no_clouds_count|peak_count|non_peak_count|precip_count|non_precip_count|morning_count|afternoon_count|evening_count|night_count|zipcodes|trip_count_by_zip|\n",
      "+-----------------------------+---------------------------+----------------------------------+------------------+------------------+-----------------+------------------+------------------+------------------+------------------+------------------+------------------+------------------+------------+---------------+----------+--------------+------------+----------------+-------------+---------------+-------------+-----------+--------+-----------------+\n",
      "|            1068641.885893128|          0.388636546882057|               0.10708975241988583|1.4846179236562407| 1.139525387971124|54.73394834860131|20.261017656707843| 61.41156007492641|20.775352076978333|2.7423746434445917|1.3742972846052157|1076.3892814238295|7734.1111679418855|       87530|             91|     77729|         97910|       34271|          141368|        61809|          55184|        49766|       8880|     100|           175639|\n",
      "|           1077368.6299881246|        0.42813930570472897|               0.10500175191751188|1.1843674121421317|0.9968191903382502|58.76975875318749|  20.7153728389609|61.621489747549106|20.306089100052095|2.7591613549033505|1.3828942916127214| 1334.519234567458| 7802.171328361563|      107528|             73|     86145|        136631|       43849|          178927|        46359|          86969|        76868|      12580|   10000|           222776|\n",
      "+-----------------------------+---------------------------+----------------------------------+------------------+------------------+-----------------+------------------+------------------+------------------+------------------+------------------+------------------+------------------+------------+---------------+----------+--------------+------------+----------------+-------------+---------------+-------------+-----------+--------+-----------------+\n",
      "only showing top 2 rows\n",
      "\n"
     ]
    }
   ],
   "source": [
    "#Inspect\n",
    "df.show(2)"
   ]
  },
  {
   "cell_type": "code",
   "execution_count": 10,
   "metadata": {},
   "outputs": [
    {
     "name": "stdout",
     "output_type": "stream",
     "text": [
      "root\n",
      " |-- avg_median_sales_price_by_zip: double (nullable = true)\n",
      " |-- avg_sales_rent_ratio_by_zip: double (nullable = true)\n",
      " |-- std_of_avg_sales_rent_ratio_by_zip: double (nullable = true)\n",
      " |-- avg_crowDist: double (nullable = true)\n",
      " |-- std_crowDist: double (nullable = true)\n",
      " |-- avg_feels_like: double (nullable = true)\n",
      " |-- std_feels_like: double (nullable = true)\n",
      " |-- avg_humidity: double (nullable = true)\n",
      " |-- std_humidity: double (nullable = true)\n",
      " |-- avg_wind_speed: double (nullable = true)\n",
      " |-- std_wind_speed: double (nullable = true)\n",
      " |-- avg_tripduration: double (nullable = true)\n",
      " |-- std_tripduration: double (nullable = true)\n",
      " |-- clouds_count: long (nullable = false)\n",
      " |-- no_clouds_count: long (nullable = false)\n",
      " |-- peak_count: long (nullable = false)\n",
      " |-- non_peak_count: long (nullable = false)\n",
      " |-- precip_count: long (nullable = false)\n",
      " |-- non_precip_count: long (nullable = false)\n",
      " |-- morning_count: long (nullable = false)\n",
      " |-- afternoon_count: long (nullable = false)\n",
      " |-- evening_count: long (nullable = false)\n",
      " |-- night_count: long (nullable = false)\n",
      " |-- zipcodes: string (nullable = true)\n",
      " |-- trip_count_by_zip: long (nullable = false)\n",
      "\n"
     ]
    }
   ],
   "source": [
    "#Schema\n",
    "df.printSchema()"
   ]
  },
  {
   "cell_type": "code",
   "execution_count": 75,
   "metadata": {},
   "outputs": [
    {
     "data": {
      "text/plain": [
       "115"
      ]
     },
     "execution_count": 75,
     "metadata": {},
     "output_type": "execute_result"
    }
   ],
   "source": [
    "#Count of df - to be used to model\n",
    "df.count()"
   ]
  },
  {
   "cell_type": "markdown",
   "metadata": {},
   "source": [
    "#### Create pipeline"
   ]
  },
  {
   "cell_type": "code",
   "execution_count": 11,
   "metadata": {},
   "outputs": [
    {
     "data": {
      "text/plain": [
       "['avg_median_sales_price_by_zip',\n",
       " 'avg_sales_rent_ratio_by_zip',\n",
       " 'std_of_avg_sales_rent_ratio_by_zip',\n",
       " 'avg_crowDist',\n",
       " 'std_crowDist',\n",
       " 'avg_feels_like',\n",
       " 'std_feels_like',\n",
       " 'avg_humidity',\n",
       " 'std_humidity',\n",
       " 'avg_wind_speed',\n",
       " 'std_wind_speed',\n",
       " 'avg_tripduration',\n",
       " 'std_tripduration',\n",
       " 'clouds_count',\n",
       " 'no_clouds_count',\n",
       " 'peak_count',\n",
       " 'non_peak_count',\n",
       " 'precip_count',\n",
       " 'non_precip_count',\n",
       " 'morning_count',\n",
       " 'afternoon_count',\n",
       " 'evening_count',\n",
       " 'night_count',\n",
       " 'trip_count_by_zip']"
      ]
     },
     "execution_count": 11,
     "metadata": {},
     "output_type": "execute_result"
    }
   ],
   "source": [
    "#Get numeric columns\n",
    "num_feat = [i[0] for i in df.dtypes if i[1] != \"string\"]\n",
    "num_feat"
   ]
  },
  {
   "cell_type": "code",
   "execution_count": 12,
   "metadata": {},
   "outputs": [],
   "source": [
    "#PIPELINE indexer-standard scalar\n",
    "#indexer = StringIndexer(inputCol=\"zipcodes\", outputCol=\"zips_indexed\")\n",
    "\n",
    "#encoder = OneHotEncoder(inputCol=indexer.getOutputCol(), outputCol=\"zips_encoded\")\n",
    "\n",
    "assembler = VectorAssembler(inputCols=list((set(num_feat)-set([\"avg_median_sales_price_by_zip\"]))), outputCol=\"vectorized_features\")\n",
    "\n",
    "standardScaler = StandardScaler(inputCol=assembler.getOutputCol(), outputCol=\"features\")\n",
    "\n",
    "#pipeline\n",
    "pipeline = Pipeline(stages=[assembler] + [standardScaler])\n",
    "model = pipeline.fit(df)\n",
    "df_tr = model.transform(df)"
   ]
  },
  {
   "cell_type": "code",
   "execution_count": 24,
   "metadata": {},
   "outputs": [
    {
     "name": "stdout",
     "output_type": "stream",
     "text": [
      "+-----------------------------+---------------------------+----------------------------------+------------------+------------------+-----------------+------------------+------------------+------------------+------------------+------------------+------------------+------------------+------------+---------------+----------+--------------+------------+----------------+-------------+---------------+-------------+-----------+--------+-----------------+--------------------+--------------------+\n",
      "|avg_median_sales_price_by_zip|avg_sales_rent_ratio_by_zip|std_of_avg_sales_rent_ratio_by_zip|      avg_crowDist|      std_crowDist|   avg_feels_like|    std_feels_like|      avg_humidity|      std_humidity|    avg_wind_speed|    std_wind_speed|  avg_tripduration|  std_tripduration|clouds_count|no_clouds_count|peak_count|non_peak_count|precip_count|non_precip_count|morning_count|afternoon_count|evening_count|night_count|zipcodes|trip_count_by_zip| vectorized_features|            features|\n",
      "+-----------------------------+---------------------------+----------------------------------+------------------+------------------+-----------------+------------------+------------------+------------------+------------------+------------------+------------------+------------------+------------+---------------+----------+--------------+------------+----------------+-------------+---------------+-------------+-----------+--------+-----------------+--------------------+--------------------+\n",
      "|            1068641.885893128|          0.388636546882057|               0.10708975241988583|1.4846179236562407| 1.139525387971124|54.73394834860131|20.261017656707843| 61.41156007492641|20.775352076978333|2.7423746434445917|1.3742972846052157|1076.3892814238295|7734.1111679418855|       87530|             91|     77729|         97910|       34271|          141368|        61809|          55184|        49766|       8880|     100|           175639|[54.7339483486013...|[14.2436209903998...|\n",
      "|           1077368.6299881246|        0.42813930570472897|               0.10500175191751188|1.1843674121421317|0.9968191903382502|58.76975875318749|  20.7153728389609|61.621489747549106|20.306089100052095|2.7591613549033505|1.3828942916127214| 1334.519234567458| 7802.171328361563|      107528|             73|     86145|        136631|       43849|          178927|        46359|          86969|        76868|      12580|   10000|           222776|[58.7697587531874...|[15.2938750927700...|\n",
      "+-----------------------------+---------------------------+----------------------------------+------------------+------------------+-----------------+------------------+------------------+------------------+------------------+------------------+------------------+------------------+------------+---------------+----------+--------------+------------+----------------+-------------+---------------+-------------+-----------+--------+-----------------+--------------------+--------------------+\n",
      "only showing top 2 rows\n",
      "\n"
     ]
    }
   ],
   "source": [
    "#Inspect\n",
    "df_tr.show(2)"
   ]
  },
  {
   "cell_type": "markdown",
   "metadata": {},
   "source": [
    "#### Train/test split"
   ]
  },
  {
   "cell_type": "code",
   "execution_count": 13,
   "metadata": {},
   "outputs": [],
   "source": [
    "#Train/test split\n",
    "train, test = df_tr.randomSplit([0.7,0.3], seed=2021)"
   ]
  },
  {
   "cell_type": "markdown",
   "metadata": {},
   "source": [
    "## Linear Regression Base Model - NOT tuned"
   ]
  },
  {
   "cell_type": "code",
   "execution_count": 14,
   "metadata": {},
   "outputs": [],
   "source": [
    "#Fit log reg - Base model, un-tuned\n",
    "from pyspark.ml.regression import LinearRegression\n",
    "lr = LinearRegression(labelCol='avg_median_sales_price_by_zip', featuresCol='features', maxIter=3)\n",
    "lrModel = lr.fit(train)\n",
    "predictions = lrModel.transform(test)"
   ]
  },
  {
   "cell_type": "code",
   "execution_count": 15,
   "metadata": {},
   "outputs": [
    {
     "name": "stdout",
     "output_type": "stream",
     "text": [
      "Coefficients: [6073.794661734495,3591.330687520557,-9442.851067524361,12504.567743138636,4161.821538564498,-9854.21032044762,3633.072248370087,-2269.5728221294016,3872.82740564915,-59566.8914631443,6792.09483970928,4049.194083626298,32586.148344187794,4137.222815420183,-3550.812328345512,10363.153871370065,4549.007611262373,2208.1979669202296,3803.6847591023393,-29754.56312586407,13570.910536101124,-20796.23501527694,2012.3903402215124]\n",
      "Intercept: 1594964.886301717\n"
     ]
    }
   ],
   "source": [
    "#Inspect Coef and Intercept\n",
    "print(\"Coefficients: \" + str(lrModel.coefficients))\n",
    "print(\"Intercept: \" + str(lrModel.intercept))"
   ]
  },
  {
   "cell_type": "code",
   "execution_count": 16,
   "metadata": {},
   "outputs": [
    {
     "name": "stdout",
     "output_type": "stream",
     "text": [
      "RMSE: 115283.46860195797\n",
      "r2: 0.4695109860532617\n"
     ]
    }
   ],
   "source": [
    "#Train RMSE and R^2\n",
    "trainingSummary = lrModel.summary\n",
    "print(\"RMSE: \" + str(trainingSummary.rootMeanSquaredError))\n",
    "print(\"r2: \" + str(trainingSummary.r2)) #0.4695 train"
   ]
  },
  {
   "cell_type": "code",
   "execution_count": 29,
   "metadata": {},
   "outputs": [
    {
     "data": {
      "text/html": [
       "<div>\n",
       "<style scoped>\n",
       "    .dataframe tbody tr th:only-of-type {\n",
       "        vertical-align: middle;\n",
       "    }\n",
       "\n",
       "    .dataframe tbody tr th {\n",
       "        vertical-align: top;\n",
       "    }\n",
       "\n",
       "    .dataframe thead th {\n",
       "        text-align: right;\n",
       "    }\n",
       "</style>\n",
       "<table border=\"1\" class=\"dataframe\">\n",
       "  <thead>\n",
       "    <tr style=\"text-align: right;\">\n",
       "      <th></th>\n",
       "      <th>prediction</th>\n",
       "      <th>avg_median_sales_price_by_zip</th>\n",
       "    </tr>\n",
       "  </thead>\n",
       "  <tbody>\n",
       "    <tr>\n",
       "      <th>0</th>\n",
       "      <td>1.075212e+06</td>\n",
       "      <td>1.075142e+06</td>\n",
       "    </tr>\n",
       "    <tr>\n",
       "      <th>1</th>\n",
       "      <td>1.084568e+06</td>\n",
       "      <td>1.076856e+06</td>\n",
       "    </tr>\n",
       "    <tr>\n",
       "      <th>2</th>\n",
       "      <td>1.004292e+06</td>\n",
       "      <td>1.075421e+06</td>\n",
       "    </tr>\n",
       "    <tr>\n",
       "      <th>3</th>\n",
       "      <td>9.986049e+05</td>\n",
       "      <td>1.068129e+06</td>\n",
       "    </tr>\n",
       "    <tr>\n",
       "      <th>4</th>\n",
       "      <td>1.104778e+06</td>\n",
       "      <td>1.051391e+06</td>\n",
       "    </tr>\n",
       "  </tbody>\n",
       "</table>\n",
       "</div>"
      ],
      "text/plain": [
       "     prediction  avg_median_sales_price_by_zip\n",
       "0  1.075212e+06                   1.075142e+06\n",
       "1  1.084568e+06                   1.076856e+06\n",
       "2  1.004292e+06                   1.075421e+06\n",
       "3  9.986049e+05                   1.068129e+06\n",
       "4  1.104778e+06                   1.051391e+06"
      ]
     },
     "execution_count": 29,
     "metadata": {},
     "output_type": "execute_result"
    }
   ],
   "source": [
    "#Predictions\n",
    "predictions.select(\"prediction\",\"avg_median_sales_price_by_zip\").toPandas().head()"
   ]
  },
  {
   "cell_type": "code",
   "execution_count": 17,
   "metadata": {},
   "outputs": [
    {
     "name": "stdout",
     "output_type": "stream",
     "text": [
      "R Squared (R2) on test data: 0.3575109314290945\n",
      "Root Mean Squared Error (RMSE) on test data: 126482.78682174077\n"
     ]
    }
   ],
   "source": [
    "#Evaluate on TEST data - R2 and RMSE\n",
    "evaluator = RegressionEvaluator(predictionCol=\"prediction\", labelCol=\"avg_median_sales_price_by_zip\",metricName=\"r2\")\n",
    "print(\"R Squared (R2) on test data: \" + str(evaluator.evaluate(predictions))) #0.357 - test\n",
    "test_result = lrModel.evaluate(test)\n",
    "print(\"Root Mean Squared Error (RMSE) on test data: \" + str(test_result.rootMeanSquaredError))  #126482"
   ]
  },
  {
   "cell_type": "code",
   "execution_count": 18,
   "metadata": {},
   "outputs": [
    {
     "name": "stdout",
     "output_type": "stream",
     "text": [
      "numIterations: 4\n",
      "objectiveHistory: [0.5000000000000036, 0.3434531501082567, 0.315237789256134, 0.26524450697336377]\n"
     ]
    }
   ],
   "source": [
    "#Iteration and objective history\n",
    "print(\"numIterations: \" + str(trainingSummary.totalIterations))\n",
    "print(\"objectiveHistory: \" + str(trainingSummary.objectiveHistory))"
   ]
  },
  {
   "cell_type": "markdown",
   "metadata": {},
   "source": [
    "#### Tune with Cross Validation"
   ]
  },
  {
   "cell_type": "code",
   "execution_count": 19,
   "metadata": {},
   "outputs": [],
   "source": [
    "#Change response varaible to 'label'\n",
    "df_tr_2 = df_tr.withColumnRenamed('avg_median_sales_price_by_zip', 'label')\n",
    "#Train/test split\n",
    "train, test = df_tr_2.randomSplit([0.7,0.3], seed=2021)"
   ]
  },
  {
   "cell_type": "markdown",
   "metadata": {},
   "source": [
    "## Linear Regression Base Model (Tuned)"
   ]
  },
  {
   "cell_type": "code",
   "execution_count": 26,
   "metadata": {},
   "outputs": [],
   "source": [
    "#Tune with CV - Base ModelLinear Regression tuned \n",
    "from pyspark.ml.tuning import ParamGridBuilder, CrossValidator\n",
    "\n",
    "#Linear regression model\n",
    "lr = LinearRegression()\n",
    "\n",
    "#Paramgrid\n",
    "paramGrid = (ParamGridBuilder()\n",
    "             .addGrid(lr.regParam, [0.01, 0.5, 2.0]) #regularization param\n",
    "             .addGrid(lr.elasticNetParam, [0.0, 0.5, 1.0]) #Ridge=0, lasso=1.0\n",
    "             .addGrid(lr.maxIter, [1, 5, 10]) #maxIter\n",
    "             .build())\n",
    "\n",
    "\n",
    "\n",
    "#10 fold cross validation\n",
    "cv = CrossValidator(estimator=lr, estimatorParamMaps = paramGrid, evaluator=RegressionEvaluator(), numFolds=10)"
   ]
  },
  {
   "cell_type": "code",
   "execution_count": 27,
   "metadata": {},
   "outputs": [],
   "source": [
    "#fit model\n",
    "cvModel = cv.fit(train)"
   ]
  },
  {
   "cell_type": "code",
   "execution_count": 28,
   "metadata": {},
   "outputs": [],
   "source": [
    "#Predictions\n",
    "tune_preds = cvModel.transform(test)"
   ]
  },
  {
   "cell_type": "code",
   "execution_count": 29,
   "metadata": {},
   "outputs": [
    {
     "name": "stdout",
     "output_type": "stream",
     "text": [
      "R Squared (R2) on test data : 0.5368528250602833\n",
      "RMSE on test data : 107388.57119924371\n"
     ]
    }
   ],
   "source": [
    "# Evaluating metrics\n",
    "eval_rmse = RegressionEvaluator(metricName=\"rmse\")\n",
    "eval_r2 = RegressionEvaluator(metricName=\"r2\")\n",
    "best_rmse = eval_rmse.evaluate(tune_preds)\n",
    "best_r2 = eval_r2.evaluate(tune_preds)\n",
    "print(\"R Squared (R2) on test data : \" + str(best_r2)) #0.53685\n",
    "print(\"RMSE on test data : \" + str(best_rmse)) #107388"
   ]
  },
  {
   "cell_type": "code",
   "execution_count": 30,
   "metadata": {},
   "outputs": [
    {
     "name": "stdout",
     "output_type": "stream",
     "text": [
      "Best model regularlization parameter:  0.5\n",
      "Best model elastic net parameter:  1.0\n",
      "Best model iteration:  10\n"
     ]
    }
   ],
   "source": [
    "#Best model paramaters\n",
    "bm = cvModel.bestModel\n",
    "\n",
    "print(\"Best model regularlization parameter: \", bm._java_obj.getRegParam())\n",
    "print(\"Best model elastic net parameter: \", bm._java_obj.getElasticNetParam()) #lasso\n",
    "print(\"Best model iteration: \", bm._java_obj.getMaxIter())"
   ]
  },
  {
   "cell_type": "code",
   "execution_count": 32,
   "metadata": {},
   "outputs": [],
   "source": [
    "#Model Feature weights\n",
    "best_coef = bm.coefficients"
   ]
  },
  {
   "cell_type": "code",
   "execution_count": 43,
   "metadata": {},
   "outputs": [],
   "source": [
    "#Get list of importances and sort and take top 10\n",
    "lis = []\n",
    "for i in best_coef:\n",
    "    lis.append(i)\n",
    "output = list(zip(lis, num_feat[1:]))\n",
    "output = sorted(output, key=lambda x: x[0], reverse=True)\n",
    "#The weights were numpy-float64 so I needed to change its type to be able to create spark df\n",
    "output = [(float(x[0]), x[1]) for x in output]"
   ]
  },
  {
   "cell_type": "code",
   "execution_count": 45,
   "metadata": {},
   "outputs": [],
   "source": [
    "#get DF\n",
    "schema = StructType([\n",
    "    StructField(\"weight\", DoubleType(), True),\n",
    "    StructField(\"name\", StringType(), True)\n",
    "])\n",
    "df_ticks = spark.createDataFrame(output, schema).toPandas()"
   ]
  },
  {
   "cell_type": "code",
   "execution_count": 56,
   "metadata": {},
   "outputs": [
    {
     "data": {
      "text/html": [
       "<div>\n",
       "<style scoped>\n",
       "    .dataframe tbody tr th:only-of-type {\n",
       "        vertical-align: middle;\n",
       "    }\n",
       "\n",
       "    .dataframe tbody tr th {\n",
       "        vertical-align: top;\n",
       "    }\n",
       "\n",
       "    .dataframe thead th {\n",
       "        text-align: right;\n",
       "    }\n",
       "</style>\n",
       "<table border=\"1\" class=\"dataframe\">\n",
       "  <thead>\n",
       "    <tr style=\"text-align: right;\">\n",
       "      <th></th>\n",
       "      <th>weight</th>\n",
       "      <th>name</th>\n",
       "    </tr>\n",
       "  </thead>\n",
       "  <tbody>\n",
       "    <tr>\n",
       "      <th>0</th>\n",
       "      <td>53118.463092</td>\n",
       "      <td>trip_count_by_zip</td>\n",
       "    </tr>\n",
       "    <tr>\n",
       "      <th>1</th>\n",
       "      <td>44647.188221</td>\n",
       "      <td>std_crowDist</td>\n",
       "    </tr>\n",
       "    <tr>\n",
       "      <th>2</th>\n",
       "      <td>41089.079957</td>\n",
       "      <td>clouds_count</td>\n",
       "    </tr>\n",
       "    <tr>\n",
       "      <th>3</th>\n",
       "      <td>25624.321800</td>\n",
       "      <td>avg_crowDist</td>\n",
       "    </tr>\n",
       "    <tr>\n",
       "      <th>4</th>\n",
       "      <td>18741.281632</td>\n",
       "      <td>evening_count</td>\n",
       "    </tr>\n",
       "    <tr>\n",
       "      <th>5</th>\n",
       "      <td>17340.132831</td>\n",
       "      <td>avg_tripduration</td>\n",
       "    </tr>\n",
       "    <tr>\n",
       "      <th>6</th>\n",
       "      <td>16800.841775</td>\n",
       "      <td>avg_sales_rent_ratio_by_zip</td>\n",
       "    </tr>\n",
       "    <tr>\n",
       "      <th>7</th>\n",
       "      <td>9960.431599</td>\n",
       "      <td>non_peak_count</td>\n",
       "    </tr>\n",
       "    <tr>\n",
       "      <th>8</th>\n",
       "      <td>7591.456175</td>\n",
       "      <td>precip_count</td>\n",
       "    </tr>\n",
       "    <tr>\n",
       "      <th>9</th>\n",
       "      <td>7157.125293</td>\n",
       "      <td>no_clouds_count</td>\n",
       "    </tr>\n",
       "    <tr>\n",
       "      <th>10</th>\n",
       "      <td>6926.802061</td>\n",
       "      <td>avg_feels_like</td>\n",
       "    </tr>\n",
       "    <tr>\n",
       "      <th>11</th>\n",
       "      <td>5798.738564</td>\n",
       "      <td>avg_wind_speed</td>\n",
       "    </tr>\n",
       "    <tr>\n",
       "      <th>12</th>\n",
       "      <td>5253.042558</td>\n",
       "      <td>morning_count</td>\n",
       "    </tr>\n",
       "    <tr>\n",
       "      <th>13</th>\n",
       "      <td>5013.226307</td>\n",
       "      <td>std_tripduration</td>\n",
       "    </tr>\n",
       "    <tr>\n",
       "      <th>14</th>\n",
       "      <td>4233.338930</td>\n",
       "      <td>avg_humidity</td>\n",
       "    </tr>\n",
       "    <tr>\n",
       "      <th>15</th>\n",
       "      <td>0.000000</td>\n",
       "      <td>non_precip_count</td>\n",
       "    </tr>\n",
       "    <tr>\n",
       "      <th>16</th>\n",
       "      <td>-9066.565711</td>\n",
       "      <td>std_feels_like</td>\n",
       "    </tr>\n",
       "    <tr>\n",
       "      <th>17</th>\n",
       "      <td>-19665.498470</td>\n",
       "      <td>std_of_avg_sales_rent_ratio_by_zip</td>\n",
       "    </tr>\n",
       "    <tr>\n",
       "      <th>18</th>\n",
       "      <td>-21030.673202</td>\n",
       "      <td>std_humidity</td>\n",
       "    </tr>\n",
       "    <tr>\n",
       "      <th>19</th>\n",
       "      <td>-22285.123621</td>\n",
       "      <td>peak_count</td>\n",
       "    </tr>\n",
       "    <tr>\n",
       "      <th>20</th>\n",
       "      <td>-40169.369177</td>\n",
       "      <td>afternoon_count</td>\n",
       "    </tr>\n",
       "    <tr>\n",
       "      <th>21</th>\n",
       "      <td>-46849.773584</td>\n",
       "      <td>night_count</td>\n",
       "    </tr>\n",
       "    <tr>\n",
       "      <th>22</th>\n",
       "      <td>-87827.760397</td>\n",
       "      <td>std_wind_speed</td>\n",
       "    </tr>\n",
       "  </tbody>\n",
       "</table>\n",
       "</div>"
      ],
      "text/plain": [
       "          weight                                name\n",
       "0   53118.463092                   trip_count_by_zip\n",
       "1   44647.188221                        std_crowDist\n",
       "2   41089.079957                        clouds_count\n",
       "3   25624.321800                        avg_crowDist\n",
       "4   18741.281632                       evening_count\n",
       "5   17340.132831                    avg_tripduration\n",
       "6   16800.841775         avg_sales_rent_ratio_by_zip\n",
       "7    9960.431599                      non_peak_count\n",
       "8    7591.456175                        precip_count\n",
       "9    7157.125293                     no_clouds_count\n",
       "10   6926.802061                      avg_feels_like\n",
       "11   5798.738564                      avg_wind_speed\n",
       "12   5253.042558                       morning_count\n",
       "13   5013.226307                    std_tripduration\n",
       "14   4233.338930                        avg_humidity\n",
       "15      0.000000                    non_precip_count\n",
       "16  -9066.565711                      std_feels_like\n",
       "17 -19665.498470  std_of_avg_sales_rent_ratio_by_zip\n",
       "18 -21030.673202                        std_humidity\n",
       "19 -22285.123621                          peak_count\n",
       "20 -40169.369177                     afternoon_count\n",
       "21 -46849.773584                         night_count\n",
       "22 -87827.760397                      std_wind_speed"
      ]
     },
     "execution_count": 56,
     "metadata": {},
     "output_type": "execute_result"
    }
   ],
   "source": [
    "#inspect\n",
    "df_ticks"
   ]
  },
  {
   "cell_type": "code",
   "execution_count": 61,
   "metadata": {},
   "outputs": [
    {
     "data": {
      "image/png": "[encoded data removed]",
      "text/plain": [
       "<Figure size 4000x1000 with 1 Axes>"
      ]
     },
     "metadata": {},
     "output_type": "display_data"
    }
   ],
   "source": [
    "#plot of Feature Importance - need to work on graph look\n",
    "plt.rcParams[\"figure.figsize\"] = (40, 10)\n",
    "plt.bar(df_ticks[\"name\"], df_ticks[\"weight\"], orientation = 'vertical')\n",
    "plt.ylabel('Name')\n",
    "plt.xlabel('Feature')\n",
    "plt.title('Feature Importance')\n",
    "plt.show()"
   ]
  },
  {
   "cell_type": "markdown",
   "metadata": {},
   "source": [
    "Trip count and standarad deviation of crowDist look to be most imporant features. Non-peak trips add no value to the model."
   ]
  },
  {
   "cell_type": "markdown",
   "metadata": {},
   "source": [
    "---"
   ]
  },
  {
   "cell_type": "markdown",
   "metadata": {},
   "source": [
    "---"
   ]
  },
  {
   "cell_type": "markdown",
   "metadata": {},
   "source": [
    "# Random Forest Regression w/ All variables"
   ]
  },
  {
   "cell_type": "code",
   "execution_count": 5,
   "metadata": {},
   "outputs": [],
   "source": [
    "#Load Libraries\n",
    "from pyspark.ml.regression import RandomForestRegressor"
   ]
  },
  {
   "cell_type": "code",
   "execution_count": 6,
   "metadata": {},
   "outputs": [
    {
     "data": {
      "text/plain": [
       "['Borough',\n",
       " 'month_year',\n",
       " 'startStationId',\n",
       " 'startStationName',\n",
       " 'startStationLatitude',\n",
       " 'startStationLongitude',\n",
       " 'date',\n",
       " 'hour',\n",
       " 'tripduration',\n",
       " 'starttime',\n",
       " 'endStationId',\n",
       " 'endStationName',\n",
       " 'endStationLatitude',\n",
       " 'endStationLongitude',\n",
       " 'bikeid',\n",
       " 'usertype',\n",
       " 'birthyear',\n",
       " 'gender',\n",
       " 'temp',\n",
       " 'feels_like',\n",
       " 'temp_min',\n",
       " 'temp_max',\n",
       " 'pressure',\n",
       " 'humidity',\n",
       " 'wind_speed',\n",
       " 'rain_1h',\n",
       " 'rain_3h',\n",
       " 'snow_1h',\n",
       " 'snow_3h',\n",
       " 'clouds_all',\n",
       " 'weather_main',\n",
       " 'dow',\n",
       " 'day',\n",
       " 'month',\n",
       " 'time_bin',\n",
       " 'peak_commute',\n",
       " 'year',\n",
       " '3h_precip',\n",
       " '1h_precip',\n",
       " 'precip',\n",
       " 'start_lat_long',\n",
       " 'end_lat_long',\n",
       " 'zipcodes',\n",
       " 'avg_days_on_market',\n",
       " 'avg_discount_share',\n",
       " 'avg_median_sales_price',\n",
       " 'avg_median_asking_sale',\n",
       " 'avg_median_asking_rent',\n",
       " 'avg_price_cut_share',\n",
       " 'avg_sales_volume',\n",
       " 'avg_sales_inventory',\n",
       " 'avg_rent_inventory',\n",
       " 'avg_sales_list_ratio',\n",
       " 'crowDist',\n",
       " 'sales_rent_inventory_ratio']"
      ]
     },
     "execution_count": 6,
     "metadata": {},
     "output_type": "execute_result"
    }
   ],
   "source": [
    "#get column names\n",
    "data.columns"
   ]
  },
  {
   "cell_type": "code",
   "execution_count": 6,
   "metadata": {},
   "outputs": [
    {
     "name": "stdout",
     "output_type": "stream",
     "text": [
      "+------------+--------------------+---------------------+------------------+-------------------+----------+------+----------+--------+--------+--------+--------+----------+-------+-------+-------+-------+----------+------------+--------+------------+---------+---------+---------+--------+----------------------+----------------+--------------------------+\n",
      "|tripduration|startStationLatitude|startStationLongitude|endStationLatitude|endStationLongitude|  usertype|  temp|feels_like|temp_min|temp_max|pressure|humidity|wind_speed|rain_1h|rain_3h|snow_1h|snow_3h|clouds_all|weather_main|time_bin|peak_commute|3h_precip|1h_precip|   precip|zipcodes|avg_median_sales_price|        crowDist|sales_rent_inventory_ratio|\n",
      "+------------+--------------------+---------------------+------------------+-------------------+----------+------+----------+--------+--------+--------+--------+----------+-------+-------+-------+-------+----------+------------+--------+------------+---------+---------+---------+--------+----------------------+----------------+--------------------------+\n",
      "|        1062|   40.67927879999999|         -73.98154004| 40.67927879999999|       -73.98154004|  Customer|64.292|     57.38|  62.006|  62.006|    1018|      43|      3.93|    0.0|    0.0|    0.0|    0.0|         1|       Clear|   Night|    non_peak|      0.0|      0.0|no_precip|   11217|     854338.1216332259|             0.0|       0.24110349330721517|\n",
      "|        3810|           40.693261|           -73.968896|       40.73047747|       -73.99906065|Subscriber|64.292|     57.38|  62.006|  62.006|    1018|      43|      3.93|    0.0|    0.0|    0.0|    0.0|         1|       Clear|   Night|    non_peak|      0.0|      0.0|no_precip|   11205|     854338.1216332259|3.02116973218692|       0.24110349330721517|\n",
      "+------------+--------------------+---------------------+------------------+-------------------+----------+------+----------+--------+--------+--------+--------+----------+-------+-------+-------+-------+----------+------------+--------+------------+---------+---------+---------+--------+----------------------+----------------+--------------------------+\n",
      "only showing top 2 rows\n",
      "\n"
     ]
    }
   ],
   "source": [
    "# retain these predictors\n",
    "vars_to_keep = ['tripduration',\n",
    "                'startStationLatitude',\n",
    "                'startStationLongitude',\n",
    "                'endStationLatitude',\n",
    "                'endStationLongitude',\n",
    "                'usertype',\n",
    "                'temp',\n",
    "                'feels_like',\n",
    "                'temp_min',\n",
    "                'temp_max',\n",
    "                'pressure',\n",
    "                'humidity',\n",
    "                'wind_speed',\n",
    "                'rain_1h',\n",
    "                'rain_3h',\n",
    "                'snow_1h',\n",
    "                'snow_3h',\n",
    "                'clouds_all',\n",
    "                'weather_main',\n",
    "                'time_bin',\n",
    "                'peak_commute',\n",
    "                '3h_precip',\n",
    "                '1h_precip',\n",
    "                'precip',\n",
    "                'zipcodes',\n",
    "                'avg_median_sales_price',\n",
    "                'crowDist',\n",
    "                'sales_rent_inventory_ratio']\n",
    "\n",
    "# subset the dataframe on these predictors\n",
    "df_rf = data[vars_to_keep]\n",
    "df_rf.show(2)"
   ]
  },
  {
   "cell_type": "code",
   "execution_count": 8,
   "metadata": {},
   "outputs": [
    {
     "name": "stdout",
     "output_type": "stream",
     "text": [
      "root\n",
      " |-- tripduration: long (nullable = true)\n",
      " |-- startStationLatitude: double (nullable = true)\n",
      " |-- startStationLongitude: double (nullable = true)\n",
      " |-- endStationLatitude: double (nullable = true)\n",
      " |-- endStationLongitude: double (nullable = true)\n",
      " |-- usertype: string (nullable = true)\n",
      " |-- temp: double (nullable = true)\n",
      " |-- feels_like: double (nullable = true)\n",
      " |-- temp_min: double (nullable = true)\n",
      " |-- temp_max: double (nullable = true)\n",
      " |-- pressure: long (nullable = true)\n",
      " |-- humidity: long (nullable = true)\n",
      " |-- wind_speed: double (nullable = true)\n",
      " |-- rain_1h: double (nullable = true)\n",
      " |-- rain_3h: double (nullable = true)\n",
      " |-- snow_1h: double (nullable = true)\n",
      " |-- snow_3h: double (nullable = true)\n",
      " |-- clouds_all: long (nullable = true)\n",
      " |-- weather_main: string (nullable = true)\n",
      " |-- time_bin: string (nullable = true)\n",
      " |-- peak_commute: string (nullable = true)\n",
      " |-- 3h_precip: double (nullable = true)\n",
      " |-- 1h_precip: double (nullable = true)\n",
      " |-- precip: string (nullable = true)\n",
      " |-- zipcodes: string (nullable = true)\n",
      " |-- avg_median_sales_price: double (nullable = true)\n",
      " |-- crowDist: double (nullable = true)\n",
      " |-- sales_rent_inventory_ratio: double (nullable = true)\n",
      "\n"
     ]
    }
   ],
   "source": [
    "#print schema\n",
    "df_rf.printSchema()"
   ]
  },
  {
   "cell_type": "code",
   "execution_count": 7,
   "metadata": {},
   "outputs": [],
   "source": [
    "#Slice into grouped data\n",
    "grouped_data = df_rf.groupby(\"zipcodes\")\n",
    "agg_data = grouped_data.agg(F.avg(\"avg_median_sales_price\").alias(\"avg_median_sales_price_by_zip\"),\n",
    "                 F.avg(\"sales_rent_inventory_ratio\").alias(\"avg_sales_rent_ratio_by_zip\"),\n",
    "                 F.stddev(\"sales_rent_inventory_ratio\").alias(\"std_of_avg_sales_rent_ratio_by_zip\"),\n",
    "                 F.avg(\"crowDist\").alias(\"avg_crowDist\"),\n",
    "                 F.stddev(\"crowDist\").alias(\"std_crowDist\"), \n",
    "                 F.avg(\"startStationLatitude\").alias(\"avg_startStationLatitude\"),\n",
    "                 F.stddev(\"startStationLatitude\").alias(\"std_startStationLatitude\"), \n",
    "                 F.avg(\"startStationLongitude\").alias(\"avg_startStationLongitude\"),\n",
    "                 F.stddev(\"startStationLongitude\").alias(\"std_startStationLongitude\"),\n",
    "                 F.avg(\"endStationLatitude\").alias(\"avg_endStationLatitude\"),\n",
    "                 F.stddev(\"endStationLatitude\").alias(\"std_endStationLatitude\"),\n",
    "                 F.avg(\"endStationLongitude\").alias(\"avg_endStationLongitude\"),\n",
    "                 F.stddev(\"endStationLongitude\").alias(\"std_endStationLongitude\"),\n",
    "                 F.avg(\"temp\").alias(\"avg_temp\"),\n",
    "                 F.stddev(\"temp\").alias(\"std_temp\"),\n",
    "                 F.avg(\"temp_min\").alias(\"avg_temp_min\"),\n",
    "                 F.stddev(\"temp_min\").alias(\"std_temp_min\"), \n",
    "                 F.avg(\"temp_max\").alias(\"avg_temp_max\"),\n",
    "                 F.stddev(\"temp_max\").alias(\"std_temp_max\"), \n",
    "                 F.avg(\"feels_like\").alias(\"avg_feels_like\"),\n",
    "                 F.stddev(\"feels_like\").alias(\"std_feels_like\"),\n",
    "                 F.avg(\"pressure\").alias(\"avg_pressure\"),\n",
    "                 F.stddev(\"pressure\").alias(\"std_pressure\"), \n",
    "                 F.avg(\"humidity\").alias(\"avg_humidity\"),\n",
    "                 F.stddev(\"humidity\").alias(\"std_humidity\"),\n",
    "                 F.avg(\"wind_speed\").alias(\"avg_wind_speed\"),\n",
    "                 F.stddev(\"wind_speed\").alias(\"std_wind_speed\"),\n",
    "                 F.avg(\"tripduration\").alias(\"avg_tripduration\"),\n",
    "                 F.stddev(\"tripduration\").alias(\"std_tripduration\"),\n",
    "                 F.count(when(df_rf.usertype == \"Customer\", lit(1))).alias(\"customer_count\"),\n",
    "                 F.count(when(df_rf.usertype == \"Subscriber\", lit(1))).alias(\"subscriber_count\"),\n",
    "                 F.count(when(df_rf.usertype == \"member\", lit(1))).alias(\"member_count\"),\n",
    "                 F.count(when(df_rf.clouds_all == 1, lit(1))).alias(\"clouds_count\"),\n",
    "                 F.count(when(df_rf.clouds_all == 0, lit(1))).alias(\"no_clouds_count\"),\n",
    "                 F.count(when(df_rf.peak_commute == \"peak\", lit(1))).alias(\"peak_count\"),\n",
    "                 F.count(when(df_rf.peak_commute == \"non_peak\", lit(1))).alias(\"non_peak_count\"),\n",
    "                 F.count(when(df_rf.precip == \"precip\", lit(1))).alias(\"precip_count\"),\n",
    "                 F.count(when(df_rf.precip == \"no_precip\", lit(1))).alias(\"non_precip_count\"),\n",
    "                 F.count(when(df_rf[\"1h_precip\"] == 1.0, lit(1))).alias(\"1h_precip_count\"),\n",
    "                 F.count(when(df_rf[\"1h_precip\"] == 0.0, lit(1))).alias(\"non_1h_precip_count\"),\n",
    "                 F.count(when(df_rf[\"3h_precip\"] == 1.0, lit(1))).alias(\"3h_precip_count\"),\n",
    "                 F.count(when(df_rf[\"3h_precip\"] == 0.0, lit(1))).alias(\"non_3h_precip_count\"),\n",
    "                 F.count(when(df_rf[\"rain_1h\"] == 1.0, lit(1))).alias(\"rain_1h_count\"),\n",
    "                 F.count(when(df_rf[\"rain_1h\"] == 0.0, lit(1))).alias(\"non_rain_1h_count\"),\n",
    "                 F.count(when(df_rf[\"rain_3h\"] == 1.0, lit(1))).alias(\"rain_3h_count\"),\n",
    "                 F.count(when(df_rf[\"rain_3h\"] == 0.0, lit(1))).alias(\"non_rain_3h_count\"),\n",
    "                 F.count(when(df_rf[\"snow_1h\"] == 1.0, lit(1))).alias(\"snow_1h_count\"),\n",
    "                 F.count(when(df_rf[\"snow_1h\"] == 0.0, lit(1))).alias(\"non_snow_1h_count\"),\n",
    "                 F.count(when(df_rf[\"snow_3h\"] == 1.0, lit(1))).alias(\"snow_3h_count\"),\n",
    "                 F.count(when(df_rf[\"snow_3h\"] == 0.0, lit(1))).alias(\"non_snow_3h_count\"),\n",
    "                 F.count(when(df_rf.weather_main == \"Thunderstorm\", lit(1))).alias(\"thunderstorm_count\"),\n",
    "                 F.count(when(df_rf.weather_main == \"Drizzle\", lit(1))).alias(\"drizzle_count\"),\n",
    "                 F.count(when(df_rf.weather_main == \"Fog\", lit(1))).alias(\"fog_count\"),\n",
    "                 F.count(when(df_rf.weather_main == \"Clear\", lit(1))).alias(\"clear_count\"),\n",
    "                 F.count(when(df_rf.weather_main == \"Mist\", lit(1))).alias(\"mist_count\"),\n",
    "                 F.count(when(df_rf.weather_main == \"Clouds\", lit(1))).alias(\"cloudy_day_count\"),\n",
    "                 F.count(when(df_rf.weather_main == \"Rain\", lit(1))).alias(\"rain_count\"),\n",
    "                 F.count(when(df_rf.weather_main == \"Snow\", lit(1))).alias(\"snow_count\"),\n",
    "                 F.count(when(df_rf.weather_main == \"Haze\", lit(1))).alias(\"haze_count\"),\n",
    "                 F.count(when(df_rf.time_bin == \"Morning\", lit(1))).alias(\"morning_count\"),\n",
    "                 F.count(when(df_rf.time_bin == \"Afternoon\", lit(1))).alias(\"afternoon_count\"),\n",
    "                 F.count(when(df_rf.time_bin == \"Evening\", lit(1))).alias(\"evening_count\"),\n",
    "                 F.count(when(df_rf.time_bin == \"Night\", lit(1))).alias(\"night_count\"))"
   ]
  },
  {
   "cell_type": "code",
   "execution_count": 8,
   "metadata": {},
   "outputs": [
    {
     "name": "stdout",
     "output_type": "stream",
     "text": [
      "+--------+------+\n",
      "|zipcodes| count|\n",
      "+--------+------+\n",
      "|   11205|288665|\n",
      "|   11106|332881|\n",
      "|   11251| 85721|\n",
      "+--------+------+\n",
      "only showing top 3 rows\n",
      "\n"
     ]
    }
   ],
   "source": [
    "#Get count of trips by zip\n",
    "cnt_trips = data.groupby(\"zipcodes\").count()\n",
    "cnt_trips.show(3)"
   ]
  },
  {
   "cell_type": "code",
   "execution_count": 9,
   "metadata": {},
   "outputs": [],
   "source": [
    "#Get dataframe with counts\n",
    "df_rf = agg_data.join(cnt_trips, agg_data.zipcodes==cnt_trips.zipcodes, how=\"inner\").drop(cnt_trips.zipcodes)\n",
    "df_rf = df_rf.orderBy(\"zipcodes\").withColumnRenamed(\"count\", \"trip_count_by_zip\")"
   ]
  },
  {
   "cell_type": "code",
   "execution_count": 49,
   "metadata": {},
   "outputs": [
    {
     "name": "stdout",
     "output_type": "stream",
     "text": [
      "+-----------------------------+---------------------------+----------------------------------+------------------+------------------+------------------------+------------------------+-------------------------+-------------------------+----------------------+----------------------+-----------------------+-----------------------+------------------+-----------------+-----------------+------------------+-----------------+------------------+-----------------+------------------+------------------+-----------------+------------------+------------------+------------------+------------------+------------------+------------------+--------------+----------------+------------+------------+---------------+----------+--------------+------------+----------------+---------------+-------------------+---------------+-------------------+-------------+-----------------+-------------+-----------------+-------------+-----------------+-------------+-----------------+------------------+-------------+---------+-----------+----------+----------------+----------+----------+----------+-------------+---------------+-------------+-----------+--------+-----------------+\n",
      "|avg_median_sales_price_by_zip|avg_sales_rent_ratio_by_zip|std_of_avg_sales_rent_ratio_by_zip|      avg_crowDist|      std_crowDist|avg_startStationLatitude|std_startStationLatitude|avg_startStationLongitude|std_startStationLongitude|avg_endStationLatitude|std_endStationLatitude|avg_endStationLongitude|std_endStationLongitude|          avg_temp|         std_temp|     avg_temp_min|      std_temp_min|     avg_temp_max|      std_temp_max|   avg_feels_like|    std_feels_like|      avg_pressure|     std_pressure|      avg_humidity|      std_humidity|    avg_wind_speed|    std_wind_speed|  avg_tripduration|  std_tripduration|customer_count|subscriber_count|member_count|clouds_count|no_clouds_count|peak_count|non_peak_count|precip_count|non_precip_count|1h_precip_count|non_1h_precip_count|3h_precip_count|non_3h_precip_count|rain_1h_count|non_rain_1h_count|rain_3h_count|non_rain_3h_count|snow_1h_count|non_snow_1h_count|snow_3h_count|non_snow_3h_count|thunderstorm_count|drizzle_count|fog_count|clear_count|mist_count|cloudy_day_count|rain_count|snow_count|haze_count|morning_count|afternoon_count|evening_count|night_count|zipcodes|trip_count_by_zip|\n",
      "+-----------------------------+---------------------------+----------------------------------+------------------+------------------+------------------------+------------------------+-------------------------+-------------------------+----------------------+----------------------+-----------------------+-----------------------+------------------+-----------------+-----------------+------------------+-----------------+------------------+-----------------+------------------+------------------+-----------------+------------------+------------------+------------------+------------------+------------------+------------------+--------------+----------------+------------+------------+---------------+----------+--------------+------------+----------------+---------------+-------------------+---------------+-------------------+-------------+-----------------+-------------+-----------------+-------------+-----------------+-------------+-----------------+------------------+-------------+---------+-----------+----------+----------------+----------+----------+----------+-------------+---------------+-------------+-----------+--------+-----------------+\n",
      "|            1068641.885893128|          0.388636546882057|               0.10708975241988583|1.4846179236562407| 1.139525387971124|      40.771040984887826|     7.98988425646029E-4|       -73.98871010008136|     9.867855502657345E-4|    40.761346324786835|  0.022008962516735783|     -73.98425564992581|   0.015712978771264305| 58.41642066966884|16.12678565005677|54.72146510171394|15.768590394250698|54.72146510171394|15.768590394250698|54.73394834860131|20.261017656707843|1016.8727674377559|7.697542041831096| 61.41156007492641|20.775352076978333|2.7423746434445917|1.3742972846052157|1076.3892814238295|7734.1111679418855|         19157|          119310|       37172|       87530|             91|     77729|         97910|       34271|          141368|            201|             146836|             61|             170296|          201|           147699|           76|           170416|           33|           173892|           48|           175416|                 3|            3|      254|      83274|     11351|           56491|     21797|      1117|      1349|        61809|          55184|        49766|       8880|     100|           175639|\n",
      "|           1077368.6299881246|        0.42813930570472897|               0.10500175191751188|1.1843674121421317|0.9968191903382502|      40.713395027877354|    0.001014281336708915|       -74.00393077337236|     0.001035836591517...|     40.71553157158986|  0.018818897178959695|      -73.9956105428184|   0.013768007238334556|61.637356322045086|16.30954627757736|58.10498352156461| 15.98422315532188|58.10498352156461| 15.98422315532188|58.76975875318749|  20.7153728389609|1017.0514238517615| 7.50628626339895|61.621489747549106|20.306089100052095|2.7591613549033505|1.3828942916127214| 1334.519234567458| 7802.171328361563|         71222|          137463|       14091|      107528|             73|     86145|        136631|       43849|          178927|            311|             186803|             77|             215925|          314|           187492|          104|           216097|           39|           221081|           45|           222452|                26|            1|      209|     100135|     13793|           76210|     28918|      1111|      2373|        46359|          86969|        76868|      12580|   10000|           222776|\n",
      "+-----------------------------+---------------------------+----------------------------------+------------------+------------------+------------------------+------------------------+-------------------------+-------------------------+----------------------+----------------------+-----------------------+-----------------------+------------------+-----------------+-----------------+------------------+-----------------+------------------+-----------------+------------------+------------------+-----------------+------------------+------------------+------------------+------------------+------------------+------------------+--------------+----------------+------------+------------+---------------+----------+--------------+------------+----------------+---------------+-------------------+---------------+-------------------+-------------+-----------------+-------------+-----------------+-------------+-----------------+-------------+-----------------+------------------+-------------+---------+-----------+----------+----------------+----------+----------+----------+-------------+---------------+-------------+-----------+--------+-----------------+\n",
      "only showing top 2 rows\n",
      "\n"
     ]
    }
   ],
   "source": [
    "#inspect\n",
    "df_rf.show(2)"
   ]
  },
  {
   "cell_type": "code",
   "execution_count": 50,
   "metadata": {},
   "outputs": [
    {
     "data": {
      "text/plain": [
       "115"
      ]
     },
     "execution_count": 50,
     "metadata": {},
     "output_type": "execute_result"
    }
   ],
   "source": [
    "#get count\n",
    "df_rf.count()"
   ]
  },
  {
   "cell_type": "code",
   "execution_count": 51,
   "metadata": {},
   "outputs": [
    {
     "name": "stdout",
     "output_type": "stream",
     "text": [
      "+-----------------------------+---------------------------+----------------------------------+------------+------------+------------------------+------------------------+-------------------------+-------------------------+----------------------+----------------------+-----------------------+-----------------------+--------+--------+------------+------------+------------+------------+--------------+--------------+------------+------------+------------+------------+--------------+--------------+----------------+----------------+--------------+----------------+------------+------------+---------------+----------+--------------+------------+----------------+---------------+-------------------+---------------+-------------------+-------------+-----------------+-------------+-----------------+-------------+-----------------+-------------+-----------------+------------------+-------------+---------+-----------+----------+----------------+----------+----------+----------+-------------+---------------+-------------+-----------+--------+-----------------+\n",
      "|avg_median_sales_price_by_zip|avg_sales_rent_ratio_by_zip|std_of_avg_sales_rent_ratio_by_zip|avg_crowDist|std_crowDist|avg_startStationLatitude|std_startStationLatitude|avg_startStationLongitude|std_startStationLongitude|avg_endStationLatitude|std_endStationLatitude|avg_endStationLongitude|std_endStationLongitude|avg_temp|std_temp|avg_temp_min|std_temp_min|avg_temp_max|std_temp_max|avg_feels_like|std_feels_like|avg_pressure|std_pressure|avg_humidity|std_humidity|avg_wind_speed|std_wind_speed|avg_tripduration|std_tripduration|customer_count|subscriber_count|member_count|clouds_count|no_clouds_count|peak_count|non_peak_count|precip_count|non_precip_count|1h_precip_count|non_1h_precip_count|3h_precip_count|non_3h_precip_count|rain_1h_count|non_rain_1h_count|rain_3h_count|non_rain_3h_count|snow_1h_count|non_snow_1h_count|snow_3h_count|non_snow_3h_count|thunderstorm_count|drizzle_count|fog_count|clear_count|mist_count|cloudy_day_count|rain_count|snow_count|haze_count|morning_count|afternoon_count|evening_count|night_count|zipcodes|trip_count_by_zip|\n",
      "+-----------------------------+---------------------------+----------------------------------+------------+------------+------------------------+------------------------+-------------------------+-------------------------+----------------------+----------------------+-----------------------+-----------------------+--------+--------+------------+------------+------------+------------+--------------+--------------+------------+------------+------------+------------+--------------+--------------+----------------+----------------+--------------+----------------+------------+------------+---------------+----------+--------------+------------+----------------+---------------+-------------------+---------------+-------------------+-------------+-----------------+-------------+-----------------+-------------+-----------------+-------------+-----------------+------------------+-------------+---------+-----------+----------+----------------+----------+----------+----------+-------------+---------------+-------------+-----------+--------+-----------------+\n",
      "|                            0|                          0|                                 0|           0|           0|                       0|                       0|                        0|                        0|                     0|                     0|                      0|                      0|       0|       0|           0|           0|           0|           0|             0|             0|           0|           0|           0|           0|             0|             0|               0|               0|             0|               0|           0|           0|              0|         0|             0|           0|               0|              0|                  0|              0|                  0|            0|                0|            0|                0|            0|                0|            0|                0|                 0|            0|        0|          0|         0|               0|         0|         0|         0|            0|              0|            0|          0|       1|                0|\n",
      "+-----------------------------+---------------------------+----------------------------------+------------+------------+------------------------+------------------------+-------------------------+-------------------------+----------------------+----------------------+-----------------------+-----------------------+--------+--------+------------+------------+------------+------------+--------------+--------------+------------+------------+------------+------------+--------------+--------------+----------------+----------------+--------------+----------------+------------+------------+---------------+----------+--------------+------------+----------------+---------------+-------------------+---------------+-------------------+-------------+-----------------+-------------+-----------------+-------------+-----------------+-------------+-----------------+------------------+-------------+---------+-----------+----------+----------------+----------+----------+----------+-------------+---------------+-------------+-----------+--------+-----------------+\n",
      "\n"
     ]
    }
   ],
   "source": [
    "#Null values\n",
    "df_rf.select([count(when(isnan(c), c)).alias(c) for c in df_rf.columns]).show() "
   ]
  },
  {
   "cell_type": "code",
   "execution_count": 10,
   "metadata": {},
   "outputs": [],
   "source": [
    "#Drop nan\n",
    "df_rf = df_rf.dropna()"
   ]
  },
  {
   "cell_type": "markdown",
   "metadata": {},
   "source": [
    "---"
   ]
  },
  {
   "cell_type": "markdown",
   "metadata": {},
   "source": [
    "## Create Pipeline"
   ]
  },
  {
   "cell_type": "code",
   "execution_count": 11,
   "metadata": {},
   "outputs": [
    {
     "data": {
      "text/plain": [
       "64"
      ]
     },
     "execution_count": 11,
     "metadata": {},
     "output_type": "execute_result"
    }
   ],
   "source": [
    "#Get numeric columns\n",
    "num_feat = [i[0] for i in df_rf.dtypes if i[1] != \"string\"]\n",
    "len(num_feat)"
   ]
  },
  {
   "cell_type": "code",
   "execution_count": 13,
   "metadata": {},
   "outputs": [
    {
     "data": {
      "text/plain": [
       "['avg_median_sales_price_by_zip',\n",
       " 'avg_sales_rent_ratio_by_zip',\n",
       " 'std_of_avg_sales_rent_ratio_by_zip',\n",
       " 'avg_crowDist',\n",
       " 'std_crowDist',\n",
       " 'avg_startStationLatitude',\n",
       " 'std_startStationLatitude',\n",
       " 'avg_startStationLongitude',\n",
       " 'std_startStationLongitude',\n",
       " 'avg_endStationLatitude',\n",
       " 'std_endStationLatitude',\n",
       " 'avg_endStationLongitude',\n",
       " 'std_endStationLongitude',\n",
       " 'avg_temp',\n",
       " 'std_temp',\n",
       " 'avg_temp_min',\n",
       " 'std_temp_min',\n",
       " 'avg_temp_max',\n",
       " 'std_temp_max',\n",
       " 'avg_feels_like',\n",
       " 'std_feels_like',\n",
       " 'avg_pressure',\n",
       " 'std_pressure',\n",
       " 'avg_humidity',\n",
       " 'std_humidity',\n",
       " 'avg_wind_speed',\n",
       " 'std_wind_speed',\n",
       " 'avg_tripduration',\n",
       " 'std_tripduration',\n",
       " 'customer_count',\n",
       " 'subscriber_count',\n",
       " 'member_count',\n",
       " 'clouds_count',\n",
       " 'no_clouds_count',\n",
       " 'peak_count',\n",
       " 'non_peak_count',\n",
       " 'precip_count',\n",
       " 'non_precip_count',\n",
       " '1h_precip_count',\n",
       " 'non_1h_precip_count',\n",
       " '3h_precip_count',\n",
       " 'non_3h_precip_count',\n",
       " 'rain_1h_count',\n",
       " 'non_rain_1h_count',\n",
       " 'rain_3h_count',\n",
       " 'non_rain_3h_count',\n",
       " 'snow_1h_count',\n",
       " 'non_snow_1h_count',\n",
       " 'snow_3h_count',\n",
       " 'non_snow_3h_count',\n",
       " 'thunderstorm_count',\n",
       " 'drizzle_count',\n",
       " 'fog_count',\n",
       " 'clear_count',\n",
       " 'mist_count',\n",
       " 'cloudy_day_count',\n",
       " 'rain_count',\n",
       " 'snow_count',\n",
       " 'haze_count',\n",
       " 'morning_count',\n",
       " 'afternoon_count',\n",
       " 'evening_count',\n",
       " 'night_count',\n",
       " 'trip_count_by_zip']"
      ]
     },
     "execution_count": 13,
     "metadata": {},
     "output_type": "execute_result"
    }
   ],
   "source": [
    "#inspect\n",
    "num_feat"
   ]
  },
  {
   "cell_type": "code",
   "execution_count": 12,
   "metadata": {},
   "outputs": [],
   "source": [
    "#PIPELINE\n",
    "assembler = VectorAssembler(inputCols=list((set(num_feat)-set([\"avg_median_sales_price_by_zip\"]))), outputCol=\"vectorized_features\")\n",
    "\n",
    "standardScaler = StandardScaler(inputCol=assembler.getOutputCol(), outputCol=\"features\")\n",
    "\n",
    "#Model\n",
    "pipeline = Pipeline(stages=[assembler] + [standardScaler])\n",
    "model = pipeline.fit(df_rf)\n",
    "df_tr = model.transform(df_rf)"
   ]
  },
  {
   "cell_type": "code",
   "execution_count": 13,
   "metadata": {},
   "outputs": [],
   "source": [
    "#rename median sales price column to label\n",
    "df_tr = df_tr.withColumnRenamed(\"avg_median_sales_price_by_zip\", \"label\")"
   ]
  },
  {
   "cell_type": "markdown",
   "metadata": {},
   "source": [
    "#### Train/test split"
   ]
  },
  {
   "cell_type": "code",
   "execution_count": 14,
   "metadata": {},
   "outputs": [],
   "source": [
    "#Train/test split\n",
    "train, test = df_tr.randomSplit([0.7,0.3], seed=2021)"
   ]
  },
  {
   "cell_type": "markdown",
   "metadata": {},
   "source": [
    "## Random Forest Regression - Tuned"
   ]
  },
  {
   "cell_type": "code",
   "execution_count": 15,
   "metadata": {},
   "outputs": [],
   "source": [
    "#Random Forest Regressor\n",
    "from pyspark.ml.regression import RandomForestRegressor\n",
    "rf = RandomForestRegressor()"
   ]
  },
  {
   "cell_type": "markdown",
   "metadata": {},
   "source": [
    "#### Tune with Paramgrid and Cross Validation"
   ]
  },
  {
   "cell_type": "code",
   "execution_count": 16,
   "metadata": {},
   "outputs": [],
   "source": [
    "#Cross validation and Paramgrid\n",
    "#Tune with CV\n",
    "from pyspark.ml.tuning import ParamGridBuilder, CrossValidator\n",
    "from pyspark.ml.evaluation import RegressionEvaluator\n",
    "\n",
    "paramGrid = ParamGridBuilder() \\\n",
    "    .addGrid(rf.numTrees, [int(x) for x in np.linspace(start = 10, stop = 50, num = 3)]) \\\n",
    "    .addGrid(rf.maxDepth, [int(x) for x in np.linspace(start = 5, stop = 25, num = 3)]) \\\n",
    "    .build()\n",
    "\n",
    "\n",
    "#5 fold cross validation\n",
    "cv = CrossValidator(estimator=rf, estimatorParamMaps = paramGrid, evaluator=RegressionEvaluator(), numFolds=5)"
   ]
  },
  {
   "cell_type": "code",
   "execution_count": 17,
   "metadata": {},
   "outputs": [],
   "source": [
    "#Fit the data\n",
    "cvModel = cv.fit(train)"
   ]
  },
  {
   "cell_type": "code",
   "execution_count": 18,
   "metadata": {},
   "outputs": [],
   "source": [
    "#Get predictions\n",
    "preds = cvModel.transform(test)"
   ]
  },
  {
   "cell_type": "code",
   "execution_count": 29,
   "metadata": {},
   "outputs": [
    {
     "name": "stdout",
     "output_type": "stream",
     "text": [
      "+------------------+------------------+--------------------+\n",
      "|        prediction|             label|            features|\n",
      "+------------------+------------------+--------------------+\n",
      "|1052342.9852059237|1075141.7494834843|[20.2889272356576...|\n",
      "|1055295.7251850844|1076856.4598026422|[18.7763681902345...|\n",
      "| 1074307.725813578|1075420.6331545128|[18.9493598621292...|\n",
      "+------------------+------------------+--------------------+\n",
      "only showing top 3 rows\n",
      "\n"
     ]
    }
   ],
   "source": [
    "#See preds\n",
    "preds.select(\"prediction\", \"label\", \"features\").show(3)"
   ]
  },
  {
   "cell_type": "code",
   "execution_count": 19,
   "metadata": {},
   "outputs": [],
   "source": [
    "#Get predicted values on full data and plot - save r2 and rmse\n",
    "#RMSE\n",
    "evaluator = RegressionEvaluator(labelCol=\"label\", predictionCol=\"prediction\", metricName=\"rmse\")\n",
    "rmse = evaluator.evaluate(preds)\n",
    "#R^2\n",
    "evaluator = RegressionEvaluator(labelCol=\"label\", predictionCol=\"prediction\", metricName=\"r2\")\n",
    "r2 = evaluator.evaluate(preds)\n",
    "\n",
    "#get predictions on full dataset to plot\n",
    "full_pred = cvModel.transform(df_tr)\n",
    "final = full_pred.toPandas()"
   ]
  },
  {
   "cell_type": "code",
   "execution_count": 20,
   "metadata": {},
   "outputs": [
    {
     "data": {
      "image/png": "[encoded data removed]",
      "text/plain": [
       "<Figure size 600x400 with 1 Axes>"
      ]
     },
     "metadata": {},
     "output_type": "display_data"
    }
   ],
   "source": [
    "#plot\n",
    "import matplotlib.pyplot as plt\n",
    "plt.rcParams[\"figure.figsize\"] = (6, 4)\n",
    "plt.plot(final.label, final.prediction, 'bo')\n",
    "plt.axis([700000, 1100000, 700000, 1100000])\n",
    "plt.xlabel('Average Median Sale Price by Zip Code')\n",
    "plt.ylabel('Price Prediction')\n",
    "plt.title(\"RMSE: \" + str(rmse), y = 1)\n",
    "plt.suptitle(\"R^2: \" + str(r2))\n",
    "plt.axline((0, 0), (1, 1), linewidth=1, color='r')\n",
    "plt.show()"
   ]
  },
  {
   "cell_type": "code",
   "execution_count": 21,
   "metadata": {},
   "outputs": [
    {
     "name": "stdout",
     "output_type": "stream",
     "text": [
      "R Squared (R2) on test data: 0.8764424392716661\n",
      "RMSE on test data: 55466.81356480043\n"
     ]
    }
   ],
   "source": [
    "#show r2 and rmse for test\n",
    "print(\"R Squared (R2) on test data: \" + str(r2)) #0.8764\n",
    "print(\"RMSE on test data: \" + str(rmse)) #55466"
   ]
  },
  {
   "cell_type": "code",
   "execution_count": 22,
   "metadata": {},
   "outputs": [
    {
     "name": "stdout",
     "output_type": "stream",
     "text": [
      "numTrees:  10\n",
      "maxDepth:  25\n"
     ]
    }
   ],
   "source": [
    "#Hyperparamter selection\n",
    "bm = cvModel.bestModel\n",
    "print('numTrees: ', bm.getNumTrees) \n",
    "print('maxDepth: ', bm.getOrDefault('maxDepth')) "
   ]
  },
  {
   "cell_type": "code",
   "execution_count": 23,
   "metadata": {},
   "outputs": [],
   "source": [
    "#Feature Importance\n",
    "importances = bm.featureImportances\n",
    "x_values = list(range(len(importances)))"
   ]
  },
  {
   "cell_type": "code",
   "execution_count": 34,
   "metadata": {},
   "outputs": [],
   "source": [
    "#Get list of importances and sort and take top 10\n",
    "lis = []\n",
    "for i in importances:\n",
    "    lis.append(i)\n",
    "output = list(zip(x_values, lis, num_feat[1:]))\n",
    "output = sorted(output, key=lambda x: x[1], reverse=True)\n",
    "top10 = output[0:10]"
   ]
  },
  {
   "cell_type": "code",
   "execution_count": 35,
   "metadata": {},
   "outputs": [
    {
     "data": {
      "text/plain": [
       "[(16, 0.27521301144481897, 'avg_temp_max'),\n",
       " (29, 0.2528448510547657, 'subscriber_count'),\n",
       " (56, 0.16822144276409623, 'snow_count'),\n",
       " (3, 0.15142539302307984, 'std_crowDist'),\n",
       " (9, 0.04112542010412201, 'std_endStationLatitude'),\n",
       " (40, 0.017699807920390147, 'non_3h_precip_count'),\n",
       " (19, 0.015164424352427198, 'std_feels_like'),\n",
       " (10, 0.010981530064087633, 'avg_endStationLongitude'),\n",
       " (44, 0.007509444727810531, 'non_rain_3h_count'),\n",
       " (54, 0.007373348879898713, 'cloudy_day_count'),\n",
       " (2, 0.007202207109387626, 'avg_crowDist'),\n",
       " (55, 0.0059754471221185905, 'rain_count'),\n",
       " (47, 0.0052348101030170145, 'snow_3h_count'),\n",
       " (36, 0.004531210719347343, 'non_precip_count'),\n",
       " (28, 0.004330029069851486, 'customer_count'),\n",
       " (6, 0.004181224931921347, 'avg_startStationLongitude'),\n",
       " (7, 0.0036220226905565867, 'std_startStationLongitude'),\n",
       " (32, 0.0025105064672400357, 'no_clouds_count'),\n",
       " (60, 0.0020572177371495806, 'evening_count'),\n",
       " (45, 0.0017923842967025195, 'snow_1h_count'),\n",
       " (26, 0.001498573602524068, 'avg_tripduration'),\n",
       " (42, 0.0013934735694789108, 'non_rain_1h_count'),\n",
       " (62, 0.0013675506729319445, 'trip_count_by_zip'),\n",
       " (59, 0.0013667477420982305, 'afternoon_count'),\n",
       " (24, 0.0013058317100291944, 'avg_wind_speed'),\n",
       " (52, 0.0010303420132658668, 'clear_count'),\n",
       " (37, 0.0005843883551512024, '1h_precip_count'),\n",
       " (49, 0.0004116471213805223, 'thunderstorm_count'),\n",
       " (27, 0.00040460777687095236, 'std_tripduration'),\n",
       " (17, 0.00034837995811284666, 'std_temp_max'),\n",
       " (48, 0.0003473284061635964, 'non_snow_3h_count'),\n",
       " (41, 0.00030432359815946446, 'rain_1h_count'),\n",
       " (1, 0.00017161837220736889, 'std_of_avg_sales_rent_ratio_by_zip'),\n",
       " (57, 0.0001162448627187946, 'haze_count'),\n",
       " (5, 8.896854881624427e-05, 'std_startStationLatitude'),\n",
       " (58, 5.780267384499522e-05, 'morning_count'),\n",
       " (34, 5.3736451365688696e-05, 'non_peak_count'),\n",
       " (0, 4.7268337426401824e-05, 'avg_sales_rent_ratio_by_zip'),\n",
       " (14, 3.745066992105671e-05, 'avg_temp_min'),\n",
       " (51, 1.0737417468901564e-05, 'fog_count'),\n",
       " (25, 1.0701258689763893e-05, 'std_wind_speed'),\n",
       " (46, 1.0485013993094312e-05, 'non_snow_1h_count'),\n",
       " (35, 7.001959677596311e-06, 'precip_count'),\n",
       " (61, 5.965942219546359e-06, 'night_count'),\n",
       " (22, 5.32669601414138e-06, 'avg_humidity'),\n",
       " (13, 3.2874145632353744e-06, 'std_temp'),\n",
       " (33, 2.725257891537237e-06, 'peak_count'),\n",
       " (31, 2.551188714531538e-06, 'clouds_count'),\n",
       " (11, 1.9018182968894676e-06, 'std_endStationLongitude'),\n",
       " (21, 1.7628043407315294e-06, 'std_pressure'),\n",
       " (50, 1.5069930422037024e-06, 'drizzle_count'),\n",
       " (43, 1.385462859878772e-06, 'rain_3h_count'),\n",
       " (39, 9.480356020634696e-07, '3h_precip_count'),\n",
       " (30, 8.766522344907366e-07, 'member_count'),\n",
       " (23, 4.005398235505154e-07, 'std_humidity'),\n",
       " (8, 3.6006111741233663e-07, 'avg_endStationLatitude'),\n",
       " (38, 5.612183621500535e-08, 'non_1h_precip_count'),\n",
       " (53, 3.363573689408581e-10, 'mist_count'),\n",
       " (4, 0.0, 'avg_startStationLatitude'),\n",
       " (12, 0.0, 'avg_temp'),\n",
       " (15, 0.0, 'std_temp_min'),\n",
       " (18, 0.0, 'avg_feels_like'),\n",
       " (20, 0.0, 'avg_pressure')]"
      ]
     },
     "execution_count": 35,
     "metadata": {},
     "output_type": "execute_result"
    }
   ],
   "source": [
    "#Inspect output\n",
    "output"
   ]
  },
  {
   "cell_type": "code",
   "execution_count": 36,
   "metadata": {},
   "outputs": [],
   "source": [
    "#The weights were numpy-float64 so I needed to change its type to be able to create spark df\n",
    "top10 = [(float(x[1]), x[2]) for x in top10]"
   ]
  },
  {
   "cell_type": "code",
   "execution_count": 37,
   "metadata": {},
   "outputs": [],
   "source": [
    "#get DF\n",
    "schema = StructType([\n",
    "    StructField(\"weight\", DoubleType(), True),\n",
    "    StructField(\"name\", StringType(), True)\n",
    "])\n",
    "df_ticks = spark.createDataFrame(top10, schema).toPandas()"
   ]
  },
  {
   "cell_type": "code",
   "execution_count": 38,
   "metadata": {},
   "outputs": [
    {
     "data": {
      "text/html": [
       "<div>\n",
       "<style scoped>\n",
       "    .dataframe tbody tr th:only-of-type {\n",
       "        vertical-align: middle;\n",
       "    }\n",
       "\n",
       "    .dataframe tbody tr th {\n",
       "        vertical-align: top;\n",
       "    }\n",
       "\n",
       "    .dataframe thead th {\n",
       "        text-align: right;\n",
       "    }\n",
       "</style>\n",
       "<table border=\"1\" class=\"dataframe\">\n",
       "  <thead>\n",
       "    <tr style=\"text-align: right;\">\n",
       "      <th></th>\n",
       "      <th>weight</th>\n",
       "      <th>name</th>\n",
       "    </tr>\n",
       "  </thead>\n",
       "  <tbody>\n",
       "    <tr>\n",
       "      <th>0</th>\n",
       "      <td>0.275213</td>\n",
       "      <td>avg_temp_max</td>\n",
       "    </tr>\n",
       "    <tr>\n",
       "      <th>1</th>\n",
       "      <td>0.252845</td>\n",
       "      <td>subscriber_count</td>\n",
       "    </tr>\n",
       "    <tr>\n",
       "      <th>2</th>\n",
       "      <td>0.168221</td>\n",
       "      <td>snow_count</td>\n",
       "    </tr>\n",
       "    <tr>\n",
       "      <th>3</th>\n",
       "      <td>0.151425</td>\n",
       "      <td>std_crowDist</td>\n",
       "    </tr>\n",
       "    <tr>\n",
       "      <th>4</th>\n",
       "      <td>0.041125</td>\n",
       "      <td>std_endStationLatitude</td>\n",
       "    </tr>\n",
       "    <tr>\n",
       "      <th>5</th>\n",
       "      <td>0.017700</td>\n",
       "      <td>non_3h_precip_count</td>\n",
       "    </tr>\n",
       "    <tr>\n",
       "      <th>6</th>\n",
       "      <td>0.015164</td>\n",
       "      <td>std_feels_like</td>\n",
       "    </tr>\n",
       "    <tr>\n",
       "      <th>7</th>\n",
       "      <td>0.010982</td>\n",
       "      <td>avg_endStationLongitude</td>\n",
       "    </tr>\n",
       "    <tr>\n",
       "      <th>8</th>\n",
       "      <td>0.007509</td>\n",
       "      <td>non_rain_3h_count</td>\n",
       "    </tr>\n",
       "    <tr>\n",
       "      <th>9</th>\n",
       "      <td>0.007373</td>\n",
       "      <td>cloudy_day_count</td>\n",
       "    </tr>\n",
       "  </tbody>\n",
       "</table>\n",
       "</div>"
      ],
      "text/plain": [
       "     weight                     name\n",
       "0  0.275213             avg_temp_max\n",
       "1  0.252845         subscriber_count\n",
       "2  0.168221               snow_count\n",
       "3  0.151425             std_crowDist\n",
       "4  0.041125   std_endStationLatitude\n",
       "5  0.017700      non_3h_precip_count\n",
       "6  0.015164           std_feels_like\n",
       "7  0.010982  avg_endStationLongitude\n",
       "8  0.007509        non_rain_3h_count\n",
       "9  0.007373         cloudy_day_count"
      ]
     },
     "execution_count": 38,
     "metadata": {},
     "output_type": "execute_result"
    }
   ],
   "source": [
    "#Inspect\n",
    "df_ticks"
   ]
  },
  {
   "cell_type": "code",
   "execution_count": 40,
   "metadata": {},
   "outputs": [
    {
     "data": {
      "image/png": "[encoded data removed]",
      "text/plain": [
       "<Figure size 2000x1000 with 1 Axes>"
      ]
     },
     "metadata": {},
     "output_type": "display_data"
    }
   ],
   "source": [
    "#plot of Feature Importance - need to work on graph look\n",
    "plt.rcParams[\"figure.figsize\"] = (20, 10)\n",
    "plt.bar(x_values[0:10], df_ticks[\"weight\"], orientation = 'vertical')\n",
    "plt.xticks(x_values[0:10], df_ticks[\"name\"], rotation=40)\n",
    "plt.ylabel('Importance', size=20)\n",
    "plt.xlabel('Feature', size=20)\n",
    "plt.title('Feature Importance - Top 10', size=30)\n",
    "plt.show()"
   ]
  },
  {
   "cell_type": "code",
   "execution_count": null,
   "metadata": {},
   "outputs": [],
   "source": []
  }
 ],
 "metadata": {
  "kernelspec": {
   "display_name": "DS 5110",
   "language": "python",
   "name": "ds5110"
  },
  "language_info": {
   "codemirror_mode": {
    "name": "ipython",
    "version": 3
   },
   "file_extension": ".py",
   "mimetype": "text/x-python",
   "name": "python",
   "nbconvert_exporter": "python",
   "pygments_lexer": "ipython3",
   "version": "3.7.10"
  }
 },
 "nbformat": 4,
 "nbformat_minor": 4
}
