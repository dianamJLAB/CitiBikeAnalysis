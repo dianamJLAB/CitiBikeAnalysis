{
 "cells": [
  {
   "cell_type": "markdown",
   "metadata": {},
   "source": [
    "### Load libraries and inspect data"
   ]
  },
  {
   "cell_type": "code",
   "execution_count": 1,
   "metadata": {},
   "outputs": [],
   "source": [
    "# load modules\n",
    "from pyspark.sql import SparkSession\n",
    "from functools import reduce \n",
    "from pandas.tseries.holiday import USFederalHolidayCalendar as calendar\n",
    "from datetime import datetime\n",
    "\n",
    "import matplotlib.pyplot as plt\n",
    "import seaborn as sns\n",
    "import pandas as pd\n",
    "import numpy as np\n",
    "import os\n",
    "\n",
    "from pyspark.mllib.stat import Statistics as stat\n",
    "from pyspark.ml.classification import LogisticRegression\n",
    "from pyspark.ml.feature import StringIndexer, OneHotEncoder, VectorAssembler, StandardScaler\n",
    "from pyspark.ml.evaluation import BinaryClassificationEvaluator\n",
    "from pyspark.ml.classification import RandomForestClassifier\n",
    "from pyspark.ml.tuning import ParamGridBuilder, CrossValidator\n",
    "from pyspark.ml import Pipeline\n",
    "\n",
    "from pyspark.sql import DataFrame\n",
    "from pyspark.sql.types import StructType, StructField, DoubleType, StringType, IntegerType\n",
    "import pyspark.sql.functions as F\n",
    "from pyspark.sql.functions import col, when, isnan, count, udf, struct, date_format, coalesce, lit, round\n",
    "from math import sin, cos, sqrt, atan2, radians    \n",
    "from pyspark.sql.functions import col, radians, asin, sin, sqrt, cos"
   ]
  },
  {
   "cell_type": "code",
   "execution_count": 2,
   "metadata": {},
   "outputs": [],
   "source": [
    "spark = SparkSession.builder \\\n",
    "        .appName(\"model\") \\\n",
    "        .config(\"spark.executor.memory\", '18g') \\\n",
    "        .config('spark.executor.cores', '5') \\\n",
    "        .config('spark.executor.instances', '29') \\\n",
    "        .getOrCreate()"
   ]
  },
  {
   "cell_type": "code",
   "execution_count": 3,
   "metadata": {},
   "outputs": [
    {
     "name": "stdout",
     "output_type": "stream",
     "text": [
      "<class 'pyspark.sql.dataframe.DataFrame'>\n"
     ]
    }
   ],
   "source": [
    "#Load data in\n",
    "data = spark.read.parquet('/project/ds5559/Summer2021_TeamBike/master_dataset.parquet')\n",
    "print(type(data))"
   ]
  },
  {
   "cell_type": "code",
   "execution_count": 4,
   "metadata": {},
   "outputs": [
    {
     "name": "stdout",
     "output_type": "stream",
     "text": [
      "+--------+----------+--------------+--------------------+--------------------+---------------------+----------+----+------------+--------------------+------------+--------------------+------------------+-------------------+-------+----------+---------+------+------+----------+--------+--------+--------+--------+----------+-------+-------+-------+-------+----------+------------+---+------+-----+--------+------------+----+---------+---------+---------+--------------------+--------------------+--------+------------------+------------------+----------------------+----------------------+----------------------+-------------------+------------------+-------------------+------------------+--------------------+\n",
      "| Borough|month_year|startStationId|    startStationName|startStationLatitude|startStationLongitude|      date|hour|tripduration|           starttime|endStationId|      endStationName|endStationLatitude|endStationLongitude| bikeid|  usertype|birthyear|gender|  temp|feels_like|temp_min|temp_max|pressure|humidity|wind_speed|rain_1h|rain_3h|snow_1h|snow_3h|clouds_all|weather_main|dow|   day|month|time_bin|peak_commute|year|3h_precip|1h_precip|   precip|      start_lat_long|        end_lat_long|zipcodes|avg_days_on_market|avg_discount_share|avg_median_sales_price|avg_median_asking_sale|avg_median_asking_rent|avg_price_cut_share|  avg_sales_volume|avg_sales_inventory|avg_rent_inventory|avg_sales_list_ratio|\n",
      "+--------+----------+--------------+--------------------+--------------------+---------------------+----------+----+------------+--------------------+------------+--------------------+------------------+-------------------+-------+----------+---------+------+------+----------+--------+--------+--------+--------+----------+-------+-------+-------+-------+----------+------------+---+------+-----+--------+------------+----+---------+---------+---------+--------------------+--------------------+--------+------------------+------------------+----------------------+----------------------+----------------------+-------------------+------------------+-------------------+------------------+--------------------+\n",
      "|Brooklyn|   2020-06|          3419| Douglass St & 4 Ave|   40.67927879999999|         -73.98154004|2020-06-01|   0|        1062|2020-06-01 00:00:...|      3419.0| Douglass St & 4 Ave| 40.67927879999999|       -73.98154004|39852.0|  Customer|     1997|   2.0|64.292|     57.38|  62.006|  62.006|    1018|      43|      3.93|    0.0|    0.0|    0.0|    0.0|         1|       Clear|  2|Monday|  Jun|   Night|    non_peak|2020|      0.0|      0.0|no_precip|[40.6792787999999...|[40.6792787999999...|   11217| 90.31829652996842|0.1875610615471485|     854338.1216332259|    1057032.5681996944|     2549.918969486926|0.08441581266425231|38.345454545454544|  241.6909090909091|1002.4363636363636|  0.9601094091903719|\n",
      "|Brooklyn|   2020-06|           366|Clinton Ave & Myr...|           40.693261|           -73.968896|2020-06-01|   0|        3810|2020-06-01 00:00:...|       336.0|Sullivan St & Was...|       40.73047747|       -73.99906065|37558.0|Subscriber|     1969|   0.0|64.292|     57.38|  62.006|  62.006|    1018|      43|      3.93|    0.0|    0.0|    0.0|    0.0|         1|       Clear|  2|Monday|  Jun|   Night|    non_peak|2020|      0.0|      0.0|no_precip|[40.693261, -73.9...|[40.73047747, -73...|   11205| 90.31829652996842|0.1875610615471485|     854338.1216332259|    1057032.5681996944|     2549.918969486926|0.08441581266425231|38.345454545454544|  241.6909090909091|1002.4363636363636|  0.9601094091903719|\n",
      "|Brooklyn|   2020-06|           389| Broadway & Berry St|         40.71044554|         -73.96525063|2020-06-01|   0|        1017|2020-06-01 00:00:...|      3562.0|Classon Ave & St ...|40.676519799999994|        -73.9596082|37512.0|  Customer|     1988|   2.0|64.292|     57.38|  62.006|  62.006|    1018|      43|      3.93|    0.0|    0.0|    0.0|    0.0|         1|       Clear|  2|Monday|  Jun|   Night|    non_peak|2020|      0.0|      0.0|no_precip|[40.71044554, -73...|[40.6765197999999...|   11207| 90.31829652996842|0.1875610615471485|     854338.1216332259|    1057032.5681996944|     2549.918969486926|0.08441581266425231|38.345454545454544|  241.6909090909091|1002.4363636363636|  0.9601094091903719|\n",
      "+--------+----------+--------------+--------------------+--------------------+---------------------+----------+----+------------+--------------------+------------+--------------------+------------------+-------------------+-------+----------+---------+------+------+----------+--------+--------+--------+--------+----------+-------+-------+-------+-------+----------+------------+---+------+-----+--------+------------+----+---------+---------+---------+--------------------+--------------------+--------+------------------+------------------+----------------------+----------------------+----------------------+-------------------+------------------+-------------------+------------------+--------------------+\n",
      "only showing top 3 rows\n",
      "\n"
     ]
    }
   ],
   "source": [
    "#inspect\n",
    "data.show(3)"
   ]
  },
  {
   "cell_type": "markdown",
   "metadata": {},
   "source": [
    "#### Create new columns (holiday, distance, and binary (numeric) bins for string features"
   ]
  },
  {
   "cell_type": "code",
   "execution_count": 5,
   "metadata": {},
   "outputs": [],
   "source": [
    "## Create Distnace columns\n",
    "# radius of earth in miles\n",
    "R = 3963.0\n",
    "\n",
    "#Convert start/end latitude and longitude from degrees to Radians\n",
    "#Create holiday column binary, 1 yes, 0 no\n",
    "data = data.withColumn(\"startRadLong\", radians(data.startStationLongitude))\n",
    "data = data.withColumn(\"endRadLong\", radians(data.endStationLongitude))\n",
    "data = data.withColumn(\"startRadLat\", radians(data.startStationLatitude))\n",
    "data = data.withColumn(\"endRadLat\", radians(data.endStationLatitude))\n",
    "data = data.withColumn(\"diffRadLong\", (data.startRadLong-data.endRadLong))\n",
    "data = data.withColumn(\"diffRadLat\", (data.startRadLat-data.endRadLat))\n",
    "data = data.withColumn(\"crowDist\", asin(sqrt(sin(data.diffRadLat/2)**2 + cos(data.startRadLat) * cos(data.endRadLat) * sin(data.diffRadLong/2)**2)) * 2 * R)\n",
    "data = data.drop(\"startRadLong\",\"endRadLong\",\"startRadLat\",\"endRadLat\",\"diffRadLong\",\"diffRadLat\")"
   ]
  },
  {
   "cell_type": "code",
   "execution_count": 6,
   "metadata": {},
   "outputs": [
    {
     "data": {
      "image/png": "[encoded data removed]",
      "text/plain": [
       "<Figure size 640x480 with 1 Axes>"
      ]
     },
     "metadata": {},
     "output_type": "display_data"
    }
   ],
   "source": [
    "#plot to see counts of trips from 2018-2021\n",
    "sns.scatterplot(data = data.groupby(\"date\").count().orderBy(\"date\").toPandas(), x = 'date', y = 'count')\n",
    "plt.show() #we see the waxing/waning nature of daily trips by time of year"
   ]
  },
  {
   "cell_type": "markdown",
   "metadata": {},
   "source": [
    "Early hypothesis is that trips decrease around holidays and can use the count of trips as a strong predictor."
   ]
  },
  {
   "cell_type": "code",
   "execution_count": 6,
   "metadata": {},
   "outputs": [
    {
     "name": "stdout",
     "output_type": "stream",
     "text": [
      "+----------+-----+\n",
      "|      date|count|\n",
      "+----------+-----+\n",
      "|2020-02-26|44503|\n",
      "|2019-08-08|68714|\n",
      "|2019-08-22|60527|\n",
      "+----------+-----+\n",
      "only showing top 3 rows\n",
      "\n"
     ]
    }
   ],
   "source": [
    "#count of trips by day\n",
    "cnt_trip = data.groupby(\"date\").count()\n",
    "cnt_trip.show(3)"
   ]
  },
  {
   "cell_type": "code",
   "execution_count": 7,
   "metadata": {},
   "outputs": [],
   "source": [
    "#we'll slice to grouped data\n",
    "#Get a count of station\n",
    "grouped_data = data.groupby(\"date\")\n",
    "agg_data = grouped_data.agg(F.avg(\"avg_median_sales_price\").alias(\"current_month_avg_median_sales_price\"),\n",
    "                 F.avg(\"crowDist\").alias(\"avg_crowDist\"),\n",
    "                 F.stddev(\"crowDist\").alias(\"std_crowDist\"), \n",
    "                 F.avg(\"feels_like\").alias(\"avg_feels_like\"),\n",
    "                 F.stddev(\"feels_like\").alias(\"std_feels_like\"),\n",
    "                 F.avg(\"humidity\").alias(\"avg_humidity\"),\n",
    "                 F.stddev(\"humidity\").alias(\"std_humidity\"), \n",
    "                 F.avg(\"wind_speed\").alias(\"avg_wind_speed\"),\n",
    "                 F.stddev(\"wind_speed\").alias(\"std_wind_speed\"),\n",
    "                 F.avg(\"tripduration\").alias(\"avg_tripduration\"),\n",
    "                 F.stddev(\"tripduration\").alias(\"std_tripduration\"),\n",
    "                 F.count(when(data.usertype == \"Customer\", lit(1))).alias(\"customer_count\"),\n",
    "                 F.count(when(data.usertype == \"Subscriber\", lit(1))).alias(\"subscriber_count\"),\n",
    "                 F.count(when(data.usertype == \"member\", lit(1))).alias(\"member_count\"),\n",
    "                 F.count(when(data.peak_commute == \"peak\", lit(1))).alias(\"peak_count\"),\n",
    "                 F.count(when(data.peak_commute == \"non_peak\", lit(1))).alias(\"non_peak_count\"),\n",
    "                 F.count(when(data.precip == \"precip\", lit(1))).alias(\"precip_count\"),\n",
    "                 F.count(when(data.precip == \"no_precip\", lit(1))).alias(\"non_precip_count\"),\n",
    "                 F.count(when(data.time_bin == \"Morning\", lit(1))).alias(\"morning_count\"),\n",
    "                 F.count(when(data.time_bin == \"Afternoon\", lit(1))).alias(\"afternoon_count\"),\n",
    "                 F.count(when(data.time_bin == \"Evening\", lit(1))).alias(\"evening_count\"),\n",
    "                 F.count(when(data.time_bin == \"Night\", lit(1))).alias(\"night_count\"))"
   ]
  },
  {
   "cell_type": "code",
   "execution_count": 59,
   "metadata": {},
   "outputs": [
    {
     "name": "stdout",
     "output_type": "stream",
     "text": [
      "+----------+------------------------------------+------------------+------------------+-----------------+------------------+-----------------+-----------------+------------------+-----------------+------------------+------------------+--------------+----------------+------------+----------+--------------+------------+----------------+-------------+---------------+-------------+-----------+\n",
      "|      date|current_month_avg_median_sales_price|      avg_crowDist|      std_crowDist|   avg_feels_like|    std_feels_like|     avg_humidity|     std_humidity|    avg_wind_speed|   std_wind_speed|  avg_tripduration|  std_tripduration|customer_count|subscriber_count|member_count|peak_count|non_peak_count|precip_count|non_precip_count|morning_count|afternoon_count|evening_count|night_count|\n",
      "+----------+------------------------------------+------------------+------------------+-----------------+------------------+-----------------+-----------------+------------------+-----------------+------------------+------------------+--------------+----------------+------------+----------+--------------+------------+----------------+-------------+---------------+-------------+-----------+\n",
      "|2020-02-26|                  1069620.7488063734|1.0260179871351633| 0.819621124702427|41.01258580318548|1.3938062117054615|92.69581825944319|1.007580942624927|2.8516297777694266|0.925134197925853| 818.4580140664674|4742.8321948318635|          2230|           42273|           0|     27094|         17409|       35788|            8715|        15609|          12486|        14206|       2202|\n",
      "|2019-08-08|                   970171.7848819763|1.1298253969294934|0.9016494447677877|79.91635416368783| 6.543033352378648| 74.8108100241581|16.26980009574207|2.6339661495492894|0.896077470141682|1002.7852257181943| 8270.936409858687|          9473|           59241|           0|     40205|         28509|       31611|           37103|        20881|          18930|        23974|       4929|\n",
      "+----------+------------------------------------+------------------+------------------+-----------------+------------------+-----------------+-----------------+------------------+-----------------+------------------+------------------+--------------+----------------+------------+----------+--------------+------------+----------------+-------------+---------------+-------------+-----------+\n",
      "only showing top 2 rows\n",
      "\n"
     ]
    }
   ],
   "source": [
    "#inspect\n",
    "agg_data.show(2)"
   ]
  },
  {
   "cell_type": "code",
   "execution_count": 8,
   "metadata": {},
   "outputs": [],
   "source": [
    "#Get dataframe with counts\n",
    "df = agg_data.join(cnt_trip, agg_data.date==cnt_trip.date, how=\"inner\").drop(cnt_trip.date)\n",
    "df = df.orderBy(\"date\").withColumnRenamed(\"count\", \"trip_count\")"
   ]
  },
  {
   "cell_type": "code",
   "execution_count": 61,
   "metadata": {},
   "outputs": [
    {
     "name": "stdout",
     "output_type": "stream",
     "text": [
      "+------------------------------------+------------------+------------------+-----------------+-----------------+-----------------+-----------------+------------------+------------------+-----------------+------------------+--------------+----------------+------------+----------+--------------+------------+----------------+-------------+---------------+-------------+-----------+----------+----------+\n",
      "|current_month_avg_median_sales_price|      avg_crowDist|      std_crowDist|   avg_feels_like|   std_feels_like|     avg_humidity|     std_humidity|    avg_wind_speed|    std_wind_speed| avg_tripduration|  std_tripduration|customer_count|subscriber_count|member_count|peak_count|non_peak_count|precip_count|non_precip_count|morning_count|afternoon_count|evening_count|night_count|      date|trip_count|\n",
      "+------------------------------------+------------------+------------------+-----------------+-----------------+-----------------+-----------------+------------------+------------------+-----------------+------------------+--------------+----------------+------------+----------+--------------+------------+----------------+-------------+---------------+-------------+-----------+----------+----------+\n",
      "|                  1064262.3373386133|1.1329740969724742|0.9106752239514277| 87.3497442932618|5.296865011590768|86.21045569662714|8.289926063545808|2.3453943947793934|0.7509283901033936|935.8277342636231|10699.247710177839|          5032|           54591|           0|     36103|         23520|       36231|           23392|        19653|          15382|        21238|       3350|2018-08-01|     59623|\n",
      "|                  1063885.3840608338| 1.148447846598559|0.9271935407488715|87.93635674974254|5.509563498491671|71.48462255358807|5.412173244723805|2.0633540241588046|0.7600426836781768|920.6011886968296|7194.6539427965145|          5607|           51262|           0|     34707|         22162|         867|           56002|        19028|          14084|        20708|       3049|2018-08-02|     56869|\n",
      "|                  1063783.3477046136|1.1346869342251245|0.9154854385597571|86.65444076834156|3.831932775354035|89.39649235339793| 5.82150066917511| 2.638378684042299|0.9053214626884649|965.9768576347861| 6908.502786053636|          6658|           52584|           0|     38857|         20385|       29563|           29679|        17385|          11723|        26349|       3785|2018-08-03|     59242|\n",
      "+------------------------------------+------------------+------------------+-----------------+-----------------+-----------------+-----------------+------------------+------------------+-----------------+------------------+--------------+----------------+------------+----------+--------------+------------+----------------+-------------+---------------+-------------+-----------+----------+----------+\n",
      "only showing top 3 rows\n",
      "\n"
     ]
    }
   ],
   "source": [
    "#inspect\n",
    "df.show(3)"
   ]
  },
  {
   "cell_type": "code",
   "execution_count": 9,
   "metadata": {},
   "outputs": [],
   "source": [
    "#create a holiday list\n",
    "dr = pd.date_range(start='2016-01-01', end='2021-12-31')\n",
    "cal = calendar()\n",
    "holi = cal.holidays(start=dr.min(), end=dr.max())\n",
    "holiday = pd.DataFrame(data=holi)\n",
    "holiday = holiday[0].astype(str).tolist()\n",
    "\n",
    "#add to dataframe\n",
    "df = df.withColumn(\"holiday\", when(df.date.isin(holiday), 1).otherwise(0))"
   ]
  },
  {
   "cell_type": "code",
   "execution_count": 63,
   "metadata": {},
   "outputs": [
    {
     "name": "stdout",
     "output_type": "stream",
     "text": [
      "+------------------------------------+------------------+------------------+-----------------+-----------------+-----------------+-----------------+------------------+------------------+-----------------+------------------+--------------+----------------+------------+----------+--------------+------------+----------------+-------------+---------------+-------------+-----------+----------+----------+-------+\n",
      "|current_month_avg_median_sales_price|      avg_crowDist|      std_crowDist|   avg_feels_like|   std_feels_like|     avg_humidity|     std_humidity|    avg_wind_speed|    std_wind_speed| avg_tripduration|  std_tripduration|customer_count|subscriber_count|member_count|peak_count|non_peak_count|precip_count|non_precip_count|morning_count|afternoon_count|evening_count|night_count|      date|trip_count|holiday|\n",
      "+------------------------------------+------------------+------------------+-----------------+-----------------+-----------------+-----------------+------------------+------------------+-----------------+------------------+--------------+----------------+------------+----------+--------------+------------+----------------+-------------+---------------+-------------+-----------+----------+----------+-------+\n",
      "|                  1064262.3373386133|1.1329740969724742|0.9106752239514277| 87.3497442932618|5.296865011590768|86.21045569662714|8.289926063545808|2.3453943947793934|0.7509283901033936|935.8277342636231|10699.247710177839|          5032|           54591|           0|     36103|         23520|       36231|           23392|        19653|          15382|        21238|       3350|2018-08-01|     59623|      0|\n",
      "|                  1063885.3840608338| 1.148447846598559|0.9271935407488715|87.93635674974254|5.509563498491671|71.48462255358807|5.412173244723805|2.0633540241588046|0.7600426836781768|920.6011886968296|7194.6539427965145|          5607|           51262|           0|     34707|         22162|         867|           56002|        19028|          14084|        20708|       3049|2018-08-02|     56869|      0|\n",
      "|                  1063783.3477046136|1.1346869342251245|0.9154854385597571|86.65444076834156|3.831932775354035|89.39649235339793| 5.82150066917511| 2.638378684042299|0.9053214626884649|965.9768576347861| 6908.502786053636|          6658|           52584|           0|     38857|         20385|       29563|           29679|        17385|          11723|        26349|       3785|2018-08-03|     59242|      0|\n",
      "+------------------------------------+------------------+------------------+-----------------+-----------------+-----------------+-----------------+------------------+------------------+-----------------+------------------+--------------+----------------+------------+----------+--------------+------------+----------------+-------------+---------------+-------------+-----------+----------+----------+-------+\n",
      "only showing top 3 rows\n",
      "\n"
     ]
    }
   ],
   "source": [
    "#Inspect\n",
    "df.show(3)"
   ]
  },
  {
   "cell_type": "code",
   "execution_count": 32,
   "metadata": {},
   "outputs": [
    {
     "data": {
      "image/png": "[encoded data removed]",
      "text/plain": [
       "<Figure size 640x480 with 1 Axes>"
      ]
     },
     "metadata": {},
     "output_type": "display_data"
    }
   ],
   "source": [
    "#Plot to see count of trip indexed by holiday\n",
    "#Graph labels\n",
    "x_val = ['2018-08-01','2019-01-01','2020-01-01', '2021-01-01']\n",
    "years = ['2018', '2019', '2020', '2021']\n",
    "sns.scatterplot(data = df.toPandas(), x = 'date', y = 'trip_count', hue=\"holiday\")\n",
    "plt.title(\"Citi Bike Trips 2018-2021\")\n",
    "plt.xticks(x_val, years)\n",
    "plt.show() "
   ]
  },
  {
   "cell_type": "code",
   "execution_count": 15,
   "metadata": {},
   "outputs": [
    {
     "name": "stdout",
     "output_type": "stream",
     "text": [
      "+-------+\n",
      "|holiday|\n",
      "+-------+\n",
      "|      1|\n",
      "|      0|\n",
      "+-------+\n",
      "\n"
     ]
    }
   ],
   "source": [
    "#Is a holiday 1, not holiday 0\n",
    "df.select(\"holiday\").distinct().show()"
   ]
  },
  {
   "cell_type": "code",
   "execution_count": 16,
   "metadata": {},
   "outputs": [
    {
     "name": "stdout",
     "output_type": "stream",
     "text": [
      "+-------+-----+\n",
      "|holiday|count|\n",
      "+-------+-----+\n",
      "|      1|   29|\n",
      "|      0| 1005|\n",
      "+-------+-----+\n",
      "\n"
     ]
    }
   ],
   "source": [
    "#Count of holidays\n",
    "df.groupby(\"holiday\").count().show()"
   ]
  },
  {
   "cell_type": "markdown",
   "metadata": {},
   "source": [
    "---"
   ]
  },
  {
   "cell_type": "markdown",
   "metadata": {},
   "source": [
    "#### Check correlation of selected variables"
   ]
  },
  {
   "cell_type": "code",
   "execution_count": 17,
   "metadata": {},
   "outputs": [],
   "source": [
    "#Select only data features we want to see correlations\n",
    "dfc = df.drop(\"date\")"
   ]
  },
  {
   "cell_type": "code",
   "execution_count": 18,
   "metadata": {},
   "outputs": [
    {
     "name": "stdout",
     "output_type": "stream",
     "text": [
      "+------------------------------------+------------+------------+--------------+--------------+------------+------------+--------------+--------------+----------------+----------------+----------+--------------+------------+----------------+-------------+---------------+-------------+-----------+----------+-------+\n",
      "|current_month_avg_median_sales_price|avg_crowDist|std_crowDist|avg_feels_like|std_feels_like|avg_humidity|std_humidity|avg_wind_speed|std_wind_speed|avg_tripduration|std_tripduration|peak_count|non_peak_count|precip_count|non_precip_count|morning_count|afternoon_count|evening_count|night_count|trip_count|holiday|\n",
      "+------------------------------------+------------+------------+--------------+--------------+------------+------------+--------------+--------------+----------------+----------------+----------+--------------+------------+----------------+-------------+---------------+-------------+-----------+----------+-------+\n",
      "|                                   0|           0|           0|             0|             0|           0|           0|             0|             0|               0|               0|         0|             0|           0|               0|            0|              0|            0|          0|         0|      0|\n",
      "+------------------------------------+------------+------------+--------------+--------------+------------+------------+--------------+--------------+----------------+----------------+----------+--------------+------------+----------------+-------------+---------------+-------------+-----------+----------+-------+\n",
      "\n"
     ]
    }
   ],
   "source": [
    "#Null values\n",
    "dfc.select([count(when(isnan(c), c)).alias(c) for c in dfc.columns]).show() "
   ]
  },
  {
   "cell_type": "code",
   "execution_count": 19,
   "metadata": {},
   "outputs": [],
   "source": [
    "#Drop nan\n",
    "dfc = dfc.dropna()"
   ]
  },
  {
   "cell_type": "code",
   "execution_count": 20,
   "metadata": {},
   "outputs": [
    {
     "name": "stdout",
     "output_type": "stream",
     "text": [
      "root\n",
      " |-- current_month_avg_median_sales_price: double (nullable = true)\n",
      " |-- avg_crowDist: double (nullable = true)\n",
      " |-- std_crowDist: double (nullable = true)\n",
      " |-- avg_feels_like: double (nullable = true)\n",
      " |-- std_feels_like: double (nullable = true)\n",
      " |-- avg_humidity: double (nullable = true)\n",
      " |-- std_humidity: double (nullable = true)\n",
      " |-- avg_wind_speed: double (nullable = true)\n",
      " |-- std_wind_speed: double (nullable = true)\n",
      " |-- avg_tripduration: double (nullable = true)\n",
      " |-- std_tripduration: double (nullable = true)\n",
      " |-- peak_count: long (nullable = false)\n",
      " |-- non_peak_count: long (nullable = false)\n",
      " |-- precip_count: long (nullable = false)\n",
      " |-- non_precip_count: long (nullable = false)\n",
      " |-- morning_count: long (nullable = false)\n",
      " |-- afternoon_count: long (nullable = false)\n",
      " |-- evening_count: long (nullable = false)\n",
      " |-- night_count: long (nullable = false)\n",
      " |-- trip_count: long (nullable = false)\n",
      " |-- holiday: integer (nullable = false)\n",
      "\n"
     ]
    }
   ],
   "source": [
    "#Print Schema\n",
    "dfc.printSchema()"
   ]
  },
  {
   "cell_type": "code",
   "execution_count": 21,
   "metadata": {},
   "outputs": [],
   "source": [
    "from pyspark.mllib.stat import Statistics as stat\n",
    "#Check correlation\n",
    "#numeric_feat = [i[0] for i in dfc.dtypes if i[1] != \"string\"]\n",
    "#numeric_feat_df = dfc.select(numeric_feat)\n",
    "col_names = dfc.columns\n",
    "feat = dfc.rdd.map(lambda row: row[0:])"
   ]
  },
  {
   "cell_type": "code",
   "execution_count": 22,
   "metadata": {},
   "outputs": [],
   "source": [
    "#corr\n",
    "corr_ = stat.corr(feat, method=\"pearson\")"
   ]
  },
  {
   "cell_type": "code",
   "execution_count": 23,
   "metadata": {},
   "outputs": [
    {
     "data": {
      "text/html": [
       "<div>\n",
       "<style scoped>\n",
       "    .dataframe tbody tr th:only-of-type {\n",
       "        vertical-align: middle;\n",
       "    }\n",
       "\n",
       "    .dataframe tbody tr th {\n",
       "        vertical-align: top;\n",
       "    }\n",
       "\n",
       "    .dataframe thead th {\n",
       "        text-align: right;\n",
       "    }\n",
       "</style>\n",
       "<table border=\"1\" class=\"dataframe\">\n",
       "  <thead>\n",
       "    <tr style=\"text-align: right;\">\n",
       "      <th></th>\n",
       "      <th>current_month_avg_median_sales_price</th>\n",
       "      <th>avg_crowDist</th>\n",
       "      <th>std_crowDist</th>\n",
       "      <th>avg_feels_like</th>\n",
       "      <th>std_feels_like</th>\n",
       "      <th>avg_humidity</th>\n",
       "      <th>std_humidity</th>\n",
       "      <th>avg_wind_speed</th>\n",
       "      <th>std_wind_speed</th>\n",
       "      <th>avg_tripduration</th>\n",
       "      <th>...</th>\n",
       "      <th>peak_count</th>\n",
       "      <th>non_peak_count</th>\n",
       "      <th>precip_count</th>\n",
       "      <th>non_precip_count</th>\n",
       "      <th>morning_count</th>\n",
       "      <th>afternoon_count</th>\n",
       "      <th>evening_count</th>\n",
       "      <th>night_count</th>\n",
       "      <th>trip_count</th>\n",
       "      <th>holiday</th>\n",
       "    </tr>\n",
       "  </thead>\n",
       "  <tbody>\n",
       "    <tr>\n",
       "      <th>current_month_avg_median_sales_price</th>\n",
       "      <td>1.000000</td>\n",
       "      <td>-0.311796</td>\n",
       "      <td>-0.351623</td>\n",
       "      <td>-0.151356</td>\n",
       "      <td>-0.002228</td>\n",
       "      <td>-0.019029</td>\n",
       "      <td>0.027825</td>\n",
       "      <td>0.017733</td>\n",
       "      <td>0.030442</td>\n",
       "      <td>-0.301616</td>\n",
       "      <td>...</td>\n",
       "      <td>0.091068</td>\n",
       "      <td>-0.072722</td>\n",
       "      <td>0.171181</td>\n",
       "      <td>-0.098814</td>\n",
       "      <td>0.142766</td>\n",
       "      <td>-0.076008</td>\n",
       "      <td>-0.007808</td>\n",
       "      <td>-0.038649</td>\n",
       "      <td>0.009214</td>\n",
       "      <td>-0.028156</td>\n",
       "    </tr>\n",
       "    <tr>\n",
       "      <th>avg_crowDist</th>\n",
       "      <td>-0.311796</td>\n",
       "      <td>1.000000</td>\n",
       "      <td>0.948372</td>\n",
       "      <td>0.532827</td>\n",
       "      <td>0.290134</td>\n",
       "      <td>-0.142307</td>\n",
       "      <td>0.196227</td>\n",
       "      <td>-0.226556</td>\n",
       "      <td>-0.131097</td>\n",
       "      <td>0.744060</td>\n",
       "      <td>...</td>\n",
       "      <td>0.105794</td>\n",
       "      <td>0.536153</td>\n",
       "      <td>-0.106795</td>\n",
       "      <td>0.565652</td>\n",
       "      <td>0.202559</td>\n",
       "      <td>0.657602</td>\n",
       "      <td>0.503946</td>\n",
       "      <td>0.459940</td>\n",
       "      <td>0.554571</td>\n",
       "      <td>-0.063927</td>\n",
       "    </tr>\n",
       "    <tr>\n",
       "      <th>std_crowDist</th>\n",
       "      <td>-0.351623</td>\n",
       "      <td>0.948372</td>\n",
       "      <td>1.000000</td>\n",
       "      <td>0.408231</td>\n",
       "      <td>0.224522</td>\n",
       "      <td>-0.138428</td>\n",
       "      <td>0.154195</td>\n",
       "      <td>-0.155584</td>\n",
       "      <td>-0.059447</td>\n",
       "      <td>0.750179</td>\n",
       "      <td>...</td>\n",
       "      <td>0.059681</td>\n",
       "      <td>0.412634</td>\n",
       "      <td>-0.106001</td>\n",
       "      <td>0.434571</td>\n",
       "      <td>0.054123</td>\n",
       "      <td>0.546339</td>\n",
       "      <td>0.385358</td>\n",
       "      <td>0.354742</td>\n",
       "      <td>0.409396</td>\n",
       "      <td>-0.035514</td>\n",
       "    </tr>\n",
       "    <tr>\n",
       "      <th>avg_feels_like</th>\n",
       "      <td>-0.151356</td>\n",
       "      <td>0.532827</td>\n",
       "      <td>0.408231</td>\n",
       "      <td>1.000000</td>\n",
       "      <td>0.282960</td>\n",
       "      <td>0.302197</td>\n",
       "      <td>0.171901</td>\n",
       "      <td>-0.392008</td>\n",
       "      <td>-0.238388</td>\n",
       "      <td>0.415674</td>\n",
       "      <td>...</td>\n",
       "      <td>0.318882</td>\n",
       "      <td>0.439477</td>\n",
       "      <td>0.157370</td>\n",
       "      <td>0.477689</td>\n",
       "      <td>0.465794</td>\n",
       "      <td>0.480310</td>\n",
       "      <td>0.641955</td>\n",
       "      <td>0.656340</td>\n",
       "      <td>0.640527</td>\n",
       "      <td>-0.031930</td>\n",
       "    </tr>\n",
       "    <tr>\n",
       "      <th>std_feels_like</th>\n",
       "      <td>-0.002228</td>\n",
       "      <td>0.290134</td>\n",
       "      <td>0.224522</td>\n",
       "      <td>0.282960</td>\n",
       "      <td>1.000000</td>\n",
       "      <td>-0.263583</td>\n",
       "      <td>0.155932</td>\n",
       "      <td>-0.183002</td>\n",
       "      <td>-0.076701</td>\n",
       "      <td>0.206855</td>\n",
       "      <td>...</td>\n",
       "      <td>0.151451</td>\n",
       "      <td>0.259120</td>\n",
       "      <td>-0.164895</td>\n",
       "      <td>0.416530</td>\n",
       "      <td>0.223253</td>\n",
       "      <td>0.327313</td>\n",
       "      <td>0.329021</td>\n",
       "      <td>0.264465</td>\n",
       "      <td>0.348374</td>\n",
       "      <td>-0.044828</td>\n",
       "    </tr>\n",
       "    <tr>\n",
       "      <th>avg_humidity</th>\n",
       "      <td>-0.019029</td>\n",
       "      <td>-0.142307</td>\n",
       "      <td>-0.138428</td>\n",
       "      <td>0.302197</td>\n",
       "      <td>-0.263583</td>\n",
       "      <td>1.000000</td>\n",
       "      <td>-0.045572</td>\n",
       "      <td>-0.169744</td>\n",
       "      <td>-0.020508</td>\n",
       "      <td>-0.069272</td>\n",
       "      <td>...</td>\n",
       "      <td>0.036167</td>\n",
       "      <td>-0.062537</td>\n",
       "      <td>0.632330</td>\n",
       "      <td>-0.418865</td>\n",
       "      <td>0.034869</td>\n",
       "      <td>-0.095041</td>\n",
       "      <td>-0.008814</td>\n",
       "      <td>0.036938</td>\n",
       "      <td>-0.025834</td>\n",
       "      <td>0.028754</td>\n",
       "    </tr>\n",
       "    <tr>\n",
       "      <th>std_humidity</th>\n",
       "      <td>0.027825</td>\n",
       "      <td>0.196227</td>\n",
       "      <td>0.154195</td>\n",
       "      <td>0.171901</td>\n",
       "      <td>0.155932</td>\n",
       "      <td>-0.045572</td>\n",
       "      <td>1.000000</td>\n",
       "      <td>0.011066</td>\n",
       "      <td>0.126007</td>\n",
       "      <td>0.167421</td>\n",
       "      <td>...</td>\n",
       "      <td>0.108880</td>\n",
       "      <td>0.123807</td>\n",
       "      <td>0.082152</td>\n",
       "      <td>0.124632</td>\n",
       "      <td>0.162700</td>\n",
       "      <td>0.156500</td>\n",
       "      <td>0.182939</td>\n",
       "      <td>0.143350</td>\n",
       "      <td>0.195701</td>\n",
       "      <td>-0.020475</td>\n",
       "    </tr>\n",
       "    <tr>\n",
       "      <th>avg_wind_speed</th>\n",
       "      <td>0.017733</td>\n",
       "      <td>-0.226556</td>\n",
       "      <td>-0.155584</td>\n",
       "      <td>-0.392008</td>\n",
       "      <td>-0.183002</td>\n",
       "      <td>-0.169744</td>\n",
       "      <td>0.011066</td>\n",
       "      <td>1.000000</td>\n",
       "      <td>0.617600</td>\n",
       "      <td>-0.123900</td>\n",
       "      <td>...</td>\n",
       "      <td>-0.128922</td>\n",
       "      <td>-0.219258</td>\n",
       "      <td>-0.036050</td>\n",
       "      <td>-0.243153</td>\n",
       "      <td>-0.236353</td>\n",
       "      <td>-0.244133</td>\n",
       "      <td>-0.258785</td>\n",
       "      <td>-0.294094</td>\n",
       "      <td>-0.295398</td>\n",
       "      <td>0.040396</td>\n",
       "    </tr>\n",
       "    <tr>\n",
       "      <th>std_wind_speed</th>\n",
       "      <td>0.030442</td>\n",
       "      <td>-0.131097</td>\n",
       "      <td>-0.059447</td>\n",
       "      <td>-0.238388</td>\n",
       "      <td>-0.076701</td>\n",
       "      <td>-0.020508</td>\n",
       "      <td>0.126007</td>\n",
       "      <td>0.617600</td>\n",
       "      <td>1.000000</td>\n",
       "      <td>-0.092177</td>\n",
       "      <td>...</td>\n",
       "      <td>-0.060618</td>\n",
       "      <td>-0.155639</td>\n",
       "      <td>0.112054</td>\n",
       "      <td>-0.236461</td>\n",
       "      <td>-0.142536</td>\n",
       "      <td>-0.149586</td>\n",
       "      <td>-0.168224</td>\n",
       "      <td>-0.190027</td>\n",
       "      <td>-0.184940</td>\n",
       "      <td>-0.033619</td>\n",
       "    </tr>\n",
       "    <tr>\n",
       "      <th>avg_tripduration</th>\n",
       "      <td>-0.301616</td>\n",
       "      <td>0.744060</td>\n",
       "      <td>0.750179</td>\n",
       "      <td>0.415674</td>\n",
       "      <td>0.206855</td>\n",
       "      <td>-0.069272</td>\n",
       "      <td>0.167421</td>\n",
       "      <td>-0.123900</td>\n",
       "      <td>-0.092177</td>\n",
       "      <td>1.000000</td>\n",
       "      <td>...</td>\n",
       "      <td>-0.246941</td>\n",
       "      <td>0.430402</td>\n",
       "      <td>-0.137622</td>\n",
       "      <td>0.247454</td>\n",
       "      <td>-0.197829</td>\n",
       "      <td>0.407863</td>\n",
       "      <td>0.156406</td>\n",
       "      <td>0.268507</td>\n",
       "      <td>0.179377</td>\n",
       "      <td>0.033350</td>\n",
       "    </tr>\n",
       "    <tr>\n",
       "      <th>std_tripduration</th>\n",
       "      <td>-0.087239</td>\n",
       "      <td>0.380881</td>\n",
       "      <td>0.391249</td>\n",
       "      <td>0.263394</td>\n",
       "      <td>0.126971</td>\n",
       "      <td>0.004686</td>\n",
       "      <td>0.128355</td>\n",
       "      <td>-0.085226</td>\n",
       "      <td>-0.036161</td>\n",
       "      <td>0.691403</td>\n",
       "      <td>...</td>\n",
       "      <td>-0.083091</td>\n",
       "      <td>0.187728</td>\n",
       "      <td>-0.033716</td>\n",
       "      <td>0.109206</td>\n",
       "      <td>-0.085874</td>\n",
       "      <td>0.189211</td>\n",
       "      <td>0.100933</td>\n",
       "      <td>0.144202</td>\n",
       "      <td>0.097956</td>\n",
       "      <td>0.047609</td>\n",
       "    </tr>\n",
       "    <tr>\n",
       "      <th>peak_count</th>\n",
       "      <td>0.091068</td>\n",
       "      <td>0.105794</td>\n",
       "      <td>0.059681</td>\n",
       "      <td>0.318882</td>\n",
       "      <td>0.151451</td>\n",
       "      <td>0.036167</td>\n",
       "      <td>0.108880</td>\n",
       "      <td>-0.128922</td>\n",
       "      <td>-0.060618</td>\n",
       "      <td>-0.246941</td>\n",
       "      <td>...</td>\n",
       "      <td>1.000000</td>\n",
       "      <td>-0.291673</td>\n",
       "      <td>0.216017</td>\n",
       "      <td>0.355388</td>\n",
       "      <td>0.764442</td>\n",
       "      <td>0.059445</td>\n",
       "      <td>0.678604</td>\n",
       "      <td>0.172182</td>\n",
       "      <td>0.545354</td>\n",
       "      <td>-0.036794</td>\n",
       "    </tr>\n",
       "    <tr>\n",
       "      <th>non_peak_count</th>\n",
       "      <td>-0.072722</td>\n",
       "      <td>0.536153</td>\n",
       "      <td>0.412634</td>\n",
       "      <td>0.439477</td>\n",
       "      <td>0.259120</td>\n",
       "      <td>-0.062537</td>\n",
       "      <td>0.123807</td>\n",
       "      <td>-0.219258</td>\n",
       "      <td>-0.155639</td>\n",
       "      <td>0.430402</td>\n",
       "      <td>...</td>\n",
       "      <td>-0.291673</td>\n",
       "      <td>1.000000</td>\n",
       "      <td>0.005883</td>\n",
       "      <td>0.574418</td>\n",
       "      <td>0.217384</td>\n",
       "      <td>0.879901</td>\n",
       "      <td>0.430875</td>\n",
       "      <td>0.772170</td>\n",
       "      <td>0.642693</td>\n",
       "      <td>-0.092709</td>\n",
       "    </tr>\n",
       "    <tr>\n",
       "      <th>precip_count</th>\n",
       "      <td>0.171181</td>\n",
       "      <td>-0.106795</td>\n",
       "      <td>-0.106001</td>\n",
       "      <td>0.157370</td>\n",
       "      <td>-0.164895</td>\n",
       "      <td>0.632330</td>\n",
       "      <td>0.082152</td>\n",
       "      <td>-0.036050</td>\n",
       "      <td>0.112054</td>\n",
       "      <td>-0.137622</td>\n",
       "      <td>...</td>\n",
       "      <td>0.216017</td>\n",
       "      <td>0.005883</td>\n",
       "      <td>1.000000</td>\n",
       "      <td>-0.465399</td>\n",
       "      <td>0.220475</td>\n",
       "      <td>0.066852</td>\n",
       "      <td>0.189864</td>\n",
       "      <td>0.097317</td>\n",
       "      <td>0.178175</td>\n",
       "      <td>-0.021164</td>\n",
       "    </tr>\n",
       "    <tr>\n",
       "      <th>non_precip_count</th>\n",
       "      <td>-0.098814</td>\n",
       "      <td>0.565652</td>\n",
       "      <td>0.434571</td>\n",
       "      <td>0.477689</td>\n",
       "      <td>0.416530</td>\n",
       "      <td>-0.418865</td>\n",
       "      <td>0.124632</td>\n",
       "      <td>-0.243153</td>\n",
       "      <td>-0.236461</td>\n",
       "      <td>0.247454</td>\n",
       "      <td>...</td>\n",
       "      <td>0.355388</td>\n",
       "      <td>0.574418</td>\n",
       "      <td>-0.465399</td>\n",
       "      <td>1.000000</td>\n",
       "      <td>0.584148</td>\n",
       "      <td>0.694569</td>\n",
       "      <td>0.709740</td>\n",
       "      <td>0.671811</td>\n",
       "      <td>0.788016</td>\n",
       "      <td>-0.086344</td>\n",
       "    </tr>\n",
       "    <tr>\n",
       "      <th>morning_count</th>\n",
       "      <td>0.142766</td>\n",
       "      <td>0.202559</td>\n",
       "      <td>0.054123</td>\n",
       "      <td>0.465794</td>\n",
       "      <td>0.223253</td>\n",
       "      <td>0.034869</td>\n",
       "      <td>0.162700</td>\n",
       "      <td>-0.236353</td>\n",
       "      <td>-0.142536</td>\n",
       "      <td>-0.197829</td>\n",
       "      <td>...</td>\n",
       "      <td>0.764442</td>\n",
       "      <td>0.217384</td>\n",
       "      <td>0.220475</td>\n",
       "      <td>0.584148</td>\n",
       "      <td>1.000000</td>\n",
       "      <td>0.405214</td>\n",
       "      <td>0.731792</td>\n",
       "      <td>0.516834</td>\n",
       "      <td>0.802776</td>\n",
       "      <td>-0.132121</td>\n",
       "    </tr>\n",
       "    <tr>\n",
       "      <th>afternoon_count</th>\n",
       "      <td>-0.076008</td>\n",
       "      <td>0.657602</td>\n",
       "      <td>0.546339</td>\n",
       "      <td>0.480310</td>\n",
       "      <td>0.327313</td>\n",
       "      <td>-0.095041</td>\n",
       "      <td>0.156500</td>\n",
       "      <td>-0.244133</td>\n",
       "      <td>-0.149586</td>\n",
       "      <td>0.407863</td>\n",
       "      <td>...</td>\n",
       "      <td>0.059445</td>\n",
       "      <td>0.879901</td>\n",
       "      <td>0.066852</td>\n",
       "      <td>0.694569</td>\n",
       "      <td>0.405214</td>\n",
       "      <td>1.000000</td>\n",
       "      <td>0.615153</td>\n",
       "      <td>0.751500</td>\n",
       "      <td>0.818678</td>\n",
       "      <td>-0.048185</td>\n",
       "    </tr>\n",
       "    <tr>\n",
       "      <th>evening_count</th>\n",
       "      <td>-0.007808</td>\n",
       "      <td>0.503946</td>\n",
       "      <td>0.385358</td>\n",
       "      <td>0.641955</td>\n",
       "      <td>0.329021</td>\n",
       "      <td>-0.008814</td>\n",
       "      <td>0.182939</td>\n",
       "      <td>-0.258785</td>\n",
       "      <td>-0.168224</td>\n",
       "      <td>0.156406</td>\n",
       "      <td>...</td>\n",
       "      <td>0.678604</td>\n",
       "      <td>0.430875</td>\n",
       "      <td>0.189864</td>\n",
       "      <td>0.709740</td>\n",
       "      <td>0.731792</td>\n",
       "      <td>0.615153</td>\n",
       "      <td>1.000000</td>\n",
       "      <td>0.703397</td>\n",
       "      <td>0.921108</td>\n",
       "      <td>-0.117098</td>\n",
       "    </tr>\n",
       "    <tr>\n",
       "      <th>night_count</th>\n",
       "      <td>-0.038649</td>\n",
       "      <td>0.459940</td>\n",
       "      <td>0.354742</td>\n",
       "      <td>0.656340</td>\n",
       "      <td>0.264465</td>\n",
       "      <td>0.036938</td>\n",
       "      <td>0.143350</td>\n",
       "      <td>-0.294094</td>\n",
       "      <td>-0.190027</td>\n",
       "      <td>0.268507</td>\n",
       "      <td>...</td>\n",
       "      <td>0.172182</td>\n",
       "      <td>0.772170</td>\n",
       "      <td>0.097317</td>\n",
       "      <td>0.671811</td>\n",
       "      <td>0.516834</td>\n",
       "      <td>0.751500</td>\n",
       "      <td>0.703397</td>\n",
       "      <td>1.000000</td>\n",
       "      <td>0.814568</td>\n",
       "      <td>-0.052646</td>\n",
       "    </tr>\n",
       "    <tr>\n",
       "      <th>trip_count</th>\n",
       "      <td>0.009214</td>\n",
       "      <td>0.554571</td>\n",
       "      <td>0.409396</td>\n",
       "      <td>0.640527</td>\n",
       "      <td>0.348374</td>\n",
       "      <td>-0.025834</td>\n",
       "      <td>0.195701</td>\n",
       "      <td>-0.295398</td>\n",
       "      <td>-0.184940</td>\n",
       "      <td>0.179377</td>\n",
       "      <td>...</td>\n",
       "      <td>0.545354</td>\n",
       "      <td>0.642693</td>\n",
       "      <td>0.178175</td>\n",
       "      <td>0.788016</td>\n",
       "      <td>0.802776</td>\n",
       "      <td>0.818678</td>\n",
       "      <td>0.921108</td>\n",
       "      <td>0.814568</td>\n",
       "      <td>1.000000</td>\n",
       "      <td>-0.110712</td>\n",
       "    </tr>\n",
       "    <tr>\n",
       "      <th>holiday</th>\n",
       "      <td>-0.028156</td>\n",
       "      <td>-0.063927</td>\n",
       "      <td>-0.035514</td>\n",
       "      <td>-0.031930</td>\n",
       "      <td>-0.044828</td>\n",
       "      <td>0.028754</td>\n",
       "      <td>-0.020475</td>\n",
       "      <td>0.040396</td>\n",
       "      <td>-0.033619</td>\n",
       "      <td>0.033350</td>\n",
       "      <td>...</td>\n",
       "      <td>-0.036794</td>\n",
       "      <td>-0.092709</td>\n",
       "      <td>-0.021164</td>\n",
       "      <td>-0.086344</td>\n",
       "      <td>-0.132121</td>\n",
       "      <td>-0.048185</td>\n",
       "      <td>-0.117098</td>\n",
       "      <td>-0.052646</td>\n",
       "      <td>-0.110712</td>\n",
       "      <td>1.000000</td>\n",
       "    </tr>\n",
       "  </tbody>\n",
       "</table>\n",
       "<p>21 rows × 21 columns</p>\n",
       "</div>"
      ],
      "text/plain": [
       "                                      current_month_avg_median_sales_price  \\\n",
       "current_month_avg_median_sales_price                              1.000000   \n",
       "avg_crowDist                                                     -0.311796   \n",
       "std_crowDist                                                     -0.351623   \n",
       "avg_feels_like                                                   -0.151356   \n",
       "std_feels_like                                                   -0.002228   \n",
       "avg_humidity                                                     -0.019029   \n",
       "std_humidity                                                      0.027825   \n",
       "avg_wind_speed                                                    0.017733   \n",
       "std_wind_speed                                                    0.030442   \n",
       "avg_tripduration                                                 -0.301616   \n",
       "std_tripduration                                                 -0.087239   \n",
       "peak_count                                                        0.091068   \n",
       "non_peak_count                                                   -0.072722   \n",
       "precip_count                                                      0.171181   \n",
       "non_precip_count                                                 -0.098814   \n",
       "morning_count                                                     0.142766   \n",
       "afternoon_count                                                  -0.076008   \n",
       "evening_count                                                    -0.007808   \n",
       "night_count                                                      -0.038649   \n",
       "trip_count                                                        0.009214   \n",
       "holiday                                                          -0.028156   \n",
       "\n",
       "                                      avg_crowDist  std_crowDist  \\\n",
       "current_month_avg_median_sales_price     -0.311796     -0.351623   \n",
       "avg_crowDist                              1.000000      0.948372   \n",
       "std_crowDist                              0.948372      1.000000   \n",
       "avg_feels_like                            0.532827      0.408231   \n",
       "std_feels_like                            0.290134      0.224522   \n",
       "avg_humidity                             -0.142307     -0.138428   \n",
       "std_humidity                              0.196227      0.154195   \n",
       "avg_wind_speed                           -0.226556     -0.155584   \n",
       "std_wind_speed                           -0.131097     -0.059447   \n",
       "avg_tripduration                          0.744060      0.750179   \n",
       "std_tripduration                          0.380881      0.391249   \n",
       "peak_count                                0.105794      0.059681   \n",
       "non_peak_count                            0.536153      0.412634   \n",
       "precip_count                             -0.106795     -0.106001   \n",
       "non_precip_count                          0.565652      0.434571   \n",
       "morning_count                             0.202559      0.054123   \n",
       "afternoon_count                           0.657602      0.546339   \n",
       "evening_count                             0.503946      0.385358   \n",
       "night_count                               0.459940      0.354742   \n",
       "trip_count                                0.554571      0.409396   \n",
       "holiday                                  -0.063927     -0.035514   \n",
       "\n",
       "                                      avg_feels_like  std_feels_like  \\\n",
       "current_month_avg_median_sales_price       -0.151356       -0.002228   \n",
       "avg_crowDist                                0.532827        0.290134   \n",
       "std_crowDist                                0.408231        0.224522   \n",
       "avg_feels_like                              1.000000        0.282960   \n",
       "std_feels_like                              0.282960        1.000000   \n",
       "avg_humidity                                0.302197       -0.263583   \n",
       "std_humidity                                0.171901        0.155932   \n",
       "avg_wind_speed                             -0.392008       -0.183002   \n",
       "std_wind_speed                             -0.238388       -0.076701   \n",
       "avg_tripduration                            0.415674        0.206855   \n",
       "std_tripduration                            0.263394        0.126971   \n",
       "peak_count                                  0.318882        0.151451   \n",
       "non_peak_count                              0.439477        0.259120   \n",
       "precip_count                                0.157370       -0.164895   \n",
       "non_precip_count                            0.477689        0.416530   \n",
       "morning_count                               0.465794        0.223253   \n",
       "afternoon_count                             0.480310        0.327313   \n",
       "evening_count                               0.641955        0.329021   \n",
       "night_count                                 0.656340        0.264465   \n",
       "trip_count                                  0.640527        0.348374   \n",
       "holiday                                    -0.031930       -0.044828   \n",
       "\n",
       "                                      avg_humidity  std_humidity  \\\n",
       "current_month_avg_median_sales_price     -0.019029      0.027825   \n",
       "avg_crowDist                             -0.142307      0.196227   \n",
       "std_crowDist                             -0.138428      0.154195   \n",
       "avg_feels_like                            0.302197      0.171901   \n",
       "std_feels_like                           -0.263583      0.155932   \n",
       "avg_humidity                              1.000000     -0.045572   \n",
       "std_humidity                             -0.045572      1.000000   \n",
       "avg_wind_speed                           -0.169744      0.011066   \n",
       "std_wind_speed                           -0.020508      0.126007   \n",
       "avg_tripduration                         -0.069272      0.167421   \n",
       "std_tripduration                          0.004686      0.128355   \n",
       "peak_count                                0.036167      0.108880   \n",
       "non_peak_count                           -0.062537      0.123807   \n",
       "precip_count                              0.632330      0.082152   \n",
       "non_precip_count                         -0.418865      0.124632   \n",
       "morning_count                             0.034869      0.162700   \n",
       "afternoon_count                          -0.095041      0.156500   \n",
       "evening_count                            -0.008814      0.182939   \n",
       "night_count                               0.036938      0.143350   \n",
       "trip_count                               -0.025834      0.195701   \n",
       "holiday                                   0.028754     -0.020475   \n",
       "\n",
       "                                      avg_wind_speed  std_wind_speed  \\\n",
       "current_month_avg_median_sales_price        0.017733        0.030442   \n",
       "avg_crowDist                               -0.226556       -0.131097   \n",
       "std_crowDist                               -0.155584       -0.059447   \n",
       "avg_feels_like                             -0.392008       -0.238388   \n",
       "std_feels_like                             -0.183002       -0.076701   \n",
       "avg_humidity                               -0.169744       -0.020508   \n",
       "std_humidity                                0.011066        0.126007   \n",
       "avg_wind_speed                              1.000000        0.617600   \n",
       "std_wind_speed                              0.617600        1.000000   \n",
       "avg_tripduration                           -0.123900       -0.092177   \n",
       "std_tripduration                           -0.085226       -0.036161   \n",
       "peak_count                                 -0.128922       -0.060618   \n",
       "non_peak_count                             -0.219258       -0.155639   \n",
       "precip_count                               -0.036050        0.112054   \n",
       "non_precip_count                           -0.243153       -0.236461   \n",
       "morning_count                              -0.236353       -0.142536   \n",
       "afternoon_count                            -0.244133       -0.149586   \n",
       "evening_count                              -0.258785       -0.168224   \n",
       "night_count                                -0.294094       -0.190027   \n",
       "trip_count                                 -0.295398       -0.184940   \n",
       "holiday                                     0.040396       -0.033619   \n",
       "\n",
       "                                      avg_tripduration  ...  peak_count  \\\n",
       "current_month_avg_median_sales_price         -0.301616  ...    0.091068   \n",
       "avg_crowDist                                  0.744060  ...    0.105794   \n",
       "std_crowDist                                  0.750179  ...    0.059681   \n",
       "avg_feels_like                                0.415674  ...    0.318882   \n",
       "std_feels_like                                0.206855  ...    0.151451   \n",
       "avg_humidity                                 -0.069272  ...    0.036167   \n",
       "std_humidity                                  0.167421  ...    0.108880   \n",
       "avg_wind_speed                               -0.123900  ...   -0.128922   \n",
       "std_wind_speed                               -0.092177  ...   -0.060618   \n",
       "avg_tripduration                              1.000000  ...   -0.246941   \n",
       "std_tripduration                              0.691403  ...   -0.083091   \n",
       "peak_count                                   -0.246941  ...    1.000000   \n",
       "non_peak_count                                0.430402  ...   -0.291673   \n",
       "precip_count                                 -0.137622  ...    0.216017   \n",
       "non_precip_count                              0.247454  ...    0.355388   \n",
       "morning_count                                -0.197829  ...    0.764442   \n",
       "afternoon_count                               0.407863  ...    0.059445   \n",
       "evening_count                                 0.156406  ...    0.678604   \n",
       "night_count                                   0.268507  ...    0.172182   \n",
       "trip_count                                    0.179377  ...    0.545354   \n",
       "holiday                                       0.033350  ...   -0.036794   \n",
       "\n",
       "                                      non_peak_count  precip_count  \\\n",
       "current_month_avg_median_sales_price       -0.072722      0.171181   \n",
       "avg_crowDist                                0.536153     -0.106795   \n",
       "std_crowDist                                0.412634     -0.106001   \n",
       "avg_feels_like                              0.439477      0.157370   \n",
       "std_feels_like                              0.259120     -0.164895   \n",
       "avg_humidity                               -0.062537      0.632330   \n",
       "std_humidity                                0.123807      0.082152   \n",
       "avg_wind_speed                             -0.219258     -0.036050   \n",
       "std_wind_speed                             -0.155639      0.112054   \n",
       "avg_tripduration                            0.430402     -0.137622   \n",
       "std_tripduration                            0.187728     -0.033716   \n",
       "peak_count                                 -0.291673      0.216017   \n",
       "non_peak_count                              1.000000      0.005883   \n",
       "precip_count                                0.005883      1.000000   \n",
       "non_precip_count                            0.574418     -0.465399   \n",
       "morning_count                               0.217384      0.220475   \n",
       "afternoon_count                             0.879901      0.066852   \n",
       "evening_count                               0.430875      0.189864   \n",
       "night_count                                 0.772170      0.097317   \n",
       "trip_count                                  0.642693      0.178175   \n",
       "holiday                                    -0.092709     -0.021164   \n",
       "\n",
       "                                      non_precip_count  morning_count  \\\n",
       "current_month_avg_median_sales_price         -0.098814       0.142766   \n",
       "avg_crowDist                                  0.565652       0.202559   \n",
       "std_crowDist                                  0.434571       0.054123   \n",
       "avg_feels_like                                0.477689       0.465794   \n",
       "std_feels_like                                0.416530       0.223253   \n",
       "avg_humidity                                 -0.418865       0.034869   \n",
       "std_humidity                                  0.124632       0.162700   \n",
       "avg_wind_speed                               -0.243153      -0.236353   \n",
       "std_wind_speed                               -0.236461      -0.142536   \n",
       "avg_tripduration                              0.247454      -0.197829   \n",
       "std_tripduration                              0.109206      -0.085874   \n",
       "peak_count                                    0.355388       0.764442   \n",
       "non_peak_count                                0.574418       0.217384   \n",
       "precip_count                                 -0.465399       0.220475   \n",
       "non_precip_count                              1.000000       0.584148   \n",
       "morning_count                                 0.584148       1.000000   \n",
       "afternoon_count                               0.694569       0.405214   \n",
       "evening_count                                 0.709740       0.731792   \n",
       "night_count                                   0.671811       0.516834   \n",
       "trip_count                                    0.788016       0.802776   \n",
       "holiday                                      -0.086344      -0.132121   \n",
       "\n",
       "                                      afternoon_count  evening_count  \\\n",
       "current_month_avg_median_sales_price        -0.076008      -0.007808   \n",
       "avg_crowDist                                 0.657602       0.503946   \n",
       "std_crowDist                                 0.546339       0.385358   \n",
       "avg_feels_like                               0.480310       0.641955   \n",
       "std_feels_like                               0.327313       0.329021   \n",
       "avg_humidity                                -0.095041      -0.008814   \n",
       "std_humidity                                 0.156500       0.182939   \n",
       "avg_wind_speed                              -0.244133      -0.258785   \n",
       "std_wind_speed                              -0.149586      -0.168224   \n",
       "avg_tripduration                             0.407863       0.156406   \n",
       "std_tripduration                             0.189211       0.100933   \n",
       "peak_count                                   0.059445       0.678604   \n",
       "non_peak_count                               0.879901       0.430875   \n",
       "precip_count                                 0.066852       0.189864   \n",
       "non_precip_count                             0.694569       0.709740   \n",
       "morning_count                                0.405214       0.731792   \n",
       "afternoon_count                              1.000000       0.615153   \n",
       "evening_count                                0.615153       1.000000   \n",
       "night_count                                  0.751500       0.703397   \n",
       "trip_count                                   0.818678       0.921108   \n",
       "holiday                                     -0.048185      -0.117098   \n",
       "\n",
       "                                      night_count  trip_count   holiday  \n",
       "current_month_avg_median_sales_price    -0.038649    0.009214 -0.028156  \n",
       "avg_crowDist                             0.459940    0.554571 -0.063927  \n",
       "std_crowDist                             0.354742    0.409396 -0.035514  \n",
       "avg_feels_like                           0.656340    0.640527 -0.031930  \n",
       "std_feels_like                           0.264465    0.348374 -0.044828  \n",
       "avg_humidity                             0.036938   -0.025834  0.028754  \n",
       "std_humidity                             0.143350    0.195701 -0.020475  \n",
       "avg_wind_speed                          -0.294094   -0.295398  0.040396  \n",
       "std_wind_speed                          -0.190027   -0.184940 -0.033619  \n",
       "avg_tripduration                         0.268507    0.179377  0.033350  \n",
       "std_tripduration                         0.144202    0.097956  0.047609  \n",
       "peak_count                               0.172182    0.545354 -0.036794  \n",
       "non_peak_count                           0.772170    0.642693 -0.092709  \n",
       "precip_count                             0.097317    0.178175 -0.021164  \n",
       "non_precip_count                         0.671811    0.788016 -0.086344  \n",
       "morning_count                            0.516834    0.802776 -0.132121  \n",
       "afternoon_count                          0.751500    0.818678 -0.048185  \n",
       "evening_count                            0.703397    0.921108 -0.117098  \n",
       "night_count                              1.000000    0.814568 -0.052646  \n",
       "trip_count                               0.814568    1.000000 -0.110712  \n",
       "holiday                                 -0.052646   -0.110712  1.000000  \n",
       "\n",
       "[21 rows x 21 columns]"
      ]
     },
     "execution_count": 23,
     "metadata": {},
     "output_type": "execute_result"
    }
   ],
   "source": [
    "#Corr to pandas DF\n",
    "corr_df = pd.DataFrame(corr_)\n",
    "corr_df.index, corr_df.columns = col_names, col_names\n",
    "corr_df"
   ]
  },
  {
   "cell_type": "markdown",
   "metadata": {},
   "source": [
    "---"
   ]
  },
  {
   "cell_type": "markdown",
   "metadata": {},
   "source": [
    "#### Rename column and explore"
   ]
  },
  {
   "cell_type": "code",
   "execution_count": 10,
   "metadata": {},
   "outputs": [
    {
     "name": "stdout",
     "output_type": "stream",
     "text": [
      "+------------------------------------+------------------+------------------+-----------------+-----------------+-----------------+-----------------+------------------+------------------+-----------------+------------------+--------------+----------------+------------+----------+--------------+------------+----------------+-------------+---------------+-------------+-----------+----------+----------+-----+\n",
      "|current_month_avg_median_sales_price|      avg_crowDist|      std_crowDist|   avg_feels_like|   std_feels_like|     avg_humidity|     std_humidity|    avg_wind_speed|    std_wind_speed| avg_tripduration|  std_tripduration|customer_count|subscriber_count|member_count|peak_count|non_peak_count|precip_count|non_precip_count|morning_count|afternoon_count|evening_count|night_count|      date|trip_count|label|\n",
      "+------------------------------------+------------------+------------------+-----------------+-----------------+-----------------+-----------------+------------------+------------------+-----------------+------------------+--------------+----------------+------------+----------+--------------+------------+----------------+-------------+---------------+-------------+-----------+----------+----------+-----+\n",
      "|                  1064262.3373386133|1.1329740969724742|0.9106752239514277| 87.3497442932618|5.296865011590768|86.21045569662714|8.289926063545808|2.3453943947793934|0.7509283901033936|935.8277342636231|10699.247710177839|          5032|           54591|           0|     36103|         23520|       36231|           23392|        19653|          15382|        21238|       3350|2018-08-01|     59623|    0|\n",
      "|                  1063885.3840608338| 1.148447846598559|0.9271935407488715|87.93635674974254|5.509563498491671|71.48462255358807|5.412173244723805|2.0633540241588046|0.7600426836781768|920.6011886968296|7194.6539427965145|          5607|           51262|           0|     34707|         22162|         867|           56002|        19028|          14084|        20708|       3049|2018-08-02|     56869|    0|\n",
      "+------------------------------------+------------------+------------------+-----------------+-----------------+-----------------+-----------------+------------------+------------------+-----------------+------------------+--------------+----------------+------------+----------+--------------+------------+----------------+-------------+---------------+-------------+-----------+----------+----------+-----+\n",
      "only showing top 2 rows\n",
      "\n"
     ]
    }
   ],
   "source": [
    "#rename holiday to label\n",
    "df = df.withColumnRenamed(\"holiday\", \"label\")\n",
    "df.show(2)"
   ]
  },
  {
   "cell_type": "code",
   "execution_count": 11,
   "metadata": {},
   "outputs": [
    {
     "name": "stdout",
     "output_type": "stream",
     "text": [
      "root\n",
      " |-- current_month_avg_median_sales_price: double (nullable = true)\n",
      " |-- avg_crowDist: double (nullable = true)\n",
      " |-- std_crowDist: double (nullable = true)\n",
      " |-- avg_feels_like: double (nullable = true)\n",
      " |-- std_feels_like: double (nullable = true)\n",
      " |-- avg_humidity: double (nullable = true)\n",
      " |-- std_humidity: double (nullable = true)\n",
      " |-- avg_wind_speed: double (nullable = true)\n",
      " |-- std_wind_speed: double (nullable = true)\n",
      " |-- avg_tripduration: double (nullable = true)\n",
      " |-- std_tripduration: double (nullable = true)\n",
      " |-- customer_count: long (nullable = false)\n",
      " |-- subscriber_count: long (nullable = false)\n",
      " |-- member_count: long (nullable = false)\n",
      " |-- peak_count: long (nullable = false)\n",
      " |-- non_peak_count: long (nullable = false)\n",
      " |-- precip_count: long (nullable = false)\n",
      " |-- non_precip_count: long (nullable = false)\n",
      " |-- morning_count: long (nullable = false)\n",
      " |-- afternoon_count: long (nullable = false)\n",
      " |-- evening_count: long (nullable = false)\n",
      " |-- night_count: long (nullable = false)\n",
      " |-- trip_count: long (nullable = false)\n",
      " |-- label: integer (nullable = false)\n",
      "\n"
     ]
    }
   ],
   "source": [
    "#drop date and print schema\n",
    "df = df.drop(\"date\")\n",
    "df.printSchema()"
   ]
  },
  {
   "cell_type": "code",
   "execution_count": 26,
   "metadata": {},
   "outputs": [
    {
     "data": {
      "text/plain": [
       "1034"
      ]
     },
     "execution_count": 26,
     "metadata": {},
     "output_type": "execute_result"
    }
   ],
   "source": [
    "#Count rows\n",
    "df.count()"
   ]
  },
  {
   "cell_type": "code",
   "execution_count": 12,
   "metadata": {},
   "outputs": [
    {
     "data": {
      "text/plain": [
       "1034"
      ]
     },
     "execution_count": 12,
     "metadata": {},
     "output_type": "execute_result"
    }
   ],
   "source": [
    "#Drop nulls, there isn't any\n",
    "df = df.dropna()\n",
    "df.count()"
   ]
  },
  {
   "cell_type": "markdown",
   "metadata": {},
   "source": [
    "### Create pipeline"
   ]
  },
  {
   "cell_type": "code",
   "execution_count": 13,
   "metadata": {},
   "outputs": [
    {
     "data": {
      "text/plain": [
       "['current_month_avg_median_sales_price',\n",
       " 'avg_crowDist',\n",
       " 'std_crowDist',\n",
       " 'avg_feels_like',\n",
       " 'std_feels_like',\n",
       " 'avg_humidity',\n",
       " 'std_humidity',\n",
       " 'avg_wind_speed',\n",
       " 'std_wind_speed',\n",
       " 'avg_tripduration',\n",
       " 'std_tripduration',\n",
       " 'customer_count',\n",
       " 'subscriber_count',\n",
       " 'member_count',\n",
       " 'peak_count',\n",
       " 'non_peak_count',\n",
       " 'precip_count',\n",
       " 'non_precip_count',\n",
       " 'morning_count',\n",
       " 'afternoon_count',\n",
       " 'evening_count',\n",
       " 'night_count',\n",
       " 'trip_count',\n",
       " 'label']"
      ]
     },
     "execution_count": 13,
     "metadata": {},
     "output_type": "execute_result"
    }
   ],
   "source": [
    "#Get non-string feats\n",
    "num_feat = [i[0] for i in df.dtypes if i[1] != \"string\"]\n",
    "#cols = set(data.columns)-set(num_feat)\n",
    "#cols\n",
    "num_feat"
   ]
  },
  {
   "cell_type": "code",
   "execution_count": 14,
   "metadata": {},
   "outputs": [],
   "source": [
    "#PIPELINE indexer-standard scalar\n",
    "#indexer = [StringIndexer(inputCol=c, outputCol=\"{0}_indexed\".format(c)) for c in cols]\n",
    "\n",
    "#encoder = [OneHotEncoder(inputCol=index.getOutputCol(), outputCol=\"{0}_encoded\".format(index.getOutputCol())) for index in indexer]\n",
    "\n",
    "#assembler = VectorAssembler(inputCols=[enc.getOutputCol() for enc in encoder] + list((set(num_feat)-set([\"label\"]))), outputCol=\"vectorized_features\")\n",
    "assembler = VectorAssembler(inputCols=list((set(num_feat)-set([\"label\"]))), outputCol=\"vectorized_features\")\n",
    "\n",
    "standardScaler = StandardScaler(inputCol=assembler.getOutputCol(), outputCol=\"features\")\n",
    "\n",
    "#pipeline\n",
    "pipeline = Pipeline(stages=[assembler] + [standardScaler])"
   ]
  },
  {
   "cell_type": "code",
   "execution_count": 15,
   "metadata": {},
   "outputs": [],
   "source": [
    "#Get model\n",
    "model = pipeline.fit(df)\n",
    "df_tr = model.transform(df)"
   ]
  },
  {
   "cell_type": "code",
   "execution_count": 16,
   "metadata": {},
   "outputs": [
    {
     "name": "stdout",
     "output_type": "stream",
     "text": [
      "+------------------------------------+------------------+------------------+-----------------+-----------------+-----------------+-----------------+------------------+------------------+-----------------+------------------+--------------+----------------+------------+----------+--------------+------------+----------------+-------------+---------------+-------------+-----------+----------+-----+--------------------+--------------------+\n",
      "|current_month_avg_median_sales_price|      avg_crowDist|      std_crowDist|   avg_feels_like|   std_feels_like|     avg_humidity|     std_humidity|    avg_wind_speed|    std_wind_speed| avg_tripduration|  std_tripduration|customer_count|subscriber_count|member_count|peak_count|non_peak_count|precip_count|non_precip_count|morning_count|afternoon_count|evening_count|night_count|trip_count|label| vectorized_features|            features|\n",
      "+------------------------------------+------------------+------------------+-----------------+-----------------+-----------------+-----------------+------------------+------------------+-----------------+------------------+--------------+----------------+------------+----------+--------------+------------+----------------+-------------+---------------+-------------+-----------+----------+-----+--------------------+--------------------+\n",
      "|                  1064262.3373386133|1.1329740969724742|0.9106752239514277| 87.3497442932618|5.296865011590768|86.21045569662714|8.289926063545808|2.3453943947793934|0.7509283901033936|935.8277342636231|10699.247710177839|          5032|           54591|           0|     36103|         23520|       36231|           23392|        19653|          15382|        21238|       3350|     59623|    0|[19653.0,10699.24...|[3.16100392990384...|\n",
      "|                  1063885.3840608338| 1.148447846598559|0.9271935407488715|87.93635674974254|5.509563498491671|71.48462255358807|5.412173244723805|2.0633540241588046|0.7600426836781768|920.6011886968296|7194.6539427965145|          5607|           51262|           0|     34707|         22162|         867|           56002|        19028|          14084|        20708|       3049|     56869|    0|[19028.0,7194.653...|[3.06047843984177...|\n",
      "+------------------------------------+------------------+------------------+-----------------+-----------------+-----------------+-----------------+------------------+------------------+-----------------+------------------+--------------+----------------+------------+----------+--------------+------------+----------------+-------------+---------------+-------------+-----------+----------+-----+--------------------+--------------------+\n",
      "only showing top 2 rows\n",
      "\n"
     ]
    }
   ],
   "source": [
    "#inspect\n",
    "df_tr.show(2)"
   ]
  },
  {
   "cell_type": "markdown",
   "metadata": {},
   "source": [
    "#### Train/test split"
   ]
  },
  {
   "cell_type": "code",
   "execution_count": 16,
   "metadata": {},
   "outputs": [],
   "source": [
    "#train/test split\n",
    "train, test = df_tr.randomSplit([0.7,0.3], seed = 2021)"
   ]
  },
  {
   "cell_type": "code",
   "execution_count": 33,
   "metadata": {},
   "outputs": [
    {
     "name": "stdout",
     "output_type": "stream",
     "text": [
      "+-----+-----+\n",
      "|label|count|\n",
      "+-----+-----+\n",
      "|    1|   19|\n",
      "|    0|  718|\n",
      "+-----+-----+\n",
      "\n",
      "None\n",
      "+-----+-----+\n",
      "|label|count|\n",
      "+-----+-----+\n",
      "|    1|   10|\n",
      "|    0|  287|\n",
      "+-----+-----+\n",
      "\n",
      "None\n"
     ]
    }
   ],
   "source": [
    "#Inspect\n",
    "print(train.groupby(\"label\").count().show())\n",
    "print(test.groupby(\"label\").count().show())"
   ]
  },
  {
   "cell_type": "markdown",
   "metadata": {},
   "source": [
    "#### Logistic Regression Base Model - NOT Tuned and NOT downsampled"
   ]
  },
  {
   "cell_type": "code",
   "execution_count": 17,
   "metadata": {},
   "outputs": [],
   "source": [
    "#Fit log reg\n",
    "from pyspark.ml.classification import LogisticRegression\n",
    "lr = LogisticRegression(labelCol='label', featuresCol='features', maxIter=3)\n",
    "lrModel = lr.fit(train)\n",
    "predictions = lrModel.transform(test)"
   ]
  },
  {
   "cell_type": "code",
   "execution_count": 18,
   "metadata": {},
   "outputs": [
    {
     "name": "stdout",
     "output_type": "stream",
     "text": [
      "Weights: [-0.14573506548708462,-0.07235138795504294,0.11244043769904845,-0.12591733949188685,0.000686817104283308,-0.0033007733722967975,0.09252993772093382,-0.018685350098220383,-0.1796671365204413,0.061206977138004624,-0.018977912459814682,0.08102433123634324,-0.02290260817649053,-0.018466994007919367,-0.0601862719946038,0.028143234782737975,0.14302383796862903,-0.0960779849158169,-0.12138679197272205,-0.0508765705113184]\n",
      "Intercept: -3.6276432221369315\n"
     ]
    }
   ],
   "source": [
    "#Coeff and intercept\n",
    "print(\"Weights: \" + str(lrModel.coefficients))\n",
    "print(\"Intercept: \" + str(lrModel.intercept))"
   ]
  },
  {
   "cell_type": "code",
   "execution_count": 36,
   "metadata": {},
   "outputs": [
    {
     "data": {
      "text/html": [
       "<div>\n",
       "<style scoped>\n",
       "    .dataframe tbody tr th:only-of-type {\n",
       "        vertical-align: middle;\n",
       "    }\n",
       "\n",
       "    .dataframe tbody tr th {\n",
       "        vertical-align: top;\n",
       "    }\n",
       "\n",
       "    .dataframe thead th {\n",
       "        text-align: right;\n",
       "    }\n",
       "</style>\n",
       "<table border=\"1\" class=\"dataframe\">\n",
       "  <thead>\n",
       "    <tr style=\"text-align: right;\">\n",
       "      <th></th>\n",
       "      <th>label</th>\n",
       "      <th>features</th>\n",
       "      <th>rawPrediction</th>\n",
       "      <th>prediction</th>\n",
       "      <th>probability</th>\n",
       "    </tr>\n",
       "  </thead>\n",
       "  <tbody>\n",
       "    <tr>\n",
       "      <th>0</th>\n",
       "      <td>0</td>\n",
       "      <td>[15.473365599619086, 5.263719368194076, 2.3968...</td>\n",
       "      <td>[3.5570267642953004, -3.5570267642953004]</td>\n",
       "      <td>0.0</td>\n",
       "      <td>[0.972267521639917, 0.027732478360083062]</td>\n",
       "    </tr>\n",
       "    <tr>\n",
       "      <th>1</th>\n",
       "      <td>0</td>\n",
       "      <td>[15.47484977950182, 4.209057675058349, 1.87445...</td>\n",
       "      <td>[3.693354418928254, -3.693354418928254]</td>\n",
       "      <td>0.0</td>\n",
       "      <td>[0.9757160131677141, 0.024283986832285935]</td>\n",
       "    </tr>\n",
       "    <tr>\n",
       "      <th>2</th>\n",
       "      <td>0</td>\n",
       "      <td>[15.500340297210792, 3.5839485324725624, 1.660...</td>\n",
       "      <td>[3.6578285609166956, -3.6578285609166956]</td>\n",
       "      <td>0.0</td>\n",
       "      <td>[0.9748598748407378, 0.02514012515926227]</td>\n",
       "    </tr>\n",
       "    <tr>\n",
       "      <th>3</th>\n",
       "      <td>0</td>\n",
       "      <td>[15.445852515601304, 3.4517177715747955, 1.662...</td>\n",
       "      <td>[3.7095526119284163, -3.7095526119284163]</td>\n",
       "      <td>0.0</td>\n",
       "      <td>[0.976096874458632, 0.023903125541368045]</td>\n",
       "    </tr>\n",
       "    <tr>\n",
       "      <th>4</th>\n",
       "      <td>0</td>\n",
       "      <td>[15.455542944645904, 4.389668102946936, 2.2741...</td>\n",
       "      <td>[3.9847156258798493, -3.9847156258798493]</td>\n",
       "      <td>0.0</td>\n",
       "      <td>[0.981741828304619, 0.018258171695381086]</td>\n",
       "    </tr>\n",
       "  </tbody>\n",
       "</table>\n",
       "</div>"
      ],
      "text/plain": [
       "   label                                           features  \\\n",
       "0      0  [15.473365599619086, 5.263719368194076, 2.3968...   \n",
       "1      0  [15.47484977950182, 4.209057675058349, 1.87445...   \n",
       "2      0  [15.500340297210792, 3.5839485324725624, 1.660...   \n",
       "3      0  [15.445852515601304, 3.4517177715747955, 1.662...   \n",
       "4      0  [15.455542944645904, 4.389668102946936, 2.2741...   \n",
       "\n",
       "                               rawPrediction  prediction  \\\n",
       "0  [3.5570267642953004, -3.5570267642953004]         0.0   \n",
       "1    [3.693354418928254, -3.693354418928254]         0.0   \n",
       "2  [3.6578285609166956, -3.6578285609166956]         0.0   \n",
       "3  [3.7095526119284163, -3.7095526119284163]         0.0   \n",
       "4  [3.9847156258798493, -3.9847156258798493]         0.0   \n",
       "\n",
       "                                  probability  \n",
       "0   [0.972267521639917, 0.027732478360083062]  \n",
       "1  [0.9757160131677141, 0.024283986832285935]  \n",
       "2   [0.9748598748407378, 0.02514012515926227]  \n",
       "3   [0.976096874458632, 0.023903125541368045]  \n",
       "4   [0.981741828304619, 0.018258171695381086]  "
      ]
     },
     "execution_count": 36,
     "metadata": {},
     "output_type": "execute_result"
    }
   ],
   "source": [
    "#View predictions\n",
    "predictions.select('label', 'features', 'rawPrediction', 'prediction', 'probability').toPandas().head(5)"
   ]
  },
  {
   "cell_type": "code",
   "execution_count": 19,
   "metadata": {},
   "outputs": [
    {
     "name": "stdout",
     "output_type": "stream",
     "text": [
      "Test AUROC:0.7885017421602785\n"
     ]
    }
   ],
   "source": [
    "#Evaluate AUROC\n",
    "from pyspark.ml.evaluation import BinaryClassificationEvaluator\n",
    "evaluator = BinaryClassificationEvaluator()\n",
    "roc = evaluator.evaluate(predictions)\n",
    "print(\"Test AUROC:\" + str(roc)) #0.7885 AUROC"
   ]
  },
  {
   "cell_type": "code",
   "execution_count": 20,
   "metadata": {},
   "outputs": [
    {
     "name": "stdout",
     "output_type": "stream",
     "text": [
      "Accuracy : 0.9663299663299664\n"
     ]
    }
   ],
   "source": [
    "#Evaluate accuracy\n",
    "accuracy = predictions.filter(predictions.label == predictions.prediction).count() / float(predictions.count())\n",
    "print(\"Accuracy : \" + str(accuracy)) #too high? 0.966"
   ]
  },
  {
   "cell_type": "markdown",
   "metadata": {},
   "source": [
    "Accuracy was good! It seems the percentage of holidays compared to sample size is so small. We downsampled the data to account for this possiblity."
   ]
  },
  {
   "cell_type": "markdown",
   "metadata": {},
   "source": [
    "### Let's try downsampling (actual holidays are much smaller than sample size)"
   ]
  },
  {
   "cell_type": "code",
   "execution_count": 17,
   "metadata": {},
   "outputs": [],
   "source": [
    "#Downsampling to have closer count of 1.0 and 0.0 labels for holidays\n",
    "def downsample(df, target, positive_label, negative_label):\n",
    "    \"\"\"\n",
    "    df              spark dataframe\n",
    "    target          str, target variable\n",
    "    positive_label  int, value of positive label\n",
    "    negative_label  int, value of negative label\n",
    "    \n",
    "    \"\"\"\n",
    "\n",
    "    \n",
    "    if ((df.filter(df.label == positive_label).count()) > (df.filter(df.label == negative_label).count())):\n",
    "        perc = df.filter(df.label == negative_label).count()/df.filter(df.label == positive_label).count()\n",
    "        df_b = df.sampleBy(target, fractions={positive_label: perc, negative_label:1.0}, seed=123)\n",
    "    else:\n",
    "        perc = df.filter(df.label == positive_label).count()/df.filter(df.label == negative_label).count()\n",
    "        df_b = df.sampleBy(target, fractions={positive_label: 1.0, negative_label:perc}, seed=123)\n",
    "    \n",
    "    \n",
    "    return df_b\n"
   ]
  },
  {
   "cell_type": "code",
   "execution_count": 18,
   "metadata": {},
   "outputs": [],
   "source": [
    "#Downsampled label\n",
    "down = downsample(df_tr, 'label', 1, 0)\n",
    "#split to test and train\n",
    "train, test = down.randomSplit([0.7,0.3], seed=2021)"
   ]
  },
  {
   "cell_type": "code",
   "execution_count": 72,
   "metadata": {},
   "outputs": [
    {
     "name": "stdout",
     "output_type": "stream",
     "text": [
      "+-----+-----+\n",
      "|label|count|\n",
      "+-----+-----+\n",
      "|    1|   18|\n",
      "|    0|   17|\n",
      "+-----+-----+\n",
      "\n",
      "None\n",
      "+-----+-----+\n",
      "|label|count|\n",
      "+-----+-----+\n",
      "|    1|   11|\n",
      "|    0|   11|\n",
      "+-----+-----+\n",
      "\n",
      "None\n"
     ]
    }
   ],
   "source": [
    "#New train count\n",
    "print(train.groupby('label').count().show())\n",
    "#New test count\n",
    "print(test.groupby('label').count().show())"
   ]
  },
  {
   "cell_type": "markdown",
   "metadata": {},
   "source": [
    "#### Logistic Regression Base Model - Tuned and downsampled"
   ]
  },
  {
   "cell_type": "code",
   "execution_count": 19,
   "metadata": {},
   "outputs": [],
   "source": [
    "#Tune with PGB and CV\n",
    "from pyspark.ml.tuning import ParamGridBuilder, CrossValidator\n",
    "\n",
    "#log reg model\n",
    "lr = LogisticRegression()\n",
    "\n",
    "#Paramgrid\n",
    "paramGrid = (ParamGridBuilder()\n",
    "             .addGrid(lr.regParam, [0.01, 0.5, 2.0]) #regularization param\n",
    "             .addGrid(lr.elasticNetParam, [0.0, 0.5, 1.0]) #Ridge=0, Lasso=1.0\n",
    "             .addGrid(lr.maxIter, [1, 5, 10])\n",
    "             .build())\n",
    "\n",
    "#10 fold cross-validation\n",
    "cv = CrossValidator(estimator=lr, estimatorParamMaps = paramGrid, evaluator=BinaryClassificationEvaluator(), numFolds=10)"
   ]
  },
  {
   "cell_type": "code",
   "execution_count": 20,
   "metadata": {},
   "outputs": [],
   "source": [
    "#Fit the model\n",
    "cvModel = cv.fit(train)"
   ]
  },
  {
   "cell_type": "code",
   "execution_count": 21,
   "metadata": {},
   "outputs": [],
   "source": [
    "#Predictions\n",
    "tune_preds = cvModel.transform(test)"
   ]
  },
  {
   "cell_type": "code",
   "execution_count": 23,
   "metadata": {},
   "outputs": [
    {
     "name": "stdout",
     "output_type": "stream",
     "text": [
      "Best Model Test AUROC : 0.7272727272727274\n"
     ]
    }
   ],
   "source": [
    "#AUROC\n",
    "evaluator=BinaryClassificationEvaluator()\n",
    "best_roc = evaluator.evaluate(tune_preds)\n",
    "print(\"Best Model Test AUROC : \" + str(best_roc)) #0.7272"
   ]
  },
  {
   "cell_type": "code",
   "execution_count": 24,
   "metadata": {},
   "outputs": [
    {
     "name": "stdout",
     "output_type": "stream",
     "text": [
      "Accuracy : 0.7272727272727273\n"
     ]
    }
   ],
   "source": [
    "#Evaluate accuracy\n",
    "accuracy = tune_preds.filter(tune_preds.label == tune_preds.prediction).count() / float(tune_preds.count())\n",
    "print(\"Accuracy : \" + str(accuracy)) #not bad for lack of data - 727"
   ]
  },
  {
   "cell_type": "code",
   "execution_count": 25,
   "metadata": {},
   "outputs": [
    {
     "name": "stdout",
     "output_type": "stream",
     "text": [
      "Best model regularlization parameter:  0.01\n",
      "Best model elastic net parameter:  0.0\n",
      "Best model iteration:  5\n"
     ]
    }
   ],
   "source": [
    "#Best model paramaters\n",
    "bm = cvModel.bestModel\n",
    "\n",
    "print(\"Best model regularlization parameter: \", bm._java_obj.getRegParam()) #0.01\n",
    "print(\"Best model elastic net parameter: \", bm._java_obj.getElasticNetParam()) #ridge 0.0\n",
    "print(\"Best model iteration: \", bm._java_obj.getMaxIter()) #5"
   ]
  },
  {
   "cell_type": "code",
   "execution_count": 26,
   "metadata": {},
   "outputs": [],
   "source": [
    "#Model Feature weights\n",
    "best_coef = bm.coefficients"
   ]
  },
  {
   "cell_type": "code",
   "execution_count": 27,
   "metadata": {},
   "outputs": [],
   "source": [
    "#Get list of importances and sort \n",
    "lis = []\n",
    "for i in best_coef:\n",
    "    lis.append(i)\n",
    "output = list(zip(lis, num_feat[0:19]))\n",
    "output = sorted(output, key=lambda x: x[0], reverse=True)\n",
    "#The weights were numpy-float64 so I needed to change its type to be able to create spark df\n",
    "output = [(float(x[0]), x[1]) for x in output]"
   ]
  },
  {
   "cell_type": "code",
   "execution_count": 28,
   "metadata": {},
   "outputs": [],
   "source": [
    "#get DF\n",
    "schema = StructType([\n",
    "    StructField(\"weight\", DoubleType(), True),\n",
    "    StructField(\"name\", StringType(), True)\n",
    "])\n",
    "df_ticks = spark.createDataFrame(output, schema).toPandas()"
   ]
  },
  {
   "cell_type": "code",
   "execution_count": 29,
   "metadata": {},
   "outputs": [
    {
     "data": {
      "text/html": [
       "<div>\n",
       "<style scoped>\n",
       "    .dataframe tbody tr th:only-of-type {\n",
       "        vertical-align: middle;\n",
       "    }\n",
       "\n",
       "    .dataframe tbody tr th {\n",
       "        vertical-align: top;\n",
       "    }\n",
       "\n",
       "    .dataframe thead th {\n",
       "        text-align: right;\n",
       "    }\n",
       "</style>\n",
       "<table border=\"1\" class=\"dataframe\">\n",
       "  <thead>\n",
       "    <tr style=\"text-align: right;\">\n",
       "      <th></th>\n",
       "      <th>weight</th>\n",
       "      <th>name</th>\n",
       "    </tr>\n",
       "  </thead>\n",
       "  <tbody>\n",
       "    <tr>\n",
       "      <th>0</th>\n",
       "      <td>0.296743</td>\n",
       "      <td>avg_feels_like</td>\n",
       "    </tr>\n",
       "    <tr>\n",
       "      <th>1</th>\n",
       "      <td>0.174289</td>\n",
       "      <td>avg_crowDist</td>\n",
       "    </tr>\n",
       "    <tr>\n",
       "      <th>2</th>\n",
       "      <td>0.098974</td>\n",
       "      <td>non_precip_count</td>\n",
       "    </tr>\n",
       "    <tr>\n",
       "      <th>3</th>\n",
       "      <td>0.080149</td>\n",
       "      <td>member_count</td>\n",
       "    </tr>\n",
       "    <tr>\n",
       "      <th>4</th>\n",
       "      <td>0.078434</td>\n",
       "      <td>peak_count</td>\n",
       "    </tr>\n",
       "    <tr>\n",
       "      <th>5</th>\n",
       "      <td>0.063885</td>\n",
       "      <td>customer_count</td>\n",
       "    </tr>\n",
       "    <tr>\n",
       "      <th>6</th>\n",
       "      <td>0.060616</td>\n",
       "      <td>std_humidity</td>\n",
       "    </tr>\n",
       "    <tr>\n",
       "      <th>7</th>\n",
       "      <td>0.052103</td>\n",
       "      <td>std_tripduration</td>\n",
       "    </tr>\n",
       "    <tr>\n",
       "      <th>8</th>\n",
       "      <td>-0.017641</td>\n",
       "      <td>precip_count</td>\n",
       "    </tr>\n",
       "    <tr>\n",
       "      <th>9</th>\n",
       "      <td>-0.030577</td>\n",
       "      <td>avg_tripduration</td>\n",
       "    </tr>\n",
       "    <tr>\n",
       "      <th>10</th>\n",
       "      <td>-0.031248</td>\n",
       "      <td>std_crowDist</td>\n",
       "    </tr>\n",
       "    <tr>\n",
       "      <th>11</th>\n",
       "      <td>-0.036448</td>\n",
       "      <td>subscriber_count</td>\n",
       "    </tr>\n",
       "    <tr>\n",
       "      <th>12</th>\n",
       "      <td>-0.141723</td>\n",
       "      <td>std_wind_speed</td>\n",
       "    </tr>\n",
       "    <tr>\n",
       "      <th>13</th>\n",
       "      <td>-0.150212</td>\n",
       "      <td>std_feels_like</td>\n",
       "    </tr>\n",
       "    <tr>\n",
       "      <th>14</th>\n",
       "      <td>-0.185735</td>\n",
       "      <td>morning_count</td>\n",
       "    </tr>\n",
       "    <tr>\n",
       "      <th>15</th>\n",
       "      <td>-0.225529</td>\n",
       "      <td>avg_wind_speed</td>\n",
       "    </tr>\n",
       "    <tr>\n",
       "      <th>16</th>\n",
       "      <td>-0.258041</td>\n",
       "      <td>avg_humidity</td>\n",
       "    </tr>\n",
       "    <tr>\n",
       "      <th>17</th>\n",
       "      <td>-0.316971</td>\n",
       "      <td>current_month_avg_median_sales_price</td>\n",
       "    </tr>\n",
       "    <tr>\n",
       "      <th>18</th>\n",
       "      <td>-0.348398</td>\n",
       "      <td>non_peak_count</td>\n",
       "    </tr>\n",
       "  </tbody>\n",
       "</table>\n",
       "</div>"
      ],
      "text/plain": [
       "      weight                                  name\n",
       "0   0.296743                        avg_feels_like\n",
       "1   0.174289                          avg_crowDist\n",
       "2   0.098974                      non_precip_count\n",
       "3   0.080149                          member_count\n",
       "4   0.078434                            peak_count\n",
       "5   0.063885                        customer_count\n",
       "6   0.060616                          std_humidity\n",
       "7   0.052103                      std_tripduration\n",
       "8  -0.017641                          precip_count\n",
       "9  -0.030577                      avg_tripduration\n",
       "10 -0.031248                          std_crowDist\n",
       "11 -0.036448                      subscriber_count\n",
       "12 -0.141723                        std_wind_speed\n",
       "13 -0.150212                        std_feels_like\n",
       "14 -0.185735                         morning_count\n",
       "15 -0.225529                        avg_wind_speed\n",
       "16 -0.258041                          avg_humidity\n",
       "17 -0.316971  current_month_avg_median_sales_price\n",
       "18 -0.348398                        non_peak_count"
      ]
     },
     "execution_count": 29,
     "metadata": {},
     "output_type": "execute_result"
    }
   ],
   "source": [
    "#inspect\n",
    "df_ticks"
   ]
  },
  {
   "cell_type": "code",
   "execution_count": 30,
   "metadata": {},
   "outputs": [
    {
     "data": {
      "image/png": "[encoded data removed]",
      "text/plain": [
       "<Figure size 4000x1000 with 1 Axes>"
      ]
     },
     "metadata": {},
     "output_type": "display_data"
    }
   ],
   "source": [
    "#plot of Feature Importance - need to work on graph look\n",
    "plt.rcParams[\"figure.figsize\"] = (40, 10)\n",
    "plt.bar(df_ticks[\"name\"], df_ticks[\"weight\"], orientation = 'vertical')\n",
    "plt.ylabel('Name')\n",
    "plt.xlabel('Feature')\n",
    "plt.title('Feature Importance')\n",
    "plt.show()"
   ]
  },
  {
   "cell_type": "markdown",
   "metadata": {},
   "source": [
    "Number of trips during precipitation and afternoon trips held the most weight."
   ]
  },
  {
   "cell_type": "markdown",
   "metadata": {},
   "source": [
    "---"
   ]
  },
  {
   "cell_type": "markdown",
   "metadata": {},
   "source": [
    "---"
   ]
  },
  {
   "cell_type": "markdown",
   "metadata": {},
   "source": [
    "# Random Forest Classification w/ All Variables"
   ]
  },
  {
   "cell_type": "code",
   "execution_count": 31,
   "metadata": {},
   "outputs": [],
   "source": [
    "#Load Library\n",
    "from pyspark.ml.regression import RandomForestRegressor"
   ]
  },
  {
   "cell_type": "code",
   "execution_count": 32,
   "metadata": {},
   "outputs": [
    {
     "data": {
      "text/plain": [
       "['Borough',\n",
       " 'month_year',\n",
       " 'startStationId',\n",
       " 'startStationName',\n",
       " 'startStationLatitude',\n",
       " 'startStationLongitude',\n",
       " 'date',\n",
       " 'hour',\n",
       " 'tripduration',\n",
       " 'starttime',\n",
       " 'endStationId',\n",
       " 'endStationName',\n",
       " 'endStationLatitude',\n",
       " 'endStationLongitude',\n",
       " 'bikeid',\n",
       " 'usertype',\n",
       " 'birthyear',\n",
       " 'gender',\n",
       " 'temp',\n",
       " 'feels_like',\n",
       " 'temp_min',\n",
       " 'temp_max',\n",
       " 'pressure',\n",
       " 'humidity',\n",
       " 'wind_speed',\n",
       " 'rain_1h',\n",
       " 'rain_3h',\n",
       " 'snow_1h',\n",
       " 'snow_3h',\n",
       " 'clouds_all',\n",
       " 'weather_main',\n",
       " 'dow',\n",
       " 'day',\n",
       " 'month',\n",
       " 'time_bin',\n",
       " 'peak_commute',\n",
       " 'year',\n",
       " '3h_precip',\n",
       " '1h_precip',\n",
       " 'precip',\n",
       " 'start_lat_long',\n",
       " 'end_lat_long',\n",
       " 'zipcodes',\n",
       " 'avg_days_on_market',\n",
       " 'avg_discount_share',\n",
       " 'avg_median_sales_price',\n",
       " 'avg_median_asking_sale',\n",
       " 'avg_median_asking_rent',\n",
       " 'avg_price_cut_share',\n",
       " 'avg_sales_volume',\n",
       " 'avg_sales_inventory',\n",
       " 'avg_rent_inventory',\n",
       " 'avg_sales_list_ratio',\n",
       " 'crowDist']"
      ]
     },
     "execution_count": 32,
     "metadata": {},
     "output_type": "execute_result"
    }
   ],
   "source": [
    "#get column names\n",
    "data.columns"
   ]
  },
  {
   "cell_type": "code",
   "execution_count": 33,
   "metadata": {},
   "outputs": [
    {
     "name": "stdout",
     "output_type": "stream",
     "text": [
      "+------------+--------------------+---------------------+------------------+-------------------+----------+------+----------+--------+--------+--------+--------+----------+-------+-------+-------+-------+----------+------------+--------+------------+---------+---------+---------+----------------------+----------------+----------+\n",
      "|tripduration|startStationLatitude|startStationLongitude|endStationLatitude|endStationLongitude|  usertype|  temp|feels_like|temp_min|temp_max|pressure|humidity|wind_speed|rain_1h|rain_3h|snow_1h|snow_3h|clouds_all|weather_main|time_bin|peak_commute|3h_precip|1h_precip|   precip|avg_median_sales_price|        crowDist|      date|\n",
      "+------------+--------------------+---------------------+------------------+-------------------+----------+------+----------+--------+--------+--------+--------+----------+-------+-------+-------+-------+----------+------------+--------+------------+---------+---------+---------+----------------------+----------------+----------+\n",
      "|        1062|   40.67927879999999|         -73.98154004| 40.67927879999999|       -73.98154004|  Customer|64.292|     57.38|  62.006|  62.006|    1018|      43|      3.93|    0.0|    0.0|    0.0|    0.0|         1|       Clear|   Night|    non_peak|      0.0|      0.0|no_precip|     854338.1216332259|             0.0|2020-06-01|\n",
      "|        3810|           40.693261|           -73.968896|       40.73047747|       -73.99906065|Subscriber|64.292|     57.38|  62.006|  62.006|    1018|      43|      3.93|    0.0|    0.0|    0.0|    0.0|         1|       Clear|   Night|    non_peak|      0.0|      0.0|no_precip|     854338.1216332259|3.02116973218692|2020-06-01|\n",
      "+------------+--------------------+---------------------+------------------+-------------------+----------+------+----------+--------+--------+--------+--------+----------+-------+-------+-------+-------+----------+------------+--------+------------+---------+---------+---------+----------------------+----------------+----------+\n",
      "only showing top 2 rows\n",
      "\n"
     ]
    }
   ],
   "source": [
    "# retain these predictors\n",
    "vars_to_keep = ['tripduration',\n",
    "                'startStationLatitude',\n",
    "                'startStationLongitude',\n",
    "                'endStationLatitude',\n",
    "                'endStationLongitude',\n",
    "                'usertype',\n",
    "                'temp',\n",
    "                'feels_like',\n",
    "                'temp_min',\n",
    "                'temp_max',\n",
    "                'pressure',\n",
    "                'humidity',\n",
    "                'wind_speed',\n",
    "                'rain_1h',\n",
    "                'rain_3h',\n",
    "                'snow_1h',\n",
    "                'snow_3h',\n",
    "                'clouds_all',\n",
    "                'weather_main',\n",
    "                'time_bin',\n",
    "                'peak_commute',\n",
    "                '3h_precip',\n",
    "                '1h_precip',\n",
    "                'precip',\n",
    "                'avg_median_sales_price',\n",
    "                'crowDist',\n",
    "                'date']\n",
    "\n",
    "# subset the dataframe on these predictors\n",
    "df_rf = data[vars_to_keep]\n",
    "df_rf.show(2)"
   ]
  },
  {
   "cell_type": "code",
   "execution_count": 9,
   "metadata": {},
   "outputs": [
    {
     "name": "stdout",
     "output_type": "stream",
     "text": [
      "root\n",
      " |-- tripduration: long (nullable = true)\n",
      " |-- startStationLatitude: double (nullable = true)\n",
      " |-- startStationLongitude: double (nullable = true)\n",
      " |-- endStationLatitude: double (nullable = true)\n",
      " |-- endStationLongitude: double (nullable = true)\n",
      " |-- usertype: string (nullable = true)\n",
      " |-- temp: double (nullable = true)\n",
      " |-- feels_like: double (nullable = true)\n",
      " |-- temp_min: double (nullable = true)\n",
      " |-- temp_max: double (nullable = true)\n",
      " |-- pressure: long (nullable = true)\n",
      " |-- humidity: long (nullable = true)\n",
      " |-- wind_speed: double (nullable = true)\n",
      " |-- rain_1h: double (nullable = true)\n",
      " |-- rain_3h: double (nullable = true)\n",
      " |-- snow_1h: double (nullable = true)\n",
      " |-- snow_3h: double (nullable = true)\n",
      " |-- clouds_all: long (nullable = true)\n",
      " |-- weather_main: string (nullable = true)\n",
      " |-- time_bin: string (nullable = true)\n",
      " |-- peak_commute: string (nullable = true)\n",
      " |-- 3h_precip: double (nullable = true)\n",
      " |-- 1h_precip: double (nullable = true)\n",
      " |-- precip: string (nullable = true)\n",
      " |-- avg_median_sales_price: double (nullable = true)\n",
      " |-- crowDist: double (nullable = true)\n",
      " |-- date: string (nullable = true)\n",
      "\n"
     ]
    }
   ],
   "source": [
    "#print schema\n",
    "df_rf.printSchema()"
   ]
  },
  {
   "cell_type": "code",
   "execution_count": 34,
   "metadata": {},
   "outputs": [],
   "source": [
    "#Slice into grouped data\n",
    "grouped_data = df_rf.groupby(\"date\")\n",
    "agg_data = grouped_data.agg(F.avg(\"avg_median_sales_price\").alias(\"avg_median_sales_price_by_zip\"),\n",
    "                 F.stddev(\"avg_median_sales_price\").alias(\"std_median_sales_price_by_zip\"),\n",
    "                 F.avg(\"crowDist\").alias(\"avg_crowDist\"),\n",
    "                 F.stddev(\"crowDist\").alias(\"std_crowDist\"), \n",
    "                 F.avg(\"startStationLatitude\").alias(\"avg_startStationLatitude\"),\n",
    "                 F.stddev(\"startStationLatitude\").alias(\"std_startStationLatitude\"), \n",
    "                 F.avg(\"startStationLongitude\").alias(\"avg_startStationLongitude\"),\n",
    "                 F.stddev(\"startStationLongitude\").alias(\"std_startStationLongitude\"),\n",
    "                 F.avg(\"endStationLatitude\").alias(\"avg_endStationLatitude\"),\n",
    "                 F.stddev(\"endStationLatitude\").alias(\"std_endStationLatitude\"),\n",
    "                 F.avg(\"endStationLongitude\").alias(\"avg_endStationLongitude\"),\n",
    "                 F.stddev(\"endStationLongitude\").alias(\"std_endStationLongitude\"),\n",
    "                 F.avg(\"temp\").alias(\"avg_temp\"),\n",
    "                 F.stddev(\"temp\").alias(\"std_temp\"),\n",
    "                 F.avg(\"temp_min\").alias(\"avg_temp_min\"),\n",
    "                 F.stddev(\"temp_min\").alias(\"std_temp_min\"), \n",
    "                 F.avg(\"temp_max\").alias(\"avg_temp_max\"),\n",
    "                 F.stddev(\"temp_max\").alias(\"std_temp_max\"), \n",
    "                 F.avg(\"feels_like\").alias(\"avg_feels_like\"),\n",
    "                 F.stddev(\"feels_like\").alias(\"std_feels_like\"),\n",
    "                 F.avg(\"pressure\").alias(\"avg_pressure\"),\n",
    "                 F.stddev(\"pressure\").alias(\"std_pressure\"), \n",
    "                 F.avg(\"humidity\").alias(\"avg_humidity\"),\n",
    "                 F.stddev(\"humidity\").alias(\"std_humidity\"),\n",
    "                 F.avg(\"wind_speed\").alias(\"avg_wind_speed\"),\n",
    "                 F.stddev(\"wind_speed\").alias(\"std_wind_speed\"),\n",
    "                 F.avg(\"tripduration\").alias(\"avg_tripduration\"),\n",
    "                 F.stddev(\"tripduration\").alias(\"std_tripduration\"),\n",
    "                 F.count(when(df_rf.usertype == \"Customer\", lit(1))).alias(\"customer_count\"),\n",
    "                 F.count(when(df_rf.usertype == \"Subscriber\", lit(1))).alias(\"subscriber_count\"),\n",
    "                 F.count(when(df_rf.usertype == \"member\", lit(1))).alias(\"member_count\"),\n",
    "                 F.count(when(df_rf.clouds_all == 1, lit(1))).alias(\"clouds_count\"),\n",
    "                 F.count(when(df_rf.clouds_all == 0, lit(1))).alias(\"no_clouds_count\"),\n",
    "                 F.count(when(df_rf.peak_commute == \"peak\", lit(1))).alias(\"peak_count\"),\n",
    "                 F.count(when(df_rf.peak_commute == \"non_peak\", lit(1))).alias(\"non_peak_count\"),\n",
    "                 F.count(when(df_rf.precip == \"precip\", lit(1))).alias(\"precip_count\"),\n",
    "                 F.count(when(df_rf.precip == \"no_precip\", lit(1))).alias(\"non_precip_count\"),\n",
    "                 F.count(when(df_rf[\"1h_precip\"] == 1.0, lit(1))).alias(\"1h_precip_count\"),\n",
    "                 F.count(when(df_rf[\"1h_precip\"] == 0.0, lit(1))).alias(\"non_1h_precip_count\"),\n",
    "                 F.count(when(df_rf[\"3h_precip\"] == 1.0, lit(1))).alias(\"3h_precip_count\"),\n",
    "                 F.count(when(df_rf[\"3h_precip\"] == 0.0, lit(1))).alias(\"non_3h_precip_count\"),\n",
    "                 F.count(when(df_rf[\"rain_1h\"] == 1.0, lit(1))).alias(\"rain_1h_count\"),\n",
    "                 F.count(when(df_rf[\"rain_1h\"] == 0.0, lit(1))).alias(\"non_rain_1h_count\"),\n",
    "                 F.count(when(df_rf[\"rain_3h\"] == 1.0, lit(1))).alias(\"rain_3h_count\"),\n",
    "                 F.count(when(df_rf[\"rain_3h\"] == 0.0, lit(1))).alias(\"non_rain_3h_count\"),\n",
    "                 F.count(when(df_rf[\"snow_1h\"] == 1.0, lit(1))).alias(\"snow_1h_count\"),\n",
    "                 F.count(when(df_rf[\"snow_1h\"] == 0.0, lit(1))).alias(\"non_snow_1h_count\"),\n",
    "                 F.count(when(df_rf[\"snow_3h\"] == 1.0, lit(1))).alias(\"snow_3h_count\"),\n",
    "                 F.count(when(df_rf[\"snow_3h\"] == 0.0, lit(1))).alias(\"non_snow_3h_count\"),\n",
    "                 F.count(when(df_rf.weather_main == \"Thunderstorm\", lit(1))).alias(\"thunderstorm_count\"),\n",
    "                 F.count(when(df_rf.weather_main == \"Drizzle\", lit(1))).alias(\"drizzle_count\"),\n",
    "                 F.count(when(df_rf.weather_main == \"Fog\", lit(1))).alias(\"fog_count\"),\n",
    "                 F.count(when(df_rf.weather_main == \"Clear\", lit(1))).alias(\"clear_count\"),\n",
    "                 F.count(when(df_rf.weather_main == \"Mist\", lit(1))).alias(\"mist_count\"),\n",
    "                 F.count(when(df_rf.weather_main == \"Clouds\", lit(1))).alias(\"cloudy_day_count\"),\n",
    "                 F.count(when(df_rf.weather_main == \"Rain\", lit(1))).alias(\"rain_count\"),\n",
    "                 F.count(when(df_rf.weather_main == \"Snow\", lit(1))).alias(\"snow_count\"),\n",
    "                 F.count(when(df_rf.weather_main == \"Haze\", lit(1))).alias(\"haze_count\"),\n",
    "                 F.count(when(df_rf.time_bin == \"Morning\", lit(1))).alias(\"morning_count\"),\n",
    "                 F.count(when(df_rf.time_bin == \"Afternoon\", lit(1))).alias(\"afternoon_count\"),\n",
    "                 F.count(when(df_rf.time_bin == \"Evening\", lit(1))).alias(\"evening_count\"),\n",
    "                 F.count(when(df_rf.time_bin == \"Night\", lit(1))).alias(\"night_count\"))"
   ]
  },
  {
   "cell_type": "code",
   "execution_count": 35,
   "metadata": {},
   "outputs": [
    {
     "name": "stdout",
     "output_type": "stream",
     "text": [
      "+----------+-----+\n",
      "|      date|count|\n",
      "+----------+-----+\n",
      "|2020-02-26|44503|\n",
      "|2019-08-08|68714|\n",
      "|2019-08-22|60527|\n",
      "+----------+-----+\n",
      "only showing top 3 rows\n",
      "\n"
     ]
    }
   ],
   "source": [
    "#count of trips by day\n",
    "cnt_trips = data.groupby(\"date\").count()\n",
    "cnt_trips.show(3)"
   ]
  },
  {
   "cell_type": "code",
   "execution_count": 36,
   "metadata": {},
   "outputs": [],
   "source": [
    "#Get dataframe with counts\n",
    "df_rf = agg_data.join(cnt_trips, agg_data.date==cnt_trips.date, how=\"inner\").drop(cnt_trips.date)\n",
    "df_rf = df_rf.orderBy(\"date\").withColumnRenamed(\"count\", \"trip_count_by_date\")"
   ]
  },
  {
   "cell_type": "code",
   "execution_count": 37,
   "metadata": {},
   "outputs": [],
   "source": [
    "#create a holiday list\n",
    "dr = pd.date_range(start='2016-01-01', end='2021-12-31')\n",
    "cal = calendar()\n",
    "holi = cal.holidays(start=dr.min(), end=dr.max())\n",
    "holiday = pd.DataFrame(data=holi)\n",
    "holiday = holiday[0].astype(str).tolist()\n",
    "\n",
    "#add to dataframe\n",
    "df_rf = df_rf.withColumn(\"label\", when(df_rf.date.isin(holiday), 1).otherwise(0))"
   ]
  },
  {
   "cell_type": "code",
   "execution_count": 14,
   "metadata": {},
   "outputs": [
    {
     "name": "stdout",
     "output_type": "stream",
     "text": [
      "+-----------------------------+-----------------------------+------------------+------------------+------------------------+------------------------+-------------------------+-------------------------+----------------------+----------------------+-----------------------+-----------------------+-----------------+------------------+-----------------+------------------+-----------------+------------------+-----------------+-----------------+------------------+------------------+-----------------+-----------------+------------------+------------------+-----------------+------------------+--------------+----------------+------------+------------+---------------+----------+--------------+------------+----------------+---------------+-------------------+---------------+-------------------+-------------+-----------------+-------------+-----------------+-------------+-----------------+-------------+-----------------+------------------+-------------+---------+-----------+----------+----------------+----------+----------+----------+-------------+---------------+-------------+-----------+----------+------------------+-----+\n",
      "|avg_median_sales_price_by_zip|std_median_sales_price_by_zip|      avg_crowDist|      std_crowDist|avg_startStationLatitude|std_startStationLatitude|avg_startStationLongitude|std_startStationLongitude|avg_endStationLatitude|std_endStationLatitude|avg_endStationLongitude|std_endStationLongitude|         avg_temp|          std_temp|     avg_temp_min|      std_temp_min|     avg_temp_max|      std_temp_max|   avg_feels_like|   std_feels_like|      avg_pressure|      std_pressure|     avg_humidity|     std_humidity|    avg_wind_speed|    std_wind_speed| avg_tripduration|  std_tripduration|customer_count|subscriber_count|member_count|clouds_count|no_clouds_count|peak_count|non_peak_count|precip_count|non_precip_count|1h_precip_count|non_1h_precip_count|3h_precip_count|non_3h_precip_count|rain_1h_count|non_rain_1h_count|rain_3h_count|non_rain_3h_count|snow_1h_count|non_snow_1h_count|snow_3h_count|non_snow_3h_count|thunderstorm_count|drizzle_count|fog_count|clear_count|mist_count|cloudy_day_count|rain_count|snow_count|haze_count|morning_count|afternoon_count|evening_count|night_count|      date|trip_count_by_date|label|\n",
      "+-----------------------------+-----------------------------+------------------+------------------+------------------------+------------------------+-------------------------+-------------------------+----------------------+----------------------+-----------------------+-----------------------+-----------------+------------------+-----------------+------------------+-----------------+------------------+-----------------+-----------------+------------------+------------------+-----------------+-----------------+------------------+------------------+-----------------+------------------+--------------+----------------+------------+------------+---------------+----------+--------------+------------+----------------+---------------+-------------------+---------------+-------------------+-------------+-----------------+-------------+-----------------+-------------+-----------------+-------------+-----------------+------------------+-------------+---------+-----------+----------+----------------+----------+----------+----------+-------------+---------------+-------------+-----------+----------+------------------+-----+\n",
      "|           1064262.3373386133|           120871.25593695723|1.1329740969724742|0.9106752239514277|      40.736845960141046|     0.03022005617512945|        -73.9826889474745|      0.01953458336762155|      40.7367855380236|   0.03005372228259234|     -73.98291272390162|    0.01958174236334341|79.80958797781285| 4.235597491626723|77.31069862301135|3.1962189981809757|77.31069862301135|3.1962189981809757| 87.3497442932618|5.296865011590768|1017.1381513845328|1.1426033290974789|86.21045569662714|8.289926063545808|2.3453943947793934|0.7509283901033936|935.8277342636231|10699.247710177839|          5032|           54591|           0|         485|              0|     36103|         23520|       36231|           23392|              0|              25501|              0|              49055|            0|            25501|            0|            49055|            0|            59623|            0|            59623|                 0|            0|        0|        485|      7186|           22907|     29045|         0|         0|        19653|          15382|        21238|       3350|2018-08-01|             59623|    0|\n",
      "|           1063885.3840608338|           121887.05208913662| 1.148447846598559|0.9271935407488715|       40.73685444025388|    0.030161312759561063|       -73.98275481356357|     0.019625172087245412|     40.73676833598294|   0.02996670162208826|     -73.98301048576775|   0.019605372752260722|81.93664045437937|3.7034887075528635|78.90229631259196|2.7542754784190455|78.90229631259196|2.7542754784190455|87.93635674974254|5.509563498491671|1018.6626457296594|0.8719126878954013|71.48462255358807|5.412173244723805|2.0633540241588046|0.7600426836781768|920.6011886968296|7194.6539427965145|          5607|           51262|           0|        9084|              0|     34707|         22162|         867|           56002|              0|              56002|              0|              56869|            0|            56002|            0|            56869|            0|            56869|            0|            56869|                 0|            0|        0|       9084|         0|           46918|       867|         0|         0|        19028|          14084|        20708|       3049|2018-08-02|             56869|    0|\n",
      "+-----------------------------+-----------------------------+------------------+------------------+------------------------+------------------------+-------------------------+-------------------------+----------------------+----------------------+-----------------------+-----------------------+-----------------+------------------+-----------------+------------------+-----------------+------------------+-----------------+-----------------+------------------+------------------+-----------------+-----------------+------------------+------------------+-----------------+------------------+--------------+----------------+------------+------------+---------------+----------+--------------+------------+----------------+---------------+-------------------+---------------+-------------------+-------------+-----------------+-------------+-----------------+-------------+-----------------+-------------+-----------------+------------------+-------------+---------+-----------+----------+----------------+----------+----------+----------+-------------+---------------+-------------+-----------+----------+------------------+-----+\n",
      "only showing top 2 rows\n",
      "\n"
     ]
    }
   ],
   "source": [
    "#inspect\n",
    "df_rf.show(2)"
   ]
  },
  {
   "cell_type": "code",
   "execution_count": 48,
   "metadata": {},
   "outputs": [
    {
     "data": {
      "text/plain": [
       "1034"
      ]
     },
     "execution_count": 48,
     "metadata": {},
     "output_type": "execute_result"
    }
   ],
   "source": [
    "#Count\n",
    "df_rf.count()"
   ]
  },
  {
   "cell_type": "code",
   "execution_count": 57,
   "metadata": {},
   "outputs": [
    {
     "name": "stdout",
     "output_type": "stream",
     "text": [
      "+-----------------------------+-----------------------------+------------+------------+------------------------+------------------------+-------------------------+-------------------------+----------------------+----------------------+-----------------------+-----------------------+--------+--------+------------+------------+------------+------------+--------------+--------------+------------+------------+------------+------------+--------------+--------------+----------------+----------------+--------------+----------------+------------+------------+---------------+----------+--------------+------------+----------------+---------------+-------------------+---------------+-------------------+-------------+-----------------+-------------+-----------------+-------------+-----------------+-------------+-----------------+------------------+-------------+---------+-----------+----------+----------------+----------+----------+----------+-------------+---------------+-------------+-----------+----+------------------+-----+\n",
      "|avg_median_sales_price_by_zip|std_median_sales_price_by_zip|avg_crowDist|std_crowDist|avg_startStationLatitude|std_startStationLatitude|avg_startStationLongitude|std_startStationLongitude|avg_endStationLatitude|std_endStationLatitude|avg_endStationLongitude|std_endStationLongitude|avg_temp|std_temp|avg_temp_min|std_temp_min|avg_temp_max|std_temp_max|avg_feels_like|std_feels_like|avg_pressure|std_pressure|avg_humidity|std_humidity|avg_wind_speed|std_wind_speed|avg_tripduration|std_tripduration|customer_count|subscriber_count|member_count|clouds_count|no_clouds_count|peak_count|non_peak_count|precip_count|non_precip_count|1h_precip_count|non_1h_precip_count|3h_precip_count|non_3h_precip_count|rain_1h_count|non_rain_1h_count|rain_3h_count|non_rain_3h_count|snow_1h_count|non_snow_1h_count|snow_3h_count|non_snow_3h_count|thunderstorm_count|drizzle_count|fog_count|clear_count|mist_count|cloudy_day_count|rain_count|snow_count|haze_count|morning_count|afternoon_count|evening_count|night_count|date|trip_count_by_date|label|\n",
      "+-----------------------------+-----------------------------+------------+------------+------------------------+------------------------+-------------------------+-------------------------+----------------------+----------------------+-----------------------+-----------------------+--------+--------+------------+------------+------------+------------+--------------+--------------+------------+------------+------------+------------+--------------+--------------+----------------+----------------+--------------+----------------+------------+------------+---------------+----------+--------------+------------+----------------+---------------+-------------------+---------------+-------------------+-------------+-----------------+-------------+-----------------+-------------+-----------------+-------------+-----------------+------------------+-------------+---------+-----------+----------+----------------+----------+----------+----------+-------------+---------------+-------------+-----------+----+------------------+-----+\n",
      "|                            0|                            0|           0|           0|                       0|                       0|                        0|                        0|                     0|                     0|                      0|                      0|       0|       0|           0|           0|           0|           0|             0|             0|           0|           0|           0|           0|             0|             0|               0|               0|             0|               0|           0|           0|              0|         0|             0|           0|               0|              0|                  0|              0|                  0|            0|                0|            0|                0|            0|                0|            0|                0|                 0|            0|        0|          0|         0|               0|         0|         0|         0|            0|              0|            0|          0|   0|                 0|    0|\n",
      "+-----------------------------+-----------------------------+------------+------------+------------------------+------------------------+-------------------------+-------------------------+----------------------+----------------------+-----------------------+-----------------------+--------+--------+------------+------------+------------+------------+--------------+--------------+------------+------------+------------+------------+--------------+--------------+----------------+----------------+--------------+----------------+------------+------------+---------------+----------+--------------+------------+----------------+---------------+-------------------+---------------+-------------------+-------------+-----------------+-------------+-----------------+-------------+-----------------+-------------+-----------------+------------------+-------------+---------+-----------+----------+----------------+----------+----------+----------+-------------+---------------+-------------+-----------+----+------------------+-----+\n",
      "\n"
     ]
    }
   ],
   "source": [
    "#Null values\n",
    "df_rf.select([count(when(isnan(c), c)).alias(c) for c in df_rf.columns]).show() "
   ]
  },
  {
   "cell_type": "markdown",
   "metadata": {},
   "source": [
    "---"
   ]
  },
  {
   "cell_type": "markdown",
   "metadata": {},
   "source": [
    "## Create Pipeline"
   ]
  },
  {
   "cell_type": "code",
   "execution_count": 38,
   "metadata": {},
   "outputs": [
    {
     "data": {
      "text/plain": [
       "64"
      ]
     },
     "execution_count": 38,
     "metadata": {},
     "output_type": "execute_result"
    }
   ],
   "source": [
    "#Get numeric columns\n",
    "num_feat = [i[0] for i in df_rf.dtypes if i[1] != \"string\"]\n",
    "len(num_feat)"
   ]
  },
  {
   "cell_type": "code",
   "execution_count": 39,
   "metadata": {},
   "outputs": [
    {
     "data": {
      "text/plain": [
       "['avg_median_sales_price_by_zip',\n",
       " 'std_median_sales_price_by_zip',\n",
       " 'avg_crowDist',\n",
       " 'std_crowDist',\n",
       " 'avg_startStationLatitude',\n",
       " 'std_startStationLatitude',\n",
       " 'avg_startStationLongitude',\n",
       " 'std_startStationLongitude',\n",
       " 'avg_endStationLatitude',\n",
       " 'std_endStationLatitude',\n",
       " 'avg_endStationLongitude',\n",
       " 'std_endStationLongitude',\n",
       " 'avg_temp',\n",
       " 'std_temp',\n",
       " 'avg_temp_min',\n",
       " 'std_temp_min',\n",
       " 'avg_temp_max',\n",
       " 'std_temp_max',\n",
       " 'avg_feels_like',\n",
       " 'std_feels_like',\n",
       " 'avg_pressure',\n",
       " 'std_pressure',\n",
       " 'avg_humidity',\n",
       " 'std_humidity',\n",
       " 'avg_wind_speed',\n",
       " 'std_wind_speed',\n",
       " 'avg_tripduration',\n",
       " 'std_tripduration',\n",
       " 'customer_count',\n",
       " 'subscriber_count',\n",
       " 'member_count',\n",
       " 'clouds_count',\n",
       " 'no_clouds_count',\n",
       " 'peak_count',\n",
       " 'non_peak_count',\n",
       " 'precip_count',\n",
       " 'non_precip_count',\n",
       " '1h_precip_count',\n",
       " 'non_1h_precip_count',\n",
       " '3h_precip_count',\n",
       " 'non_3h_precip_count',\n",
       " 'rain_1h_count',\n",
       " 'non_rain_1h_count',\n",
       " 'rain_3h_count',\n",
       " 'non_rain_3h_count',\n",
       " 'snow_1h_count',\n",
       " 'non_snow_1h_count',\n",
       " 'snow_3h_count',\n",
       " 'non_snow_3h_count',\n",
       " 'thunderstorm_count',\n",
       " 'drizzle_count',\n",
       " 'fog_count',\n",
       " 'clear_count',\n",
       " 'mist_count',\n",
       " 'cloudy_day_count',\n",
       " 'rain_count',\n",
       " 'snow_count',\n",
       " 'haze_count',\n",
       " 'morning_count',\n",
       " 'afternoon_count',\n",
       " 'evening_count',\n",
       " 'night_count',\n",
       " 'trip_count_by_date',\n",
       " 'label']"
      ]
     },
     "execution_count": 39,
     "metadata": {},
     "output_type": "execute_result"
    }
   ],
   "source": [
    "#inspect\n",
    "num_feat"
   ]
  },
  {
   "cell_type": "code",
   "execution_count": 40,
   "metadata": {},
   "outputs": [],
   "source": [
    "#Pipeline\n",
    "assembler = VectorAssembler(inputCols=list((set(num_feat)-set([\"label\"]))), outputCol=\"vectorized_features\")\n",
    "\n",
    "standardScaler = StandardScaler(inputCol=assembler.getOutputCol(), outputCol=\"features\")\n",
    "\n",
    "#pipeline\n",
    "pipeline = Pipeline(stages=[assembler] + [standardScaler])\n",
    "#Get model\n",
    "model = pipeline.fit(df_rf)\n",
    "df_tr = model.transform(df_rf)"
   ]
  },
  {
   "cell_type": "code",
   "execution_count": 18,
   "metadata": {},
   "outputs": [
    {
     "name": "stdout",
     "output_type": "stream",
     "text": [
      "+-----------------------------+-----------------------------+------------------+------------------+------------------------+------------------------+-------------------------+-------------------------+----------------------+----------------------+-----------------------+-----------------------+-----------------+------------------+-----------------+------------------+-----------------+------------------+-----------------+-----------------+------------------+------------------+-----------------+-----------------+------------------+------------------+-----------------+------------------+--------------+----------------+------------+------------+---------------+----------+--------------+------------+----------------+---------------+-------------------+---------------+-------------------+-------------+-----------------+-------------+-----------------+-------------+-----------------+-------------+-----------------+------------------+-------------+---------+-----------+----------+----------------+----------+----------+----------+-------------+---------------+-------------+-----------+----------+------------------+-----+--------------------+--------------------+\n",
      "|avg_median_sales_price_by_zip|std_median_sales_price_by_zip|      avg_crowDist|      std_crowDist|avg_startStationLatitude|std_startStationLatitude|avg_startStationLongitude|std_startStationLongitude|avg_endStationLatitude|std_endStationLatitude|avg_endStationLongitude|std_endStationLongitude|         avg_temp|          std_temp|     avg_temp_min|      std_temp_min|     avg_temp_max|      std_temp_max|   avg_feels_like|   std_feels_like|      avg_pressure|      std_pressure|     avg_humidity|     std_humidity|    avg_wind_speed|    std_wind_speed| avg_tripduration|  std_tripduration|customer_count|subscriber_count|member_count|clouds_count|no_clouds_count|peak_count|non_peak_count|precip_count|non_precip_count|1h_precip_count|non_1h_precip_count|3h_precip_count|non_3h_precip_count|rain_1h_count|non_rain_1h_count|rain_3h_count|non_rain_3h_count|snow_1h_count|non_snow_1h_count|snow_3h_count|non_snow_3h_count|thunderstorm_count|drizzle_count|fog_count|clear_count|mist_count|cloudy_day_count|rain_count|snow_count|haze_count|morning_count|afternoon_count|evening_count|night_count|      date|trip_count_by_date|label| vectorized_features|            features|\n",
      "+-----------------------------+-----------------------------+------------------+------------------+------------------------+------------------------+-------------------------+-------------------------+----------------------+----------------------+-----------------------+-----------------------+-----------------+------------------+-----------------+------------------+-----------------+------------------+-----------------+-----------------+------------------+------------------+-----------------+-----------------+------------------+------------------+-----------------+------------------+--------------+----------------+------------+------------+---------------+----------+--------------+------------+----------------+---------------+-------------------+---------------+-------------------+-------------+-----------------+-------------+-----------------+-------------+-----------------+-------------+-----------------+------------------+-------------+---------+-----------+----------+----------------+----------+----------+----------+-------------+---------------+-------------+-----------+----------+------------------+-----+--------------------+--------------------+\n",
      "|           1064262.3373386133|           120871.25593695723|1.1329740969724742|0.9106752239514277|      40.736845960141046|     0.03022005617512945|        -73.9826889474745|      0.01953458336762155|      40.7367855380236|   0.03005372228259234|     -73.98291272390162|    0.01958174236334341|79.80958797781285| 4.235597491626723|77.31069862301135|3.1962189981809757|77.31069862301135|3.1962189981809757| 87.3497442932618|5.296865011590768|1017.1381513845328|1.1426033290974789|86.21045569662714|8.289926063545808|2.3453943947793934|0.7509283901033936|935.8277342636231|10699.247710177839|          5032|           54591|           0|         485|              0|     36103|         23520|       36231|           23392|              0|              25501|              0|              49055|            0|            25501|            0|            49055|            0|            59623|            0|            59623|                 0|            0|        0|        485|      7186|           22907|     29045|         0|         0|        19653|          15382|        21238|       3350|2018-08-01|             59623|    0|[0.01953458336762...|[8.87764829732738...|\n",
      "|           1063885.3840608338|           121887.05208913662| 1.148447846598559|0.9271935407488715|       40.73685444025388|    0.030161312759561063|       -73.98275481356357|     0.019625172087245412|     40.73676833598294|   0.02996670162208826|     -73.98301048576775|   0.019605372752260722|81.93664045437937|3.7034887075528635|78.90229631259196|2.7542754784190455|78.90229631259196|2.7542754784190455|87.93635674974254|5.509563498491671|1018.6626457296594|0.8719126878954013|71.48462255358807|5.412173244723805|2.0633540241588046|0.7600426836781768|920.6011886968296|7194.6539427965145|          5607|           51262|           0|        9084|              0|     34707|         22162|         867|           56002|              0|              56002|              0|              56869|            0|            56002|            0|            56869|            0|            56869|            0|            56869|                 0|            0|        0|       9084|         0|           46918|       867|         0|         0|        19028|          14084|        20708|       3049|2018-08-02|             56869|    0|[0.01962517208724...|[8.91881706849548...|\n",
      "+-----------------------------+-----------------------------+------------------+------------------+------------------------+------------------------+-------------------------+-------------------------+----------------------+----------------------+-----------------------+-----------------------+-----------------+------------------+-----------------+------------------+-----------------+------------------+-----------------+-----------------+------------------+------------------+-----------------+-----------------+------------------+------------------+-----------------+------------------+--------------+----------------+------------+------------+---------------+----------+--------------+------------+----------------+---------------+-------------------+---------------+-------------------+-------------+-----------------+-------------+-----------------+-------------+-----------------+-------------+-----------------+------------------+-------------+---------+-----------+----------+----------------+----------+----------+----------+-------------+---------------+-------------+-----------+----------+------------------+-----+--------------------+--------------------+\n",
      "only showing top 2 rows\n",
      "\n"
     ]
    }
   ],
   "source": [
    "#inspect\n",
    "df_tr.show(2)"
   ]
  },
  {
   "cell_type": "markdown",
   "metadata": {},
   "source": [
    "#### Downsample and Train/test split"
   ]
  },
  {
   "cell_type": "code",
   "execution_count": 41,
   "metadata": {},
   "outputs": [],
   "source": [
    "#Downsampled label\n",
    "down = downsample(df_tr, 'label', 1, 0)\n",
    "#split to test and train\n",
    "train, test = down.randomSplit([0.7,0.3], seed=2021)"
   ]
  },
  {
   "cell_type": "markdown",
   "metadata": {},
   "source": [
    "## Random Forest Classification Challenger Model - Tuned and Downsampled"
   ]
  },
  {
   "cell_type": "code",
   "execution_count": 42,
   "metadata": {},
   "outputs": [],
   "source": [
    "#Random Forest Regressor\n",
    "from pyspark.ml.classification import RandomForestClassifier\n",
    "rf = RandomForestClassifier()"
   ]
  },
  {
   "cell_type": "code",
   "execution_count": 43,
   "metadata": {},
   "outputs": [],
   "source": [
    "#Cross validation and Paramgrid\n",
    "#Tune with CV\n",
    "from pyspark.ml.tuning import ParamGridBuilder, CrossValidator\n",
    "from pyspark.ml.evaluation import BinaryClassificationEvaluator\n",
    "\n",
    "paramGrid = ParamGridBuilder() \\\n",
    "    .addGrid(rf.numTrees, [int(x) for x in np.linspace(start = 10, stop = 50, num = 3)]) \\\n",
    "    .addGrid(rf.maxDepth, [int(x) for x in np.linspace(start = 5, stop = 25, num = 3)]) \\\n",
    "    .build()\n",
    "\n",
    "\n",
    "#5 fold cross validation\n",
    "cv = CrossValidator(estimator=rf, estimatorParamMaps = paramGrid, evaluator=BinaryClassificationEvaluator(), numFolds=5)"
   ]
  },
  {
   "cell_type": "code",
   "execution_count": 44,
   "metadata": {},
   "outputs": [],
   "source": [
    "#Fit the data\n",
    "cvModel = cv.fit(train)"
   ]
  },
  {
   "cell_type": "code",
   "execution_count": 45,
   "metadata": {},
   "outputs": [],
   "source": [
    "#Get predictions\n",
    "preds = cvModel.transform(test)"
   ]
  },
  {
   "cell_type": "code",
   "execution_count": 46,
   "metadata": {},
   "outputs": [
    {
     "data": {
      "text/html": [
       "<div>\n",
       "<style scoped>\n",
       "    .dataframe tbody tr th:only-of-type {\n",
       "        vertical-align: middle;\n",
       "    }\n",
       "\n",
       "    .dataframe tbody tr th {\n",
       "        vertical-align: top;\n",
       "    }\n",
       "\n",
       "    .dataframe thead th {\n",
       "        text-align: right;\n",
       "    }\n",
       "</style>\n",
       "<table border=\"1\" class=\"dataframe\">\n",
       "  <thead>\n",
       "    <tr style=\"text-align: right;\">\n",
       "      <th></th>\n",
       "      <th>label</th>\n",
       "      <th>features</th>\n",
       "      <th>rawPrediction</th>\n",
       "      <th>prediction</th>\n",
       "      <th>probability</th>\n",
       "    </tr>\n",
       "  </thead>\n",
       "  <tbody>\n",
       "    <tr>\n",
       "      <th>0</th>\n",
       "      <td>1</td>\n",
       "      <td>[2.1747214960810686, 0.7741071638721436, 0.0, ...</td>\n",
       "      <td>[6.0, 24.0]</td>\n",
       "      <td>1.0</td>\n",
       "      <td>[0.2, 0.8]</td>\n",
       "    </tr>\n",
       "    <tr>\n",
       "      <th>1</th>\n",
       "      <td>0</td>\n",
       "      <td>[1.1855053031056773, 0.0, 0.24697062134037592,...</td>\n",
       "      <td>[16.0, 14.0]</td>\n",
       "      <td>0.0</td>\n",
       "      <td>[0.5333333333333333, 0.4666666666666667]</td>\n",
       "    </tr>\n",
       "    <tr>\n",
       "      <th>2</th>\n",
       "      <td>1</td>\n",
       "      <td>[1.643648533002601, 0.0, 0.4354827711400777, 1...</td>\n",
       "      <td>[7.0, 23.0]</td>\n",
       "      <td>1.0</td>\n",
       "      <td>[0.23333333333333334, 0.7666666666666667]</td>\n",
       "    </tr>\n",
       "    <tr>\n",
       "      <th>3</th>\n",
       "      <td>0</td>\n",
       "      <td>[4.605968654448574, 0.0, 0.0, 127.469120976399...</td>\n",
       "      <td>[18.0, 12.0]</td>\n",
       "      <td>0.0</td>\n",
       "      <td>[0.6, 0.4]</td>\n",
       "    </tr>\n",
       "    <tr>\n",
       "      <th>4</th>\n",
       "      <td>0</td>\n",
       "      <td>[1.4445449758342739, 0.6310426297752496, 0.0, ...</td>\n",
       "      <td>[15.0, 15.0]</td>\n",
       "      <td>0.0</td>\n",
       "      <td>[0.5, 0.5]</td>\n",
       "    </tr>\n",
       "  </tbody>\n",
       "</table>\n",
       "</div>"
      ],
      "text/plain": [
       "   label                                           features rawPrediction  \\\n",
       "0      1  [2.1747214960810686, 0.7741071638721436, 0.0, ...   [6.0, 24.0]   \n",
       "1      0  [1.1855053031056773, 0.0, 0.24697062134037592,...  [16.0, 14.0]   \n",
       "2      1  [1.643648533002601, 0.0, 0.4354827711400777, 1...   [7.0, 23.0]   \n",
       "3      0  [4.605968654448574, 0.0, 0.0, 127.469120976399...  [18.0, 12.0]   \n",
       "4      0  [1.4445449758342739, 0.6310426297752496, 0.0, ...  [15.0, 15.0]   \n",
       "\n",
       "   prediction                                probability  \n",
       "0         1.0                                 [0.2, 0.8]  \n",
       "1         0.0   [0.5333333333333333, 0.4666666666666667]  \n",
       "2         1.0  [0.23333333333333334, 0.7666666666666667]  \n",
       "3         0.0                                 [0.6, 0.4]  \n",
       "4         0.0                                 [0.5, 0.5]  "
      ]
     },
     "execution_count": 46,
     "metadata": {},
     "output_type": "execute_result"
    }
   ],
   "source": [
    "#View predictions\n",
    "preds.select('label', 'features', 'rawPrediction', 'prediction', 'probability').toPandas().head(5)"
   ]
  },
  {
   "cell_type": "code",
   "execution_count": 47,
   "metadata": {},
   "outputs": [
    {
     "name": "stdout",
     "output_type": "stream",
     "text": [
      "Best Model Test AUROC : 0.7066115702479339\n"
     ]
    }
   ],
   "source": [
    "#Get AUROC\n",
    "evaluator = BinaryClassificationEvaluator(rawPredictionCol='rawPrediction', labelCol='label')\n",
    "best_roc = evaluator.evaluate(preds)\n",
    "print(\"Best Model Test AUROC : \" + str(best_roc))  #AUROC 0.706 (worse)"
   ]
  },
  {
   "cell_type": "code",
   "execution_count": 48,
   "metadata": {},
   "outputs": [
    {
     "name": "stdout",
     "output_type": "stream",
     "text": [
      "Accuracy : 0.7727272727272727\n"
     ]
    }
   ],
   "source": [
    "#Evaluate accuracy\n",
    "accuracy = preds.filter(preds.label == preds.prediction).count() / float(preds.count())\n",
    "print(\"Accuracy : \" + str(accuracy)) # 0."
   ]
  },
  {
   "cell_type": "code",
   "execution_count": 49,
   "metadata": {},
   "outputs": [
    {
     "name": "stdout",
     "output_type": "stream",
     "text": [
      "numTrees:  30\n",
      "maxDepth:  15\n"
     ]
    }
   ],
   "source": [
    "#Hyperparamter selection\n",
    "bm = cvModel.bestModel\n",
    "print('numTrees: ', bm.getNumTrees) \n",
    "print('maxDepth: ', bm.getOrDefault('maxDepth')) "
   ]
  },
  {
   "cell_type": "code",
   "execution_count": 50,
   "metadata": {},
   "outputs": [],
   "source": [
    "#Feature Importance\n",
    "importances = bm.featureImportances\n",
    "x_values = list(range(len(importances)))"
   ]
  },
  {
   "cell_type": "code",
   "execution_count": 51,
   "metadata": {},
   "outputs": [],
   "source": [
    "#Get list of importances and sort and take top 10\n",
    "lis = []\n",
    "for i in importances:\n",
    "    lis.append(i)\n",
    "output = list(zip(x_values, lis, num_feat[1:]))\n",
    "output = sorted(output, key=lambda x: x[1], reverse=True)\n",
    "top10 = output[0:10]"
   ]
  },
  {
   "cell_type": "code",
   "execution_count": 57,
   "metadata": {},
   "outputs": [
    {
     "data": {
      "text/plain": [
       "[(28, 0.06744489331714239, 'subscriber_count'),\n",
       " (19, 0.0646897952316171, 'avg_pressure'),\n",
       " (27, 0.052127050938122484, 'customer_count'),\n",
       " (12, 0.050059168270780684, 'std_temp'),\n",
       " (42, 0.0490756712324906, 'rain_3h_count'),\n",
       " (61, 0.0432730336737342, 'trip_count_by_date'),\n",
       " (3, 0.04089617808083637, 'avg_startStationLatitude'),\n",
       " (30, 0.04062038970810675, 'clouds_count'),\n",
       " (36, 0.040493288087551295, '1h_precip_count'),\n",
       " (47, 0.037959247871006435, 'non_snow_3h_count'),\n",
       " (16, 0.029003413386826844, 'std_temp_max'),\n",
       " (9, 0.027035865808311632, 'avg_endStationLongitude'),\n",
       " (34, 0.024818420227115886, 'precip_count'),\n",
       " (15, 0.023385093754824646, 'avg_temp_max'),\n",
       " (39, 0.02238554557978797, 'non_3h_precip_count'),\n",
       " (25, 0.02172302215292578, 'avg_tripduration'),\n",
       " (58, 0.021268849733762026, 'afternoon_count'),\n",
       " (60, 0.020377253465488764, 'night_count'),\n",
       " (22, 0.019915999441734732, 'std_humidity'),\n",
       " (31, 0.019505135387488326, 'no_clouds_count'),\n",
       " (57, 0.01846794509837988, 'morning_count'),\n",
       " (40, 0.017277830013124128, 'rain_1h_count'),\n",
       " (62, 0.017234758624736835, 'label'),\n",
       " (20, 0.016306869975509487, 'std_pressure'),\n",
       " (0, 0.01485941444194262, 'std_median_sales_price_by_zip'),\n",
       " (26, 0.014587792642140466, 'std_tripduration'),\n",
       " (7, 0.014188948306595376, 'avg_endStationLatitude'),\n",
       " (49, 0.01348654450750462, 'drizzle_count'),\n",
       " (55, 0.012949550449550451, 'snow_count'),\n",
       " (38, 0.012890838206627678, '3h_precip_count'),\n",
       " (52, 0.012364482830169103, 'mist_count'),\n",
       " (4, 0.012305595853421943, 'std_startStationLatitude'),\n",
       " (21, 0.012195250499140648, 'avg_humidity'),\n",
       " (8, 0.012154472900271223, 'std_endStationLatitude'),\n",
       " (43, 0.011246556926408198, 'non_rain_3h_count'),\n",
       " (37, 0.011108130895275703, 'non_1h_precip_count'),\n",
       " (48, 0.008672042945558806, 'thunderstorm_count'),\n",
       " (14, 0.008124450559951075, 'std_temp_min'),\n",
       " (46, 0.006984126984126981, 'snow_3h_count'),\n",
       " (13, 0.006961614685399853, 'avg_temp_min'),\n",
       " (23, 0.005267489711934151, 'avg_wind_speed'),\n",
       " (24, 0.0047619047619047615, 'std_wind_speed'),\n",
       " (53, 0.0045924093543141175, 'cloudy_day_count'),\n",
       " (54, 0.004128656810317713, 'rain_count'),\n",
       " (56, 0.0029513888888888897, 'haze_count'),\n",
       " (5, 0.0029220779220779218, 'avg_startStationLongitude'),\n",
       " (32, 0.002596467391304353, 'peak_count'),\n",
       " (45, 0.002355072463768116, 'non_snow_1h_count'),\n",
       " (1, 0.0, 'avg_crowDist'),\n",
       " (2, 0.0, 'std_crowDist'),\n",
       " (6, 0.0, 'std_startStationLongitude'),\n",
       " (10, 0.0, 'std_endStationLongitude'),\n",
       " (11, 0.0, 'avg_temp'),\n",
       " (17, 0.0, 'avg_feels_like'),\n",
       " (18, 0.0, 'std_feels_like'),\n",
       " (29, 0.0, 'member_count'),\n",
       " (33, 0.0, 'non_peak_count'),\n",
       " (35, 0.0, 'non_precip_count'),\n",
       " (41, 0.0, 'non_rain_1h_count'),\n",
       " (44, 0.0, 'snow_1h_count'),\n",
       " (50, 0.0, 'fog_count'),\n",
       " (51, 0.0, 'clear_count'),\n",
       " (59, 0.0, 'evening_count')]"
      ]
     },
     "execution_count": 57,
     "metadata": {},
     "output_type": "execute_result"
    }
   ],
   "source": [
    "output"
   ]
  },
  {
   "cell_type": "code",
   "execution_count": 52,
   "metadata": {},
   "outputs": [],
   "source": [
    "#The weights were numpy-float64 so I needed to change its type to be able to create spark df\n",
    "top10 = [(float(x[1]), x[2]) for x in top10]"
   ]
  },
  {
   "cell_type": "code",
   "execution_count": 53,
   "metadata": {},
   "outputs": [],
   "source": [
    "#get DF\n",
    "schema = StructType([\n",
    "    StructField(\"weight\", DoubleType(), True),\n",
    "    StructField(\"name\", StringType(), True)\n",
    "])\n",
    "df_ticks = spark.createDataFrame(top10, schema).toPandas()"
   ]
  },
  {
   "cell_type": "code",
   "execution_count": 54,
   "metadata": {},
   "outputs": [
    {
     "data": {
      "text/html": [
       "<div>\n",
       "<style scoped>\n",
       "    .dataframe tbody tr th:only-of-type {\n",
       "        vertical-align: middle;\n",
       "    }\n",
       "\n",
       "    .dataframe tbody tr th {\n",
       "        vertical-align: top;\n",
       "    }\n",
       "\n",
       "    .dataframe thead th {\n",
       "        text-align: right;\n",
       "    }\n",
       "</style>\n",
       "<table border=\"1\" class=\"dataframe\">\n",
       "  <thead>\n",
       "    <tr style=\"text-align: right;\">\n",
       "      <th></th>\n",
       "      <th>weight</th>\n",
       "      <th>name</th>\n",
       "    </tr>\n",
       "  </thead>\n",
       "  <tbody>\n",
       "    <tr>\n",
       "      <th>0</th>\n",
       "      <td>0.067445</td>\n",
       "      <td>subscriber_count</td>\n",
       "    </tr>\n",
       "    <tr>\n",
       "      <th>1</th>\n",
       "      <td>0.064690</td>\n",
       "      <td>avg_pressure</td>\n",
       "    </tr>\n",
       "    <tr>\n",
       "      <th>2</th>\n",
       "      <td>0.052127</td>\n",
       "      <td>customer_count</td>\n",
       "    </tr>\n",
       "    <tr>\n",
       "      <th>3</th>\n",
       "      <td>0.050059</td>\n",
       "      <td>std_temp</td>\n",
       "    </tr>\n",
       "    <tr>\n",
       "      <th>4</th>\n",
       "      <td>0.049076</td>\n",
       "      <td>rain_3h_count</td>\n",
       "    </tr>\n",
       "    <tr>\n",
       "      <th>5</th>\n",
       "      <td>0.043273</td>\n",
       "      <td>trip_count_by_date</td>\n",
       "    </tr>\n",
       "    <tr>\n",
       "      <th>6</th>\n",
       "      <td>0.040896</td>\n",
       "      <td>avg_startStationLatitude</td>\n",
       "    </tr>\n",
       "    <tr>\n",
       "      <th>7</th>\n",
       "      <td>0.040620</td>\n",
       "      <td>clouds_count</td>\n",
       "    </tr>\n",
       "    <tr>\n",
       "      <th>8</th>\n",
       "      <td>0.040493</td>\n",
       "      <td>1h_precip_count</td>\n",
       "    </tr>\n",
       "    <tr>\n",
       "      <th>9</th>\n",
       "      <td>0.037959</td>\n",
       "      <td>non_snow_3h_count</td>\n",
       "    </tr>\n",
       "  </tbody>\n",
       "</table>\n",
       "</div>"
      ],
      "text/plain": [
       "     weight                      name\n",
       "0  0.067445          subscriber_count\n",
       "1  0.064690              avg_pressure\n",
       "2  0.052127            customer_count\n",
       "3  0.050059                  std_temp\n",
       "4  0.049076             rain_3h_count\n",
       "5  0.043273        trip_count_by_date\n",
       "6  0.040896  avg_startStationLatitude\n",
       "7  0.040620              clouds_count\n",
       "8  0.040493           1h_precip_count\n",
       "9  0.037959         non_snow_3h_count"
      ]
     },
     "execution_count": 54,
     "metadata": {},
     "output_type": "execute_result"
    }
   ],
   "source": [
    "#Inspect\n",
    "df_ticks"
   ]
  },
  {
   "cell_type": "code",
   "execution_count": 56,
   "metadata": {},
   "outputs": [
    {
     "data": {
      "image/png": "[encoded data removed]",
      "text/plain": [
       "<Figure size 2000x1000 with 1 Axes>"
      ]
     },
     "metadata": {},
     "output_type": "display_data"
    }
   ],
   "source": [
    "#plot of Feature Importance - need to work on graph look\n",
    "plt.rcParams[\"figure.figsize\"] = (20, 10)\n",
    "plt.bar(x_values[0:10], df_ticks[\"weight\"], orientation = 'vertical')\n",
    "plt.xticks(x_values[0:10], df_ticks[\"name\"], rotation=40)\n",
    "plt.ylabel('Importance', size=20)\n",
    "plt.xlabel('Feature', size=20)\n",
    "plt.title('Feature Importance - Top 10', size=30)\n",
    "plt.show()"
   ]
  },
  {
   "cell_type": "code",
   "execution_count": null,
   "metadata": {},
   "outputs": [],
   "source": []
  }
 ],
 "metadata": {
  "kernelspec": {
   "display_name": "DS 5110",
   "language": "python",
   "name": "ds5110"
  },
  "language_info": {
   "codemirror_mode": {
    "name": "ipython",
    "version": 3
   },
   "file_extension": ".py",
   "mimetype": "text/x-python",
   "name": "python",
   "nbconvert_exporter": "python",
   "pygments_lexer": "ipython3",
   "version": "3.7.10"
  }
 },
 "nbformat": 4,
 "nbformat_minor": 4
}
