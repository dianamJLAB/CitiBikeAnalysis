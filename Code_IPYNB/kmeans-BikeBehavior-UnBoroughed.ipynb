{
 "cells": [
  {
   "cell_type": "markdown",
   "metadata": {},
   "source": [
    "# Create Bike Behavior Groupings using k-means.\n",
    "\n",
    "With no borough information, how does CitiBike behavior divide into sub-regions within these regions?\n",
    "\n",
    "aggregate features grouped by end stations:\n",
    "1. avg trip duration\n",
    "1. std trip duration\n",
    "1. avg trip duration peak\n",
    "1. avg trip duration non-peak\n",
    "1. avg trip duration by dow\n",
    "1. avg trip duration on GOOD weather days\n",
    "1. std trip duration on GOOD weather days\n",
    "1. avg trip duration on BAD weather days\n",
    "1. std trip duration on BAD weather days\n",
    "1. avg crow flies distance\n",
    "1. std crow flies distance\n",
    "1. avg crow flies distance peak\n",
    "1. avg crow flies distance non-peak\n",
    "1. avg crow flies distance by dow\n",
    "1. avg crow flies distance on GOOD weather days\n",
    "1. std crow flies distance on GOOD weather days\n",
    "1. avg crow flies distance on BAD weather days\n",
    "1. std crow flies distance on BAD weather days\n",
    "1. count trips by dow\n",
    "1. count trips on peak/non-peak commute\n",
    "1. count trips GOOD/BAD weather\n",
    "\n",
    "All features will be MaxAbsScaler Scaled"
   ]
  },
  {
   "cell_type": "code",
   "execution_count": 2,
   "metadata": {},
   "outputs": [],
   "source": [
    "import pandas as pd\n",
    "\n",
    "from pyspark.sql import SparkSession\n",
    "\n",
    "# load modules\n",
    "import pandas as pd\n",
    "from pyspark.sql import SparkSession\n",
    "from pyspark import SparkContext\n",
    "from pyspark import SparkConf\n",
    "from pyspark.ml.feature import OneHotEncoder, StringIndexer, VectorAssembler, MaxAbsScaler\n",
    "from pyspark.mllib.regression import LabeledPoint\n",
    "from pyspark.sql.functions import count, avg, stddev, col, udf, when, isnan, isnull\n",
    "from pyspark.sql.functions import lit, concat\n",
    "from pyspark.sql.types import DoubleType, StringType, IntegerType, StructType, StructField\n",
    "import pyspark.sql.functions as F\n",
    "\n",
    "# KMeans and Clustering\n",
    "from pyspark.ml.clustering import KMeans\n",
    "from pyspark.ml.evaluation import ClusteringEvaluator\n",
    "    \n",
    "from pyspark.ml import Pipeline\n",
    "from pyspark.ml import PipelineModel\n",
    "from pyspark.ml.feature import *\n",
    "\n",
    "# import modules\n",
    "from functools import reduce\n",
    "from pyspark.sql import DataFrame\n",
    "import os\n",
    "# start spark context\n",
    "spark = SparkSession.builder \\\n",
    "        .master(\"local[*]\") \\\n",
    "        .appName(\"weatherwork\") \\\n",
    "        .getOrCreate()\n",
    "# set configurations\n",
    "conf = SparkConf().setMaster(\"local[*]\").setAppName(\"weatherwork\")\n",
    "sc = SparkContext.getOrCreate(conf=conf)"
   ]
  },
  {
   "cell_type": "markdown",
   "metadata": {},
   "source": [
    "Read CSV I pulled from Abby's file; contains station info (lats, longs, address, etc.)"
   ]
  },
  {
   "cell_type": "code",
   "execution_count": null,
   "metadata": {},
   "outputs": [],
   "source": [
    "df = spark.read.parquet('/project/ds5559/Summer2021_TeamBike/master_dataset.parquet/')\\\n",
    ".select('month','dow','startStationLatitude','startStationLongitude','endStationLatitude','endStationLongitude','tripduration','startStationName','endStationName','peak_commute','feels_like', 'precip')"
   ]
  },
  {
   "cell_type": "code",
   "execution_count": null,
   "metadata": {},
   "outputs": [],
   "source": [
    "df.show(2)\n",
    "print(df.count())"
   ]
  },
  {
   "cell_type": "markdown",
   "metadata": {},
   "source": [
    "# Add CrowFlies Distance to Each Trip"
   ]
  },
  {
   "cell_type": "code",
   "execution_count": null,
   "metadata": {},
   "outputs": [],
   "source": [
    "# Necessary for distance calculations\n",
    "from math import sin, cos, sqrt, atan2, radians    \n",
    "from pyspark.sql.functions import col, radians, asin, sin, sqrt, cos"
   ]
  },
  {
   "cell_type": "code",
   "execution_count": null,
   "metadata": {},
   "outputs": [],
   "source": [
    "# radius of earth in miles\n",
    "R = 3963.0\n",
    "\n",
    "#Convert start/end latitude and longitude from degrees to Radians\n",
    "df = df.withColumn(\"startRadLong\", radians(df.startStationLongitude))\n",
    "df = df.withColumn(\"endRadLong\", radians(df.endStationLongitude))\n",
    "df = df.withColumn(\"startRadLat\", radians(df.startStationLatitude))\n",
    "df = df.withColumn(\"endRadLat\", radians(df.endStationLatitude))\n",
    "df = df.withColumn(\"diffRadLong\", (df.startRadLong-df.endRadLong))\n",
    "df = df.withColumn(\"diffRadLat\", (df.startRadLat-df.endRadLat))\n",
    "df = df.withColumn(\"crowDist\", asin(sqrt(sin(df.diffRadLat/2)**2 + cos(df.startRadLat) * cos(df.endRadLat) * sin(df.diffRadLong/2)**2)) * 2 * R)\n",
    "df = df.drop(\"startRadLong\",\"endRadLong\",\"startRadLat\",\"endRadLat\",\"diffRadLong\",\"diffRadLat\")"
   ]
  },
  {
   "cell_type": "markdown",
   "metadata": {},
   "source": [
    "## ADD Weather Good/Bad Label to each trip"
   ]
  },
  {
   "cell_type": "code",
   "execution_count": null,
   "metadata": {},
   "outputs": [],
   "source": [
    "# load the low and high rdds\n",
    "schema = StructType([\n",
    "    StructField(\"month\", StringType(), True),\n",
    "    StructField(\"feels_like\", DoubleType(), True)])\n",
    "\n",
    "df_low = spark.read.csv(\"/project/ds5559/Summer2021_TeamBike/broadcastLow.csv\", header=False, schema=schema)\n",
    "\n",
    "df_high = spark.read.csv(\"/project/ds5559/Summer2021_TeamBike/broadcastHigh.csv\", header=False, schema=schema)\n",
    "\n",
    "sdf_month_low = df_low.rdd.map(lambda x: (x[0], x[1])).collectAsMap()                                                       \n",
    "bc_low = sc.broadcast(sdf_month_low)\n",
    "\n",
    "sdf_month_high = df_high.rdd.map(lambda x: (x[0], x[1])).collectAsMap()                                                       \n",
    "bc_high = sc.broadcast(sdf_month_high)\n",
    "print(bc_high.value.get('Jun'))\n",
    "\n",
    "@udf(returnType=StringType())\n",
    "def goodOrBadWeatherTrip(input_month, input_feels_like, input_precip):\n",
    "    # default value\n",
    "    goodOrBad = \"GOOD\"\n",
    "    if input_precip == \"precip\":\n",
    "        goodOrBad = \"BAD\"\n",
    "    elif input_feels_like >= bc_high.value.get(input_month) or input_feels_like <= bc_low.value.get(input_month):\n",
    "        goodOrBad = \"BAD\"\n",
    "   \n",
    "    return goodOrBad\n",
    "\n",
    "# join goodBadweather on master dataset\n",
    "df = df.withColumn(\"weatherGOODorBAD\", goodOrBadWeatherTrip(col(\"month\"), col(\"feels_like\"), col(\"precip\"))).drop(\"feels_like\",\"precip\")\n",
    "df.show(5)"
   ]
  },
  {
   "cell_type": "markdown",
   "metadata": {},
   "source": [
    "## Are there nulls in the dataset?\n",
    "**ANSWER:** Yes, there are nulls in end station information. I am removing those rows. Hypothesis is stolen bikes.\n",
    "\n",
    "This removes 13,885 trips (a small fraction) from the dataframe.\n",
    "\n",
    "** TO DO: take a look**"
   ]
  },
  {
   "cell_type": "code",
   "execution_count": null,
   "metadata": {},
   "outputs": [],
   "source": [
    "df = df.filter(df.endStationLatitude. isNotNull())"
   ]
  },
  {
   "cell_type": "markdown",
   "metadata": {},
   "source": [
    "## Calculate the aggregate feature for each endStationName that will be used for the model\n",
    "\n",
    "aggregate features grouped by end stations:\n",
    "1. avg trip duration\n",
    "1. std trip duration\n",
    "1. avg trip duration peak\n",
    "1. avg trip duration non-peak\n",
    "1. avg trip duration by dow\n",
    "1. avg trip duration on GOOD weather days\n",
    "1. std trip duration on GOOD weather days\n",
    "1. avg trip duration on BAD weather days\n",
    "1. std trip duration on BAD weather days\n",
    "1. avg crow flies distance\n",
    "1. std crow flies distance\n",
    "1. avg crow flies distance peak\n",
    "1. avg crow flies distance non-peak\n",
    "1. avg crow flies distance by dow\n",
    "1. avg crow flies distance on GOOD weather days\n",
    "1. std crow flies distance on GOOD weather days\n",
    "1. avg crow flies distance on BAD weather days\n",
    "1. std crow flies distance on BAD weather days\n",
    "1. count trips by dow\n",
    "1. count trips on peak commute\n",
    "1. count trips on non peak commute\n",
    "1. count trips GOOD weather\n",
    "1. count trips BAD weather"
   ]
  },
  {
   "cell_type": "code",
   "execution_count": null,
   "metadata": {},
   "outputs": [],
   "source": [
    "# get basic averages for each station: average trip distance, average crow flies distance\n",
    "\n",
    "df_endStation_Avg = df.groupBy(\"endStationName\") \\\n",
    "    .agg(\\\n",
    "        avg(\"tripduration\").alias(\"avg_tripduration\"),\\\n",
    "        stddev(\"tripduration\").alias(\"std_tripduration\"),\\\n",
    "        avg(\"crowDist\").alias(\"avg_crowDist\"),\\\n",
    "        stddev(\"crowDist\").alias(\"std_crowDist\"))\\\n",
    "    .select(\"endStationName\",\"avg_tripduration\", \"std_tripduration\", \"avg_crowDist\", \"std_crowDist\")\n",
    "    \n",
    "print(\"Count of end stations: %s\" % df_endStation_Avg.count())\n",
    "df_endStation_Avg.show(5)"
   ]
  },
  {
   "cell_type": "code",
   "execution_count": 1,
   "metadata": {},
   "outputs": [],
   "source": [
    "# test on a small sample of df\n",
    "#df_sample = df.sample(0.01, 3)\n",
    "#df_sample.cache()\n",
    "#df_sample.count()"
   ]
  },
  {
   "cell_type": "code",
   "execution_count": null,
   "metadata": {},
   "outputs": [],
   "source": [
    "# get the grouped by endStationName and good / bad weather - which we will need to pivot to put good bad weather as columns\n",
    "\n",
    "df_grp_endStation_weather = df.groupBy(\"endStationName\", \"weatherGOODorBAD\") \\\n",
    "    .agg(\\\n",
    "        avg(\"tripduration\").alias(\"avg_td\"),\\\n",
    "        stddev(\"tripduration\").alias(\"std_td\"),\\\n",
    "        count(\"tripduration\").alias(\"cnt_td\"),\\\n",
    "        avg(\"crowDist\").alias(\"avg_dist\"),\\\n",
    "        stddev(\"crowDist\").alias(\"std_dist\"))\\\n",
    "    .groupBy(\"endStationName\")\\\n",
    "    .pivot(\"weatherGOODorBAD\")\\\n",
    "    .agg(\\\n",
    "        avg(\"avg_td\"),\\\n",
    "        avg(\"std_td\"),\\\n",
    "        avg(\"cnt_td\"),\\\n",
    "        avg(\"avg_dist\"),\\\n",
    "        avg(\"std_dist\"))\\\n",
    "    .withColumnRenamed(\"BAD_avg(avg_td)\",\"avg_dur_BADweather\")\\\n",
    "    .withColumnRenamed(\"BAD_avg(std_td)\",\"std_dur_BADweather\")\\\n",
    "    .withColumnRenamed(\"BAD_avg(cnt_td)\",\"count_trips_BADweather\")\\\n",
    "    .withColumnRenamed(\"BAD_avg(avg_dist)\",\"avg_dist_BADweather\")\\\n",
    "    .withColumnRenamed(\"BAD_avg(std_dist)\",\"std_dist_BADweather\")\\\n",
    "    .withColumnRenamed(\"GOOD_avg(avg_td)\",\"avg_dur_GOODweather\")\\\n",
    "    .withColumnRenamed(\"GOOD_avg(std_td)\",\"std_dur_GOODweather\")\\\n",
    "    .withColumnRenamed(\"GOOD_avg(cnt_td)\",\"count_trips_GOODweather\")\\\n",
    "    .withColumnRenamed(\"GOOD_avg(avg_dist)\",\"avg_dist_GOODweather\")\\\n",
    "    .withColumnRenamed(\"GOOD_avg(std_dist)\",\"std_dist_GOODweather\")\n",
    "    \n",
    "print(\"Count of end stations and weatherGOODorBAD: %s\" % df_grp_endStation_weather.count())\n",
    "df_grp_endStation_weather.show(5)"
   ]
  },
  {
   "cell_type": "markdown",
   "metadata": {},
   "source": [
    "#### Save in-progress csv to SAVE work"
   ]
  },
  {
   "cell_type": "code",
   "execution_count": null,
   "metadata": {},
   "outputs": [],
   "source": [
    "# join to the stations dataframe and save so I don't loose the work\n",
    "df_endStation_Avg = df_endStation_Avg.join(df_grp_endStation_weather, 'endStationName', 'left')\n",
    "df_endStation_Avg.show(5)\n",
    "\n",
    "# write to csv\n",
    "df_endStation_Avg.write.csv('NonBoroughKModels/stations_for_bikeBeahviorGroupingStep1.csv')"
   ]
  },
  {
   "cell_type": "markdown",
   "metadata": {},
   "source": [
    "#### Load from the saved progress"
   ]
  },
  {
   "cell_type": "code",
   "execution_count": null,
   "metadata": {},
   "outputs": [],
   "source": [
    "# load the low and high rdds\n",
    "schema = StructType([\n",
    "    StructField(\"endStationName\", StringType(), True),\n",
    "    StructField(\"avg_tripduration\", DoubleType(), True),\n",
    "    StructField(\"std_tripduration\", DoubleType(), True),\n",
    "    StructField(\"avg_crowDist\", DoubleType(), True),\n",
    "    StructField(\"std_crowDist\", DoubleType(), True),\n",
    "    StructField(\"avg_dur_BADweather\", DoubleType(), True),\n",
    "    StructField(\"std_dur_BADweather\", DoubleType(), True),\n",
    "    StructField(\"count_trips_BADweather\", DoubleType(), True),\n",
    "    StructField(\"avg_dist_BADweather\", DoubleType(), True),\n",
    "    StructField(\"std_dist_BADweather\", DoubleType(), True),\n",
    "    StructField(\"avg_dur_GOODweather\", DoubleType(), True),\n",
    "    StructField(\"std_dur_GOODweather\", DoubleType(), True),\n",
    "    StructField(\"count_trips_GOODweather\", DoubleType(), True),\n",
    "    StructField(\"avg_dist_GOODweather\", DoubleType(), True),\n",
    "    StructField(\"std_dist_GOODweather\", DoubleType(), True)\n",
    "])\n",
    "\n",
    "df_endStation_Avg = spark.read.csv('NonBoroughKModels/stations_for_bikeBeahviorGroupingStep1.csv', header=False, schema=schema)\n",
    "df_endStation_Avg.show(5)"
   ]
  },
  {
   "cell_type": "code",
   "execution_count": null,
   "metadata": {},
   "outputs": [],
   "source": [
    "print(\"Count of end stations: %s\" % df_endStation_Avg.count())"
   ]
  },
  {
   "cell_type": "code",
   "execution_count": null,
   "metadata": {},
   "outputs": [],
   "source": [
    "# get the grouped by endStationName and peak, non peak - which we will need to pivot to put peak and non-peak as columns\n",
    "\n",
    "df_grp_endStation_peak = df.groupBy(\"endStationName\", \"peak_commute\") \\\n",
    "    .agg(\\\n",
    "        avg(\"tripduration\").alias(\"avg_td\"),\\\n",
    "        stddev(\"tripduration\").alias(\"std_td\"),\\\n",
    "        count(\"tripduration\").alias(\"cnt_td\"),\\\n",
    "        avg(\"crowDist\").alias(\"avg_dist\"),\\\n",
    "        stddev(\"crowDist\").alias(\"std_dist\"))\\\n",
    "    .groupBy(\"endStationName\")\\\n",
    "    .pivot(\"peak_commute\")\\\n",
    "    .agg(\\\n",
    "        avg(\"avg_td\"),\\\n",
    "        avg(\"std_td\"),\\\n",
    "        avg(\"cnt_td\"),\\\n",
    "        avg(\"avg_dist\"),\\\n",
    "        avg(\"std_dist\")) \\\n",
    "    .withColumnRenamed(\"non_peak_avg(avg_td)\",\"avg_dur_NONPEAK\")\\\n",
    "    .withColumnRenamed(\"non_peak_avg(std_td)\",\"std_dur_NONPEAK\")\\\n",
    "    .withColumnRenamed(\"non_peak_avg(cnt_td)\",\"count_trips_NONPEAK\")\\\n",
    "    .withColumnRenamed(\"non_peak_avg(avg_dist)\",\"avg_dist_NONPEAK\")\\\n",
    "    .withColumnRenamed(\"non_peak_avg(std_dist)\",\"std_dist_NONPEAK\")\\\n",
    "    .withColumnRenamed(\"peak_avg(avg_td)\",\"avg_dur_PEAK\")\\\n",
    "    .withColumnRenamed(\"peak_avg(std_td)\",\"std_dur_PEAK\")\\\n",
    "    .withColumnRenamed(\"peak_avg(cnt_td)\",\"count_trips_PEAK\")\\\n",
    "    .withColumnRenamed(\"peak_avg(avg_dist)\",\"avg_dist_PEAK\")\\\n",
    "    .withColumnRenamed(\"peak_avg(std_dist)\",\"std_dist_PEAK\")\n",
    "\n",
    "print(\"Count of end stations and peak / non-peak: %s\" % df_grp_endStation_peak.count())\n",
    "df_grp_endStation_peak.show(5)\n"
   ]
  },
  {
   "cell_type": "code",
   "execution_count": null,
   "metadata": {},
   "outputs": [],
   "source": [
    "# join to the stations dataframe and save so I don't loose the work\n",
    "df_endStation_Avg = df_endStation_Avg.join(df_grp_endStation_peak, 'endStationName', 'outer')\n",
    "print(\"count of station rows: %s\" % df_endStation_Avg.count())\n",
    "df_endStation_Avg.show(5)\n",
    "\n"
   ]
  },
  {
   "cell_type": "markdown",
   "metadata": {},
   "source": [
    "#### Save Progress"
   ]
  },
  {
   "cell_type": "code",
   "execution_count": null,
   "metadata": {},
   "outputs": [],
   "source": [
    "# write to csv\n",
    "df_endStation_Avg.write.csv('NonBoroughKModels/stations_for_bikeBeahviorGroupingStep2v2.csv', header=True)"
   ]
  },
  {
   "cell_type": "markdown",
   "metadata": {},
   "source": [
    "#### Load Progress"
   ]
  },
  {
   "cell_type": "code",
   "execution_count": null,
   "metadata": {},
   "outputs": [],
   "source": [
    "\n",
    "df_endStation_Avg = spark.read.csv('NonBoroughKModels/stations_for_bikeBeahviorGroupingStep2v2.csv', header=True)\n",
    "df_endStation_Avg.show(5)"
   ]
  },
  {
   "cell_type": "code",
   "execution_count": null,
   "metadata": {},
   "outputs": [],
   "source": [
    "# get the grouped by endStationName and dow - which we will need to pivot to put dow as columns\n",
    "\n",
    "df_grp_endStation_dow = df.groupBy(\"endStationName\", \"dow\") \\\n",
    "    .agg(\\\n",
    "        avg(\"tripduration\").alias(\"avg_td\"),\\\n",
    "        stddev(\"tripduration\").alias(\"std_td\"),\\\n",
    "        count(\"tripduration\").alias(\"cnt_td\"),\\\n",
    "        avg(\"crowDist\").alias(\"avg_dist\"),\\\n",
    "        stddev(\"crowDist\").alias(\"std_dist\"))\\\n",
    "    .groupBy(\"endStationName\")\\\n",
    "    .pivot(\"dow\")\\\n",
    "    .agg(\\\n",
    "        avg(\"avg_td\"),\\\n",
    "        avg(\"std_td\"),\\\n",
    "        avg(\"cnt_td\"),\\\n",
    "        avg(\"avg_dist\"),\\\n",
    "        avg(\"std_dist\"))\\\n",
    "    .withColumnRenamed(\"1_avg(avg_td)\",\"avg_dur_DOW1\")\\\n",
    "    .withColumnRenamed(\"1_avg(std_td)\",\"std_dur_DOW1\")\\\n",
    "    .withColumnRenamed(\"1_avg(cnt_td)\",\"count_trips_DOW1\")\\\n",
    "    .withColumnRenamed(\"1_avg(avg_dist)\",\"avg_dist_DOW1\")\\\n",
    "    .withColumnRenamed(\"1_avg(std_dist)\",\"std_dist_DOW1\")\\\n",
    "    .withColumnRenamed(\"2_avg(avg_td)\",\"avg_dur_DOW2\")\\\n",
    "    .withColumnRenamed(\"2_avg(std_td)\",\"std_dur_DOW2\")\\\n",
    "    .withColumnRenamed(\"2_avg(cnt_td)\",\"count_trips_DOW2\")\\\n",
    "    .withColumnRenamed(\"2_avg(avg_dist)\",\"avg_dist_DOW2\")\\\n",
    "    .withColumnRenamed(\"2_avg(std_dist)\",\"std_dist_DOW2\")\\\n",
    "    .withColumnRenamed(\"3_avg(avg_td)\",\"avg_dur_DOW3\")\\\n",
    "    .withColumnRenamed(\"3_avg(std_td)\",\"std_dur_DOW3\")\\\n",
    "    .withColumnRenamed(\"3_avg(cnt_td)\",\"count_trips_DOW3\")\\\n",
    "    .withColumnRenamed(\"3_avg(avg_dist)\",\"avg_dist_DOW3\")\\\n",
    "    .withColumnRenamed(\"3_avg(std_dist)\",\"std_dist_DOW3\")\\\n",
    "    .withColumnRenamed(\"4_avg(avg_td)\",\"avg_dur_DOW4\")\\\n",
    "    .withColumnRenamed(\"4_avg(std_td)\",\"std_dur_DOW4\")\\\n",
    "    .withColumnRenamed(\"4_avg(cnt_td)\",\"count_trips_DOW4\")\\\n",
    "    .withColumnRenamed(\"4_avg(avg_dist)\",\"avg_dist_DOW4\")\\\n",
    "    .withColumnRenamed(\"4_avg(std_dist)\",\"std_dist_DOW4\")\\\n",
    "    .withColumnRenamed(\"5_avg(avg_td)\",\"avg_dur_DOW5\")\\\n",
    "    .withColumnRenamed(\"5_avg(std_td)\",\"std_dur_DOW5\")\\\n",
    "    .withColumnRenamed(\"5_avg(cnt_td)\",\"count_trips_DOW5\")\\\n",
    "    .withColumnRenamed(\"5_avg(avg_dist)\",\"avg_dist_DOW5\")\\\n",
    "    .withColumnRenamed(\"5_avg(std_dist)\",\"std_dist_DOW5\")\\\n",
    "    .withColumnRenamed(\"6_avg(avg_td)\",\"avg_dur_DOW6\")\\\n",
    "    .withColumnRenamed(\"6_avg(std_td)\",\"std_dur_DOW6\")\\\n",
    "    .withColumnRenamed(\"6_avg(cnt_td)\",\"count_trips_DOW6\")\\\n",
    "    .withColumnRenamed(\"6_avg(avg_dist)\",\"avg_dist_DOW6\")\\\n",
    "    .withColumnRenamed(\"6_avg(std_dist)\",\"std_dist_DOW6\")\\\n",
    "    .withColumnRenamed(\"7_avg(avg_td)\",\"avg_dur_DOW7\")\\\n",
    "    .withColumnRenamed(\"7_avg(std_td)\",\"std_dur_DOW7\")\\\n",
    "    .withColumnRenamed(\"7_avg(cnt_td)\",\"count_trips_DOW7\")\\\n",
    "    .withColumnRenamed(\"7_avg(avg_dist)\",\"avg_dist_DOW7\")\\\n",
    "    .withColumnRenamed(\"7_avg(std_dist)\",\"std_dist_DOW7\")\n",
    "   \n",
    "print(\"Count of end stations: %s\" % df_grp_endStation_dow.count())\n",
    "df_grp_endStation_dow.show(5)"
   ]
  },
  {
   "cell_type": "code",
   "execution_count": null,
   "metadata": {},
   "outputs": [],
   "source": [
    "# join to the stations dataframe and save so I don't loose the work\n",
    "df_endStation_Avg = df_endStation_Avg.join(df_grp_endStation_dow, 'endStationName', 'outer')\n",
    "print(\"count of station rows: %s\" % df_endStation_Avg.count())\n",
    "df_endStation_Avg.show(5)"
   ]
  },
  {
   "cell_type": "code",
   "execution_count": null,
   "metadata": {},
   "outputs": [],
   "source": [
    "# Repartition to a single partition\n",
    "df_endStation_Avg = df_endStation_Avg.repartition(1)"
   ]
  },
  {
   "cell_type": "code",
   "execution_count": null,
   "metadata": {},
   "outputs": [],
   "source": [
    "# write to csv\n",
    "df_endStation_Avg.write.csv('NonBoroughKModels/stations_for_bikeBeahviorGroupingStep3.csv', header=True)"
   ]
  },
  {
   "cell_type": "markdown",
   "metadata": {},
   "source": [
    "## Cache the dataset for reuse in the kmeans mod"
   ]
  },
  {
   "cell_type": "code",
   "execution_count": 2,
   "metadata": {},
   "outputs": [
    {
     "name": "stdout",
     "output_type": "stream",
     "text": [
      "+--------------------+------------------+------------------+------------------+------------------+------------------+------------------+----------------------+-------------------+-------------------+-------------------+-------------------+-----------------------+--------------------+--------------------+------------------+------------------+-------------------+------------------+------------------+------------------+------------------+----------------+------------------+------------------+------------------+------------------+----------------+------------------+------------------+------------------+------------------+----------------+------------------+------------------+------------------+------------------+----------------+------------------+------------------+------------------+------------------+----------------+------------------+------------------+------------------+------------------+----------------+------------------+------------------+------------------+------------------+----------------+------------------+------------------+------------------+------------------+----------------+------------------+------------------+\n",
      "|      endStationName|  avg_tripduration|  std_tripduration|      avg_crowDist|      std_crowDist|avg_dur_BADweather|std_dur_BADweather|count_trips_BADweather|avg_dist_BADweather|std_dist_BADweather|avg_dur_GOODweather|std_dur_GOODweather|count_trips_GOODweather|avg_dist_GOODweather|std_dist_GOODweather|   avg_dur_NONPEAK|   std_dur_NONPEAK|count_trips_NONPEAK|  avg_dist_NONPEAK|  std_dist_NONPEAK|      avg_dur_PEAK|      std_dur_PEAK|count_trips_PEAK|     avg_dist_PEAK|     std_dist_PEAK|      avg_dur_DOW1|      std_dur_DOW1|count_trips_DOW1|     avg_dist_DOW1|     std_dist_DOW1|      avg_dur_DOW2|      std_dur_DOW2|count_trips_DOW2|     avg_dist_DOW2|     std_dist_DOW2|      avg_dur_DOW3|      std_dur_DOW3|count_trips_DOW3|     avg_dist_DOW3|     std_dist_DOW3|      avg_dur_DOW4|      std_dur_DOW4|count_trips_DOW4|     avg_dist_DOW4|     std_dist_DOW4|      avg_dur_DOW5|      std_dur_DOW5|count_trips_DOW5|     avg_dist_DOW5|     std_dist_DOW5|      avg_dur_DOW6|      std_dur_DOW6|count_trips_DOW6|     avg_dist_DOW6|     std_dist_DOW6|      avg_dur_DOW7|      std_dur_DOW7|count_trips_DOW7|     avg_dist_DOW7|     std_dist_DOW7|\n",
      "+--------------------+------------------+------------------+------------------+------------------+------------------+------------------+----------------------+-------------------+-------------------+-------------------+-------------------+-----------------------+--------------------+--------------------+------------------+------------------+-------------------+------------------+------------------+------------------+------------------+----------------+------------------+------------------+------------------+------------------+----------------+------------------+------------------+------------------+------------------+----------------+------------------+------------------+------------------+------------------+----------------+------------------+------------------+------------------+------------------+----------------+------------------+------------------+------------------+------------------+----------------+------------------+------------------+------------------+------------------+----------------+------------------+------------------+------------------+------------------+----------------+------------------+------------------+\n",
      "|       10 St & 5 Ave| 986.8158426659382| 4183.423639350233|1.0636035314630468|1.0476322106170324| 893.6225558659218| 3355.218441983864|                5728.0| 1.0080890217621028| 0.9992728132267621| 1029.2592828178422|  4509.980275971638|                12577.0|   1.088886755726943|   1.068014693015289|1006.5663998622945|3993.9801638780164|            11619.0|1.0427509209742218|0.9818766803864848| 952.4931199521388| 4493.785156950236|          6686.0|1.0998414137947359|1.1521962896369704|1202.0069040697674| 6405.434321688233|          2752.0|1.0391359739750352|0.9131672799366511| 927.4290498116367|2547.7855513671902|          2389.0|1.0638388345272536| 1.096462785834211| 992.4168394856906|4313.6754201883405|          2411.0|1.1288402638003447|1.1716232061712968|1035.3013916500995| 6132.526383270245|          2515.0|1.0640705782939772| 1.048947604746025| 854.5528294420261| 2240.445864662894|          2527.0|1.0191768219943955| 1.032387793570108| 853.7009382329945|2118.5975201931437|          2558.0|1.0580378614196841|1.0428276700214896|1015.0304471931494| 2990.261673177229|          3153.0|1.0746455465406828|1.0324137884642015|\n",
      "|       19 St & 8 Ave|1073.6083333333333| 2764.440990176001| 1.218820601920805| 1.309428377597327| 761.8965517241379| 587.4010156630395|                  29.0| 1.2543619375719097| 1.4060515077455253| 1172.9450549450548|  3155.307864403998|                   91.0|  1.2074942422078156|  1.2851024532801278| 1325.876923076923|  3697.71522999208|               65.0|1.3073895728515446|1.4587019819366243| 775.4727272727273|  684.625441108344|            55.0|1.1141481817299301|1.1117661692191603|2683.8947368421054| 6663.790570394741|            19.0|1.6504723792882081|1.4919470899234017| 621.5555555555555| 526.2756180403866|            18.0|0.7009712824355342|1.0257269489311807|             786.5| 911.1529380244507|            18.0|0.8713072759762247|0.9614507607458004|          745.3125|502.86681056385765|            16.0|1.0126526142763785|0.9870743108429312| 750.0952380952381| 563.2670685174046|            21.0|1.3975933016216897|1.2840930702072404| 654.6428571428571| 546.9019891299406|            14.0| 1.219531419195888|  1.20030094323209|            1118.0|1123.8162318977793|            14.0|1.7123672815277842| 1.936420189397127|\n",
      "|       45 Rd & 11 St| 927.3977150111076|1975.8872159769269|1.2551508472297612|1.1865024569174787| 818.5667200961731|  996.652013018106|                9982.0| 1.2074898646766437|  1.179966232564561|  977.8599498327759|  2290.387141225085|                21528.0|  1.2772500634990438|    1.18890007807628| 992.1263686131387|1848.7421710594826|            17536.0|1.2454734366876252|1.1541812716876327| 846.1696006869902| 2121.979973435409|         13974.0|1.2672950486943937| 1.225790817284811|1024.1483089579524|1658.1450102877861|          4376.0|1.3164859718865165|1.1780528592519788| 844.7572572572573|1346.8914958198282|          3996.0|1.2239240942176517|1.2163940544823677| 844.2238470191226| 2126.208605114864|          4445.0|1.2140894891448561|1.1977410014715313| 906.8702375616316|2966.1693747055783|          4462.0|1.1879118736324368|1.1467800293759562| 883.7159322033898|2092.9215039684796|          4425.0|1.2184319337814196|1.1771472419014295| 865.6715989399294|  775.885362107778|          4528.0|1.2063945809672922|1.1823508267427425|1086.7269799166352|2043.4826824528188|          5278.0|  1.39197676652918|1.1930385447215512|\n",
      "|       5 Ave & 66 St| 1716.461811722913|3066.3676831973125|1.2380175271972997|1.7368035411976184|2199.5897435897436| 5559.434530215817|                 117.0|  1.279861022014755| 1.7202024905274191| 1589.7219730941704| 1934.0506828611426|                  446.0|  1.2270406462698509|  1.7428838539883356|1846.1375661375662|3527.5077656510243|              378.0|1.4026220855874447|1.7767633723525509|1451.5027027027027|1765.9136726288289|           185.0|0.9016903754595981| 1.604935316644427|1473.2897196261683|1242.0386392171588|           107.0| 1.112050126719878| 1.667617909128914|1781.0526315789473|2577.6202093907573|            76.0|1.3899763057012173|1.9190400509299965|1573.1323529411766|1493.2390407994012|            68.0| 1.054012148328708|1.6647991264771174|1599.8260869565217| 1781.254200874483|            69.0|0.9227340193589147|1.4899940802961693|2630.3076923076924|7377.5571603238795|            65.0| 1.502179140289201|1.7011320697886916|1664.6447368421052|2014.6807701069158|            76.0|1.2518767491984044|1.7805721353001998| 1554.137254901961|1998.2617349017592|           102.0|  1.41422112293889|1.8463259351581887|\n",
      "|Clinton St\t& Cher...| 2052.305637982196| 7821.219476891833|1.1669310178787529|0.8198499263174366|1306.2421052631578|1532.7566024857324|                  95.0| 1.2093913737682866| 1.0546980150321374|  2345.181818181818|  9168.578207129443|                  242.0|  1.1502626963518705|  0.7086915614271971|            2345.7| 8878.081632283975|              260.0|1.1658895668571803|0.8267740029631007|1061.6233766233765| 736.2450256995941|            77.0|1.1704476057438067| 0.801328391274822| 2624.898305084746|  9686.63101231745|            59.0|1.1521383340873745| 0.685486419323423|1007.9807692307693| 688.8268939428865|            52.0|1.1399367123455748|0.8702011045687114|         1412.3125|2238.4150129413647|            32.0| 1.113677421953764|0.7996168430485127| 3323.205882352941|14154.083492115713|            34.0| 0.916236337677045|0.4448816758752488|          1252.675|1174.4682896790098|            40.0|1.3955432170082926| 1.180286293980204|1403.2777777777778|1613.0989911799934|            54.0|1.1431582906224063|0.8937519570193283|3034.4848484848485|11005.571794801765|            66.0|1.2372862562808062|0.7041176678753744|\n",
      "+--------------------+------------------+------------------+------------------+------------------+------------------+------------------+----------------------+-------------------+-------------------+-------------------+-------------------+-----------------------+--------------------+--------------------+------------------+------------------+-------------------+------------------+------------------+------------------+------------------+----------------+------------------+------------------+------------------+------------------+----------------+------------------+------------------+------------------+------------------+----------------+------------------+------------------+------------------+------------------+----------------+------------------+------------------+------------------+------------------+----------------+------------------+------------------+------------------+------------------+----------------+------------------+------------------+------------------+------------------+----------------+------------------+------------------+------------------+------------------+----------------+------------------+------------------+\n",
      "only showing top 5 rows\n",
      "\n"
     ]
    }
   ],
   "source": [
    "# load from saved file\n",
    "\n",
    "df_endStation_Avg = spark.read.csv('NonBoroughKModels/stations_for_bikeBeahviorGroupingStep3.csv', header=True)\n",
    "df_endStation_Avg.show(5)"
   ]
  },
  {
   "cell_type": "code",
   "execution_count": 15,
   "metadata": {},
   "outputs": [
    {
     "name": "stdout",
     "output_type": "stream",
     "text": [
      "1634\n"
     ]
    }
   ],
   "source": [
    "# cache and count\n",
    "df_endStation_Avg.cache()\n",
    "print(df_endStation_Avg.count())"
   ]
  },
  {
   "cell_type": "code",
   "execution_count": 13,
   "metadata": {},
   "outputs": [
    {
     "name": "stdout",
     "output_type": "stream",
     "text": [
      "+--------------------+------------------+------------------+------------------+------------------+------------------+------------------+----------------------+-------------------+-------------------+-------------------+-------------------+-----------------------+--------------------+--------------------+------------------+------------------+-------------------+------------------+------------------+------------------+------------------+----------------+------------------+------------------+------------------+------------------+----------------+------------------+------------------+------------------+------------------+----------------+------------------+------------------+------------------+------------------+----------------+------------------+------------------+------------------+------------------+----------------+------------------+------------------+------------------+------------------+----------------+------------------+------------------+------------------+------------------+----------------+------------------+------------------+------------------+------------------+----------------+------------------+------------------+\n",
      "|      endStationName|  avg_tripduration|  std_tripduration|      avg_crowDist|      std_crowDist|avg_dur_BADweather|std_dur_BADweather|count_trips_BADweather|avg_dist_BADweather|std_dist_BADweather|avg_dur_GOODweather|std_dur_GOODweather|count_trips_GOODweather|avg_dist_GOODweather|std_dist_GOODweather|   avg_dur_NONPEAK|   std_dur_NONPEAK|count_trips_NONPEAK|  avg_dist_NONPEAK|  std_dist_NONPEAK|      avg_dur_PEAK|      std_dur_PEAK|count_trips_PEAK|     avg_dist_PEAK|     std_dist_PEAK|      avg_dur_DOW1|      std_dur_DOW1|count_trips_DOW1|     avg_dist_DOW1|     std_dist_DOW1|      avg_dur_DOW2|      std_dur_DOW2|count_trips_DOW2|     avg_dist_DOW2|     std_dist_DOW2|      avg_dur_DOW3|      std_dur_DOW3|count_trips_DOW3|     avg_dist_DOW3|     std_dist_DOW3|      avg_dur_DOW4|      std_dur_DOW4|count_trips_DOW4|     avg_dist_DOW4|     std_dist_DOW4|      avg_dur_DOW5|      std_dur_DOW5|count_trips_DOW5|     avg_dist_DOW5|     std_dist_DOW5|      avg_dur_DOW6|      std_dur_DOW6|count_trips_DOW6|     avg_dist_DOW6|     std_dist_DOW6|      avg_dur_DOW7|      std_dur_DOW7|count_trips_DOW7|     avg_dist_DOW7|     std_dist_DOW7|\n",
      "+--------------------+------------------+------------------+------------------+------------------+------------------+------------------+----------------------+-------------------+-------------------+-------------------+-------------------+-----------------------+--------------------+--------------------+------------------+------------------+-------------------+------------------+------------------+------------------+------------------+----------------+------------------+------------------+------------------+------------------+----------------+------------------+------------------+------------------+------------------+----------------+------------------+------------------+------------------+------------------+----------------+------------------+------------------+------------------+------------------+----------------+------------------+------------------+------------------+------------------+----------------+------------------+------------------+------------------+------------------+----------------+------------------+------------------+------------------+------------------+----------------+------------------+------------------+\n",
      "|       10 St & 5 Ave| 986.8158426659382| 4183.423639350233|1.0636035314630468|1.0476322106170324| 893.6225558659218| 3355.218441983864|                5728.0| 1.0080890217621028| 0.9992728132267621| 1029.2592828178422|  4509.980275971638|                12577.0|   1.088886755726943|   1.068014693015289|1006.5663998622945|3993.9801638780164|            11619.0|1.0427509209742218|0.9818766803864848| 952.4931199521388| 4493.785156950236|          6686.0|1.0998414137947359|1.1521962896369704|1202.0069040697674| 6405.434321688233|          2752.0|1.0391359739750352|0.9131672799366511| 927.4290498116367|2547.7855513671902|          2389.0|1.0638388345272536| 1.096462785834211| 992.4168394856906|4313.6754201883405|          2411.0|1.1288402638003447|1.1716232061712968|1035.3013916500995| 6132.526383270245|          2515.0|1.0640705782939772| 1.048947604746025| 854.5528294420261| 2240.445864662894|          2527.0|1.0191768219943955| 1.032387793570108| 853.7009382329945|2118.5975201931437|          2558.0|1.0580378614196841|1.0428276700214896|1015.0304471931494| 2990.261673177229|          3153.0|1.0746455465406828|1.0324137884642015|\n",
      "|       19 St & 8 Ave|1073.6083333333333| 2764.440990176001| 1.218820601920805| 1.309428377597327| 761.8965517241379| 587.4010156630395|                  29.0| 1.2543619375719097| 1.4060515077455253| 1172.9450549450548|  3155.307864403998|                   91.0|  1.2074942422078156|  1.2851024532801278| 1325.876923076923|  3697.71522999208|               65.0|1.3073895728515446|1.4587019819366243| 775.4727272727273|  684.625441108344|            55.0|1.1141481817299301|1.1117661692191603|2683.8947368421054| 6663.790570394741|            19.0|1.6504723792882081|1.4919470899234017| 621.5555555555555| 526.2756180403866|            18.0|0.7009712824355342|1.0257269489311807|             786.5| 911.1529380244507|            18.0|0.8713072759762247|0.9614507607458004|          745.3125|502.86681056385765|            16.0|1.0126526142763785|0.9870743108429312| 750.0952380952381| 563.2670685174046|            21.0|1.3975933016216897|1.2840930702072404| 654.6428571428571| 546.9019891299406|            14.0| 1.219531419195888|  1.20030094323209|            1118.0|1123.8162318977793|            14.0|1.7123672815277842| 1.936420189397127|\n",
      "|       45 Rd & 11 St| 927.3977150111076|1975.8872159769269|1.2551508472297612|1.1865024569174787| 818.5667200961731|  996.652013018106|                9982.0| 1.2074898646766437|  1.179966232564561|  977.8599498327759|  2290.387141225085|                21528.0|  1.2772500634990438|    1.18890007807628| 992.1263686131387|1848.7421710594826|            17536.0|1.2454734366876252|1.1541812716876327| 846.1696006869902| 2121.979973435409|         13974.0|1.2672950486943937| 1.225790817284811|1024.1483089579524|1658.1450102877861|          4376.0|1.3164859718865165|1.1780528592519788| 844.7572572572573|1346.8914958198282|          3996.0|1.2239240942176517|1.2163940544823677| 844.2238470191226| 2126.208605114864|          4445.0|1.2140894891448561|1.1977410014715313| 906.8702375616316|2966.1693747055783|          4462.0|1.1879118736324368|1.1467800293759562| 883.7159322033898|2092.9215039684796|          4425.0|1.2184319337814196|1.1771472419014295| 865.6715989399294|  775.885362107778|          4528.0|1.2063945809672922|1.1823508267427425|1086.7269799166352|2043.4826824528188|          5278.0|  1.39197676652918|1.1930385447215512|\n",
      "|       5 Ave & 66 St| 1716.461811722913|3066.3676831973125|1.2380175271972997|1.7368035411976184|2199.5897435897436| 5559.434530215817|                 117.0|  1.279861022014755| 1.7202024905274191| 1589.7219730941704| 1934.0506828611426|                  446.0|  1.2270406462698509|  1.7428838539883356|1846.1375661375662|3527.5077656510243|              378.0|1.4026220855874447|1.7767633723525509|1451.5027027027027|1765.9136726288289|           185.0|0.9016903754595981| 1.604935316644427|1473.2897196261683|1242.0386392171588|           107.0| 1.112050126719878| 1.667617909128914|1781.0526315789473|2577.6202093907573|            76.0|1.3899763057012173|1.9190400509299965|1573.1323529411766|1493.2390407994012|            68.0| 1.054012148328708|1.6647991264771174|1599.8260869565217| 1781.254200874483|            69.0|0.9227340193589147|1.4899940802961693|2630.3076923076924|7377.5571603238795|            65.0| 1.502179140289201|1.7011320697886916|1664.6447368421052|2014.6807701069158|            76.0|1.2518767491984044|1.7805721353001998| 1554.137254901961|1998.2617349017592|           102.0|  1.41422112293889|1.8463259351581887|\n",
      "|Clinton St\t& Cher...| 2052.305637982196| 7821.219476891833|1.1669310178787529|0.8198499263174366|1306.2421052631578|1532.7566024857324|                  95.0| 1.2093913737682866| 1.0546980150321374|  2345.181818181818|  9168.578207129443|                  242.0|  1.1502626963518705|  0.7086915614271971|            2345.7| 8878.081632283975|              260.0|1.1658895668571803|0.8267740029631007|1061.6233766233765| 736.2450256995941|            77.0|1.1704476057438067| 0.801328391274822| 2624.898305084746|  9686.63101231745|            59.0|1.1521383340873745| 0.685486419323423|1007.9807692307693| 688.8268939428865|            52.0|1.1399367123455748|0.8702011045687114|         1412.3125|2238.4150129413647|            32.0| 1.113677421953764|0.7996168430485127| 3323.205882352941|14154.083492115713|            34.0| 0.916236337677045|0.4448816758752488|          1252.675|1174.4682896790098|            40.0|1.3955432170082926| 1.180286293980204|1403.2777777777778|1613.0989911799934|            54.0|1.1431582906224063|0.8937519570193283|3034.4848484848485|11005.571794801765|            66.0|1.2372862562808062|0.7041176678753744|\n",
      "+--------------------+------------------+------------------+------------------+------------------+------------------+------------------+----------------------+-------------------+-------------------+-------------------+-------------------+-----------------------+--------------------+--------------------+------------------+------------------+-------------------+------------------+------------------+------------------+------------------+----------------+------------------+------------------+------------------+------------------+----------------+------------------+------------------+------------------+------------------+----------------+------------------+------------------+------------------+------------------+----------------+------------------+------------------+------------------+------------------+----------------+------------------+------------------+------------------+------------------+----------------+------------------+------------------+------------------+------------------+----------------+------------------+------------------+------------------+------------------+----------------+------------------+------------------+\n",
      "only showing top 5 rows\n",
      "\n"
     ]
    }
   ],
   "source": [
    "# Need to deal with empty features and null features\n",
    "df_endStation_Avg = df_endStation_Avg.na.fill(0).replace(float('nan'), 0)\n",
    "\n",
    "columns = df_endStation_Avg.columns\n",
    "for column in columns:\n",
    "    df_endStation_Avg = df_endStation_Avg.withColumn(column,when(isnan(col(column)),0).otherwise(col(column))).withColumn(column,when(isnull(col(column)),0).otherwise(col(column)))\n",
    "    \n",
    "df_endStation_Avg.show(5)"
   ]
  },
  {
   "cell_type": "code",
   "execution_count": null,
   "metadata": {},
   "outputs": [],
   "source": [
    "df_endStation_Avg.show()"
   ]
  },
  {
   "cell_type": "code",
   "execution_count": null,
   "metadata": {},
   "outputs": [],
   "source": [
    "# save the final version\n",
    "df_endStation_Avg.write.csv('NonBoroughKModels/stations_for_bikeBeahviorGrouping-FINAL.csv', header=True)"
   ]
  },
  {
   "cell_type": "markdown",
   "metadata": {},
   "source": [
    "## Pipeline For BikeBehavior Grouping\n",
    "### Pipeline Steps\n",
    "\n",
    "1. MaxAbsScaler Scale the data\n",
    "2. KMeans with 3 - 25"
   ]
  },
  {
   "cell_type": "code",
   "execution_count": 22,
   "metadata": {},
   "outputs": [
    {
     "name": "stdout",
     "output_type": "stream",
     "text": [
      "+--------------------+------------------+------------------+------------------+------------------+------------------+------------------+----------------------+-------------------+-------------------+-------------------+-------------------+-----------------------+--------------------+--------------------+------------------+------------------+-------------------+------------------+------------------+------------------+------------------+----------------+------------------+------------------+------------------+------------------+----------------+------------------+------------------+------------------+------------------+----------------+------------------+------------------+------------------+------------------+----------------+------------------+------------------+------------------+------------------+----------------+------------------+------------------+------------------+------------------+----------------+------------------+------------------+------------------+------------------+----------------+------------------+------------------+------------------+------------------+----------------+------------------+------------------+\n",
      "|      endStationName|  avg_tripduration|  std_tripduration|      avg_crowDist|      std_crowDist|avg_dur_BADweather|std_dur_BADweather|count_trips_BADweather|avg_dist_BADweather|std_dist_BADweather|avg_dur_GOODweather|std_dur_GOODweather|count_trips_GOODweather|avg_dist_GOODweather|std_dist_GOODweather|   avg_dur_NONPEAK|   std_dur_NONPEAK|count_trips_NONPEAK|  avg_dist_NONPEAK|  std_dist_NONPEAK|      avg_dur_PEAK|      std_dur_PEAK|count_trips_PEAK|     avg_dist_PEAK|     std_dist_PEAK|      avg_dur_DOW1|      std_dur_DOW1|count_trips_DOW1|     avg_dist_DOW1|     std_dist_DOW1|      avg_dur_DOW2|      std_dur_DOW2|count_trips_DOW2|     avg_dist_DOW2|     std_dist_DOW2|      avg_dur_DOW3|      std_dur_DOW3|count_trips_DOW3|     avg_dist_DOW3|     std_dist_DOW3|      avg_dur_DOW4|      std_dur_DOW4|count_trips_DOW4|     avg_dist_DOW4|     std_dist_DOW4|      avg_dur_DOW5|      std_dur_DOW5|count_trips_DOW5|     avg_dist_DOW5|     std_dist_DOW5|      avg_dur_DOW6|      std_dur_DOW6|count_trips_DOW6|     avg_dist_DOW6|     std_dist_DOW6|      avg_dur_DOW7|      std_dur_DOW7|count_trips_DOW7|     avg_dist_DOW7|     std_dist_DOW7|\n",
      "+--------------------+------------------+------------------+------------------+------------------+------------------+------------------+----------------------+-------------------+-------------------+-------------------+-------------------+-----------------------+--------------------+--------------------+------------------+------------------+-------------------+------------------+------------------+------------------+------------------+----------------+------------------+------------------+------------------+------------------+----------------+------------------+------------------+------------------+------------------+----------------+------------------+------------------+------------------+------------------+----------------+------------------+------------------+------------------+------------------+----------------+------------------+------------------+------------------+------------------+----------------+------------------+------------------+------------------+------------------+----------------+------------------+------------------+------------------+------------------+----------------+------------------+------------------+\n",
      "|       10 St & 5 Ave| 986.8158426659382| 4183.423639350233|1.0636035314630468|1.0476322106170324| 893.6225558659218| 3355.218441983864|                5728.0| 1.0080890217621028| 0.9992728132267621| 1029.2592828178422|  4509.980275971638|                12577.0|   1.088886755726943|   1.068014693015289|1006.5663998622945|3993.9801638780164|            11619.0|1.0427509209742218|0.9818766803864848| 952.4931199521388| 4493.785156950236|          6686.0|1.0998414137947359|1.1521962896369704|1202.0069040697674| 6405.434321688233|          2752.0|1.0391359739750352|0.9131672799366511| 927.4290498116367|2547.7855513671902|          2389.0|1.0638388345272536| 1.096462785834211| 992.4168394856906|4313.6754201883405|          2411.0|1.1288402638003447|1.1716232061712968|1035.3013916500995| 6132.526383270245|          2515.0|1.0640705782939772| 1.048947604746025| 854.5528294420261| 2240.445864662894|          2527.0|1.0191768219943955| 1.032387793570108| 853.7009382329945|2118.5975201931437|          2558.0|1.0580378614196841|1.0428276700214896|1015.0304471931494| 2990.261673177229|          3153.0|1.0746455465406828|1.0324137884642015|\n",
      "|       19 St & 8 Ave|1073.6083333333333| 2764.440990176001| 1.218820601920805| 1.309428377597327| 761.8965517241379| 587.4010156630395|                  29.0| 1.2543619375719097| 1.4060515077455253| 1172.9450549450548|  3155.307864403998|                   91.0|  1.2074942422078156|  1.2851024532801278| 1325.876923076923|  3697.71522999208|               65.0|1.3073895728515446|1.4587019819366243| 775.4727272727273|  684.625441108344|            55.0|1.1141481817299301|1.1117661692191603|2683.8947368421054| 6663.790570394741|            19.0|1.6504723792882081|1.4919470899234017| 621.5555555555555| 526.2756180403866|            18.0|0.7009712824355342|1.0257269489311807|             786.5| 911.1529380244507|            18.0|0.8713072759762247|0.9614507607458004|          745.3125|502.86681056385765|            16.0|1.0126526142763785|0.9870743108429312| 750.0952380952381| 563.2670685174046|            21.0|1.3975933016216897|1.2840930702072404| 654.6428571428571| 546.9019891299406|            14.0| 1.219531419195888|  1.20030094323209|            1118.0|1123.8162318977793|            14.0|1.7123672815277842| 1.936420189397127|\n",
      "|       45 Rd & 11 St| 927.3977150111076|1975.8872159769269|1.2551508472297612|1.1865024569174787| 818.5667200961731|  996.652013018106|                9982.0| 1.2074898646766437|  1.179966232564561|  977.8599498327759|  2290.387141225085|                21528.0|  1.2772500634990438|    1.18890007807628| 992.1263686131387|1848.7421710594826|            17536.0|1.2454734366876252|1.1541812716876327| 846.1696006869902| 2121.979973435409|         13974.0|1.2672950486943937| 1.225790817284811|1024.1483089579524|1658.1450102877861|          4376.0|1.3164859718865165|1.1780528592519788| 844.7572572572573|1346.8914958198282|          3996.0|1.2239240942176517|1.2163940544823677| 844.2238470191226| 2126.208605114864|          4445.0|1.2140894891448561|1.1977410014715313| 906.8702375616316|2966.1693747055783|          4462.0|1.1879118736324368|1.1467800293759562| 883.7159322033898|2092.9215039684796|          4425.0|1.2184319337814196|1.1771472419014295| 865.6715989399294|  775.885362107778|          4528.0|1.2063945809672922|1.1823508267427425|1086.7269799166352|2043.4826824528188|          5278.0|  1.39197676652918|1.1930385447215512|\n",
      "|       5 Ave & 66 St| 1716.461811722913|3066.3676831973125|1.2380175271972997|1.7368035411976184|2199.5897435897436| 5559.434530215817|                 117.0|  1.279861022014755| 1.7202024905274191| 1589.7219730941704| 1934.0506828611426|                  446.0|  1.2270406462698509|  1.7428838539883356|1846.1375661375662|3527.5077656510243|              378.0|1.4026220855874447|1.7767633723525509|1451.5027027027027|1765.9136726288289|           185.0|0.9016903754595981| 1.604935316644427|1473.2897196261683|1242.0386392171588|           107.0| 1.112050126719878| 1.667617909128914|1781.0526315789473|2577.6202093907573|            76.0|1.3899763057012173|1.9190400509299965|1573.1323529411766|1493.2390407994012|            68.0| 1.054012148328708|1.6647991264771174|1599.8260869565217| 1781.254200874483|            69.0|0.9227340193589147|1.4899940802961693|2630.3076923076924|7377.5571603238795|            65.0| 1.502179140289201|1.7011320697886916|1664.6447368421052|2014.6807701069158|            76.0|1.2518767491984044|1.7805721353001998| 1554.137254901961|1998.2617349017592|           102.0|  1.41422112293889|1.8463259351581887|\n",
      "|Clinton St\t& Cher...| 2052.305637982196| 7821.219476891833|1.1669310178787529|0.8198499263174366|1306.2421052631578|1532.7566024857324|                  95.0| 1.2093913737682866| 1.0546980150321374|  2345.181818181818|  9168.578207129443|                  242.0|  1.1502626963518705|  0.7086915614271971|            2345.7| 8878.081632283975|              260.0|1.1658895668571803|0.8267740029631007|1061.6233766233765| 736.2450256995941|            77.0|1.1704476057438067| 0.801328391274822| 2624.898305084746|  9686.63101231745|            59.0|1.1521383340873745| 0.685486419323423|1007.9807692307693| 688.8268939428865|            52.0|1.1399367123455748|0.8702011045687114|         1412.3125|2238.4150129413647|            32.0| 1.113677421953764|0.7996168430485127| 3323.205882352941|14154.083492115713|            34.0| 0.916236337677045|0.4448816758752488|          1252.675|1174.4682896790098|            40.0|1.3955432170082926| 1.180286293980204|1403.2777777777778|1613.0989911799934|            54.0|1.1431582906224063|0.8937519570193283|3034.4848484848485|11005.571794801765|            66.0|1.2372862562808062|0.7041176678753744|\n",
      "+--------------------+------------------+------------------+------------------+------------------+------------------+------------------+----------------------+-------------------+-------------------+-------------------+-------------------+-----------------------+--------------------+--------------------+------------------+------------------+-------------------+------------------+------------------+------------------+------------------+----------------+------------------+------------------+------------------+------------------+----------------+------------------+------------------+------------------+------------------+----------------+------------------+------------------+------------------+------------------+----------------+------------------+------------------+------------------+------------------+----------------+------------------+------------------+------------------+------------------+----------------+------------------+------------------+------------------+------------------+----------------+------------------+------------------+------------------+------------------+----------------+------------------+------------------+\n",
      "only showing top 5 rows\n",
      "\n"
     ]
    }
   ],
   "source": [
    "schema = StructType([\n",
    "    StructField(\"endStationName\", StringType(), True),\n",
    "    StructField(\"avg_tripduration\", DoubleType(), True),\n",
    "    StructField(\"std_tripduration\", DoubleType(), True),\n",
    "    StructField(\"avg_crowDist\", DoubleType(), True),\n",
    "    StructField(\"std_crowDist\", DoubleType(), True),\n",
    "    StructField(\"avg_dur_BADweather\", DoubleType(), True),\n",
    "    StructField(\"std_dur_BADweather\", DoubleType(), True),\n",
    "    StructField(\"count_trips_BADweather\", DoubleType(), True),\n",
    "    StructField(\"avg_dist_BADweather\", DoubleType(), True),\n",
    "    StructField(\"std_dist_BADweather\", DoubleType(), True),\n",
    "    StructField(\"avg_dur_GOODweather\", DoubleType(), True),\n",
    "    StructField(\"std_dur_GOODweather\", DoubleType(), True),\n",
    "    StructField(\"count_trips_GOODweather\", DoubleType(), True),\n",
    "    StructField(\"avg_dist_GOODweather\", DoubleType(), True),\n",
    "    StructField(\"std_dist_GOODweather\", DoubleType(), True),\n",
    "    StructField(\"avg_dur_NONPEAK\", DoubleType(), True),\n",
    "    StructField(\"std_dur_NONPEAK\", DoubleType(), True),\n",
    "    StructField(\"count_trips_NONPEAK\", DoubleType(), True),\n",
    "    StructField(\"avg_dist_NONPEAK\", DoubleType(), True),\n",
    "    StructField(\"std_dist_NONPEAK\", DoubleType(), True),\n",
    "    StructField(\"avg_dur_PEAK\", DoubleType(), True),\n",
    "    StructField(\"std_dur_PEAK\", DoubleType(), True),\n",
    "    StructField(\"count_trips_PEAK\", DoubleType(), True),\n",
    "    StructField(\"avg_dist_PEAK\", DoubleType(), True),\n",
    "    StructField(\"std_dist_PEAK\", DoubleType(), True),    \n",
    "    StructField(\"avg_dur_DOW1\", DoubleType(), True),\n",
    "    StructField(\"std_dur_DOW1\", DoubleType(), True),\n",
    "    StructField(\"count_trips_DOW1\", DoubleType(), True),\n",
    "    StructField(\"avg_dist_DOW1\", DoubleType(), True),\n",
    "    StructField(\"std_dist_DOW1\", DoubleType(), True),    \n",
    "    StructField(\"avg_dur_DOW2\", DoubleType(), True),\n",
    "    StructField(\"std_dur_DOW2\", DoubleType(), True),\n",
    "    StructField(\"count_trips_DOW2\", DoubleType(), True),\n",
    "    StructField(\"avg_dist_DOW2\", DoubleType(), True),\n",
    "    StructField(\"std_dist_DOW2\", DoubleType(), True),    \n",
    "    StructField(\"avg_dur_DOW3\", DoubleType(), True),\n",
    "    StructField(\"std_dur_DOW3\", DoubleType(), True),\n",
    "    StructField(\"count_trips_DOW3\", DoubleType(), True),\n",
    "    StructField(\"avg_dist_DOW3\", DoubleType(), True),\n",
    "    StructField(\"std_dist_DOW3\", DoubleType(), True),    \n",
    "    StructField(\"avg_dur_DOW4\", DoubleType(), True),\n",
    "    StructField(\"std_dur_DOW4\", DoubleType(), True),\n",
    "    StructField(\"count_trips_DOW4\", DoubleType(), True),\n",
    "    StructField(\"avg_dist_DOW4\", DoubleType(), True),\n",
    "    StructField(\"std_dist_DOW4\", DoubleType(), True),    \n",
    "    StructField(\"avg_dur_DOW5\", DoubleType(), True),\n",
    "    StructField(\"std_dur_DOW5\", DoubleType(), True),\n",
    "    StructField(\"count_trips_DOW5\", DoubleType(), True),\n",
    "    StructField(\"avg_dist_DOW5\", DoubleType(), True),\n",
    "    StructField(\"std_dist_DOW5\", DoubleType(), True),    \n",
    "    StructField(\"avg_dur_DOW6\", DoubleType(), True),\n",
    "    StructField(\"std_dur_DOW6\", DoubleType(), True),\n",
    "    StructField(\"count_trips_DOW6\", DoubleType(), True),\n",
    "    StructField(\"avg_dist_DOW6\", DoubleType(), True),\n",
    "    StructField(\"std_dist_DOW6\", DoubleType(), True),    \n",
    "    StructField(\"avg_dur_DOW7\", DoubleType(), True),\n",
    "    StructField(\"std_dur_DOW7\", DoubleType(), True),\n",
    "    StructField(\"count_trips_DOW7\", DoubleType(), True),\n",
    "    StructField(\"avg_dist_DOW7\", DoubleType(), True),\n",
    "    StructField(\"std_dist_DOW7\", DoubleType(), True)\n",
    "])\n",
    "\n",
    "df_endStation_Avg = spark.read.csv('NonBoroughKModels/stations_for_bikeBeahviorGrouping-FINAL.csv', header=True, schema = schema)\n",
    "df_endStation_Avg.show(5)"
   ]
  },
  {
   "cell_type": "code",
   "execution_count": 23,
   "metadata": {},
   "outputs": [
    {
     "name": "stdout",
     "output_type": "stream",
     "text": [
      "['endStationName', 'avg_tripduration', 'std_tripduration', 'avg_crowDist', 'std_crowDist', 'avg_dur_BADweather', 'std_dur_BADweather', 'count_trips_BADweather', 'avg_dist_BADweather', 'std_dist_BADweather', 'avg_dur_GOODweather', 'std_dur_GOODweather', 'count_trips_GOODweather', 'avg_dist_GOODweather', 'std_dist_GOODweather', 'avg_dur_NONPEAK', 'std_dur_NONPEAK', 'count_trips_NONPEAK', 'avg_dist_NONPEAK', 'std_dist_NONPEAK', 'avg_dur_PEAK', 'std_dur_PEAK', 'count_trips_PEAK', 'avg_dist_PEAK', 'std_dist_PEAK', 'avg_dur_DOW1', 'std_dur_DOW1', 'count_trips_DOW1', 'avg_dist_DOW1', 'std_dist_DOW1', 'avg_dur_DOW2', 'std_dur_DOW2', 'count_trips_DOW2', 'avg_dist_DOW2', 'std_dist_DOW2', 'avg_dur_DOW3', 'std_dur_DOW3', 'count_trips_DOW3', 'avg_dist_DOW3', 'std_dist_DOW3', 'avg_dur_DOW4', 'std_dur_DOW4', 'count_trips_DOW4', 'avg_dist_DOW4', 'std_dist_DOW4', 'avg_dur_DOW5', 'std_dur_DOW5', 'count_trips_DOW5', 'avg_dist_DOW5', 'std_dist_DOW5', 'avg_dur_DOW6', 'std_dur_DOW6', 'count_trips_DOW6', 'avg_dist_DOW6', 'std_dist_DOW6', 'avg_dur_DOW7', 'std_dur_DOW7', 'count_trips_DOW7', 'avg_dist_DOW7', 'std_dist_DOW7']\n"
     ]
    }
   ],
   "source": [
    "columns = df_endStation_Avg.columns\n",
    "print(columns)"
   ]
  },
  {
   "cell_type": "code",
   "execution_count": 66,
   "metadata": {},
   "outputs": [],
   "source": [
    "# STEP 1: Vector Assembler\n",
    "va = VectorAssembler(inputCols=['avg_tripduration', 'std_tripduration', 'avg_crowDist', 'std_crowDist', 'avg_dur_BADweather', \\\n",
    "                                'std_dur_BADweather', 'count_trips_BADweather', 'avg_dist_BADweather', 'std_dist_BADweather', 'avg_dur_GOODweather', \\\n",
    "                                'std_dur_GOODweather', 'count_trips_GOODweather', 'avg_dist_GOODweather', 'std_dist_GOODweather', 'avg_dur_NONPEAK', \\\n",
    "                                'std_dur_NONPEAK', 'count_trips_NONPEAK', 'avg_dist_NONPEAK', 'std_dist_NONPEAK', 'avg_dur_PEAK', 'std_dur_PEAK', 'count_trips_PEAK', \\\n",
    "                                'avg_dist_PEAK', 'std_dist_PEAK', 'avg_dur_DOW1', 'std_dur_DOW1', 'count_trips_DOW1', 'avg_dist_DOW1', 'std_dist_DOW1', 'avg_dur_DOW2', \\\n",
    "                                'std_dur_DOW2', 'count_trips_DOW2', 'avg_dist_DOW2', 'std_dist_DOW2', 'avg_dur_DOW3', 'std_dur_DOW3', 'count_trips_DOW3', 'avg_dist_DOW3', \\\n",
    "                                'std_dist_DOW3', 'avg_dur_DOW4', 'std_dur_DOW4', 'count_trips_DOW4', 'avg_dist_DOW4', 'std_dist_DOW4', 'avg_dur_DOW5', 'std_dur_DOW5', \\\n",
    "                                'count_trips_DOW5', 'avg_dist_DOW5', 'std_dist_DOW5', 'avg_dur_DOW6', 'std_dur_DOW6', 'count_trips_DOW6', 'avg_dist_DOW6', 'std_dist_DOW6', \\\n",
    "                                'avg_dur_DOW7', 'std_dur_DOW7', 'count_trips_DOW7', 'avg_dist_DOW7', 'std_dist_DOW7'], outputCol=\"features\") \n",
    "\n",
    "# STEP 2: MaxAbsScaler the numeric variables\n",
    "scaler = MaxAbsScaler(inputCol=\"features\", outputCol=\"featuresScaled\")\n",
    "\n",
    "#for k in [2]:\n",
    "for k in [19]:\n",
    "    # STEP 3: KMeans Model\n",
    "    kmeans = KMeans().setK(k).setSeed(314).setMaxIter(500)\n",
    "    # Build the pipeline; this takes the objects as inputs\n",
    "    pipeline = Pipeline(stages=[va, scaler, kmeans])\n",
    "    \n",
    "    # Fit the pipeline\n",
    "    pipe = pipeline.fit(df_endStation_Avg)\n",
    "    \n",
    "    # save the pipeline\n",
    "    pipe.save('NonBoroughKModels/kMEANS_BikeBehavior{}_pipeline'.format(k))\n"
   ]
  },
  {
   "cell_type": "code",
   "execution_count": 68,
   "metadata": {},
   "outputs": [],
   "source": [
    "# Evaluate the no_mb clusters\n",
    "evaluator = ClusteringEvaluator()\n",
    "ks = []\n",
    "sils = []\n",
    "data_tuning = {}\n",
    "\n",
    "for k in [19]:\n",
    "    pipe = PipelineModel.load(\"NonBoroughKModels/kMEANS_BikeBehavior{}_pipeline\".format(k))\n",
    "    \n",
    "    predictions = pipe.transform(df_endStation_Avg)\n",
    "    silhouette = evaluator.evaluate(predictions)\n",
    "    ks.append(k)\n",
    "    sils.append(silhouette)\n",
    "     # save the predictions\n",
    "    predictions.write.mode(\"overwrite\").parquet('NonBoroughKModels/kMEANS_BikeBehavior{}_Predictions.parquet'.format(k))\n",
    "    \n",
    "\n",
    "data_tuning = {'k' : ks, 'silouhette' : sils}\n",
    "df_tuning = pd.DataFrame(data = data_tuning, columns=['k','silouhette'])"
   ]
  },
  {
   "cell_type": "code",
   "execution_count": 69,
   "metadata": {},
   "outputs": [
    {
     "data": {
      "text/html": [
       "<div>\n",
       "<style scoped>\n",
       "    .dataframe tbody tr th:only-of-type {\n",
       "        vertical-align: middle;\n",
       "    }\n",
       "\n",
       "    .dataframe tbody tr th {\n",
       "        vertical-align: top;\n",
       "    }\n",
       "\n",
       "    .dataframe thead th {\n",
       "        text-align: right;\n",
       "    }\n",
       "</style>\n",
       "<table border=\"1\" class=\"dataframe\">\n",
       "  <thead>\n",
       "    <tr style=\"text-align: right;\">\n",
       "      <th></th>\n",
       "      <th>k</th>\n",
       "      <th>silouhette</th>\n",
       "    </tr>\n",
       "  </thead>\n",
       "  <tbody>\n",
       "    <tr>\n",
       "      <th>0</th>\n",
       "      <td>3</td>\n",
       "      <td>0.993487</td>\n",
       "    </tr>\n",
       "    <tr>\n",
       "      <th>1</th>\n",
       "      <td>4</td>\n",
       "      <td>0.984541</td>\n",
       "    </tr>\n",
       "    <tr>\n",
       "      <th>2</th>\n",
       "      <td>5</td>\n",
       "      <td>0.989651</td>\n",
       "    </tr>\n",
       "    <tr>\n",
       "      <th>3</th>\n",
       "      <td>6</td>\n",
       "      <td>0.981637</td>\n",
       "    </tr>\n",
       "    <tr>\n",
       "      <th>4</th>\n",
       "      <td>7</td>\n",
       "      <td>0.981385</td>\n",
       "    </tr>\n",
       "    <tr>\n",
       "      <th>5</th>\n",
       "      <td>8</td>\n",
       "      <td>0.451987</td>\n",
       "    </tr>\n",
       "    <tr>\n",
       "      <th>6</th>\n",
       "      <td>9</td>\n",
       "      <td>0.624739</td>\n",
       "    </tr>\n",
       "    <tr>\n",
       "      <th>7</th>\n",
       "      <td>10</td>\n",
       "      <td>0.608149</td>\n",
       "    </tr>\n",
       "    <tr>\n",
       "      <th>8</th>\n",
       "      <td>11</td>\n",
       "      <td>0.595409</td>\n",
       "    </tr>\n",
       "    <tr>\n",
       "      <th>9</th>\n",
       "      <td>12</td>\n",
       "      <td>0.582118</td>\n",
       "    </tr>\n",
       "    <tr>\n",
       "      <th>10</th>\n",
       "      <td>13</td>\n",
       "      <td>0.589330</td>\n",
       "    </tr>\n",
       "    <tr>\n",
       "      <th>11</th>\n",
       "      <td>14</td>\n",
       "      <td>0.561505</td>\n",
       "    </tr>\n",
       "    <tr>\n",
       "      <th>12</th>\n",
       "      <td>15</td>\n",
       "      <td>0.417032</td>\n",
       "    </tr>\n",
       "    <tr>\n",
       "      <th>13</th>\n",
       "      <td>16</td>\n",
       "      <td>0.333498</td>\n",
       "    </tr>\n",
       "    <tr>\n",
       "      <th>14</th>\n",
       "      <td>17</td>\n",
       "      <td>0.333726</td>\n",
       "    </tr>\n",
       "    <tr>\n",
       "      <th>15</th>\n",
       "      <td>18</td>\n",
       "      <td>0.346745</td>\n",
       "    </tr>\n",
       "    <tr>\n",
       "      <th>16</th>\n",
       "      <td>19</td>\n",
       "      <td>0.459530</td>\n",
       "    </tr>\n",
       "    <tr>\n",
       "      <th>17</th>\n",
       "      <td>20</td>\n",
       "      <td>0.399466</td>\n",
       "    </tr>\n",
       "    <tr>\n",
       "      <th>18</th>\n",
       "      <td>21</td>\n",
       "      <td>0.383890</td>\n",
       "    </tr>\n",
       "    <tr>\n",
       "      <th>19</th>\n",
       "      <td>22</td>\n",
       "      <td>0.153353</td>\n",
       "    </tr>\n",
       "    <tr>\n",
       "      <th>20</th>\n",
       "      <td>23</td>\n",
       "      <td>0.403196</td>\n",
       "    </tr>\n",
       "    <tr>\n",
       "      <th>21</th>\n",
       "      <td>24</td>\n",
       "      <td>0.343059</td>\n",
       "    </tr>\n",
       "    <tr>\n",
       "      <th>22</th>\n",
       "      <td>25</td>\n",
       "      <td>0.338983</td>\n",
       "    </tr>\n",
       "  </tbody>\n",
       "</table>\n",
       "</div>"
      ],
      "text/plain": [
       "     k  silouhette\n",
       "0    3    0.993487\n",
       "1    4    0.984541\n",
       "2    5    0.989651\n",
       "3    6    0.981637\n",
       "4    7    0.981385\n",
       "5    8    0.451987\n",
       "6    9    0.624739\n",
       "7   10    0.608149\n",
       "8   11    0.595409\n",
       "9   12    0.582118\n",
       "10  13    0.589330\n",
       "11  14    0.561505\n",
       "12  15    0.417032\n",
       "13  16    0.333498\n",
       "14  17    0.333726\n",
       "15  18    0.346745\n",
       "16  19    0.459530\n",
       "17  20    0.399466\n",
       "18  21    0.383890\n",
       "19  22    0.153353\n",
       "20  23    0.403196\n",
       "21  24    0.343059\n",
       "22  25    0.338983"
      ]
     },
     "execution_count": 69,
     "metadata": {},
     "output_type": "execute_result"
    }
   ],
   "source": [
    "df_tuning.head(23)"
   ]
  },
  {
   "cell_type": "markdown",
   "metadata": {},
   "source": [
    "k's of 3 - 7 are similar. It is interesting that there is a bump in silouhette score between 8 and 9.\n",
    "\n",
    "**But the best k is 3; however it provides very poor distribution.**\n",
    "Look below at the distributions of interesting k's"
   ]
  },
  {
   "cell_type": "code",
   "execution_count": 70,
   "metadata": {},
   "outputs": [],
   "source": [
    "#df_Predictions_k3 = spark.read.parquet('NonBoroughKModels/kMEANS_BikeBehavior3_Predictions.parquet').select('endStationName','prediction')\n",
    "#df_Predictions_k9 = spark.read.parquet('NonBoroughKModels/kMEANS_BikeBehavior9_Predictions.parquet').select('endStationName','prediction')\n",
    "df_Predictions_k19 = spark.read.parquet('NonBoroughKModels/kMEANS_BikeBehavior19_Predictions.parquet').select('endStationName','prediction')\n",
    "#df_Predictions_k23 = spark.read.parquet('NonBoroughKModels/kMEANS_BikeBehavior23_Predictions.parquet').select('endStationName','prediction')\n"
   ]
  },
  {
   "cell_type": "code",
   "execution_count": 71,
   "metadata": {},
   "outputs": [
    {
     "name": "stdout",
     "output_type": "stream",
     "text": [
      "+----------+---------------------+\n",
      "|prediction|count(endStationName)|\n",
      "+----------+---------------------+\n",
      "|         1|                    4|\n",
      "|         2|                    1|\n",
      "|         0|                 1629|\n",
      "+----------+---------------------+\n",
      "\n"
     ]
    }
   ],
   "source": [
    "df_Predictions_k3.groupBy('prediction').agg(\\\n",
    "        count(\"endStationName\")).show()"
   ]
  },
  {
   "cell_type": "code",
   "execution_count": 72,
   "metadata": {},
   "outputs": [
    {
     "name": "stdout",
     "output_type": "stream",
     "text": [
      "+----------+---------------------+\n",
      "|prediction|count(endStationName)|\n",
      "+----------+---------------------+\n",
      "|         1|                    1|\n",
      "|         6|                    1|\n",
      "|         3|                    1|\n",
      "|         5|                    1|\n",
      "|         4|                  268|\n",
      "|         8|                    2|\n",
      "|         7|                 1255|\n",
      "|         2|                    1|\n",
      "|         0|                  104|\n",
      "+----------+---------------------+\n",
      "\n"
     ]
    }
   ],
   "source": [
    "df_Predictions_k9.groupBy('prediction').agg(\\\n",
    "        count(\"endStationName\")).show()"
   ]
  },
  {
   "cell_type": "code",
   "execution_count": 78,
   "metadata": {},
   "outputs": [
    {
     "name": "stdout",
     "output_type": "stream",
     "text": [
      "+----------+---------------------+\n",
      "|prediction|count(endStationName)|\n",
      "+----------+---------------------+\n",
      "|        16|                    1|\n",
      "|         8|                    1|\n",
      "|        10|                    1|\n",
      "|         5|                    1|\n",
      "|         6|                    1|\n",
      "|         2|                    1|\n",
      "|         1|                    1|\n",
      "|        18|                    1|\n",
      "|        11|                    2|\n",
      "|         4|                    2|\n",
      "|        12|                    3|\n",
      "|         3|                   17|\n",
      "|         9|                   23|\n",
      "|        14|                   37|\n",
      "|         0|                   70|\n",
      "|         7|                  146|\n",
      "|        17|                  287|\n",
      "|        15|                  297|\n",
      "|        13|                  742|\n",
      "+----------+---------------------+\n",
      "\n"
     ]
    }
   ],
   "source": [
    "df_Predictions_k19.groupBy('prediction').agg(\\\n",
    "        count(\"endStationName\")).orderBy('count(endStationName)').show()"
   ]
  },
  {
   "cell_type": "code",
   "execution_count": 77,
   "metadata": {},
   "outputs": [
    {
     "name": "stdout",
     "output_type": "stream",
     "text": [
      "+----------+---------------------+\n",
      "|prediction|count(endStationName)|\n",
      "+----------+---------------------+\n",
      "|        19|                    1|\n",
      "|         2|                    1|\n",
      "|         6|                    1|\n",
      "|         1|                    1|\n",
      "|         4|                    1|\n",
      "|         3|                    1|\n",
      "|        22|                    1|\n",
      "|         5|                    1|\n",
      "|        11|                    1|\n",
      "|        14|                    1|\n",
      "|        18|                    1|\n",
      "|        16|                    2|\n",
      "|        10|                    2|\n",
      "|        20|                    7|\n",
      "|         0|                   14|\n",
      "|        12|                   21|\n",
      "|        17|                   58|\n",
      "|        21|                   60|\n",
      "|        15|                   85|\n",
      "|         7|                  162|\n",
      "+----------+---------------------+\n",
      "only showing top 20 rows\n",
      "\n"
     ]
    }
   ],
   "source": [
    "df_Predictions_k23.groupBy('prediction').agg(\\\n",
    "        count(\"endStationName\")).orderBy('count(endStationName)').show()"
   ]
  },
  {
   "cell_type": "code",
   "execution_count": 120,
   "metadata": {},
   "outputs": [
    {
     "name": "stdout",
     "output_type": "stream",
     "text": [
      "+----------+---------------------+\n",
      "|prediction|count(endStationName)|\n",
      "+----------+---------------------+\n",
      "|        16|                    1|\n",
      "|         8|                    1|\n",
      "|        10|                    1|\n",
      "|         5|                    1|\n",
      "|         6|                    1|\n",
      "|         2|                    1|\n",
      "|         1|                    1|\n",
      "|        18|                    1|\n",
      "|        11|                    2|\n",
      "|         4|                    2|\n",
      "|        12|                    3|\n",
      "|         3|                   17|\n",
      "|         9|                   23|\n",
      "|        14|                   37|\n",
      "|         0|                   70|\n",
      "|         7|                  146|\n",
      "|        17|                  287|\n",
      "|        15|                  297|\n",
      "|        13|                  742|\n",
      "+----------+---------------------+\n",
      "\n"
     ]
    }
   ],
   "source": [
    "df_Predictions_k19.groupBy('prediction').agg(\\\n",
    "        count(\"endStationName\")).orderBy('count(endStationName)').show()"
   ]
  },
  {
   "cell_type": "markdown",
   "metadata": {},
   "source": [
    "While k == 19 doesn't have the highest silouhette score, it does divide stations into more equal groupings that are more interesting.\n",
    "I am going to set the following groupings of predictions:\n",
    "\n",
    "1. Group 13 == 0 (742 stations)\n",
    "1. Group 15 == 1 (297 stations)\n",
    "1. Group 17 == 2 (287 stations)\n",
    "1. Group 7 == 3 (146 stations)\n",
    "1. Group 0 == 4 (70 stations)\n",
    "1. Group 14 == 5 (37 stations)\n",
    "1. Group 9 == 6 (23 stations)\n",
    "1. Groups 3, 12, 4, 11, 18, 1, 2, 6, 5, 10, 8, and 16 are all going to be thought of as 'ungrouped' and will be assigned -1"
   ]
  },
  {
   "cell_type": "code",
   "execution_count": 137,
   "metadata": {},
   "outputs": [
    {
     "name": "stdout",
     "output_type": "stream",
     "text": [
      "+-----------------+---------------------+\n",
      "|bikeBehaviorGroup|count(endStationName)|\n",
      "+-----------------+---------------------+\n",
      "|               -1|                   32|\n",
      "|                0|                  742|\n",
      "|                1|                  297|\n",
      "|                2|                  287|\n",
      "|                3|                  146|\n",
      "|                4|                   70|\n",
      "|                5|                   37|\n",
      "|                6|                   23|\n",
      "+-----------------+---------------------+\n",
      "\n"
     ]
    }
   ],
   "source": [
    "\n",
    "df_Groupings = df_Predictions_k19.withColumn(\"bikeBehaviorGroup\", F.when(col(\"prediction\") == 13, 0)\\\n",
    "                                        .otherwise(F.when(col(\"prediction\") == 15, 1)\\\n",
    "                                        .otherwise(F.when(col(\"prediction\") == 17, 2)\\\n",
    "                                        .otherwise(F.when(col(\"prediction\") == 7, 3)\\\n",
    "                                        .otherwise(F.when(col(\"prediction\") == 0, 4)\\\n",
    "                                        .otherwise(F.when(col(\"prediction\") == 14, 5)\\\n",
    "                                        .otherwise(F.when(col(\"prediction\") == 9, 6)\\\n",
    "                                        .otherwise(F.when(col(\"prediction\").isin(3,12,4,11,18,1,2,6,5,10,8,16), -1)\\\n",
    "                                        .otherwise(-1)\\\n",
    "                                                  ))))))))\n",
    "\n",
    "df_Groupings.groupBy('bikeBehaviorGroup').agg(\\\n",
    "        count(\"endStationName\")).orderBy('count(endStationName)').orderBy('bikeBehaviorGroup').show()"
   ]
  },
  {
   "cell_type": "code",
   "execution_count": 138,
   "metadata": {},
   "outputs": [],
   "source": [
    "df_Groupings = df_Groupings.drop('prediction')"
   ]
  },
  {
   "cell_type": "code",
   "execution_count": 139,
   "metadata": {},
   "outputs": [
    {
     "name": "stdout",
     "output_type": "stream",
     "text": [
      "+--------------------+-----------------+\n",
      "|      endStationName|bikeBehaviorGroup|\n",
      "+--------------------+-----------------+\n",
      "|       10 St & 5 Ave|                0|\n",
      "|       19 St & 8 Ave|                0|\n",
      "|       45 Rd & 11 St|                0|\n",
      "|       5 Ave & 66 St|                0|\n",
      "|Clinton St\t& Cher...|                0|\n",
      "+--------------------+-----------------+\n",
      "only showing top 5 rows\n",
      "\n"
     ]
    }
   ],
   "source": [
    "df_Groupings.show(5)"
   ]
  },
  {
   "cell_type": "markdown",
   "metadata": {},
   "source": [
    "# Assemble the dataframe with unique bikeBeahviorGroup based on best k's\n",
    "\n"
   ]
  },
  {
   "cell_type": "code",
   "execution_count": 140,
   "metadata": {},
   "outputs": [
    {
     "name": "stdout",
     "output_type": "stream",
     "text": [
      "1632\n",
      "+--------------------+------------------+------------------+\n",
      "|      endStationName|          latitude|         longitude|\n",
      "+--------------------+------------------+------------------+\n",
      "|       10 St & 5 Ave|       40.66862715|     -73.987000765|\n",
      "|  N 11 St & Kent Ave|  40.7224819431911|-73.95921915335367|\n",
      "|       5 Ave & 66 St|40.635678999999996|        -74.020005|\n",
      "|E 141 St & Jackso...|         40.806896|        -73.911837|\n",
      "|Clinton St\t& Cher...|         40.711471|        -73.986726|\n",
      "+--------------------+------------------+------------------+\n",
      "only showing top 5 rows\n",
      "\n"
     ]
    }
   ],
   "source": [
    "# join with the dataframe of locations with endStationLatitude endStationLongitude\n",
    "df = spark.read.parquet('/project/ds5559/Summer2021_TeamBike/master_dataset.parquet/')\\\n",
    ".select('endStationName','endStationLatitude','endStationLongitude').distinct().groupBy('endStationName').agg(\\\n",
    "        avg(\"endStationLatitude\").alias(\"latitude\"),\\\n",
    "        avg(\"endStationLongitude\").alias(\"longitude\"))\n",
    "\n",
    "print(df.count())\n",
    "df.show(5)"
   ]
  },
  {
   "cell_type": "code",
   "execution_count": 141,
   "metadata": {},
   "outputs": [
    {
     "name": "stdout",
     "output_type": "stream",
     "text": [
      "1632\n",
      "+--------------------+------------------+------------------+-----------------+\n",
      "|      endStationName|          latitude|         longitude|bikeBehaviorGroup|\n",
      "+--------------------+------------------+------------------+-----------------+\n",
      "|       10 St & 5 Ave|       40.66862715|     -73.987000765|                0|\n",
      "|  N 11 St & Kent Ave|  40.7224819431911|-73.95921915335367|                0|\n",
      "|       5 Ave & 66 St|40.635678999999996|        -74.020005|                0|\n",
      "|E 141 St & Jackso...|         40.806896|        -73.911837|                2|\n",
      "|Clinton St\t& Cher...|         40.711471|        -73.986726|                0|\n",
      "+--------------------+------------------+------------------+-----------------+\n",
      "only showing top 5 rows\n",
      "\n"
     ]
    }
   ],
   "source": [
    "#join the bikeBehaviorLabels to the endStationNames\n",
    "df = df.join(df_Groupings,'endStationName', 'left')\n",
    "print(df.count())\n",
    "df.show(5)"
   ]
  },
  {
   "cell_type": "code",
   "execution_count": 142,
   "metadata": {},
   "outputs": [],
   "source": [
    "# write the stations with average lat and average lon with bikeBehaviorGroup to csv\n",
    "df.write.mode('overwrite').csv('NonBoroughKModels/endStationNameLatLonNoLocationBikeBehaviorGroup.csv', header=True)"
   ]
  },
  {
   "cell_type": "markdown",
   "metadata": {},
   "source": [
    "# Save the dataframe as parquet or csv with startStationName, Lat, Lon, and bikeBehaviorGroup"
   ]
  },
  {
   "cell_type": "markdown",
   "metadata": {},
   "source": [
    "Send to pandas. Need in pandas form for graphing:"
   ]
  },
  {
   "cell_type": "code",
   "execution_count": 3,
   "metadata": {},
   "outputs": [
    {
     "data": {
      "text/html": [
       "<div>\n",
       "<style scoped>\n",
       "    .dataframe tbody tr th:only-of-type {\n",
       "        vertical-align: middle;\n",
       "    }\n",
       "\n",
       "    .dataframe tbody tr th {\n",
       "        vertical-align: top;\n",
       "    }\n",
       "\n",
       "    .dataframe thead th {\n",
       "        text-align: right;\n",
       "    }\n",
       "</style>\n",
       "<table border=\"1\" class=\"dataframe\">\n",
       "  <thead>\n",
       "    <tr style=\"text-align: right;\">\n",
       "      <th></th>\n",
       "      <th>endStationName</th>\n",
       "      <th>latitude</th>\n",
       "      <th>longitude</th>\n",
       "      <th>bikeBehaviorGroup</th>\n",
       "    </tr>\n",
       "  </thead>\n",
       "  <tbody>\n",
       "    <tr>\n",
       "      <th>698</th>\n",
       "      <td>E 161 St &amp; Park Ave</td>\n",
       "      <td>40.824811</td>\n",
       "      <td>-73.916407</td>\n",
       "      <td>6</td>\n",
       "    </tr>\n",
       "    <tr>\n",
       "      <th>647</th>\n",
       "      <td>Putnam Ave &amp; Knickerbocker Ave</td>\n",
       "      <td>40.695450</td>\n",
       "      <td>-73.911640</td>\n",
       "      <td>6</td>\n",
       "    </tr>\n",
       "    <tr>\n",
       "      <th>1524</th>\n",
       "      <td>48 St &amp; 37 Ave</td>\n",
       "      <td>40.751555</td>\n",
       "      <td>-73.915026</td>\n",
       "      <td>6</td>\n",
       "    </tr>\n",
       "    <tr>\n",
       "      <th>1502</th>\n",
       "      <td>Courtlandt Ave &amp; E 157 St</td>\n",
       "      <td>40.822267</td>\n",
       "      <td>-73.916792</td>\n",
       "      <td>6</td>\n",
       "    </tr>\n",
       "    <tr>\n",
       "      <th>1500</th>\n",
       "      <td>St. Ann's Ave &amp; E 144 St</td>\n",
       "      <td>40.811556</td>\n",
       "      <td>-73.914466</td>\n",
       "      <td>6</td>\n",
       "    </tr>\n",
       "  </tbody>\n",
       "</table>\n",
       "</div>"
      ],
      "text/plain": [
       "                      endStationName   latitude  longitude bikeBehaviorGroup\n",
       "698              E 161 St & Park Ave  40.824811 -73.916407                 6\n",
       "647   Putnam Ave & Knickerbocker Ave  40.695450 -73.911640                 6\n",
       "1524                  48 St & 37 Ave  40.751555 -73.915026                 6\n",
       "1502       Courtlandt Ave & E 157 St  40.822267 -73.916792                 6\n",
       "1500        St. Ann's Ave & E 144 St  40.811556 -73.914466                 6"
      ]
     },
     "execution_count": 3,
     "metadata": {},
     "output_type": "execute_result"
    }
   ],
   "source": [
    "from pyspark.sql.types import StructType, StructField, IntegerType, DoubleType, StringType\n",
    "\n",
    "schema = StructType([\n",
    "    StructField(\"endStationName\", StringType(), True),\n",
    "    StructField(\"latitude\", DoubleType(), True),\n",
    "    StructField(\"longitude\", DoubleType(), True),\n",
    "    StructField(\"bikeBehaviorGroup\", IntegerType(), True)\n",
    "])\n",
    "\n",
    "df_s = spark.read.csv(\"NonBoroughKModels/endStationNameLatLonNoLocationBikeBehaviorGroup.csv\", header=True,schema=schema)\n",
    "\n",
    "# remove nans and nulls\n",
    "df_s = df_s.filter(df_s.bikeBehaviorGroup. isNotNull())\n",
    "df_p = df_s.toPandas()\n",
    "df_p[\"bikeBehaviorGroup\"] = df_p[\"bikeBehaviorGroup\"].astype(int).astype(str)\n",
    "df_p = df_p.sort_values(by='bikeBehaviorGroup', ascending=False)\n",
    "df_p.head()"
   ]
  },
  {
   "cell_type": "code",
   "execution_count": 4,
   "metadata": {},
   "outputs": [
    {
     "data": {
      "text/html": [
       "<div>\n",
       "<style scoped>\n",
       "    .dataframe tbody tr th:only-of-type {\n",
       "        vertical-align: middle;\n",
       "    }\n",
       "\n",
       "    .dataframe tbody tr th {\n",
       "        vertical-align: top;\n",
       "    }\n",
       "\n",
       "    .dataframe thead tr th {\n",
       "        text-align: left;\n",
       "    }\n",
       "\n",
       "    .dataframe thead tr:last-of-type th {\n",
       "        text-align: right;\n",
       "    }\n",
       "</style>\n",
       "<table border=\"1\" class=\"dataframe\">\n",
       "  <thead>\n",
       "    <tr>\n",
       "      <th></th>\n",
       "      <th>endStationName</th>\n",
       "      <th>latitude</th>\n",
       "      <th>longitude</th>\n",
       "    </tr>\n",
       "    <tr>\n",
       "      <th></th>\n",
       "      <th>count</th>\n",
       "      <th>count</th>\n",
       "      <th>count</th>\n",
       "    </tr>\n",
       "    <tr>\n",
       "      <th>bikeBehaviorGroup</th>\n",
       "      <th></th>\n",
       "      <th></th>\n",
       "      <th></th>\n",
       "    </tr>\n",
       "  </thead>\n",
       "  <tbody>\n",
       "    <tr>\n",
       "      <th>-1</th>\n",
       "      <td>32</td>\n",
       "      <td>32</td>\n",
       "      <td>32</td>\n",
       "    </tr>\n",
       "    <tr>\n",
       "      <th>0</th>\n",
       "      <td>740</td>\n",
       "      <td>740</td>\n",
       "      <td>740</td>\n",
       "    </tr>\n",
       "    <tr>\n",
       "      <th>1</th>\n",
       "      <td>297</td>\n",
       "      <td>297</td>\n",
       "      <td>297</td>\n",
       "    </tr>\n",
       "    <tr>\n",
       "      <th>2</th>\n",
       "      <td>286</td>\n",
       "      <td>286</td>\n",
       "      <td>286</td>\n",
       "    </tr>\n",
       "    <tr>\n",
       "      <th>3</th>\n",
       "      <td>146</td>\n",
       "      <td>146</td>\n",
       "      <td>146</td>\n",
       "    </tr>\n",
       "    <tr>\n",
       "      <th>4</th>\n",
       "      <td>70</td>\n",
       "      <td>70</td>\n",
       "      <td>70</td>\n",
       "    </tr>\n",
       "    <tr>\n",
       "      <th>5</th>\n",
       "      <td>37</td>\n",
       "      <td>37</td>\n",
       "      <td>37</td>\n",
       "    </tr>\n",
       "    <tr>\n",
       "      <th>6</th>\n",
       "      <td>23</td>\n",
       "      <td>23</td>\n",
       "      <td>23</td>\n",
       "    </tr>\n",
       "  </tbody>\n",
       "</table>\n",
       "</div>"
      ],
      "text/plain": [
       "                  endStationName latitude longitude\n",
       "                           count    count     count\n",
       "bikeBehaviorGroup                                  \n",
       "-1                            32       32        32\n",
       "0                            740      740       740\n",
       "1                            297      297       297\n",
       "2                            286      286       286\n",
       "3                            146      146       146\n",
       "4                             70       70        70\n",
       "5                             37       37        37\n",
       "6                             23       23        23"
      ]
     },
     "execution_count": 4,
     "metadata": {},
     "output_type": "execute_result"
    }
   ],
   "source": [
    "df_p.groupby(\n",
    "    ['bikeBehaviorGroup'], as_index=False).agg(\n",
    "    {'count'}\n",
    ")"
   ]
  },
  {
   "cell_type": "markdown",
   "metadata": {},
   "source": [
    "Plot:"
   ]
  },
  {
   "cell_type": "code",
   "execution_count": 5,
   "metadata": {},
   "outputs": [],
   "source": [
    "import plotly.express as px"
   ]
  },
  {
   "cell_type": "code",
   "execution_count": 8,
   "metadata": {},
   "outputs": [],
   "source": [
    "fig = px.scatter(df_p, x = 'longitude', y = 'latitude', color='bikeBehaviorGroup', color_discrete_sequence=px.colors.qualitative.G10,\n",
    "                 hover_data=['bikeBehaviorGroup'], height=800, title='End Station Bike Behavior Group')"
   ]
  },
  {
   "cell_type": "code",
   "execution_count": 9,
   "metadata": {},
   "outputs": [
    {
     "name": "stdout",
     "output_type": "stream",
     "text": [
      "+-----------------+---------------------+\n",
      "|bikeBehaviorGroup|count(endStationName)|\n",
      "+-----------------+---------------------+\n",
      "|               -1|                   32|\n",
      "|                0|                  740|\n",
      "|                1|                  297|\n",
      "|                2|                  286|\n",
      "|                3|                  146|\n",
      "|                4|                   70|\n",
      "|                5|                   37|\n",
      "|                6|                   23|\n",
      "+-----------------+---------------------+\n",
      "\n"
     ]
    }
   ],
   "source": [
    "df_s.groupBy('bikeBehaviorGroup').agg(\\\n",
    "        count(\"endStationName\")).orderBy('count(endStationName)').orderBy('bikeBehaviorGroup').show()"
   ]
  },
  {
   "cell_type": "code",
   "execution_count": 10,
   "metadata": {},
   "outputs": [
    {
     "data": {
      "application/vnd.plotly.v1+json": {
       "config": {
        "plotlyServerURL": "https://plot.ly"
       },
       "data": [
        {
         "customdata": [
          [
           "6"
          ],
          [
           "6"
          ],
          [
           "6"
          ],
          [
           "6"
          ],
          [
           "6"
          ],
          [
           "6"
          ],
          [
           "6"
          ],
          [
           "6"
          ],
          [
           "6"
          ],
          [
           "6"
          ],
          [
           "6"
          ],
          [
           "6"
          ],
          [
           "6"
          ],
          [
           "6"
          ],
          [
           "6"
          ],
          [
           "6"
          ],
          [
           "6"
          ],
          [
           "6"
          ],
          [
           "6"
          ],
          [
           "6"
          ],
          [
           "6"
          ],
          [
           "6"
          ],
          [
           "6"
          ]
         ],
         "hovertemplate": "bikeBehaviorGroup=%{customdata[0]}<br>longitude=%{x}<br>latitude=%{y}<extra></extra>",
         "legendgroup": "6",
         "marker": {
          "color": "#3366CC",
          "symbol": "circle"
         },
         "mode": "markers",
         "name": "6",
         "showlegend": true,
         "type": "scattergl",
         "x": [
          -73.91640699999999,
          -73.91164,
          -73.915026,
          -73.916792,
          -73.914466,
          -73.917641,
          -73.92608883047772,
          -73.920999,
          -73.955277,
          -73.890413,
          -73.910489,
          -73.92076306747818,
          -73.896372,
          -73.90632,
          -73.91458,
          -73.927421,
          -73.90369,
          -73.91089000000001,
          -73.908863,
          -73.915368,
          -73.916071,
          -73.9362728,
          -73.90804868599702
         ],
         "xaxis": "x",
         "y": [
          40.824811,
          40.69545,
          40.751554999999996,
          40.822267,
          40.811555999999996,
          40.834263,
          40.83670583431402,
          40.843965000000004,
          40.818212,
          40.837037,
          40.837576,
          40.86989883097023,
          40.827301,
          40.70694,
          40.689890000000005,
          40.832057,
          40.6786,
          40.824,
          40.834015,
          40.814383,
          40.819609,
          40.76018515,
          40.8069881092705
         ],
         "yaxis": "y"
        },
        {
         "customdata": [
          [
           "5"
          ],
          [
           "5"
          ],
          [
           "5"
          ],
          [
           "5"
          ],
          [
           "5"
          ],
          [
           "5"
          ],
          [
           "5"
          ],
          [
           "5"
          ],
          [
           "5"
          ],
          [
           "5"
          ],
          [
           "5"
          ],
          [
           "5"
          ],
          [
           "5"
          ],
          [
           "5"
          ],
          [
           "5"
          ],
          [
           "5"
          ],
          [
           "5"
          ],
          [
           "5"
          ],
          [
           "5"
          ],
          [
           "5"
          ],
          [
           "5"
          ],
          [
           "5"
          ],
          [
           "5"
          ],
          [
           "5"
          ],
          [
           "5"
          ],
          [
           "5"
          ],
          [
           "5"
          ],
          [
           "5"
          ],
          [
           "5"
          ],
          [
           "5"
          ],
          [
           "5"
          ],
          [
           "5"
          ],
          [
           "5"
          ],
          [
           "5"
          ],
          [
           "5"
          ],
          [
           "5"
          ],
          [
           "5"
          ]
         ],
         "hovertemplate": "bikeBehaviorGroup=%{customdata[0]}<br>longitude=%{x}<br>latitude=%{y}<extra></extra>",
         "legendgroup": "5",
         "marker": {
          "color": "#DC3912",
          "symbol": "circle"
         },
         "mode": "markers",
         "name": "5",
         "showlegend": true,
         "type": "scattergl",
         "x": [
          -73.90448,
          -73.908116,
          -73.88854599999999,
          -73.892103,
          -73.894025,
          -73.92965,
          -73.91507299999999,
          -73.92971899999999,
          -73.979239,
          -73.898751,
          -73.927311,
          -73.94008000000001,
          -73.936153,
          -73.939326,
          -73.909235,
          -73.907451,
          -73.935685,
          -73.96434111455,
          -73.908906,
          -73.979826,
          -73.93794799999999,
          -74.00647117,
          -73.919911,
          -73.95541610000001,
          -73.928489,
          -73.907521,
          -73.91320999999999,
          -74.03648570000001,
          -73.908699,
          -73.919228,
          -73.900277,
          -73.886659,
          -73.90486700000001,
          -73.91693000000001,
          -73.941928,
          -73.914688,
          -73.896599
         ],
         "xaxis": "x",
         "y": [
          40.69081,
          40.816124,
          40.821952,
          40.830051,
          40.82394,
          40.817755,
          40.840683,
          40.862058000000005,
          40.642809,
          40.826303,
          40.810893,
          40.709897,
          40.81449,
          40.833303,
          40.813134999999996,
          40.82696,
          40.7163285,
          40.79693485,
          40.754164,
          40.672784,
          40.826406,
          40.67699915,
          40.704876,
          40.66917815,
          40.86012,
          40.82188,
          40.68652,
          40.712774200000005,
          40.823871999999994,
          40.840536,
          40.839586,
          40.827628999999995,
          40.843264000000005,
          40.69122,
          40.823060999999996,
          40.822215,
          40.833246
         ],
         "yaxis": "y"
        },
        {
         "customdata": [
          [
           "4"
          ],
          [
           "4"
          ],
          [
           "4"
          ],
          [
           "4"
          ],
          [
           "4"
          ],
          [
           "4"
          ],
          [
           "4"
          ],
          [
           "4"
          ],
          [
           "4"
          ],
          [
           "4"
          ],
          [
           "4"
          ],
          [
           "4"
          ],
          [
           "4"
          ],
          [
           "4"
          ],
          [
           "4"
          ],
          [
           "4"
          ],
          [
           "4"
          ],
          [
           "4"
          ],
          [
           "4"
          ],
          [
           "4"
          ],
          [
           "4"
          ],
          [
           "4"
          ],
          [
           "4"
          ],
          [
           "4"
          ],
          [
           "4"
          ],
          [
           "4"
          ],
          [
           "4"
          ],
          [
           "4"
          ],
          [
           "4"
          ],
          [
           "4"
          ],
          [
           "4"
          ],
          [
           "4"
          ],
          [
           "4"
          ],
          [
           "4"
          ],
          [
           "4"
          ],
          [
           "4"
          ],
          [
           "4"
          ],
          [
           "4"
          ],
          [
           "4"
          ],
          [
           "4"
          ],
          [
           "4"
          ],
          [
           "4"
          ],
          [
           "4"
          ],
          [
           "4"
          ],
          [
           "4"
          ],
          [
           "4"
          ],
          [
           "4"
          ],
          [
           "4"
          ],
          [
           "4"
          ],
          [
           "4"
          ],
          [
           "4"
          ],
          [
           "4"
          ],
          [
           "4"
          ],
          [
           "4"
          ],
          [
           "4"
          ],
          [
           "4"
          ],
          [
           "4"
          ],
          [
           "4"
          ],
          [
           "4"
          ],
          [
           "4"
          ],
          [
           "4"
          ],
          [
           "4"
          ],
          [
           "4"
          ],
          [
           "4"
          ],
          [
           "4"
          ],
          [
           "4"
          ],
          [
           "4"
          ],
          [
           "4"
          ],
          [
           "4"
          ],
          [
           "4"
          ]
         ],
         "hovertemplate": "bikeBehaviorGroup=%{customdata[0]}<br>longitude=%{x}<br>latitude=%{y}<extra></extra>",
         "legendgroup": "4",
         "marker": {
          "color": "#FF9900",
          "symbol": "circle"
         },
         "mode": "markers",
         "name": "4",
         "showlegend": true,
         "type": "scattergl",
         "x": [
          -73.94306805000001,
          -73.91241099999999,
          -73.93973000000001,
          -73.92339100000001,
          -73.928747,
          -73.92160600000001,
          -73.9168,
          -73.90454,
          -73.89847499999999,
          -73.95238104,
          -73.938591,
          -73.888271,
          -73.92112,
          -73.94791500000001,
          -73.9318351521236,
          -73.923769,
          -73.930605,
          -73.94969936,
          -73.904556,
          -73.95746189462518,
          -73.928939,
          -73.936521,
          -73.923302,
          -73.927987,
          -73.91725600000001,
          -73.922962,
          -73.91888900000001,
          -73.95324718416785,
          -73.94371097,
          -73.94160600000001,
          -73.946665,
          -73.888719,
          -73.91125,
          -73.945925,
          -73.91081,
          -73.93608499999999,
          -73.941616,
          -73.950322915,
          -73.98721285164356,
          -73.937413,
          -73.93705414,
          -74.00194699,
          -73.94386,
          -73.993612,
          -73.9342,
          -73.92141099999999,
          -73.942924,
          -73.935971,
          -73.9196,
          -73.936322,
          -73.941323,
          -73.939249,
          -73.941057,
          -73.937496,
          -73.91632,
          -73.938475,
          -73.936371,
          -73.90100100000001,
          -73.92036999999999,
          -73.941342,
          -73.92989105,
          -73.93623199999999,
          -73.9434,
          -73.91924,
          -73.941427855,
          -73.93719499999999,
          -73.9349,
          -73.939877,
          -73.9423,
          -73.929153
         ],
         "xaxis": "x",
         "y": [
          40.8107921,
          40.819823,
          40.810140000000004,
          40.830262,
          40.830179,
          40.81093,
          40.68663,
          40.70404,
          40.69861,
          40.69527004,
          40.808279999999996,
          40.820578000000005,
          40.833909000000006,
          40.690081750000004,
          40.70327588909326,
          40.702013,
          40.813224,
          40.695265389999996,
          40.830471,
          40.69064803541471,
          40.822216999999995,
          40.819783,
          40.808692,
          40.816576,
          40.844075,
          40.81734,
          40.805089,
          40.8143942189579,
          40.69622918499999,
          40.795508,
          40.831327,
          40.826706,
          40.830940000000005,
          40.804038,
          40.808890999999996,
          40.806414000000004,
          40.825125,
          40.700295055,
          40.68461653897949,
          40.82281,
          40.692370870000005,
          40.67434,
          40.823498,
          40.671907,
          40.77485,
          40.820036,
          40.828309999999995,
          40.821111,
          40.69543,
          40.805726,
          40.830663,
          40.820877,
          40.819241,
          40.835798,
          40.685825,
          40.68001075,
          40.830702,
          40.769219,
          40.812298999999996,
          40.698617,
          40.6794269,
          40.825289,
          40.835775,
          40.807408,
          40.678906895,
          40.810224,
          40.80067205,
          40.693398099999996,
          40.797911,
          40.812304
         ],
         "yaxis": "y"
        },
        {
         "customdata": [
          [
           "3"
          ],
          [
           "3"
          ],
          [
           "3"
          ],
          [
           "3"
          ],
          [
           "3"
          ],
          [
           "3"
          ],
          [
           "3"
          ],
          [
           "3"
          ],
          [
           "3"
          ],
          [
           "3"
          ],
          [
           "3"
          ],
          [
           "3"
          ],
          [
           "3"
          ],
          [
           "3"
          ],
          [
           "3"
          ],
          [
           "3"
          ],
          [
           "3"
          ],
          [
           "3"
          ],
          [
           "3"
          ],
          [
           "3"
          ],
          [
           "3"
          ],
          [
           "3"
          ],
          [
           "3"
          ],
          [
           "3"
          ],
          [
           "3"
          ],
          [
           "3"
          ],
          [
           "3"
          ],
          [
           "3"
          ],
          [
           "3"
          ],
          [
           "3"
          ],
          [
           "3"
          ],
          [
           "3"
          ],
          [
           "3"
          ],
          [
           "3"
          ],
          [
           "3"
          ],
          [
           "3"
          ],
          [
           "3"
          ],
          [
           "3"
          ],
          [
           "3"
          ],
          [
           "3"
          ],
          [
           "3"
          ],
          [
           "3"
          ],
          [
           "3"
          ],
          [
           "3"
          ],
          [
           "3"
          ],
          [
           "3"
          ],
          [
           "3"
          ],
          [
           "3"
          ],
          [
           "3"
          ],
          [
           "3"
          ],
          [
           "3"
          ],
          [
           "3"
          ],
          [
           "3"
          ],
          [
           "3"
          ],
          [
           "3"
          ],
          [
           "3"
          ],
          [
           "3"
          ],
          [
           "3"
          ],
          [
           "3"
          ],
          [
           "3"
          ],
          [
           "3"
          ],
          [
           "3"
          ],
          [
           "3"
          ],
          [
           "3"
          ],
          [
           "3"
          ],
          [
           "3"
          ],
          [
           "3"
          ],
          [
           "3"
          ],
          [
           "3"
          ],
          [
           "3"
          ],
          [
           "3"
          ],
          [
           "3"
          ],
          [
           "3"
          ],
          [
           "3"
          ],
          [
           "3"
          ],
          [
           "3"
          ],
          [
           "3"
          ],
          [
           "3"
          ],
          [
           "3"
          ],
          [
           "3"
          ],
          [
           "3"
          ],
          [
           "3"
          ],
          [
           "3"
          ],
          [
           "3"
          ],
          [
           "3"
          ],
          [
           "3"
          ],
          [
           "3"
          ],
          [
           "3"
          ],
          [
           "3"
          ],
          [
           "3"
          ],
          [
           "3"
          ],
          [
           "3"
          ],
          [
           "3"
          ],
          [
           "3"
          ],
          [
           "3"
          ],
          [
           "3"
          ],
          [
           "3"
          ],
          [
           "3"
          ],
          [
           "3"
          ],
          [
           "3"
          ],
          [
           "3"
          ],
          [
           "3"
          ],
          [
           "3"
          ],
          [
           "3"
          ],
          [
           "3"
          ],
          [
           "3"
          ],
          [
           "3"
          ],
          [
           "3"
          ],
          [
           "3"
          ],
          [
           "3"
          ],
          [
           "3"
          ],
          [
           "3"
          ],
          [
           "3"
          ],
          [
           "3"
          ],
          [
           "3"
          ],
          [
           "3"
          ],
          [
           "3"
          ],
          [
           "3"
          ],
          [
           "3"
          ],
          [
           "3"
          ],
          [
           "3"
          ],
          [
           "3"
          ],
          [
           "3"
          ],
          [
           "3"
          ],
          [
           "3"
          ],
          [
           "3"
          ],
          [
           "3"
          ],
          [
           "3"
          ],
          [
           "3"
          ],
          [
           "3"
          ],
          [
           "3"
          ],
          [
           "3"
          ],
          [
           "3"
          ],
          [
           "3"
          ],
          [
           "3"
          ],
          [
           "3"
          ],
          [
           "3"
          ],
          [
           "3"
          ],
          [
           "3"
          ],
          [
           "3"
          ],
          [
           "3"
          ],
          [
           "3"
          ],
          [
           "3"
          ],
          [
           "3"
          ],
          [
           "3"
          ],
          [
           "3"
          ]
         ],
         "hovertemplate": "bikeBehaviorGroup=%{customdata[0]}<br>longitude=%{x}<br>latitude=%{y}<extra></extra>",
         "legendgroup": "3",
         "marker": {
          "color": "#109618",
          "symbol": "circle"
         },
         "mode": "markers",
         "name": "3",
         "showlegend": true,
         "type": "scattergl",
         "x": [
          -73.99116856566366,
          -74.004518935,
          -74.0097235,
          -73.97932325,
          -73.991448855,
          -73.98205013500001,
          -73.97680600000001,
          -73.99887861,
          -73.97704052666667,
          -73.98658016,
          -73.989900125,
          -74.00687851,
          -73.97015971666667,
          -73.95845663666667,
          -74.00297094000001,
          -73.98825468333332,
          -73.988596755,
          -73.993915,
          -73.984737825,
          -73.98801322666667,
          -73.95334453333334,
          -74.000040155,
          -73.999060825,
          -73.98210385666667,
          -73.97380988333333,
          -73.99749933574168,
          -73.96165086458969,
          -74.01314723,
          -74.01575600000001,
          -73.97988000434874,
          -73.98345859666667,
          -74.00214994000001,
          -73.96749655666667,
          -73.96560198,
          -73.97982525333335,
          -73.99577191888672,
          -73.96742638,
          -74.00674418,
          -73.97656117000001,
          -74.00670213500001,
          -73.9831465,
          -73.97937933150736,
          -73.97782520999999,
          -73.98655392333335,
          -73.99806810333332,
          -73.97620586819936,
          -73.989111,
          -73.97735300000001,
          -73.985649225,
          -73.97615927,
          -73.99069678000001,
          -73.97772990666667,
          -73.98501809662247,
          -74.00507016435623,
          -73.986011065,
          -73.99474547666667,
          -73.98185412000001,
          -73.99456402499999,
          -73.98918614346314,
          -73.960876,
          -73.988899785,
          -73.99749050333332,
          -74.007378,
          -73.97977389666667,
          -74.01129586791802,
          -73.99662118515776,
          -74.00164746333333,
          -73.99116080666668,
          -73.97745499999999,
          -73.98965208333333,
          -73.97465798666666,
          -73.98589073595555,
          -73.98968406666667,
          -73.96129340666666,
          -74.00460715,
          -73.98426713,
          -73.98517988500001,
          -73.98972865333333,
          -73.9806201491928,
          -73.99448255333334,
          -73.99478993846894,
          -74.004613,
          -73.98054410474015,
          -74.0017441,
          -73.990930925,
          -74.00318456,
          -73.99486670666666,
          -73.98675985333334,
          -73.99135076077017,
          -73.97770604760933,
          -74.000271,
          -73.98094668666668,
          -74.00329258999999,
          -73.99548,
          -73.99169076000001,
          -73.99793396666666,
          -73.99301211,
          -73.991475175,
          -73.98227880333333,
          -73.98955104500001,
          -73.97121207,
          -73.993790125,
          -73.96024108,
          -73.9558065,
          -74.00929550000001,
          -73.98865598333333,
          -73.989780205,
          -73.995298925,
          -74.01638917999999,
          -73.99856140666667,
          -73.99193852999998,
          -73.959195,
          -73.98048303775889,
          -73.99750811666668,
          -73.98544116666666,
          -74.01030081814575,
          -73.98672389000001,
          -73.99011533405208,
          -74.008119,
          -73.97490727333333,
          -73.99180000000001,
          -73.990985035,
          -73.98702975,
          -73.99443718666667,
          -73.999946805,
          -74.01361703,
          -73.98527135666667,
          -73.98834727999999,
          -73.9864615,
          -73.98229876333333,
          -73.98855711499999,
          -74.0030918701,
          -73.99266294,
          -73.994467,
          -74.01651795,
          -73.99493547181385,
          -73.99225989,
          -73.99150336666668,
          -73.97433194660282,
          -73.98228212666668,
          -73.99203003000001,
          -74.00707594666666,
          -73.97372095,
          -73.99876920666667,
          -73.999496005,
          -73.98353251666667
         ],
         "xaxis": "x",
         "y": [
          40.7300099874165,
          40.746919795,
          40.710533,
          40.776705166666666,
          40.743954054999996,
          40.73587689,
          40.739445,
          40.739570140000005,
          40.74293934,
          40.755135785,
          40.714274935,
          40.74323278333333,
          40.78482891666667,
          40.764670083333336,
          40.72710279,
          40.76184801666667,
          40.75929112,
          40.746646999999996,
          40.736245135000004,
          40.73784942666666,
          40.770936086666666,
          40.743453175,
          40.730477234999995,
          40.73181251,
          40.764264700000005,
          40.72206926222867,
          40.720367876492276,
          40.71803211333333,
          40.711512,
          40.76121994374938,
          40.72211614666667,
          40.730385995,
          40.76097185333333,
          40.71290595666667,
          40.73941733666667,
          40.72447572083444,
          40.772914085,
          40.73172414,
          40.76627278666666,
          40.703553885,
          40.7407295,
          40.76682718635316,
          40.773406800000004,
          40.745445233333335,
          40.72878008333333,
          40.77579388341833,
          40.722055,
          40.7519365,
          40.72779113,
          40.73342853,
          40.725028879999996,
          40.736668,
          40.76078875698864,
          40.73944810065202,
          40.740481869999996,
          40.76039612333333,
          40.72453717,
          40.739713005,
          40.74286888656056,
          40.710451,
          40.732232859999996,
          40.74689874999999,
          40.74637250000001,
          40.74362871333333,
          40.7277140388889,
          40.727063816741534,
          40.74566476666667,
          40.73436389,
          40.7517905,
          40.71979725333333,
          40.75506855666667,
          40.72271816356224,
          40.75593682666667,
          40.76115146666667,
          40.71273283,
          40.729538184999996,
          40.720664209999995,
          40.73703328,
          40.77944536335771,
          40.71587716666667,
          40.7510567823405,
          40.751698,
          40.73381209598316,
          40.75562786333333,
          40.750199975,
          40.760916673333334,
          40.72278652666667,
          40.7282792,
          40.73047120176651,
          40.75749722637243,
          40.735238,
          40.727605313333335,
          40.73400747666667,
          40.718911,
          40.754832955,
          40.75706919666667,
          40.76269891,
          40.722293230000005,
          40.76943668333334,
          40.740343100000004,
          40.744219,
          40.727434115,
          40.715348125,
          40.799741999999995,
          40.72842300000001,
          40.74900857,
          40.72628085,
          40.74487617,
          40.71555863333334,
          40.760533986666665,
          40.716039220000006,
          40.782534999999996,
          40.729971975982444,
          40.74259195666667,
          40.76380479666667,
          40.72019510718732,
          40.730473045,
          40.7711289276361,
          40.739323,
          40.74096262333333,
          40.749078,
          40.75756995,
          40.715595045,
          40.742159896666664,
          40.737815045000005,
          40.70463317,
          40.748106156666665,
          40.716818133333334,
          40.734116,
          40.74580803333333,
          40.74620095,
          40.73934463736666,
          40.71893902,
          40.751775499999994,
          40.70612851333333,
          40.73129141361742,
          40.73717462,
          40.76046184,
          40.743151271440574,
          40.76484346666667,
          40.734580316666666,
          40.73327717666666,
          40.748401865000005,
          40.745167493333334,
          40.72362719,
          40.725811959999994
         ],
         "yaxis": "y"
        },
        {
         "customdata": [
          [
           "2"
          ],
          [
           "2"
          ],
          [
           "2"
          ],
          [
           "2"
          ],
          [
           "2"
          ],
          [
           "2"
          ],
          [
           "2"
          ],
          [
           "2"
          ],
          [
           "2"
          ],
          [
           "2"
          ],
          [
           "2"
          ],
          [
           "2"
          ],
          [
           "2"
          ],
          [
           "2"
          ],
          [
           "2"
          ],
          [
           "2"
          ],
          [
           "2"
          ],
          [
           "2"
          ],
          [
           "2"
          ],
          [
           "2"
          ],
          [
           "2"
          ],
          [
           "2"
          ],
          [
           "2"
          ],
          [
           "2"
          ],
          [
           "2"
          ],
          [
           "2"
          ],
          [
           "2"
          ],
          [
           "2"
          ],
          [
           "2"
          ],
          [
           "2"
          ],
          [
           "2"
          ],
          [
           "2"
          ],
          [
           "2"
          ],
          [
           "2"
          ],
          [
           "2"
          ],
          [
           "2"
          ],
          [
           "2"
          ],
          [
           "2"
          ],
          [
           "2"
          ],
          [
           "2"
          ],
          [
           "2"
          ],
          [
           "2"
          ],
          [
           "2"
          ],
          [
           "2"
          ],
          [
           "2"
          ],
          [
           "2"
          ],
          [
           "2"
          ],
          [
           "2"
          ],
          [
           "2"
          ],
          [
           "2"
          ],
          [
           "2"
          ],
          [
           "2"
          ],
          [
           "2"
          ],
          [
           "2"
          ],
          [
           "2"
          ],
          [
           "2"
          ],
          [
           "2"
          ],
          [
           "2"
          ],
          [
           "2"
          ],
          [
           "2"
          ],
          [
           "2"
          ],
          [
           "2"
          ],
          [
           "2"
          ],
          [
           "2"
          ],
          [
           "2"
          ],
          [
           "2"
          ],
          [
           "2"
          ],
          [
           "2"
          ],
          [
           "2"
          ],
          [
           "2"
          ],
          [
           "2"
          ],
          [
           "2"
          ],
          [
           "2"
          ],
          [
           "2"
          ],
          [
           "2"
          ],
          [
           "2"
          ],
          [
           "2"
          ],
          [
           "2"
          ],
          [
           "2"
          ],
          [
           "2"
          ],
          [
           "2"
          ],
          [
           "2"
          ],
          [
           "2"
          ],
          [
           "2"
          ],
          [
           "2"
          ],
          [
           "2"
          ],
          [
           "2"
          ],
          [
           "2"
          ],
          [
           "2"
          ],
          [
           "2"
          ],
          [
           "2"
          ],
          [
           "2"
          ],
          [
           "2"
          ],
          [
           "2"
          ],
          [
           "2"
          ],
          [
           "2"
          ],
          [
           "2"
          ],
          [
           "2"
          ],
          [
           "2"
          ],
          [
           "2"
          ],
          [
           "2"
          ],
          [
           "2"
          ],
          [
           "2"
          ],
          [
           "2"
          ],
          [
           "2"
          ],
          [
           "2"
          ],
          [
           "2"
          ],
          [
           "2"
          ],
          [
           "2"
          ],
          [
           "2"
          ],
          [
           "2"
          ],
          [
           "2"
          ],
          [
           "2"
          ],
          [
           "2"
          ],
          [
           "2"
          ],
          [
           "2"
          ],
          [
           "2"
          ],
          [
           "2"
          ],
          [
           "2"
          ],
          [
           "2"
          ],
          [
           "2"
          ],
          [
           "2"
          ],
          [
           "2"
          ],
          [
           "2"
          ],
          [
           "2"
          ],
          [
           "2"
          ],
          [
           "2"
          ],
          [
           "2"
          ],
          [
           "2"
          ],
          [
           "2"
          ],
          [
           "2"
          ],
          [
           "2"
          ],
          [
           "2"
          ],
          [
           "2"
          ],
          [
           "2"
          ],
          [
           "2"
          ],
          [
           "2"
          ],
          [
           "2"
          ],
          [
           "2"
          ],
          [
           "2"
          ],
          [
           "2"
          ],
          [
           "2"
          ],
          [
           "2"
          ],
          [
           "2"
          ],
          [
           "2"
          ],
          [
           "2"
          ],
          [
           "2"
          ],
          [
           "2"
          ],
          [
           "2"
          ],
          [
           "2"
          ],
          [
           "2"
          ],
          [
           "2"
          ],
          [
           "2"
          ],
          [
           "2"
          ],
          [
           "2"
          ],
          [
           "2"
          ],
          [
           "2"
          ],
          [
           "2"
          ],
          [
           "2"
          ],
          [
           "2"
          ],
          [
           "2"
          ],
          [
           "2"
          ],
          [
           "2"
          ],
          [
           "2"
          ],
          [
           "2"
          ],
          [
           "2"
          ],
          [
           "2"
          ],
          [
           "2"
          ],
          [
           "2"
          ],
          [
           "2"
          ],
          [
           "2"
          ],
          [
           "2"
          ],
          [
           "2"
          ],
          [
           "2"
          ],
          [
           "2"
          ],
          [
           "2"
          ],
          [
           "2"
          ],
          [
           "2"
          ],
          [
           "2"
          ],
          [
           "2"
          ],
          [
           "2"
          ],
          [
           "2"
          ],
          [
           "2"
          ],
          [
           "2"
          ],
          [
           "2"
          ],
          [
           "2"
          ],
          [
           "2"
          ],
          [
           "2"
          ],
          [
           "2"
          ],
          [
           "2"
          ],
          [
           "2"
          ],
          [
           "2"
          ],
          [
           "2"
          ],
          [
           "2"
          ],
          [
           "2"
          ],
          [
           "2"
          ],
          [
           "2"
          ],
          [
           "2"
          ],
          [
           "2"
          ],
          [
           "2"
          ],
          [
           "2"
          ],
          [
           "2"
          ],
          [
           "2"
          ],
          [
           "2"
          ],
          [
           "2"
          ],
          [
           "2"
          ],
          [
           "2"
          ],
          [
           "2"
          ],
          [
           "2"
          ],
          [
           "2"
          ],
          [
           "2"
          ],
          [
           "2"
          ],
          [
           "2"
          ],
          [
           "2"
          ],
          [
           "2"
          ],
          [
           "2"
          ],
          [
           "2"
          ],
          [
           "2"
          ],
          [
           "2"
          ],
          [
           "2"
          ],
          [
           "2"
          ],
          [
           "2"
          ],
          [
           "2"
          ],
          [
           "2"
          ],
          [
           "2"
          ],
          [
           "2"
          ],
          [
           "2"
          ],
          [
           "2"
          ],
          [
           "2"
          ],
          [
           "2"
          ],
          [
           "2"
          ],
          [
           "2"
          ],
          [
           "2"
          ],
          [
           "2"
          ],
          [
           "2"
          ],
          [
           "2"
          ],
          [
           "2"
          ],
          [
           "2"
          ],
          [
           "2"
          ],
          [
           "2"
          ],
          [
           "2"
          ],
          [
           "2"
          ],
          [
           "2"
          ],
          [
           "2"
          ],
          [
           "2"
          ],
          [
           "2"
          ],
          [
           "2"
          ],
          [
           "2"
          ],
          [
           "2"
          ],
          [
           "2"
          ],
          [
           "2"
          ],
          [
           "2"
          ],
          [
           "2"
          ],
          [
           "2"
          ],
          [
           "2"
          ],
          [
           "2"
          ],
          [
           "2"
          ],
          [
           "2"
          ],
          [
           "2"
          ],
          [
           "2"
          ],
          [
           "2"
          ],
          [
           "2"
          ],
          [
           "2"
          ],
          [
           "2"
          ],
          [
           "2"
          ],
          [
           "2"
          ],
          [
           "2"
          ],
          [
           "2"
          ],
          [
           "2"
          ],
          [
           "2"
          ],
          [
           "2"
          ],
          [
           "2"
          ],
          [
           "2"
          ],
          [
           "2"
          ],
          [
           "2"
          ],
          [
           "2"
          ],
          [
           "2"
          ],
          [
           "2"
          ],
          [
           "2"
          ],
          [
           "2"
          ],
          [
           "2"
          ],
          [
           "2"
          ],
          [
           "2"
          ],
          [
           "2"
          ],
          [
           "2"
          ],
          [
           "2"
          ]
         ],
         "hovertemplate": "bikeBehaviorGroup=%{customdata[0]}<br>longitude=%{x}<br>latitude=%{y}<extra></extra>",
         "legendgroup": "2",
         "marker": {
          "color": "#990099",
          "symbol": "circle"
         },
         "mode": "markers",
         "name": "2",
         "showlegend": true,
         "type": "scattergl",
         "x": [
          -73.945525895,
          -73.94750997770309,
          -73.9538748,
          -73.944846,
          -73.97129684,
          -73.9476790512104,
          -73.98517612333332,
          -73.94320815,
          -73.949426,
          -73.93756913,
          -73.979880835,
          -73.917875,
          -73.92254015,
          -73.95381997499999,
          -73.923162,
          -73.91456475,
          -73.90131099999999,
          -73.96311475,
          -73.89506899999999,
          -73.892317,
          -73.96714585000001,
          -73.92228499999999,
          -73.958810905,
          -73.9376305,
          -73.98362482,
          -73.93259,
          -73.93948,
          -73.94728315500001,
          -73.917169,
          -73.95399013,
          -74.0075571,
          -73.944694,
          -73.95691175,
          -74.00044348333334,
          -73.99785784,
          -73.903719,
          -73.94609285000001,
          -73.91769000000001,
          -73.9179,
          -73.93223,
          -73.93504,
          -73.922394,
          -73.922423,
          -73.9209332276144,
          -73.921461,
          -73.92834,
          -73.911759,
          -73.954295,
          -73.976831,
          -74.00946114999999,
          -73.95812003333334,
          -73.9333,
          -73.946269075,
          -73.978034075,
          -73.941000025,
          -73.942939,
          -73.93372,
          -73.934903,
          -73.96181490000001,
          -73.933509,
          -73.95674100000001,
          -73.905158,
          -73.953149,
          -73.90756,
          -73.9106511034851,
          -73.90925,
          -73.97702591333335,
          -73.964089815,
          -73.949373,
          -73.93323000000001,
          -74.01275078,
          -73.94456650000001,
          -73.93530013333334,
          -73.936996,
          -73.93118485,
          -73.95879015,
          -73.91471800000001,
          -73.930819,
          -73.938037,
          -73.899939,
          -73.9607081,
          -73.95649485,
          -74.01006989999999,
          -73.95901716666667,
          -73.95443519826784,
          -73.90245,
          -73.94051,
          -73.941878,
          -74.02658000000001,
          -73.925294,
          -73.885272,
          -73.955857,
          -73.95042600000001,
          -74.06285852193831,
          -73.941409,
          -73.945144,
          -73.90785600000001,
          -73.957163,
          -73.94021123333333,
          -73.90663,
          -74.02915254235268,
          -73.9588,
          -73.93921,
          -73.9551509,
          -73.92153,
          -73.927111,
          -73.95796791500001,
          -74.00870203971863,
          -73.908345,
          -74.001141,
          -73.95693399999999,
          -73.94111,
          -74.00879512324096,
          -73.90311,
          -74.004946975,
          -73.99383312,
          -74.011169,
          -73.940636,
          -73.9007,
          -73.91697698240966,
          -73.929372,
          -73.95960694295502,
          -73.97420985999999,
          -73.91091999999999,
          -74.0496379137039,
          -74.00913467990621,
          -73.94335794,
          -73.97942,
          -73.9485679,
          -73.93511099999999,
          -73.918877,
          -73.913004,
          -73.9544353965357,
          -73.94482786666667,
          -73.9383,
          -73.9389151,
          -73.97515816688917,
          -73.94373015,
          -73.94174699999999,
          -73.908351,
          -74.024714,
          -73.991479,
          -73.97673,
          -73.9183301,
          -73.88430799999999,
          -73.95801382687759,
          -73.951819,
          -73.92224285,
          -73.94350916666667,
          -73.91966,
          -73.93378940000001,
          -74.023087,
          -73.984275,
          -73.926075,
          -73.945003895,
          -73.903927,
          -73.9521,
          -73.950916,
          -73.98261203,
          -73.907618,
          -73.919549,
          -73.99333282,
          -73.911837,
          -73.923511,
          -73.95261943152873,
          -73.942954,
          -73.98854,
          -74.00851497781991,
          -73.9170072,
          -73.944072895,
          -73.948222,
          -73.94176491577149,
          -73.94663059333334,
          -73.90774379999999,
          -73.9609,
          -74.07106071710588,
          -73.92976,
          -73.94963334333333,
          -73.95088988333335,
          -73.9379,
          -73.90153000000001,
          -73.952761,
          -73.9351,
          -74.015665,
          -73.926241,
          -73.989016145,
          -73.935775,
          -73.93608499999999,
          -73.9283155,
          -73.94737185666668,
          -73.94412310000001,
          -73.935856,
          -73.95004798795,
          -73.99516780651474,
          -73.903865,
          -73.94407866666667,
          -73.92836,
          -73.95584597973334,
          -73.96649489933014,
          -73.918598,
          -73.94907810000001,
          -73.95033083999999,
          -73.94754748333332,
          -73.956461,
          -73.947257,
          -73.97877,
          -73.94199495,
          -73.928803,
          -73.886312,
          -73.901583,
          -74.04281702808953,
          -73.95353934666667,
          -73.90505999999999,
          -73.911479,
          -73.936064,
          -73.925101,
          -73.95324215,
          -73.9379560473709,
          -73.95982584666667,
          -73.92005999999999,
          -73.92754000000001,
          -73.9492288,
          -73.9166369,
          -73.91143,
          -73.99037296,
          -73.891677,
          -73.894717,
          -73.93271899999999,
          -73.9518778,
          -73.97439953453828,
          -73.947568,
          -73.96056949999999,
          -73.937838,
          -73.95615600000001,
          -73.95746879999999,
          -73.91171999999999,
          -73.98178012,
          -73.933651,
          -73.92461475,
          -73.90549,
          -73.9173875,
          -73.92146,
          -73.903743,
          -73.9391141,
          -73.90726715440923,
          -73.947084085,
          -73.951475,
          -73.9174,
          -73.92997,
          -73.916124,
          -73.90623000000001,
          -73.97422494,
          -73.917037,
          -73.92095,
          -73.9535655,
          -73.896447,
          -73.98068907,
          -73.93417099999999,
          -73.93021999999999,
          -73.942061,
          -73.94977,
          -73.888161,
          -73.915585,
          -73.93648490000001,
          -73.939562185,
          -73.8985,
          -73.934077,
          -73.955736,
          -73.94044123666667,
          -74.00321334977541,
          -74.01062793289566,
          -73.9500493,
          -73.905203,
          -74.00367579001235,
          -73.951989,
          -73.92385003333332,
          -73.94370792000001,
          -73.94425085,
          -73.94212515000001,
          -73.92818,
          -73.946168,
          -73.93581,
          -73.9022,
          -73.94735073883565,
          -73.96467975,
          -73.91144414102745
         ],
         "xaxis": "x",
         "y": [
          40.7862588,
          40.80933011592649,
          40.66306195,
          40.798944750000004,
          40.69573399,
          40.6803560420217,
          40.69777721333333,
          40.79329684,
          40.742760000000004,
          40.696819815,
          40.668662850000004,
          40.809619,
          40.7774551,
          40.69331708,
          40.77977,
          40.778718749999996,
          40.819701,
          40.67164915,
          40.821075,
          40.841091999999996,
          40.674012149999996,
          40.709535,
          40.68456815,
          40.79693949999999,
          40.694748905,
          40.70103,
          40.71882,
          40.7877212,
          40.8174135,
          40.682165819999994,
          40.67470575,
          40.686203000000006,
          40.66270595,
          40.71078272,
          40.674695850000006,
          40.828199,
          40.748000000000005,
          40.828846999999996,
          40.70108,
          40.695440000000005,
          40.797470000000004,
          40.83173,
          40.839312,
          40.76754888999855,
          40.829608,
          40.700003,
          40.820713,
          40.816355,
          40.727243,
          40.677774899999996,
          40.67085123333334,
          40.702831,
          40.694254015,
          40.696089205,
          40.712476805,
          40.84004,
          40.710681,
          40.68145989999999,
          40.6686742,
          40.802554,
          40.666563000000004,
          40.832678,
          40.809725,
          40.68139,
          40.764089161753446,
          40.68458,
          40.692846726666666,
          40.708530870000004,
          40.8078318,
          40.714290000000005,
          40.677342949999996,
          40.75771,
          40.7694985,
          40.829229999999995,
          40.7974771,
          40.6791942,
          40.805559,
          40.7659,
          40.682601,
          40.815077,
          40.80675805,
          40.6741808,
          40.6753272,
          40.814550533333325,
          40.70684201550662,
          40.70555,
          40.717729999999996,
          40.81296,
          40.754529999999995,
          40.818154,
          40.832648999999996,
          40.823168,
          40.829114000000004,
          40.71346382669195,
          40.839137,
          40.820681,
          40.709697,
          40.817555,
          40.800871199999996,
          40.69467,
          40.736010749981055,
          40.667941049999996,
          40.700990000000004,
          40.81,
          40.705614000000004,
          40.827883,
          40.707087005000005,
          40.65708866668485,
          40.837213,
          40.657742999999996,
          40.665816,
          40.6851531,
          40.67267221705474,
          40.695170000000005,
          40.6725059,
          40.686371,
          40.679043,
          40.7031722,
          40.6988,
          40.761197232429694,
          40.832812,
          40.7433660401351,
          40.68559722333333,
          40.70793,
          40.71653978099194,
          40.65672588889495,
          40.75325982,
          40.688317999999995,
          40.75524315,
          40.842172999999995,
          40.698568,
          40.839549,
          40.70684203101325,
          40.69152186,
          40.7923271,
          40.799139000000004,
          40.725065755077374,
          40.70166585,
          40.806979999999996,
          40.81989,
          40.638246,
          40.719383,
          40.649037,
          40.78145,
          40.836273999999996,
          40.69454604362301,
          40.819746,
          40.760339,
          40.74678811333334,
          40.68822,
          40.7747175,
          40.646377,
          40.683426000000004,
          40.84207,
          40.719293005,
          40.814232000000004,
          40.74966,
          40.68833385000001,
          40.716226219999996,
          40.829896000000005,
          40.816402000000004,
          40.66854575,
          40.806896,
          40.69047,
          40.78899013851072,
          40.80295,
          40.659053,
          40.733423997185405,
          40.771152900000004,
          40.70510909,
          40.816234,
          40.7437522049892,
          40.70622213,
          40.77139385,
          40.67216815,
          40.72755146730012,
          40.70539,
          40.79362256666667,
          40.69115016333333,
          40.80292615,
          40.83545,
          40.821728,
          40.704508000000004,
          40.677236,
          40.697842,
          40.68435495,
          40.686312,
          40.838190999999995,
          40.776349999999994,
          40.7905367,
          40.79541205,
          40.815484000000005,
          40.6809831927,
          40.754623120145524,
          40.771203,
          40.682579233333335,
          40.704425,
          40.68022814099999,
          40.799041196441486,
          40.864632,
          40.802556800000005,
          40.7904829,
          40.796435833333334,
          40.813358,
          40.825244,
          40.69178,
          40.80053875,
          40.808484,
          40.830025,
          40.812769,
          40.71458401767947,
          40.68542943333333,
          40.68906,
          40.840494,
          40.848467,
          40.83263,
          40.802535,
          40.753599101002806,
          40.68900281,
          40.862638000000004,
          40.70166,
          40.812551049999996,
          40.7577282,
          40.814523,
          40.67861175,
          40.824956,
          40.830529,
          40.757186,
          40.81143215,
          40.64490665254525,
          40.818477,
          40.663140000000006,
          40.812191,
          40.819034200000004,
          40.6642408,
          40.84301,
          40.719260905,
          40.844044,
          40.77136175,
          40.83999,
          40.7037725,
          40.69146,
          40.834857,
          40.76274420000001,
          40.83615371225825,
          40.69957604,
          40.804372,
          40.802620000000005,
          40.702996999999996,
          40.808633,
          40.682809999999996,
          40.72580614,
          40.811675,
          40.7027,
          40.673347500000006,
          40.816342999999996,
          40.698398975,
          40.770845,
          40.84925,
          40.6894931,
          40.684020000000004,
          40.816567,
          40.825716,
          40.76387515,
          40.789252950000005,
          40.842240000000004,
          40.805631,
          40.724055,
          40.70745196,
          40.67635065878061,
          40.655399887239156,
          40.80079596666666,
          40.817802,
          40.743533866230806,
          40.827304999999996,
          40.758038766666665,
          40.789210749999995,
          40.801486800000006,
          40.8428421,
          40.82441,
          40.812346000000005,
          40.707174,
          40.699690000000004,
          40.72487518813339,
          40.680483800000005,
          40.6831332939092
         ],
         "yaxis": "y"
        },
        {
         "customdata": [
          [
           "1"
          ],
          [
           "1"
          ],
          [
           "1"
          ],
          [
           "1"
          ],
          [
           "1"
          ],
          [
           "1"
          ],
          [
           "1"
          ],
          [
           "1"
          ],
          [
           "1"
          ],
          [
           "1"
          ],
          [
           "1"
          ],
          [
           "1"
          ],
          [
           "1"
          ],
          [
           "1"
          ],
          [
           "1"
          ],
          [
           "1"
          ],
          [
           "1"
          ],
          [
           "1"
          ],
          [
           "1"
          ],
          [
           "1"
          ],
          [
           "1"
          ],
          [
           "1"
          ],
          [
           "1"
          ],
          [
           "1"
          ],
          [
           "1"
          ],
          [
           "1"
          ],
          [
           "1"
          ],
          [
           "1"
          ],
          [
           "1"
          ],
          [
           "1"
          ],
          [
           "1"
          ],
          [
           "1"
          ],
          [
           "1"
          ],
          [
           "1"
          ],
          [
           "1"
          ],
          [
           "1"
          ],
          [
           "1"
          ],
          [
           "1"
          ],
          [
           "1"
          ],
          [
           "1"
          ],
          [
           "1"
          ],
          [
           "1"
          ],
          [
           "1"
          ],
          [
           "1"
          ],
          [
           "1"
          ],
          [
           "1"
          ],
          [
           "1"
          ],
          [
           "1"
          ],
          [
           "1"
          ],
          [
           "1"
          ],
          [
           "1"
          ],
          [
           "1"
          ],
          [
           "1"
          ],
          [
           "1"
          ],
          [
           "1"
          ],
          [
           "1"
          ],
          [
           "1"
          ],
          [
           "1"
          ],
          [
           "1"
          ],
          [
           "1"
          ],
          [
           "1"
          ],
          [
           "1"
          ],
          [
           "1"
          ],
          [
           "1"
          ],
          [
           "1"
          ],
          [
           "1"
          ],
          [
           "1"
          ],
          [
           "1"
          ],
          [
           "1"
          ],
          [
           "1"
          ],
          [
           "1"
          ],
          [
           "1"
          ],
          [
           "1"
          ],
          [
           "1"
          ],
          [
           "1"
          ],
          [
           "1"
          ],
          [
           "1"
          ],
          [
           "1"
          ],
          [
           "1"
          ],
          [
           "1"
          ],
          [
           "1"
          ],
          [
           "1"
          ],
          [
           "1"
          ],
          [
           "1"
          ],
          [
           "1"
          ],
          [
           "1"
          ],
          [
           "1"
          ],
          [
           "1"
          ],
          [
           "1"
          ],
          [
           "1"
          ],
          [
           "1"
          ],
          [
           "1"
          ],
          [
           "1"
          ],
          [
           "1"
          ],
          [
           "1"
          ],
          [
           "1"
          ],
          [
           "1"
          ],
          [
           "1"
          ],
          [
           "1"
          ],
          [
           "1"
          ],
          [
           "1"
          ],
          [
           "1"
          ],
          [
           "1"
          ],
          [
           "1"
          ],
          [
           "1"
          ],
          [
           "1"
          ],
          [
           "1"
          ],
          [
           "1"
          ],
          [
           "1"
          ],
          [
           "1"
          ],
          [
           "1"
          ],
          [
           "1"
          ],
          [
           "1"
          ],
          [
           "1"
          ],
          [
           "1"
          ],
          [
           "1"
          ],
          [
           "1"
          ],
          [
           "1"
          ],
          [
           "1"
          ],
          [
           "1"
          ],
          [
           "1"
          ],
          [
           "1"
          ],
          [
           "1"
          ],
          [
           "1"
          ],
          [
           "1"
          ],
          [
           "1"
          ],
          [
           "1"
          ],
          [
           "1"
          ],
          [
           "1"
          ],
          [
           "1"
          ],
          [
           "1"
          ],
          [
           "1"
          ],
          [
           "1"
          ],
          [
           "1"
          ],
          [
           "1"
          ],
          [
           "1"
          ],
          [
           "1"
          ],
          [
           "1"
          ],
          [
           "1"
          ],
          [
           "1"
          ],
          [
           "1"
          ],
          [
           "1"
          ],
          [
           "1"
          ],
          [
           "1"
          ],
          [
           "1"
          ],
          [
           "1"
          ],
          [
           "1"
          ],
          [
           "1"
          ],
          [
           "1"
          ],
          [
           "1"
          ],
          [
           "1"
          ],
          [
           "1"
          ],
          [
           "1"
          ],
          [
           "1"
          ],
          [
           "1"
          ],
          [
           "1"
          ],
          [
           "1"
          ],
          [
           "1"
          ],
          [
           "1"
          ],
          [
           "1"
          ],
          [
           "1"
          ],
          [
           "1"
          ],
          [
           "1"
          ],
          [
           "1"
          ],
          [
           "1"
          ],
          [
           "1"
          ],
          [
           "1"
          ],
          [
           "1"
          ],
          [
           "1"
          ],
          [
           "1"
          ],
          [
           "1"
          ],
          [
           "1"
          ],
          [
           "1"
          ],
          [
           "1"
          ],
          [
           "1"
          ],
          [
           "1"
          ],
          [
           "1"
          ],
          [
           "1"
          ],
          [
           "1"
          ],
          [
           "1"
          ],
          [
           "1"
          ],
          [
           "1"
          ],
          [
           "1"
          ],
          [
           "1"
          ],
          [
           "1"
          ],
          [
           "1"
          ],
          [
           "1"
          ],
          [
           "1"
          ],
          [
           "1"
          ],
          [
           "1"
          ],
          [
           "1"
          ],
          [
           "1"
          ],
          [
           "1"
          ],
          [
           "1"
          ],
          [
           "1"
          ],
          [
           "1"
          ],
          [
           "1"
          ],
          [
           "1"
          ],
          [
           "1"
          ],
          [
           "1"
          ],
          [
           "1"
          ],
          [
           "1"
          ],
          [
           "1"
          ],
          [
           "1"
          ],
          [
           "1"
          ],
          [
           "1"
          ],
          [
           "1"
          ],
          [
           "1"
          ],
          [
           "1"
          ],
          [
           "1"
          ],
          [
           "1"
          ],
          [
           "1"
          ],
          [
           "1"
          ],
          [
           "1"
          ],
          [
           "1"
          ],
          [
           "1"
          ],
          [
           "1"
          ],
          [
           "1"
          ],
          [
           "1"
          ],
          [
           "1"
          ],
          [
           "1"
          ],
          [
           "1"
          ],
          [
           "1"
          ],
          [
           "1"
          ],
          [
           "1"
          ],
          [
           "1"
          ],
          [
           "1"
          ],
          [
           "1"
          ],
          [
           "1"
          ],
          [
           "1"
          ],
          [
           "1"
          ],
          [
           "1"
          ],
          [
           "1"
          ],
          [
           "1"
          ],
          [
           "1"
          ],
          [
           "1"
          ],
          [
           "1"
          ],
          [
           "1"
          ],
          [
           "1"
          ],
          [
           "1"
          ],
          [
           "1"
          ],
          [
           "1"
          ],
          [
           "1"
          ],
          [
           "1"
          ],
          [
           "1"
          ],
          [
           "1"
          ],
          [
           "1"
          ],
          [
           "1"
          ],
          [
           "1"
          ],
          [
           "1"
          ],
          [
           "1"
          ],
          [
           "1"
          ],
          [
           "1"
          ],
          [
           "1"
          ],
          [
           "1"
          ],
          [
           "1"
          ],
          [
           "1"
          ],
          [
           "1"
          ],
          [
           "1"
          ],
          [
           "1"
          ],
          [
           "1"
          ],
          [
           "1"
          ],
          [
           "1"
          ],
          [
           "1"
          ],
          [
           "1"
          ],
          [
           "1"
          ],
          [
           "1"
          ],
          [
           "1"
          ],
          [
           "1"
          ],
          [
           "1"
          ],
          [
           "1"
          ],
          [
           "1"
          ],
          [
           "1"
          ],
          [
           "1"
          ],
          [
           "1"
          ],
          [
           "1"
          ],
          [
           "1"
          ],
          [
           "1"
          ],
          [
           "1"
          ],
          [
           "1"
          ],
          [
           "1"
          ],
          [
           "1"
          ],
          [
           "1"
          ],
          [
           "1"
          ],
          [
           "1"
          ],
          [
           "1"
          ],
          [
           "1"
          ],
          [
           "1"
          ],
          [
           "1"
          ],
          [
           "1"
          ],
          [
           "1"
          ],
          [
           "1"
          ],
          [
           "1"
          ],
          [
           "1"
          ],
          [
           "1"
          ],
          [
           "1"
          ],
          [
           "1"
          ]
         ],
         "hovertemplate": "bikeBehaviorGroup=%{customdata[0]}<br>longitude=%{x}<br>latitude=%{y}<extra></extra>",
         "legendgroup": "1",
         "marker": {
          "color": "#0099C6",
          "symbol": "circle"
         },
         "mode": "markers",
         "name": "1",
         "showlegend": true,
         "type": "scattergl",
         "x": [
          -73.97207818,
          -73.96603304,
          -73.976289195,
          -74.00838676,
          -73.97768776000001,
          -73.96475000000001,
          -73.95045738333333,
          -73.98243584496308,
          -73.98911986046791,
          -73.97910123333334,
          -73.962329,
          -73.98926812,
          -73.970325085,
          -73.974023055,
          -73.95374483,
          -73.96243422603607,
          -73.94977063015493,
          -73.9442535,
          -74.00198138,
          -73.99917277,
          -73.95141306,
          -73.977112,
          -73.95883,
          -74.00645342,
          -73.98086793333333,
          -73.968512,
          -73.95427482719421,
          -73.97106147666666,
          -73.95482286500001,
          -73.9883159761505,
          -73.971789065,
          -73.987167,
          -74.00377614333333,
          -73.98892395983886,
          -73.988519,
          -73.99195347666667,
          -73.964839,
          -74.01020217000001,
          -73.95291800000001,
          -73.97632314,
          -73.97790779900932,
          -74.01211865666666,
          -74.00731876500001,
          -73.958395,
          -73.95299405666667,
          -73.95292,
          -73.95332198666667,
          -73.97719010850906,
          -74.00165877942277,
          -73.99861692094804,
          -73.98282001,
          -73.974931105,
          -73.95266611000001,
          -73.97950409146739,
          -73.987763115,
          -73.98304284358883,
          -73.97700384679032,
          -73.99291936333334,
          -73.98341664,
          -73.97992196849441,
          -73.967641,
          -73.96439607386398,
          -74.01122315809631,
          -73.980144185,
          -74.017134225,
          -73.986389,
          -73.97652441,
          -73.977549805,
          -73.925921,
          -73.962599,
          -73.9748213648421,
          -73.99011,
          -73.97408266666667,
          -73.95826,
          -73.983298795,
          -73.95585200333335,
          -73.9772920155658,
          -73.96699102,
          -73.97793186,
          -73.96222084929752,
          -73.97325939498393,
          -73.99107809333333,
          -73.99428596,
          -73.96592988,
          -73.97995483,
          -73.9919252,
          -73.99974386,
          -73.95867279666668,
          -73.984844,
          -73.9812205,
          -73.97725787333333,
          -73.98918697873926,
          -73.97283403,
          -73.9796771,
          -73.95244456666667,
          -73.96525081499999,
          -73.96476290000001,
          -73.94164801,
          -73.91255505,
          -73.97375877,
          -74.014847,
          -73.99442474,
          -73.965368755,
          -74.00236992805834,
          -73.98325996,
          -73.97113,
          -73.97321741666666,
          -74.00906135666668,
          -73.96108749658457,
          -73.94629333333334,
          -74.0062745,
          -73.96242934333334,
          -73.99834131,
          -73.98802341,
          -73.944024,
          -73.98016794956588,
          -73.99176999999999,
          -73.98274276000001,
          -73.97121407,
          -73.956981095,
          -73.97349527666667,
          -73.992939055,
          -73.95347000000001,
          -74.00669069666667,
          -73.9964297961855,
          -73.9565725,
          -73.97880088681029,
          -74.00612586,
          -73.98660335333334,
          -74.00133148666667,
          -73.95063519666667,
          -73.955327,
          -73.95241541333334,
          -73.96930587685395,
          -73.995950825,
          -73.97137,
          -73.970415805,
          -73.95856179,
          -73.98324127666667,
          -74.005664215,
          -73.99202058000002,
          -73.99400399000001,
          -74.00731586266328,
          -73.94354000000001,
          -73.98292398000001,
          -73.978951185,
          -73.98574943778483,
          -73.95241999999999,
          -73.9888195,
          -73.98501118701046,
          -73.94486275,
          -74.00722178000001,
          -73.98352377500001,
          -73.9492088,
          -73.9550859,
          -73.98908589,
          -73.9784140541687,
          -74.00166999999999,
          -73.98621148666666,
          -73.968058,
          -73.971259,
          -73.95840796924018,
          -73.973984,
          -73.97679136333333,
          -73.94989588169861,
          -73.97674258,
          -73.9489198120451,
          -73.998004095,
          -73.969053005,
          -74.00448678623995,
          -73.97060797333334,
          -74.004830955,
          -73.99436416333333,
          -73.976673105,
          -74.005524135,
          -73.97069415499999,
          -73.957722985,
          -73.94803396,
          -73.982681145,
          -74.009659825,
          -73.99005,
          -73.97209512554168,
          -73.976788,
          -73.97077580212402,
          -73.99419989547728,
          -74.0127232,
          -73.95371416333334,
          -74.00499541220665,
          -73.96069399499999,
          -73.994758125,
          -73.98810276,
          -73.97374718500001,
          -73.94716715,
          -74.009260135,
          -73.9523,
          -74.013012,
          -73.94082472333334,
          -73.98302343,
          -73.99383602500001,
          -73.94520885,
          -74.00957005253792,
          -73.93333495,
          -74.002353,
          -74.01256139333334,
          -73.98057198333333,
          -73.96295,
          -73.99740194656945,
          -73.95234393,
          -74.0104552,
          -73.95469200000001,
          -73.9664491236,
          -73.97965416000001,
          -73.981281135,
          -73.96802926666666,
          -73.986274,
          -73.98721609500001,
          -73.97903323666667,
          -73.98016577499999,
          -73.98385613333333,
          -73.98805,
          -73.95595393333333,
          -73.96827675343832,
          -73.94992810999999,
          -73.95814724333333,
          -73.981013,
          -73.98513722333333,
          -73.99711614666667,
          -73.9796351834704,
          -74.005627945,
          -73.99688939999999,
          -73.96885479,
          -73.9756731589546,
          -74.00176801,
          -73.95523137333333,
          -73.998522025,
          -73.96759686499999,
          -74.01043382,
          -73.995209095,
          -73.989717865,
          -74.013942,
          -74.001384973526,
          -73.99188920907466,
          -73.95868338333334,
          -73.9567528,
          -73.96451597653198,
          -73.99721739666667,
          -73.96526897499999,
          -74.00218427181244,
          -73.9718789275,
          -74.00165855884552,
          -73.957481,
          -73.95739,
          -73.9468209,
          -74.00026396999999,
          -73.96789594666667,
          -73.98277722,
          -73.96751018500001,
          -73.971114865,
          -73.9747,
          -73.98672685062981,
          -73.9739,
          -74.00940396666667,
          -73.99063183999999,
          -74.00330011533333,
          -73.93968604999999,
          -73.94940211846922,
          -73.98274442695677,
          -73.96214729333333,
          -73.9605909503,
          -73.96599595389176,
          -73.971592,
          -73.99296386333333,
          -73.968896,
          -73.9825395,
          -73.94636066666668,
          -73.996123245,
          -73.95327950000001,
          -73.99997880000001,
          -74.00234491,
          -73.98949487048148,
          -73.95546745253436,
          -73.95451,
          -73.99714900000001,
          -73.94417,
          -74.00887304,
          -73.97372995,
          -73.99505066,
          -74.00015545666666,
          -74.00677787,
          -73.95608,
          -73.96040500000001,
          -73.97114587195,
          -74.00933396666666,
          -73.985275,
          -73.96215719333334,
          -73.97575756500001,
          -73.97087992
         ],
         "xaxis": "x",
         "y": [
          40.757147790000005,
          40.757973109999995,
          40.717821215,
          40.703799200000006,
          40.725213055,
          40.7945,
          40.775770136666665,
          40.74307718458829,
          40.76373655931954,
          40.78262603333334,
          40.7585625,
          40.70303396,
          40.75323099,
          40.759710899999995,
          40.74255148,
          40.794033304092764,
          40.78141476644721,
          40.715571499999996,
          40.71926142,
          40.684751199999994,
          40.711673755,
          40.78679485,
          40.73632,
          40.736685963333336,
          40.691977220000005,
          40.67685,
          40.774779224478635,
          40.763670106666666,
          40.7689739,
          40.73491135186847,
          40.693082785,
          40.695065,
          40.74311616333333,
          40.778004675849324,
          40.7702565,
          40.71215402333333,
          40.791270000000004,
          40.71291212,
          40.676368,
          40.68382602,
          40.68506803654088,
          40.70376794,
          40.707064779999996,
          40.72853,
          40.727390613333334,
          40.736275,
          40.76675871333333,
          40.779789324141305,
          40.72494686179708,
          40.74918512096639,
          40.6772742,
          40.689810175,
          40.79183676666666,
          40.72746410346197,
          40.712690210000005,
          40.689621943951664,
          40.79313490493332,
          40.692263340000004,
          40.78442990666667,
          40.752165140310986,
          40.755293,
          40.77078862513553,
          40.71485175263126,
          40.755002770000004,
          40.708346989999995,
          40.725864,
          40.748950300000004,
          40.77856695,
          40.761584,
          40.7164435,
          40.67476461290326,
          40.732647,
          40.794110133333334,
          40.732659999999996,
          40.718502055,
          40.772864533333326,
          40.749498773012604,
          40.804213,
          40.720828170000004,
          40.764718759721696,
          40.7904528269836,
          40.766797903333334,
          40.767181386666664,
          40.754557155,
          40.722992039999994,
          40.721100815,
          40.71602109,
          40.71696789666667,
          40.713126,
          40.714213,
          40.737784500000004,
          40.775159767171175,
          40.784999895,
          40.68683204,
          40.78108546666667,
          40.71044577000001,
          40.68851517,
          40.7869948,
          40.7747879,
          40.668088,
          40.711444,
          40.73544217,
          40.691960175,
          40.72168495411869,
          40.74992003,
          40.74714,
          40.75236944666667,
          40.73646456666666,
          40.70949875425385,
          40.78181406666667,
          40.7182855,
          40.712736619999994,
          40.71305272,
          40.75181744,
          40.711863,
          40.75441393692642,
          40.75461,
          40.77209250333333,
          40.75022396,
          40.712868220000004,
          40.67740990000001,
          40.714066835,
          40.73063,
          40.70970652666667,
          40.738046071241385,
          40.802347,
          40.747573979477394,
          40.70530977,
          40.76623280333333,
          40.74218401,
          40.70918061333334,
          40.783501799999996,
          40.72274450333333,
          40.75763213869722,
          40.695128225000005,
          40.78275,
          40.78822115,
          40.77314218,
          40.761858753333335,
          40.722437985,
          40.68982516666667,
          40.71076214,
          40.74283594288634,
          40.722625,
          40.77698682,
          40.683124945,
          40.781051996701116,
          40.71924,
          40.767627,
          40.68861147584695,
          40.70870384,
          40.70862122,
          40.67281575,
          40.778534,
          40.73232197,
          40.68917947333333,
          40.763161290902666,
          40.707873,
          40.69224126,
          40.79163723333333,
          40.766684,
          40.7687620146548,
          40.730563000000004,
          40.72218729,
          40.72430459499847,
          40.76046131,
          40.782454087639934,
          40.735324135,
          40.75001993,
          40.72453877386739,
          40.79724803333333,
          40.73535399,
          40.72869272333333,
          40.78524686,
          40.71146382,
          40.758280825,
          40.771129134999995,
          40.775369025,
          40.763440790000004,
          40.724055245,
          40.77237,
          40.7630259714026,
          40.68661255,
          40.697950157847714,
          40.75865660466545,
          40.702550825,
          40.77834134333333,
          40.70834897183198,
          40.778131200000004,
          40.680611,
          40.75131803666667,
          40.77896792,
          40.7839638,
          40.70471785,
          40.798785949999996,
          40.71497885,
          40.751401216666665,
          40.74396607,
          40.702771795,
          40.808442,
          40.713227947586354,
          40.79498795,
          40.752694,
          40.701147426666665,
          40.72124920000001,
          40.802692,
          40.75469187511301,
          40.714133055000005,
          40.71748776,
          40.805159,
          40.800836149999995,
          40.71246602,
          40.787208845,
          40.679625933333334,
          40.720746999999996,
          40.752996205,
          40.679717866666664,
          40.717399865,
          40.692143963333336,
          40.74964,
          40.8035768,
          40.7074299813919,
          40.77289213333333,
          40.778751293333336,
          40.689888,
          40.77511136666667,
          40.763609263333336,
          40.6613754573002,
          40.71450475499999,
          40.714161945,
          40.689407235000004,
          40.68094486173865,
          40.75066393,
          40.721198736666665,
          40.73226399,
          40.759345005,
          40.70905623,
          40.68815295,
          40.699917775,
          40.701907,
          40.74102150900266,
          40.691352752259895,
          40.7190065,
          40.77573017,
          40.77621414060757,
          40.71078281333333,
          40.76312592,
          40.750181563256824,
          40.7546010513,
          40.72494672359416,
          40.78578505,
          40.714690000000004,
          40.77246085,
          40.732241095,
          40.75204587333333,
          40.77528337666667,
          40.69610213,
          40.67502085,
          40.78839,
          40.70140308628863,
          40.7921,
          40.716166693333335,
          40.686744149999996,
          40.74947858433333,
          40.80455575,
          40.71323475407625,
          40.756743653015896,
          40.773508666666665,
          40.7981858,
          40.68323882730171,
          40.793846800000004,
          40.697734090000004,
          40.693261,
          40.7521345,
          40.77829676666667,
          40.690892860000005,
          40.787900500000006,
          40.691651915,
          40.714948035,
          40.69241814628923,
          40.71844656484736,
          40.74731,
          40.698619,
          40.725285,
          40.70717918,
          40.69178215,
          40.733659835,
          40.71907012333333,
          40.71907717333334,
          40.709340000000005,
          40.818298999999996,
          40.801343200000005,
          40.71880662333333,
          40.75496,
          40.694087456666665,
          40.723776805,
          40.67296795
         ],
         "yaxis": "y"
        },
        {
         "customdata": [
          [
           "0"
          ],
          [
           "0"
          ],
          [
           "0"
          ],
          [
           "0"
          ],
          [
           "0"
          ],
          [
           "0"
          ],
          [
           "0"
          ],
          [
           "0"
          ],
          [
           "0"
          ],
          [
           "0"
          ],
          [
           "0"
          ],
          [
           "0"
          ],
          [
           "0"
          ],
          [
           "0"
          ],
          [
           "0"
          ],
          [
           "0"
          ],
          [
           "0"
          ],
          [
           "0"
          ],
          [
           "0"
          ],
          [
           "0"
          ],
          [
           "0"
          ],
          [
           "0"
          ],
          [
           "0"
          ],
          [
           "0"
          ],
          [
           "0"
          ],
          [
           "0"
          ],
          [
           "0"
          ],
          [
           "0"
          ],
          [
           "0"
          ],
          [
           "0"
          ],
          [
           "0"
          ],
          [
           "0"
          ],
          [
           "0"
          ],
          [
           "0"
          ],
          [
           "0"
          ],
          [
           "0"
          ],
          [
           "0"
          ],
          [
           "0"
          ],
          [
           "0"
          ],
          [
           "0"
          ],
          [
           "0"
          ],
          [
           "0"
          ],
          [
           "0"
          ],
          [
           "0"
          ],
          [
           "0"
          ],
          [
           "0"
          ],
          [
           "0"
          ],
          [
           "0"
          ],
          [
           "0"
          ],
          [
           "0"
          ],
          [
           "0"
          ],
          [
           "0"
          ],
          [
           "0"
          ],
          [
           "0"
          ],
          [
           "0"
          ],
          [
           "0"
          ],
          [
           "0"
          ],
          [
           "0"
          ],
          [
           "0"
          ],
          [
           "0"
          ],
          [
           "0"
          ],
          [
           "0"
          ],
          [
           "0"
          ],
          [
           "0"
          ],
          [
           "0"
          ],
          [
           "0"
          ],
          [
           "0"
          ],
          [
           "0"
          ],
          [
           "0"
          ],
          [
           "0"
          ],
          [
           "0"
          ],
          [
           "0"
          ],
          [
           "0"
          ],
          [
           "0"
          ],
          [
           "0"
          ],
          [
           "0"
          ],
          [
           "0"
          ],
          [
           "0"
          ],
          [
           "0"
          ],
          [
           "0"
          ],
          [
           "0"
          ],
          [
           "0"
          ],
          [
           "0"
          ],
          [
           "0"
          ],
          [
           "0"
          ],
          [
           "0"
          ],
          [
           "0"
          ],
          [
           "0"
          ],
          [
           "0"
          ],
          [
           "0"
          ],
          [
           "0"
          ],
          [
           "0"
          ],
          [
           "0"
          ],
          [
           "0"
          ],
          [
           "0"
          ],
          [
           "0"
          ],
          [
           "0"
          ],
          [
           "0"
          ],
          [
           "0"
          ],
          [
           "0"
          ],
          [
           "0"
          ],
          [
           "0"
          ],
          [
           "0"
          ],
          [
           "0"
          ],
          [
           "0"
          ],
          [
           "0"
          ],
          [
           "0"
          ],
          [
           "0"
          ],
          [
           "0"
          ],
          [
           "0"
          ],
          [
           "0"
          ],
          [
           "0"
          ],
          [
           "0"
          ],
          [
           "0"
          ],
          [
           "0"
          ],
          [
           "0"
          ],
          [
           "0"
          ],
          [
           "0"
          ],
          [
           "0"
          ],
          [
           "0"
          ],
          [
           "0"
          ],
          [
           "0"
          ],
          [
           "0"
          ],
          [
           "0"
          ],
          [
           "0"
          ],
          [
           "0"
          ],
          [
           "0"
          ],
          [
           "0"
          ],
          [
           "0"
          ],
          [
           "0"
          ],
          [
           "0"
          ],
          [
           "0"
          ],
          [
           "0"
          ],
          [
           "0"
          ],
          [
           "0"
          ],
          [
           "0"
          ],
          [
           "0"
          ],
          [
           "0"
          ],
          [
           "0"
          ],
          [
           "0"
          ],
          [
           "0"
          ],
          [
           "0"
          ],
          [
           "0"
          ],
          [
           "0"
          ],
          [
           "0"
          ],
          [
           "0"
          ],
          [
           "0"
          ],
          [
           "0"
          ],
          [
           "0"
          ],
          [
           "0"
          ],
          [
           "0"
          ],
          [
           "0"
          ],
          [
           "0"
          ],
          [
           "0"
          ],
          [
           "0"
          ],
          [
           "0"
          ],
          [
           "0"
          ],
          [
           "0"
          ],
          [
           "0"
          ],
          [
           "0"
          ],
          [
           "0"
          ],
          [
           "0"
          ],
          [
           "0"
          ],
          [
           "0"
          ],
          [
           "0"
          ],
          [
           "0"
          ],
          [
           "0"
          ],
          [
           "0"
          ],
          [
           "0"
          ],
          [
           "0"
          ],
          [
           "0"
          ],
          [
           "0"
          ],
          [
           "0"
          ],
          [
           "0"
          ],
          [
           "0"
          ],
          [
           "0"
          ],
          [
           "0"
          ],
          [
           "0"
          ],
          [
           "0"
          ],
          [
           "0"
          ],
          [
           "0"
          ],
          [
           "0"
          ],
          [
           "0"
          ],
          [
           "0"
          ],
          [
           "0"
          ],
          [
           "0"
          ],
          [
           "0"
          ],
          [
           "0"
          ],
          [
           "0"
          ],
          [
           "0"
          ],
          [
           "0"
          ],
          [
           "0"
          ],
          [
           "0"
          ],
          [
           "0"
          ],
          [
           "0"
          ],
          [
           "0"
          ],
          [
           "0"
          ],
          [
           "0"
          ],
          [
           "0"
          ],
          [
           "0"
          ],
          [
           "0"
          ],
          [
           "0"
          ],
          [
           "0"
          ],
          [
           "0"
          ],
          [
           "0"
          ],
          [
           "0"
          ],
          [
           "0"
          ],
          [
           "0"
          ],
          [
           "0"
          ],
          [
           "0"
          ],
          [
           "0"
          ],
          [
           "0"
          ],
          [
           "0"
          ],
          [
           "0"
          ],
          [
           "0"
          ],
          [
           "0"
          ],
          [
           "0"
          ],
          [
           "0"
          ],
          [
           "0"
          ],
          [
           "0"
          ],
          [
           "0"
          ],
          [
           "0"
          ],
          [
           "0"
          ],
          [
           "0"
          ],
          [
           "0"
          ],
          [
           "0"
          ],
          [
           "0"
          ],
          [
           "0"
          ],
          [
           "0"
          ],
          [
           "0"
          ],
          [
           "0"
          ],
          [
           "0"
          ],
          [
           "0"
          ],
          [
           "0"
          ],
          [
           "0"
          ],
          [
           "0"
          ],
          [
           "0"
          ],
          [
           "0"
          ],
          [
           "0"
          ],
          [
           "0"
          ],
          [
           "0"
          ],
          [
           "0"
          ],
          [
           "0"
          ],
          [
           "0"
          ],
          [
           "0"
          ],
          [
           "0"
          ],
          [
           "0"
          ],
          [
           "0"
          ],
          [
           "0"
          ],
          [
           "0"
          ],
          [
           "0"
          ],
          [
           "0"
          ],
          [
           "0"
          ],
          [
           "0"
          ],
          [
           "0"
          ],
          [
           "0"
          ],
          [
           "0"
          ],
          [
           "0"
          ],
          [
           "0"
          ],
          [
           "0"
          ],
          [
           "0"
          ],
          [
           "0"
          ],
          [
           "0"
          ],
          [
           "0"
          ],
          [
           "0"
          ],
          [
           "0"
          ],
          [
           "0"
          ],
          [
           "0"
          ],
          [
           "0"
          ],
          [
           "0"
          ],
          [
           "0"
          ],
          [
           "0"
          ],
          [
           "0"
          ],
          [
           "0"
          ],
          [
           "0"
          ],
          [
           "0"
          ],
          [
           "0"
          ],
          [
           "0"
          ],
          [
           "0"
          ],
          [
           "0"
          ],
          [
           "0"
          ],
          [
           "0"
          ],
          [
           "0"
          ],
          [
           "0"
          ],
          [
           "0"
          ],
          [
           "0"
          ],
          [
           "0"
          ],
          [
           "0"
          ],
          [
           "0"
          ],
          [
           "0"
          ],
          [
           "0"
          ],
          [
           "0"
          ],
          [
           "0"
          ],
          [
           "0"
          ],
          [
           "0"
          ],
          [
           "0"
          ],
          [
           "0"
          ],
          [
           "0"
          ],
          [
           "0"
          ],
          [
           "0"
          ],
          [
           "0"
          ],
          [
           "0"
          ],
          [
           "0"
          ],
          [
           "0"
          ],
          [
           "0"
          ],
          [
           "0"
          ],
          [
           "0"
          ],
          [
           "0"
          ],
          [
           "0"
          ],
          [
           "0"
          ],
          [
           "0"
          ],
          [
           "0"
          ],
          [
           "0"
          ],
          [
           "0"
          ],
          [
           "0"
          ],
          [
           "0"
          ],
          [
           "0"
          ],
          [
           "0"
          ],
          [
           "0"
          ],
          [
           "0"
          ],
          [
           "0"
          ],
          [
           "0"
          ],
          [
           "0"
          ],
          [
           "0"
          ],
          [
           "0"
          ],
          [
           "0"
          ],
          [
           "0"
          ],
          [
           "0"
          ],
          [
           "0"
          ],
          [
           "0"
          ],
          [
           "0"
          ],
          [
           "0"
          ],
          [
           "0"
          ],
          [
           "0"
          ],
          [
           "0"
          ],
          [
           "0"
          ],
          [
           "0"
          ],
          [
           "0"
          ],
          [
           "0"
          ],
          [
           "0"
          ],
          [
           "0"
          ],
          [
           "0"
          ],
          [
           "0"
          ],
          [
           "0"
          ],
          [
           "0"
          ],
          [
           "0"
          ],
          [
           "0"
          ],
          [
           "0"
          ],
          [
           "0"
          ],
          [
           "0"
          ],
          [
           "0"
          ],
          [
           "0"
          ],
          [
           "0"
          ],
          [
           "0"
          ],
          [
           "0"
          ],
          [
           "0"
          ],
          [
           "0"
          ],
          [
           "0"
          ],
          [
           "0"
          ],
          [
           "0"
          ],
          [
           "0"
          ],
          [
           "0"
          ],
          [
           "0"
          ],
          [
           "0"
          ],
          [
           "0"
          ],
          [
           "0"
          ],
          [
           "0"
          ],
          [
           "0"
          ],
          [
           "0"
          ],
          [
           "0"
          ],
          [
           "0"
          ],
          [
           "0"
          ],
          [
           "0"
          ],
          [
           "0"
          ],
          [
           "0"
          ],
          [
           "0"
          ],
          [
           "0"
          ],
          [
           "0"
          ],
          [
           "0"
          ],
          [
           "0"
          ],
          [
           "0"
          ],
          [
           "0"
          ],
          [
           "0"
          ],
          [
           "0"
          ],
          [
           "0"
          ],
          [
           "0"
          ],
          [
           "0"
          ],
          [
           "0"
          ],
          [
           "0"
          ],
          [
           "0"
          ],
          [
           "0"
          ],
          [
           "0"
          ],
          [
           "0"
          ],
          [
           "0"
          ],
          [
           "0"
          ],
          [
           "0"
          ],
          [
           "0"
          ],
          [
           "0"
          ],
          [
           "0"
          ],
          [
           "0"
          ],
          [
           "0"
          ],
          [
           "0"
          ],
          [
           "0"
          ],
          [
           "0"
          ],
          [
           "0"
          ],
          [
           "0"
          ],
          [
           "0"
          ],
          [
           "0"
          ],
          [
           "0"
          ],
          [
           "0"
          ],
          [
           "0"
          ],
          [
           "0"
          ],
          [
           "0"
          ],
          [
           "0"
          ],
          [
           "0"
          ],
          [
           "0"
          ],
          [
           "0"
          ],
          [
           "0"
          ],
          [
           "0"
          ],
          [
           "0"
          ],
          [
           "0"
          ],
          [
           "0"
          ],
          [
           "0"
          ],
          [
           "0"
          ],
          [
           "0"
          ],
          [
           "0"
          ],
          [
           "0"
          ],
          [
           "0"
          ],
          [
           "0"
          ],
          [
           "0"
          ],
          [
           "0"
          ],
          [
           "0"
          ],
          [
           "0"
          ],
          [
           "0"
          ],
          [
           "0"
          ],
          [
           "0"
          ],
          [
           "0"
          ],
          [
           "0"
          ],
          [
           "0"
          ],
          [
           "0"
          ],
          [
           "0"
          ],
          [
           "0"
          ],
          [
           "0"
          ],
          [
           "0"
          ],
          [
           "0"
          ],
          [
           "0"
          ],
          [
           "0"
          ],
          [
           "0"
          ],
          [
           "0"
          ],
          [
           "0"
          ],
          [
           "0"
          ],
          [
           "0"
          ],
          [
           "0"
          ],
          [
           "0"
          ],
          [
           "0"
          ],
          [
           "0"
          ],
          [
           "0"
          ],
          [
           "0"
          ],
          [
           "0"
          ],
          [
           "0"
          ],
          [
           "0"
          ],
          [
           "0"
          ],
          [
           "0"
          ],
          [
           "0"
          ],
          [
           "0"
          ],
          [
           "0"
          ],
          [
           "0"
          ],
          [
           "0"
          ],
          [
           "0"
          ],
          [
           "0"
          ],
          [
           "0"
          ],
          [
           "0"
          ],
          [
           "0"
          ],
          [
           "0"
          ],
          [
           "0"
          ],
          [
           "0"
          ],
          [
           "0"
          ],
          [
           "0"
          ],
          [
           "0"
          ],
          [
           "0"
          ],
          [
           "0"
          ],
          [
           "0"
          ],
          [
           "0"
          ],
          [
           "0"
          ],
          [
           "0"
          ],
          [
           "0"
          ],
          [
           "0"
          ],
          [
           "0"
          ],
          [
           "0"
          ],
          [
           "0"
          ],
          [
           "0"
          ],
          [
           "0"
          ],
          [
           "0"
          ],
          [
           "0"
          ],
          [
           "0"
          ],
          [
           "0"
          ],
          [
           "0"
          ],
          [
           "0"
          ],
          [
           "0"
          ],
          [
           "0"
          ],
          [
           "0"
          ],
          [
           "0"
          ],
          [
           "0"
          ],
          [
           "0"
          ],
          [
           "0"
          ],
          [
           "0"
          ],
          [
           "0"
          ],
          [
           "0"
          ],
          [
           "0"
          ],
          [
           "0"
          ],
          [
           "0"
          ],
          [
           "0"
          ],
          [
           "0"
          ],
          [
           "0"
          ],
          [
           "0"
          ],
          [
           "0"
          ],
          [
           "0"
          ],
          [
           "0"
          ],
          [
           "0"
          ],
          [
           "0"
          ],
          [
           "0"
          ],
          [
           "0"
          ],
          [
           "0"
          ],
          [
           "0"
          ],
          [
           "0"
          ],
          [
           "0"
          ],
          [
           "0"
          ],
          [
           "0"
          ],
          [
           "0"
          ],
          [
           "0"
          ],
          [
           "0"
          ],
          [
           "0"
          ],
          [
           "0"
          ],
          [
           "0"
          ],
          [
           "0"
          ],
          [
           "0"
          ],
          [
           "0"
          ],
          [
           "0"
          ],
          [
           "0"
          ],
          [
           "0"
          ],
          [
           "0"
          ],
          [
           "0"
          ],
          [
           "0"
          ],
          [
           "0"
          ],
          [
           "0"
          ],
          [
           "0"
          ],
          [
           "0"
          ],
          [
           "0"
          ],
          [
           "0"
          ],
          [
           "0"
          ],
          [
           "0"
          ],
          [
           "0"
          ],
          [
           "0"
          ],
          [
           "0"
          ],
          [
           "0"
          ],
          [
           "0"
          ],
          [
           "0"
          ],
          [
           "0"
          ],
          [
           "0"
          ],
          [
           "0"
          ],
          [
           "0"
          ],
          [
           "0"
          ],
          [
           "0"
          ],
          [
           "0"
          ],
          [
           "0"
          ],
          [
           "0"
          ],
          [
           "0"
          ],
          [
           "0"
          ],
          [
           "0"
          ],
          [
           "0"
          ],
          [
           "0"
          ],
          [
           "0"
          ],
          [
           "0"
          ],
          [
           "0"
          ],
          [
           "0"
          ],
          [
           "0"
          ],
          [
           "0"
          ],
          [
           "0"
          ],
          [
           "0"
          ],
          [
           "0"
          ],
          [
           "0"
          ],
          [
           "0"
          ],
          [
           "0"
          ],
          [
           "0"
          ],
          [
           "0"
          ],
          [
           "0"
          ],
          [
           "0"
          ],
          [
           "0"
          ],
          [
           "0"
          ],
          [
           "0"
          ],
          [
           "0"
          ],
          [
           "0"
          ],
          [
           "0"
          ],
          [
           "0"
          ],
          [
           "0"
          ],
          [
           "0"
          ],
          [
           "0"
          ],
          [
           "0"
          ],
          [
           "0"
          ],
          [
           "0"
          ],
          [
           "0"
          ],
          [
           "0"
          ],
          [
           "0"
          ],
          [
           "0"
          ],
          [
           "0"
          ],
          [
           "0"
          ],
          [
           "0"
          ],
          [
           "0"
          ],
          [
           "0"
          ],
          [
           "0"
          ],
          [
           "0"
          ],
          [
           "0"
          ],
          [
           "0"
          ],
          [
           "0"
          ],
          [
           "0"
          ],
          [
           "0"
          ],
          [
           "0"
          ],
          [
           "0"
          ],
          [
           "0"
          ],
          [
           "0"
          ],
          [
           "0"
          ],
          [
           "0"
          ],
          [
           "0"
          ],
          [
           "0"
          ],
          [
           "0"
          ],
          [
           "0"
          ],
          [
           "0"
          ],
          [
           "0"
          ],
          [
           "0"
          ],
          [
           "0"
          ],
          [
           "0"
          ],
          [
           "0"
          ],
          [
           "0"
          ],
          [
           "0"
          ],
          [
           "0"
          ],
          [
           "0"
          ],
          [
           "0"
          ],
          [
           "0"
          ],
          [
           "0"
          ],
          [
           "0"
          ],
          [
           "0"
          ],
          [
           "0"
          ],
          [
           "0"
          ],
          [
           "0"
          ],
          [
           "0"
          ],
          [
           "0"
          ],
          [
           "0"
          ],
          [
           "0"
          ],
          [
           "0"
          ],
          [
           "0"
          ],
          [
           "0"
          ],
          [
           "0"
          ],
          [
           "0"
          ],
          [
           "0"
          ],
          [
           "0"
          ],
          [
           "0"
          ],
          [
           "0"
          ],
          [
           "0"
          ],
          [
           "0"
          ],
          [
           "0"
          ],
          [
           "0"
          ],
          [
           "0"
          ],
          [
           "0"
          ],
          [
           "0"
          ],
          [
           "0"
          ],
          [
           "0"
          ],
          [
           "0"
          ],
          [
           "0"
          ],
          [
           "0"
          ],
          [
           "0"
          ],
          [
           "0"
          ],
          [
           "0"
          ],
          [
           "0"
          ],
          [
           "0"
          ],
          [
           "0"
          ],
          [
           "0"
          ],
          [
           "0"
          ],
          [
           "0"
          ],
          [
           "0"
          ],
          [
           "0"
          ],
          [
           "0"
          ],
          [
           "0"
          ],
          [
           "0"
          ],
          [
           "0"
          ],
          [
           "0"
          ],
          [
           "0"
          ],
          [
           "0"
          ],
          [
           "0"
          ],
          [
           "0"
          ],
          [
           "0"
          ],
          [
           "0"
          ],
          [
           "0"
          ],
          [
           "0"
          ],
          [
           "0"
          ],
          [
           "0"
          ],
          [
           "0"
          ],
          [
           "0"
          ],
          [
           "0"
          ],
          [
           "0"
          ],
          [
           "0"
          ],
          [
           "0"
          ],
          [
           "0"
          ],
          [
           "0"
          ],
          [
           "0"
          ],
          [
           "0"
          ],
          [
           "0"
          ],
          [
           "0"
          ],
          [
           "0"
          ],
          [
           "0"
          ],
          [
           "0"
          ],
          [
           "0"
          ],
          [
           "0"
          ],
          [
           "0"
          ],
          [
           "0"
          ],
          [
           "0"
          ],
          [
           "0"
          ],
          [
           "0"
          ],
          [
           "0"
          ],
          [
           "0"
          ],
          [
           "0"
          ],
          [
           "0"
          ],
          [
           "0"
          ],
          [
           "0"
          ],
          [
           "0"
          ],
          [
           "0"
          ],
          [
           "0"
          ],
          [
           "0"
          ],
          [
           "0"
          ],
          [
           "0"
          ],
          [
           "0"
          ],
          [
           "0"
          ],
          [
           "0"
          ],
          [
           "0"
          ],
          [
           "0"
          ],
          [
           "0"
          ],
          [
           "0"
          ],
          [
           "0"
          ],
          [
           "0"
          ],
          [
           "0"
          ],
          [
           "0"
          ]
         ],
         "hovertemplate": "bikeBehaviorGroup=%{customdata[0]}<br>longitude=%{x}<br>latitude=%{y}<extra></extra>",
         "legendgroup": "0",
         "marker": {
          "color": "#DD4477",
          "symbol": "circle"
         },
         "mode": "markers",
         "name": "0",
         "showlegend": true,
         "type": "scattergl",
         "x": [
          -73.905528,
          -73.969222865,
          -73.903944,
          -73.96910600000001,
          -73.896293,
          -73.92622304999999,
          -73.91226999999999,
          -73.97440128028394,
          -74.009106135,
          -73.88661,
          -73.903178,
          -73.929737,
          -73.99344013521196,
          -74.018846,
          -73.937648,
          -73.89685300000001,
          -74.0393,
          -73.98163220215,
          -73.94923596998977,
          -73.939789,
          -74.00536284474754,
          -73.98215353488922,
          -73.96158901926788,
          -73.94485909,
          -74.00014501,
          -73.898589,
          -73.98616890089225,
          -74.016562,
          -73.98671314510727,
          -73.981687,
          -73.90079,
          -74.01140500000001,
          -73.926994,
          -74.00944100000001,
          -73.902534,
          -73.985416875,
          -73.888587,
          -73.96552666666666,
          -73.903869,
          -73.89483100000001,
          -73.92524,
          -73.91431800000001,
          -73.918316,
          -74.008957,
          -73.930486,
          -73.951335,
          -73.916661,
          -73.96055619395065,
          -74.00413691997528,
          -73.97100985,
          -74.00860906,
          -73.903927,
          -74.001328,
          -73.95900985,
          -73.95941413333334,
          -73.95736477958678,
          -73.90241999999999,
          -73.96561393531037,
          -73.99608897591304,
          -74.003754,
          -73.911034,
          -73.92851999999999,
          -73.94229595446396,
          -73.98864992256165,
          -73.97058,
          -73.96818076525,
          -73.965633035,
          -73.95345714999999,
          -73.939929,
          -73.920827,
          -73.99127786970281,
          -74.03281,
          -73.967416,
          -74.00438618270684,
          -73.90208,
          -73.977724145,
          -73.995068,
          -73.99220011053086,
          -73.98013909795952,
          -74.021506,
          -73.9597,
          -73.9391222,
          -73.97960287705803,
          -73.909513,
          -74.020105,
          -73.908964,
          -73.93477720000001,
          -74.00348579499999,
          -73.9891903102398,
          -73.928947,
          -73.89794,
          -74.00264,
          -74.000472,
          -73.91116,
          -73.96226227283478,
          -73.926363,
          -74.000057,
          -73.95206,
          -73.97757,
          -73.9271440551014,
          -74.03354063630105,
          -74.01324699999999,
          -73.912297,
          -74.046304543,
          -73.95865200975035,
          -73.9109,
          -73.96060706,
          -73.92864705,
          -73.93217299999999,
          -73.925675,
          -73.99663699999999,
          -73.97989789855384,
          -73.972212,
          -73.898385,
          -73.98409207,
          -73.90878199999999,
          -73.92370600000001,
          -73.96961715,
          -74.002751,
          -74.03375890000001,
          -73.999057045,
          -74.01486587801742,
          -73.940493,
          -73.90798000000001,
          -73.90474,
          -73.94544599999999,
          -73.98199893,
          -73.93734,
          -73.98808416,
          -73.99316132068634,
          -73.99510189890863,
          -73.99645297500001,
          -73.93515,
          -73.97718340158461,
          -73.92799185000001,
          -73.983864,
          -74.03223305940628,
          -73.99200509,
          -73.91956,
          -73.99116039276123,
          -73.916894,
          -73.980420235,
          -73.96417083231535,
          -73.90108000000001,
          -73.977335,
          -73.95611190000001,
          -73.911918,
          -73.93366999999999,
          -73.92403110000001,
          -74.047726625,
          -73.9478086206716,
          -73.998194,
          -73.95202900000001,
          -73.959089,
          -73.98775212999999,
          -73.9127,
          -74.02324,
          -74.04105,
          -73.94800901412964,
          -73.9422369501648,
          -74.015726,
          -73.941275,
          -74.03768330812454,
          -73.933872,
          -73.906127,
          -74.0487903356552,
          -73.99194379889678,
          -73.95910263061523,
          -73.97839687999999,
          -73.98316936,
          -73.931308,
          -73.97750400000001,
          -73.98255,
          -73.93986575,
          -73.98383796215056,
          -73.99453948,
          -73.94968539476396,
          -73.893721,
          -73.91288,
          -74.005144,
          -73.92272,
          -73.97484113,
          -73.90266,
          -73.998392895,
          -73.998698965,
          -74.017651,
          -73.997852835,
          -74.01195577962685,
          -73.98469095230865,
          -73.907199,
          -73.91219,
          -73.930562,
          -74.00935491117905,
          -73.9169859,
          -73.89615,
          -73.942722,
          -73.9582695,
          -73.99951279999999,
          -73.97499599999999,
          -73.97822099999999,
          -73.92832159996033,
          -73.972573,
          -73.98684200000001,
          -73.93641,
          -73.98208984,
          -73.939336,
          -73.981693165,
          -73.941343,
          -73.90841999999999,
          -73.90238199999999,
          -73.910989,
          -73.90271,
          -73.97908504388809,
          -73.93735520000001,
          -73.99372222,
          -73.9559590408249,
          -73.91675712789632,
          -73.95591541698711,
          -73.91135899999999,
          -73.8855,
          -74.022141,
          -73.95041520000001,
          -73.931537,
          -73.96968901,
          -74.012384,
          -73.94733288,
          -73.91897522132396,
          -74.0014172,
          -74.01507,
          -73.98417077803421,
          -73.912715,
          -73.910765,
          -74.013587,
          -73.93039,
          -73.961199225,
          -73.99704374,
          -74.00242382,
          -73.93077,
          -73.938037,
          -73.90675999999999,
          -74.00354146957396,
          -73.97872810000001,
          -73.9397405,
          -73.951346,
          -73.9286079,
          -73.931205,
          -73.95643107,
          -73.9780819708023,
          -73.95621,
          -73.91605,
          -73.901824,
          -73.902185,
          -73.9591115,
          -73.94837348244191,
          -73.914311,
          -73.991007,
          -73.97658401889038,
          -73.96638207294083,
          -73.8931429,
          -73.938423,
          -73.98501142859459,
          -73.897366,
          -73.91119016549109,
          -73.90983100000001,
          -73.99331394,
          -73.938787,
          -74.07145500183104,
          -73.889914,
          -73.983293,
          -73.945948225,
          -73.91583997015476,
          -73.94772115,
          -74.01472614058304,
          -73.9149,
          -73.921631,
          -73.98620786,
          -73.95333588123322,
          -73.927311,
          -73.912042,
          -73.90463199999999,
          -73.9634,
          -73.908731,
          -73.89533,
          -74.00412082672119,
          -73.919365,
          -73.97355584499999,
          -74.00771789500001,
          -73.91758318808459,
          -73.973868,
          -73.9536,
          -73.9233555,
          -73.9596081,
          -73.97881150245668,
          -73.912212,
          -74.044247311,
          -74.02715027332306,
          -73.916916847229,
          -73.94882,
          -73.936515,
          -73.990993,
          -73.984276,
          -73.977739,
          -73.92062902450563,
          -73.912402,
          -73.98983000854491,
          -73.950988,
          -73.91008000000001,
          -73.921417796978,
          -73.92851,
          -73.91181,
          -73.97988987524033,
          -73.993037,
          -73.98257732391356,
          -73.901614,
          -73.914142,
          -73.979681,
          -73.935662,
          -73.924689,
          -73.97382795810701,
          -73.91171886307907,
          -73.911259,
          -73.89148,
          -73.99135318901189,
          -73.98165557,
          -73.94791195,
          -73.920603,
          -73.9805442094803,
          -73.88187582910001,
          -73.898237,
          -73.919685,
          -73.917135,
          -73.91614200000001,
          -73.98953900000001,
          -73.90742,
          -73.909562,
          -74.0043229,
          -73.97024549333334,
          -73.926226,
          -73.95928184,
          -73.95161,
          -74.02564,
          -73.9865,
          -74.008769047472,
          -73.89353100000001,
          -73.899558,
          -73.986418,
          -73.948185975,
          -73.97574813,
          -73.98154002,
          -73.980963,
          -73.99318204,
          -73.983074,
          -73.98995946666666,
          -74.001131,
          -73.90765400000001,
          -73.98546185000001,
          -73.949738,
          -73.94769500000001,
          -73.948222,
          -73.9614583,
          -74.014372,
          -74.005708,
          -73.933291,
          -73.90570799999999,
          -73.98896717666666,
          -73.995554,
          -73.90854399999999,
          -73.990625,
          -74.03450086712837,
          -73.988765925,
          -73.95414,
          -74.00514100000001,
          -73.90951,
          -73.979342,
          -73.98765487278939,
          -73.91641800000001,
          -73.90419200000001,
          -74.03355195,
          -73.92389,
          -73.937878,
          -74.00421999999999,
          -73.990974,
          -73.9738118648529,
          -73.925177,
          -74.040041,
          -73.90737,
          -73.925384,
          -73.966800785244,
          -73.908335,
          -73.98123100000001,
          -73.96703482,
          -73.927128,
          -74.05099,
          -73.995549,
          -73.92957493106127,
          -74.009271,
          -73.96865397691727,
          -73.995480795,
          -74.003101,
          -73.91608199999999,
          -73.999904095,
          -73.93098,
          -74.013318,
          -74.00527408829879,
          -74.004483,
          -73.910485,
          -74.00716800000001,
          -73.985649,
          -73.98974,
          -74.034234,
          -73.90342700000001,
          -73.99600982666016,
          -74.013821,
          -73.97809283522034,
          -73.98258555,
          -73.919205,
          -73.96277403333333,
          -73.98530222413635,
          -74.00962700000001,
          -73.973217,
          -73.99704679999999,
          -73.910963,
          -73.92710699999999,
          -73.94844,
          -74.0354828,
          -73.99446376658153,
          -73.91840585,
          -74.0641943,
          -73.92326700000001,
          -73.98263100000001,
          -73.950503,
          -73.95474300000001,
          -73.9641,
          -73.9249572,
          -73.922661,
          -74.009486,
          -73.99510194945432,
          -74.0050408244133,
          -73.92309398729515,
          -73.91337,
          -73.99810231,
          -73.9397209941368,
          -73.91497,
          -73.94112675,
          -73.9602511433334,
          -73.97898391719293,
          -73.89246,
          -73.9398630726757,
          -73.90674,
          -73.97519511499999,
          -73.919046,
          -73.962408,
          -73.98057249,
          -73.991454,
          -73.91292,
          -73.893675,
          -73.895166,
          -73.94102,
          -74.00785020500001,
          -73.900216,
          -73.95842134952545,
          -73.896752,
          -73.939865,
          -73.9620752892,
          -73.93561,
          -74.0625,
          -73.949765095,
          -74.07840594649316,
          -73.900063,
          -73.984326975,
          -74.04399090000001,
          -73.972651915,
          -73.91811589732933,
          -73.96186,
          -73.945909,
          -74.06661093235016,
          -73.901318,
          -74.04288411140442,
          -73.99158100000001,
          -73.97846889499999,
          -73.972628,
          -73.92207900000001,
          -73.98759102,
          -74.011884,
          -73.92617,
          -74.00398269295692,
          -73.95600096,
          -73.91765589798817,
          -73.915098,
          -74.0316,
          -74.014531,
          -73.91278,
          -73.99079012395859,
          -73.91519777562523,
          -73.91516,
          -73.94592,
          -73.94521,
          -73.920827,
          -74.03891444206238,
          -73.93625405,
          -73.911503,
          -73.925961,
          -73.90824,
          -73.983262,
          -74.020005,
          -73.95204,
          -74.015606,
          -74.0078679363575,
          -73.94860297,
          -73.965248,
          -73.919637,
          -73.92936,
          -73.98672603070736,
          -74.02778059244156,
          -73.9916,
          -73.93725886019897,
          -73.92404,
          -73.93949,
          -73.93214574999999,
          -74.00314047932625,
          -73.94427900000001,
          -74.04996782541275,
          -73.971205,
          -73.896849,
          -73.88772900000001,
          -73.973663,
          -73.92825,
          -73.913863,
          -73.914527,
          -73.93098,
          -73.97031366,
          -73.93796999999999,
          -73.98960500000001,
          -73.98783406499999,
          -74.04384499999999,
          -73.91566,
          -73.912785,
          -73.912604,
          -73.977885,
          -73.9470597560692,
          -73.96044,
          -74.03210820000001,
          -73.9265472,
          -74.07195925712584,
          -73.92302,
          -73.937854,
          -73.941427,
          -74.006584,
          -73.929513,
          -73.99465114389706,
          -73.94546,
          -73.92586999999999,
          -73.99246600000001,
          -73.97100078,
          -73.97513000000001,
          -73.97743299999999,
          -74.01686600000001,
          -73.91837197280978,
          -73.91744796230697,
          -73.90521,
          -73.9149348473835,
          -73.90625,
          -73.974235,
          -73.93266287762548,
          -73.897263,
          -73.995990995,
          -73.98471585752536,
          -73.98301411999999,
          -73.9344355,
          -73.94173,
          -73.890745,
          -73.91154499999999,
          -74.00530063,
          -74.00887,
          -73.918214,
          -73.99014896,
          -73.907999,
          -73.96496400000001,
          -73.96304,
          -73.98849,
          -73.983776205,
          -73.93226609999999,
          -73.982578,
          -73.93894,
          -73.97138707395172,
          -73.98957862329482,
          -73.92366104999999,
          -73.89522,
          -73.95963340288797,
          -73.937044,
          -74.000911,
          -73.919763,
          -73.929327,
          -73.927094,
          -73.93428610000001,
          -73.92806999999999,
          -73.9274362354927,
          -73.98396823,
          -73.9398550493622,
          -74.04696375131606,
          -73.96123900512964,
          -73.99968790288591,
          -73.981073,
          -73.9622621364174,
          -74.02535309664154,
          -73.889686,
          -74.01782,
          -73.922648,
          -74.03852552175522,
          -73.947868,
          -73.890247,
          -73.95394,
          -73.94185999999999,
          -73.938631,
          -73.945993,
          -73.9120939,
          -73.993641115,
          -73.90655799999999,
          -73.917014,
          -74.00697,
          -73.90876296591188,
          -73.88793100000001,
          -73.9938586950302,
          -73.99158043,
          -73.92243,
          -73.91422,
          -73.98093133,
          -73.95563710828401,
          -73.96845290562058,
          -73.99581685380554,
          -73.993161,
          -73.94430718,
          -73.918389,
          -73.93936,
          -73.90904,
          -73.892686,
          -74.0431174635887,
          -74.000939,
          -73.91531775,
          -73.964179,
          -74.0789,
          -73.907342,
          -74.002356,
          -73.971211,
          -73.91366975,
          -73.976291,
          -73.96782900000001,
          -74.00831590081025,
          -73.949702,
          -73.972432,
          -73.942386,
          -74.00636999999999,
          -73.88839,
          -73.906018,
          -73.987000765,
          -73.95921915335367,
          -74.020005,
          -73.986726,
          -74.03805095,
          -73.901883,
          -73.985543,
          -73.94984811333333,
          -73.9646,
          -73.914952,
          -73.91945,
          -73.96224608979034,
          -74.04557168483734,
          -73.88412,
          -73.918544,
          -73.96685288,
          -73.912498,
          -73.98765762,
          -73.9364281,
          -73.994403145,
          -73.900318,
          -73.975748065,
          -73.934326,
          -73.92793,
          -74.04595255851744,
          -73.93856,
          -73.919543,
          -73.926907,
          -74.00170200000001,
          -74.01099599999999,
          -73.90316,
          -73.907107,
          -73.93349294947052,
          -73.98257732391356,
          -73.917946,
          -73.992573,
          -73.92717380725097,
          -74.01682595040556,
          -73.904726,
          -73.93889,
          -73.891559,
          -73.9096,
          -73.996975,
          -73.913741,
          -74.051788633,
          -73.928381,
          -73.959757,
          -74.0334588,
          -74.00165855884552,
          -73.974165,
          -74.00890600000001,
          -73.91999799999999,
          -73.935877,
          -73.919379,
          -73.931015,
          -73.899047,
          -73.8985,
          -74.0076531479969,
          -73.96648977,
          -73.95512759685515,
          -73.98148309999999,
          -73.9309132,
          -73.93296993409157,
          -73.903787,
          -73.91054,
          -73.9142679,
          -73.89714000000001,
          -73.90974,
          -73.898802,
          -73.91906,
          -73.88862495326997,
          -73.998633,
          -73.93200427293776,
          -73.979827,
          -73.89186,
          -73.9566,
          -73.998623,
          -73.990539,
          -74.010065,
          -73.925591,
          -73.895133,
          -73.96125485,
          -73.92304399999999,
          -73.95943199999999,
          -73.93526925,
          -73.93441
         ],
         "xaxis": "x",
         "y": [
          40.855653000000004,
          40.684157240000005,
          40.820302000000005,
          40.673134000000005,
          40.76817,
          40.756933100000005,
          40.68858,
          40.6999974843885,
          40.714739965,
          40.87382,
          40.848793,
          40.752443,
          40.695356966601125,
          40.64744,
          40.846052,
          40.831762,
          40.73879,
          40.7520621535,
          40.719103905653476,
          40.83618,
          40.727897007045115,
          40.74311555376486,
          40.79603692079992,
          40.71698105,
          40.67835615,
          40.861669,
          40.72633092985848,
          40.633385,
          40.742684867437845,
          40.783786,
          40.860079999999996,
          40.651173,
          40.863124,
          40.642703000000004,
          40.762507,
          40.670492100000004,
          40.839194,
          40.676979466666666,
          40.846465,
          40.861915,
          40.69356,
          40.871390000000005,
          40.836490000000005,
          40.639672999999995,
          40.766824,
          40.796170000000004,
          40.854946999999996,
          40.666439153435405,
          40.7429489166009,
          40.68097405,
          40.681211850000004,
          40.814232000000004,
          40.671409000000004,
          40.77677701,
          40.80874996666666,
          40.810285031530015,
          40.824796,
          40.7675339338271,
          40.75414509631759,
          40.644743,
          40.800425,
          40.693290000000005,
          40.81695985516232,
          40.72335598980398,
          40.648481,
          40.8021172,
          40.686500824999996,
          40.74490685,
          40.830476000000004,
          40.763154,
          40.68542400498509,
          40.71687,
          40.756014,
          40.70772199245845,
          40.83171,
          40.729386925,
          40.659555,
          40.69452071379911,
          40.65949077946948,
          40.644512,
          40.7903,
          40.7576312,
          40.75793623121837,
          40.801657,
          40.649291999999996,
          40.851746999999996,
          40.7668,
          40.6830458,
          40.72686951528207,
          40.820089,
          40.86659,
          40.752957,
          40.726378000000004,
          40.70998,
          40.75892386377695,
          40.867505,
          40.648169,
          40.788129999999995,
          40.789621999999994,
          40.75960423569397,
          40.750915534784994,
          40.709267,
          40.784003000000006,
          40.72152515,
          40.75370212709557,
          40.83899,
          40.769942799999995,
          40.76335895,
          40.857994,
          40.70469,
          40.747968,
          40.68256412879847,
          40.651565999999995,
          40.853929,
          40.74025889,
          40.763328,
          40.774645,
          40.78472675,
          40.708484999999996,
          40.7272235,
          40.68095905,
          40.69231680359596,
          40.84522,
          40.6882,
          40.67945,
          40.839278,
          40.6662079,
          40.710190000000004,
          40.74854862,
          40.71779817737835,
          40.726156049804075,
          40.686175899999995,
          40.713811,
          40.790254173304184,
          40.7531108,
          40.656633,
          40.74265933273143,
          40.73492695,
          40.831959999999995,
          40.68848905639242,
          40.783955999999996,
          40.760659849999996,
          40.79249509747555,
          40.86294,
          40.656290000000006,
          40.67622146666667,
          40.815887,
          40.75473,
          40.7647,
          40.71848892,
          40.71625343991187,
          40.656985999999996,
          40.71607505,
          40.820003,
          40.67507075,
          40.698,
          40.639978,
          40.71649,
          40.72146256229816,
          40.71907895589782,
          40.640125,
          40.7485,
          40.71517767732029,
          40.859165999999995,
          40.772717,
          40.72568548362901,
          40.7647341000326,
          40.76817546742245,
          40.67038385000001,
          40.75527307,
          40.852253000000005,
          40.659945,
          40.758396999999995,
          40.75259125,
          40.716909780459645,
          40.73543934,
          40.784596798848916,
          40.827184,
          40.82809,
          40.649983,
          40.827115,
          40.671197899999996,
          40.858472,
          40.75007285,
          40.67639485,
          40.641269,
          40.6831162,
          40.673635756707526,
          40.70296917077636,
          40.836103,
          40.86156,
          40.76108,
          40.70858897120291,
          40.7671,
          40.85556,
          40.827212,
          40.745519,
          40.689395100000006,
          40.752643,
          40.74147,
          40.75820464696758,
          40.652563,
          40.702461,
          40.700759999999995,
          40.6704838,
          40.813619,
          40.766953085,
          40.848282,
          40.77813,
          40.777112,
          40.76072,
          40.69812,
          40.78253592886205,
          40.76718615,
          40.75645824,
          40.78141085009501,
          40.86765819475955,
          40.74390876235563,
          40.847409999999996,
          40.813990999999994,
          40.637033,
          40.72179117,
          40.868846000000005,
          40.68764492,
          40.649143,
          40.74524784,
          40.75905797709293,
          40.688087849999995,
          40.70463,
          40.71511885998248,
          40.755763,
          40.850121,
          40.652502,
          40.70112,
          40.768736935,
          40.73649403,
          40.6859298,
          40.78294,
          40.682601,
          40.765753000000004,
          40.710699946313866,
          40.6740888,
          40.752708500000004,
          40.822756,
          40.770374149999995,
          40.847396,
          40.6906495,
          40.75969997953127,
          40.72606,
          40.69296,
          40.822545,
          40.837119,
          40.758553500000005,
          40.71772398500574,
          40.845504999999996,
          40.663493,
          40.66509793844597,
          40.75792010439701,
          40.83587705,
          40.849971999999994,
          40.674613422475815,
          40.823926,
          40.77301504145691,
          40.758057,
          40.6724811,
          40.817245,
          40.72210378668603,
          40.770888,
          40.741459000000006,
          40.75052517,
          40.76417476009884,
          40.76390895,
          40.67583297195645,
          40.831584,
          40.756913,
          40.6849669,
          40.779406085297865,
          40.825737,
          40.844811,
          40.764496,
          40.810949199999996,
          40.853646000000005,
          40.873870000000004,
          40.7252556952547,
          40.71273,
          40.695807025,
          40.721853894999995,
          40.86308918906637,
          40.6978935,
          40.757284000000006,
          40.7070825,
          40.6765199,
          40.728048571362606,
          40.780478,
          40.727595965999996,
          40.74998490907139,
          40.76129389728909,
          40.71764,
          40.756351,
          40.72769,
          40.644366999999995,
          40.650739,
          40.7664255270288,
          40.753440999999995,
          40.67260299075063,
          40.818215,
          40.858340000000005,
          40.8612819853755,
          40.70686,
          40.69055,
          40.68177805464381,
          40.665507,
          40.75668720603179,
          40.757525,
          40.763422,
          40.645074,
          40.856906,
          40.823429,
          40.67716489469059,
          40.69987120441495,
          40.828975,
          40.86945,
          40.69621932376438,
          40.73221853,
          40.75190705,
          40.753091,
          40.73381219196632,
          40.8704958,
          40.856987,
          40.86788,
          40.709900000000005,
          40.7729,
          40.752148999999996,
          40.70068,
          40.761294,
          40.71032305,
          40.69796,
          40.831444,
          40.686767965,
          40.73124,
          40.640493,
          40.677027,
          40.73191116161587,
          40.768442,
          40.778089,
          40.643546,
          40.704117955,
          40.72368361,
          40.6792789,
          40.646037,
          40.682915050000005,
          40.660906,
          40.668402,
          40.654098,
          40.757764,
          40.66631805,
          40.826969,
          40.73042,
          40.816234,
          40.68223166,
          40.654798,
          40.645921,
          40.847305,
          40.779399,
          40.665858,
          40.662584,
          40.842675,
          40.771771,
          40.744397833095604,
          40.67051375,
          40.72795,
          40.745686,
          40.68929,
          40.648005,
          40.67909799860842,
          40.851788,
          40.811892,
          40.714145200000004,
          40.793459999999996,
          40.855331,
          40.654144,
          40.66016,
          40.683222541615955,
          40.805701,
          40.743140000000004,
          40.70413,
          40.752371999999994,
          40.78866499563942,
          40.774306,
          40.651654,
          40.7691571,
          40.85564,
          40.71942,
          40.666168,
          40.75651286492477,
          40.646351,
          40.758996559605116,
          40.700378834999995,
          40.655278,
          40.848177,
          40.68280015,
          40.69757,
          40.642408,
          40.740057042836426,
          40.647104999999996,
          40.776168,
          40.651354,
          40.673746,
          40.732690000000005,
          40.71925170000001,
          40.75574,
          40.72430527250332,
          40.638196,
          40.74172375548736,
          40.6827549,
          40.849629,
          40.673815866666665,
          40.731539187320365,
          40.656326,
          40.65482,
          40.71413089,
          40.767666,
          40.807466,
          40.72084,
          40.72429405,
          40.713107011529544,
          40.7699178,
          40.7236589,
          40.823161999999996,
          40.756951,
          40.7849031,
          40.824013,
          40.8082,
          40.768692,
          40.862562,
          40.649145000000004,
          40.72615602490204,
          40.70831794366396,
          40.85890423769206,
          40.69943,
          40.72917025,
          40.8408960159652,
          40.70863,
          40.761437799999996,
          40.664079918390804,
          40.732339888575524,
          40.863890000000005,
          40.76535390192933,
          40.6972,
          40.67933085,
          40.778557,
          40.678045000000004,
          40.72955361,
          40.700469,
          40.70577,
          40.77028,
          40.772092,
          40.832314000000004,
          40.679432850000005,
          40.843078999999996,
          40.772248537721744,
          40.821967,
          40.834468,
          40.79983793333333,
          40.743,
          40.733670000000004,
          40.705380885,
          40.7246050998869,
          40.775415,
          40.68021315,
          40.7443187,
          40.687534029999995,
          40.76547584622477,
          40.795346,
          40.827075,
          40.71435836870427,
          40.850535,
          40.72165072487999,
          40.7003,
          40.6765302,
          40.761573,
          40.847746,
          40.6864441,
          40.643371,
          40.692,
          40.73756121181137,
          40.71774592,
          40.82723024981236,
          40.785994,
          40.754090000000005,
          40.644861999999996,
          40.855156,
          40.681990221353516,
          40.869324828200476,
          40.69905,
          40.83299,
          40.813539,
          40.863211,
          40.71835519823214,
          40.794566149999994,
          40.871094,
          40.839141999999995,
          40.693000000000005,
          40.676757,
          40.635678999999996,
          40.733959999999996,
          40.650176,
          40.70336693347933,
          40.78592005,
          40.651847,
          40.846011,
          40.867357,
          40.711471394469264,
          40.73698221818716,
          40.749156,
          40.74128304677997,
          40.80046,
          40.840123999999996,
          40.759627800000004,
          40.67630357634183,
          40.829522999999995,
          40.72163014263835,
          40.700424999999996,
          40.772899,
          40.825322,
          40.647718,
          40.69502,
          40.800933,
          40.782465,
          40.69757,
          40.75968085,
          40.751047,
          40.658029,
          40.724677105,
          40.717732500000004,
          40.697140000000005,
          40.850035999999996,
          40.838315,
          40.746524,
          40.71036877117615,
          40.741609999999994,
          40.728744799999994,
          40.7658348,
          40.72572613742557,
          40.69676,
          40.852252,
          40.826881,
          40.659176,
          40.854788,
          40.69400982432997,
          40.721579999999996,
          40.708690000000004,
          40.666197,
          40.70531197,
          40.75863,
          40.643817,
          40.642621999999996,
          40.87305479468545,
          40.831305246336484,
          40.82895,
          40.77406007491112,
          40.70183,
          40.757334,
          40.77259984609085,
          40.819998999999996,
          40.678724100000004,
          40.742751898244975,
          40.685584033333335,
          40.706618500000005,
          40.725770000000004,
          40.768728,
          40.804168,
          40.70823502,
          40.73115,
          40.853157,
          40.695976915,
          40.807258000000004,
          40.8059865,
          40.68488,
          40.73127,
          40.668127,
          40.7682,
          40.70224,
          40.713229999999996,
          40.751183937316384,
          40.69515863883452,
          40.75573285,
          40.86448,
          40.731542672403215,
          40.839443,
          40.647379,
          40.803399,
          40.826677000000004,
          40.853142,
          40.7628139,
          40.696709999999996,
          40.77276814314415,
          40.663779,
          40.76315490955186,
          40.73520838045357,
          40.73173489294173,
          40.72840079725414,
          40.642031,
          40.758923931888475,
          40.68512579757707,
          40.832171,
          40.63766,
          40.866141,
          40.7124188237569,
          40.821294,
          40.818743,
          40.730259999999994,
          40.85168,
          40.842940999999996,
          40.791976,
          40.77014785,
          40.67772885,
          40.776745,
          40.754795,
          40.73498,
          40.701573204368955,
          40.836733,
          40.759030082196055,
          40.73261787,
          40.83406,
          40.70113,
          40.78339981,
          40.67759203468688,
          40.76800894652973,
          40.732758935225434,
          40.717797999999995,
          40.77545738333333,
          40.848354,
          40.705517,
          40.69811,
          40.831998,
          40.71958611647166,
          40.735918,
          40.776165,
          40.756265,
          40.71113,
          40.846879,
          40.652657,
          40.782593,
          40.76562505,
          40.653368,
          40.649681,
          40.74198179997012,
          40.832164,
          40.648055,
          40.832081,
          40.704370000000004,
          40.87142,
          40.769673,
          40.66862715,
          40.7224819431911,
          40.635678999999996,
          40.711471,
          40.721123600000006,
          40.847798,
          40.658489,
          40.74672395333334,
          40.763954,
          40.75388,
          40.70636,
          40.76712820174771,
          40.72528910781132,
          40.86813,
          40.774591,
          40.772828085,
          40.853685999999996,
          40.70281858,
          40.752575799999995,
          40.684989200000004,
          40.754176,
          40.72368380500001,
          40.754876,
          40.714009999999995,
          40.723331586464354,
          40.715353,
          40.754139,
          40.822351,
          40.740983,
          40.640831,
          40.86288,
          40.760083,
          40.751869757109375,
          40.75668720603179,
          40.840484000000004,
          40.768333,
          40.857157906959515,
          40.6870209329197,
          40.757357,
          40.72226,
          40.816126000000004,
          40.705529999999996,
          40.762009,
          40.83579,
          40.742677141,
          40.834457,
          40.776173,
          40.7162469,
          40.72494672359416,
          40.657265,
          40.652512,
          40.750181,
          40.697480999999996,
          40.823732,
          40.829797,
          40.839228999999996,
          40.842240000000004,
          40.725839983961876,
          40.76440023,
          40.777553742988864,
          40.6751621,
          40.77398275,
          40.85648716761788,
          40.774798,
          40.704609999999995,
          40.75957005,
          40.871559999999995,
          40.69385,
          40.82995,
          40.79558,
          40.81872584995058,
          40.660078999999996,
          40.703048421084425,
          40.699569,
          40.87444,
          40.74237385,
          40.662611,
          40.69383,
          40.721319,
          40.861382,
          40.835302,
          40.8120561,
          40.699304,
          40.68186,
          40.74513146,
          40.852538
         ],
         "yaxis": "y"
        },
        {
         "customdata": [
          [
           "-1"
          ],
          [
           "-1"
          ],
          [
           "-1"
          ],
          [
           "-1"
          ],
          [
           "-1"
          ],
          [
           "-1"
          ],
          [
           "-1"
          ],
          [
           "-1"
          ],
          [
           "-1"
          ],
          [
           "-1"
          ],
          [
           "-1"
          ],
          [
           "-1"
          ],
          [
           "-1"
          ],
          [
           "-1"
          ],
          [
           "-1"
          ],
          [
           "-1"
          ],
          [
           "-1"
          ],
          [
           "-1"
          ],
          [
           "-1"
          ],
          [
           "-1"
          ],
          [
           "-1"
          ],
          [
           "-1"
          ],
          [
           "-1"
          ],
          [
           "-1"
          ],
          [
           "-1"
          ],
          [
           "-1"
          ],
          [
           "-1"
          ],
          [
           "-1"
          ],
          [
           "-1"
          ],
          [
           "-1"
          ],
          [
           "-1"
          ],
          [
           "-1"
          ]
         ],
         "hovertemplate": "bikeBehaviorGroup=%{customdata[0]}<br>longitude=%{x}<br>latitude=%{y}<extra></extra>",
         "legendgroup": "-1",
         "marker": {
          "color": "#66AA00",
          "symbol": "circle"
         },
         "mode": "markers",
         "name": "-1",
         "showlegend": true,
         "type": "scattergl",
         "x": [
          -73.9233485,
          -73.9154,
          -74.06384825706482,
          -73.924963,
          -73.911517,
          -73.99463653564453,
          -73.90202,
          -73.886445,
          -74.0106278657913,
          -74.0119798548061,
          -73.905838,
          -73.9823307803421,
          -73.907302,
          -73.91839,
          -74.04044315060045,
          -73.914737,
          -73.99497985839844,
          -74.08363940000001,
          -73.88955,
          -74.01169285662381,
          -73.907729,
          -74.07126188278198,
          -74.006664,
          -74.0557013,
          -73.912807,
          -74.05065640000001,
          -73.92703399999999,
          -73.894143,
          -74.0686011314392,
          -73.917579,
          -74.06762212514876,
          -74.0575736
         ],
         "xaxis": "x",
         "y": [
          40.81236749999999,
          40.835334,
          40.73081986158418,
          40.814469,
          40.755389,
          40.66906013501107,
          40.81899,
          40.839335,
          40.65539977447831,
          40.7286598161823,
          40.838378999999996,
          40.716444115672395,
          40.856302,
          40.814673,
          40.74871597269011,
          40.817166,
          40.66979964220026,
          40.71821129999999,
          40.834123999999996,
          40.7284869305869,
          40.811314,
          40.71928220070703,
          40.655716,
          40.711242299999995,
          40.872412,
          40.7241765,
          40.838706,
          40.818185,
          40.70965083364061,
          40.820570000000004,
          40.7253399253558,
          40.7311689
         ],
         "yaxis": "y"
        }
       ],
       "layout": {
        "autosize": true,
        "legend": {
         "title": {
          "text": "bikeBehaviorGroup"
         },
         "tracegroupgap": 0
        },
        "template": {
         "data": {
          "bar": [
           {
            "error_x": {
             "color": "#2a3f5f"
            },
            "error_y": {
             "color": "#2a3f5f"
            },
            "marker": {
             "line": {
              "color": "#E5ECF6",
              "width": 0.5
             }
            },
            "type": "bar"
           }
          ],
          "barpolar": [
           {
            "marker": {
             "line": {
              "color": "#E5ECF6",
              "width": 0.5
             }
            },
            "type": "barpolar"
           }
          ],
          "carpet": [
           {
            "aaxis": {
             "endlinecolor": "#2a3f5f",
             "gridcolor": "white",
             "linecolor": "white",
             "minorgridcolor": "white",
             "startlinecolor": "#2a3f5f"
            },
            "baxis": {
             "endlinecolor": "#2a3f5f",
             "gridcolor": "white",
             "linecolor": "white",
             "minorgridcolor": "white",
             "startlinecolor": "#2a3f5f"
            },
            "type": "carpet"
           }
          ],
          "choropleth": [
           {
            "colorbar": {
             "outlinewidth": 0,
             "ticks": ""
            },
            "type": "choropleth"
           }
          ],
          "contour": [
           {
            "colorbar": {
             "outlinewidth": 0,
             "ticks": ""
            },
            "colorscale": [
             [
              0,
              "#0d0887"
             ],
             [
              0.1111111111111111,
              "#46039f"
             ],
             [
              0.2222222222222222,
              "#7201a8"
             ],
             [
              0.3333333333333333,
              "#9c179e"
             ],
             [
              0.4444444444444444,
              "#bd3786"
             ],
             [
              0.5555555555555556,
              "#d8576b"
             ],
             [
              0.6666666666666666,
              "#ed7953"
             ],
             [
              0.7777777777777778,
              "#fb9f3a"
             ],
             [
              0.8888888888888888,
              "#fdca26"
             ],
             [
              1,
              "#f0f921"
             ]
            ],
            "type": "contour"
           }
          ],
          "contourcarpet": [
           {
            "colorbar": {
             "outlinewidth": 0,
             "ticks": ""
            },
            "type": "contourcarpet"
           }
          ],
          "heatmap": [
           {
            "colorbar": {
             "outlinewidth": 0,
             "ticks": ""
            },
            "colorscale": [
             [
              0,
              "#0d0887"
             ],
             [
              0.1111111111111111,
              "#46039f"
             ],
             [
              0.2222222222222222,
              "#7201a8"
             ],
             [
              0.3333333333333333,
              "#9c179e"
             ],
             [
              0.4444444444444444,
              "#bd3786"
             ],
             [
              0.5555555555555556,
              "#d8576b"
             ],
             [
              0.6666666666666666,
              "#ed7953"
             ],
             [
              0.7777777777777778,
              "#fb9f3a"
             ],
             [
              0.8888888888888888,
              "#fdca26"
             ],
             [
              1,
              "#f0f921"
             ]
            ],
            "type": "heatmap"
           }
          ],
          "heatmapgl": [
           {
            "colorbar": {
             "outlinewidth": 0,
             "ticks": ""
            },
            "colorscale": [
             [
              0,
              "#0d0887"
             ],
             [
              0.1111111111111111,
              "#46039f"
             ],
             [
              0.2222222222222222,
              "#7201a8"
             ],
             [
              0.3333333333333333,
              "#9c179e"
             ],
             [
              0.4444444444444444,
              "#bd3786"
             ],
             [
              0.5555555555555556,
              "#d8576b"
             ],
             [
              0.6666666666666666,
              "#ed7953"
             ],
             [
              0.7777777777777778,
              "#fb9f3a"
             ],
             [
              0.8888888888888888,
              "#fdca26"
             ],
             [
              1,
              "#f0f921"
             ]
            ],
            "type": "heatmapgl"
           }
          ],
          "histogram": [
           {
            "marker": {
             "colorbar": {
              "outlinewidth": 0,
              "ticks": ""
             }
            },
            "type": "histogram"
           }
          ],
          "histogram2d": [
           {
            "colorbar": {
             "outlinewidth": 0,
             "ticks": ""
            },
            "colorscale": [
             [
              0,
              "#0d0887"
             ],
             [
              0.1111111111111111,
              "#46039f"
             ],
             [
              0.2222222222222222,
              "#7201a8"
             ],
             [
              0.3333333333333333,
              "#9c179e"
             ],
             [
              0.4444444444444444,
              "#bd3786"
             ],
             [
              0.5555555555555556,
              "#d8576b"
             ],
             [
              0.6666666666666666,
              "#ed7953"
             ],
             [
              0.7777777777777778,
              "#fb9f3a"
             ],
             [
              0.8888888888888888,
              "#fdca26"
             ],
             [
              1,
              "#f0f921"
             ]
            ],
            "type": "histogram2d"
           }
          ],
          "histogram2dcontour": [
           {
            "colorbar": {
             "outlinewidth": 0,
             "ticks": ""
            },
            "colorscale": [
             [
              0,
              "#0d0887"
             ],
             [
              0.1111111111111111,
              "#46039f"
             ],
             [
              0.2222222222222222,
              "#7201a8"
             ],
             [
              0.3333333333333333,
              "#9c179e"
             ],
             [
              0.4444444444444444,
              "#bd3786"
             ],
             [
              0.5555555555555556,
              "#d8576b"
             ],
             [
              0.6666666666666666,
              "#ed7953"
             ],
             [
              0.7777777777777778,
              "#fb9f3a"
             ],
             [
              0.8888888888888888,
              "#fdca26"
             ],
             [
              1,
              "#f0f921"
             ]
            ],
            "type": "histogram2dcontour"
           }
          ],
          "mesh3d": [
           {
            "colorbar": {
             "outlinewidth": 0,
             "ticks": ""
            },
            "type": "mesh3d"
           }
          ],
          "parcoords": [
           {
            "line": {
             "colorbar": {
              "outlinewidth": 0,
              "ticks": ""
             }
            },
            "type": "parcoords"
           }
          ],
          "pie": [
           {
            "automargin": true,
            "type": "pie"
           }
          ],
          "scatter": [
           {
            "marker": {
             "colorbar": {
              "outlinewidth": 0,
              "ticks": ""
             }
            },
            "type": "scatter"
           }
          ],
          "scatter3d": [
           {
            "line": {
             "colorbar": {
              "outlinewidth": 0,
              "ticks": ""
             }
            },
            "marker": {
             "colorbar": {
              "outlinewidth": 0,
              "ticks": ""
             }
            },
            "type": "scatter3d"
           }
          ],
          "scattercarpet": [
           {
            "marker": {
             "colorbar": {
              "outlinewidth": 0,
              "ticks": ""
             }
            },
            "type": "scattercarpet"
           }
          ],
          "scattergeo": [
           {
            "marker": {
             "colorbar": {
              "outlinewidth": 0,
              "ticks": ""
             }
            },
            "type": "scattergeo"
           }
          ],
          "scattergl": [
           {
            "marker": {
             "colorbar": {
              "outlinewidth": 0,
              "ticks": ""
             }
            },
            "type": "scattergl"
           }
          ],
          "scattermapbox": [
           {
            "marker": {
             "colorbar": {
              "outlinewidth": 0,
              "ticks": ""
             }
            },
            "type": "scattermapbox"
           }
          ],
          "scatterpolar": [
           {
            "marker": {
             "colorbar": {
              "outlinewidth": 0,
              "ticks": ""
             }
            },
            "type": "scatterpolar"
           }
          ],
          "scatterpolargl": [
           {
            "marker": {
             "colorbar": {
              "outlinewidth": 0,
              "ticks": ""
             }
            },
            "type": "scatterpolargl"
           }
          ],
          "scatterternary": [
           {
            "marker": {
             "colorbar": {
              "outlinewidth": 0,
              "ticks": ""
             }
            },
            "type": "scatterternary"
           }
          ],
          "surface": [
           {
            "colorbar": {
             "outlinewidth": 0,
             "ticks": ""
            },
            "colorscale": [
             [
              0,
              "#0d0887"
             ],
             [
              0.1111111111111111,
              "#46039f"
             ],
             [
              0.2222222222222222,
              "#7201a8"
             ],
             [
              0.3333333333333333,
              "#9c179e"
             ],
             [
              0.4444444444444444,
              "#bd3786"
             ],
             [
              0.5555555555555556,
              "#d8576b"
             ],
             [
              0.6666666666666666,
              "#ed7953"
             ],
             [
              0.7777777777777778,
              "#fb9f3a"
             ],
             [
              0.8888888888888888,
              "#fdca26"
             ],
             [
              1,
              "#f0f921"
             ]
            ],
            "type": "surface"
           }
          ],
          "table": [
           {
            "cells": {
             "fill": {
              "color": "#EBF0F8"
             },
             "line": {
              "color": "white"
             }
            },
            "header": {
             "fill": {
              "color": "#C8D4E3"
             },
             "line": {
              "color": "white"
             }
            },
            "type": "table"
           }
          ]
         },
         "layout": {
          "annotationdefaults": {
           "arrowcolor": "#2a3f5f",
           "arrowhead": 0,
           "arrowwidth": 1
          },
          "autotypenumbers": "strict",
          "coloraxis": {
           "colorbar": {
            "outlinewidth": 0,
            "ticks": ""
           }
          },
          "colorscale": {
           "diverging": [
            [
             0,
             "#8e0152"
            ],
            [
             0.1,
             "#c51b7d"
            ],
            [
             0.2,
             "#de77ae"
            ],
            [
             0.3,
             "#f1b6da"
            ],
            [
             0.4,
             "#fde0ef"
            ],
            [
             0.5,
             "#f7f7f7"
            ],
            [
             0.6,
             "#e6f5d0"
            ],
            [
             0.7,
             "#b8e186"
            ],
            [
             0.8,
             "#7fbc41"
            ],
            [
             0.9,
             "#4d9221"
            ],
            [
             1,
             "#276419"
            ]
           ],
           "sequential": [
            [
             0,
             "#0d0887"
            ],
            [
             0.1111111111111111,
             "#46039f"
            ],
            [
             0.2222222222222222,
             "#7201a8"
            ],
            [
             0.3333333333333333,
             "#9c179e"
            ],
            [
             0.4444444444444444,
             "#bd3786"
            ],
            [
             0.5555555555555556,
             "#d8576b"
            ],
            [
             0.6666666666666666,
             "#ed7953"
            ],
            [
             0.7777777777777778,
             "#fb9f3a"
            ],
            [
             0.8888888888888888,
             "#fdca26"
            ],
            [
             1,
             "#f0f921"
            ]
           ],
           "sequentialminus": [
            [
             0,
             "#0d0887"
            ],
            [
             0.1111111111111111,
             "#46039f"
            ],
            [
             0.2222222222222222,
             "#7201a8"
            ],
            [
             0.3333333333333333,
             "#9c179e"
            ],
            [
             0.4444444444444444,
             "#bd3786"
            ],
            [
             0.5555555555555556,
             "#d8576b"
            ],
            [
             0.6666666666666666,
             "#ed7953"
            ],
            [
             0.7777777777777778,
             "#fb9f3a"
            ],
            [
             0.8888888888888888,
             "#fdca26"
            ],
            [
             1,
             "#f0f921"
            ]
           ]
          },
          "colorway": [
           "#636efa",
           "#EF553B",
           "#00cc96",
           "#ab63fa",
           "#FFA15A",
           "#19d3f3",
           "#FF6692",
           "#B6E880",
           "#FF97FF",
           "#FECB52"
          ],
          "font": {
           "color": "#2a3f5f"
          },
          "geo": {
           "bgcolor": "white",
           "lakecolor": "white",
           "landcolor": "#E5ECF6",
           "showlakes": true,
           "showland": true,
           "subunitcolor": "white"
          },
          "hoverlabel": {
           "align": "left"
          },
          "hovermode": "closest",
          "mapbox": {
           "style": "light"
          },
          "paper_bgcolor": "white",
          "plot_bgcolor": "#E5ECF6",
          "polar": {
           "angularaxis": {
            "gridcolor": "white",
            "linecolor": "white",
            "ticks": ""
           },
           "bgcolor": "#E5ECF6",
           "radialaxis": {
            "gridcolor": "white",
            "linecolor": "white",
            "ticks": ""
           }
          },
          "scene": {
           "xaxis": {
            "backgroundcolor": "#E5ECF6",
            "gridcolor": "white",
            "gridwidth": 2,
            "linecolor": "white",
            "showbackground": true,
            "ticks": "",
            "zerolinecolor": "white"
           },
           "yaxis": {
            "backgroundcolor": "#E5ECF6",
            "gridcolor": "white",
            "gridwidth": 2,
            "linecolor": "white",
            "showbackground": true,
            "ticks": "",
            "zerolinecolor": "white"
           },
           "zaxis": {
            "backgroundcolor": "#E5ECF6",
            "gridcolor": "white",
            "gridwidth": 2,
            "linecolor": "white",
            "showbackground": true,
            "ticks": "",
            "zerolinecolor": "white"
           }
          },
          "shapedefaults": {
           "line": {
            "color": "#2a3f5f"
           }
          },
          "ternary": {
           "aaxis": {
            "gridcolor": "white",
            "linecolor": "white",
            "ticks": ""
           },
           "baxis": {
            "gridcolor": "white",
            "linecolor": "white",
            "ticks": ""
           },
           "bgcolor": "#E5ECF6",
           "caxis": {
            "gridcolor": "white",
            "linecolor": "white",
            "ticks": ""
           }
          },
          "title": {
           "x": 0.05
          },
          "xaxis": {
           "automargin": true,
           "gridcolor": "white",
           "linecolor": "white",
           "ticks": "",
           "title": {
            "standoff": 15
           },
           "zerolinecolor": "white",
           "zerolinewidth": 2
          },
          "yaxis": {
           "automargin": true,
           "gridcolor": "white",
           "linecolor": "white",
           "ticks": "",
           "title": {
            "standoff": 15
           },
           "zerolinecolor": "white",
           "zerolinewidth": 2
          }
         }
        },
        "title": {
         "text": "End Station Bike Behavior Group"
        },
        "xaxis": {
         "anchor": "y",
         "autorange": true,
         "domain": [
          0,
          1
         ],
         "range": [
          -74.09589138709288,
          -73.86962384200714
         ],
         "title": {
          "text": "longitude"
         },
         "type": "linear"
        },
        "yaxis": {
         "anchor": "x",
         "autorange": true,
         "domain": [
          0,
          1
         ],
         "range": [
          40.61816853996367,
          40.88965646003633
         ],
         "title": {
          "text": "latitude"
         },
         "type": "linear"
        }
       }
      },
      "image/png": "[encoded data removed]",
      "text/html": [
       "<div>                            <div id=\"2dc1afcc-dd89-4af5-8d97-fa83e089cf6b\" class=\"plotly-graph-div\" style=\"height:800px; width:100%;\"></div>            <script type=\"text/javascript\">                require([\"plotly\"], function(Plotly) {                    window.PLOTLYENV=window.PLOTLYENV || {};                                    if (document.getElementById(\"2dc1afcc-dd89-4af5-8d97-fa83e089cf6b\")) {                    Plotly.newPlot(                        \"2dc1afcc-dd89-4af5-8d97-fa83e089cf6b\",                        [{\"customdata\": [[\"6\"], [\"6\"], [\"6\"], [\"6\"], [\"6\"], [\"6\"], [\"6\"], [\"6\"], [\"6\"], [\"6\"], [\"6\"], [\"6\"], [\"6\"], [\"6\"], [\"6\"], [\"6\"], [\"6\"], [\"6\"], [\"6\"], [\"6\"], [\"6\"], [\"6\"], [\"6\"]], \"hovertemplate\": \"bikeBehaviorGroup=%{customdata[0]}<br>longitude=%{x}<br>latitude=%{y}<extra></extra>\", \"legendgroup\": \"6\", \"marker\": {\"color\": \"#3366CC\", \"symbol\": \"circle\"}, \"mode\": \"markers\", \"name\": \"6\", \"showlegend\": true, \"type\": \"scattergl\", \"x\": [-73.91640699999999, -73.91164, -73.915026, -73.916792, -73.914466, -73.917641, -73.92608883047772, -73.920999, -73.955277, -73.890413, -73.910489, -73.92076306747818, -73.896372, -73.90632, -73.91458, -73.927421, -73.90369, -73.91089000000001, -73.908863, -73.915368, -73.916071, -73.9362728, -73.90804868599702], \"xaxis\": \"x\", \"y\": [40.824811, 40.69545, 40.751554999999996, 40.822267, 40.811555999999996, 40.834263, 40.83670583431402, 40.843965000000004, 40.818212, 40.837037, 40.837576, 40.86989883097023, 40.827301, 40.70694, 40.689890000000005, 40.832057, 40.6786, 40.824, 40.834015, 40.814383, 40.819609, 40.76018515, 40.8069881092705], \"yaxis\": \"y\"}, {\"customdata\": [[\"5\"], [\"5\"], [\"5\"], [\"5\"], [\"5\"], [\"5\"], [\"5\"], [\"5\"], [\"5\"], [\"5\"], [\"5\"], [\"5\"], [\"5\"], [\"5\"], [\"5\"], [\"5\"], [\"5\"], [\"5\"], [\"5\"], [\"5\"], [\"5\"], [\"5\"], [\"5\"], [\"5\"], [\"5\"], [\"5\"], [\"5\"], [\"5\"], [\"5\"], [\"5\"], [\"5\"], [\"5\"], [\"5\"], [\"5\"], [\"5\"], [\"5\"], [\"5\"]], \"hovertemplate\": \"bikeBehaviorGroup=%{customdata[0]}<br>longitude=%{x}<br>latitude=%{y}<extra></extra>\", \"legendgroup\": \"5\", \"marker\": {\"color\": \"#DC3912\", \"symbol\": \"circle\"}, \"mode\": \"markers\", \"name\": \"5\", \"showlegend\": true, \"type\": \"scattergl\", \"x\": [-73.90448, -73.908116, -73.88854599999999, -73.892103, -73.894025, -73.92965, -73.91507299999999, -73.92971899999999, -73.979239, -73.898751, -73.927311, -73.94008000000001, -73.936153, -73.939326, -73.909235, -73.907451, -73.935685, -73.96434111455, -73.908906, -73.979826, -73.93794799999999, -74.00647117, -73.919911, -73.95541610000001, -73.928489, -73.907521, -73.91320999999999, -74.03648570000001, -73.908699, -73.919228, -73.900277, -73.886659, -73.90486700000001, -73.91693000000001, -73.941928, -73.914688, -73.896599], \"xaxis\": \"x\", \"y\": [40.69081, 40.816124, 40.821952, 40.830051, 40.82394, 40.817755, 40.840683, 40.862058000000005, 40.642809, 40.826303, 40.810893, 40.709897, 40.81449, 40.833303, 40.813134999999996, 40.82696, 40.7163285, 40.79693485, 40.754164, 40.672784, 40.826406, 40.67699915, 40.704876, 40.66917815, 40.86012, 40.82188, 40.68652, 40.712774200000005, 40.823871999999994, 40.840536, 40.839586, 40.827628999999995, 40.843264000000005, 40.69122, 40.823060999999996, 40.822215, 40.833246], \"yaxis\": \"y\"}, {\"customdata\": [[\"4\"], [\"4\"], [\"4\"], [\"4\"], [\"4\"], [\"4\"], [\"4\"], [\"4\"], [\"4\"], [\"4\"], [\"4\"], [\"4\"], [\"4\"], [\"4\"], [\"4\"], [\"4\"], [\"4\"], [\"4\"], [\"4\"], [\"4\"], [\"4\"], [\"4\"], [\"4\"], [\"4\"], [\"4\"], [\"4\"], [\"4\"], [\"4\"], [\"4\"], [\"4\"], [\"4\"], [\"4\"], [\"4\"], [\"4\"], [\"4\"], [\"4\"], [\"4\"], [\"4\"], [\"4\"], [\"4\"], [\"4\"], [\"4\"], [\"4\"], [\"4\"], [\"4\"], [\"4\"], [\"4\"], [\"4\"], [\"4\"], [\"4\"], [\"4\"], [\"4\"], [\"4\"], [\"4\"], [\"4\"], [\"4\"], [\"4\"], [\"4\"], [\"4\"], [\"4\"], [\"4\"], [\"4\"], [\"4\"], [\"4\"], [\"4\"], [\"4\"], [\"4\"], [\"4\"], [\"4\"], [\"4\"]], \"hovertemplate\": \"bikeBehaviorGroup=%{customdata[0]}<br>longitude=%{x}<br>latitude=%{y}<extra></extra>\", \"legendgroup\": \"4\", \"marker\": {\"color\": \"#FF9900\", \"symbol\": \"circle\"}, \"mode\": \"markers\", \"name\": \"4\", \"showlegend\": true, \"type\": \"scattergl\", \"x\": [-73.94306805000001, -73.91241099999999, -73.93973000000001, -73.92339100000001, -73.928747, -73.92160600000001, -73.9168, -73.90454, -73.89847499999999, -73.95238104, -73.938591, -73.888271, -73.92112, -73.94791500000001, -73.9318351521236, -73.923769, -73.930605, -73.94969936, -73.904556, -73.95746189462518, -73.928939, -73.936521, -73.923302, -73.927987, -73.91725600000001, -73.922962, -73.91888900000001, -73.95324718416785, -73.94371097, -73.94160600000001, -73.946665, -73.888719, -73.91125, -73.945925, -73.91081, -73.93608499999999, -73.941616, -73.950322915, -73.98721285164356, -73.937413, -73.93705414, -74.00194699, -73.94386, -73.993612, -73.9342, -73.92141099999999, -73.942924, -73.935971, -73.9196, -73.936322, -73.941323, -73.939249, -73.941057, -73.937496, -73.91632, -73.938475, -73.936371, -73.90100100000001, -73.92036999999999, -73.941342, -73.92989105, -73.93623199999999, -73.9434, -73.91924, -73.941427855, -73.93719499999999, -73.9349, -73.939877, -73.9423, -73.929153], \"xaxis\": \"x\", \"y\": [40.8107921, 40.819823, 40.810140000000004, 40.830262, 40.830179, 40.81093, 40.68663, 40.70404, 40.69861, 40.69527004, 40.808279999999996, 40.820578000000005, 40.833909000000006, 40.690081750000004, 40.70327588909326, 40.702013, 40.813224, 40.695265389999996, 40.830471, 40.69064803541471, 40.822216999999995, 40.819783, 40.808692, 40.816576, 40.844075, 40.81734, 40.805089, 40.8143942189579, 40.69622918499999, 40.795508, 40.831327, 40.826706, 40.830940000000005, 40.804038, 40.808890999999996, 40.806414000000004, 40.825125, 40.700295055, 40.68461653897949, 40.82281, 40.692370870000005, 40.67434, 40.823498, 40.671907, 40.77485, 40.820036, 40.828309999999995, 40.821111, 40.69543, 40.805726, 40.830663, 40.820877, 40.819241, 40.835798, 40.685825, 40.68001075, 40.830702, 40.769219, 40.812298999999996, 40.698617, 40.6794269, 40.825289, 40.835775, 40.807408, 40.678906895, 40.810224, 40.80067205, 40.693398099999996, 40.797911, 40.812304], \"yaxis\": \"y\"}, {\"customdata\": [[\"3\"], [\"3\"], [\"3\"], [\"3\"], [\"3\"], [\"3\"], [\"3\"], [\"3\"], [\"3\"], [\"3\"], [\"3\"], [\"3\"], [\"3\"], [\"3\"], [\"3\"], [\"3\"], [\"3\"], [\"3\"], [\"3\"], [\"3\"], [\"3\"], [\"3\"], [\"3\"], [\"3\"], [\"3\"], [\"3\"], [\"3\"], [\"3\"], [\"3\"], [\"3\"], [\"3\"], [\"3\"], [\"3\"], [\"3\"], [\"3\"], [\"3\"], [\"3\"], [\"3\"], [\"3\"], [\"3\"], [\"3\"], [\"3\"], [\"3\"], [\"3\"], [\"3\"], [\"3\"], [\"3\"], [\"3\"], [\"3\"], [\"3\"], [\"3\"], [\"3\"], [\"3\"], [\"3\"], [\"3\"], [\"3\"], [\"3\"], [\"3\"], [\"3\"], [\"3\"], [\"3\"], [\"3\"], [\"3\"], [\"3\"], [\"3\"], [\"3\"], [\"3\"], [\"3\"], [\"3\"], [\"3\"], [\"3\"], [\"3\"], [\"3\"], [\"3\"], [\"3\"], [\"3\"], [\"3\"], [\"3\"], [\"3\"], [\"3\"], [\"3\"], [\"3\"], [\"3\"], [\"3\"], [\"3\"], [\"3\"], [\"3\"], [\"3\"], [\"3\"], [\"3\"], [\"3\"], [\"3\"], [\"3\"], [\"3\"], [\"3\"], [\"3\"], [\"3\"], [\"3\"], [\"3\"], [\"3\"], [\"3\"], [\"3\"], [\"3\"], [\"3\"], [\"3\"], [\"3\"], [\"3\"], [\"3\"], [\"3\"], [\"3\"], [\"3\"], [\"3\"], [\"3\"], [\"3\"], [\"3\"], [\"3\"], [\"3\"], [\"3\"], [\"3\"], [\"3\"], [\"3\"], [\"3\"], [\"3\"], [\"3\"], [\"3\"], [\"3\"], [\"3\"], [\"3\"], [\"3\"], [\"3\"], [\"3\"], [\"3\"], [\"3\"], [\"3\"], [\"3\"], [\"3\"], [\"3\"], [\"3\"], [\"3\"], [\"3\"], [\"3\"], [\"3\"], [\"3\"], [\"3\"], [\"3\"], [\"3\"]], \"hovertemplate\": \"bikeBehaviorGroup=%{customdata[0]}<br>longitude=%{x}<br>latitude=%{y}<extra></extra>\", \"legendgroup\": \"3\", \"marker\": {\"color\": \"#109618\", \"symbol\": \"circle\"}, \"mode\": \"markers\", \"name\": \"3\", \"showlegend\": true, \"type\": \"scattergl\", \"x\": [-73.99116856566366, -74.004518935, -74.0097235, -73.97932325, -73.991448855, -73.98205013500001, -73.97680600000001, -73.99887861, -73.97704052666667, -73.98658016, -73.989900125, -74.00687851, -73.97015971666667, -73.95845663666667, -74.00297094000001, -73.98825468333332, -73.988596755, -73.993915, -73.984737825, -73.98801322666667, -73.95334453333334, -74.000040155, -73.999060825, -73.98210385666667, -73.97380988333333, -73.99749933574168, -73.96165086458969, -74.01314723, -74.01575600000001, -73.97988000434874, -73.98345859666667, -74.00214994000001, -73.96749655666667, -73.96560198, -73.97982525333335, -73.99577191888672, -73.96742638, -74.00674418, -73.97656117000001, -74.00670213500001, -73.9831465, -73.97937933150736, -73.97782520999999, -73.98655392333335, -73.99806810333332, -73.97620586819936, -73.989111, -73.97735300000001, -73.985649225, -73.97615927, -73.99069678000001, -73.97772990666667, -73.98501809662247, -74.00507016435623, -73.986011065, -73.99474547666667, -73.98185412000001, -73.99456402499999, -73.98918614346314, -73.960876, -73.988899785, -73.99749050333332, -74.007378, -73.97977389666667, -74.01129586791802, -73.99662118515776, -74.00164746333333, -73.99116080666668, -73.97745499999999, -73.98965208333333, -73.97465798666666, -73.98589073595555, -73.98968406666667, -73.96129340666666, -74.00460715, -73.98426713, -73.98517988500001, -73.98972865333333, -73.9806201491928, -73.99448255333334, -73.99478993846894, -74.004613, -73.98054410474015, -74.0017441, -73.990930925, -74.00318456, -73.99486670666666, -73.98675985333334, -73.99135076077017, -73.97770604760933, -74.000271, -73.98094668666668, -74.00329258999999, -73.99548, -73.99169076000001, -73.99793396666666, -73.99301211, -73.991475175, -73.98227880333333, -73.98955104500001, -73.97121207, -73.993790125, -73.96024108, -73.9558065, -74.00929550000001, -73.98865598333333, -73.989780205, -73.995298925, -74.01638917999999, -73.99856140666667, -73.99193852999998, -73.959195, -73.98048303775889, -73.99750811666668, -73.98544116666666, -74.01030081814575, -73.98672389000001, -73.99011533405208, -74.008119, -73.97490727333333, -73.99180000000001, -73.990985035, -73.98702975, -73.99443718666667, -73.999946805, -74.01361703, -73.98527135666667, -73.98834727999999, -73.9864615, -73.98229876333333, -73.98855711499999, -74.0030918701, -73.99266294, -73.994467, -74.01651795, -73.99493547181385, -73.99225989, -73.99150336666668, -73.97433194660282, -73.98228212666668, -73.99203003000001, -74.00707594666666, -73.97372095, -73.99876920666667, -73.999496005, -73.98353251666667], \"xaxis\": \"x\", \"y\": [40.7300099874165, 40.746919795, 40.710533, 40.776705166666666, 40.743954054999996, 40.73587689, 40.739445, 40.739570140000005, 40.74293934, 40.755135785, 40.714274935, 40.74323278333333, 40.78482891666667, 40.764670083333336, 40.72710279, 40.76184801666667, 40.75929112, 40.746646999999996, 40.736245135000004, 40.73784942666666, 40.770936086666666, 40.743453175, 40.730477234999995, 40.73181251, 40.764264700000005, 40.72206926222867, 40.720367876492276, 40.71803211333333, 40.711512, 40.76121994374938, 40.72211614666667, 40.730385995, 40.76097185333333, 40.71290595666667, 40.73941733666667, 40.72447572083444, 40.772914085, 40.73172414, 40.76627278666666, 40.703553885, 40.7407295, 40.76682718635316, 40.773406800000004, 40.745445233333335, 40.72878008333333, 40.77579388341833, 40.722055, 40.7519365, 40.72779113, 40.73342853, 40.725028879999996, 40.736668, 40.76078875698864, 40.73944810065202, 40.740481869999996, 40.76039612333333, 40.72453717, 40.739713005, 40.74286888656056, 40.710451, 40.732232859999996, 40.74689874999999, 40.74637250000001, 40.74362871333333, 40.7277140388889, 40.727063816741534, 40.74566476666667, 40.73436389, 40.7517905, 40.71979725333333, 40.75506855666667, 40.72271816356224, 40.75593682666667, 40.76115146666667, 40.71273283, 40.729538184999996, 40.720664209999995, 40.73703328, 40.77944536335771, 40.71587716666667, 40.7510567823405, 40.751698, 40.73381209598316, 40.75562786333333, 40.750199975, 40.760916673333334, 40.72278652666667, 40.7282792, 40.73047120176651, 40.75749722637243, 40.735238, 40.727605313333335, 40.73400747666667, 40.718911, 40.754832955, 40.75706919666667, 40.76269891, 40.722293230000005, 40.76943668333334, 40.740343100000004, 40.744219, 40.727434115, 40.715348125, 40.799741999999995, 40.72842300000001, 40.74900857, 40.72628085, 40.74487617, 40.71555863333334, 40.760533986666665, 40.716039220000006, 40.782534999999996, 40.729971975982444, 40.74259195666667, 40.76380479666667, 40.72019510718732, 40.730473045, 40.7711289276361, 40.739323, 40.74096262333333, 40.749078, 40.75756995, 40.715595045, 40.742159896666664, 40.737815045000005, 40.70463317, 40.748106156666665, 40.716818133333334, 40.734116, 40.74580803333333, 40.74620095, 40.73934463736666, 40.71893902, 40.751775499999994, 40.70612851333333, 40.73129141361742, 40.73717462, 40.76046184, 40.743151271440574, 40.76484346666667, 40.734580316666666, 40.73327717666666, 40.748401865000005, 40.745167493333334, 40.72362719, 40.725811959999994], \"yaxis\": \"y\"}, {\"customdata\": [[\"2\"], [\"2\"], [\"2\"], [\"2\"], [\"2\"], [\"2\"], [\"2\"], [\"2\"], [\"2\"], [\"2\"], [\"2\"], [\"2\"], [\"2\"], [\"2\"], [\"2\"], [\"2\"], [\"2\"], [\"2\"], [\"2\"], [\"2\"], [\"2\"], [\"2\"], [\"2\"], [\"2\"], [\"2\"], [\"2\"], [\"2\"], [\"2\"], [\"2\"], [\"2\"], [\"2\"], [\"2\"], [\"2\"], [\"2\"], [\"2\"], [\"2\"], [\"2\"], [\"2\"], [\"2\"], [\"2\"], [\"2\"], [\"2\"], [\"2\"], [\"2\"], [\"2\"], [\"2\"], [\"2\"], [\"2\"], [\"2\"], [\"2\"], [\"2\"], [\"2\"], [\"2\"], [\"2\"], [\"2\"], [\"2\"], [\"2\"], [\"2\"], [\"2\"], [\"2\"], [\"2\"], [\"2\"], [\"2\"], [\"2\"], [\"2\"], [\"2\"], [\"2\"], [\"2\"], [\"2\"], [\"2\"], [\"2\"], [\"2\"], [\"2\"], [\"2\"], [\"2\"], [\"2\"], [\"2\"], [\"2\"], [\"2\"], [\"2\"], [\"2\"], [\"2\"], [\"2\"], [\"2\"], [\"2\"], [\"2\"], [\"2\"], [\"2\"], [\"2\"], [\"2\"], [\"2\"], [\"2\"], [\"2\"], [\"2\"], [\"2\"], [\"2\"], [\"2\"], [\"2\"], [\"2\"], [\"2\"], [\"2\"], [\"2\"], [\"2\"], [\"2\"], [\"2\"], [\"2\"], [\"2\"], [\"2\"], [\"2\"], [\"2\"], [\"2\"], [\"2\"], [\"2\"], [\"2\"], [\"2\"], [\"2\"], [\"2\"], [\"2\"], [\"2\"], [\"2\"], [\"2\"], [\"2\"], [\"2\"], [\"2\"], [\"2\"], [\"2\"], [\"2\"], [\"2\"], [\"2\"], [\"2\"], [\"2\"], [\"2\"], [\"2\"], [\"2\"], [\"2\"], [\"2\"], [\"2\"], [\"2\"], [\"2\"], [\"2\"], [\"2\"], [\"2\"], [\"2\"], [\"2\"], [\"2\"], [\"2\"], [\"2\"], [\"2\"], [\"2\"], [\"2\"], [\"2\"], [\"2\"], [\"2\"], [\"2\"], [\"2\"], [\"2\"], [\"2\"], [\"2\"], [\"2\"], [\"2\"], [\"2\"], [\"2\"], [\"2\"], [\"2\"], [\"2\"], [\"2\"], [\"2\"], [\"2\"], [\"2\"], [\"2\"], [\"2\"], [\"2\"], [\"2\"], [\"2\"], [\"2\"], [\"2\"], [\"2\"], [\"2\"], [\"2\"], [\"2\"], [\"2\"], [\"2\"], [\"2\"], [\"2\"], [\"2\"], [\"2\"], [\"2\"], [\"2\"], [\"2\"], [\"2\"], [\"2\"], [\"2\"], [\"2\"], [\"2\"], [\"2\"], [\"2\"], [\"2\"], [\"2\"], [\"2\"], [\"2\"], [\"2\"], [\"2\"], [\"2\"], [\"2\"], [\"2\"], [\"2\"], [\"2\"], [\"2\"], [\"2\"], [\"2\"], [\"2\"], [\"2\"], [\"2\"], [\"2\"], [\"2\"], [\"2\"], [\"2\"], [\"2\"], [\"2\"], [\"2\"], [\"2\"], [\"2\"], [\"2\"], [\"2\"], [\"2\"], [\"2\"], [\"2\"], [\"2\"], [\"2\"], [\"2\"], [\"2\"], [\"2\"], [\"2\"], [\"2\"], [\"2\"], [\"2\"], [\"2\"], [\"2\"], [\"2\"], [\"2\"], [\"2\"], [\"2\"], [\"2\"], [\"2\"], [\"2\"], [\"2\"], [\"2\"], [\"2\"], [\"2\"], [\"2\"], [\"2\"], [\"2\"], [\"2\"], [\"2\"], [\"2\"], [\"2\"], [\"2\"], [\"2\"], [\"2\"], [\"2\"], [\"2\"], [\"2\"], [\"2\"], [\"2\"], [\"2\"], [\"2\"], [\"2\"], [\"2\"], [\"2\"], [\"2\"], [\"2\"], [\"2\"], [\"2\"], [\"2\"], [\"2\"], [\"2\"], [\"2\"], [\"2\"], [\"2\"], [\"2\"], [\"2\"], [\"2\"], [\"2\"], [\"2\"], [\"2\"], [\"2\"]], \"hovertemplate\": \"bikeBehaviorGroup=%{customdata[0]}<br>longitude=%{x}<br>latitude=%{y}<extra></extra>\", \"legendgroup\": \"2\", \"marker\": {\"color\": \"#990099\", \"symbol\": \"circle\"}, \"mode\": \"markers\", \"name\": \"2\", \"showlegend\": true, \"type\": \"scattergl\", \"x\": [-73.945525895, -73.94750997770309, -73.9538748, -73.944846, -73.97129684, -73.9476790512104, -73.98517612333332, -73.94320815, -73.949426, -73.93756913, -73.979880835, -73.917875, -73.92254015, -73.95381997499999, -73.923162, -73.91456475, -73.90131099999999, -73.96311475, -73.89506899999999, -73.892317, -73.96714585000001, -73.92228499999999, -73.958810905, -73.9376305, -73.98362482, -73.93259, -73.93948, -73.94728315500001, -73.917169, -73.95399013, -74.0075571, -73.944694, -73.95691175, -74.00044348333334, -73.99785784, -73.903719, -73.94609285000001, -73.91769000000001, -73.9179, -73.93223, -73.93504, -73.922394, -73.922423, -73.9209332276144, -73.921461, -73.92834, -73.911759, -73.954295, -73.976831, -74.00946114999999, -73.95812003333334, -73.9333, -73.946269075, -73.978034075, -73.941000025, -73.942939, -73.93372, -73.934903, -73.96181490000001, -73.933509, -73.95674100000001, -73.905158, -73.953149, -73.90756, -73.9106511034851, -73.90925, -73.97702591333335, -73.964089815, -73.949373, -73.93323000000001, -74.01275078, -73.94456650000001, -73.93530013333334, -73.936996, -73.93118485, -73.95879015, -73.91471800000001, -73.930819, -73.938037, -73.899939, -73.9607081, -73.95649485, -74.01006989999999, -73.95901716666667, -73.95443519826784, -73.90245, -73.94051, -73.941878, -74.02658000000001, -73.925294, -73.885272, -73.955857, -73.95042600000001, -74.06285852193831, -73.941409, -73.945144, -73.90785600000001, -73.957163, -73.94021123333333, -73.90663, -74.02915254235268, -73.9588, -73.93921, -73.9551509, -73.92153, -73.927111, -73.95796791500001, -74.00870203971863, -73.908345, -74.001141, -73.95693399999999, -73.94111, -74.00879512324096, -73.90311, -74.004946975, -73.99383312, -74.011169, -73.940636, -73.9007, -73.91697698240966, -73.929372, -73.95960694295502, -73.97420985999999, -73.91091999999999, -74.0496379137039, -74.00913467990621, -73.94335794, -73.97942, -73.9485679, -73.93511099999999, -73.918877, -73.913004, -73.9544353965357, -73.94482786666667, -73.9383, -73.9389151, -73.97515816688917, -73.94373015, -73.94174699999999, -73.908351, -74.024714, -73.991479, -73.97673, -73.9183301, -73.88430799999999, -73.95801382687759, -73.951819, -73.92224285, -73.94350916666667, -73.91966, -73.93378940000001, -74.023087, -73.984275, -73.926075, -73.945003895, -73.903927, -73.9521, -73.950916, -73.98261203, -73.907618, -73.919549, -73.99333282, -73.911837, -73.923511, -73.95261943152873, -73.942954, -73.98854, -74.00851497781991, -73.9170072, -73.944072895, -73.948222, -73.94176491577149, -73.94663059333334, -73.90774379999999, -73.9609, -74.07106071710588, -73.92976, -73.94963334333333, -73.95088988333335, -73.9379, -73.90153000000001, -73.952761, -73.9351, -74.015665, -73.926241, -73.989016145, -73.935775, -73.93608499999999, -73.9283155, -73.94737185666668, -73.94412310000001, -73.935856, -73.95004798795, -73.99516780651474, -73.903865, -73.94407866666667, -73.92836, -73.95584597973334, -73.96649489933014, -73.918598, -73.94907810000001, -73.95033083999999, -73.94754748333332, -73.956461, -73.947257, -73.97877, -73.94199495, -73.928803, -73.886312, -73.901583, -74.04281702808953, -73.95353934666667, -73.90505999999999, -73.911479, -73.936064, -73.925101, -73.95324215, -73.9379560473709, -73.95982584666667, -73.92005999999999, -73.92754000000001, -73.9492288, -73.9166369, -73.91143, -73.99037296, -73.891677, -73.894717, -73.93271899999999, -73.9518778, -73.97439953453828, -73.947568, -73.96056949999999, -73.937838, -73.95615600000001, -73.95746879999999, -73.91171999999999, -73.98178012, -73.933651, -73.92461475, -73.90549, -73.9173875, -73.92146, -73.903743, -73.9391141, -73.90726715440923, -73.947084085, -73.951475, -73.9174, -73.92997, -73.916124, -73.90623000000001, -73.97422494, -73.917037, -73.92095, -73.9535655, -73.896447, -73.98068907, -73.93417099999999, -73.93021999999999, -73.942061, -73.94977, -73.888161, -73.915585, -73.93648490000001, -73.939562185, -73.8985, -73.934077, -73.955736, -73.94044123666667, -74.00321334977541, -74.01062793289566, -73.9500493, -73.905203, -74.00367579001235, -73.951989, -73.92385003333332, -73.94370792000001, -73.94425085, -73.94212515000001, -73.92818, -73.946168, -73.93581, -73.9022, -73.94735073883565, -73.96467975, -73.91144414102745], \"xaxis\": \"x\", \"y\": [40.7862588, 40.80933011592649, 40.66306195, 40.798944750000004, 40.69573399, 40.6803560420217, 40.69777721333333, 40.79329684, 40.742760000000004, 40.696819815, 40.668662850000004, 40.809619, 40.7774551, 40.69331708, 40.77977, 40.778718749999996, 40.819701, 40.67164915, 40.821075, 40.841091999999996, 40.674012149999996, 40.709535, 40.68456815, 40.79693949999999, 40.694748905, 40.70103, 40.71882, 40.7877212, 40.8174135, 40.682165819999994, 40.67470575, 40.686203000000006, 40.66270595, 40.71078272, 40.674695850000006, 40.828199, 40.748000000000005, 40.828846999999996, 40.70108, 40.695440000000005, 40.797470000000004, 40.83173, 40.839312, 40.76754888999855, 40.829608, 40.700003, 40.820713, 40.816355, 40.727243, 40.677774899999996, 40.67085123333334, 40.702831, 40.694254015, 40.696089205, 40.712476805, 40.84004, 40.710681, 40.68145989999999, 40.6686742, 40.802554, 40.666563000000004, 40.832678, 40.809725, 40.68139, 40.764089161753446, 40.68458, 40.692846726666666, 40.708530870000004, 40.8078318, 40.714290000000005, 40.677342949999996, 40.75771, 40.7694985, 40.829229999999995, 40.7974771, 40.6791942, 40.805559, 40.7659, 40.682601, 40.815077, 40.80675805, 40.6741808, 40.6753272, 40.814550533333325, 40.70684201550662, 40.70555, 40.717729999999996, 40.81296, 40.754529999999995, 40.818154, 40.832648999999996, 40.823168, 40.829114000000004, 40.71346382669195, 40.839137, 40.820681, 40.709697, 40.817555, 40.800871199999996, 40.69467, 40.736010749981055, 40.667941049999996, 40.700990000000004, 40.81, 40.705614000000004, 40.827883, 40.707087005000005, 40.65708866668485, 40.837213, 40.657742999999996, 40.665816, 40.6851531, 40.67267221705474, 40.695170000000005, 40.6725059, 40.686371, 40.679043, 40.7031722, 40.6988, 40.761197232429694, 40.832812, 40.7433660401351, 40.68559722333333, 40.70793, 40.71653978099194, 40.65672588889495, 40.75325982, 40.688317999999995, 40.75524315, 40.842172999999995, 40.698568, 40.839549, 40.70684203101325, 40.69152186, 40.7923271, 40.799139000000004, 40.725065755077374, 40.70166585, 40.806979999999996, 40.81989, 40.638246, 40.719383, 40.649037, 40.78145, 40.836273999999996, 40.69454604362301, 40.819746, 40.760339, 40.74678811333334, 40.68822, 40.7747175, 40.646377, 40.683426000000004, 40.84207, 40.719293005, 40.814232000000004, 40.74966, 40.68833385000001, 40.716226219999996, 40.829896000000005, 40.816402000000004, 40.66854575, 40.806896, 40.69047, 40.78899013851072, 40.80295, 40.659053, 40.733423997185405, 40.771152900000004, 40.70510909, 40.816234, 40.7437522049892, 40.70622213, 40.77139385, 40.67216815, 40.72755146730012, 40.70539, 40.79362256666667, 40.69115016333333, 40.80292615, 40.83545, 40.821728, 40.704508000000004, 40.677236, 40.697842, 40.68435495, 40.686312, 40.838190999999995, 40.776349999999994, 40.7905367, 40.79541205, 40.815484000000005, 40.6809831927, 40.754623120145524, 40.771203, 40.682579233333335, 40.704425, 40.68022814099999, 40.799041196441486, 40.864632, 40.802556800000005, 40.7904829, 40.796435833333334, 40.813358, 40.825244, 40.69178, 40.80053875, 40.808484, 40.830025, 40.812769, 40.71458401767947, 40.68542943333333, 40.68906, 40.840494, 40.848467, 40.83263, 40.802535, 40.753599101002806, 40.68900281, 40.862638000000004, 40.70166, 40.812551049999996, 40.7577282, 40.814523, 40.67861175, 40.824956, 40.830529, 40.757186, 40.81143215, 40.64490665254525, 40.818477, 40.663140000000006, 40.812191, 40.819034200000004, 40.6642408, 40.84301, 40.719260905, 40.844044, 40.77136175, 40.83999, 40.7037725, 40.69146, 40.834857, 40.76274420000001, 40.83615371225825, 40.69957604, 40.804372, 40.802620000000005, 40.702996999999996, 40.808633, 40.682809999999996, 40.72580614, 40.811675, 40.7027, 40.673347500000006, 40.816342999999996, 40.698398975, 40.770845, 40.84925, 40.6894931, 40.684020000000004, 40.816567, 40.825716, 40.76387515, 40.789252950000005, 40.842240000000004, 40.805631, 40.724055, 40.70745196, 40.67635065878061, 40.655399887239156, 40.80079596666666, 40.817802, 40.743533866230806, 40.827304999999996, 40.758038766666665, 40.789210749999995, 40.801486800000006, 40.8428421, 40.82441, 40.812346000000005, 40.707174, 40.699690000000004, 40.72487518813339, 40.680483800000005, 40.6831332939092], \"yaxis\": \"y\"}, {\"customdata\": [[\"1\"], [\"1\"], [\"1\"], [\"1\"], [\"1\"], [\"1\"], [\"1\"], [\"1\"], [\"1\"], [\"1\"], [\"1\"], [\"1\"], [\"1\"], [\"1\"], [\"1\"], [\"1\"], [\"1\"], [\"1\"], [\"1\"], [\"1\"], [\"1\"], [\"1\"], [\"1\"], [\"1\"], [\"1\"], [\"1\"], [\"1\"], [\"1\"], [\"1\"], [\"1\"], [\"1\"], [\"1\"], [\"1\"], [\"1\"], [\"1\"], [\"1\"], [\"1\"], [\"1\"], [\"1\"], [\"1\"], [\"1\"], [\"1\"], [\"1\"], [\"1\"], [\"1\"], [\"1\"], [\"1\"], [\"1\"], [\"1\"], [\"1\"], [\"1\"], [\"1\"], [\"1\"], [\"1\"], [\"1\"], [\"1\"], [\"1\"], [\"1\"], [\"1\"], [\"1\"], [\"1\"], [\"1\"], [\"1\"], [\"1\"], [\"1\"], [\"1\"], [\"1\"], [\"1\"], [\"1\"], [\"1\"], [\"1\"], [\"1\"], [\"1\"], [\"1\"], [\"1\"], [\"1\"], [\"1\"], [\"1\"], [\"1\"], [\"1\"], [\"1\"], [\"1\"], [\"1\"], [\"1\"], [\"1\"], [\"1\"], [\"1\"], [\"1\"], [\"1\"], [\"1\"], [\"1\"], [\"1\"], [\"1\"], [\"1\"], [\"1\"], [\"1\"], [\"1\"], [\"1\"], [\"1\"], [\"1\"], [\"1\"], [\"1\"], [\"1\"], [\"1\"], [\"1\"], [\"1\"], [\"1\"], [\"1\"], [\"1\"], [\"1\"], [\"1\"], [\"1\"], [\"1\"], [\"1\"], [\"1\"], [\"1\"], [\"1\"], [\"1\"], [\"1\"], [\"1\"], [\"1\"], [\"1\"], [\"1\"], [\"1\"], [\"1\"], [\"1\"], [\"1\"], [\"1\"], [\"1\"], [\"1\"], [\"1\"], [\"1\"], [\"1\"], [\"1\"], [\"1\"], [\"1\"], [\"1\"], [\"1\"], [\"1\"], [\"1\"], [\"1\"], [\"1\"], [\"1\"], [\"1\"], [\"1\"], [\"1\"], [\"1\"], [\"1\"], [\"1\"], [\"1\"], [\"1\"], [\"1\"], [\"1\"], [\"1\"], [\"1\"], [\"1\"], [\"1\"], [\"1\"], [\"1\"], [\"1\"], [\"1\"], [\"1\"], [\"1\"], [\"1\"], [\"1\"], [\"1\"], [\"1\"], [\"1\"], [\"1\"], [\"1\"], [\"1\"], [\"1\"], [\"1\"], [\"1\"], [\"1\"], [\"1\"], [\"1\"], [\"1\"], [\"1\"], [\"1\"], [\"1\"], [\"1\"], [\"1\"], [\"1\"], [\"1\"], [\"1\"], [\"1\"], [\"1\"], [\"1\"], [\"1\"], [\"1\"], [\"1\"], [\"1\"], [\"1\"], [\"1\"], [\"1\"], [\"1\"], [\"1\"], [\"1\"], [\"1\"], [\"1\"], [\"1\"], [\"1\"], [\"1\"], [\"1\"], [\"1\"], [\"1\"], [\"1\"], [\"1\"], [\"1\"], [\"1\"], [\"1\"], [\"1\"], [\"1\"], [\"1\"], [\"1\"], [\"1\"], [\"1\"], [\"1\"], [\"1\"], [\"1\"], [\"1\"], [\"1\"], [\"1\"], [\"1\"], [\"1\"], [\"1\"], [\"1\"], [\"1\"], [\"1\"], [\"1\"], [\"1\"], [\"1\"], [\"1\"], [\"1\"], [\"1\"], [\"1\"], [\"1\"], [\"1\"], [\"1\"], [\"1\"], [\"1\"], [\"1\"], [\"1\"], [\"1\"], [\"1\"], [\"1\"], [\"1\"], [\"1\"], [\"1\"], [\"1\"], [\"1\"], [\"1\"], [\"1\"], [\"1\"], [\"1\"], [\"1\"], [\"1\"], [\"1\"], [\"1\"], [\"1\"], [\"1\"], [\"1\"], [\"1\"], [\"1\"], [\"1\"], [\"1\"], [\"1\"], [\"1\"], [\"1\"], [\"1\"], [\"1\"], [\"1\"], [\"1\"], [\"1\"], [\"1\"], [\"1\"], [\"1\"], [\"1\"], [\"1\"], [\"1\"], [\"1\"], [\"1\"], [\"1\"], [\"1\"], [\"1\"], [\"1\"], [\"1\"], [\"1\"], [\"1\"], [\"1\"], [\"1\"], [\"1\"], [\"1\"], [\"1\"], [\"1\"], [\"1\"]], \"hovertemplate\": \"bikeBehaviorGroup=%{customdata[0]}<br>longitude=%{x}<br>latitude=%{y}<extra></extra>\", \"legendgroup\": \"1\", \"marker\": {\"color\": \"#0099C6\", \"symbol\": \"circle\"}, \"mode\": \"markers\", \"name\": \"1\", \"showlegend\": true, \"type\": \"scattergl\", \"x\": [-73.97207818, -73.96603304, -73.976289195, -74.00838676, -73.97768776000001, -73.96475000000001, -73.95045738333333, -73.98243584496308, -73.98911986046791, -73.97910123333334, -73.962329, -73.98926812, -73.970325085, -73.974023055, -73.95374483, -73.96243422603607, -73.94977063015493, -73.9442535, -74.00198138, -73.99917277, -73.95141306, -73.977112, -73.95883, -74.00645342, -73.98086793333333, -73.968512, -73.95427482719421, -73.97106147666666, -73.95482286500001, -73.9883159761505, -73.971789065, -73.987167, -74.00377614333333, -73.98892395983886, -73.988519, -73.99195347666667, -73.964839, -74.01020217000001, -73.95291800000001, -73.97632314, -73.97790779900932, -74.01211865666666, -74.00731876500001, -73.958395, -73.95299405666667, -73.95292, -73.95332198666667, -73.97719010850906, -74.00165877942277, -73.99861692094804, -73.98282001, -73.974931105, -73.95266611000001, -73.97950409146739, -73.987763115, -73.98304284358883, -73.97700384679032, -73.99291936333334, -73.98341664, -73.97992196849441, -73.967641, -73.96439607386398, -74.01122315809631, -73.980144185, -74.017134225, -73.986389, -73.97652441, -73.977549805, -73.925921, -73.962599, -73.9748213648421, -73.99011, -73.97408266666667, -73.95826, -73.983298795, -73.95585200333335, -73.9772920155658, -73.96699102, -73.97793186, -73.96222084929752, -73.97325939498393, -73.99107809333333, -73.99428596, -73.96592988, -73.97995483, -73.9919252, -73.99974386, -73.95867279666668, -73.984844, -73.9812205, -73.97725787333333, -73.98918697873926, -73.97283403, -73.9796771, -73.95244456666667, -73.96525081499999, -73.96476290000001, -73.94164801, -73.91255505, -73.97375877, -74.014847, -73.99442474, -73.965368755, -74.00236992805834, -73.98325996, -73.97113, -73.97321741666666, -74.00906135666668, -73.96108749658457, -73.94629333333334, -74.0062745, -73.96242934333334, -73.99834131, -73.98802341, -73.944024, -73.98016794956588, -73.99176999999999, -73.98274276000001, -73.97121407, -73.956981095, -73.97349527666667, -73.992939055, -73.95347000000001, -74.00669069666667, -73.9964297961855, -73.9565725, -73.97880088681029, -74.00612586, -73.98660335333334, -74.00133148666667, -73.95063519666667, -73.955327, -73.95241541333334, -73.96930587685395, -73.995950825, -73.97137, -73.970415805, -73.95856179, -73.98324127666667, -74.005664215, -73.99202058000002, -73.99400399000001, -74.00731586266328, -73.94354000000001, -73.98292398000001, -73.978951185, -73.98574943778483, -73.95241999999999, -73.9888195, -73.98501118701046, -73.94486275, -74.00722178000001, -73.98352377500001, -73.9492088, -73.9550859, -73.98908589, -73.9784140541687, -74.00166999999999, -73.98621148666666, -73.968058, -73.971259, -73.95840796924018, -73.973984, -73.97679136333333, -73.94989588169861, -73.97674258, -73.9489198120451, -73.998004095, -73.969053005, -74.00448678623995, -73.97060797333334, -74.004830955, -73.99436416333333, -73.976673105, -74.005524135, -73.97069415499999, -73.957722985, -73.94803396, -73.982681145, -74.009659825, -73.99005, -73.97209512554168, -73.976788, -73.97077580212402, -73.99419989547728, -74.0127232, -73.95371416333334, -74.00499541220665, -73.96069399499999, -73.994758125, -73.98810276, -73.97374718500001, -73.94716715, -74.009260135, -73.9523, -74.013012, -73.94082472333334, -73.98302343, -73.99383602500001, -73.94520885, -74.00957005253792, -73.93333495, -74.002353, -74.01256139333334, -73.98057198333333, -73.96295, -73.99740194656945, -73.95234393, -74.0104552, -73.95469200000001, -73.9664491236, -73.97965416000001, -73.981281135, -73.96802926666666, -73.986274, -73.98721609500001, -73.97903323666667, -73.98016577499999, -73.98385613333333, -73.98805, -73.95595393333333, -73.96827675343832, -73.94992810999999, -73.95814724333333, -73.981013, -73.98513722333333, -73.99711614666667, -73.9796351834704, -74.005627945, -73.99688939999999, -73.96885479, -73.9756731589546, -74.00176801, -73.95523137333333, -73.998522025, -73.96759686499999, -74.01043382, -73.995209095, -73.989717865, -74.013942, -74.001384973526, -73.99188920907466, -73.95868338333334, -73.9567528, -73.96451597653198, -73.99721739666667, -73.96526897499999, -74.00218427181244, -73.9718789275, -74.00165855884552, -73.957481, -73.95739, -73.9468209, -74.00026396999999, -73.96789594666667, -73.98277722, -73.96751018500001, -73.971114865, -73.9747, -73.98672685062981, -73.9739, -74.00940396666667, -73.99063183999999, -74.00330011533333, -73.93968604999999, -73.94940211846922, -73.98274442695677, -73.96214729333333, -73.9605909503, -73.96599595389176, -73.971592, -73.99296386333333, -73.968896, -73.9825395, -73.94636066666668, -73.996123245, -73.95327950000001, -73.99997880000001, -74.00234491, -73.98949487048148, -73.95546745253436, -73.95451, -73.99714900000001, -73.94417, -74.00887304, -73.97372995, -73.99505066, -74.00015545666666, -74.00677787, -73.95608, -73.96040500000001, -73.97114587195, -74.00933396666666, -73.985275, -73.96215719333334, -73.97575756500001, -73.97087992], \"xaxis\": \"x\", \"y\": [40.757147790000005, 40.757973109999995, 40.717821215, 40.703799200000006, 40.725213055, 40.7945, 40.775770136666665, 40.74307718458829, 40.76373655931954, 40.78262603333334, 40.7585625, 40.70303396, 40.75323099, 40.759710899999995, 40.74255148, 40.794033304092764, 40.78141476644721, 40.715571499999996, 40.71926142, 40.684751199999994, 40.711673755, 40.78679485, 40.73632, 40.736685963333336, 40.691977220000005, 40.67685, 40.774779224478635, 40.763670106666666, 40.7689739, 40.73491135186847, 40.693082785, 40.695065, 40.74311616333333, 40.778004675849324, 40.7702565, 40.71215402333333, 40.791270000000004, 40.71291212, 40.676368, 40.68382602, 40.68506803654088, 40.70376794, 40.707064779999996, 40.72853, 40.727390613333334, 40.736275, 40.76675871333333, 40.779789324141305, 40.72494686179708, 40.74918512096639, 40.6772742, 40.689810175, 40.79183676666666, 40.72746410346197, 40.712690210000005, 40.689621943951664, 40.79313490493332, 40.692263340000004, 40.78442990666667, 40.752165140310986, 40.755293, 40.77078862513553, 40.71485175263126, 40.755002770000004, 40.708346989999995, 40.725864, 40.748950300000004, 40.77856695, 40.761584, 40.7164435, 40.67476461290326, 40.732647, 40.794110133333334, 40.732659999999996, 40.718502055, 40.772864533333326, 40.749498773012604, 40.804213, 40.720828170000004, 40.764718759721696, 40.7904528269836, 40.766797903333334, 40.767181386666664, 40.754557155, 40.722992039999994, 40.721100815, 40.71602109, 40.71696789666667, 40.713126, 40.714213, 40.737784500000004, 40.775159767171175, 40.784999895, 40.68683204, 40.78108546666667, 40.71044577000001, 40.68851517, 40.7869948, 40.7747879, 40.668088, 40.711444, 40.73544217, 40.691960175, 40.72168495411869, 40.74992003, 40.74714, 40.75236944666667, 40.73646456666666, 40.70949875425385, 40.78181406666667, 40.7182855, 40.712736619999994, 40.71305272, 40.75181744, 40.711863, 40.75441393692642, 40.75461, 40.77209250333333, 40.75022396, 40.712868220000004, 40.67740990000001, 40.714066835, 40.73063, 40.70970652666667, 40.738046071241385, 40.802347, 40.747573979477394, 40.70530977, 40.76623280333333, 40.74218401, 40.70918061333334, 40.783501799999996, 40.72274450333333, 40.75763213869722, 40.695128225000005, 40.78275, 40.78822115, 40.77314218, 40.761858753333335, 40.722437985, 40.68982516666667, 40.71076214, 40.74283594288634, 40.722625, 40.77698682, 40.683124945, 40.781051996701116, 40.71924, 40.767627, 40.68861147584695, 40.70870384, 40.70862122, 40.67281575, 40.778534, 40.73232197, 40.68917947333333, 40.763161290902666, 40.707873, 40.69224126, 40.79163723333333, 40.766684, 40.7687620146548, 40.730563000000004, 40.72218729, 40.72430459499847, 40.76046131, 40.782454087639934, 40.735324135, 40.75001993, 40.72453877386739, 40.79724803333333, 40.73535399, 40.72869272333333, 40.78524686, 40.71146382, 40.758280825, 40.771129134999995, 40.775369025, 40.763440790000004, 40.724055245, 40.77237, 40.7630259714026, 40.68661255, 40.697950157847714, 40.75865660466545, 40.702550825, 40.77834134333333, 40.70834897183198, 40.778131200000004, 40.680611, 40.75131803666667, 40.77896792, 40.7839638, 40.70471785, 40.798785949999996, 40.71497885, 40.751401216666665, 40.74396607, 40.702771795, 40.808442, 40.713227947586354, 40.79498795, 40.752694, 40.701147426666665, 40.72124920000001, 40.802692, 40.75469187511301, 40.714133055000005, 40.71748776, 40.805159, 40.800836149999995, 40.71246602, 40.787208845, 40.679625933333334, 40.720746999999996, 40.752996205, 40.679717866666664, 40.717399865, 40.692143963333336, 40.74964, 40.8035768, 40.7074299813919, 40.77289213333333, 40.778751293333336, 40.689888, 40.77511136666667, 40.763609263333336, 40.6613754573002, 40.71450475499999, 40.714161945, 40.689407235000004, 40.68094486173865, 40.75066393, 40.721198736666665, 40.73226399, 40.759345005, 40.70905623, 40.68815295, 40.699917775, 40.701907, 40.74102150900266, 40.691352752259895, 40.7190065, 40.77573017, 40.77621414060757, 40.71078281333333, 40.76312592, 40.750181563256824, 40.7546010513, 40.72494672359416, 40.78578505, 40.714690000000004, 40.77246085, 40.732241095, 40.75204587333333, 40.77528337666667, 40.69610213, 40.67502085, 40.78839, 40.70140308628863, 40.7921, 40.716166693333335, 40.686744149999996, 40.74947858433333, 40.80455575, 40.71323475407625, 40.756743653015896, 40.773508666666665, 40.7981858, 40.68323882730171, 40.793846800000004, 40.697734090000004, 40.693261, 40.7521345, 40.77829676666667, 40.690892860000005, 40.787900500000006, 40.691651915, 40.714948035, 40.69241814628923, 40.71844656484736, 40.74731, 40.698619, 40.725285, 40.70717918, 40.69178215, 40.733659835, 40.71907012333333, 40.71907717333334, 40.709340000000005, 40.818298999999996, 40.801343200000005, 40.71880662333333, 40.75496, 40.694087456666665, 40.723776805, 40.67296795], \"yaxis\": \"y\"}, {\"customdata\": [[\"0\"], [\"0\"], [\"0\"], [\"0\"], [\"0\"], [\"0\"], [\"0\"], [\"0\"], [\"0\"], [\"0\"], [\"0\"], [\"0\"], [\"0\"], [\"0\"], [\"0\"], [\"0\"], [\"0\"], [\"0\"], [\"0\"], [\"0\"], [\"0\"], [\"0\"], [\"0\"], [\"0\"], [\"0\"], [\"0\"], [\"0\"], [\"0\"], [\"0\"], [\"0\"], [\"0\"], [\"0\"], [\"0\"], [\"0\"], [\"0\"], [\"0\"], [\"0\"], [\"0\"], [\"0\"], [\"0\"], [\"0\"], [\"0\"], [\"0\"], [\"0\"], [\"0\"], [\"0\"], [\"0\"], [\"0\"], [\"0\"], [\"0\"], [\"0\"], [\"0\"], [\"0\"], [\"0\"], [\"0\"], [\"0\"], [\"0\"], [\"0\"], [\"0\"], [\"0\"], [\"0\"], [\"0\"], [\"0\"], [\"0\"], [\"0\"], [\"0\"], [\"0\"], [\"0\"], [\"0\"], [\"0\"], [\"0\"], [\"0\"], [\"0\"], [\"0\"], [\"0\"], [\"0\"], [\"0\"], [\"0\"], [\"0\"], [\"0\"], [\"0\"], [\"0\"], [\"0\"], [\"0\"], [\"0\"], [\"0\"], [\"0\"], [\"0\"], [\"0\"], [\"0\"], [\"0\"], [\"0\"], [\"0\"], [\"0\"], [\"0\"], [\"0\"], [\"0\"], [\"0\"], [\"0\"], [\"0\"], [\"0\"], [\"0\"], [\"0\"], [\"0\"], [\"0\"], [\"0\"], [\"0\"], [\"0\"], [\"0\"], [\"0\"], [\"0\"], [\"0\"], [\"0\"], [\"0\"], [\"0\"], [\"0\"], [\"0\"], [\"0\"], [\"0\"], [\"0\"], [\"0\"], [\"0\"], [\"0\"], [\"0\"], [\"0\"], [\"0\"], [\"0\"], [\"0\"], [\"0\"], [\"0\"], [\"0\"], [\"0\"], [\"0\"], [\"0\"], [\"0\"], [\"0\"], [\"0\"], [\"0\"], [\"0\"], [\"0\"], [\"0\"], [\"0\"], [\"0\"], [\"0\"], [\"0\"], [\"0\"], [\"0\"], [\"0\"], [\"0\"], [\"0\"], [\"0\"], [\"0\"], [\"0\"], [\"0\"], [\"0\"], [\"0\"], [\"0\"], [\"0\"], [\"0\"], [\"0\"], [\"0\"], [\"0\"], [\"0\"], [\"0\"], [\"0\"], [\"0\"], [\"0\"], [\"0\"], [\"0\"], [\"0\"], [\"0\"], [\"0\"], [\"0\"], [\"0\"], [\"0\"], [\"0\"], [\"0\"], [\"0\"], [\"0\"], [\"0\"], [\"0\"], [\"0\"], [\"0\"], [\"0\"], [\"0\"], [\"0\"], [\"0\"], [\"0\"], [\"0\"], [\"0\"], [\"0\"], [\"0\"], [\"0\"], [\"0\"], [\"0\"], [\"0\"], [\"0\"], [\"0\"], [\"0\"], [\"0\"], [\"0\"], [\"0\"], [\"0\"], [\"0\"], [\"0\"], [\"0\"], [\"0\"], [\"0\"], [\"0\"], [\"0\"], [\"0\"], [\"0\"], [\"0\"], [\"0\"], [\"0\"], [\"0\"], [\"0\"], [\"0\"], [\"0\"], [\"0\"], [\"0\"], [\"0\"], [\"0\"], [\"0\"], [\"0\"], [\"0\"], [\"0\"], [\"0\"], [\"0\"], [\"0\"], [\"0\"], [\"0\"], [\"0\"], [\"0\"], [\"0\"], [\"0\"], [\"0\"], [\"0\"], [\"0\"], [\"0\"], [\"0\"], [\"0\"], [\"0\"], [\"0\"], [\"0\"], [\"0\"], [\"0\"], [\"0\"], [\"0\"], [\"0\"], [\"0\"], [\"0\"], [\"0\"], [\"0\"], [\"0\"], [\"0\"], [\"0\"], [\"0\"], [\"0\"], [\"0\"], [\"0\"], [\"0\"], [\"0\"], [\"0\"], [\"0\"], [\"0\"], [\"0\"], [\"0\"], [\"0\"], [\"0\"], [\"0\"], [\"0\"], [\"0\"], [\"0\"], [\"0\"], [\"0\"], [\"0\"], [\"0\"], [\"0\"], [\"0\"], [\"0\"], [\"0\"], [\"0\"], [\"0\"], [\"0\"], [\"0\"], [\"0\"], [\"0\"], [\"0\"], [\"0\"], [\"0\"], [\"0\"], [\"0\"], [\"0\"], [\"0\"], [\"0\"], [\"0\"], [\"0\"], [\"0\"], [\"0\"], [\"0\"], [\"0\"], [\"0\"], [\"0\"], [\"0\"], [\"0\"], [\"0\"], [\"0\"], [\"0\"], [\"0\"], [\"0\"], [\"0\"], [\"0\"], [\"0\"], [\"0\"], [\"0\"], [\"0\"], [\"0\"], [\"0\"], [\"0\"], [\"0\"], [\"0\"], [\"0\"], [\"0\"], [\"0\"], [\"0\"], [\"0\"], [\"0\"], [\"0\"], [\"0\"], [\"0\"], [\"0\"], [\"0\"], [\"0\"], [\"0\"], [\"0\"], [\"0\"], [\"0\"], [\"0\"], [\"0\"], [\"0\"], [\"0\"], [\"0\"], [\"0\"], [\"0\"], [\"0\"], [\"0\"], [\"0\"], [\"0\"], [\"0\"], [\"0\"], [\"0\"], [\"0\"], [\"0\"], [\"0\"], [\"0\"], [\"0\"], [\"0\"], [\"0\"], [\"0\"], [\"0\"], [\"0\"], [\"0\"], [\"0\"], [\"0\"], [\"0\"], [\"0\"], [\"0\"], [\"0\"], [\"0\"], [\"0\"], [\"0\"], [\"0\"], [\"0\"], [\"0\"], [\"0\"], [\"0\"], [\"0\"], [\"0\"], [\"0\"], [\"0\"], [\"0\"], [\"0\"], [\"0\"], [\"0\"], [\"0\"], [\"0\"], [\"0\"], [\"0\"], [\"0\"], [\"0\"], [\"0\"], [\"0\"], [\"0\"], [\"0\"], [\"0\"], [\"0\"], [\"0\"], [\"0\"], [\"0\"], [\"0\"], [\"0\"], [\"0\"], [\"0\"], [\"0\"], [\"0\"], [\"0\"], [\"0\"], [\"0\"], [\"0\"], [\"0\"], [\"0\"], [\"0\"], [\"0\"], [\"0\"], [\"0\"], [\"0\"], [\"0\"], [\"0\"], [\"0\"], [\"0\"], [\"0\"], [\"0\"], [\"0\"], [\"0\"], [\"0\"], [\"0\"], [\"0\"], [\"0\"], [\"0\"], [\"0\"], [\"0\"], [\"0\"], [\"0\"], [\"0\"], [\"0\"], [\"0\"], [\"0\"], [\"0\"], [\"0\"], [\"0\"], [\"0\"], [\"0\"], [\"0\"], [\"0\"], [\"0\"], [\"0\"], [\"0\"], [\"0\"], [\"0\"], [\"0\"], [\"0\"], [\"0\"], [\"0\"], [\"0\"], [\"0\"], [\"0\"], [\"0\"], [\"0\"], [\"0\"], [\"0\"], [\"0\"], [\"0\"], [\"0\"], [\"0\"], [\"0\"], [\"0\"], [\"0\"], [\"0\"], [\"0\"], [\"0\"], [\"0\"], [\"0\"], [\"0\"], [\"0\"], [\"0\"], [\"0\"], [\"0\"], [\"0\"], [\"0\"], [\"0\"], [\"0\"], [\"0\"], [\"0\"], [\"0\"], [\"0\"], [\"0\"], [\"0\"], [\"0\"], [\"0\"], [\"0\"], [\"0\"], [\"0\"], [\"0\"], [\"0\"], [\"0\"], [\"0\"], [\"0\"], [\"0\"], [\"0\"], [\"0\"], [\"0\"], [\"0\"], [\"0\"], [\"0\"], [\"0\"], [\"0\"], [\"0\"], [\"0\"], [\"0\"], [\"0\"], [\"0\"], [\"0\"], [\"0\"], [\"0\"], [\"0\"], [\"0\"], [\"0\"], [\"0\"], [\"0\"], [\"0\"], [\"0\"], [\"0\"], [\"0\"], [\"0\"], [\"0\"], [\"0\"], [\"0\"], [\"0\"], [\"0\"], [\"0\"], [\"0\"], [\"0\"], [\"0\"], [\"0\"], [\"0\"], [\"0\"], [\"0\"], [\"0\"], [\"0\"], [\"0\"], [\"0\"], [\"0\"], [\"0\"], [\"0\"], [\"0\"], [\"0\"], [\"0\"], [\"0\"], [\"0\"], [\"0\"], [\"0\"], [\"0\"], [\"0\"], [\"0\"], [\"0\"], [\"0\"], [\"0\"], [\"0\"], [\"0\"], [\"0\"], [\"0\"], [\"0\"], [\"0\"], [\"0\"], [\"0\"], [\"0\"], [\"0\"], [\"0\"], [\"0\"], [\"0\"], [\"0\"], [\"0\"], [\"0\"], [\"0\"], [\"0\"], [\"0\"], [\"0\"], [\"0\"], [\"0\"], [\"0\"], [\"0\"], [\"0\"], [\"0\"], [\"0\"], [\"0\"], [\"0\"], [\"0\"], [\"0\"], [\"0\"], [\"0\"], [\"0\"], [\"0\"], [\"0\"], [\"0\"], [\"0\"], [\"0\"], [\"0\"], [\"0\"], [\"0\"], [\"0\"], [\"0\"], [\"0\"], [\"0\"], [\"0\"], [\"0\"], [\"0\"], [\"0\"], [\"0\"], [\"0\"], [\"0\"], [\"0\"], [\"0\"], [\"0\"], [\"0\"], [\"0\"], [\"0\"], [\"0\"], [\"0\"], [\"0\"], [\"0\"], [\"0\"], [\"0\"], [\"0\"], [\"0\"], [\"0\"], [\"0\"], [\"0\"], [\"0\"], [\"0\"], [\"0\"], [\"0\"], [\"0\"], [\"0\"], [\"0\"], [\"0\"], [\"0\"], [\"0\"], [\"0\"], [\"0\"], [\"0\"], [\"0\"], [\"0\"], [\"0\"], [\"0\"], [\"0\"], [\"0\"], [\"0\"], [\"0\"], [\"0\"], [\"0\"], [\"0\"], [\"0\"], [\"0\"], [\"0\"], [\"0\"], [\"0\"], [\"0\"], [\"0\"], [\"0\"], [\"0\"], [\"0\"], [\"0\"], [\"0\"], [\"0\"], [\"0\"], [\"0\"], [\"0\"], [\"0\"], [\"0\"], [\"0\"], [\"0\"], [\"0\"], [\"0\"], [\"0\"], [\"0\"], [\"0\"], [\"0\"], [\"0\"], [\"0\"], [\"0\"], [\"0\"], [\"0\"], [\"0\"], [\"0\"], [\"0\"], [\"0\"], [\"0\"], [\"0\"], [\"0\"], [\"0\"], [\"0\"], [\"0\"], [\"0\"], [\"0\"], [\"0\"], [\"0\"], [\"0\"], [\"0\"], [\"0\"], [\"0\"], [\"0\"], [\"0\"], [\"0\"], [\"0\"], [\"0\"], [\"0\"], [\"0\"], [\"0\"], [\"0\"], [\"0\"], [\"0\"], [\"0\"], [\"0\"], [\"0\"], [\"0\"], [\"0\"], [\"0\"], [\"0\"], [\"0\"], [\"0\"], [\"0\"], [\"0\"], [\"0\"], [\"0\"], [\"0\"], [\"0\"], [\"0\"], [\"0\"], [\"0\"], [\"0\"], [\"0\"], [\"0\"], [\"0\"], [\"0\"], [\"0\"], [\"0\"], [\"0\"], [\"0\"], [\"0\"]], \"hovertemplate\": \"bikeBehaviorGroup=%{customdata[0]}<br>longitude=%{x}<br>latitude=%{y}<extra></extra>\", \"legendgroup\": \"0\", \"marker\": {\"color\": \"#DD4477\", \"symbol\": \"circle\"}, \"mode\": \"markers\", \"name\": \"0\", \"showlegend\": true, \"type\": \"scattergl\", \"x\": [-73.905528, -73.969222865, -73.903944, -73.96910600000001, -73.896293, -73.92622304999999, -73.91226999999999, -73.97440128028394, -74.009106135, -73.88661, -73.903178, -73.929737, -73.99344013521196, -74.018846, -73.937648, -73.89685300000001, -74.0393, -73.98163220215, -73.94923596998977, -73.939789, -74.00536284474754, -73.98215353488922, -73.96158901926788, -73.94485909, -74.00014501, -73.898589, -73.98616890089225, -74.016562, -73.98671314510727, -73.981687, -73.90079, -74.01140500000001, -73.926994, -74.00944100000001, -73.902534, -73.985416875, -73.888587, -73.96552666666666, -73.903869, -73.89483100000001, -73.92524, -73.91431800000001, -73.918316, -74.008957, -73.930486, -73.951335, -73.916661, -73.96055619395065, -74.00413691997528, -73.97100985, -74.00860906, -73.903927, -74.001328, -73.95900985, -73.95941413333334, -73.95736477958678, -73.90241999999999, -73.96561393531037, -73.99608897591304, -74.003754, -73.911034, -73.92851999999999, -73.94229595446396, -73.98864992256165, -73.97058, -73.96818076525, -73.965633035, -73.95345714999999, -73.939929, -73.920827, -73.99127786970281, -74.03281, -73.967416, -74.00438618270684, -73.90208, -73.977724145, -73.995068, -73.99220011053086, -73.98013909795952, -74.021506, -73.9597, -73.9391222, -73.97960287705803, -73.909513, -74.020105, -73.908964, -73.93477720000001, -74.00348579499999, -73.9891903102398, -73.928947, -73.89794, -74.00264, -74.000472, -73.91116, -73.96226227283478, -73.926363, -74.000057, -73.95206, -73.97757, -73.9271440551014, -74.03354063630105, -74.01324699999999, -73.912297, -74.046304543, -73.95865200975035, -73.9109, -73.96060706, -73.92864705, -73.93217299999999, -73.925675, -73.99663699999999, -73.97989789855384, -73.972212, -73.898385, -73.98409207, -73.90878199999999, -73.92370600000001, -73.96961715, -74.002751, -74.03375890000001, -73.999057045, -74.01486587801742, -73.940493, -73.90798000000001, -73.90474, -73.94544599999999, -73.98199893, -73.93734, -73.98808416, -73.99316132068634, -73.99510189890863, -73.99645297500001, -73.93515, -73.97718340158461, -73.92799185000001, -73.983864, -74.03223305940628, -73.99200509, -73.91956, -73.99116039276123, -73.916894, -73.980420235, -73.96417083231535, -73.90108000000001, -73.977335, -73.95611190000001, -73.911918, -73.93366999999999, -73.92403110000001, -74.047726625, -73.9478086206716, -73.998194, -73.95202900000001, -73.959089, -73.98775212999999, -73.9127, -74.02324, -74.04105, -73.94800901412964, -73.9422369501648, -74.015726, -73.941275, -74.03768330812454, -73.933872, -73.906127, -74.0487903356552, -73.99194379889678, -73.95910263061523, -73.97839687999999, -73.98316936, -73.931308, -73.97750400000001, -73.98255, -73.93986575, -73.98383796215056, -73.99453948, -73.94968539476396, -73.893721, -73.91288, -74.005144, -73.92272, -73.97484113, -73.90266, -73.998392895, -73.998698965, -74.017651, -73.997852835, -74.01195577962685, -73.98469095230865, -73.907199, -73.91219, -73.930562, -74.00935491117905, -73.9169859, -73.89615, -73.942722, -73.9582695, -73.99951279999999, -73.97499599999999, -73.97822099999999, -73.92832159996033, -73.972573, -73.98684200000001, -73.93641, -73.98208984, -73.939336, -73.981693165, -73.941343, -73.90841999999999, -73.90238199999999, -73.910989, -73.90271, -73.97908504388809, -73.93735520000001, -73.99372222, -73.9559590408249, -73.91675712789632, -73.95591541698711, -73.91135899999999, -73.8855, -74.022141, -73.95041520000001, -73.931537, -73.96968901, -74.012384, -73.94733288, -73.91897522132396, -74.0014172, -74.01507, -73.98417077803421, -73.912715, -73.910765, -74.013587, -73.93039, -73.961199225, -73.99704374, -74.00242382, -73.93077, -73.938037, -73.90675999999999, -74.00354146957396, -73.97872810000001, -73.9397405, -73.951346, -73.9286079, -73.931205, -73.95643107, -73.9780819708023, -73.95621, -73.91605, -73.901824, -73.902185, -73.9591115, -73.94837348244191, -73.914311, -73.991007, -73.97658401889038, -73.96638207294083, -73.8931429, -73.938423, -73.98501142859459, -73.897366, -73.91119016549109, -73.90983100000001, -73.99331394, -73.938787, -74.07145500183104, -73.889914, -73.983293, -73.945948225, -73.91583997015476, -73.94772115, -74.01472614058304, -73.9149, -73.921631, -73.98620786, -73.95333588123322, -73.927311, -73.912042, -73.90463199999999, -73.9634, -73.908731, -73.89533, -74.00412082672119, -73.919365, -73.97355584499999, -74.00771789500001, -73.91758318808459, -73.973868, -73.9536, -73.9233555, -73.9596081, -73.97881150245668, -73.912212, -74.044247311, -74.02715027332306, -73.916916847229, -73.94882, -73.936515, -73.990993, -73.984276, -73.977739, -73.92062902450563, -73.912402, -73.98983000854491, -73.950988, -73.91008000000001, -73.921417796978, -73.92851, -73.91181, -73.97988987524033, -73.993037, -73.98257732391356, -73.901614, -73.914142, -73.979681, -73.935662, -73.924689, -73.97382795810701, -73.91171886307907, -73.911259, -73.89148, -73.99135318901189, -73.98165557, -73.94791195, -73.920603, -73.9805442094803, -73.88187582910001, -73.898237, -73.919685, -73.917135, -73.91614200000001, -73.98953900000001, -73.90742, -73.909562, -74.0043229, -73.97024549333334, -73.926226, -73.95928184, -73.95161, -74.02564, -73.9865, -74.008769047472, -73.89353100000001, -73.899558, -73.986418, -73.948185975, -73.97574813, -73.98154002, -73.980963, -73.99318204, -73.983074, -73.98995946666666, -74.001131, -73.90765400000001, -73.98546185000001, -73.949738, -73.94769500000001, -73.948222, -73.9614583, -74.014372, -74.005708, -73.933291, -73.90570799999999, -73.98896717666666, -73.995554, -73.90854399999999, -73.990625, -74.03450086712837, -73.988765925, -73.95414, -74.00514100000001, -73.90951, -73.979342, -73.98765487278939, -73.91641800000001, -73.90419200000001, -74.03355195, -73.92389, -73.937878, -74.00421999999999, -73.990974, -73.9738118648529, -73.925177, -74.040041, -73.90737, -73.925384, -73.966800785244, -73.908335, -73.98123100000001, -73.96703482, -73.927128, -74.05099, -73.995549, -73.92957493106127, -74.009271, -73.96865397691727, -73.995480795, -74.003101, -73.91608199999999, -73.999904095, -73.93098, -74.013318, -74.00527408829879, -74.004483, -73.910485, -74.00716800000001, -73.985649, -73.98974, -74.034234, -73.90342700000001, -73.99600982666016, -74.013821, -73.97809283522034, -73.98258555, -73.919205, -73.96277403333333, -73.98530222413635, -74.00962700000001, -73.973217, -73.99704679999999, -73.910963, -73.92710699999999, -73.94844, -74.0354828, -73.99446376658153, -73.91840585, -74.0641943, -73.92326700000001, -73.98263100000001, -73.950503, -73.95474300000001, -73.9641, -73.9249572, -73.922661, -74.009486, -73.99510194945432, -74.0050408244133, -73.92309398729515, -73.91337, -73.99810231, -73.9397209941368, -73.91497, -73.94112675, -73.9602511433334, -73.97898391719293, -73.89246, -73.9398630726757, -73.90674, -73.97519511499999, -73.919046, -73.962408, -73.98057249, -73.991454, -73.91292, -73.893675, -73.895166, -73.94102, -74.00785020500001, -73.900216, -73.95842134952545, -73.896752, -73.939865, -73.9620752892, -73.93561, -74.0625, -73.949765095, -74.07840594649316, -73.900063, -73.984326975, -74.04399090000001, -73.972651915, -73.91811589732933, -73.96186, -73.945909, -74.06661093235016, -73.901318, -74.04288411140442, -73.99158100000001, -73.97846889499999, -73.972628, -73.92207900000001, -73.98759102, -74.011884, -73.92617, -74.00398269295692, -73.95600096, -73.91765589798817, -73.915098, -74.0316, -74.014531, -73.91278, -73.99079012395859, -73.91519777562523, -73.91516, -73.94592, -73.94521, -73.920827, -74.03891444206238, -73.93625405, -73.911503, -73.925961, -73.90824, -73.983262, -74.020005, -73.95204, -74.015606, -74.0078679363575, -73.94860297, -73.965248, -73.919637, -73.92936, -73.98672603070736, -74.02778059244156, -73.9916, -73.93725886019897, -73.92404, -73.93949, -73.93214574999999, -74.00314047932625, -73.94427900000001, -74.04996782541275, -73.971205, -73.896849, -73.88772900000001, -73.973663, -73.92825, -73.913863, -73.914527, -73.93098, -73.97031366, -73.93796999999999, -73.98960500000001, -73.98783406499999, -74.04384499999999, -73.91566, -73.912785, -73.912604, -73.977885, -73.9470597560692, -73.96044, -74.03210820000001, -73.9265472, -74.07195925712584, -73.92302, -73.937854, -73.941427, -74.006584, -73.929513, -73.99465114389706, -73.94546, -73.92586999999999, -73.99246600000001, -73.97100078, -73.97513000000001, -73.97743299999999, -74.01686600000001, -73.91837197280978, -73.91744796230697, -73.90521, -73.9149348473835, -73.90625, -73.974235, -73.93266287762548, -73.897263, -73.995990995, -73.98471585752536, -73.98301411999999, -73.9344355, -73.94173, -73.890745, -73.91154499999999, -74.00530063, -74.00887, -73.918214, -73.99014896, -73.907999, -73.96496400000001, -73.96304, -73.98849, -73.983776205, -73.93226609999999, -73.982578, -73.93894, -73.97138707395172, -73.98957862329482, -73.92366104999999, -73.89522, -73.95963340288797, -73.937044, -74.000911, -73.919763, -73.929327, -73.927094, -73.93428610000001, -73.92806999999999, -73.9274362354927, -73.98396823, -73.9398550493622, -74.04696375131606, -73.96123900512964, -73.99968790288591, -73.981073, -73.9622621364174, -74.02535309664154, -73.889686, -74.01782, -73.922648, -74.03852552175522, -73.947868, -73.890247, -73.95394, -73.94185999999999, -73.938631, -73.945993, -73.9120939, -73.993641115, -73.90655799999999, -73.917014, -74.00697, -73.90876296591188, -73.88793100000001, -73.9938586950302, -73.99158043, -73.92243, -73.91422, -73.98093133, -73.95563710828401, -73.96845290562058, -73.99581685380554, -73.993161, -73.94430718, -73.918389, -73.93936, -73.90904, -73.892686, -74.0431174635887, -74.000939, -73.91531775, -73.964179, -74.0789, -73.907342, -74.002356, -73.971211, -73.91366975, -73.976291, -73.96782900000001, -74.00831590081025, -73.949702, -73.972432, -73.942386, -74.00636999999999, -73.88839, -73.906018, -73.987000765, -73.95921915335367, -74.020005, -73.986726, -74.03805095, -73.901883, -73.985543, -73.94984811333333, -73.9646, -73.914952, -73.91945, -73.96224608979034, -74.04557168483734, -73.88412, -73.918544, -73.96685288, -73.912498, -73.98765762, -73.9364281, -73.994403145, -73.900318, -73.975748065, -73.934326, -73.92793, -74.04595255851744, -73.93856, -73.919543, -73.926907, -74.00170200000001, -74.01099599999999, -73.90316, -73.907107, -73.93349294947052, -73.98257732391356, -73.917946, -73.992573, -73.92717380725097, -74.01682595040556, -73.904726, -73.93889, -73.891559, -73.9096, -73.996975, -73.913741, -74.051788633, -73.928381, -73.959757, -74.0334588, -74.00165855884552, -73.974165, -74.00890600000001, -73.91999799999999, -73.935877, -73.919379, -73.931015, -73.899047, -73.8985, -74.0076531479969, -73.96648977, -73.95512759685515, -73.98148309999999, -73.9309132, -73.93296993409157, -73.903787, -73.91054, -73.9142679, -73.89714000000001, -73.90974, -73.898802, -73.91906, -73.88862495326997, -73.998633, -73.93200427293776, -73.979827, -73.89186, -73.9566, -73.998623, -73.990539, -74.010065, -73.925591, -73.895133, -73.96125485, -73.92304399999999, -73.95943199999999, -73.93526925, -73.93441], \"xaxis\": \"x\", \"y\": [40.855653000000004, 40.684157240000005, 40.820302000000005, 40.673134000000005, 40.76817, 40.756933100000005, 40.68858, 40.6999974843885, 40.714739965, 40.87382, 40.848793, 40.752443, 40.695356966601125, 40.64744, 40.846052, 40.831762, 40.73879, 40.7520621535, 40.719103905653476, 40.83618, 40.727897007045115, 40.74311555376486, 40.79603692079992, 40.71698105, 40.67835615, 40.861669, 40.72633092985848, 40.633385, 40.742684867437845, 40.783786, 40.860079999999996, 40.651173, 40.863124, 40.642703000000004, 40.762507, 40.670492100000004, 40.839194, 40.676979466666666, 40.846465, 40.861915, 40.69356, 40.871390000000005, 40.836490000000005, 40.639672999999995, 40.766824, 40.796170000000004, 40.854946999999996, 40.666439153435405, 40.7429489166009, 40.68097405, 40.681211850000004, 40.814232000000004, 40.671409000000004, 40.77677701, 40.80874996666666, 40.810285031530015, 40.824796, 40.7675339338271, 40.75414509631759, 40.644743, 40.800425, 40.693290000000005, 40.81695985516232, 40.72335598980398, 40.648481, 40.8021172, 40.686500824999996, 40.74490685, 40.830476000000004, 40.763154, 40.68542400498509, 40.71687, 40.756014, 40.70772199245845, 40.83171, 40.729386925, 40.659555, 40.69452071379911, 40.65949077946948, 40.644512, 40.7903, 40.7576312, 40.75793623121837, 40.801657, 40.649291999999996, 40.851746999999996, 40.7668, 40.6830458, 40.72686951528207, 40.820089, 40.86659, 40.752957, 40.726378000000004, 40.70998, 40.75892386377695, 40.867505, 40.648169, 40.788129999999995, 40.789621999999994, 40.75960423569397, 40.750915534784994, 40.709267, 40.784003000000006, 40.72152515, 40.75370212709557, 40.83899, 40.769942799999995, 40.76335895, 40.857994, 40.70469, 40.747968, 40.68256412879847, 40.651565999999995, 40.853929, 40.74025889, 40.763328, 40.774645, 40.78472675, 40.708484999999996, 40.7272235, 40.68095905, 40.69231680359596, 40.84522, 40.6882, 40.67945, 40.839278, 40.6662079, 40.710190000000004, 40.74854862, 40.71779817737835, 40.726156049804075, 40.686175899999995, 40.713811, 40.790254173304184, 40.7531108, 40.656633, 40.74265933273143, 40.73492695, 40.831959999999995, 40.68848905639242, 40.783955999999996, 40.760659849999996, 40.79249509747555, 40.86294, 40.656290000000006, 40.67622146666667, 40.815887, 40.75473, 40.7647, 40.71848892, 40.71625343991187, 40.656985999999996, 40.71607505, 40.820003, 40.67507075, 40.698, 40.639978, 40.71649, 40.72146256229816, 40.71907895589782, 40.640125, 40.7485, 40.71517767732029, 40.859165999999995, 40.772717, 40.72568548362901, 40.7647341000326, 40.76817546742245, 40.67038385000001, 40.75527307, 40.852253000000005, 40.659945, 40.758396999999995, 40.75259125, 40.716909780459645, 40.73543934, 40.784596798848916, 40.827184, 40.82809, 40.649983, 40.827115, 40.671197899999996, 40.858472, 40.75007285, 40.67639485, 40.641269, 40.6831162, 40.673635756707526, 40.70296917077636, 40.836103, 40.86156, 40.76108, 40.70858897120291, 40.7671, 40.85556, 40.827212, 40.745519, 40.689395100000006, 40.752643, 40.74147, 40.75820464696758, 40.652563, 40.702461, 40.700759999999995, 40.6704838, 40.813619, 40.766953085, 40.848282, 40.77813, 40.777112, 40.76072, 40.69812, 40.78253592886205, 40.76718615, 40.75645824, 40.78141085009501, 40.86765819475955, 40.74390876235563, 40.847409999999996, 40.813990999999994, 40.637033, 40.72179117, 40.868846000000005, 40.68764492, 40.649143, 40.74524784, 40.75905797709293, 40.688087849999995, 40.70463, 40.71511885998248, 40.755763, 40.850121, 40.652502, 40.70112, 40.768736935, 40.73649403, 40.6859298, 40.78294, 40.682601, 40.765753000000004, 40.710699946313866, 40.6740888, 40.752708500000004, 40.822756, 40.770374149999995, 40.847396, 40.6906495, 40.75969997953127, 40.72606, 40.69296, 40.822545, 40.837119, 40.758553500000005, 40.71772398500574, 40.845504999999996, 40.663493, 40.66509793844597, 40.75792010439701, 40.83587705, 40.849971999999994, 40.674613422475815, 40.823926, 40.77301504145691, 40.758057, 40.6724811, 40.817245, 40.72210378668603, 40.770888, 40.741459000000006, 40.75052517, 40.76417476009884, 40.76390895, 40.67583297195645, 40.831584, 40.756913, 40.6849669, 40.779406085297865, 40.825737, 40.844811, 40.764496, 40.810949199999996, 40.853646000000005, 40.873870000000004, 40.7252556952547, 40.71273, 40.695807025, 40.721853894999995, 40.86308918906637, 40.6978935, 40.757284000000006, 40.7070825, 40.6765199, 40.728048571362606, 40.780478, 40.727595965999996, 40.74998490907139, 40.76129389728909, 40.71764, 40.756351, 40.72769, 40.644366999999995, 40.650739, 40.7664255270288, 40.753440999999995, 40.67260299075063, 40.818215, 40.858340000000005, 40.8612819853755, 40.70686, 40.69055, 40.68177805464381, 40.665507, 40.75668720603179, 40.757525, 40.763422, 40.645074, 40.856906, 40.823429, 40.67716489469059, 40.69987120441495, 40.828975, 40.86945, 40.69621932376438, 40.73221853, 40.75190705, 40.753091, 40.73381219196632, 40.8704958, 40.856987, 40.86788, 40.709900000000005, 40.7729, 40.752148999999996, 40.70068, 40.761294, 40.71032305, 40.69796, 40.831444, 40.686767965, 40.73124, 40.640493, 40.677027, 40.73191116161587, 40.768442, 40.778089, 40.643546, 40.704117955, 40.72368361, 40.6792789, 40.646037, 40.682915050000005, 40.660906, 40.668402, 40.654098, 40.757764, 40.66631805, 40.826969, 40.73042, 40.816234, 40.68223166, 40.654798, 40.645921, 40.847305, 40.779399, 40.665858, 40.662584, 40.842675, 40.771771, 40.744397833095604, 40.67051375, 40.72795, 40.745686, 40.68929, 40.648005, 40.67909799860842, 40.851788, 40.811892, 40.714145200000004, 40.793459999999996, 40.855331, 40.654144, 40.66016, 40.683222541615955, 40.805701, 40.743140000000004, 40.70413, 40.752371999999994, 40.78866499563942, 40.774306, 40.651654, 40.7691571, 40.85564, 40.71942, 40.666168, 40.75651286492477, 40.646351, 40.758996559605116, 40.700378834999995, 40.655278, 40.848177, 40.68280015, 40.69757, 40.642408, 40.740057042836426, 40.647104999999996, 40.776168, 40.651354, 40.673746, 40.732690000000005, 40.71925170000001, 40.75574, 40.72430527250332, 40.638196, 40.74172375548736, 40.6827549, 40.849629, 40.673815866666665, 40.731539187320365, 40.656326, 40.65482, 40.71413089, 40.767666, 40.807466, 40.72084, 40.72429405, 40.713107011529544, 40.7699178, 40.7236589, 40.823161999999996, 40.756951, 40.7849031, 40.824013, 40.8082, 40.768692, 40.862562, 40.649145000000004, 40.72615602490204, 40.70831794366396, 40.85890423769206, 40.69943, 40.72917025, 40.8408960159652, 40.70863, 40.761437799999996, 40.664079918390804, 40.732339888575524, 40.863890000000005, 40.76535390192933, 40.6972, 40.67933085, 40.778557, 40.678045000000004, 40.72955361, 40.700469, 40.70577, 40.77028, 40.772092, 40.832314000000004, 40.679432850000005, 40.843078999999996, 40.772248537721744, 40.821967, 40.834468, 40.79983793333333, 40.743, 40.733670000000004, 40.705380885, 40.7246050998869, 40.775415, 40.68021315, 40.7443187, 40.687534029999995, 40.76547584622477, 40.795346, 40.827075, 40.71435836870427, 40.850535, 40.72165072487999, 40.7003, 40.6765302, 40.761573, 40.847746, 40.6864441, 40.643371, 40.692, 40.73756121181137, 40.71774592, 40.82723024981236, 40.785994, 40.754090000000005, 40.644861999999996, 40.855156, 40.681990221353516, 40.869324828200476, 40.69905, 40.83299, 40.813539, 40.863211, 40.71835519823214, 40.794566149999994, 40.871094, 40.839141999999995, 40.693000000000005, 40.676757, 40.635678999999996, 40.733959999999996, 40.650176, 40.70336693347933, 40.78592005, 40.651847, 40.846011, 40.867357, 40.711471394469264, 40.73698221818716, 40.749156, 40.74128304677997, 40.80046, 40.840123999999996, 40.759627800000004, 40.67630357634183, 40.829522999999995, 40.72163014263835, 40.700424999999996, 40.772899, 40.825322, 40.647718, 40.69502, 40.800933, 40.782465, 40.69757, 40.75968085, 40.751047, 40.658029, 40.724677105, 40.717732500000004, 40.697140000000005, 40.850035999999996, 40.838315, 40.746524, 40.71036877117615, 40.741609999999994, 40.728744799999994, 40.7658348, 40.72572613742557, 40.69676, 40.852252, 40.826881, 40.659176, 40.854788, 40.69400982432997, 40.721579999999996, 40.708690000000004, 40.666197, 40.70531197, 40.75863, 40.643817, 40.642621999999996, 40.87305479468545, 40.831305246336484, 40.82895, 40.77406007491112, 40.70183, 40.757334, 40.77259984609085, 40.819998999999996, 40.678724100000004, 40.742751898244975, 40.685584033333335, 40.706618500000005, 40.725770000000004, 40.768728, 40.804168, 40.70823502, 40.73115, 40.853157, 40.695976915, 40.807258000000004, 40.8059865, 40.68488, 40.73127, 40.668127, 40.7682, 40.70224, 40.713229999999996, 40.751183937316384, 40.69515863883452, 40.75573285, 40.86448, 40.731542672403215, 40.839443, 40.647379, 40.803399, 40.826677000000004, 40.853142, 40.7628139, 40.696709999999996, 40.77276814314415, 40.663779, 40.76315490955186, 40.73520838045357, 40.73173489294173, 40.72840079725414, 40.642031, 40.758923931888475, 40.68512579757707, 40.832171, 40.63766, 40.866141, 40.7124188237569, 40.821294, 40.818743, 40.730259999999994, 40.85168, 40.842940999999996, 40.791976, 40.77014785, 40.67772885, 40.776745, 40.754795, 40.73498, 40.701573204368955, 40.836733, 40.759030082196055, 40.73261787, 40.83406, 40.70113, 40.78339981, 40.67759203468688, 40.76800894652973, 40.732758935225434, 40.717797999999995, 40.77545738333333, 40.848354, 40.705517, 40.69811, 40.831998, 40.71958611647166, 40.735918, 40.776165, 40.756265, 40.71113, 40.846879, 40.652657, 40.782593, 40.76562505, 40.653368, 40.649681, 40.74198179997012, 40.832164, 40.648055, 40.832081, 40.704370000000004, 40.87142, 40.769673, 40.66862715, 40.7224819431911, 40.635678999999996, 40.711471, 40.721123600000006, 40.847798, 40.658489, 40.74672395333334, 40.763954, 40.75388, 40.70636, 40.76712820174771, 40.72528910781132, 40.86813, 40.774591, 40.772828085, 40.853685999999996, 40.70281858, 40.752575799999995, 40.684989200000004, 40.754176, 40.72368380500001, 40.754876, 40.714009999999995, 40.723331586464354, 40.715353, 40.754139, 40.822351, 40.740983, 40.640831, 40.86288, 40.760083, 40.751869757109375, 40.75668720603179, 40.840484000000004, 40.768333, 40.857157906959515, 40.6870209329197, 40.757357, 40.72226, 40.816126000000004, 40.705529999999996, 40.762009, 40.83579, 40.742677141, 40.834457, 40.776173, 40.7162469, 40.72494672359416, 40.657265, 40.652512, 40.750181, 40.697480999999996, 40.823732, 40.829797, 40.839228999999996, 40.842240000000004, 40.725839983961876, 40.76440023, 40.777553742988864, 40.6751621, 40.77398275, 40.85648716761788, 40.774798, 40.704609999999995, 40.75957005, 40.871559999999995, 40.69385, 40.82995, 40.79558, 40.81872584995058, 40.660078999999996, 40.703048421084425, 40.699569, 40.87444, 40.74237385, 40.662611, 40.69383, 40.721319, 40.861382, 40.835302, 40.8120561, 40.699304, 40.68186, 40.74513146, 40.852538], \"yaxis\": \"y\"}, {\"customdata\": [[\"-1\"], [\"-1\"], [\"-1\"], [\"-1\"], [\"-1\"], [\"-1\"], [\"-1\"], [\"-1\"], [\"-1\"], [\"-1\"], [\"-1\"], [\"-1\"], [\"-1\"], [\"-1\"], [\"-1\"], [\"-1\"], [\"-1\"], [\"-1\"], [\"-1\"], [\"-1\"], [\"-1\"], [\"-1\"], [\"-1\"], [\"-1\"], [\"-1\"], [\"-1\"], [\"-1\"], [\"-1\"], [\"-1\"], [\"-1\"], [\"-1\"], [\"-1\"]], \"hovertemplate\": \"bikeBehaviorGroup=%{customdata[0]}<br>longitude=%{x}<br>latitude=%{y}<extra></extra>\", \"legendgroup\": \"-1\", \"marker\": {\"color\": \"#66AA00\", \"symbol\": \"circle\"}, \"mode\": \"markers\", \"name\": \"-1\", \"showlegend\": true, \"type\": \"scattergl\", \"x\": [-73.9233485, -73.9154, -74.06384825706482, -73.924963, -73.911517, -73.99463653564453, -73.90202, -73.886445, -74.0106278657913, -74.0119798548061, -73.905838, -73.9823307803421, -73.907302, -73.91839, -74.04044315060045, -73.914737, -73.99497985839844, -74.08363940000001, -73.88955, -74.01169285662381, -73.907729, -74.07126188278198, -74.006664, -74.0557013, -73.912807, -74.05065640000001, -73.92703399999999, -73.894143, -74.0686011314392, -73.917579, -74.06762212514876, -74.0575736], \"xaxis\": \"x\", \"y\": [40.81236749999999, 40.835334, 40.73081986158418, 40.814469, 40.755389, 40.66906013501107, 40.81899, 40.839335, 40.65539977447831, 40.7286598161823, 40.838378999999996, 40.716444115672395, 40.856302, 40.814673, 40.74871597269011, 40.817166, 40.66979964220026, 40.71821129999999, 40.834123999999996, 40.7284869305869, 40.811314, 40.71928220070703, 40.655716, 40.711242299999995, 40.872412, 40.7241765, 40.838706, 40.818185, 40.70965083364061, 40.820570000000004, 40.7253399253558, 40.7311689], \"yaxis\": \"y\"}],                        {\"height\": 800, \"legend\": {\"title\": {\"text\": \"bikeBehaviorGroup\"}, \"tracegroupgap\": 0}, \"template\": {\"data\": {\"bar\": [{\"error_x\": {\"color\": \"#2a3f5f\"}, \"error_y\": {\"color\": \"#2a3f5f\"}, \"marker\": {\"line\": {\"color\": \"#E5ECF6\", \"width\": 0.5}}, \"type\": \"bar\"}], \"barpolar\": [{\"marker\": {\"line\": {\"color\": \"#E5ECF6\", \"width\": 0.5}}, \"type\": \"barpolar\"}], \"carpet\": [{\"aaxis\": {\"endlinecolor\": \"#2a3f5f\", \"gridcolor\": \"white\", \"linecolor\": \"white\", \"minorgridcolor\": \"white\", \"startlinecolor\": \"#2a3f5f\"}, \"baxis\": {\"endlinecolor\": \"#2a3f5f\", \"gridcolor\": \"white\", \"linecolor\": \"white\", \"minorgridcolor\": \"white\", \"startlinecolor\": \"#2a3f5f\"}, \"type\": \"carpet\"}], \"choropleth\": [{\"colorbar\": {\"outlinewidth\": 0, \"ticks\": \"\"}, \"type\": \"choropleth\"}], \"contour\": [{\"colorbar\": {\"outlinewidth\": 0, \"ticks\": \"\"}, \"colorscale\": [[0.0, \"#0d0887\"], [0.1111111111111111, \"#46039f\"], [0.2222222222222222, \"#7201a8\"], [0.3333333333333333, \"#9c179e\"], [0.4444444444444444, \"#bd3786\"], [0.5555555555555556, \"#d8576b\"], [0.6666666666666666, \"#ed7953\"], [0.7777777777777778, \"#fb9f3a\"], [0.8888888888888888, \"#fdca26\"], [1.0, \"#f0f921\"]], \"type\": \"contour\"}], \"contourcarpet\": [{\"colorbar\": {\"outlinewidth\": 0, \"ticks\": \"\"}, \"type\": \"contourcarpet\"}], \"heatmap\": [{\"colorbar\": {\"outlinewidth\": 0, \"ticks\": \"\"}, \"colorscale\": [[0.0, \"#0d0887\"], [0.1111111111111111, \"#46039f\"], [0.2222222222222222, \"#7201a8\"], [0.3333333333333333, \"#9c179e\"], [0.4444444444444444, \"#bd3786\"], [0.5555555555555556, \"#d8576b\"], [0.6666666666666666, \"#ed7953\"], [0.7777777777777778, \"#fb9f3a\"], [0.8888888888888888, \"#fdca26\"], [1.0, \"#f0f921\"]], \"type\": \"heatmap\"}], \"heatmapgl\": [{\"colorbar\": {\"outlinewidth\": 0, \"ticks\": \"\"}, \"colorscale\": [[0.0, \"#0d0887\"], [0.1111111111111111, \"#46039f\"], [0.2222222222222222, \"#7201a8\"], [0.3333333333333333, \"#9c179e\"], [0.4444444444444444, \"#bd3786\"], [0.5555555555555556, \"#d8576b\"], [0.6666666666666666, \"#ed7953\"], [0.7777777777777778, \"#fb9f3a\"], [0.8888888888888888, \"#fdca26\"], [1.0, \"#f0f921\"]], \"type\": \"heatmapgl\"}], \"histogram\": [{\"marker\": {\"colorbar\": {\"outlinewidth\": 0, \"ticks\": \"\"}}, \"type\": \"histogram\"}], \"histogram2d\": [{\"colorbar\": {\"outlinewidth\": 0, \"ticks\": \"\"}, \"colorscale\": [[0.0, \"#0d0887\"], [0.1111111111111111, \"#46039f\"], [0.2222222222222222, \"#7201a8\"], [0.3333333333333333, \"#9c179e\"], [0.4444444444444444, \"#bd3786\"], [0.5555555555555556, \"#d8576b\"], [0.6666666666666666, \"#ed7953\"], [0.7777777777777778, \"#fb9f3a\"], [0.8888888888888888, \"#fdca26\"], [1.0, \"#f0f921\"]], \"type\": \"histogram2d\"}], \"histogram2dcontour\": [{\"colorbar\": {\"outlinewidth\": 0, \"ticks\": \"\"}, \"colorscale\": [[0.0, \"#0d0887\"], [0.1111111111111111, \"#46039f\"], [0.2222222222222222, \"#7201a8\"], [0.3333333333333333, \"#9c179e\"], [0.4444444444444444, \"#bd3786\"], [0.5555555555555556, \"#d8576b\"], [0.6666666666666666, \"#ed7953\"], [0.7777777777777778, \"#fb9f3a\"], [0.8888888888888888, \"#fdca26\"], [1.0, \"#f0f921\"]], \"type\": \"histogram2dcontour\"}], \"mesh3d\": [{\"colorbar\": {\"outlinewidth\": 0, \"ticks\": \"\"}, \"type\": \"mesh3d\"}], \"parcoords\": [{\"line\": {\"colorbar\": {\"outlinewidth\": 0, \"ticks\": \"\"}}, \"type\": \"parcoords\"}], \"pie\": [{\"automargin\": true, \"type\": \"pie\"}], \"scatter\": [{\"marker\": {\"colorbar\": {\"outlinewidth\": 0, \"ticks\": \"\"}}, \"type\": \"scatter\"}], \"scatter3d\": [{\"line\": {\"colorbar\": {\"outlinewidth\": 0, \"ticks\": \"\"}}, \"marker\": {\"colorbar\": {\"outlinewidth\": 0, \"ticks\": \"\"}}, \"type\": \"scatter3d\"}], \"scattercarpet\": [{\"marker\": {\"colorbar\": {\"outlinewidth\": 0, \"ticks\": \"\"}}, \"type\": \"scattercarpet\"}], \"scattergeo\": [{\"marker\": {\"colorbar\": {\"outlinewidth\": 0, \"ticks\": \"\"}}, \"type\": \"scattergeo\"}], \"scattergl\": [{\"marker\": {\"colorbar\": {\"outlinewidth\": 0, \"ticks\": \"\"}}, \"type\": \"scattergl\"}], \"scattermapbox\": [{\"marker\": {\"colorbar\": {\"outlinewidth\": 0, \"ticks\": \"\"}}, \"type\": \"scattermapbox\"}], \"scatterpolar\": [{\"marker\": {\"colorbar\": {\"outlinewidth\": 0, \"ticks\": \"\"}}, \"type\": \"scatterpolar\"}], \"scatterpolargl\": [{\"marker\": {\"colorbar\": {\"outlinewidth\": 0, \"ticks\": \"\"}}, \"type\": \"scatterpolargl\"}], \"scatterternary\": [{\"marker\": {\"colorbar\": {\"outlinewidth\": 0, \"ticks\": \"\"}}, \"type\": \"scatterternary\"}], \"surface\": [{\"colorbar\": {\"outlinewidth\": 0, \"ticks\": \"\"}, \"colorscale\": [[0.0, \"#0d0887\"], [0.1111111111111111, \"#46039f\"], [0.2222222222222222, \"#7201a8\"], [0.3333333333333333, \"#9c179e\"], [0.4444444444444444, \"#bd3786\"], [0.5555555555555556, \"#d8576b\"], [0.6666666666666666, \"#ed7953\"], [0.7777777777777778, \"#fb9f3a\"], [0.8888888888888888, \"#fdca26\"], [1.0, \"#f0f921\"]], \"type\": \"surface\"}], \"table\": [{\"cells\": {\"fill\": {\"color\": \"#EBF0F8\"}, \"line\": {\"color\": \"white\"}}, \"header\": {\"fill\": {\"color\": \"#C8D4E3\"}, \"line\": {\"color\": \"white\"}}, \"type\": \"table\"}]}, \"layout\": {\"annotationdefaults\": {\"arrowcolor\": \"#2a3f5f\", \"arrowhead\": 0, \"arrowwidth\": 1}, \"autotypenumbers\": \"strict\", \"coloraxis\": {\"colorbar\": {\"outlinewidth\": 0, \"ticks\": \"\"}}, \"colorscale\": {\"diverging\": [[0, \"#8e0152\"], [0.1, \"#c51b7d\"], [0.2, \"#de77ae\"], [0.3, \"#f1b6da\"], [0.4, \"#fde0ef\"], [0.5, \"#f7f7f7\"], [0.6, \"#e6f5d0\"], [0.7, \"#b8e186\"], [0.8, \"#7fbc41\"], [0.9, \"#4d9221\"], [1, \"#276419\"]], \"sequential\": [[0.0, \"#0d0887\"], [0.1111111111111111, \"#46039f\"], [0.2222222222222222, \"#7201a8\"], [0.3333333333333333, \"#9c179e\"], [0.4444444444444444, \"#bd3786\"], [0.5555555555555556, \"#d8576b\"], [0.6666666666666666, \"#ed7953\"], [0.7777777777777778, \"#fb9f3a\"], [0.8888888888888888, \"#fdca26\"], [1.0, \"#f0f921\"]], \"sequentialminus\": [[0.0, \"#0d0887\"], [0.1111111111111111, \"#46039f\"], [0.2222222222222222, \"#7201a8\"], [0.3333333333333333, \"#9c179e\"], [0.4444444444444444, \"#bd3786\"], [0.5555555555555556, \"#d8576b\"], [0.6666666666666666, \"#ed7953\"], [0.7777777777777778, \"#fb9f3a\"], [0.8888888888888888, \"#fdca26\"], [1.0, \"#f0f921\"]]}, \"colorway\": [\"#636efa\", \"#EF553B\", \"#00cc96\", \"#ab63fa\", \"#FFA15A\", \"#19d3f3\", \"#FF6692\", \"#B6E880\", \"#FF97FF\", \"#FECB52\"], \"font\": {\"color\": \"#2a3f5f\"}, \"geo\": {\"bgcolor\": \"white\", \"lakecolor\": \"white\", \"landcolor\": \"#E5ECF6\", \"showlakes\": true, \"showland\": true, \"subunitcolor\": \"white\"}, \"hoverlabel\": {\"align\": \"left\"}, \"hovermode\": \"closest\", \"mapbox\": {\"style\": \"light\"}, \"paper_bgcolor\": \"white\", \"plot_bgcolor\": \"#E5ECF6\", \"polar\": {\"angularaxis\": {\"gridcolor\": \"white\", \"linecolor\": \"white\", \"ticks\": \"\"}, \"bgcolor\": \"#E5ECF6\", \"radialaxis\": {\"gridcolor\": \"white\", \"linecolor\": \"white\", \"ticks\": \"\"}}, \"scene\": {\"xaxis\": {\"backgroundcolor\": \"#E5ECF6\", \"gridcolor\": \"white\", \"gridwidth\": 2, \"linecolor\": \"white\", \"showbackground\": true, \"ticks\": \"\", \"zerolinecolor\": \"white\"}, \"yaxis\": {\"backgroundcolor\": \"#E5ECF6\", \"gridcolor\": \"white\", \"gridwidth\": 2, \"linecolor\": \"white\", \"showbackground\": true, \"ticks\": \"\", \"zerolinecolor\": \"white\"}, \"zaxis\": {\"backgroundcolor\": \"#E5ECF6\", \"gridcolor\": \"white\", \"gridwidth\": 2, \"linecolor\": \"white\", \"showbackground\": true, \"ticks\": \"\", \"zerolinecolor\": \"white\"}}, \"shapedefaults\": {\"line\": {\"color\": \"#2a3f5f\"}}, \"ternary\": {\"aaxis\": {\"gridcolor\": \"white\", \"linecolor\": \"white\", \"ticks\": \"\"}, \"baxis\": {\"gridcolor\": \"white\", \"linecolor\": \"white\", \"ticks\": \"\"}, \"bgcolor\": \"#E5ECF6\", \"caxis\": {\"gridcolor\": \"white\", \"linecolor\": \"white\", \"ticks\": \"\"}}, \"title\": {\"x\": 0.05}, \"xaxis\": {\"automargin\": true, \"gridcolor\": \"white\", \"linecolor\": \"white\", \"ticks\": \"\", \"title\": {\"standoff\": 15}, \"zerolinecolor\": \"white\", \"zerolinewidth\": 2}, \"yaxis\": {\"automargin\": true, \"gridcolor\": \"white\", \"linecolor\": \"white\", \"ticks\": \"\", \"title\": {\"standoff\": 15}, \"zerolinecolor\": \"white\", \"zerolinewidth\": 2}}}, \"title\": {\"text\": \"End Station Bike Behavior Group\"}, \"xaxis\": {\"anchor\": \"y\", \"domain\": [0.0, 1.0], \"title\": {\"text\": \"longitude\"}}, \"yaxis\": {\"anchor\": \"x\", \"domain\": [0.0, 1.0], \"title\": {\"text\": \"latitude\"}}},                        {\"responsive\": true}                    ).then(function(){\n",
       "                            \n",
       "var gd = document.getElementById('2dc1afcc-dd89-4af5-8d97-fa83e089cf6b');\n",
       "var x = new MutationObserver(function (mutations, observer) {{\n",
       "        var display = window.getComputedStyle(gd).display;\n",
       "        if (!display || display === 'none') {{\n",
       "            console.log([gd, 'removed!']);\n",
       "            Plotly.purge(gd);\n",
       "            observer.disconnect();\n",
       "        }}\n",
       "}});\n",
       "\n",
       "// Listen for the removal of the full notebook cells\n",
       "var notebookContainer = gd.closest('#notebook-container');\n",
       "if (notebookContainer) {{\n",
       "    x.observe(notebookContainer, {childList: true});\n",
       "}}\n",
       "\n",
       "// Listen for the clearing of the current output cell\n",
       "var outputEl = gd.closest('.output');\n",
       "if (outputEl) {{\n",
       "    x.observe(outputEl, {childList: true});\n",
       "}}\n",
       "\n",
       "                        })                };                });            </script>        </div>"
      ]
     },
     "metadata": {},
     "output_type": "display_data"
    }
   ],
   "source": [
    "\n",
    "fig.show()"
   ]
  },
  {
   "cell_type": "markdown",
   "metadata": {},
   "source": [
    "### Observations on map of bikeBehaviorGroups of trips:\n",
    "\n",
    "# NEED TO DO"
   ]
  },
  {
   "cell_type": "code",
   "execution_count": 34,
   "metadata": {},
   "outputs": [
    {
     "data": {
      "text/plain": [
       "endStationName       1631\n",
       "latitude             1631\n",
       "longitude            1631\n",
       "bikeBehaviorGroup    1631\n",
       "dtype: int64"
      ]
     },
     "execution_count": 34,
     "metadata": {},
     "output_type": "execute_result"
    }
   ],
   "source": [
    "df_p.count()"
   ]
  },
  {
   "cell_type": "code",
   "execution_count": 37,
   "metadata": {},
   "outputs": [
    {
     "data": {
      "text/html": [
       "<div>\n",
       "<style scoped>\n",
       "    .dataframe tbody tr th:only-of-type {\n",
       "        vertical-align: middle;\n",
       "    }\n",
       "\n",
       "    .dataframe tbody tr th {\n",
       "        vertical-align: top;\n",
       "    }\n",
       "\n",
       "    .dataframe thead th {\n",
       "        text-align: right;\n",
       "    }\n",
       "</style>\n",
       "<table border=\"1\" class=\"dataframe\">\n",
       "  <thead>\n",
       "    <tr style=\"text-align: right;\">\n",
       "      <th></th>\n",
       "      <th>endStationName</th>\n",
       "      <th>latitude</th>\n",
       "      <th>longitude</th>\n",
       "      <th>bikeBehaviorGroup</th>\n",
       "    </tr>\n",
       "  </thead>\n",
       "  <tbody>\n",
       "    <tr>\n",
       "      <th>0</th>\n",
       "      <td>Bedford Ave &amp; S 9 St</td>\n",
       "      <td>40.708531</td>\n",
       "      <td>-73.964090</td>\n",
       "      <td>2</td>\n",
       "    </tr>\n",
       "    <tr>\n",
       "      <th>1</th>\n",
       "      <td>6 Ave &amp; 21 St</td>\n",
       "      <td>40.660160</td>\n",
       "      <td>-73.990974</td>\n",
       "      <td>0</td>\n",
       "    </tr>\n",
       "    <tr>\n",
       "      <th>2</th>\n",
       "      <td>2 Ave &amp; E 104 St</td>\n",
       "      <td>40.789211</td>\n",
       "      <td>-73.943708</td>\n",
       "      <td>2</td>\n",
       "    </tr>\n",
       "    <tr>\n",
       "      <th>3</th>\n",
       "      <td>W 50 St &amp; 10 Ave</td>\n",
       "      <td>40.764734</td>\n",
       "      <td>-73.991944</td>\n",
       "      <td>0</td>\n",
       "    </tr>\n",
       "    <tr>\n",
       "      <th>4</th>\n",
       "      <td>Monmouth and 6th</td>\n",
       "      <td>40.725685</td>\n",
       "      <td>-74.048790</td>\n",
       "      <td>0</td>\n",
       "    </tr>\n",
       "  </tbody>\n",
       "</table>\n",
       "</div>"
      ],
      "text/plain": [
       "         endStationName   latitude  longitude bikeBehaviorGroup\n",
       "0  Bedford Ave & S 9 St  40.708531 -73.964090                 2\n",
       "1         6 Ave & 21 St  40.660160 -73.990974                 0\n",
       "2      2 Ave & E 104 St  40.789211 -73.943708                 2\n",
       "3      W 50 St & 10 Ave  40.764734 -73.991944                 0\n",
       "4      Monmouth and 6th  40.725685 -74.048790                 0"
      ]
     },
     "execution_count": 37,
     "metadata": {},
     "output_type": "execute_result"
    }
   ],
   "source": [
    "df_p.head()"
   ]
  },
  {
   "cell_type": "code",
   "execution_count": 39,
   "metadata": {},
   "outputs": [],
   "source": [
    "df_p.to_csv('/project/ds5559/Summer2021_TeamBike/station_bikeBehaviorNoBoroughGroup-FINAL.csv', index=False)"
   ]
  },
  {
   "cell_type": "markdown",
   "metadata": {},
   "source": [
    "# Data for observations about the groupings"
   ]
  },
  {
   "cell_type": "code",
   "execution_count": 31,
   "metadata": {},
   "outputs": [
    {
     "data": {
      "text/html": [
       "<div>\n",
       "<style scoped>\n",
       "    .dataframe tbody tr th:only-of-type {\n",
       "        vertical-align: middle;\n",
       "    }\n",
       "\n",
       "    .dataframe tbody tr th {\n",
       "        vertical-align: top;\n",
       "    }\n",
       "\n",
       "    .dataframe thead th {\n",
       "        text-align: right;\n",
       "    }\n",
       "</style>\n",
       "<table border=\"1\" class=\"dataframe\">\n",
       "  <thead>\n",
       "    <tr style=\"text-align: right;\">\n",
       "      <th></th>\n",
       "      <th>endStationName</th>\n",
       "      <th>avg_tripduration</th>\n",
       "      <th>std_tripduration</th>\n",
       "      <th>avg_crowDist</th>\n",
       "      <th>std_crowDist</th>\n",
       "      <th>avg_dur_BADweather</th>\n",
       "      <th>std_dur_BADweather</th>\n",
       "      <th>count_trips_BADweather</th>\n",
       "      <th>avg_dist_BADweather</th>\n",
       "      <th>std_dist_BADweather</th>\n",
       "      <th>avg_dur_GOODweather</th>\n",
       "      <th>std_dur_GOODweather</th>\n",
       "      <th>count_trips_GOODweather</th>\n",
       "      <th>avg_dist_GOODweather</th>\n",
       "      <th>std_dist_GOODweather</th>\n",
       "      <th>avg_dur_NONPEAK</th>\n",
       "      <th>std_dur_NONPEAK</th>\n",
       "      <th>count_trips_NONPEAK</th>\n",
       "      <th>avg_dist_NONPEAK</th>\n",
       "      <th>std_dist_NONPEAK</th>\n",
       "      <th>avg_dur_PEAK</th>\n",
       "      <th>std_dur_PEAK</th>\n",
       "      <th>count_trips_PEAK</th>\n",
       "      <th>avg_dist_PEAK</th>\n",
       "      <th>std_dist_PEAK</th>\n",
       "      <th>avg_dur_DOW1</th>\n",
       "      <th>std_dur_DOW1</th>\n",
       "      <th>count_trips_DOW1</th>\n",
       "      <th>avg_dist_DOW1</th>\n",
       "      <th>std_dist_DOW1</th>\n",
       "      <th>avg_dur_DOW2</th>\n",
       "      <th>std_dur_DOW2</th>\n",
       "      <th>count_trips_DOW2</th>\n",
       "      <th>avg_dist_DOW2</th>\n",
       "      <th>std_dist_DOW2</th>\n",
       "      <th>avg_dur_DOW3</th>\n",
       "      <th>std_dur_DOW3</th>\n",
       "      <th>count_trips_DOW3</th>\n",
       "      <th>avg_dist_DOW3</th>\n",
       "      <th>std_dist_DOW3</th>\n",
       "      <th>avg_dur_DOW4</th>\n",
       "      <th>std_dur_DOW4</th>\n",
       "      <th>count_trips_DOW4</th>\n",
       "      <th>avg_dist_DOW4</th>\n",
       "      <th>std_dist_DOW4</th>\n",
       "      <th>avg_dur_DOW5</th>\n",
       "      <th>std_dur_DOW5</th>\n",
       "      <th>count_trips_DOW5</th>\n",
       "      <th>avg_dist_DOW5</th>\n",
       "      <th>std_dist_DOW5</th>\n",
       "      <th>avg_dur_DOW6</th>\n",
       "      <th>std_dur_DOW6</th>\n",
       "      <th>count_trips_DOW6</th>\n",
       "      <th>avg_dist_DOW6</th>\n",
       "      <th>std_dist_DOW6</th>\n",
       "      <th>avg_dur_DOW7</th>\n",
       "      <th>std_dur_DOW7</th>\n",
       "      <th>count_trips_DOW7</th>\n",
       "      <th>avg_dist_DOW7</th>\n",
       "      <th>std_dist_DOW7</th>\n",
       "    </tr>\n",
       "  </thead>\n",
       "  <tbody>\n",
       "    <tr>\n",
       "      <th>0</th>\n",
       "      <td>10 St &amp; 5 Ave</td>\n",
       "      <td>986.815843</td>\n",
       "      <td>4183.423639</td>\n",
       "      <td>1.063604</td>\n",
       "      <td>1.047632</td>\n",
       "      <td>893.622556</td>\n",
       "      <td>3355.218442</td>\n",
       "      <td>5728.0</td>\n",
       "      <td>1.008089</td>\n",
       "      <td>0.999273</td>\n",
       "      <td>1029.259283</td>\n",
       "      <td>4509.980276</td>\n",
       "      <td>12577.0</td>\n",
       "      <td>1.088887</td>\n",
       "      <td>1.068015</td>\n",
       "      <td>1006.566400</td>\n",
       "      <td>3993.980164</td>\n",
       "      <td>11619.0</td>\n",
       "      <td>1.042751</td>\n",
       "      <td>0.981877</td>\n",
       "      <td>952.493120</td>\n",
       "      <td>4493.785157</td>\n",
       "      <td>6686.0</td>\n",
       "      <td>1.099841</td>\n",
       "      <td>1.152196</td>\n",
       "      <td>1202.006904</td>\n",
       "      <td>6405.434322</td>\n",
       "      <td>2752.0</td>\n",
       "      <td>1.039136</td>\n",
       "      <td>0.913167</td>\n",
       "      <td>927.429050</td>\n",
       "      <td>2547.785551</td>\n",
       "      <td>2389.0</td>\n",
       "      <td>1.063839</td>\n",
       "      <td>1.096463</td>\n",
       "      <td>992.416839</td>\n",
       "      <td>4313.675420</td>\n",
       "      <td>2411.0</td>\n",
       "      <td>1.128840</td>\n",
       "      <td>1.171623</td>\n",
       "      <td>1035.301392</td>\n",
       "      <td>6132.526383</td>\n",
       "      <td>2515.0</td>\n",
       "      <td>1.064071</td>\n",
       "      <td>1.048948</td>\n",
       "      <td>854.552829</td>\n",
       "      <td>2240.445865</td>\n",
       "      <td>2527.0</td>\n",
       "      <td>1.019177</td>\n",
       "      <td>1.032388</td>\n",
       "      <td>853.700938</td>\n",
       "      <td>2118.597520</td>\n",
       "      <td>2558.0</td>\n",
       "      <td>1.058038</td>\n",
       "      <td>1.042828</td>\n",
       "      <td>1015.030447</td>\n",
       "      <td>2990.261673</td>\n",
       "      <td>3153.0</td>\n",
       "      <td>1.074646</td>\n",
       "      <td>1.032414</td>\n",
       "    </tr>\n",
       "    <tr>\n",
       "      <th>1</th>\n",
       "      <td>19 St &amp; 8 Ave</td>\n",
       "      <td>1073.608333</td>\n",
       "      <td>2764.440990</td>\n",
       "      <td>1.218821</td>\n",
       "      <td>1.309428</td>\n",
       "      <td>761.896552</td>\n",
       "      <td>587.401016</td>\n",
       "      <td>29.0</td>\n",
       "      <td>1.254362</td>\n",
       "      <td>1.406052</td>\n",
       "      <td>1172.945055</td>\n",
       "      <td>3155.307864</td>\n",
       "      <td>91.0</td>\n",
       "      <td>1.207494</td>\n",
       "      <td>1.285102</td>\n",
       "      <td>1325.876923</td>\n",
       "      <td>3697.715230</td>\n",
       "      <td>65.0</td>\n",
       "      <td>1.307390</td>\n",
       "      <td>1.458702</td>\n",
       "      <td>775.472727</td>\n",
       "      <td>684.625441</td>\n",
       "      <td>55.0</td>\n",
       "      <td>1.114148</td>\n",
       "      <td>1.111766</td>\n",
       "      <td>2683.894737</td>\n",
       "      <td>6663.790570</td>\n",
       "      <td>19.0</td>\n",
       "      <td>1.650472</td>\n",
       "      <td>1.491947</td>\n",
       "      <td>621.555556</td>\n",
       "      <td>526.275618</td>\n",
       "      <td>18.0</td>\n",
       "      <td>0.700971</td>\n",
       "      <td>1.025727</td>\n",
       "      <td>786.500000</td>\n",
       "      <td>911.152938</td>\n",
       "      <td>18.0</td>\n",
       "      <td>0.871307</td>\n",
       "      <td>0.961451</td>\n",
       "      <td>745.312500</td>\n",
       "      <td>502.866811</td>\n",
       "      <td>16.0</td>\n",
       "      <td>1.012653</td>\n",
       "      <td>0.987074</td>\n",
       "      <td>750.095238</td>\n",
       "      <td>563.267069</td>\n",
       "      <td>21.0</td>\n",
       "      <td>1.397593</td>\n",
       "      <td>1.284093</td>\n",
       "      <td>654.642857</td>\n",
       "      <td>546.901989</td>\n",
       "      <td>14.0</td>\n",
       "      <td>1.219531</td>\n",
       "      <td>1.200301</td>\n",
       "      <td>1118.000000</td>\n",
       "      <td>1123.816232</td>\n",
       "      <td>14.0</td>\n",
       "      <td>1.712367</td>\n",
       "      <td>1.936420</td>\n",
       "    </tr>\n",
       "    <tr>\n",
       "      <th>2</th>\n",
       "      <td>45 Rd &amp; 11 St</td>\n",
       "      <td>927.397715</td>\n",
       "      <td>1975.887216</td>\n",
       "      <td>1.255151</td>\n",
       "      <td>1.186502</td>\n",
       "      <td>818.566720</td>\n",
       "      <td>996.652013</td>\n",
       "      <td>9982.0</td>\n",
       "      <td>1.207490</td>\n",
       "      <td>1.179966</td>\n",
       "      <td>977.859950</td>\n",
       "      <td>2290.387141</td>\n",
       "      <td>21528.0</td>\n",
       "      <td>1.277250</td>\n",
       "      <td>1.188900</td>\n",
       "      <td>992.126369</td>\n",
       "      <td>1848.742171</td>\n",
       "      <td>17536.0</td>\n",
       "      <td>1.245473</td>\n",
       "      <td>1.154181</td>\n",
       "      <td>846.169601</td>\n",
       "      <td>2121.979973</td>\n",
       "      <td>13974.0</td>\n",
       "      <td>1.267295</td>\n",
       "      <td>1.225791</td>\n",
       "      <td>1024.148309</td>\n",
       "      <td>1658.145010</td>\n",
       "      <td>4376.0</td>\n",
       "      <td>1.316486</td>\n",
       "      <td>1.178053</td>\n",
       "      <td>844.757257</td>\n",
       "      <td>1346.891496</td>\n",
       "      <td>3996.0</td>\n",
       "      <td>1.223924</td>\n",
       "      <td>1.216394</td>\n",
       "      <td>844.223847</td>\n",
       "      <td>2126.208605</td>\n",
       "      <td>4445.0</td>\n",
       "      <td>1.214089</td>\n",
       "      <td>1.197741</td>\n",
       "      <td>906.870238</td>\n",
       "      <td>2966.169375</td>\n",
       "      <td>4462.0</td>\n",
       "      <td>1.187912</td>\n",
       "      <td>1.146780</td>\n",
       "      <td>883.715932</td>\n",
       "      <td>2092.921504</td>\n",
       "      <td>4425.0</td>\n",
       "      <td>1.218432</td>\n",
       "      <td>1.177147</td>\n",
       "      <td>865.671599</td>\n",
       "      <td>775.885362</td>\n",
       "      <td>4528.0</td>\n",
       "      <td>1.206395</td>\n",
       "      <td>1.182351</td>\n",
       "      <td>1086.726980</td>\n",
       "      <td>2043.482682</td>\n",
       "      <td>5278.0</td>\n",
       "      <td>1.391977</td>\n",
       "      <td>1.193039</td>\n",
       "    </tr>\n",
       "    <tr>\n",
       "      <th>3</th>\n",
       "      <td>5 Ave &amp; 66 St</td>\n",
       "      <td>1716.461812</td>\n",
       "      <td>3066.367683</td>\n",
       "      <td>1.238018</td>\n",
       "      <td>1.736804</td>\n",
       "      <td>2199.589744</td>\n",
       "      <td>5559.434530</td>\n",
       "      <td>117.0</td>\n",
       "      <td>1.279861</td>\n",
       "      <td>1.720202</td>\n",
       "      <td>1589.721973</td>\n",
       "      <td>1934.050683</td>\n",
       "      <td>446.0</td>\n",
       "      <td>1.227041</td>\n",
       "      <td>1.742884</td>\n",
       "      <td>1846.137566</td>\n",
       "      <td>3527.507766</td>\n",
       "      <td>378.0</td>\n",
       "      <td>1.402622</td>\n",
       "      <td>1.776763</td>\n",
       "      <td>1451.502703</td>\n",
       "      <td>1765.913673</td>\n",
       "      <td>185.0</td>\n",
       "      <td>0.901690</td>\n",
       "      <td>1.604935</td>\n",
       "      <td>1473.289720</td>\n",
       "      <td>1242.038639</td>\n",
       "      <td>107.0</td>\n",
       "      <td>1.112050</td>\n",
       "      <td>1.667618</td>\n",
       "      <td>1781.052632</td>\n",
       "      <td>2577.620209</td>\n",
       "      <td>76.0</td>\n",
       "      <td>1.389976</td>\n",
       "      <td>1.919040</td>\n",
       "      <td>1573.132353</td>\n",
       "      <td>1493.239041</td>\n",
       "      <td>68.0</td>\n",
       "      <td>1.054012</td>\n",
       "      <td>1.664799</td>\n",
       "      <td>1599.826087</td>\n",
       "      <td>1781.254201</td>\n",
       "      <td>69.0</td>\n",
       "      <td>0.922734</td>\n",
       "      <td>1.489994</td>\n",
       "      <td>2630.307692</td>\n",
       "      <td>7377.557160</td>\n",
       "      <td>65.0</td>\n",
       "      <td>1.502179</td>\n",
       "      <td>1.701132</td>\n",
       "      <td>1664.644737</td>\n",
       "      <td>2014.680770</td>\n",
       "      <td>76.0</td>\n",
       "      <td>1.251877</td>\n",
       "      <td>1.780572</td>\n",
       "      <td>1554.137255</td>\n",
       "      <td>1998.261735</td>\n",
       "      <td>102.0</td>\n",
       "      <td>1.414221</td>\n",
       "      <td>1.846326</td>\n",
       "    </tr>\n",
       "    <tr>\n",
       "      <th>4</th>\n",
       "      <td>Clinton St\\t&amp; Cherry St</td>\n",
       "      <td>2052.305638</td>\n",
       "      <td>7821.219477</td>\n",
       "      <td>1.166931</td>\n",
       "      <td>0.819850</td>\n",
       "      <td>1306.242105</td>\n",
       "      <td>1532.756602</td>\n",
       "      <td>95.0</td>\n",
       "      <td>1.209391</td>\n",
       "      <td>1.054698</td>\n",
       "      <td>2345.181818</td>\n",
       "      <td>9168.578207</td>\n",
       "      <td>242.0</td>\n",
       "      <td>1.150263</td>\n",
       "      <td>0.708692</td>\n",
       "      <td>2345.700000</td>\n",
       "      <td>8878.081632</td>\n",
       "      <td>260.0</td>\n",
       "      <td>1.165890</td>\n",
       "      <td>0.826774</td>\n",
       "      <td>1061.623377</td>\n",
       "      <td>736.245026</td>\n",
       "      <td>77.0</td>\n",
       "      <td>1.170448</td>\n",
       "      <td>0.801328</td>\n",
       "      <td>2624.898305</td>\n",
       "      <td>9686.631012</td>\n",
       "      <td>59.0</td>\n",
       "      <td>1.152138</td>\n",
       "      <td>0.685486</td>\n",
       "      <td>1007.980769</td>\n",
       "      <td>688.826894</td>\n",
       "      <td>52.0</td>\n",
       "      <td>1.139937</td>\n",
       "      <td>0.870201</td>\n",
       "      <td>1412.312500</td>\n",
       "      <td>2238.415013</td>\n",
       "      <td>32.0</td>\n",
       "      <td>1.113677</td>\n",
       "      <td>0.799617</td>\n",
       "      <td>3323.205882</td>\n",
       "      <td>14154.083492</td>\n",
       "      <td>34.0</td>\n",
       "      <td>0.916236</td>\n",
       "      <td>0.444882</td>\n",
       "      <td>1252.675000</td>\n",
       "      <td>1174.468290</td>\n",
       "      <td>40.0</td>\n",
       "      <td>1.395543</td>\n",
       "      <td>1.180286</td>\n",
       "      <td>1403.277778</td>\n",
       "      <td>1613.098991</td>\n",
       "      <td>54.0</td>\n",
       "      <td>1.143158</td>\n",
       "      <td>0.893752</td>\n",
       "      <td>3034.484848</td>\n",
       "      <td>11005.571795</td>\n",
       "      <td>66.0</td>\n",
       "      <td>1.237286</td>\n",
       "      <td>0.704118</td>\n",
       "    </tr>\n",
       "  </tbody>\n",
       "</table>\n",
       "</div>"
      ],
      "text/plain": [
       "            endStationName  avg_tripduration  std_tripduration  avg_crowDist  \\\n",
       "0            10 St & 5 Ave        986.815843       4183.423639      1.063604   \n",
       "1            19 St & 8 Ave       1073.608333       2764.440990      1.218821   \n",
       "2            45 Rd & 11 St        927.397715       1975.887216      1.255151   \n",
       "3            5 Ave & 66 St       1716.461812       3066.367683      1.238018   \n",
       "4  Clinton St\\t& Cherry St       2052.305638       7821.219477      1.166931   \n",
       "\n",
       "   std_crowDist  avg_dur_BADweather  std_dur_BADweather  \\\n",
       "0      1.047632          893.622556         3355.218442   \n",
       "1      1.309428          761.896552          587.401016   \n",
       "2      1.186502          818.566720          996.652013   \n",
       "3      1.736804         2199.589744         5559.434530   \n",
       "4      0.819850         1306.242105         1532.756602   \n",
       "\n",
       "   count_trips_BADweather  avg_dist_BADweather  std_dist_BADweather  \\\n",
       "0                  5728.0             1.008089             0.999273   \n",
       "1                    29.0             1.254362             1.406052   \n",
       "2                  9982.0             1.207490             1.179966   \n",
       "3                   117.0             1.279861             1.720202   \n",
       "4                    95.0             1.209391             1.054698   \n",
       "\n",
       "   avg_dur_GOODweather  std_dur_GOODweather  count_trips_GOODweather  \\\n",
       "0          1029.259283          4509.980276                  12577.0   \n",
       "1          1172.945055          3155.307864                     91.0   \n",
       "2           977.859950          2290.387141                  21528.0   \n",
       "3          1589.721973          1934.050683                    446.0   \n",
       "4          2345.181818          9168.578207                    242.0   \n",
       "\n",
       "   avg_dist_GOODweather  std_dist_GOODweather  avg_dur_NONPEAK  \\\n",
       "0              1.088887              1.068015      1006.566400   \n",
       "1              1.207494              1.285102      1325.876923   \n",
       "2              1.277250              1.188900       992.126369   \n",
       "3              1.227041              1.742884      1846.137566   \n",
       "4              1.150263              0.708692      2345.700000   \n",
       "\n",
       "   std_dur_NONPEAK  count_trips_NONPEAK  avg_dist_NONPEAK  std_dist_NONPEAK  \\\n",
       "0      3993.980164              11619.0          1.042751          0.981877   \n",
       "1      3697.715230                 65.0          1.307390          1.458702   \n",
       "2      1848.742171              17536.0          1.245473          1.154181   \n",
       "3      3527.507766                378.0          1.402622          1.776763   \n",
       "4      8878.081632                260.0          1.165890          0.826774   \n",
       "\n",
       "   avg_dur_PEAK  std_dur_PEAK  count_trips_PEAK  avg_dist_PEAK  std_dist_PEAK  \\\n",
       "0    952.493120   4493.785157            6686.0       1.099841       1.152196   \n",
       "1    775.472727    684.625441              55.0       1.114148       1.111766   \n",
       "2    846.169601   2121.979973           13974.0       1.267295       1.225791   \n",
       "3   1451.502703   1765.913673             185.0       0.901690       1.604935   \n",
       "4   1061.623377    736.245026              77.0       1.170448       0.801328   \n",
       "\n",
       "   avg_dur_DOW1  std_dur_DOW1  count_trips_DOW1  avg_dist_DOW1  std_dist_DOW1  \\\n",
       "0   1202.006904   6405.434322            2752.0       1.039136       0.913167   \n",
       "1   2683.894737   6663.790570              19.0       1.650472       1.491947   \n",
       "2   1024.148309   1658.145010            4376.0       1.316486       1.178053   \n",
       "3   1473.289720   1242.038639             107.0       1.112050       1.667618   \n",
       "4   2624.898305   9686.631012              59.0       1.152138       0.685486   \n",
       "\n",
       "   avg_dur_DOW2  std_dur_DOW2  count_trips_DOW2  avg_dist_DOW2  std_dist_DOW2  \\\n",
       "0    927.429050   2547.785551            2389.0       1.063839       1.096463   \n",
       "1    621.555556    526.275618              18.0       0.700971       1.025727   \n",
       "2    844.757257   1346.891496            3996.0       1.223924       1.216394   \n",
       "3   1781.052632   2577.620209              76.0       1.389976       1.919040   \n",
       "4   1007.980769    688.826894              52.0       1.139937       0.870201   \n",
       "\n",
       "   avg_dur_DOW3  std_dur_DOW3  count_trips_DOW3  avg_dist_DOW3  std_dist_DOW3  \\\n",
       "0    992.416839   4313.675420            2411.0       1.128840       1.171623   \n",
       "1    786.500000    911.152938              18.0       0.871307       0.961451   \n",
       "2    844.223847   2126.208605            4445.0       1.214089       1.197741   \n",
       "3   1573.132353   1493.239041              68.0       1.054012       1.664799   \n",
       "4   1412.312500   2238.415013              32.0       1.113677       0.799617   \n",
       "\n",
       "   avg_dur_DOW4  std_dur_DOW4  count_trips_DOW4  avg_dist_DOW4  std_dist_DOW4  \\\n",
       "0   1035.301392   6132.526383            2515.0       1.064071       1.048948   \n",
       "1    745.312500    502.866811              16.0       1.012653       0.987074   \n",
       "2    906.870238   2966.169375            4462.0       1.187912       1.146780   \n",
       "3   1599.826087   1781.254201              69.0       0.922734       1.489994   \n",
       "4   3323.205882  14154.083492              34.0       0.916236       0.444882   \n",
       "\n",
       "   avg_dur_DOW5  std_dur_DOW5  count_trips_DOW5  avg_dist_DOW5  std_dist_DOW5  \\\n",
       "0    854.552829   2240.445865            2527.0       1.019177       1.032388   \n",
       "1    750.095238    563.267069              21.0       1.397593       1.284093   \n",
       "2    883.715932   2092.921504            4425.0       1.218432       1.177147   \n",
       "3   2630.307692   7377.557160              65.0       1.502179       1.701132   \n",
       "4   1252.675000   1174.468290              40.0       1.395543       1.180286   \n",
       "\n",
       "   avg_dur_DOW6  std_dur_DOW6  count_trips_DOW6  avg_dist_DOW6  std_dist_DOW6  \\\n",
       "0    853.700938   2118.597520            2558.0       1.058038       1.042828   \n",
       "1    654.642857    546.901989              14.0       1.219531       1.200301   \n",
       "2    865.671599    775.885362            4528.0       1.206395       1.182351   \n",
       "3   1664.644737   2014.680770              76.0       1.251877       1.780572   \n",
       "4   1403.277778   1613.098991              54.0       1.143158       0.893752   \n",
       "\n",
       "   avg_dur_DOW7  std_dur_DOW7  count_trips_DOW7  avg_dist_DOW7  std_dist_DOW7  \n",
       "0   1015.030447   2990.261673            3153.0       1.074646       1.032414  \n",
       "1   1118.000000   1123.816232              14.0       1.712367       1.936420  \n",
       "2   1086.726980   2043.482682            5278.0       1.391977       1.193039  \n",
       "3   1554.137255   1998.261735             102.0       1.414221       1.846326  \n",
       "4   3034.484848  11005.571795              66.0       1.237286       0.704118  "
      ]
     },
     "execution_count": 31,
     "metadata": {},
     "output_type": "execute_result"
    }
   ],
   "source": [
    "# save the final version\n",
    "df_AggStationData = pd.read_csv('NonBoroughKModels/stations_for_bikeBeahviorGrouping-FINAL.csv/part-00000-0bf3c7e4-ff88-42ad-867b-5ee0171331b3-c000.csv')\n",
    "df_AggStationData.head()"
   ]
  },
  {
   "cell_type": "code",
   "execution_count": 13,
   "metadata": {},
   "outputs": [
    {
     "data": {
      "text/html": [
       "<div>\n",
       "<style scoped>\n",
       "    .dataframe tbody tr th:only-of-type {\n",
       "        vertical-align: middle;\n",
       "    }\n",
       "\n",
       "    .dataframe tbody tr th {\n",
       "        vertical-align: top;\n",
       "    }\n",
       "\n",
       "    .dataframe thead th {\n",
       "        text-align: right;\n",
       "    }\n",
       "</style>\n",
       "<table border=\"1\" class=\"dataframe\">\n",
       "  <thead>\n",
       "    <tr style=\"text-align: right;\">\n",
       "      <th></th>\n",
       "      <th>endStationName</th>\n",
       "      <th>bikeBehaviorGroup</th>\n",
       "    </tr>\n",
       "  </thead>\n",
       "  <tbody>\n",
       "    <tr>\n",
       "      <th>0</th>\n",
       "      <td>Bedford Ave &amp; S 9 St</td>\n",
       "      <td>2</td>\n",
       "    </tr>\n",
       "    <tr>\n",
       "      <th>1</th>\n",
       "      <td>6 Ave &amp; 21 St</td>\n",
       "      <td>0</td>\n",
       "    </tr>\n",
       "    <tr>\n",
       "      <th>2</th>\n",
       "      <td>2 Ave &amp; E 104 St</td>\n",
       "      <td>2</td>\n",
       "    </tr>\n",
       "    <tr>\n",
       "      <th>3</th>\n",
       "      <td>W 50 St &amp; 10 Ave</td>\n",
       "      <td>0</td>\n",
       "    </tr>\n",
       "    <tr>\n",
       "      <th>4</th>\n",
       "      <td>Monmouth and 6th</td>\n",
       "      <td>0</td>\n",
       "    </tr>\n",
       "  </tbody>\n",
       "</table>\n",
       "</div>"
      ],
      "text/plain": [
       "         endStationName  bikeBehaviorGroup\n",
       "0  Bedford Ave & S 9 St                  2\n",
       "1         6 Ave & 21 St                  0\n",
       "2      2 Ave & E 104 St                  2\n",
       "3      W 50 St & 10 Ave                  0\n",
       "4      Monmouth and 6th                  0"
      ]
     },
     "execution_count": 13,
     "metadata": {},
     "output_type": "execute_result"
    }
   ],
   "source": [
    "df_grouping = pd.read_csv('/project/ds5559/Summer2021_TeamBike/station_bikeBehaviorNoBoroughGroup-FINAL.csv')\n",
    "df_grouping = df_grouping[['endStationName','bikeBehaviorGroup']]\n",
    "df_grouping.head()"
   ]
  },
  {
   "cell_type": "code",
   "execution_count": 26,
   "metadata": {},
   "outputs": [
    {
     "data": {
      "text/html": [
       "<div>\n",
       "<style scoped>\n",
       "    .dataframe tbody tr th:only-of-type {\n",
       "        vertical-align: middle;\n",
       "    }\n",
       "\n",
       "    .dataframe tbody tr th {\n",
       "        vertical-align: top;\n",
       "    }\n",
       "\n",
       "    .dataframe thead th {\n",
       "        text-align: right;\n",
       "    }\n",
       "</style>\n",
       "<table border=\"1\" class=\"dataframe\">\n",
       "  <thead>\n",
       "    <tr style=\"text-align: right;\">\n",
       "      <th></th>\n",
       "      <th>endStationName</th>\n",
       "      <th>avg_tripduration</th>\n",
       "      <th>std_tripduration</th>\n",
       "      <th>avg_crowDist</th>\n",
       "      <th>std_crowDist</th>\n",
       "      <th>avg_dur_BADweather</th>\n",
       "      <th>std_dur_BADweather</th>\n",
       "      <th>count_trips_BADweather</th>\n",
       "      <th>avg_dist_BADweather</th>\n",
       "      <th>std_dist_BADweather</th>\n",
       "      <th>avg_dur_GOODweather</th>\n",
       "      <th>std_dur_GOODweather</th>\n",
       "      <th>count_trips_GOODweather</th>\n",
       "      <th>avg_dist_GOODweather</th>\n",
       "      <th>std_dist_GOODweather</th>\n",
       "      <th>avg_dur_NONPEAK</th>\n",
       "      <th>std_dur_NONPEAK</th>\n",
       "      <th>count_trips_NONPEAK</th>\n",
       "      <th>avg_dist_NONPEAK</th>\n",
       "      <th>std_dist_NONPEAK</th>\n",
       "      <th>avg_dur_PEAK</th>\n",
       "      <th>std_dur_PEAK</th>\n",
       "      <th>count_trips_PEAK</th>\n",
       "      <th>avg_dist_PEAK</th>\n",
       "      <th>std_dist_PEAK</th>\n",
       "      <th>avg_dur_DOW1</th>\n",
       "      <th>std_dur_DOW1</th>\n",
       "      <th>count_trips_DOW1</th>\n",
       "      <th>avg_dist_DOW1</th>\n",
       "      <th>std_dist_DOW1</th>\n",
       "      <th>avg_dur_DOW2</th>\n",
       "      <th>std_dur_DOW2</th>\n",
       "      <th>count_trips_DOW2</th>\n",
       "      <th>avg_dist_DOW2</th>\n",
       "      <th>std_dist_DOW2</th>\n",
       "      <th>avg_dur_DOW3</th>\n",
       "      <th>std_dur_DOW3</th>\n",
       "      <th>count_trips_DOW3</th>\n",
       "      <th>avg_dist_DOW3</th>\n",
       "      <th>std_dist_DOW3</th>\n",
       "      <th>avg_dur_DOW4</th>\n",
       "      <th>std_dur_DOW4</th>\n",
       "      <th>count_trips_DOW4</th>\n",
       "      <th>avg_dist_DOW4</th>\n",
       "      <th>std_dist_DOW4</th>\n",
       "      <th>avg_dur_DOW5</th>\n",
       "      <th>std_dur_DOW5</th>\n",
       "      <th>count_trips_DOW5</th>\n",
       "      <th>avg_dist_DOW5</th>\n",
       "      <th>std_dist_DOW5</th>\n",
       "      <th>avg_dur_DOW6</th>\n",
       "      <th>std_dur_DOW6</th>\n",
       "      <th>count_trips_DOW6</th>\n",
       "      <th>avg_dist_DOW6</th>\n",
       "      <th>std_dist_DOW6</th>\n",
       "      <th>avg_dur_DOW7</th>\n",
       "      <th>std_dur_DOW7</th>\n",
       "      <th>count_trips_DOW7</th>\n",
       "      <th>avg_dist_DOW7</th>\n",
       "      <th>std_dist_DOW7</th>\n",
       "      <th>bikeBehaviorGroup</th>\n",
       "    </tr>\n",
       "  </thead>\n",
       "  <tbody>\n",
       "    <tr>\n",
       "      <th>0</th>\n",
       "      <td>10 St &amp; 5 Ave</td>\n",
       "      <td>986.815843</td>\n",
       "      <td>4183.423639</td>\n",
       "      <td>1.063604</td>\n",
       "      <td>1.047632</td>\n",
       "      <td>893.622556</td>\n",
       "      <td>3355.218442</td>\n",
       "      <td>5728.0</td>\n",
       "      <td>1.008089</td>\n",
       "      <td>0.999273</td>\n",
       "      <td>1029.259283</td>\n",
       "      <td>4509.980276</td>\n",
       "      <td>12577.0</td>\n",
       "      <td>1.088887</td>\n",
       "      <td>1.068015</td>\n",
       "      <td>1006.566400</td>\n",
       "      <td>3993.980164</td>\n",
       "      <td>11619.0</td>\n",
       "      <td>1.042751</td>\n",
       "      <td>0.981877</td>\n",
       "      <td>952.493120</td>\n",
       "      <td>4493.785157</td>\n",
       "      <td>6686.0</td>\n",
       "      <td>1.099841</td>\n",
       "      <td>1.152196</td>\n",
       "      <td>1202.006904</td>\n",
       "      <td>6405.434322</td>\n",
       "      <td>2752.0</td>\n",
       "      <td>1.039136</td>\n",
       "      <td>0.913167</td>\n",
       "      <td>927.429050</td>\n",
       "      <td>2547.785551</td>\n",
       "      <td>2389.0</td>\n",
       "      <td>1.063839</td>\n",
       "      <td>1.096463</td>\n",
       "      <td>992.416839</td>\n",
       "      <td>4313.675420</td>\n",
       "      <td>2411.0</td>\n",
       "      <td>1.128840</td>\n",
       "      <td>1.171623</td>\n",
       "      <td>1035.301392</td>\n",
       "      <td>6132.526383</td>\n",
       "      <td>2515.0</td>\n",
       "      <td>1.064071</td>\n",
       "      <td>1.048948</td>\n",
       "      <td>854.552829</td>\n",
       "      <td>2240.445865</td>\n",
       "      <td>2527.0</td>\n",
       "      <td>1.019177</td>\n",
       "      <td>1.032388</td>\n",
       "      <td>853.700938</td>\n",
       "      <td>2118.597520</td>\n",
       "      <td>2558.0</td>\n",
       "      <td>1.058038</td>\n",
       "      <td>1.042828</td>\n",
       "      <td>1015.030447</td>\n",
       "      <td>2990.261673</td>\n",
       "      <td>3153.0</td>\n",
       "      <td>1.074646</td>\n",
       "      <td>1.032414</td>\n",
       "      <td>0.0</td>\n",
       "    </tr>\n",
       "    <tr>\n",
       "      <th>1</th>\n",
       "      <td>19 St &amp; 8 Ave</td>\n",
       "      <td>1073.608333</td>\n",
       "      <td>2764.440990</td>\n",
       "      <td>1.218821</td>\n",
       "      <td>1.309428</td>\n",
       "      <td>761.896552</td>\n",
       "      <td>587.401016</td>\n",
       "      <td>29.0</td>\n",
       "      <td>1.254362</td>\n",
       "      <td>1.406052</td>\n",
       "      <td>1172.945055</td>\n",
       "      <td>3155.307864</td>\n",
       "      <td>91.0</td>\n",
       "      <td>1.207494</td>\n",
       "      <td>1.285102</td>\n",
       "      <td>1325.876923</td>\n",
       "      <td>3697.715230</td>\n",
       "      <td>65.0</td>\n",
       "      <td>1.307390</td>\n",
       "      <td>1.458702</td>\n",
       "      <td>775.472727</td>\n",
       "      <td>684.625441</td>\n",
       "      <td>55.0</td>\n",
       "      <td>1.114148</td>\n",
       "      <td>1.111766</td>\n",
       "      <td>2683.894737</td>\n",
       "      <td>6663.790570</td>\n",
       "      <td>19.0</td>\n",
       "      <td>1.650472</td>\n",
       "      <td>1.491947</td>\n",
       "      <td>621.555556</td>\n",
       "      <td>526.275618</td>\n",
       "      <td>18.0</td>\n",
       "      <td>0.700971</td>\n",
       "      <td>1.025727</td>\n",
       "      <td>786.500000</td>\n",
       "      <td>911.152938</td>\n",
       "      <td>18.0</td>\n",
       "      <td>0.871307</td>\n",
       "      <td>0.961451</td>\n",
       "      <td>745.312500</td>\n",
       "      <td>502.866811</td>\n",
       "      <td>16.0</td>\n",
       "      <td>1.012653</td>\n",
       "      <td>0.987074</td>\n",
       "      <td>750.095238</td>\n",
       "      <td>563.267069</td>\n",
       "      <td>21.0</td>\n",
       "      <td>1.397593</td>\n",
       "      <td>1.284093</td>\n",
       "      <td>654.642857</td>\n",
       "      <td>546.901989</td>\n",
       "      <td>14.0</td>\n",
       "      <td>1.219531</td>\n",
       "      <td>1.200301</td>\n",
       "      <td>1118.000000</td>\n",
       "      <td>1123.816232</td>\n",
       "      <td>14.0</td>\n",
       "      <td>1.712367</td>\n",
       "      <td>1.936420</td>\n",
       "      <td>0.0</td>\n",
       "    </tr>\n",
       "    <tr>\n",
       "      <th>2</th>\n",
       "      <td>45 Rd &amp; 11 St</td>\n",
       "      <td>927.397715</td>\n",
       "      <td>1975.887216</td>\n",
       "      <td>1.255151</td>\n",
       "      <td>1.186502</td>\n",
       "      <td>818.566720</td>\n",
       "      <td>996.652013</td>\n",
       "      <td>9982.0</td>\n",
       "      <td>1.207490</td>\n",
       "      <td>1.179966</td>\n",
       "      <td>977.859950</td>\n",
       "      <td>2290.387141</td>\n",
       "      <td>21528.0</td>\n",
       "      <td>1.277250</td>\n",
       "      <td>1.188900</td>\n",
       "      <td>992.126369</td>\n",
       "      <td>1848.742171</td>\n",
       "      <td>17536.0</td>\n",
       "      <td>1.245473</td>\n",
       "      <td>1.154181</td>\n",
       "      <td>846.169601</td>\n",
       "      <td>2121.979973</td>\n",
       "      <td>13974.0</td>\n",
       "      <td>1.267295</td>\n",
       "      <td>1.225791</td>\n",
       "      <td>1024.148309</td>\n",
       "      <td>1658.145010</td>\n",
       "      <td>4376.0</td>\n",
       "      <td>1.316486</td>\n",
       "      <td>1.178053</td>\n",
       "      <td>844.757257</td>\n",
       "      <td>1346.891496</td>\n",
       "      <td>3996.0</td>\n",
       "      <td>1.223924</td>\n",
       "      <td>1.216394</td>\n",
       "      <td>844.223847</td>\n",
       "      <td>2126.208605</td>\n",
       "      <td>4445.0</td>\n",
       "      <td>1.214089</td>\n",
       "      <td>1.197741</td>\n",
       "      <td>906.870238</td>\n",
       "      <td>2966.169375</td>\n",
       "      <td>4462.0</td>\n",
       "      <td>1.187912</td>\n",
       "      <td>1.146780</td>\n",
       "      <td>883.715932</td>\n",
       "      <td>2092.921504</td>\n",
       "      <td>4425.0</td>\n",
       "      <td>1.218432</td>\n",
       "      <td>1.177147</td>\n",
       "      <td>865.671599</td>\n",
       "      <td>775.885362</td>\n",
       "      <td>4528.0</td>\n",
       "      <td>1.206395</td>\n",
       "      <td>1.182351</td>\n",
       "      <td>1086.726980</td>\n",
       "      <td>2043.482682</td>\n",
       "      <td>5278.0</td>\n",
       "      <td>1.391977</td>\n",
       "      <td>1.193039</td>\n",
       "      <td>0.0</td>\n",
       "    </tr>\n",
       "    <tr>\n",
       "      <th>3</th>\n",
       "      <td>5 Ave &amp; 66 St</td>\n",
       "      <td>1716.461812</td>\n",
       "      <td>3066.367683</td>\n",
       "      <td>1.238018</td>\n",
       "      <td>1.736804</td>\n",
       "      <td>2199.589744</td>\n",
       "      <td>5559.434530</td>\n",
       "      <td>117.0</td>\n",
       "      <td>1.279861</td>\n",
       "      <td>1.720202</td>\n",
       "      <td>1589.721973</td>\n",
       "      <td>1934.050683</td>\n",
       "      <td>446.0</td>\n",
       "      <td>1.227041</td>\n",
       "      <td>1.742884</td>\n",
       "      <td>1846.137566</td>\n",
       "      <td>3527.507766</td>\n",
       "      <td>378.0</td>\n",
       "      <td>1.402622</td>\n",
       "      <td>1.776763</td>\n",
       "      <td>1451.502703</td>\n",
       "      <td>1765.913673</td>\n",
       "      <td>185.0</td>\n",
       "      <td>0.901690</td>\n",
       "      <td>1.604935</td>\n",
       "      <td>1473.289720</td>\n",
       "      <td>1242.038639</td>\n",
       "      <td>107.0</td>\n",
       "      <td>1.112050</td>\n",
       "      <td>1.667618</td>\n",
       "      <td>1781.052632</td>\n",
       "      <td>2577.620209</td>\n",
       "      <td>76.0</td>\n",
       "      <td>1.389976</td>\n",
       "      <td>1.919040</td>\n",
       "      <td>1573.132353</td>\n",
       "      <td>1493.239041</td>\n",
       "      <td>68.0</td>\n",
       "      <td>1.054012</td>\n",
       "      <td>1.664799</td>\n",
       "      <td>1599.826087</td>\n",
       "      <td>1781.254201</td>\n",
       "      <td>69.0</td>\n",
       "      <td>0.922734</td>\n",
       "      <td>1.489994</td>\n",
       "      <td>2630.307692</td>\n",
       "      <td>7377.557160</td>\n",
       "      <td>65.0</td>\n",
       "      <td>1.502179</td>\n",
       "      <td>1.701132</td>\n",
       "      <td>1664.644737</td>\n",
       "      <td>2014.680770</td>\n",
       "      <td>76.0</td>\n",
       "      <td>1.251877</td>\n",
       "      <td>1.780572</td>\n",
       "      <td>1554.137255</td>\n",
       "      <td>1998.261735</td>\n",
       "      <td>102.0</td>\n",
       "      <td>1.414221</td>\n",
       "      <td>1.846326</td>\n",
       "      <td>0.0</td>\n",
       "    </tr>\n",
       "    <tr>\n",
       "      <th>4</th>\n",
       "      <td>Clinton St\\t&amp; Cherry St</td>\n",
       "      <td>2052.305638</td>\n",
       "      <td>7821.219477</td>\n",
       "      <td>1.166931</td>\n",
       "      <td>0.819850</td>\n",
       "      <td>1306.242105</td>\n",
       "      <td>1532.756602</td>\n",
       "      <td>95.0</td>\n",
       "      <td>1.209391</td>\n",
       "      <td>1.054698</td>\n",
       "      <td>2345.181818</td>\n",
       "      <td>9168.578207</td>\n",
       "      <td>242.0</td>\n",
       "      <td>1.150263</td>\n",
       "      <td>0.708692</td>\n",
       "      <td>2345.700000</td>\n",
       "      <td>8878.081632</td>\n",
       "      <td>260.0</td>\n",
       "      <td>1.165890</td>\n",
       "      <td>0.826774</td>\n",
       "      <td>1061.623377</td>\n",
       "      <td>736.245026</td>\n",
       "      <td>77.0</td>\n",
       "      <td>1.170448</td>\n",
       "      <td>0.801328</td>\n",
       "      <td>2624.898305</td>\n",
       "      <td>9686.631012</td>\n",
       "      <td>59.0</td>\n",
       "      <td>1.152138</td>\n",
       "      <td>0.685486</td>\n",
       "      <td>1007.980769</td>\n",
       "      <td>688.826894</td>\n",
       "      <td>52.0</td>\n",
       "      <td>1.139937</td>\n",
       "      <td>0.870201</td>\n",
       "      <td>1412.312500</td>\n",
       "      <td>2238.415013</td>\n",
       "      <td>32.0</td>\n",
       "      <td>1.113677</td>\n",
       "      <td>0.799617</td>\n",
       "      <td>3323.205882</td>\n",
       "      <td>14154.083492</td>\n",
       "      <td>34.0</td>\n",
       "      <td>0.916236</td>\n",
       "      <td>0.444882</td>\n",
       "      <td>1252.675000</td>\n",
       "      <td>1174.468290</td>\n",
       "      <td>40.0</td>\n",
       "      <td>1.395543</td>\n",
       "      <td>1.180286</td>\n",
       "      <td>1403.277778</td>\n",
       "      <td>1613.098991</td>\n",
       "      <td>54.0</td>\n",
       "      <td>1.143158</td>\n",
       "      <td>0.893752</td>\n",
       "      <td>3034.484848</td>\n",
       "      <td>11005.571795</td>\n",
       "      <td>66.0</td>\n",
       "      <td>1.237286</td>\n",
       "      <td>0.704118</td>\n",
       "      <td>0.0</td>\n",
       "    </tr>\n",
       "  </tbody>\n",
       "</table>\n",
       "</div>"
      ],
      "text/plain": [
       "            endStationName  avg_tripduration  std_tripduration  avg_crowDist  \\\n",
       "0            10 St & 5 Ave        986.815843       4183.423639      1.063604   \n",
       "1            19 St & 8 Ave       1073.608333       2764.440990      1.218821   \n",
       "2            45 Rd & 11 St        927.397715       1975.887216      1.255151   \n",
       "3            5 Ave & 66 St       1716.461812       3066.367683      1.238018   \n",
       "4  Clinton St\\t& Cherry St       2052.305638       7821.219477      1.166931   \n",
       "\n",
       "   std_crowDist  avg_dur_BADweather  std_dur_BADweather  \\\n",
       "0      1.047632          893.622556         3355.218442   \n",
       "1      1.309428          761.896552          587.401016   \n",
       "2      1.186502          818.566720          996.652013   \n",
       "3      1.736804         2199.589744         5559.434530   \n",
       "4      0.819850         1306.242105         1532.756602   \n",
       "\n",
       "   count_trips_BADweather  avg_dist_BADweather  std_dist_BADweather  \\\n",
       "0                  5728.0             1.008089             0.999273   \n",
       "1                    29.0             1.254362             1.406052   \n",
       "2                  9982.0             1.207490             1.179966   \n",
       "3                   117.0             1.279861             1.720202   \n",
       "4                    95.0             1.209391             1.054698   \n",
       "\n",
       "   avg_dur_GOODweather  std_dur_GOODweather  count_trips_GOODweather  \\\n",
       "0          1029.259283          4509.980276                  12577.0   \n",
       "1          1172.945055          3155.307864                     91.0   \n",
       "2           977.859950          2290.387141                  21528.0   \n",
       "3          1589.721973          1934.050683                    446.0   \n",
       "4          2345.181818          9168.578207                    242.0   \n",
       "\n",
       "   avg_dist_GOODweather  std_dist_GOODweather  avg_dur_NONPEAK  \\\n",
       "0              1.088887              1.068015      1006.566400   \n",
       "1              1.207494              1.285102      1325.876923   \n",
       "2              1.277250              1.188900       992.126369   \n",
       "3              1.227041              1.742884      1846.137566   \n",
       "4              1.150263              0.708692      2345.700000   \n",
       "\n",
       "   std_dur_NONPEAK  count_trips_NONPEAK  avg_dist_NONPEAK  std_dist_NONPEAK  \\\n",
       "0      3993.980164              11619.0          1.042751          0.981877   \n",
       "1      3697.715230                 65.0          1.307390          1.458702   \n",
       "2      1848.742171              17536.0          1.245473          1.154181   \n",
       "3      3527.507766                378.0          1.402622          1.776763   \n",
       "4      8878.081632                260.0          1.165890          0.826774   \n",
       "\n",
       "   avg_dur_PEAK  std_dur_PEAK  count_trips_PEAK  avg_dist_PEAK  std_dist_PEAK  \\\n",
       "0    952.493120   4493.785157            6686.0       1.099841       1.152196   \n",
       "1    775.472727    684.625441              55.0       1.114148       1.111766   \n",
       "2    846.169601   2121.979973           13974.0       1.267295       1.225791   \n",
       "3   1451.502703   1765.913673             185.0       0.901690       1.604935   \n",
       "4   1061.623377    736.245026              77.0       1.170448       0.801328   \n",
       "\n",
       "   avg_dur_DOW1  std_dur_DOW1  count_trips_DOW1  avg_dist_DOW1  std_dist_DOW1  \\\n",
       "0   1202.006904   6405.434322            2752.0       1.039136       0.913167   \n",
       "1   2683.894737   6663.790570              19.0       1.650472       1.491947   \n",
       "2   1024.148309   1658.145010            4376.0       1.316486       1.178053   \n",
       "3   1473.289720   1242.038639             107.0       1.112050       1.667618   \n",
       "4   2624.898305   9686.631012              59.0       1.152138       0.685486   \n",
       "\n",
       "   avg_dur_DOW2  std_dur_DOW2  count_trips_DOW2  avg_dist_DOW2  std_dist_DOW2  \\\n",
       "0    927.429050   2547.785551            2389.0       1.063839       1.096463   \n",
       "1    621.555556    526.275618              18.0       0.700971       1.025727   \n",
       "2    844.757257   1346.891496            3996.0       1.223924       1.216394   \n",
       "3   1781.052632   2577.620209              76.0       1.389976       1.919040   \n",
       "4   1007.980769    688.826894              52.0       1.139937       0.870201   \n",
       "\n",
       "   avg_dur_DOW3  std_dur_DOW3  count_trips_DOW3  avg_dist_DOW3  std_dist_DOW3  \\\n",
       "0    992.416839   4313.675420            2411.0       1.128840       1.171623   \n",
       "1    786.500000    911.152938              18.0       0.871307       0.961451   \n",
       "2    844.223847   2126.208605            4445.0       1.214089       1.197741   \n",
       "3   1573.132353   1493.239041              68.0       1.054012       1.664799   \n",
       "4   1412.312500   2238.415013              32.0       1.113677       0.799617   \n",
       "\n",
       "   avg_dur_DOW4  std_dur_DOW4  count_trips_DOW4  avg_dist_DOW4  std_dist_DOW4  \\\n",
       "0   1035.301392   6132.526383            2515.0       1.064071       1.048948   \n",
       "1    745.312500    502.866811              16.0       1.012653       0.987074   \n",
       "2    906.870238   2966.169375            4462.0       1.187912       1.146780   \n",
       "3   1599.826087   1781.254201              69.0       0.922734       1.489994   \n",
       "4   3323.205882  14154.083492              34.0       0.916236       0.444882   \n",
       "\n",
       "   avg_dur_DOW5  std_dur_DOW5  count_trips_DOW5  avg_dist_DOW5  std_dist_DOW5  \\\n",
       "0    854.552829   2240.445865            2527.0       1.019177       1.032388   \n",
       "1    750.095238    563.267069              21.0       1.397593       1.284093   \n",
       "2    883.715932   2092.921504            4425.0       1.218432       1.177147   \n",
       "3   2630.307692   7377.557160              65.0       1.502179       1.701132   \n",
       "4   1252.675000   1174.468290              40.0       1.395543       1.180286   \n",
       "\n",
       "   avg_dur_DOW6  std_dur_DOW6  count_trips_DOW6  avg_dist_DOW6  std_dist_DOW6  \\\n",
       "0    853.700938   2118.597520            2558.0       1.058038       1.042828   \n",
       "1    654.642857    546.901989              14.0       1.219531       1.200301   \n",
       "2    865.671599    775.885362            4528.0       1.206395       1.182351   \n",
       "3   1664.644737   2014.680770              76.0       1.251877       1.780572   \n",
       "4   1403.277778   1613.098991              54.0       1.143158       0.893752   \n",
       "\n",
       "   avg_dur_DOW7  std_dur_DOW7  count_trips_DOW7  avg_dist_DOW7  std_dist_DOW7  \\\n",
       "0   1015.030447   2990.261673            3153.0       1.074646       1.032414   \n",
       "1   1118.000000   1123.816232              14.0       1.712367       1.936420   \n",
       "2   1086.726980   2043.482682            5278.0       1.391977       1.193039   \n",
       "3   1554.137255   1998.261735             102.0       1.414221       1.846326   \n",
       "4   3034.484848  11005.571795              66.0       1.237286       0.704118   \n",
       "\n",
       "   bikeBehaviorGroup  \n",
       "0                0.0  \n",
       "1                0.0  \n",
       "2                0.0  \n",
       "3                0.0  \n",
       "4                0.0  "
      ]
     },
     "execution_count": 26,
     "metadata": {},
     "output_type": "execute_result"
    }
   ],
   "source": [
    "df_join = df_AggStationData.merge(df_grouping, how=\"left\", on=\"endStationName\")\n",
    "pd.set_option(\"display.max_columns\", None)\n",
    "df_join.head()"
   ]
  },
  {
   "cell_type": "code",
   "execution_count": 27,
   "metadata": {},
   "outputs": [
    {
     "data": {
      "text/html": [
       "<div>\n",
       "<style scoped>\n",
       "    .dataframe tbody tr th:only-of-type {\n",
       "        vertical-align: middle;\n",
       "    }\n",
       "\n",
       "    .dataframe tbody tr th {\n",
       "        vertical-align: top;\n",
       "    }\n",
       "\n",
       "    .dataframe thead tr th {\n",
       "        text-align: left;\n",
       "    }\n",
       "</style>\n",
       "<table border=\"1\" class=\"dataframe\">\n",
       "  <thead>\n",
       "    <tr>\n",
       "      <th></th>\n",
       "      <th>bikeBehaviorGroup</th>\n",
       "      <th colspan=\"2\" halign=\"left\">avg_tripduration</th>\n",
       "      <th colspan=\"2\" halign=\"left\">avg_crowDist</th>\n",
       "      <th colspan=\"2\" halign=\"left\">avg_dur_BADweather</th>\n",
       "      <th colspan=\"2\" halign=\"left\">count_trips_BADweather</th>\n",
       "      <th colspan=\"2\" halign=\"left\">avg_dist_BADweather</th>\n",
       "      <th colspan=\"2\" halign=\"left\">avg_dur_GOODweather</th>\n",
       "      <th colspan=\"2\" halign=\"left\">count_trips_GOODweather</th>\n",
       "      <th colspan=\"2\" halign=\"left\">avg_dist_GOODweather</th>\n",
       "    </tr>\n",
       "    <tr>\n",
       "      <th></th>\n",
       "      <th></th>\n",
       "      <th>mean</th>\n",
       "      <th>std</th>\n",
       "      <th>mean</th>\n",
       "      <th>std</th>\n",
       "      <th>mean</th>\n",
       "      <th>std</th>\n",
       "      <th>mean</th>\n",
       "      <th>std</th>\n",
       "      <th>mean</th>\n",
       "      <th>std</th>\n",
       "      <th>mean</th>\n",
       "      <th>std</th>\n",
       "      <th>mean</th>\n",
       "      <th>std</th>\n",
       "      <th>mean</th>\n",
       "      <th>std</th>\n",
       "    </tr>\n",
       "  </thead>\n",
       "  <tbody>\n",
       "    <tr>\n",
       "      <th>0</th>\n",
       "      <td>-1.0</td>\n",
       "      <td>169989.016183</td>\n",
       "      <td>300657.233361</td>\n",
       "      <td>2.486737</td>\n",
       "      <td>2.011096</td>\n",
       "      <td>85082.151590</td>\n",
       "      <td>257956.476396</td>\n",
       "      <td>250.281250</td>\n",
       "      <td>285.996304</td>\n",
       "      <td>1.564982</td>\n",
       "      <td>1.407673</td>\n",
       "      <td>171822.376383</td>\n",
       "      <td>297880.613124</td>\n",
       "      <td>612.687500</td>\n",
       "      <td>655.176777</td>\n",
       "      <td>2.479473</td>\n",
       "      <td>2.068537</td>\n",
       "    </tr>\n",
       "    <tr>\n",
       "      <th>1</th>\n",
       "      <td>0.0</td>\n",
       "      <td>1788.894119</td>\n",
       "      <td>4929.452445</td>\n",
       "      <td>1.366452</td>\n",
       "      <td>0.943031</td>\n",
       "      <td>1222.857579</td>\n",
       "      <td>841.740587</td>\n",
       "      <td>2385.347297</td>\n",
       "      <td>3121.870650</td>\n",
       "      <td>1.198198</td>\n",
       "      <td>0.735941</td>\n",
       "      <td>1852.897348</td>\n",
       "      <td>4983.808280</td>\n",
       "      <td>5425.804054</td>\n",
       "      <td>6854.415425</td>\n",
       "      <td>1.379583</td>\n",
       "      <td>0.961674</td>\n",
       "    </tr>\n",
       "    <tr>\n",
       "      <th>2</th>\n",
       "      <td>1.0</td>\n",
       "      <td>1058.797984</td>\n",
       "      <td>200.520832</td>\n",
       "      <td>1.198310</td>\n",
       "      <td>0.214085</td>\n",
       "      <td>977.552056</td>\n",
       "      <td>194.929509</td>\n",
       "      <td>19282.350168</td>\n",
       "      <td>6179.827888</td>\n",
       "      <td>1.150893</td>\n",
       "      <td>0.210883</td>\n",
       "      <td>1095.069574</td>\n",
       "      <td>205.394690</td>\n",
       "      <td>42547.380471</td>\n",
       "      <td>12772.751459</td>\n",
       "      <td>1.219682</td>\n",
       "      <td>0.215167</td>\n",
       "    </tr>\n",
       "    <tr>\n",
       "      <th>3</th>\n",
       "      <td>2.0</td>\n",
       "      <td>2547.657976</td>\n",
       "      <td>5329.598469</td>\n",
       "      <td>1.266093</td>\n",
       "      <td>0.530486</td>\n",
       "      <td>1785.257236</td>\n",
       "      <td>3407.513652</td>\n",
       "      <td>4073.706294</td>\n",
       "      <td>3675.591603</td>\n",
       "      <td>1.205810</td>\n",
       "      <td>0.614599</td>\n",
       "      <td>2963.116614</td>\n",
       "      <td>8271.187572</td>\n",
       "      <td>9624.038462</td>\n",
       "      <td>8150.182614</td>\n",
       "      <td>1.289092</td>\n",
       "      <td>0.655690</td>\n",
       "    </tr>\n",
       "    <tr>\n",
       "      <th>4</th>\n",
       "      <td>3.0</td>\n",
       "      <td>962.419650</td>\n",
       "      <td>186.115397</td>\n",
       "      <td>1.148361</td>\n",
       "      <td>0.189079</td>\n",
       "      <td>901.654638</td>\n",
       "      <td>175.290646</td>\n",
       "      <td>44838.219178</td>\n",
       "      <td>11909.919111</td>\n",
       "      <td>1.106396</td>\n",
       "      <td>0.184376</td>\n",
       "      <td>990.489995</td>\n",
       "      <td>191.193751</td>\n",
       "      <td>95749.589041</td>\n",
       "      <td>23890.355065</td>\n",
       "      <td>1.167842</td>\n",
       "      <td>0.190521</td>\n",
       "    </tr>\n",
       "    <tr>\n",
       "      <th>5</th>\n",
       "      <td>4.0</td>\n",
       "      <td>3151.167695</td>\n",
       "      <td>2300.579386</td>\n",
       "      <td>1.193124</td>\n",
       "      <td>0.272728</td>\n",
       "      <td>3388.596340</td>\n",
       "      <td>3977.560645</td>\n",
       "      <td>2486.471429</td>\n",
       "      <td>2543.846168</td>\n",
       "      <td>1.141680</td>\n",
       "      <td>0.246332</td>\n",
       "      <td>2965.468864</td>\n",
       "      <td>1413.124840</td>\n",
       "      <td>6198.842857</td>\n",
       "      <td>5969.192562</td>\n",
       "      <td>1.217169</td>\n",
       "      <td>0.308120</td>\n",
       "    </tr>\n",
       "    <tr>\n",
       "      <th>6</th>\n",
       "      <td>5.0</td>\n",
       "      <td>4290.268114</td>\n",
       "      <td>4293.211027</td>\n",
       "      <td>1.142755</td>\n",
       "      <td>0.323525</td>\n",
       "      <td>2233.609041</td>\n",
       "      <td>2119.451008</td>\n",
       "      <td>818.972973</td>\n",
       "      <td>945.431662</td>\n",
       "      <td>1.091064</td>\n",
       "      <td>0.281801</td>\n",
       "      <td>5495.024509</td>\n",
       "      <td>8385.532950</td>\n",
       "      <td>2107.891892</td>\n",
       "      <td>2196.126891</td>\n",
       "      <td>1.167537</td>\n",
       "      <td>0.366560</td>\n",
       "    </tr>\n",
       "    <tr>\n",
       "      <th>7</th>\n",
       "      <td>6.0</td>\n",
       "      <td>4342.078813</td>\n",
       "      <td>1418.670858</td>\n",
       "      <td>1.063455</td>\n",
       "      <td>0.387754</td>\n",
       "      <td>3118.965503</td>\n",
       "      <td>2605.143538</td>\n",
       "      <td>569.304348</td>\n",
       "      <td>530.071988</td>\n",
       "      <td>1.038566</td>\n",
       "      <td>0.358767</td>\n",
       "      <td>4784.622363</td>\n",
       "      <td>1779.546730</td>\n",
       "      <td>1578.391304</td>\n",
       "      <td>1418.130772</td>\n",
       "      <td>1.072658</td>\n",
       "      <td>0.400018</td>\n",
       "    </tr>\n",
       "  </tbody>\n",
       "</table>\n",
       "</div>"
      ],
      "text/plain": [
       "  bikeBehaviorGroup avg_tripduration                avg_crowDist            \\\n",
       "                                mean            std         mean       std   \n",
       "0              -1.0    169989.016183  300657.233361     2.486737  2.011096   \n",
       "1               0.0      1788.894119    4929.452445     1.366452  0.943031   \n",
       "2               1.0      1058.797984     200.520832     1.198310  0.214085   \n",
       "3               2.0      2547.657976    5329.598469     1.266093  0.530486   \n",
       "4               3.0       962.419650     186.115397     1.148361  0.189079   \n",
       "5               4.0      3151.167695    2300.579386     1.193124  0.272728   \n",
       "6               5.0      4290.268114    4293.211027     1.142755  0.323525   \n",
       "7               6.0      4342.078813    1418.670858     1.063455  0.387754   \n",
       "\n",
       "  avg_dur_BADweather                count_trips_BADweather                \\\n",
       "                mean            std                   mean           std   \n",
       "0       85082.151590  257956.476396             250.281250    285.996304   \n",
       "1        1222.857579     841.740587            2385.347297   3121.870650   \n",
       "2         977.552056     194.929509           19282.350168   6179.827888   \n",
       "3        1785.257236    3407.513652            4073.706294   3675.591603   \n",
       "4         901.654638     175.290646           44838.219178  11909.919111   \n",
       "5        3388.596340    3977.560645            2486.471429   2543.846168   \n",
       "6        2233.609041    2119.451008             818.972973    945.431662   \n",
       "7        3118.965503    2605.143538             569.304348    530.071988   \n",
       "\n",
       "  avg_dist_BADweather           avg_dur_GOODweather                 \\\n",
       "                 mean       std                mean            std   \n",
       "0            1.564982  1.407673       171822.376383  297880.613124   \n",
       "1            1.198198  0.735941         1852.897348    4983.808280   \n",
       "2            1.150893  0.210883         1095.069574     205.394690   \n",
       "3            1.205810  0.614599         2963.116614    8271.187572   \n",
       "4            1.106396  0.184376          990.489995     191.193751   \n",
       "5            1.141680  0.246332         2965.468864    1413.124840   \n",
       "6            1.091064  0.281801         5495.024509    8385.532950   \n",
       "7            1.038566  0.358767         4784.622363    1779.546730   \n",
       "\n",
       "  count_trips_GOODweather               avg_dist_GOODweather            \n",
       "                     mean           std                 mean       std  \n",
       "0              612.687500    655.176777             2.479473  2.068537  \n",
       "1             5425.804054   6854.415425             1.379583  0.961674  \n",
       "2            42547.380471  12772.751459             1.219682  0.215167  \n",
       "3             9624.038462   8150.182614             1.289092  0.655690  \n",
       "4            95749.589041  23890.355065             1.167842  0.190521  \n",
       "5             6198.842857   5969.192562             1.217169  0.308120  \n",
       "6             2107.891892   2196.126891             1.167537  0.366560  \n",
       "7             1578.391304   1418.130772             1.072658  0.400018  "
      ]
     },
     "execution_count": 27,
     "metadata": {},
     "output_type": "execute_result"
    }
   ],
   "source": [
    "df_join.groupby(['bikeBehaviorGroup'])\\\n",
    "    .agg({'avg_tripduration': ['mean', 'std'],\\\n",
    "          'avg_crowDist': ['mean', 'std'],\\\n",
    "          'avg_dur_BADweather': ['mean', 'std'],\\\n",
    "          'count_trips_BADweather': ['mean', 'std'],\\\n",
    "          'avg_dist_BADweather': ['mean', 'std'],\\\n",
    "          'avg_dur_GOODweather': ['mean', 'std'],\\\n",
    "          'count_trips_GOODweather': ['mean', 'std'],\\\n",
    "          'avg_dist_GOODweather': ['mean', 'std'],\\\n",
    "          'avg_dist_GOODweather': ['mean', 'std']\\\n",
    "         }).reset_index()"
   ]
  },
  {
   "cell_type": "markdown",
   "metadata": {},
   "source": [
    "* Below Central Park (green, group 3) has distinct behavior such as the shortest average trip duration and shortest trip distance. \n",
    "* Group 1 (purple) is found around Central Park, lower Manhattan, and on the Manhattan side of Brooklyn. \n",
    "* The outskirts of New York City are dominated by the behavior of group 0 (red). \n",
    "* Groups 5 and 6 (orange and lime green) have much longer trips on average indicating riders are coming from further away when arriving at those stations."
   ]
  },
  {
   "cell_type": "code",
   "execution_count": 30,
   "metadata": {},
   "outputs": [
    {
     "data": {
      "text/html": [
       "<div>\n",
       "<style scoped>\n",
       "    .dataframe tbody tr th:only-of-type {\n",
       "        vertical-align: middle;\n",
       "    }\n",
       "\n",
       "    .dataframe tbody tr th {\n",
       "        vertical-align: top;\n",
       "    }\n",
       "\n",
       "    .dataframe thead tr th {\n",
       "        text-align: left;\n",
       "    }\n",
       "</style>\n",
       "<table border=\"1\" class=\"dataframe\">\n",
       "  <thead>\n",
       "    <tr>\n",
       "      <th></th>\n",
       "      <th>bikeBehaviorGroup</th>\n",
       "      <th colspan=\"2\" halign=\"left\">avg_dur_NONPEAK</th>\n",
       "      <th colspan=\"2\" halign=\"left\">avg_dur_PEAK</th>\n",
       "      <th colspan=\"2\" halign=\"left\">avg_dist_NONPEAK</th>\n",
       "      <th colspan=\"2\" halign=\"left\">avg_dist_PEAK</th>\n",
       "      <th colspan=\"2\" halign=\"left\">count_trips_NONPEAK</th>\n",
       "      <th colspan=\"2\" halign=\"left\">count_trips_PEAK</th>\n",
       "    </tr>\n",
       "    <tr>\n",
       "      <th></th>\n",
       "      <th></th>\n",
       "      <th>mean</th>\n",
       "      <th>std</th>\n",
       "      <th>mean</th>\n",
       "      <th>std</th>\n",
       "      <th>mean</th>\n",
       "      <th>std</th>\n",
       "      <th>mean</th>\n",
       "      <th>std</th>\n",
       "      <th>mean</th>\n",
       "      <th>std</th>\n",
       "      <th>mean</th>\n",
       "      <th>std</th>\n",
       "    </tr>\n",
       "  </thead>\n",
       "  <tbody>\n",
       "    <tr>\n",
       "      <th>0</th>\n",
       "      <td>-1.0</td>\n",
       "      <td>147123.591361</td>\n",
       "      <td>319862.962473</td>\n",
       "      <td>153237.957906</td>\n",
       "      <td>341477.888030</td>\n",
       "      <td>2.368502</td>\n",
       "      <td>1.908586</td>\n",
       "      <td>2.164141</td>\n",
       "      <td>2.163599</td>\n",
       "      <td>572.312500</td>\n",
       "      <td>601.465224</td>\n",
       "      <td>290.656250</td>\n",
       "      <td>361.563238</td>\n",
       "    </tr>\n",
       "    <tr>\n",
       "      <th>1</th>\n",
       "      <td>0.0</td>\n",
       "      <td>1677.271708</td>\n",
       "      <td>3766.076418</td>\n",
       "      <td>1515.790172</td>\n",
       "      <td>3549.567355</td>\n",
       "      <td>1.323212</td>\n",
       "      <td>0.899948</td>\n",
       "      <td>1.279698</td>\n",
       "      <td>0.788283</td>\n",
       "      <td>4735.178378</td>\n",
       "      <td>5950.067987</td>\n",
       "      <td>3075.972973</td>\n",
       "      <td>4082.077945</td>\n",
       "    </tr>\n",
       "    <tr>\n",
       "      <th>2</th>\n",
       "      <td>1.0</td>\n",
       "      <td>1123.027088</td>\n",
       "      <td>221.244107</td>\n",
       "      <td>970.458651</td>\n",
       "      <td>180.368945</td>\n",
       "      <td>1.174645</td>\n",
       "      <td>0.207310</td>\n",
       "      <td>1.228475</td>\n",
       "      <td>0.231457</td>\n",
       "      <td>35715.996633</td>\n",
       "      <td>10789.660419</td>\n",
       "      <td>26113.734007</td>\n",
       "      <td>9317.717005</td>\n",
       "    </tr>\n",
       "    <tr>\n",
       "      <th>3</th>\n",
       "      <td>2.0</td>\n",
       "      <td>2519.116232</td>\n",
       "      <td>5195.698699</td>\n",
       "      <td>2157.351818</td>\n",
       "      <td>4978.748361</td>\n",
       "      <td>1.229221</td>\n",
       "      <td>0.429032</td>\n",
       "      <td>1.271401</td>\n",
       "      <td>0.536139</td>\n",
       "      <td>8619.503497</td>\n",
       "      <td>7250.209921</td>\n",
       "      <td>5078.241259</td>\n",
       "      <td>4638.718013</td>\n",
       "    </tr>\n",
       "    <tr>\n",
       "      <th>4</th>\n",
       "      <td>3.0</td>\n",
       "      <td>1020.030800</td>\n",
       "      <td>210.526139</td>\n",
       "      <td>886.297549</td>\n",
       "      <td>147.118546</td>\n",
       "      <td>1.129206</td>\n",
       "      <td>0.193159</td>\n",
       "      <td>1.171335</td>\n",
       "      <td>0.186481</td>\n",
       "      <td>79926.397260</td>\n",
       "      <td>20234.159268</td>\n",
       "      <td>60661.410959</td>\n",
       "      <td>19401.913507</td>\n",
       "    </tr>\n",
       "    <tr>\n",
       "      <th>5</th>\n",
       "      <td>4.0</td>\n",
       "      <td>2960.355759</td>\n",
       "      <td>1407.254238</td>\n",
       "      <td>3495.371553</td>\n",
       "      <td>4439.308634</td>\n",
       "      <td>1.183703</td>\n",
       "      <td>0.295060</td>\n",
       "      <td>1.211421</td>\n",
       "      <td>0.272502</td>\n",
       "      <td>5667.385714</td>\n",
       "      <td>5463.730682</td>\n",
       "      <td>3017.928571</td>\n",
       "      <td>3050.242553</td>\n",
       "    </tr>\n",
       "    <tr>\n",
       "      <th>6</th>\n",
       "      <td>5.0</td>\n",
       "      <td>5184.604691</td>\n",
       "      <td>5120.568376</td>\n",
       "      <td>2082.063272</td>\n",
       "      <td>1199.119682</td>\n",
       "      <td>1.139548</td>\n",
       "      <td>0.327241</td>\n",
       "      <td>1.143803</td>\n",
       "      <td>0.323069</td>\n",
       "      <td>1941.459459</td>\n",
       "      <td>2065.639981</td>\n",
       "      <td>985.405405</td>\n",
       "      <td>1071.582383</td>\n",
       "    </tr>\n",
       "    <tr>\n",
       "      <th>7</th>\n",
       "      <td>6.0</td>\n",
       "      <td>5218.985127</td>\n",
       "      <td>1883.217103</td>\n",
       "      <td>2446.138841</td>\n",
       "      <td>1332.650376</td>\n",
       "      <td>1.051033</td>\n",
       "      <td>0.370354</td>\n",
       "      <td>1.086975</td>\n",
       "      <td>0.433154</td>\n",
       "      <td>1458.043478</td>\n",
       "      <td>1316.324721</td>\n",
       "      <td>689.652174</td>\n",
       "      <td>633.213493</td>\n",
       "    </tr>\n",
       "  </tbody>\n",
       "</table>\n",
       "</div>"
      ],
      "text/plain": [
       "  bikeBehaviorGroup avg_dur_NONPEAK                  avg_dur_PEAK  \\\n",
       "                               mean            std           mean   \n",
       "0              -1.0   147123.591361  319862.962473  153237.957906   \n",
       "1               0.0     1677.271708    3766.076418    1515.790172   \n",
       "2               1.0     1123.027088     221.244107     970.458651   \n",
       "3               2.0     2519.116232    5195.698699    2157.351818   \n",
       "4               3.0     1020.030800     210.526139     886.297549   \n",
       "5               4.0     2960.355759    1407.254238    3495.371553   \n",
       "6               5.0     5184.604691    5120.568376    2082.063272   \n",
       "7               6.0     5218.985127    1883.217103    2446.138841   \n",
       "\n",
       "                 avg_dist_NONPEAK           avg_dist_PEAK            \\\n",
       "             std             mean       std          mean       std   \n",
       "0  341477.888030         2.368502  1.908586      2.164141  2.163599   \n",
       "1    3549.567355         1.323212  0.899948      1.279698  0.788283   \n",
       "2     180.368945         1.174645  0.207310      1.228475  0.231457   \n",
       "3    4978.748361         1.229221  0.429032      1.271401  0.536139   \n",
       "4     147.118546         1.129206  0.193159      1.171335  0.186481   \n",
       "5    4439.308634         1.183703  0.295060      1.211421  0.272502   \n",
       "6    1199.119682         1.139548  0.327241      1.143803  0.323069   \n",
       "7    1332.650376         1.051033  0.370354      1.086975  0.433154   \n",
       "\n",
       "  count_trips_NONPEAK               count_trips_PEAK                \n",
       "                 mean           std             mean           std  \n",
       "0          572.312500    601.465224       290.656250    361.563238  \n",
       "1         4735.178378   5950.067987      3075.972973   4082.077945  \n",
       "2        35715.996633  10789.660419     26113.734007   9317.717005  \n",
       "3         8619.503497   7250.209921      5078.241259   4638.718013  \n",
       "4        79926.397260  20234.159268     60661.410959  19401.913507  \n",
       "5         5667.385714   5463.730682      3017.928571   3050.242553  \n",
       "6         1941.459459   2065.639981       985.405405   1071.582383  \n",
       "7         1458.043478   1316.324721       689.652174    633.213493  "
      ]
     },
     "execution_count": 30,
     "metadata": {},
     "output_type": "execute_result"
    }
   ],
   "source": [
    "df_join.groupby(['bikeBehaviorGroup'])\\\n",
    "    .agg({'avg_dur_NONPEAK': ['mean', 'std'],\\\n",
    "          'avg_dur_PEAK': ['mean', 'std'],\\\n",
    "          'avg_dist_NONPEAK': ['mean', 'std'],\\\n",
    "          'avg_dist_PEAK': ['mean', 'std'],\\\n",
    "          'count_trips_NONPEAK': ['mean', 'std'],\\\n",
    "          'count_trips_PEAK': ['mean', 'std']\\\n",
    "         }).reset_index()"
   ]
  },
  {
   "cell_type": "markdown",
   "metadata": {},
   "source": [
    "* Only Group 5 has longer duration trips during PEAK hours\n",
    "* All groups have more trip counts during NON-PEAK hours than PEAK hours"
   ]
  },
  {
   "cell_type": "code",
   "execution_count": 33,
   "metadata": {},
   "outputs": [
    {
     "data": {
      "text/html": [
       "<div>\n",
       "<style scoped>\n",
       "    .dataframe tbody tr th:only-of-type {\n",
       "        vertical-align: middle;\n",
       "    }\n",
       "\n",
       "    .dataframe tbody tr th {\n",
       "        vertical-align: top;\n",
       "    }\n",
       "\n",
       "    .dataframe thead tr th {\n",
       "        text-align: left;\n",
       "    }\n",
       "</style>\n",
       "<table border=\"1\" class=\"dataframe\">\n",
       "  <thead>\n",
       "    <tr>\n",
       "      <th></th>\n",
       "      <th>bikeBehaviorGroup</th>\n",
       "      <th>count_trips_DOW1</th>\n",
       "      <th>count_trips_DOW2</th>\n",
       "      <th>count_trips_DOW3</th>\n",
       "      <th>count_trips_DOW4</th>\n",
       "      <th>count_trips_DOW5</th>\n",
       "      <th>count_trips_DOW6</th>\n",
       "      <th>count_trips_DOW7</th>\n",
       "    </tr>\n",
       "    <tr>\n",
       "      <th></th>\n",
       "      <th></th>\n",
       "      <th>mean</th>\n",
       "      <th>mean</th>\n",
       "      <th>mean</th>\n",
       "      <th>mean</th>\n",
       "      <th>mean</th>\n",
       "      <th>mean</th>\n",
       "      <th>mean</th>\n",
       "    </tr>\n",
       "  </thead>\n",
       "  <tbody>\n",
       "    <tr>\n",
       "      <th>0</th>\n",
       "      <td>-1.0</td>\n",
       "      <td>108.000000</td>\n",
       "      <td>113.031250</td>\n",
       "      <td>127.031250</td>\n",
       "      <td>127.406250</td>\n",
       "      <td>128.031250</td>\n",
       "      <td>131.031250</td>\n",
       "      <td>128.437500</td>\n",
       "    </tr>\n",
       "    <tr>\n",
       "      <th>1</th>\n",
       "      <td>0.0</td>\n",
       "      <td>1068.606757</td>\n",
       "      <td>1034.948649</td>\n",
       "      <td>1134.924324</td>\n",
       "      <td>1122.960811</td>\n",
       "      <td>1100.305405</td>\n",
       "      <td>1115.379730</td>\n",
       "      <td>1234.025676</td>\n",
       "    </tr>\n",
       "    <tr>\n",
       "      <th>2</th>\n",
       "      <td>1.0</td>\n",
       "      <td>7863.080808</td>\n",
       "      <td>8404.010101</td>\n",
       "      <td>9308.505051</td>\n",
       "      <td>9240.218855</td>\n",
       "      <td>9016.929293</td>\n",
       "      <td>9019.363636</td>\n",
       "      <td>8977.622896</td>\n",
       "    </tr>\n",
       "    <tr>\n",
       "      <th>3</th>\n",
       "      <td>2.0</td>\n",
       "      <td>1906.597902</td>\n",
       "      <td>1816.835664</td>\n",
       "      <td>1986.311189</td>\n",
       "      <td>1960.790210</td>\n",
       "      <td>1914.346154</td>\n",
       "      <td>1952.444056</td>\n",
       "      <td>2160.419580</td>\n",
       "    </tr>\n",
       "    <tr>\n",
       "      <th>4</th>\n",
       "      <td>3.0</td>\n",
       "      <td>16761.691781</td>\n",
       "      <td>19491.684932</td>\n",
       "      <td>21515.178082</td>\n",
       "      <td>21471.815068</td>\n",
       "      <td>20892.006849</td>\n",
       "      <td>20910.664384</td>\n",
       "      <td>19544.767123</td>\n",
       "    </tr>\n",
       "    <tr>\n",
       "      <th>5</th>\n",
       "      <td>4.0</td>\n",
       "      <td>1193.585714</td>\n",
       "      <td>1171.614286</td>\n",
       "      <td>1262.614286</td>\n",
       "      <td>1255.500000</td>\n",
       "      <td>1237.142857</td>\n",
       "      <td>1244.557143</td>\n",
       "      <td>1320.300000</td>\n",
       "    </tr>\n",
       "    <tr>\n",
       "      <th>6</th>\n",
       "      <td>5.0</td>\n",
       "      <td>403.837838</td>\n",
       "      <td>387.594595</td>\n",
       "      <td>427.351351</td>\n",
       "      <td>418.378378</td>\n",
       "      <td>406.918919</td>\n",
       "      <td>432.594595</td>\n",
       "      <td>450.189189</td>\n",
       "    </tr>\n",
       "    <tr>\n",
       "      <th>7</th>\n",
       "      <td>6.0</td>\n",
       "      <td>292.652174</td>\n",
       "      <td>289.130435</td>\n",
       "      <td>310.043478</td>\n",
       "      <td>313.869565</td>\n",
       "      <td>310.347826</td>\n",
       "      <td>307.304348</td>\n",
       "      <td>324.347826</td>\n",
       "    </tr>\n",
       "  </tbody>\n",
       "</table>\n",
       "</div>"
      ],
      "text/plain": [
       "  bikeBehaviorGroup count_trips_DOW1 count_trips_DOW2 count_trips_DOW3  \\\n",
       "                                mean             mean             mean   \n",
       "0              -1.0       108.000000       113.031250       127.031250   \n",
       "1               0.0      1068.606757      1034.948649      1134.924324   \n",
       "2               1.0      7863.080808      8404.010101      9308.505051   \n",
       "3               2.0      1906.597902      1816.835664      1986.311189   \n",
       "4               3.0     16761.691781     19491.684932     21515.178082   \n",
       "5               4.0      1193.585714      1171.614286      1262.614286   \n",
       "6               5.0       403.837838       387.594595       427.351351   \n",
       "7               6.0       292.652174       289.130435       310.043478   \n",
       "\n",
       "  count_trips_DOW4 count_trips_DOW5 count_trips_DOW6 count_trips_DOW7  \n",
       "              mean             mean             mean             mean  \n",
       "0       127.406250       128.031250       131.031250       128.437500  \n",
       "1      1122.960811      1100.305405      1115.379730      1234.025676  \n",
       "2      9240.218855      9016.929293      9019.363636      8977.622896  \n",
       "3      1960.790210      1914.346154      1952.444056      2160.419580  \n",
       "4     21471.815068     20892.006849     20910.664384     19544.767123  \n",
       "5      1255.500000      1237.142857      1244.557143      1320.300000  \n",
       "6       418.378378       406.918919       432.594595       450.189189  \n",
       "7       313.869565       310.347826       307.304348       324.347826  "
      ]
     },
     "execution_count": 33,
     "metadata": {},
     "output_type": "execute_result"
    }
   ],
   "source": [
    "df_join.groupby(['bikeBehaviorGroup'])\\\n",
    "    .agg({'count_trips_DOW1': ['mean'],\\\n",
    "          'count_trips_DOW2': ['mean'],\\\n",
    "          'count_trips_DOW3': ['mean'],\\\n",
    "          'count_trips_DOW4': ['mean'],\\\n",
    "          'count_trips_DOW5': ['mean'],\\\n",
    "          'count_trips_DOW6': ['mean'],\\\n",
    "          'count_trips_DOW7': ['mean']\\\n",
    "         }).reset_index()"
   ]
  },
  {
   "cell_type": "markdown",
   "metadata": {},
   "source": [
    "For reference:\n",
    "{1: 'Sunday',\n",
    " 2: 'Monday',\n",
    " 3: 'Tuesday',\n",
    " 4: 'Wednesday',\n",
    " 5: 'Thursday',\n",
    " 6: 'Friday',\n",
    " 7: 'Saturday'}\n",
    "\n",
    "* Groups 0, 2, 4, 5, and 6 are groups with more average rides on Saturdays.\n",
    "* Groups 1 and 3 do not have the most rides on Saturdays.\n",
    "* No groups have the largest count of trips on Sundays.\n",
    "* Group 3 has the largest average count of trips on Tuesdays."
   ]
  },
  {
   "cell_type": "code",
   "execution_count": null,
   "metadata": {},
   "outputs": [],
   "source": []
  }
 ],
 "metadata": {
  "kernelspec": {
   "display_name": "DS 5110",
   "language": "python",
   "name": "ds5110"
  },
  "language_info": {
   "codemirror_mode": {
    "name": "ipython",
    "version": 3
   },
   "file_extension": ".py",
   "mimetype": "text/x-python",
   "name": "python",
   "nbconvert_exporter": "python",
   "pygments_lexer": "ipython3",
   "version": "3.7.10"
  }
 },
 "nbformat": 4,
 "nbformat_minor": 5
}
