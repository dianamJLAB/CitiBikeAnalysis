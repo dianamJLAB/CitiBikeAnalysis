{
 "cells": [
  {
   "cell_type": "markdown",
   "metadata": {},
   "source": [
    "# Project Model"
   ]
  },
  {
   "cell_type": "code",
   "execution_count": 1,
   "metadata": {},
   "outputs": [],
   "source": [
    "# load modules\n",
    "from pyspark.sql import SparkSession\n",
    "from pyspark.sql.functions import * #col, radians, asin, sin, sqrt, cos\n",
    "\n",
    "from pyspark.ml import Pipeline\n",
    "from pyspark.ml.feature import VectorAssembler, StringIndexer, OneHotEncoder, StandardScaler, IndexToString, VectorIndexer\n",
    "from pyspark.ml.evaluation import MulticlassClassificationEvaluator, RegressionEvaluator\n",
    "from pyspark.ml.regression import GBTRegressor, RandomForestRegressor, LinearRegression\n",
    "\n",
    "# Necessary for distance calculations\n",
    "from math import atan2, pi\n",
    "\n",
    "# Other\n",
    "import matplotlib.pyplot as plt\n",
    "import sklearn.metrics\n",
    "\n",
    "import pandas as pd\n",
    "import os"
   ]
  },
  {
   "cell_type": "code",
   "execution_count": 2,
   "metadata": {},
   "outputs": [],
   "source": [
    "# param init\n",
    "infile = '/project/ds5559/Summer2021_TeamBike/master_dataset.parquet/'\n",
    "\n",
    "spark = SparkSession \\\n",
    "    .builder \\\n",
    "    .config(\"spark.driver.memory\", \"15g\") \\\n",
    "    .appName(\"Bike\") \\\n",
    "    .getOrCreate()"
   ]
  },
  {
   "cell_type": "markdown",
   "metadata": {},
   "source": [
    "### Read in file"
   ]
  },
  {
   "cell_type": "code",
   "execution_count": 3,
   "metadata": {},
   "outputs": [],
   "source": [
    "df = spark.read.parquet(infile, inferSchema=True, header = True)"
   ]
  },
  {
   "cell_type": "code",
   "execution_count": 4,
   "metadata": {},
   "outputs": [],
   "source": [
    "# add age column\n",
    "df = df.withColumn(\"age\", (df.year - df.birthyear))"
   ]
  },
  {
   "cell_type": "code",
   "execution_count": 5,
   "metadata": {},
   "outputs": [],
   "source": [
    "# radius of earth in miles\n",
    "R = 3963.0\n",
    "\n",
    "#Convert start/end latitude and longitude from degrees to Radians\n",
    "df = df.withColumn(\"startRadLong\", radians(df.startStationLongitude))\\\n",
    "       .withColumn(\"endRadLong\", radians(df.endStationLongitude))\\\n",
    "       .withColumn(\"startRadLat\", radians(df.startStationLatitude))\\\n",
    "       .withColumn(\"endRadLat\", radians(df.endStationLatitude))\\\n",
    "\n",
    "df = df.withColumn(\"diffRadLong\", (df.startRadLong-df.endRadLong))\\\n",
    "       .withColumn(\"diffRadLat\", (df.startRadLat-df.endRadLat))\\\n",
    "\n",
    "df = df.withColumn(\"crowDist\", asin(sqrt(sin(df.diffRadLat/2)**2 + cos(df.startRadLat) * cos(df.endRadLat) * sin(df.diffRadLong/2)**2)) * 2 * R)\n",
    "\n",
    "df = df.drop(\"startRadLong\",\"endRadLong\",\"startRadLat\",\"endRadLat\",\"diffRadLong\",\"diffRadLat\")"
   ]
  },
  {
   "cell_type": "markdown",
   "metadata": {},
   "source": [
    "## Random Forest"
   ]
  },
  {
   "cell_type": "markdown",
   "metadata": {},
   "source": [
    "### Identify Categorical vs Continuous Features"
   ]
  },
  {
   "cell_type": "code",
   "execution_count": 6,
   "metadata": {},
   "outputs": [],
   "source": [
    "categoricalCols = [\"Borough\",\"hour\",\"usertype\",\"gender\",\"day\",\"month\",\"time_bin\",\"year\",\"precip\",\"zipcodes\"]"
   ]
  },
  {
   "cell_type": "code",
   "execution_count": 7,
   "metadata": {},
   "outputs": [],
   "source": [
    "continuousCols = [\"temp\",\"pressure\",\"humidity\",\"wind_speed\",\"rain_3h\",\"snow_3h\",\"clouds_all\",\"avg_median_sales_price\",\"age\"]"
   ]
  },
  {
   "cell_type": "markdown",
   "metadata": {},
   "source": [
    "### Index and One-Hot Encode Categorical Features"
   ]
  },
  {
   "cell_type": "code",
   "execution_count": 8,
   "metadata": {},
   "outputs": [],
   "source": [
    "indexers = [\n",
    "    StringIndexer(inputCol=c, outputCol=\"{0}_indexed\".format(c), handleInvalid='skip')\n",
    "    for c in categoricalCols\n",
    "]"
   ]
  },
  {
   "cell_type": "code",
   "execution_count": 9,
   "metadata": {},
   "outputs": [],
   "source": [
    "encoders = [\n",
    "    OneHotEncoder(dropLast=False,inputCol=indexer.getOutputCol(),\n",
    "                 outputCol=\"{0}_encoded\".format(indexer.getOutputCol()))\n",
    "    for indexer in indexers\n",
    "]"
   ]
  },
  {
   "cell_type": "markdown",
   "metadata": {},
   "source": [
    "### Assemble Categorical and Continuous Features"
   ]
  },
  {
   "cell_type": "code",
   "execution_count": 10,
   "metadata": {},
   "outputs": [],
   "source": [
    "assembler = VectorAssembler(inputCols=continuousCols + [encoder.getOutputCol() for encoder in encoders], outputCol=\"features\")"
   ]
  },
  {
   "cell_type": "code",
   "execution_count": 11,
   "metadata": {},
   "outputs": [],
   "source": [
    "pipeline = Pipeline(stages = indexers + encoders + [assembler])"
   ]
  },
  {
   "cell_type": "code",
   "execution_count": 12,
   "metadata": {},
   "outputs": [],
   "source": [
    "model = pipeline.fit(df)"
   ]
  },
  {
   "cell_type": "code",
   "execution_count": 13,
   "metadata": {},
   "outputs": [],
   "source": [
    "transformed = model.transform(df)"
   ]
  },
  {
   "cell_type": "markdown",
   "metadata": {},
   "source": [
    "### \"slimDF\" shows our transformed dense vector down to simply 'features' and 'label'(crowDist or straight line distance \"as the crow flies\")"
   ]
  },
  {
   "cell_type": "code",
   "execution_count": 14,
   "metadata": {},
   "outputs": [],
   "source": [
    "slimDF = transformed.select('features','crowDist')"
   ]
  },
  {
   "cell_type": "code",
   "execution_count": 15,
   "metadata": {},
   "outputs": [
    {
     "name": "stdout",
     "output_type": "stream",
     "text": [
      "+------------------------------------------------------------------------------------------------------------------------------------------------+------------------+\n",
      "|features                                                                                                                                        |crowDist          |\n",
      "+------------------------------------------------------------------------------------------------------------------------------------------------+------------------+\n",
      "|(181,[0,1,2,3,6,7,8,9,31,37,40,43,51,65,68,70,89],[75.704,1020.0,73.0,1.54,1.0,1122214.7127969791,32.0,1.0,1.0,1.0,1.0,1.0,1.0,1.0,1.0,1.0,1.0])|1.614091713256487 |\n",
      "|(181,[0,1,2,3,6,7,8,9,31,37,40,43,51,65,68,70,74],[75.704,1020.0,73.0,1.54,1.0,1122214.7127969791,48.0,1.0,1.0,1.0,1.0,1.0,1.0,1.0,1.0,1.0,1.0])|0.6582641036301969|\n",
      "+------------------------------------------------------------------------------------------------------------------------------------------------+------------------+\n",
      "only showing top 2 rows\n",
      "\n"
     ]
    }
   ],
   "source": [
    "slimDF.show(2,False)"
   ]
  },
  {
   "cell_type": "code",
   "execution_count": 16,
   "metadata": {},
   "outputs": [],
   "source": [
    "## Split training and testing data set\n",
    "(train_data, test_data) = slimDF.randomSplit([0.7,0.3], seed = 314)"
   ]
  },
  {
   "cell_type": "code",
   "execution_count": 17,
   "metadata": {},
   "outputs": [],
   "source": [
    "rfReg = RandomForestRegressor(featuresCol='features', labelCol='crowDist')"
   ]
  },
  {
   "cell_type": "code",
   "execution_count": 18,
   "metadata": {},
   "outputs": [],
   "source": [
    "## Fit training data\n",
    "rfReg_model = rfReg.fit(train_data)"
   ]
  },
  {
   "cell_type": "code",
   "execution_count": 19,
   "metadata": {},
   "outputs": [],
   "source": [
    "predictionRF = rfReg_model.transform(test_data)"
   ]
  },
  {
   "cell_type": "code",
   "execution_count": 20,
   "metadata": {},
   "outputs": [
    {
     "name": "stdout",
     "output_type": "stream",
     "text": [
      "+--------------------+------------------+-----------------+\n",
      "|            features|          crowDist|       prediction|\n",
      "+--------------------+------------------+-----------------+\n",
      "|(181,[0,1,2,3,4,6...|0.8039584205799567|1.069557733824869|\n",
      "+--------------------+------------------+-----------------+\n",
      "only showing top 1 row\n",
      "\n"
     ]
    }
   ],
   "source": [
    "## Show features, the \"crows distance\", and our prediction on the test data\n",
    "predictionRF.select(\"features\",\"crowDist\",\"prediction\").show(1)"
   ]
  },
  {
   "cell_type": "code",
   "execution_count": 21,
   "metadata": {},
   "outputs": [],
   "source": [
    "evaluatorRMSE = RegressionEvaluator(labelCol=\"crowDist\", predictionCol=\"prediction\", metricName=\"rmse\")\n",
    "evaluatorR2 = RegressionEvaluator(labelCol=\"crowDist\", predictionCol=\"prediction\",metricName=\"r2\")"
   ]
  },
  {
   "cell_type": "code",
   "execution_count": 22,
   "metadata": {},
   "outputs": [
    {
     "name": "stdout",
     "output_type": "stream",
     "text": [
      "Root Mean Squared Error (RMSE) on test data = 0.955498\n"
     ]
    }
   ],
   "source": [
    "## print RMSE for Random Forest\n",
    "rmseRF = evaluatorRMSE.evaluate(predictionRF)\n",
    "print(\"Root Mean Squared Error (RMSE) on test data = %g\" % rmseRF)"
   ]
  },
  {
   "cell_type": "code",
   "execution_count": 23,
   "metadata": {},
   "outputs": [
    {
     "name": "stdout",
     "output_type": "stream",
     "text": [
      "R Squared (R2) on test data = 0.0260675\n"
     ]
    }
   ],
   "source": [
    "## print R^2 for Random Forest\n",
    "r2RF = evaluatorR2.evaluate(predictionRF)\n",
    "print(\"R Squared (R2) on test data = %g\" % r2RF) "
   ]
  },
  {
   "cell_type": "markdown",
   "metadata": {},
   "source": [
    "## GBT"
   ]
  },
  {
   "cell_type": "code",
   "execution_count": 24,
   "metadata": {},
   "outputs": [],
   "source": [
    "gbtReg = GBTRegressor(featuresCol='features', labelCol='crowDist')"
   ]
  },
  {
   "cell_type": "code",
   "execution_count": 25,
   "metadata": {},
   "outputs": [],
   "source": [
    "gbtReg_model = gbtReg.fit(train_data)"
   ]
  },
  {
   "cell_type": "code",
   "execution_count": 26,
   "metadata": {},
   "outputs": [],
   "source": [
    "predictionGBT = gbtReg_model.transform(test_data)"
   ]
  },
  {
   "cell_type": "code",
   "execution_count": 27,
   "metadata": {},
   "outputs": [
    {
     "name": "stdout",
     "output_type": "stream",
     "text": [
      "+--------------------+------------------+------------------+\n",
      "|            features|          crowDist|        prediction|\n",
      "+--------------------+------------------+------------------+\n",
      "|(181,[0,1,2,3,4,6...|0.8039584205799567|0.9338852211023668|\n",
      "+--------------------+------------------+------------------+\n",
      "only showing top 1 row\n",
      "\n"
     ]
    }
   ],
   "source": [
    "predictionGBT.select(\"features\",\"crowDist\",\"prediction\").show(1)"
   ]
  },
  {
   "cell_type": "code",
   "execution_count": 28,
   "metadata": {},
   "outputs": [
    {
     "name": "stdout",
     "output_type": "stream",
     "text": [
      "Root Mean Squared Error (RMSE) on test data = 0.946022\n"
     ]
    }
   ],
   "source": [
    "## print RMSE for GBT\n",
    "rmseGBT = evaluatorRMSE.evaluate(predictionGBT)\n",
    "print(\"Root Mean Squared Error (RMSE) on test data = %g\" % rmseGBT)"
   ]
  },
  {
   "cell_type": "code",
   "execution_count": 29,
   "metadata": {},
   "outputs": [
    {
     "name": "stdout",
     "output_type": "stream",
     "text": [
      "R Squared (R2) on test data = 0.0452891\n"
     ]
    }
   ],
   "source": [
    "## print R^2 for GBT\n",
    "r2GBT = evaluatorR2.evaluate(predictionGBT)\n",
    "print(\"R Squared (R2) on test data = %g\" % r2GBT) "
   ]
  },
  {
   "cell_type": "markdown",
   "metadata": {},
   "source": [
    "## Linear Regression"
   ]
  },
  {
   "cell_type": "code",
   "execution_count": 30,
   "metadata": {},
   "outputs": [],
   "source": [
    "crowLR = LinearRegression(featuresCol='features', labelCol='crowDist', maxIter=3)"
   ]
  },
  {
   "cell_type": "code",
   "execution_count": 31,
   "metadata": {},
   "outputs": [],
   "source": [
    "lrReg_model = crowLR.fit(train_data)"
   ]
  },
  {
   "cell_type": "code",
   "execution_count": 32,
   "metadata": {},
   "outputs": [],
   "source": [
    "predictionLR = lrReg_model.transform(test_data)"
   ]
  },
  {
   "cell_type": "code",
   "execution_count": 33,
   "metadata": {},
   "outputs": [
    {
     "name": "stdout",
     "output_type": "stream",
     "text": [
      "+--------------------+------------------+------------------+\n",
      "|            features|          crowDist|        prediction|\n",
      "+--------------------+------------------+------------------+\n",
      "|(181,[0,1,2,3,4,6...|0.8039584205799567|1.0113322386631556|\n",
      "+--------------------+------------------+------------------+\n",
      "only showing top 1 row\n",
      "\n"
     ]
    }
   ],
   "source": [
    "predictionLR.select(\"features\",\"crowDist\",\"prediction\").show(1)"
   ]
  },
  {
   "cell_type": "code",
   "execution_count": 34,
   "metadata": {},
   "outputs": [
    {
     "name": "stdout",
     "output_type": "stream",
     "text": [
      "Root Mean Squared Error (RMSE) on test data = 0.94507\n"
     ]
    }
   ],
   "source": [
    "## print RMSE for GBT\n",
    "rmseLR = evaluatorRMSE.evaluate(predictionLR)\n",
    "print(\"Root Mean Squared Error (RMSE) on test data = %g\" % rmseLR)"
   ]
  },
  {
   "cell_type": "code",
   "execution_count": 35,
   "metadata": {},
   "outputs": [
    {
     "name": "stdout",
     "output_type": "stream",
     "text": [
      "R Squared (R2) on test data = 0.0472101\n"
     ]
    }
   ],
   "source": [
    "## print R^2 for GBT\n",
    "r2LR = evaluatorR2.evaluate(predictionLR)\n",
    "print(\"R Squared (R2) on test data = %g\" % r2LR) "
   ]
  },
  {
   "cell_type": "markdown",
   "metadata": {},
   "source": [
    "## Feature Analysis"
   ]
  },
  {
   "cell_type": "code",
   "execution_count": 36,
   "metadata": {},
   "outputs": [],
   "source": [
    "featureLabel = [\n",
    "    transformed.select(feat).distinct().collect()\n",
    "    for feat in categoricalCols\n",
    "]"
   ]
  },
  {
   "cell_type": "code",
   "execution_count": 37,
   "metadata": {},
   "outputs": [],
   "source": [
    "featureLabel = [item for sublist in featureLabel for item in sublist]"
   ]
  },
  {
   "cell_type": "code",
   "execution_count": 38,
   "metadata": {},
   "outputs": [],
   "source": [
    "featureLabel =  continuousCols + featureLabel"
   ]
  },
  {
   "cell_type": "code",
   "execution_count": 39,
   "metadata": {},
   "outputs": [],
   "source": [
    "rfReg_list = list(zip(featureLabel, rfReg_model.featureImportances))\n",
    "gbtReg_list = list(zip(featureLabel, gbtReg_model.featureImportances))\n",
    "lrReg_list = list(zip(featureLabel, lrReg_model.coefficients))"
   ]
  },
  {
   "cell_type": "code",
   "execution_count": 40,
   "metadata": {},
   "outputs": [
    {
     "data": {
      "text/plain": [
       "[('temp', 0.08625056110092849),\n",
       " ('pressure', 3.332790513426185e-05),\n",
       " ('humidity', 0.00023197823472587584),\n",
       " ('wind_speed', 9.484997077068865e-07),\n",
       " ('rain_3h', 0.0),\n",
       " ('snow_3h', 0.0),\n",
       " ('clouds_all', 1.0665623749348274e-05),\n",
       " ('avg_median_sales_price', 0.010324952967236489),\n",
       " ('age', 0.053238897658504945),\n",
       " (Row(Borough='Queens'), 0.0),\n",
       " (Row(Borough='Brooklyn'), 0.0005724219557696502),\n",
       " (Row(Borough='Manhattan'), 0.0),\n",
       " (Row(Borough='Bronx'), 0.005149948513978049),\n",
       " (Row(hour=12), 0.0008332951991044897),\n",
       " (Row(hour=22), 0.0009858514435814683),\n",
       " (Row(hour=1), 0.0),\n",
       " (Row(hour=13), 0.0),\n",
       " (Row(hour=6), 0.007744039405524708),\n",
       " (Row(hour=16), 0.0),\n",
       " (Row(hour=3), 4.0690079048011683e-07),\n",
       " (Row(hour=20), 8.437245944365151e-05),\n",
       " (Row(hour=5), 0.0),\n",
       " (Row(hour=19), 1.408884894057632e-06),\n",
       " (Row(hour=15), 1.3386132407409302e-05),\n",
       " (Row(hour=9), 8.976586399434265e-07),\n",
       " (Row(hour=17), 4.65893342605987e-05),\n",
       " (Row(hour=4), 2.7800830762326683e-05),\n",
       " (Row(hour=8), 5.780508691027128e-05),\n",
       " (Row(hour=23), 0.0),\n",
       " (Row(hour=7), 7.499673590771191e-05),\n",
       " (Row(hour=10), 2.987288217471323e-07),\n",
       " (Row(hour=21), 6.239759628248445e-06),\n",
       " (Row(hour=11), 1.0029504997282181e-05),\n",
       " (Row(hour=14), 2.9145672438636985e-05),\n",
       " (Row(hour=2), 0.0),\n",
       " (Row(hour=0), 2.932596617454449e-05),\n",
       " (Row(hour=18), 5.803304731794267e-06),\n",
       " (Row(usertype='Subscriber'), 0.16026990162940305),\n",
       " (Row(usertype='Customer'), 0.16282197583371197),\n",
       " (Row(gender=0.0), 0.0),\n",
       " (Row(gender=1.0), 0.001218517286079011),\n",
       " (Row(gender=2.0), 0.00012002036174376071),\n",
       " (Row(day='Wednesday'), 4.6141475299610194e-05),\n",
       " (Row(day='Tuesday'), 0.0),\n",
       " (Row(day='Friday'), 1.0879417909223905e-06),\n",
       " (Row(day='Thursday'), 3.709359318154312e-06),\n",
       " (Row(day='Saturday'), 2.915498882313746e-06),\n",
       " (Row(day='Monday'), 0.00028653379995211356),\n",
       " (Row(day='Sunday'), 9.564438276843017e-06),\n",
       " (Row(month='Oct'), 2.9360274701026015e-05),\n",
       " (Row(month='Sep'), 0.0),\n",
       " (Row(month='Dec'), 0.00013781952532636183),\n",
       " (Row(month='Aug'), 0.0),\n",
       " (Row(month='May'), 0.00010614331773477954),\n",
       " (Row(month='Jun'), 0.00013357878022583503),\n",
       " (Row(month='Feb'), 3.33199391460533e-05),\n",
       " (Row(month='Nov'), 6.524846155553337e-06),\n",
       " (Row(month='Mar'), 0.020911517118141033),\n",
       " (Row(month='Jan'), 0.000390867164192954),\n",
       " (Row(month='Apr'), 9.875673180062864e-06),\n",
       " (Row(month='Jul'), 3.727091255971788e-06),\n",
       " (Row(time_bin='Evening'), 0.0239884824052147),\n",
       " (Row(time_bin='Morning'), 0.011914983870129243),\n",
       " (Row(time_bin='Afternoon'), 0.002151364337140427),\n",
       " (Row(time_bin='Night'), 0.002906384081438686),\n",
       " (Row(year=2018), 0.00020993647510753047),\n",
       " (Row(year=2019), 0.038366157464408725),\n",
       " (Row(year=2020), 0.2062185837242259),\n",
       " (Row(year=2021), 0.021825820851258754),\n",
       " (Row(precip='no_precip'), 0.0006147671401082195),\n",
       " (Row(precip='precip'), 0.0),\n",
       " (Row(zipcodes='11205'), 0.0),\n",
       " (Row(zipcodes='11106'), 0.000551363535513931),\n",
       " (Row(zipcodes='11251'), 0.001270467993711265),\n",
       " (Row(zipcodes='10452'), 0.001300317545722409),\n",
       " (Row(zipcodes='11237'), 0.00754437510165862),\n",
       " (Row(zipcodes='100014'), 0.0),\n",
       " (Row(zipcodes='11109'), 0.0),\n",
       " (Row(zipcodes='11249'), 0.0),\n",
       " (Row(zipcodes='10012'), 0.0),\n",
       " (Row(zipcodes='10039'), 0.0),\n",
       " (Row(zipcodes='11238'), 0.0),\n",
       " (Row(zipcodes='11385'), 0.0010597555533707827),\n",
       " (Row(zipcodes='10010'), 0.0),\n",
       " (Row(zipcodes='10038'), 0.00011105849930028104),\n",
       " (Row(zipcodes='10009'), 0.0),\n",
       " (Row(zipcodes='10128'), 0.0),\n",
       " (Row(zipcodes='11213'), 0.0),\n",
       " (Row(zipcodes='10000'), 0.0),\n",
       " (Row(zipcodes='10457'), 0.002371075896080529),\n",
       " (Row(zipcodes='11221'), 0.002554038200821162),\n",
       " (Row(zipcodes='10011'), 0.0),\n",
       " (Row(zipcodes='11231'), 0.0),\n",
       " (Row(zipcodes='10625'), 0.0),\n",
       " (Row(zipcodes='10014'), 0.0),\n",
       " (Row(zipcodes='11216'), 0.0),\n",
       " (Row(zipcodes='100'), 0.0),\n",
       " (Row(zipcodes='10280'), 0.0),\n",
       " (Row(zipcodes='10001'), 0.0),\n",
       " (Row(zipcodes='10455'), 0.0),\n",
       " (Row(zipcodes='11102'), 0.0),\n",
       " (Row(zipcodes='10055'), 0.0),\n",
       " (Row(zipcodes='11208'), 0.0),\n",
       " (Row(zipcodes='11232'), 0.0),\n",
       " (Row(zipcodes='10460'), 0.04306370037968696),\n",
       " (Row(zipcodes='112321'), 0.0),\n",
       " (Row(zipcodes='10458'), 6.556448183430776e-05),\n",
       " (Row(zipcodes='10472'), 0.0003544972592565434),\n",
       " (Row(zipcodes='10003'), 0.0),\n",
       " (Row(zipcodes='11207'), 0.0),\n",
       " (Row(zipcodes='10129'), 0.0),\n",
       " (Row(zipcodes='10023'), 0.04329541353129019),\n",
       " (Row(zipcodes='10115'), 0.0),\n",
       " (Row(zipcodes='10451'), 0.0003381007754390839),\n",
       " (Row(zipcodes='nan'), 0.0),\n",
       " (Row(zipcodes='10040'), 0.0),\n",
       " (Row(zipcodes='11377'), 0.0),\n",
       " (Row(zipcodes='11201'), 0.0),\n",
       " (Row(zipcodes='11220'), 0.0),\n",
       " (Row(zipcodes='10022'), 0.0),\n",
       " (Row(zipcodes='11209'), 0.0),\n",
       " (Row(zipcodes='11206'), 0.0),\n",
       " (Row(zipcodes='10002'), 0.0041126475667688),\n",
       " (Row(zipcodes='11222'), 0.04101164342416147),\n",
       " (Row(zipcodes='11373'), 0.0),\n",
       " (Row(zipcodes='10065'), 0.0),\n",
       " (Row(zipcodes='10454'), 0.0),\n",
       " (Row(zipcodes='10107'), 0.0),\n",
       " (Row(zipcodes='10035'), 0.0),\n",
       " (Row(zipcodes='10456'), 0.0),\n",
       " (Row(zipcodes='100036'), 0.0),\n",
       " (Row(zipcodes='11105'), 0.0),\n",
       " (Row(zipcodes='10028'), 0.0),\n",
       " (Row(zipcodes='11415'), 0.0),\n",
       " (Row(zipcodes='10033'), 0.0),\n",
       " (Row(zipcodes='10031'), 0.0),\n",
       " (Row(zipcodes='10004'), 0.0),\n",
       " (Row(zipcodes='11217'), 0.0),\n",
       " (Row(zipcodes='10044'), 0.0),\n",
       " (Row(zipcodes='10069'), 0.0),\n",
       " (Row(zipcodes='10036'), 0.000723537912944777),\n",
       " (Row(zipcodes='10027'), 0.0),\n",
       " (Row(zipcodes='11233'), 0.0003394802337064514),\n",
       " (Row(zipcodes='10453'), 0.0),\n",
       " (Row(zipcodes='10037'), 0.0),\n",
       " (Row(zipcodes='10024'), 0.019904135500731487),\n",
       " (Row(zipcodes='10026'), 0.0008053601592823376),\n",
       " (Row(zipcodes='11211'), 0.0),\n",
       " (Row(zipcodes='10025'), 0.0),\n",
       " (Row(zipcodes='10029'), 0.0),\n",
       " (Row(zipcodes='11227'), 0.0),\n",
       " (Row(zipcodes='10007'), 0.0),\n",
       " (Row(zipcodes='11235'), 0.0),\n",
       " (Row(zipcodes='10013'), 0.0),\n",
       " (Row(zipcodes='10019'), 0.0),\n",
       " (Row(zipcodes='11225'), 0.0),\n",
       " (Row(zipcodes='10275'), 0.006827407481885056),\n",
       " (Row(zipcodes='10032'), 0.0),\n",
       " (Row(zipcodes='10111'), 0.0018500394051489042),\n",
       " (Row(zipcodes='11103'), 0.0),\n",
       " (Row(zipcodes='11101'), 0.0),\n",
       " (Row(zipcodes='10018'), 0.0),\n",
       " (Row(zipcodes='10155'), 0.0),\n",
       " (Row(zipcodes='10034'), 0.0),\n",
       " (Row(zipcodes='10005'), 0.0),\n",
       " (Row(zipcodes='10030'), 0.0),\n",
       " (Row(zipcodes='11369'), 5.873098345138857e-06),\n",
       " (Row(zipcodes='10075'), 0.0),\n",
       " (Row(zipcodes='10017'), 0.0),\n",
       " (Row(zipcodes='11370'), 0.0),\n",
       " (Row(zipcodes='10282'), 0.0),\n",
       " (Row(zipcodes='10118'), 3.516929103554437e-05),\n",
       " (Row(zipcodes='10474'), 0.0),\n",
       " (Row(zipcodes='10016'), 0.0),\n",
       " (Row(zipcodes='10045'), 0.0),\n",
       " (Row(zipcodes='10459'), 0.0),\n",
       " (Row(zipcodes='11215'), 0.0),\n",
       " (Row(zipcodes='10281'), 0.0),\n",
       " (Row(zipcodes='10021'), 0.0),\n",
       " (Row(zipcodes='10153'), 0.0)]"
      ]
     },
     "execution_count": 40,
     "metadata": {},
     "output_type": "execute_result"
    }
   ],
   "source": [
    "rfReg_list"
   ]
  },
  {
   "cell_type": "code",
   "execution_count": 49,
   "metadata": {},
   "outputs": [
    {
     "data": {
      "text/plain": [
       "[('temp', 0.051353663274186716),\n",
       " ('pressure', 0.0003840669884271461),\n",
       " ('humidity', 0.00020395571188506305),\n",
       " ('wind_speed', 5.510455562484136e-05),\n",
       " ('rain_3h', 0.0),\n",
       " ('snow_3h', 0.0),\n",
       " ('clouds_all', 0.007405543916199066),\n",
       " ('avg_median_sales_price', 0.01075237677503553),\n",
       " ('age', 0.08303696022290782),\n",
       " (Row(Borough='Queens'), 0.03271479491517374),\n",
       " (Row(Borough='Brooklyn'), 0.00724205426377252),\n",
       " (Row(Borough='Manhattan'), 0.0),\n",
       " (Row(Borough='Bronx'), 0.0010994489636055548),\n",
       " (Row(hour=12), 0.010312851169777877),\n",
       " (Row(hour=22), 0.003379740864844144),\n",
       " (Row(hour=1), 0.0025690575420281685),\n",
       " (Row(hour=13), 0.0),\n",
       " (Row(hour=6), 0.037338697426926276),\n",
       " (Row(hour=16), 0.0),\n",
       " (Row(hour=3), 1.1064504512151233e-05),\n",
       " (Row(hour=20), 0.0),\n",
       " (Row(hour=5), 0.0),\n",
       " (Row(hour=19), 0.00032316621220324874),\n",
       " (Row(hour=15), 0.003366309255817055),\n",
       " (Row(hour=9), 0.00021375294018144086),\n",
       " (Row(hour=17), 5.868757042117252e-05),\n",
       " (Row(hour=4), 0.011539479016939686),\n",
       " (Row(hour=8), 0.0003346702501251086),\n",
       " (Row(hour=23), 0.0),\n",
       " (Row(hour=7), 0.00014338283648997018),\n",
       " (Row(hour=10), 0.0),\n",
       " (Row(hour=21), 0.0),\n",
       " (Row(hour=11), 0.00012531052262043695),\n",
       " (Row(hour=14), 6.270959584999816e-06),\n",
       " (Row(hour=2), 0.0),\n",
       " (Row(hour=0), 0.00043749251952715946),\n",
       " (Row(hour=18), 0.0),\n",
       " (Row(usertype='Subscriber'), 0.04219577756304703),\n",
       " (Row(usertype='Customer'), 0.0),\n",
       " (Row(gender=0.0), 0.0),\n",
       " (Row(gender=1.0), 0.009179619215486814),\n",
       " (Row(gender=2.0), 0.011686866919108642),\n",
       " (Row(day='Wednesday'), 0.00015714762611422801),\n",
       " (Row(day='Tuesday'), 0.0),\n",
       " (Row(day='Friday'), 0.0),\n",
       " (Row(day='Thursday'), 0.0),\n",
       " (Row(day='Saturday'), 0.0),\n",
       " (Row(day='Monday'), 0.007359405657054304),\n",
       " (Row(day='Sunday'), 0.0),\n",
       " (Row(month='Oct'), 0.0054538449978183655),\n",
       " (Row(month='Sep'), 0.0),\n",
       " (Row(month='Dec'), 6.9703483383835575e-06),\n",
       " (Row(month='Aug'), 0.0),\n",
       " (Row(month='May'), 0.0),\n",
       " (Row(month='Jun'), 0.0),\n",
       " (Row(month='Feb'), 4.2832023166876436e-05),\n",
       " (Row(month='Nov'), 3.270590278456607e-05),\n",
       " (Row(month='Mar'), 0.00024375450072837415),\n",
       " (Row(month='Jan'), 0.0036960361952045216),\n",
       " (Row(month='Apr'), 0.00013871212506937235),\n",
       " (Row(month='Jul'), 6.445170334173669e-06),\n",
       " (Row(time_bin='Evening'), 0.0),\n",
       " (Row(time_bin='Morning'), 0.008052664167355558),\n",
       " (Row(time_bin='Afternoon'), 0.014811854428118332),\n",
       " (Row(time_bin='Night'), 0.07414012019817466),\n",
       " (Row(year=2018), 0.0018272440571499235),\n",
       " (Row(year=2019), 0.0008474674749422009),\n",
       " (Row(year=2020), 0.05325960513819933),\n",
       " (Row(year=2021), 0.0),\n",
       " (Row(precip='no_precip'), 0.0077879170363101225),\n",
       " (Row(precip='precip'), 0.003439786430150589),\n",
       " (Row(zipcodes='11205'), 0.0),\n",
       " (Row(zipcodes='11106'), 0.024118694552158877),\n",
       " (Row(zipcodes='11251'), 0.023814836858356045),\n",
       " (Row(zipcodes='10452'), 0.04129406051610947),\n",
       " (Row(zipcodes='11237'), 0.04335971011616523),\n",
       " (Row(zipcodes='100014'), 0.0),\n",
       " (Row(zipcodes='11109'), 0.0),\n",
       " (Row(zipcodes='11249'), 0.01098496921410214),\n",
       " (Row(zipcodes='10012'), 0.00020402085649427233),\n",
       " (Row(zipcodes='10039'), 0.0015533995786100442),\n",
       " (Row(zipcodes='11238'), 0.0),\n",
       " (Row(zipcodes='11385'), 0.0),\n",
       " (Row(zipcodes='10010'), 0.0017975102036119233),\n",
       " (Row(zipcodes='10038'), 0.0),\n",
       " (Row(zipcodes='10009'), 0.0),\n",
       " (Row(zipcodes='10128'), 0.0),\n",
       " (Row(zipcodes='11213'), 0.0041828421104565085),\n",
       " (Row(zipcodes='10000'), 0.0),\n",
       " (Row(zipcodes='10457'), 0.04249827332819082),\n",
       " (Row(zipcodes='11221'), 0.042898378393427326),\n",
       " (Row(zipcodes='10011'), 0.0),\n",
       " (Row(zipcodes='11231'), 0.0),\n",
       " (Row(zipcodes='10625'), 0.0),\n",
       " (Row(zipcodes='10014'), 0.0),\n",
       " (Row(zipcodes='11216'), 0.0),\n",
       " (Row(zipcodes='100'), 0.0003379715073968255),\n",
       " (Row(zipcodes='10280'), 0.002952955479793316),\n",
       " (Row(zipcodes='10001'), 0.0030212960414251885),\n",
       " (Row(zipcodes='10455'), 0.0),\n",
       " (Row(zipcodes='11102'), 0.013192123146111727),\n",
       " (Row(zipcodes='10055'), 0.0),\n",
       " (Row(zipcodes='11208'), 0.0),\n",
       " (Row(zipcodes='11232'), 0.0),\n",
       " (Row(zipcodes='10460'), 0.011383570016131057),\n",
       " (Row(zipcodes='112321'), 0.0),\n",
       " (Row(zipcodes='10458'), 0.0008918152267587905),\n",
       " (Row(zipcodes='10472'), 0.022810423846734425),\n",
       " (Row(zipcodes='10003'), 0.0),\n",
       " (Row(zipcodes='11207'), 0.0),\n",
       " (Row(zipcodes='10129'), 0.0),\n",
       " (Row(zipcodes='10023'), 0.013603558233322054),\n",
       " (Row(zipcodes='10115'), 0.0),\n",
       " (Row(zipcodes='10451'), 0.0009567298169756397),\n",
       " (Row(zipcodes='nan'), 0.004711103223251461),\n",
       " (Row(zipcodes='10040'), 0.0),\n",
       " (Row(zipcodes='11377'), 0.003353146701610214),\n",
       " (Row(zipcodes='11201'), 0.0),\n",
       " (Row(zipcodes='11220'), 0.0),\n",
       " (Row(zipcodes='10022'), 0.0),\n",
       " (Row(zipcodes='11209'), 0.003421941768551325),\n",
       " (Row(zipcodes='11206'), 0.01858022620508112),\n",
       " (Row(zipcodes='10002'), 0.0415110044192393),\n",
       " (Row(zipcodes='11222'), 0.01664996272373191),\n",
       " (Row(zipcodes='11373'), 0.0),\n",
       " (Row(zipcodes='10065'), 0.0),\n",
       " (Row(zipcodes='10454'), 0.0),\n",
       " (Row(zipcodes='10107'), 0.0),\n",
       " (Row(zipcodes='10035'), 0.0),\n",
       " (Row(zipcodes='10456'), 0.0),\n",
       " (Row(zipcodes='100036'), 0.0),\n",
       " (Row(zipcodes='11105'), 0.0),\n",
       " (Row(zipcodes='10028'), 0.0),\n",
       " (Row(zipcodes='11415'), 0.0),\n",
       " (Row(zipcodes='10033'), 0.006812422431407317),\n",
       " (Row(zipcodes='10031'), 0.008571241077451852),\n",
       " (Row(zipcodes='10004'), 0.025352665047992568),\n",
       " (Row(zipcodes='11217'), 0.0),\n",
       " (Row(zipcodes='10044'), 0.0),\n",
       " (Row(zipcodes='10069'), 0.0),\n",
       " (Row(zipcodes='10036'), 0.008035609027043599),\n",
       " (Row(zipcodes='10027'), 0.0),\n",
       " (Row(zipcodes='11233'), 0.0),\n",
       " (Row(zipcodes='10453'), 0.006637240177815947),\n",
       " (Row(zipcodes='10037'), 0.0),\n",
       " (Row(zipcodes='10024'), 0.0062312141162340915),\n",
       " (Row(zipcodes='10026'), 0.022750694113548343),\n",
       " (Row(zipcodes='11211'), 0.0),\n",
       " (Row(zipcodes='10025'), 0.0),\n",
       " (Row(zipcodes='10029'), 0.0),\n",
       " (Row(zipcodes='11227'), 0.0),\n",
       " (Row(zipcodes='10007'), 0.0),\n",
       " (Row(zipcodes='11235'), 0.0),\n",
       " (Row(zipcodes='10013'), 0.0),\n",
       " (Row(zipcodes='10019'), 0.0),\n",
       " (Row(zipcodes='11225'), 0.0),\n",
       " (Row(zipcodes='10275'), 0.0035506130989470626),\n",
       " (Row(zipcodes='10032'), 0.0),\n",
       " (Row(zipcodes='10111'), 0.004132586847263704),\n",
       " (Row(zipcodes='11103'), 0.0),\n",
       " (Row(zipcodes='11101'), 0.0),\n",
       " (Row(zipcodes='10018'), 0.0),\n",
       " (Row(zipcodes='10155'), 0.0050665096250256435),\n",
       " (Row(zipcodes='10034'), 0.0),\n",
       " (Row(zipcodes='10005'), 0.0),\n",
       " (Row(zipcodes='10030'), 0.0),\n",
       " (Row(zipcodes='11369'), 0.0),\n",
       " (Row(zipcodes='10075'), 0.0),\n",
       " (Row(zipcodes='10017'), 0.0),\n",
       " (Row(zipcodes='11370'), 0.0),\n",
       " (Row(zipcodes='10282'), 0.0),\n",
       " (Row(zipcodes='10118'), 0.0),\n",
       " (Row(zipcodes='10474'), 0.0),\n",
       " (Row(zipcodes='10016'), 0.0),\n",
       " (Row(zipcodes='10045'), 0.0),\n",
       " (Row(zipcodes='10459'), 0.0),\n",
       " (Row(zipcodes='11215'), 0.0),\n",
       " (Row(zipcodes='10281'), 0.0),\n",
       " (Row(zipcodes='10021'), 0.0),\n",
       " (Row(zipcodes='10153'), 0.0)]"
      ]
     },
     "execution_count": 49,
     "metadata": {},
     "output_type": "execute_result"
    }
   ],
   "source": [
    "gbtReg_list"
   ]
  },
  {
   "cell_type": "code",
   "execution_count": 50,
   "metadata": {},
   "outputs": [
    {
     "data": {
      "text/plain": [
       "[('temp', 0.0016090679138498582),\n",
       " ('pressure', -5.468527999792932e-06),\n",
       " ('humidity', -0.00011916375370350847),\n",
       " ('wind_speed', -0.004012144412906427),\n",
       " ('rain_3h', -0.0018333888685843447),\n",
       " ('snow_3h', 0.0008633072364899642),\n",
       " ('clouds_all', -0.00020495199521010027),\n",
       " ('avg_median_sales_price', -1.73588182960175e-08),\n",
       " ('age', -0.002987798577820864),\n",
       " (Row(Borough='Queens'), 0.016329943588659336),\n",
       " (Row(Borough='Brooklyn'), -0.0057519258814300155),\n",
       " (Row(Borough='Manhattan'), -0.04263517900544734),\n",
       " (Row(Borough='Bronx'), -0.13467935131147177),\n",
       " (Row(hour=12), 0.05141318370637242),\n",
       " (Row(hour=22), 0.029563863587867955),\n",
       " (Row(hour=1), 0.017466545959349784),\n",
       " (Row(hour=13), -0.003572487653340081),\n",
       " (Row(hour=6), 0.09891850958984678),\n",
       " (Row(hour=16), -0.014711249497489389),\n",
       " (Row(hour=3), -0.03833157519439554),\n",
       " (Row(hour=20), -0.030838901805836236),\n",
       " (Row(hour=5), -0.04035521763357223),\n",
       " (Row(hour=19), 0.009806715711175732),\n",
       " (Row(hour=15), -0.053786655388074436),\n",
       " (Row(hour=9), -0.03813414037927504),\n",
       " (Row(hour=17), -0.0675531362866571),\n",
       " (Row(hour=4), 0.07317538269711525),\n",
       " (Row(hour=8), -0.0614692653632962),\n",
       " (Row(hour=23), -0.015190904963494338),\n",
       " (Row(hour=7), -0.0006812072504374438),\n",
       " (Row(hour=10), -0.019743012515107235),\n",
       " (Row(hour=21), -0.03146391398062206),\n",
       " (Row(hour=11), -0.025505329580642767),\n",
       " (Row(hour=14), -0.025435439476897144),\n",
       " (Row(hour=2), -0.05642147837700818),\n",
       " (Row(hour=0), -0.007027117941094916),\n",
       " (Row(hour=18), -0.062187110377576134),\n",
       " (Row(usertype='Subscriber'), -0.07394941935969011),\n",
       " (Row(usertype='Customer'), 0.07394941935856282),\n",
       " (Row(gender=0.0), 0.0),\n",
       " (Row(gender=1.0), -0.021866385213164523),\n",
       " (Row(gender=2.0), 0.026739828343587516),\n",
       " (Row(day='Wednesday'), -0.0020579434850212116),\n",
       " (Row(day='Tuesday'), -0.006502983450902286),\n",
       " (Row(day='Friday'), -0.0034705791131679872),\n",
       " (Row(day='Thursday'), -0.010841982890435272),\n",
       " (Row(day='Saturday'), -0.012629717174636384),\n",
       " (Row(day='Monday'), 0.034578352991589616),\n",
       " (Row(day='Sunday'), -0.01052289543660826),\n",
       " (Row(month='Oct'), 0.01082114813199485),\n",
       " (Row(month='Sep'), 0.01867848956130313),\n",
       " (Row(month='Dec'), 0.007993760004111138),\n",
       " (Row(month='Aug'), 0.019787320964700227),\n",
       " (Row(month='May'), -0.010079489470468158),\n",
       " (Row(month='Jun'), 0.0014139605525162512),\n",
       " (Row(month='Feb'), 0.04913725357894754),\n",
       " (Row(month='Nov'), 0.06364822019734673),\n",
       " (Row(month='Mar'), -0.07570726331844811),\n",
       " (Row(month='Jan'), -0.05778335419124209),\n",
       " (Row(month='Apr'), 0.032626965419841635),\n",
       " (Row(month='Jul'), -0.014967196391480033),\n",
       " (Row(time_bin='Evening'), -0.11375262311975357),\n",
       " (Row(time_bin='Morning'), -0.0175267183658523),\n",
       " (Row(time_bin='Afternoon'), -0.0006561984484516427),\n",
       " (Row(time_bin='Night'), 0.02619954414256349),\n",
       " (Row(year=2018), -0.024509905378764126),\n",
       " (Row(year=2019), -0.06613248712961782),\n",
       " (Row(year=2020), 0.09262527369510122),\n",
       " (Row(year=2021), -0.059778669212933365),\n",
       " (Row(precip='no_precip'), 0.09512565442571684),\n",
       " (Row(precip='precip'), 0.01252428600109862),\n",
       " (Row(zipcodes='11205'), -0.012524286002047053),\n",
       " (Row(zipcodes='11106'), -0.11880420854392604),\n",
       " (Row(zipcodes='11251'), -0.1347191841043819),\n",
       " (Row(zipcodes='10452'), -0.15118475304002923),\n",
       " (Row(zipcodes='11237'), -0.17555838691494546),\n",
       " (Row(zipcodes='100014'), -0.028728805833380198),\n",
       " (Row(zipcodes='11109'), -0.022223849848924736),\n",
       " (Row(zipcodes='11249'), -0.10750234910546952),\n",
       " (Row(zipcodes='10012'), 0.0009380423830630256),\n",
       " (Row(zipcodes='10039'), 0.04716908537427337),\n",
       " (Row(zipcodes='11238'), -0.03209847710403315),\n",
       " (Row(zipcodes='11385'), -0.031546305197521045),\n",
       " (Row(zipcodes='10010'), -0.08013601101007883),\n",
       " (Row(zipcodes='10038'), 0.01573720923832087),\n",
       " (Row(zipcodes='10009'), -0.08114221651334787),\n",
       " (Row(zipcodes='10128'), -0.013970518991966246),\n",
       " (Row(zipcodes='11213'), -0.11419521722303802),\n",
       " (Row(zipcodes='10000'), -0.0017469481323400251),\n",
       " (Row(zipcodes='10457'), 0.20810342113928376),\n",
       " (Row(zipcodes='11221'), 0.21809941935103724),\n",
       " (Row(zipcodes='10011'), -0.047149454883182146),\n",
       " (Row(zipcodes='11231'), 0.014104483595127731),\n",
       " (Row(zipcodes='10625'), -0.01507886102593579),\n",
       " (Row(zipcodes='10014'), 0.03468401352458818),\n",
       " (Row(zipcodes='11216'), -0.011525774471887898),\n",
       " (Row(zipcodes='100'), 0.04492863556499209),\n",
       " (Row(zipcodes='10280'), 0.1031754729373291),\n",
       " (Row(zipcodes='10001'), 0.11137636284265016),\n",
       " (Row(zipcodes='10455'), 0.011394729384589842),\n",
       " (Row(zipcodes='11102'), 0.146737422563066),\n",
       " (Row(zipcodes='10055'), -0.08148641536493095),\n",
       " (Row(zipcodes='11208'), -0.01701656661463455),\n",
       " (Row(zipcodes='11232'), -0.004813652420740326),\n",
       " (Row(zipcodes='10460'), 0.3955780452608934),\n",
       " (Row(zipcodes='112321'), -0.0671300738817937),\n",
       " (Row(zipcodes='10458'), 0.04040193847904055),\n",
       " (Row(zipcodes='10472'), 0.23593837438022494),\n",
       " (Row(zipcodes='10003'), 0.037867393204456874),\n",
       " (Row(zipcodes='11207'), -0.0965689384070816),\n",
       " (Row(zipcodes='10129'), 0.07857029512784874),\n",
       " (Row(zipcodes='10023'), 0.4781202217987182),\n",
       " (Row(zipcodes='10115'), -0.035614182015001654),\n",
       " (Row(zipcodes='10451'), 0.09565309230035503),\n",
       " (Row(zipcodes='nan'), -0.157394536616106),\n",
       " (Row(zipcodes='10040'), 0.09656281866449454),\n",
       " (Row(zipcodes='11377'), 0.18139386316910314),\n",
       " (Row(zipcodes='11201'), -0.00644071276955431),\n",
       " (Row(zipcodes='11220'), -0.027600237700606187),\n",
       " (Row(zipcodes='10022'), -0.0036953555027411473),\n",
       " (Row(zipcodes='11209'), 0.19498035985619602),\n",
       " (Row(zipcodes='11206'), 0.2859227225856425),\n",
       " (Row(zipcodes='10002'), 0.3837410703833128),\n",
       " (Row(zipcodes='11222'), 0.547196499649311),\n",
       " (Row(zipcodes='11373'), 0.10602331263202486),\n",
       " (Row(zipcodes='10065'), 0.10103986866314911),\n",
       " (Row(zipcodes='10454'), -0.12440548089238422),\n",
       " (Row(zipcodes='10107'), -0.015998860068085076),\n",
       " (Row(zipcodes='10035'), 0.03372257447369893),\n",
       " (Row(zipcodes='10456'), -0.10348457703134699),\n",
       " (Row(zipcodes='100036'), -0.18186397639914303),\n",
       " (Row(zipcodes='11105'), 0.07495859004928636),\n",
       " (Row(zipcodes='10028'), 0.06807441506588768),\n",
       " (Row(zipcodes='11415'), 0.034315137013607624),\n",
       " (Row(zipcodes='10033'), 0.2895160241045722),\n",
       " (Row(zipcodes='10031'), 0.2970365041695186),\n",
       " (Row(zipcodes='10004'), 0.4954253522191986),\n",
       " (Row(zipcodes='11217'), -0.1450558402080801),\n",
       " (Row(zipcodes='10044'), 0.0703420739009602),\n",
       " (Row(zipcodes='10069'), 0.025418849029212823),\n",
       " (Row(zipcodes='10036'), 0.451335646325967),\n",
       " (Row(zipcodes='10027'), -0.0253277369744173),\n",
       " (Row(zipcodes='11233'), 0.27764610569263815),\n",
       " (Row(zipcodes='10453'), 0.434541594156367),\n",
       " (Row(zipcodes='10037'), -0.12896850592926665),\n",
       " (Row(zipcodes='10024'), 0.9640053204491733),\n",
       " (Row(zipcodes='10026'), 0.6392735916672878),\n",
       " (Row(zipcodes='11211'), 0.15655992353922676),\n",
       " (Row(zipcodes='10025'), -0.022768203226287188),\n",
       " (Row(zipcodes='10029'), 0.03872770820144896),\n",
       " (Row(zipcodes='11227'), -0.01822381602373572),\n",
       " (Row(zipcodes='10007'), -0.13141272059765313),\n",
       " (Row(zipcodes='11235'), -0.08584272686758987),\n",
       " (Row(zipcodes='10013'), -0.11169817720926982),\n",
       " (Row(zipcodes='10019'), -0.1331791759884728),\n",
       " (Row(zipcodes='11225'), 0.16744601517836935),\n",
       " (Row(zipcodes='10275'), -0.8236429664407094),\n",
       " (Row(zipcodes='10032'), -0.1075438362365323),\n",
       " (Row(zipcodes='10111'), -0.6165142098608314),\n",
       " (Row(zipcodes='11103'), 0.039340824129540285),\n",
       " (Row(zipcodes='11101'), -0.18432102894383423),\n",
       " (Row(zipcodes='10018'), -0.21259068492812655),\n",
       " (Row(zipcodes='10155'), 0.8602218237785932),\n",
       " (Row(zipcodes='10034'), 0.06045519339473407),\n",
       " (Row(zipcodes='10005'), -0.08307046646041791),\n",
       " (Row(zipcodes='10030'), 0.7047235937260518),\n",
       " (Row(zipcodes='11369'), -0.175617916029503),\n",
       " (Row(zipcodes='10075'), -0.11127463496707436),\n",
       " (Row(zipcodes='10017'), -0.15561557726431016),\n",
       " (Row(zipcodes='11370'), 0.033682338860472665),\n",
       " (Row(zipcodes='10282'), 0.4028762584798279),\n",
       " (Row(zipcodes='10118'), 0.6204512979956409),\n",
       " (Row(zipcodes='10474'), -0.2712570568860526),\n",
       " (Row(zipcodes='10016'), 0.08846054086022309),\n",
       " (Row(zipcodes='10045'), 0.22893260565917004),\n",
       " (Row(zipcodes='10459'), -0.2336196271835326),\n",
       " (Row(zipcodes='11215'), -0.29929751904492713),\n",
       " (Row(zipcodes='10281'), 1.8386288567133655),\n",
       " (Row(zipcodes='10021'), 0.0),\n",
       " (Row(zipcodes='10153'), 0.0)]"
      ]
     },
     "execution_count": 50,
     "metadata": {},
     "output_type": "execute_result"
    }
   ],
   "source": [
    "lrReg_list"
   ]
  }
 ],
 "metadata": {
  "kernelspec": {
   "display_name": "DS 5110",
   "language": "python",
   "name": "ds5110"
  },
  "language_info": {
   "codemirror_mode": {
    "name": "ipython",
    "version": 3
   },
   "file_extension": ".py",
   "mimetype": "text/x-python",
   "name": "python",
   "nbconvert_exporter": "python",
   "pygments_lexer": "ipython3",
   "version": "3.7.10"
  }
 },
 "nbformat": 4,
 "nbformat_minor": 4
}
