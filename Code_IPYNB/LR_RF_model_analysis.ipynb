{
 "cells": [
  {
   "cell_type": "markdown",
   "metadata": {},
   "source": [
    "## Model Analysis - Logistic Regression and Random Forest Neighborhood Prediction\n",
    "### University of Virginia\n",
    "### DS 5110: Big Data Systems\n",
    "### By: TeamBike"
   ]
  },
  {
   "cell_type": "code",
   "execution_count": 2,
   "metadata": {},
   "outputs": [],
   "source": [
    "from pyspark.ml import Pipeline\n",
    "from pyspark.ml.classification import GBTClassifier\n",
    "from pyspark.ml.feature import StringIndexer, VectorIndexer\n",
    "from pyspark.ml.evaluation import MulticlassClassificationEvaluator"
   ]
  },
  {
   "cell_type": "code",
   "execution_count": 3,
   "metadata": {},
   "outputs": [],
   "source": [
    "from pyspark.sql import SparkSession\n",
    "\n",
    "spark = SparkSession \\\n",
    "    .builder\\\n",
    "    .master(\"local\") \\\n",
    "    .appName(\"models\") \\\n",
    "    .config(\"spark.executor.memory\", '60g') \\\n",
    "    .config('spark.executor.cores', '10') \\\n",
    "    .config('spark.cores.max', '12') \\\n",
    "    .config(\"spark.driver.memory\",'40g') \\\n",
    "    .getOrCreate()"
   ]
  },
  {
   "cell_type": "code",
   "execution_count": 4,
   "metadata": {},
   "outputs": [],
   "source": [
    "%matplotlib inline"
   ]
  },
  {
   "cell_type": "markdown",
   "metadata": {},
   "source": [
    "### Load models produced in previous files"
   ]
  },
  {
   "cell_type": "code",
   "execution_count": 5,
   "metadata": {},
   "outputs": [],
   "source": [
    "from pyspark.ml.tuning import CrossValidatorModel\n",
    "from pyspark.ml.classification import RandomForestClassificationModel\n",
    "\n",
    "cvModel = CrossValidatorModel.load(\"lr_nbs\")\n",
    "rfModel = RandomForestClassificationModel.load(\"rf_nbs\")"
   ]
  },
  {
   "cell_type": "markdown",
   "metadata": {},
   "source": [
    "### Load data transformed in pipeline"
   ]
  },
  {
   "cell_type": "code",
   "execution_count": 6,
   "metadata": {},
   "outputs": [],
   "source": [
    "transformed = spark.read.parquet(\"pipelined_data_NBs.parquet\");"
   ]
  },
  {
   "cell_type": "code",
   "execution_count": 7,
   "metadata": {},
   "outputs": [
    {
     "name": "stdout",
     "output_type": "stream",
     "text": [
      "+--------------------+--------+-------+\n",
      "|  start_neighborhood| # Rides|% Total|\n",
      "+--------------------+--------+-------+\n",
      "|   Midtown Manhattan|15825350|  32.12|\n",
      "|  Downtown Manhattan| 9991879|  20.28|\n",
      "|Central Park East...| 8245275|  16.73|\n",
      "|          Midtown BK| 5233122|  10.62|\n",
      "|           Uptown BK| 4002562|   8.12|\n",
      "|    Uptown Manhattan| 3139583|   6.37|\n",
      "|              Queens| 1917315|   3.89|\n",
      "|         Downtown BK|  488525|   0.99|\n",
      "|               Bronx|  280608|   0.57|\n",
      "|Harlem & Wash. He...|  146790|    0.3|\n",
      "+--------------------+--------+-------+\n",
      "\n"
     ]
    }
   ],
   "source": [
    "from pyspark.sql.functions import desc\n",
    "import pyspark.sql.functions as F\n",
    "\n",
    "tot = transformed.count()\n",
    "\n",
    "transformed.groupby('start_neighborhood',).count()\\\n",
    "  .withColumnRenamed('count', '# Rides') \\\n",
    "  .withColumn('% Total', F.round((F.col('# Rides') / tot) * 100, 2) ) \\\n",
    "  .sort(desc(\"count\")).show(10)"
   ]
  },
  {
   "cell_type": "code",
   "execution_count": 8,
   "metadata": {},
   "outputs": [],
   "source": [
    "# contains stations, boroughs, and neighborhoods\n",
    "station_df = spark.read.option('header',True) \\\n",
    "     .csv('station_df2.csv')"
   ]
  },
  {
   "cell_type": "code",
   "execution_count": 8,
   "metadata": {},
   "outputs": [
    {
     "name": "stdout",
     "output_type": "stream",
     "text": [
      "+--------------------+----------+-------+\n",
      "|  start_neighborhood|# Stations|% Total|\n",
      "+--------------------+----------+-------+\n",
      "|               Bronx|       226|   14.8|\n",
      "|           Uptown BK|       183|  11.98|\n",
      "|              Queens|       179|  11.72|\n",
      "|          Midtown BK|       172|  11.26|\n",
      "|   Midtown Manhattan|       171|   11.2|\n",
      "|    Uptown Manhattan|       138|   9.04|\n",
      "|  Downtown Manhattan|       138|   9.04|\n",
      "|Central Park East...|       137|   8.97|\n",
      "|         Downtown BK|       116|    7.6|\n",
      "|Harlem & Wash. He...|        67|   4.39|\n",
      "+--------------------+----------+-------+\n",
      "\n"
     ]
    }
   ],
   "source": [
    "from pyspark.sql.functions import desc\n",
    "import pyspark.sql.functions as F\n",
    "\n",
    "tot = station_df.count() # num of stations\n",
    "\n",
    "station_df.withColumnRenamed('concat', 'start_neighborhood')\\\n",
    ".groupby('start_neighborhood').count()\\\n",
    "  .withColumnRenamed('count', '# Stations') \\\n",
    "  .withColumn('% Total', F.round((F.col('# Stations') / tot) * 100, 2) ) \\\n",
    "  .sort(desc(\"count\")).show(10)"
   ]
  },
  {
   "cell_type": "markdown",
   "metadata": {},
   "source": [
    "### Loaded predictions from prior files"
   ]
  },
  {
   "cell_type": "code",
   "execution_count": 8,
   "metadata": {},
   "outputs": [],
   "source": [
    "predictions = cvModel.transform(test_data)\n",
    "predictions_rf = rfModel.transform(test_data)"
   ]
  },
  {
   "cell_type": "markdown",
   "metadata": {},
   "source": [
    "### Set up evaluation metrics"
   ]
  },
  {
   "cell_type": "code",
   "execution_count": 11,
   "metadata": {},
   "outputs": [],
   "source": [
    "from pyspark.ml.evaluation import MulticlassClassificationEvaluator\n",
    "\n",
    "eval_acc = MulticlassClassificationEvaluator(\n",
    "    labelCol=\"n_index\", predictionCol=\"prediction\", metricName=\"accuracy\")\n",
    "\n",
    "eval_tp = MulticlassClassificationEvaluator(\n",
    "    labelCol=\"n_index\", predictionCol=\"prediction\", metricName=\"truePositiveRateByLabel\")\n",
    "\n",
    "eval_fp = MulticlassClassificationEvaluator(\n",
    "    labelCol=\"n_index\", predictionCol=\"prediction\", metricName=\"falsePositiveRateByLabel\")\n",
    "\n",
    "eval_prec = MulticlassClassificationEvaluator(\n",
    "    labelCol=\"n_index\", predictionCol=\"prediction\", metricName=\"precisionByLabel\")\n",
    "\n",
    "eval_rec = MulticlassClassificationEvaluator(\n",
    "    labelCol=\"n_index\", predictionCol=\"prediction\", metricName=\"recallByLabel\")\n",
    "\n",
    "#accuracy = evaluator.evaluate(predictions)\n",
    "#print(\"Test Error = %g\" % (1.0 - accuracy))"
   ]
  },
  {
   "cell_type": "code",
   "execution_count": 12,
   "metadata": {},
   "outputs": [],
   "source": [
    "#print('true pos = %g' % eval_tp.evaluate(predictions_rf))"
   ]
  },
  {
   "cell_type": "markdown",
   "metadata": {},
   "source": [
    "### Run model analyses for both models (RF and Log. Reg.)"
   ]
  },
  {
   "cell_type": "code",
   "execution_count": 13,
   "metadata": {},
   "outputs": [
    {
     "name": "stdout",
     "output_type": "stream",
     "text": [
      "Accurary = 0.632146\n"
     ]
    }
   ],
   "source": [
    "print(\"Accurary = %g\" % (eval_acc.evaluate(predictions_rf)))"
   ]
  },
  {
   "cell_type": "code",
   "execution_count": 14,
   "metadata": {},
   "outputs": [
    {
     "name": "stdout",
     "output_type": "stream",
     "text": [
      "Accurary = 0.629113\n"
     ]
    }
   ],
   "source": [
    "print(\"Accurary = %g\" % (eval_acc.evaluate(predictions)))"
   ]
  },
  {
   "cell_type": "code",
   "execution_count": 15,
   "metadata": {},
   "outputs": [],
   "source": [
    "#print(\"Test Error = %g\" % (1.0 - eval_acc.evaluate(predictions)))\n",
    "#print('true pos = %g' % eval_tp.evaluate(predictions))"
   ]
  },
  {
   "cell_type": "code",
   "execution_count": 16,
   "metadata": {},
   "outputs": [],
   "source": [
    "#eval_tp.evaluate(predictions)"
   ]
  },
  {
   "cell_type": "code",
   "execution_count": 17,
   "metadata": {},
   "outputs": [],
   "source": [
    "#print('false pos = %g' % eval_fp.evaluate(predictions))"
   ]
  },
  {
   "cell_type": "code",
   "execution_count": 18,
   "metadata": {},
   "outputs": [],
   "source": [
    "#eval_prec.evaluate(predictions)"
   ]
  },
  {
   "cell_type": "code",
   "execution_count": 19,
   "metadata": {},
   "outputs": [],
   "source": [
    "bm = cvModel.bestModel"
   ]
  },
  {
   "cell_type": "code",
   "execution_count": 20,
   "metadata": {},
   "outputs": [],
   "source": [
    "importances = rfModel.featureImportances\n",
    "x_values = list(range(len(importances)))"
   ]
  },
  {
   "cell_type": "code",
   "execution_count": 21,
   "metadata": {},
   "outputs": [],
   "source": [
    "#x_values"
   ]
  },
  {
   "cell_type": "markdown",
   "metadata": {},
   "source": [
    "### Function pulls feature names. Source: https://www.timlrx.com/blog/feature-selection-using-feature-importance-score-creating-a-pyspark-estimator"
   ]
  },
  {
   "cell_type": "markdown",
   "metadata": {},
   "source": [
    "#### Show important features for RF model"
   ]
  },
  {
   "cell_type": "code",
   "execution_count": 22,
   "metadata": {},
   "outputs": [],
   "source": [
    "import pandas as pd\n",
    "def ExtractFeatureImp(featureImp, dataset, featuresCol):\n",
    "    list_extract = []\n",
    "    for i in dataset.schema[featuresCol].metadata[\"ml_attr\"][\"attrs\"]:\n",
    "        list_extract = list_extract + dataset.schema[featuresCol].metadata[\"ml_attr\"][\"attrs\"][i]\n",
    "    varlist = pd.DataFrame(list_extract)\n",
    "    varlist['score'] = varlist['idx'].apply(lambda x: featureImp[x])\n",
    "    return(varlist.sort_values('score', ascending = False))"
   ]
  },
  {
   "cell_type": "code",
   "execution_count": 23,
   "metadata": {},
   "outputs": [],
   "source": [
    "feat_imp = ExtractFeatureImp(importances, transformed, \"features\").head(15)"
   ]
  },
  {
   "cell_type": "code",
   "execution_count": 24,
   "metadata": {},
   "outputs": [],
   "source": [
    "#feat_imp"
   ]
  },
  {
   "cell_type": "code",
   "execution_count": 25,
   "metadata": {},
   "outputs": [],
   "source": [
    "feat_imp['name'] = feat_imp['name'].str.split('encoded_').apply(lambda x: x[1])"
   ]
  },
  {
   "cell_type": "code",
   "execution_count": 26,
   "metadata": {},
   "outputs": [
    {
     "data": {
      "image/png": "[encoded data removed]",
      "text/plain": [
       "<Figure size 1080x720 with 1 Axes>"
      ]
     },
     "metadata": {
      "needs_background": "light"
     },
     "output_type": "display_data"
    }
   ],
   "source": [
    "import matplotlib.pyplot as plt\n",
    "plt.rcParams.update({'font.size': 20})\n",
    "\n",
    "#plot of Feature Importance - need to work on graph look\n",
    "plt.rcParams[\"figure.figsize\"] = (15, 10)\n",
    "plt.bar(feat_imp['name'], feat_imp['score'], orientation = 'vertical')\n",
    "#plt.xticks(x_values, num_feat[1:], rotation=40)\n",
    "plt.ylabel('Importance')\n",
    "plt.xlabel('Feature')\n",
    "plt.title('Feature Importance - Top 15')\n",
    "plt.xticks(rotation= 90)\n",
    "plt.show()"
   ]
  },
  {
   "cell_type": "code",
   "execution_count": 10,
   "metadata": {},
   "outputs": [
    {
     "name": "stdout",
     "output_type": "stream",
     "text": [
      "+--------------------+--------------------+--------+-------+\n",
      "|  start_neighborhood|    end_neighborhood| # Rides|% Total|\n",
      "+--------------------+--------------------+--------+-------+\n",
      "|   Midtown Manhattan|   Midtown Manhattan|10154874|  20.61|\n",
      "|  Downtown Manhattan|  Downtown Manhattan| 5763571|   11.7|\n",
      "|Central Park East...|Central Park East...| 4880562|   9.91|\n",
      "|          Midtown BK|          Midtown BK| 3825678|   7.76|\n",
      "|  Downtown Manhattan|   Midtown Manhattan| 3040322|   6.17|\n",
      "|   Midtown Manhattan|  Downtown Manhattan| 3014183|   6.12|\n",
      "|           Uptown BK|           Uptown BK| 2735445|   5.55|\n",
      "|   Midtown Manhattan|Central Park East...| 2108910|   4.28|\n",
      "|    Uptown Manhattan|    Uptown Manhattan| 1962820|   3.98|\n",
      "|Central Park East...|   Midtown Manhattan| 1962534|   3.98|\n",
      "+--------------------+--------------------+--------+-------+\n",
      "only showing top 10 rows\n",
      "\n"
     ]
    }
   ],
   "source": [
    "from pyspark.sql.functions import desc\n",
    "import pyspark.sql.functions as F\n",
    "\n",
    "tot = transformed.count()\n",
    "\n",
    "transformed.groupby('start_neighborhood', 'end_neighborhood').count()\\\n",
    "  .withColumnRenamed('count', '# Rides') \\\n",
    "  .withColumn('% Total', F.round((F.col('# Rides') / tot) * 100, 2) ) \\\n",
    "  .sort(desc(\"count\")).show(10)"
   ]
  },
  {
   "cell_type": "code",
   "execution_count": 28,
   "metadata": {},
   "outputs": [
    {
     "data": {
      "text/plain": [
       "['start_neighborhood',\n",
       " 'end_neighborhood',\n",
       " 'day',\n",
       " 'time_bin',\n",
       " 'peak_commute',\n",
       " 'month',\n",
       " 'hour',\n",
       " 'day_indexed',\n",
       " 'time_bin_indexed',\n",
       " 'peak_commute_indexed',\n",
       " 'month_indexed',\n",
       " 'start_neighborhood_indexed',\n",
       " 'n_index',\n",
       " 'day_indexed_encoded',\n",
       " 'time_bin_indexed_encoded',\n",
       " 'peak_commute_indexed_encoded',\n",
       " 'month_indexed_encoded',\n",
       " 'start_neighborhood_indexed_encoded',\n",
       " 'label',\n",
       " 'features',\n",
       " 'rawPrediction',\n",
       " 'probability',\n",
       " 'prediction']"
      ]
     },
     "execution_count": 28,
     "metadata": {},
     "output_type": "execute_result"
    }
   ],
   "source": [
    "predictions.columns"
   ]
  },
  {
   "cell_type": "code",
   "execution_count": 12,
   "metadata": {},
   "outputs": [],
   "source": [
    "from pyspark.sql.functions import desc\n",
    "\n",
    "tot = transformed.count()\n",
    "\n",
    "start_end_actual = transformed.groupby('start_neighborhood', 'end_neighborhood').count()\\\n",
    "  .withColumn('% Tot Act', F.round((F.col('count') / tot) * 100, 2) ) #\\\n",
    "  #.sort(desc(\"count\"))#.show(100)"
   ]
  },
  {
   "cell_type": "markdown",
   "metadata": {},
   "source": [
    "### Prediction analysis on test data"
   ]
  },
  {
   "cell_type": "markdown",
   "metadata": {},
   "source": [
    "#### Logistic Regression"
   ]
  },
  {
   "cell_type": "code",
   "execution_count": 13,
   "metadata": {},
   "outputs": [
    {
     "name": "stdout",
     "output_type": "stream",
     "text": [
      "+--------------------+--------------------+-------+---------+\n",
      "|  start_neighborhood|    end_neighborhood|% Total|% Tot Act|\n",
      "+--------------------+--------------------+-------+---------+\n",
      "|   Midtown Manhattan|   Midtown Manhattan|  20.61|    20.61|\n",
      "|  Downtown Manhattan|  Downtown Manhattan|   11.7|     11.7|\n",
      "|Central Park East...|Central Park East...|    9.9|     9.91|\n",
      "|          Midtown BK|          Midtown BK|   7.76|     7.76|\n",
      "|           Uptown BK|           Uptown BK|   5.54|     5.55|\n",
      "|    Uptown Manhattan|    Uptown Manhattan|   3.99|     3.98|\n",
      "|              Queens|              Queens|   2.86|     2.86|\n",
      "|         Downtown BK|          Midtown BK|   0.53|     0.53|\n",
      "|              Queens|   Midtown Manhattan|    0.0|     0.12|\n",
      "|Harlem & Wash. He...|   Midtown Manhattan|   0.01|     0.01|\n",
      "|               Bronx|   Midtown Manhattan|   0.01|     0.01|\n",
      "+--------------------+--------------------+-------+---------+\n",
      "\n"
     ]
    }
   ],
   "source": [
    "tot = predictions.count()\n",
    "\n",
    "predictions.where(predictions.n_index==predictions.prediction).groupby('start_neighborhood', 'end_neighborhood', 'n_index', 'prediction').count()\\\n",
    "  .withColumnRenamed('count', '# Rides') \\\n",
    "  .withColumn('% Total', F.round((F.col('# Rides') / tot) * 100, 2) ) \\\n",
    "  .join(start_end_actual, on = ['start_neighborhood', 'end_neighborhood'], how = 'left')\\\n",
    "  .withColumnRenamed('count', '# Rides Act').sort(desc(\"count\"))\\\n",
    "  .drop('n_index', 'prediction', '# Rides', '# Rides Act').show(20)"
   ]
  },
  {
   "cell_type": "markdown",
   "metadata": {},
   "source": [
    "#### Random Forest"
   ]
  },
  {
   "cell_type": "code",
   "execution_count": 14,
   "metadata": {},
   "outputs": [
    {
     "name": "stdout",
     "output_type": "stream",
     "text": [
      "+--------------------+--------------------+-------+---------+\n",
      "|  start_neighborhood|    end_neighborhood|% Total|% Tot Act|\n",
      "+--------------------+--------------------+-------+---------+\n",
      "|   Midtown Manhattan|   Midtown Manhattan|  20.61|    20.61|\n",
      "|  Downtown Manhattan|  Downtown Manhattan|   11.7|     11.7|\n",
      "|Central Park East...|Central Park East...|    9.9|     9.91|\n",
      "|          Midtown BK|          Midtown BK|   7.76|     7.76|\n",
      "|           Uptown BK|           Uptown BK|   5.54|     5.55|\n",
      "|    Uptown Manhattan|    Uptown Manhattan|   3.99|     3.98|\n",
      "|              Queens|              Queens|   2.86|     2.86|\n",
      "|         Downtown BK|          Midtown BK|   0.53|     0.53|\n",
      "|               Bronx|               Bronx|   0.29|     0.43|\n",
      "|Harlem & Wash. He...|    Uptown Manhattan|   0.02|      0.1|\n",
      "|Harlem & Wash. He...|Central Park East...|    0.0|     0.04|\n",
      "|Harlem & Wash. He...|   Midtown Manhattan|   0.01|     0.01|\n",
      "|               Bronx|   Midtown Manhattan|    0.0|     0.01|\n",
      "+--------------------+--------------------+-------+---------+\n",
      "\n"
     ]
    }
   ],
   "source": [
    "tot = predictions_rf.count()\n",
    "\n",
    "predictions_rf.where(predictions_rf.n_index==predictions_rf.prediction).groupby('start_neighborhood', 'end_neighborhood', 'n_index', 'prediction').count()\\\n",
    "  .withColumnRenamed('count', '# Rides') \\\n",
    "  .withColumn('% Total', F.round((F.col('# Rides') / tot) * 100, 2) ) \\\n",
    "  .join(start_end_actual, on = ['start_neighborhood', 'end_neighborhood'], how = 'left')\\\n",
    "  .withColumnRenamed('count', '# Rides Act').sort(desc(\"count\"))\\\n",
    "  .drop('n_index', 'prediction', '# Rides', '# Rides Act').show(20)"
   ]
  },
  {
   "cell_type": "markdown",
   "metadata": {},
   "source": [
    "#### Logistic Regression"
   ]
  },
  {
   "cell_type": "code",
   "execution_count": 15,
   "metadata": {},
   "outputs": [
    {
     "name": "stdout",
     "output_type": "stream",
     "text": [
      "+--------------------+--------------------+-------+---------+\n",
      "|  start_neighborhood|    end_neighborhood|% Total|% Tot Act|\n",
      "+--------------------+--------------------+-------+---------+\n",
      "|  Downtown Manhattan|   Midtown Manhattan|   6.17|     6.17|\n",
      "|   Midtown Manhattan|  Downtown Manhattan|   6.13|     6.12|\n",
      "|   Midtown Manhattan|Central Park East...|   4.27|     4.28|\n",
      "|Central Park East...|   Midtown Manhattan|   3.99|     3.98|\n",
      "|              Queens|              Queens|    0.0|     2.86|\n",
      "|    Uptown Manhattan|Central Park East...|   1.73|     1.73|\n",
      "|Central Park East...|    Uptown Manhattan|   1.71|     1.71|\n",
      "|           Uptown BK|          Midtown BK|   1.12|     1.12|\n",
      "|          Midtown BK|           Uptown BK|   1.03|     1.03|\n",
      "|  Downtown Manhattan|          Midtown BK|   0.87|     0.87|\n",
      "|          Midtown BK|  Downtown Manhattan|   0.77|     0.77|\n",
      "|  Downtown Manhattan|Central Park East...|   0.75|     0.75|\n",
      "|Central Park East...|  Downtown Manhattan|   0.73|     0.74|\n",
      "|          Midtown BK|         Downtown BK|   0.68|     0.68|\n",
      "|  Downtown Manhattan|           Uptown BK|   0.64|     0.64|\n",
      "|           Uptown BK|  Downtown Manhattan|   0.59|     0.59|\n",
      "|              Queens|           Uptown BK|    0.0|     0.52|\n",
      "|              Queens|           Uptown BK|   0.52|     0.52|\n",
      "|           Uptown BK|              Queens|   0.46|     0.46|\n",
      "|               Bronx|               Bronx|   0.43|     0.43|\n",
      "+--------------------+--------------------+-------+---------+\n",
      "only showing top 20 rows\n",
      "\n"
     ]
    }
   ],
   "source": [
    "tot = predictions.count()\n",
    "\n",
    "predictions.where(predictions.n_index!=predictions.prediction).groupby('start_neighborhood', 'end_neighborhood', 'n_index', 'prediction').count()\\\n",
    "  .withColumnRenamed('count', '# Rides') \\\n",
    "  .withColumn('% Total', F.round((F.col('# Rides') / tot) * 100, 2) ) \\\n",
    "  .join(start_end_actual, on = ['start_neighborhood', 'end_neighborhood'], how = 'left')\\\n",
    "  .withColumnRenamed('count', '# Rides Act').sort(desc(\"count\"))\\\n",
    "  .drop('n_index', 'prediction', '# Rides', '# Rides Act').show(20)"
   ]
  },
  {
   "cell_type": "markdown",
   "metadata": {},
   "source": [
    "#### Random Forest"
   ]
  },
  {
   "cell_type": "code",
   "execution_count": 16,
   "metadata": {},
   "outputs": [
    {
     "name": "stdout",
     "output_type": "stream",
     "text": [
      "+--------------------+--------------------+-------+---------+\n",
      "|  start_neighborhood|    end_neighborhood|% Total|% Tot Act|\n",
      "+--------------------+--------------------+-------+---------+\n",
      "|  Downtown Manhattan|   Midtown Manhattan|   6.17|     6.17|\n",
      "|   Midtown Manhattan|  Downtown Manhattan|   6.13|     6.12|\n",
      "|   Midtown Manhattan|Central Park East...|   4.27|     4.28|\n",
      "|Central Park East...|   Midtown Manhattan|   3.99|     3.98|\n",
      "|    Uptown Manhattan|Central Park East...|   1.73|     1.73|\n",
      "|Central Park East...|    Uptown Manhattan|   1.71|     1.71|\n",
      "|           Uptown BK|          Midtown BK|   1.12|     1.12|\n",
      "|          Midtown BK|           Uptown BK|   1.03|     1.03|\n",
      "|  Downtown Manhattan|          Midtown BK|   0.87|     0.87|\n",
      "|          Midtown BK|  Downtown Manhattan|   0.77|     0.77|\n",
      "|  Downtown Manhattan|Central Park East...|   0.75|     0.75|\n",
      "|Central Park East...|  Downtown Manhattan|   0.73|     0.74|\n",
      "|          Midtown BK|         Downtown BK|   0.68|     0.68|\n",
      "|  Downtown Manhattan|           Uptown BK|   0.64|     0.64|\n",
      "|           Uptown BK|  Downtown Manhattan|   0.59|     0.59|\n",
      "|              Queens|           Uptown BK|   0.52|     0.52|\n",
      "|           Uptown BK|              Queens|   0.46|     0.46|\n",
      "|               Bronx|               Bronx|   0.14|     0.43|\n",
      "|   Midtown Manhattan|    Uptown Manhattan|   0.38|     0.38|\n",
      "|    Uptown Manhattan|   Midtown Manhattan|   0.37|     0.37|\n",
      "+--------------------+--------------------+-------+---------+\n",
      "only showing top 20 rows\n",
      "\n"
     ]
    }
   ],
   "source": [
    "import pyspark.sql.functions as F\n",
    "\n",
    "tot = predictions_rf.count()\n",
    "\n",
    "predictions_rf.where(predictions_rf.n_index!=predictions_rf.prediction).groupby('start_neighborhood', 'end_neighborhood', 'n_index', 'prediction').count()\\\n",
    "  .withColumnRenamed('count', '# Rides') \\\n",
    "  .withColumn('% Total', F.round((F.col('# Rides') / tot) * 100, 2) ) \\\n",
    "  .join(start_end_actual, on = ['start_neighborhood', 'end_neighborhood'], how = 'left')\\\n",
    "  .withColumnRenamed('count', '# Rides Act').sort(desc(\"count\"))\\\n",
    "  .drop('n_index', 'prediction', '# Rides', '# Rides Act').show(20)"
   ]
  },
  {
   "cell_type": "code",
   "execution_count": 17,
   "metadata": {},
   "outputs": [],
   "source": [
    "import pyspark.sql.functions as F\n",
    "from pyspark.ml.feature import VectorAssembler\n",
    "from pyspark.ml.classification import DecisionTreeClassifier\n",
    "from pyspark.mllib.evaluation import MulticlassMetrics\n",
    "from pyspark.sql.types import FloatType\n",
    "\n",
    "#important: need to cast to float type, and order by prediction, else it won't work\n",
    "preds_and_labels = predictions_rf.select(['prediction','n_index']).withColumn('label', F.col('n_index').cast(FloatType())).orderBy('prediction')\n",
    "\n",
    "#select only prediction and label columns\n",
    "preds_and_labels = preds_and_labels.select(['prediction','label'])\n",
    "\n",
    "metrics = MulticlassMetrics(preds_and_labels.rdd.map(tuple))\n",
    "\n",
    "#metrics.precision()\n"
   ]
  },
  {
   "cell_type": "code",
   "execution_count": 18,
   "metadata": {},
   "outputs": [
    {
     "name": "stdout",
     "output_type": "stream",
     "text": [
      "+------------------+----------------+------+---------+------------+-----+----+-----------+----------------+--------------------+-------------+--------------------------+-------+-------------------+------------------------+----------------------------+---------------------+----------------------------------+-------------+--------------------+--------------------+--------------------+----------+\n",
      "|start_neighborhood|end_neighborhood|   day| time_bin|peak_commute|month|hour|day_indexed|time_bin_indexed|peak_commute_indexed|month_indexed|start_neighborhood_indexed|n_index|day_indexed_encoded|time_bin_indexed_encoded|peak_commute_indexed_encoded|month_indexed_encoded|start_neighborhood_indexed_encoded|        label|            features|       rawPrediction|         probability|prediction|\n",
      "+------------------+----------------+------+---------+------------+-----+----+-----------+----------------+--------------------+-------------+--------------------------+-------+-------------------+------------------------+----------------------------+---------------------+----------------------------------+-------------+--------------------+--------------------+--------------------+----------+\n",
      "|             Bronx|           Bronx|Friday|Afternoon|    non_peak|    1|  12|        2.0|             0.0|                 0.0|          9.0|                       8.0|    8.0|      (7,[2],[1.0])|           (4,[0],[1.0])|               (2,[0],[1.0])|       (12,[9],[1.0])|                    (10,[8],[1.0])|(9,[8],[1.0])|(35,[2,7,11,22,33...|[1.25930015769085...|[0.22973117437453...|       0.0|\n",
      "|             Bronx|           Bronx|Friday|Afternoon|    non_peak|    1|  12|        2.0|             0.0|                 0.0|          9.0|                       8.0|    8.0|      (7,[2],[1.0])|           (4,[0],[1.0])|               (2,[0],[1.0])|       (12,[9],[1.0])|                    (10,[8],[1.0])|(9,[8],[1.0])|(35,[2,7,11,22,33...|[1.25930015769085...|[0.22973117437453...|       0.0|\n",
      "+------------------+----------------+------+---------+------------+-----+----+-----------+----------------+--------------------+-------------+--------------------------+-------+-------------------+------------------------+----------------------------+---------------------+----------------------------------+-------------+--------------------+--------------------+--------------------+----------+\n",
      "only showing top 2 rows\n",
      "\n"
     ]
    }
   ],
   "source": [
    "predictions.show(2)"
   ]
  },
  {
   "cell_type": "code",
   "execution_count": 19,
   "metadata": {},
   "outputs": [
    {
     "name": "stdout",
     "output_type": "stream",
     "text": [
      "DenseMatrix([[3.048257e+06, 9.120190e+05, 5.897390e+05, 4.420200e+04,\n",
      "              4.319300e+04, 5.490100e+04, 1.729100e+04, 0.000000e+00,\n",
      "              5.580000e+02, 0.000000e+00],\n",
      "             [9.061030e+05, 1.730010e+06, 1.084600e+05, 1.235570e+05,\n",
      "              8.724900e+04, 1.155300e+04, 5.428000e+03, 0.000000e+00,\n",
      "              1.560000e+02, 0.000000e+00],\n",
      "             [6.376680e+05, 1.103680e+05, 1.464282e+06, 7.146000e+03,\n",
      "              9.955000e+03, 2.564270e+05, 3.821900e+04, 0.000000e+00,\n",
      "              1.866000e+03, 0.000000e+00],\n",
      "             [4.479300e+04, 1.285420e+05, 6.867000e+03, 1.225355e+06,\n",
      "              1.653190e+05, 6.910000e+02, 8.938000e+03, 0.000000e+00,\n",
      "              2.900000e+01, 0.000000e+00],\n",
      "             [4.225300e+04, 9.470600e+04, 9.582000e+03, 1.558180e+05,\n",
      "              8.196850e+05, 8.640000e+02, 7.664500e+04, 0.000000e+00,\n",
      "              3.900000e+01, 0.000000e+00],\n",
      "             [7.268400e+04, 1.008600e+04, 2.534320e+05, 6.600000e+02,\n",
      "              9.110000e+02, 5.916430e+05, 4.075000e+03, 0.000000e+00,\n",
      "              8.855000e+03, 0.000000e+00],\n",
      "             [1.758400e+04, 5.596000e+03, 3.548800e+04, 7.038000e+03,\n",
      "              6.846000e+04, 4.230000e+03, 4.233790e+05, 0.000000e+00,\n",
      "              5.010000e+02, 0.000000e+00],\n",
      "             [2.581000e+03, 6.318000e+03, 4.590000e+02, 1.520860e+05,\n",
      "              5.614000e+03, 5.600000e+01, 3.830000e+02, 0.000000e+00,\n",
      "              3.000000e+00, 0.000000e+00],\n",
      "             [2.390000e+04, 1.980000e+02, 3.014000e+03, 3.000000e+01,\n",
      "              4.900000e+01, 1.343500e+04, 6.840000e+02, 0.000000e+00,\n",
      "              4.262400e+04, 0.000000e+00],\n",
      "             [1.811600e+04, 3.360000e+02, 3.269000e+03, 2.800000e+01,\n",
      "              4.200000e+01, 1.517100e+04, 4.800000e+01, 0.000000e+00,\n",
      "              1.554000e+03, 0.000000e+00]])\n"
     ]
    }
   ],
   "source": [
    "print(metrics.confusionMatrix())#.toArray())"
   ]
  },
  {
   "cell_type": "markdown",
   "metadata": {},
   "source": [
    "### Confusion Matrix provides little utility here with so many classes"
   ]
  },
  {
   "cell_type": "code",
   "execution_count": 20,
   "metadata": {},
   "outputs": [
    {
     "data": {
      "text/plain": [
       "0.6332147125254391"
      ]
     },
     "execution_count": 20,
     "metadata": {},
     "output_type": "execute_result"
    }
   ],
   "source": [
    "metrics.precision(0)"
   ]
  },
  {
   "cell_type": "code",
   "execution_count": 21,
   "metadata": {},
   "outputs": [],
   "source": [
    "#labels = predictions.select('n_index', 'end_neighborhood', 'start_neighborhood_indexed', 'start_neighborhood').distinct().rdd.collect()\n",
    "labels = predictions.select('n_index', 'end_neighborhood').distinct().rdd.collect()"
   ]
  },
  {
   "cell_type": "markdown",
   "metadata": {},
   "source": [
    "### Show precision for each end neighborhood for random forest"
   ]
  },
  {
   "cell_type": "code",
   "execution_count": 22,
   "metadata": {},
   "outputs": [
    {
     "name": "stdout",
     "output_type": "stream",
     "text": [
      "Label Precisions by Ending Neighborhood\n",
      "Bronx prec: 0.7586366467918484\n",
      "Harlem & Wash. Heights prec: 0.0\n",
      "Downtown Manhattan prec: 0.5770202512925345\n",
      "Central Park East/West prec: 0.5917266361485045\n",
      "Downtown BK prec: 0.0\n",
      "Midtown Manhattan prec: 0.6332147125254391\n",
      "Queens prec: 0.7361960736580362\n",
      "Uptown BK prec: 0.6827994205636593\n",
      "Midtown BK prec: 0.714109632150683\n",
      "Uptown Manhattan prec: 0.6234574080767484\n"
     ]
    }
   ],
   "source": [
    "print('Label Precisions by Ending Neighborhood')\n",
    "for l in labels:\n",
    "    print(l[1], 'prec:', metrics.precision(l[0]))"
   ]
  },
  {
   "cell_type": "markdown",
   "metadata": {},
   "source": [
    "### Show true-positive rate for each end neighborhood for random forest"
   ]
  },
  {
   "cell_type": "code",
   "execution_count": 23,
   "metadata": {},
   "outputs": [
    {
     "name": "stdout",
     "output_type": "stream",
     "text": [
      "Label True Pos by Ending Neighborhood\n",
      "NB = Bronx 0.5078275788119236\n",
      "NB = Harlem & Wash. Heights 0.0\n",
      "NB = Downtown Manhattan 0.5820019135304907\n",
      "NB = Central Park East/West 0.5796999205441479\n",
      "NB = Downtown BK 0.0\n",
      "NB = Midtown Manhattan 0.6471663382984867\n",
      "NB = Queens 0.7529736286094374\n",
      "NB = Uptown BK 0.6833031564065115\n",
      "NB = Midtown BK 0.7752791145271155\n",
      "NB = Uptown Manhattan 0.6278405171773425\n"
     ]
    }
   ],
   "source": [
    "print('Label True Pos by Ending Neighborhood')\n",
    "for l in labels:\n",
    "    print('NB =', l[1], metrics.truePositiveRate(l[0]))"
   ]
  },
  {
   "cell_type": "markdown",
   "metadata": {},
   "source": [
    "### Show false-positive rate for each end neighborhood for random forest"
   ]
  },
  {
   "cell_type": "code",
   "execution_count": 24,
   "metadata": {},
   "outputs": [
    {
     "name": "stdout",
     "output_type": "stream",
     "text": [
      "Label False Pos by Ending Neighborhood\n",
      "NB = Bronx 0.0009225534696303303\n",
      "NB = Harlem & Wash. Heights 0.0\n",
      "NB = Downtown Manhattan 0.10737333857033164\n",
      "NB = Central Park East/West 0.08242434665299114\n",
      "NB = Downtown BK 0.0\n",
      "NB = Midtown Manhattan 0.17528523478106695\n",
      "NB = Queens 0.010668038714648687\n",
      "NB = Uptown BK 0.0280328842652635\n",
      "NB = Midtown BK 0.03715608007653517\n",
      "NB = Uptown Manhattan 0.02581661868966615\n"
     ]
    }
   ],
   "source": [
    "print('Label False Pos by Ending Neighborhood')\n",
    "for l in labels:\n",
    "    print('NB =', l[1], metrics.falsePositiveRate(l[0]))"
   ]
  },
  {
   "cell_type": "code",
   "execution_count": null,
   "metadata": {},
   "outputs": [],
   "source": []
  }
 ],
 "metadata": {
  "kernelspec": {
   "display_name": "DS 5110",
   "language": "python",
   "name": "ds5110"
  },
  "language_info": {
   "codemirror_mode": {
    "name": "ipython",
    "version": 3
   },
   "file_extension": ".py",
   "mimetype": "text/x-python",
   "name": "python",
   "nbconvert_exporter": "python",
   "pygments_lexer": "ipython3",
   "version": "3.7.10"
  }
 },
 "nbformat": 4,
 "nbformat_minor": 4
}
