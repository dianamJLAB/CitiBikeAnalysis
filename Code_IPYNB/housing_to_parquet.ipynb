{
 "cells": [
  {
   "cell_type": "code",
   "execution_count": 1,
   "metadata": {},
   "outputs": [],
   "source": [
    "# load modules\n",
    "from pyspark.sql import SparkSession\n",
    "import pandas as pd\n",
    "from functools import reduce  \n",
    "from pyspark.sql import DataFrame\n",
    "\n",
    "\n",
    "import os"
   ]
  },
  {
   "cell_type": "code",
   "execution_count": 2,
   "metadata": {},
   "outputs": [],
   "source": [
    "# param init\n",
    "spark = SparkSession \\\n",
    "    .builder \\\n",
    "    .master(\"local[*]\") \\\n",
    "    .appName(\"DS5110FinalProjectLoadData\") \\\n",
    "    .config(\"spark.executor.memory\", '20g') \\\n",
    "    .config('spark.executor.cores', '7') \\\n",
    "    .config('spark.executor.instances', '14') \\\n",
    "    .getOrCreate()"
   ]
  },
  {
   "cell_type": "code",
   "execution_count": 3,
   "metadata": {},
   "outputs": [],
   "source": [
    "#List of csv's (not counting index files cause their schema's differ)\n",
    "houseList = ['daysOnMarket_All.csv', 'discountShare_All.csv', 'medianAskingPrice_All.csv', 'medianAskingRent_All.csv', 'medianSalesPrice_All.csv', 'priceCutShare_All.csv', 'recordedSalesVolume_All.csv', 'rentalInventory_All.csv', 'saleListRatio_All.csv', 'totalInventory_All.csv']"
   ]
  },
  {
   "cell_type": "code",
   "execution_count": 24,
   "metadata": {},
   "outputs": [],
   "source": [
    "#Set schema\n",
    "'''\n",
    "from pyspark.sql.types import *\n",
    "schema = StructType([\n",
    "    StructField(\"areaName\", StringType(), False), \n",
    "    StructField(\"Borough\", StringType(), False), \n",
    "    StructField(\"areaType\", StringType(), False), \n",
    "    StructField(\"2010-01\", FloatType(), False),\n",
    "    StructField(\"2010-02\", FloatType(), False),\n",
    "    StructField(\"2010-03\", FloatType(), False),\n",
    "    StructField(\"2010-04\", FloatType(), False),\n",
    "    StructField(\"2010-05\", FloatType(), False),\n",
    "    StructField(\"2010-06\", FloatType(), False),\n",
    "    StructField(\"2010-07\", FloatType(), False),\n",
    "    StructField(\"2010-08\", FloatType(), False),\n",
    "    StructField(\"2010-09\", FloatType(), False),\n",
    "    StructField(\"2010-10\", FloatType(), False),\n",
    "    StructField(\"2010-11\", FloatType(), False),\n",
    "    StructField(\"2010-12\", FloatType(), False),\n",
    "    StructField(\"2011-01\", FloatType(), False),\n",
    "    StructField(\"2011-02\", FloatType(), False),\n",
    "    StructField(\"2011-03\", FloatType(), False),\n",
    "    StructField(\"2011-04\", FloatType(), False),\n",
    "    StructField(\"2011-05\", FloatType(), False),\n",
    "    StructField(\"2011-06\", FloatType(), False),\n",
    "    StructField(\"2011-07\", FloatType(), False),\n",
    "    StructField(\"2011-08\", FloatType(), False),\n",
    "    StructField(\"2011-09\", FloatType(), False),\n",
    "    StructField(\"2011-10\", FloatType(), False),\n",
    "    StructField(\"2011-11\", FloatType(), False),\n",
    "    StructField(\"2011-12\", FloatType(), False),\n",
    "    StructField(\"2012-01\", FloatType(), False),\n",
    "    StructField(\"2012-02\", FloatType(), False),\n",
    "    StructField(\"2012-03\", FloatType(), False),\n",
    "    StructField(\"2012-04\", FloatType(), False),\n",
    "    StructField(\"2012-05\", FloatType(), False),\n",
    "    StructField(\"2012-06\", FloatType(), False),\n",
    "    StructField(\"2012-07\", FloatType(), False),\n",
    "    StructField(\"2012-08\", FloatType(), False),\n",
    "    StructField(\"2012-09\", FloatType(), False),\n",
    "    StructField(\"2012-10\", FloatType(), False),\n",
    "    StructField(\"2012-11\", FloatType(), False),\n",
    "    StructField(\"2012-12\", FloatType(), False),\n",
    "    StructField(\"2013-01\", FloatType(), False),\n",
    "    StructField(\"2013-02\", FloatType(), False),\n",
    "    StructField(\"2013-03\", FloatType(), False),\n",
    "    StructField(\"2013-04\", FloatType(), False),\n",
    "    StructField(\"2013-05\", FloatType(), False),\n",
    "    StructField(\"2013-06\", FloatType(), False),\n",
    "    StructField(\"2013-07\", FloatType(), False),\n",
    "    StructField(\"2013-08\", FloatType(), False),\n",
    "    StructField(\"2013-09\", FloatType(), False),\n",
    "    StructField(\"2013-10\", FloatType(), False),\n",
    "    StructField(\"2013-11\", FloatType(), False),\n",
    "    StructField(\"2013-12\", FloatType(), False),\n",
    "    StructField(\"2014-01\", FloatType(), False),\n",
    "    StructField(\"2014-02\", FloatType(), False),\n",
    "    StructField(\"2014-03\", FloatType(), False),\n",
    "    StructField(\"2014-04\", FloatType(), False),\n",
    "    StructField(\"2014-05\", FloatType(), False),\n",
    "    StructField(\"2014-06\", FloatType(), False),\n",
    "    StructField(\"2014-07\", FloatType(), False),\n",
    "    StructField(\"2014-08\", FloatType(), False),\n",
    "    StructField(\"2014-09\", FloatType(), False),\n",
    "    StructField(\"2014-10\", FloatType(), False),\n",
    "    StructField(\"2014-11\", FloatType(), False),\n",
    "    StructField(\"2014-12\", FloatType(), False),\n",
    "    StructField(\"2015-01\", FloatType(), False),\n",
    "    StructField(\"2015-02\", FloatType(), False),\n",
    "    StructField(\"2015-03\", FloatType(), False),\n",
    "    StructField(\"2015-04\", FloatType(), False),\n",
    "    StructField(\"2015-05\", FloatType(), False),\n",
    "    StructField(\"2015-06\", FloatType(), False),\n",
    "    StructField(\"2015-07\", FloatType(), False),\n",
    "    StructField(\"2015-08\", FloatType(), False),\n",
    "    StructField(\"2015-09\", FloatType(), False),\n",
    "    StructField(\"2015-10\", FloatType(), False),\n",
    "    StructField(\"2015-11\", FloatType(), False),\n",
    "    StructField(\"2015-12\", FloatType(), False),\n",
    "    StructField(\"2016-01\", FloatType(), False),\n",
    "    StructField(\"2016-02\", FloatType(), False),\n",
    "    StructField(\"2016-03\", FloatType(), False),\n",
    "    StructField(\"2016-04\", FloatType(), False),\n",
    "    StructField(\"2016-05\", FloatType(), False),\n",
    "    StructField(\"2016-06\", FloatType(), False),\n",
    "    StructField(\"2016-07\", FloatType(), False),\n",
    "    StructField(\"2016-08\", FloatType(), False),\n",
    "    StructField(\"2016-09\", FloatType(), False),\n",
    "    StructField(\"2016-10\", FloatType(), False),\n",
    "    StructField(\"2016-11\", FloatType(), False),\n",
    "    StructField(\"2016-12\", FloatType(), False),\n",
    "    StructField(\"2017-01\", FloatType(), False),\n",
    "    StructField(\"2017-02\", FloatType(), False),\n",
    "    StructField(\"2017-03\", FloatType(), False),\n",
    "    StructField(\"2017-04\", FloatType(), False),\n",
    "    StructField(\"2017-05\", FloatType(), False),\n",
    "    StructField(\"2017-06\", FloatType(), False),\n",
    "    StructField(\"2017-07\", FloatType(), False),\n",
    "    StructField(\"2017-08\", FloatType(), False),\n",
    "    StructField(\"2017-09\", FloatType(), False),\n",
    "    StructField(\"2017-10\", FloatType(), False),\n",
    "    StructField(\"2017-11\", FloatType(), False),\n",
    "    StructField(\"2017-12\", FloatType(), False),\n",
    "    StructField(\"2018-01\", FloatType(), False),\n",
    "    StructField(\"2018-02\", FloatType(), False),\n",
    "    StructField(\"2018-03\", FloatType(), False),\n",
    "    StructField(\"2018-04\", FloatType(), False),\n",
    "    StructField(\"2018-05\", FloatType(), False),\n",
    "    StructField(\"2018-06\", FloatType(), False),\n",
    "    StructField(\"2018-07\", FloatType(), False),\n",
    "    StructField(\"2018-08\", FloatType(), False),\n",
    "    StructField(\"2018-09\", FloatType(), False),\n",
    "    StructField(\"2018-10\", FloatType(), False),\n",
    "    StructField(\"2018-11\", FloatType(), False),\n",
    "    StructField(\"2018-12\", FloatType(), False),\n",
    "    StructField(\"2019-01\", FloatType(), False),\n",
    "    StructField(\"2019-02\", FloatType(), False),\n",
    "    StructField(\"2019-03\", FloatType(), False),\n",
    "    StructField(\"2019-04\", FloatType(), False),\n",
    "    StructField(\"2019-05\", FloatType(), False),\n",
    "    StructField(\"2019-06\", FloatType(), False),\n",
    "    StructField(\"2019-07\", FloatType(), False),\n",
    "    StructField(\"2019-08\", FloatType(), False),\n",
    "    StructField(\"2019-09\", FloatType(), False),\n",
    "    StructField(\"2019-10\", FloatType(), False),\n",
    "    StructField(\"2019-11\", FloatType(), False),\n",
    "    StructField(\"2019-12\", FloatType(), False),\n",
    "    StructField(\"2020-01\", FloatType(), False),\n",
    "    StructField(\"2020-02\", FloatType(), False),\n",
    "    StructField(\"2020-03\", FloatType(), False),\n",
    "    StructField(\"2020-04\", FloatType(), False),\n",
    "    StructField(\"2020-05\", FloatType(), False),\n",
    "    StructField(\"2020-06\", FloatType(), False),\n",
    "    StructField(\"2020-07\", FloatType(), False),\n",
    "    StructField(\"2020-08\", FloatType(), False),\n",
    "    StructField(\"2020-09\", FloatType(), False),\n",
    "    StructField(\"2020-10\", FloatType(), False),\n",
    "    StructField(\"2020-11\", FloatType(), False),\n",
    "    StructField(\"2020-12\", FloatType(), False),\n",
    "    StructField(\"2021-01\", FloatType(), False),\n",
    "    StructField(\"2021-02\", FloatType(), False),\n",
    "    StructField(\"2021-03\", FloatType(), False),\n",
    "    StructField(\"2021-04\", FloatType(), False),\n",
    "    StructField(\"2021-05\", FloatType(), False),])\n",
    "'''"
   ]
  },
  {
   "cell_type": "code",
   "execution_count": 25,
   "metadata": {},
   "outputs": [
    {
     "name": "stdout",
     "output_type": "stream",
     "text": [
      "saved  daysOnMarket_All.parquet\n",
      "saved  discountShare_All.parquet\n",
      "saved  medianAskingPrice_All.parquet\n",
      "saved  medianAskingRent_All.parquet\n",
      "saved  medianSalesPrice_All.parquet\n",
      "saved  priceCutShare_All.parquet\n",
      "saved  recordedSalesVolume_All.parquet\n",
      "saved  rentalInventory_All.parquet\n",
      "saved  saleListRatio_All.parquet\n",
      "saved  totalInventory_All.parquet\n"
     ]
    }
   ],
   "source": [
    "#create dataframe\n",
    "for file in houseList: \n",
    "    try:\n",
    "        df = pd.read_csv(file)\n",
    "        #change borough to str type (for some reason without doing this it is read as a float)\n",
    "        df[\"Borough\"] = df[\"Borough\"].astype(str)\n",
    "        #Create dataframe and write to path\n",
    "        sdf = spark.createDataFrame(df)\n",
    "        #unionDF\n",
    "        #if index == 0:\n",
    "        #    unionDF = sdf\n",
    "        #else:\n",
    "        #    unionDF = uniondDF.union(sdf)\n",
    "        sdf.write.parquet('/project/ds5559/Summer2021_TeamBike/{}'.format(file.replace('.csv','.parquet')))\n",
    "        print('saved ', file.replace('.csv','.parquet'))\n",
    "    except:\n",
    "        print(\"could not create {}.\".format(file.replace('.csv','.parquet'))) "
   ]
  },
  {
   "cell_type": "code",
   "execution_count": 52,
   "metadata": {},
   "outputs": [],
   "source": [
    "#for file in houseList:\n",
    "#    df = pd.read_csv(file)\n",
    "#    df[\"Borough\"] = df[\"Borough\"].astype(str)\n",
    "#    sdf = spark.createDataFrame(df)\n",
    "#    sdf.write.parquet(file.replace('.csv','.parquet'))"
   ]
  },
  {
   "cell_type": "code",
   "execution_count": 14,
   "metadata": {},
   "outputs": [],
   "source": [
    "#unionDF.repartition('areaName').write.mode('append').partitionBy('areaName').parquet('/project/ds5559/Summer2021_TeamBike/testinghousing.parquet')"
   ]
  },
  {
   "cell_type": "code",
   "execution_count": 5,
   "metadata": {},
   "outputs": [],
   "source": [
    "daysOnMarket = spark.read.parquet('/project/ds5559/Summer2021_TeamBike/daysOnMarket_All.parquet')"
   ]
  },
  {
   "cell_type": "code",
   "execution_count": 9,
   "metadata": {},
   "outputs": [
    {
     "name": "stdout",
     "output_type": "stream",
     "text": [
      "+------------+---------+---------+-------+-------+-------+-------+-------+-------+-------+-------+-------+-------+-------+-------+-------+-------+-------+-------+-------+-------+-------+-------+-------+-------+-------+-------+-------+-------+-------+-------+-------+-------+-------+-------+-------+-------+-------+-------+-------+-------+-------+-------+-------+-------+-------+-------+-------+-------+-------+-------+-------+-------+-------+-------+-------+-------+-------+-------+-------+-------+-------+-------+-------+-------+-------+-------+-------+-------+-------+-------+-------+-------+-------+-------+-------+-------+-------+-------+-------+-------+-------+-------+-------+-------+-------+-------+-------+-------+-------+-------+-------+-------+-------+-------+-------+-------+-------+-------+-------+-------+-------+-------+-------+-------+-------+-------+-------+-------+-------+-------+-------+-------+-------+-------+-------+-------+-------+-------+-------+-------+-------+-------+-------+-------+-------+-------+-------+-------+-------+-------+-------+-------+-------+-------+-------+-------+-------+-------+-------+\n",
      "|    areaName|  Borough| areaType|2010-01|2010-02|2010-03|2010-04|2010-05|2010-06|2010-07|2010-08|2010-09|2010-10|2010-11|2010-12|2011-01|2011-02|2011-03|2011-04|2011-05|2011-06|2011-07|2011-08|2011-09|2011-10|2011-11|2011-12|2012-01|2012-02|2012-03|2012-04|2012-05|2012-06|2012-07|2012-08|2012-09|2012-10|2012-11|2012-12|2013-01|2013-02|2013-03|2013-04|2013-05|2013-06|2013-07|2013-08|2013-09|2013-10|2013-11|2013-12|2014-01|2014-02|2014-03|2014-04|2014-05|2014-06|2014-07|2014-08|2014-09|2014-10|2014-11|2014-12|2015-01|2015-02|2015-03|2015-04|2015-05|2015-06|2015-07|2015-08|2015-09|2015-10|2015-11|2015-12|2016-01|2016-02|2016-03|2016-04|2016-05|2016-06|2016-07|2016-08|2016-09|2016-10|2016-11|2016-12|2017-01|2017-02|2017-03|2017-04|2017-05|2017-06|2017-07|2017-08|2017-09|2017-10|2017-11|2017-12|2018-01|2018-02|2018-03|2018-04|2018-05|2018-06|2018-07|2018-08|2018-09|2018-10|2018-11|2018-12|2019-01|2019-02|2019-03|2019-04|2019-05|2019-06|2019-07|2019-08|2019-09|2019-10|2019-11|2019-12|2020-01|2020-02|2020-03|2020-04|2020-05|2020-06|2020-07|2020-08|2020-09|2020-10|2020-11|2020-12|2021-01|2021-02|2021-03|2021-04|2021-05|\n",
      "+------------+---------+---------+-------+-------+-------+-------+-------+-------+-------+-------+-------+-------+-------+-------+-------+-------+-------+-------+-------+-------+-------+-------+-------+-------+-------+-------+-------+-------+-------+-------+-------+-------+-------+-------+-------+-------+-------+-------+-------+-------+-------+-------+-------+-------+-------+-------+-------+-------+-------+-------+-------+-------+-------+-------+-------+-------+-------+-------+-------+-------+-------+-------+-------+-------+-------+-------+-------+-------+-------+-------+-------+-------+-------+-------+-------+-------+-------+-------+-------+-------+-------+-------+-------+-------+-------+-------+-------+-------+-------+-------+-------+-------+-------+-------+-------+-------+-------+-------+-------+-------+-------+-------+-------+-------+-------+-------+-------+-------+-------+-------+-------+-------+-------+-------+-------+-------+-------+-------+-------+-------+-------+-------+-------+-------+-------+-------+-------+-------+-------+-------+-------+-------+-------+-------+-------+-------+-------+-------+-------+\n",
      "|All Downtown|Manhattan|submarket|  121.0|  116.5|  114.0|   73.0|   74.5|   70.0|   68.0|   89.5|   77.0|  104.0|   93.0|   90.0|  116.0|  126.0|  102.0|   76.5|   67.5|   88.0|   76.5|   94.5|   96.0|   91.5|   69.0|   86.0|  111.5|  115.5|   76.0|   70.0|   68.0|   64.0|   76.5|   77.0|   75.0|   60.0|   68.0|   75.0|   96.5|   58.5|   41.0|   41.0|   42.0|   47.5|   48.0|   51.0|   60.0|   46.0|   54.0|   58.0|   85.5|   43.5|   40.0|   35.0|   39.0|   42.0|   43.5|   45.0|   57.0|   41.0|   56.0|   67.0|   76.0|   56.0|   41.0|   45.0|   36.0|   50.0|   54.0|   50.5|   50.0|   42.0|   51.0|   61.0|   88.0|   66.5|   48.0|   50.0|   46.0|   56.0|   62.5|   77.0|   86.0|   66.0|   65.0|   69.5|  103.0|   83.0|   61.0|   57.5|   62.5|   68.5|   94.0|   88.0|   97.0|   76.0|   70.0|   90.0|   92.0|   86.0|  103.0|   65.0|   49.0|   60.0|   74.0|   99.0|   98.0|   81.0|   73.5|   84.0|  119.0|  122.0|  125.0|   70.0|   62.0|   76.0|   71.0|  104.0|  106.5|  102.5|   79.0|   96.5|  119.0|  117.0|  132.5|   96.0|  150.0|  156.0|   62.0|   59.5|   78.0|   76.0|  106.0|  122.5|  130.0|  126.0|  111.0|   64.0|   60.0|\n",
      "| All Midtown|Manhattan|submarket|  120.0|  143.0|  111.0|  100.0|  105.0|  100.0|  115.5|  123.0|  119.5|   96.5|  113.5|  128.5|  135.0|  134.0|  160.0|   85.0|   92.0|   96.0|  122.0|  133.0|  114.0|  118.0|  112.0|  134.5|  138.0|  150.0|  134.0|   89.0|   90.0|   85.0|  108.0|   94.0|  125.0|  103.0|  109.0|  110.0|   90.0|   95.5|   84.0|   62.5|   63.0|   59.0|   60.0|   61.0|   66.0|   50.0|   56.0|   61.5|   86.0|   78.0|   47.0|   44.0|   43.5|   49.0|   66.0|   65.5|   64.0|   54.0|   56.0|   64.5|   91.0|   67.0|   50.0|   44.0|   45.0|   54.0|   55.0|   77.0|   84.0|   55.0|   60.5|   70.0|   89.0|   65.0|   49.0|   49.5|   54.5|   63.0|   70.0|   70.5|   61.0|   71.5|   61.5|   89.0|  104.0|   96.0|   71.0|   61.5|   70.0|   78.0|   84.0|  105.0|  110.0|   66.0|   77.0|  102.0|  104.0|   90.5|   55.5|   64.0|   67.0|   90.0|   82.0|   96.0|  104.5|  107.0|  106.5|   96.0|  105.0|  110.0|  119.0|   90.5|   84.0|   91.0|   86.0|  112.0|  122.0|   90.0|   83.0|  102.0|  126.0|  135.5|  129.0|   78.0|  181.0|  153.0|  167.0|  105.5|   90.0|   83.5|  104.0|  142.0|  151.5|  153.0|  138.0|  100.0|   90.0|\n",
      "+------------+---------+---------+-------+-------+-------+-------+-------+-------+-------+-------+-------+-------+-------+-------+-------+-------+-------+-------+-------+-------+-------+-------+-------+-------+-------+-------+-------+-------+-------+-------+-------+-------+-------+-------+-------+-------+-------+-------+-------+-------+-------+-------+-------+-------+-------+-------+-------+-------+-------+-------+-------+-------+-------+-------+-------+-------+-------+-------+-------+-------+-------+-------+-------+-------+-------+-------+-------+-------+-------+-------+-------+-------+-------+-------+-------+-------+-------+-------+-------+-------+-------+-------+-------+-------+-------+-------+-------+-------+-------+-------+-------+-------+-------+-------+-------+-------+-------+-------+-------+-------+-------+-------+-------+-------+-------+-------+-------+-------+-------+-------+-------+-------+-------+-------+-------+-------+-------+-------+-------+-------+-------+-------+-------+-------+-------+-------+-------+-------+-------+-------+-------+-------+-------+-------+-------+-------+-------+-------+-------+\n",
      "only showing top 2 rows\n",
      "\n"
     ]
    }
   ],
   "source": [
    "daysOnMarket.show(2)"
   ]
  },
  {
   "cell_type": "code",
   "execution_count": 22,
   "metadata": {},
   "outputs": [],
   "source": [
    "#Write zips to parquet\n",
    "df = pd.read_csv('zips_latlong.csv')\n",
    "sdf = spark.createDataFrame(df)\n",
    "sdf = sdf.drop('Unnamed: 0')"
   ]
  },
  {
   "cell_type": "code",
   "execution_count": 23,
   "metadata": {},
   "outputs": [],
   "source": [
    "sdf.write.parquet('/project/ds5559/Summer2021_TeamBike/zips_latlong.parquet')"
   ]
  },
  {
   "cell_type": "code",
   "execution_count": 24,
   "metadata": {},
   "outputs": [
    {
     "name": "stdout",
     "output_type": "stream",
     "text": [
      "+-----+-------+--------+---------+\n",
      "|  zip|    lat|    long|  borough|\n",
      "+-----+-------+--------+---------+\n",
      "|10001|40.7484|-73.9967|Manhattan|\n",
      "|10002|40.7152|-73.9877|Manhattan|\n",
      "+-----+-------+--------+---------+\n",
      "only showing top 2 rows\n",
      "\n"
     ]
    }
   ],
   "source": [
    "zips = spark.read.parquet('/project/ds5559/Summer2021_TeamBike/zips_latlong.parquet')\n",
    "zips.show(2)"
   ]
  },
  {
   "cell_type": "code",
   "execution_count": 8,
   "metadata": {},
   "outputs": [],
   "source": [
    "#write zips to parquet\n",
    "df = pd.read_csv('Borough_Mapping.csv')\n",
    "df[\"startStationName\"] = df[\"startStationName\"].astype(str)\n",
    "df[\"zipcodes\"] = df[\"zipcodes\"].astype(str)\n",
    "df[\"Borough\"] = df[\"Borough\"].astype(str)\n",
    "sdf = spark.createDataFrame(df)\n",
    "sdf.write.parquet('/project/ds5559/Summer2021_TeamBike/borough_mapping.parquet')"
   ]
  },
  {
   "cell_type": "code",
   "execution_count": 9,
   "metadata": {},
   "outputs": [
    {
     "name": "stdout",
     "output_type": "stream",
     "text": [
      "+--------------+-------------------+--------------------+---------------------+--------+---------+\n",
      "|startStationId|   startStationName|startStationLatitude|startStationLongitude|zipcodes|  Borough|\n",
      "+--------------+-------------------+--------------------+---------------------+--------+---------+\n",
      "|        3332.0|Degraw St & Hoyt St|         40.68199158|         -73.99079132|   11217| Brooklyn|\n",
      "|        3545.0|Broadway & W 122 St|          40.8120575|         -73.96125793|   10027|Manhattan|\n",
      "+--------------+-------------------+--------------------+---------------------+--------+---------+\n",
      "only showing top 2 rows\n",
      "\n"
     ]
    }
   ],
   "source": [
    "bmap = spark.read.parquet('/project/ds5559/Summer2021_TeamBike/borough_mapping.parquet')\n",
    "bmap.show(2)"
   ]
  }
 ],
 "metadata": {
  "kernelspec": {
   "display_name": "DS 5110",
   "language": "python",
   "name": "ds5110"
  },
  "language_info": {
   "codemirror_mode": {
    "name": "ipython",
    "version": 3
   },
   "file_extension": ".py",
   "mimetype": "text/x-python",
   "name": "python",
   "nbconvert_exporter": "python",
   "pygments_lexer": "ipython3",
   "version": "3.7.10"
  }
 },
 "nbformat": 4,
 "nbformat_minor": 4
}
