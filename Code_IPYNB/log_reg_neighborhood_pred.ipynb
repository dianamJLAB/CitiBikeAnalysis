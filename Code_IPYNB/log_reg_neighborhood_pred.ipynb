{
 "cells": [
  {
   "cell_type": "markdown",
   "metadata": {},
   "source": [
    "## Logistic Regression - Model Fitting\n",
    "### University of Virginia\n",
    "### DS 5110: Big Data Systems\n",
    "### By: TeamBike"
   ]
  },
  {
   "cell_type": "markdown",
   "metadata": {},
   "source": [
    "**Creating logistic-regression model for the expanded neighborhood set.**"
   ]
  },
  {
   "cell_type": "markdown",
   "metadata": {},
   "source": [
    "Session is 16 cores, 128 GB RAM"
   ]
  },
  {
   "cell_type": "code",
   "execution_count": 1,
   "metadata": {},
   "outputs": [],
   "source": [
    "from pyspark.ml import Pipeline\n",
    "from pyspark.ml.classification import GBTClassifier\n",
    "from pyspark.ml.feature import StringIndexer, VectorIndexer\n",
    "from pyspark.ml.evaluation import MulticlassClassificationEvaluator"
   ]
  },
  {
   "cell_type": "markdown",
   "metadata": {},
   "source": [
    "#### Create SparkSession (this configuration worked, but this file takes a really long time to run with all the data."
   ]
  },
  {
   "cell_type": "code",
   "execution_count": 2,
   "metadata": {},
   "outputs": [],
   "source": [
    "from pyspark.sql import SparkSession\n",
    "\n",
    "spark = SparkSession \\\n",
    "    .builder\\\n",
    "    .master(\"local\") \\\n",
    "    .appName(\"models\") \\\n",
    "    .config(\"spark.executor.memory\", '60g') \\\n",
    "    .config('spark.executor.cores', '10') \\\n",
    "    .config('spark.cores.max', '12') \\\n",
    "    .config(\"spark.driver.memory\",'40g') \\\n",
    "    .getOrCreate()\n",
    "\n",
    "\n",
    "\n",
    "'''\n",
    "spark = SparkSession \\\n",
    "    .builder\\\n",
    "    .master(\"local\") \\\n",
    "    .appName(\"models\") \\\n",
    "    .config(\"spark.executor.memory\", '80g') \\\n",
    "    .config('spark.executor.cores', '16') \\\n",
    "    .config('spark.cores.max', '16') \\\n",
    "    .config(\"spark.driver.memory\",'40g') \\\n",
    "    .getOrCreate()\n",
    "'''\n",
    "\n",
    "#spark = SparkSession \\\n",
    "#    .builder.getOrCreate()\n",
    "\n",
    "\n",
    "sc = SparkSession.sparkContext"
   ]
  },
  {
   "cell_type": "code",
   "execution_count": 3,
   "metadata": {},
   "outputs": [],
   "source": [
    "%matplotlib inline"
   ]
  },
  {
   "cell_type": "markdown",
   "metadata": {},
   "source": [
    "#### Read `master_dataset` parquet, which includes all Citi Bike data, weather data, and real-estate data."
   ]
  },
  {
   "cell_type": "code",
   "execution_count": 4,
   "metadata": {},
   "outputs": [
    {
     "name": "stdout",
     "output_type": "stream",
     "text": [
      "<class 'pyspark.sql.dataframe.DataFrame'>\n"
     ]
    }
   ],
   "source": [
    "df = spark.read.parquet(\"/project/ds5559/Summer2021_TeamBike/master_dataset.parquet\");\n",
    "b_map = spark.read.csv(\"station_df2.csv\", header = True).withColumnRenamed('startStationName', 'stationName');\n",
    "#borough_plus = spark.read.csv(\"station_df2.csv\", header = True).withColumnRenamed('startStationName', 'stationName');\n",
    "print(type(df)) # I want to see what type of object this created to make sure it's a DF"
   ]
  },
  {
   "cell_type": "markdown",
   "metadata": {},
   "source": [
    "#### `b_map` contains the borough-neighborhood mapping that will incorporate the predictor variable into the data set."
   ]
  },
  {
   "cell_type": "code",
   "execution_count": 5,
   "metadata": {},
   "outputs": [],
   "source": [
    "b_map = b_map.drop('_c0').drop('prediction').drop('latitude').drop('longitude').drop('Borough')"
   ]
  },
  {
   "cell_type": "code",
   "execution_count": 6,
   "metadata": {},
   "outputs": [
    {
     "name": "stdout",
     "output_type": "stream",
     "text": [
      "root\n",
      " |-- Borough: string (nullable = true)\n",
      " |-- month_year: string (nullable = true)\n",
      " |-- startStationId: string (nullable = true)\n",
      " |-- startStationName: string (nullable = true)\n",
      " |-- startStationLatitude: double (nullable = true)\n",
      " |-- startStationLongitude: double (nullable = true)\n",
      " |-- date: string (nullable = true)\n",
      " |-- hour: integer (nullable = true)\n",
      " |-- tripduration: long (nullable = true)\n",
      " |-- starttime: string (nullable = true)\n",
      " |-- endStationId: double (nullable = true)\n",
      " |-- endStationName: string (nullable = true)\n",
      " |-- endStationLatitude: double (nullable = true)\n",
      " |-- endStationLongitude: double (nullable = true)\n",
      " |-- bikeid: double (nullable = true)\n",
      " |-- usertype: string (nullable = true)\n",
      " |-- birthyear: string (nullable = true)\n",
      " |-- gender: double (nullable = true)\n",
      " |-- temp: double (nullable = true)\n",
      " |-- feels_like: double (nullable = true)\n",
      " |-- temp_min: double (nullable = true)\n",
      " |-- temp_max: double (nullable = true)\n",
      " |-- pressure: long (nullable = true)\n",
      " |-- humidity: long (nullable = true)\n",
      " |-- wind_speed: double (nullable = true)\n",
      " |-- rain_1h: double (nullable = true)\n",
      " |-- rain_3h: double (nullable = true)\n",
      " |-- snow_1h: double (nullable = true)\n",
      " |-- snow_3h: double (nullable = true)\n",
      " |-- clouds_all: long (nullable = true)\n",
      " |-- weather_main: string (nullable = true)\n",
      " |-- dow: integer (nullable = true)\n",
      " |-- day: string (nullable = true)\n",
      " |-- month: string (nullable = true)\n",
      " |-- time_bin: string (nullable = true)\n",
      " |-- peak_commute: string (nullable = true)\n",
      " |-- year: integer (nullable = true)\n",
      " |-- 3h_precip: double (nullable = true)\n",
      " |-- 1h_precip: double (nullable = true)\n",
      " |-- precip: string (nullable = true)\n",
      " |-- start_lat_long: struct (nullable = true)\n",
      " |    |-- startStationLatitude: double (nullable = true)\n",
      " |    |-- startStationLongitude: double (nullable = true)\n",
      " |-- end_lat_long: struct (nullable = true)\n",
      " |    |-- endStationLatitude: double (nullable = true)\n",
      " |    |-- endStationLongitude: double (nullable = true)\n",
      " |-- zipcodes: string (nullable = true)\n",
      " |-- avg_days_on_market: double (nullable = true)\n",
      " |-- avg_discount_share: double (nullable = true)\n",
      " |-- avg_median_sales_price: double (nullable = true)\n",
      " |-- avg_median_asking_sale: double (nullable = true)\n",
      " |-- avg_median_asking_rent: double (nullable = true)\n",
      " |-- avg_price_cut_share: double (nullable = true)\n",
      " |-- avg_sales_volume: double (nullable = true)\n",
      " |-- avg_sales_inventory: double (nullable = true)\n",
      " |-- avg_rent_inventory: double (nullable = true)\n",
      " |-- avg_sales_list_ratio: double (nullable = true)\n",
      "\n"
     ]
    }
   ],
   "source": [
    "df.printSchema()"
   ]
  },
  {
   "cell_type": "code",
   "execution_count": 7,
   "metadata": {},
   "outputs": [],
   "source": [
    "full = df.columns # get list of all columns"
   ]
  },
  {
   "cell_type": "code",
   "execution_count": 8,
   "metadata": {},
   "outputs": [
    {
     "name": "stdout",
     "output_type": "stream",
     "text": [
      "+--------+----------+--------------+-------------------+--------------------+---------------------+----------+----+------------+--------------------+------------+-------------------+------------------+-------------------+-------+--------+---------+------+------+----------+--------+--------+--------+--------+----------+-------+-------+-------+-------+----------+------------+---+------+-----+--------+------------+----+---------+---------+---------+--------------------+--------------------+--------+------------------+------------------+----------------------+----------------------+----------------------+-------------------+------------------+-------------------+------------------+--------------------+\n",
      "| Borough|month_year|startStationId|   startStationName|startStationLatitude|startStationLongitude|      date|hour|tripduration|           starttime|endStationId|     endStationName|endStationLatitude|endStationLongitude| bikeid|usertype|birthyear|gender|  temp|feels_like|temp_min|temp_max|pressure|humidity|wind_speed|rain_1h|rain_3h|snow_1h|snow_3h|clouds_all|weather_main|dow|   day|month|time_bin|peak_commute|year|3h_precip|1h_precip|   precip|      start_lat_long|        end_lat_long|zipcodes|avg_days_on_market|avg_discount_share|avg_median_sales_price|avg_median_asking_sale|avg_median_asking_rent|avg_price_cut_share|  avg_sales_volume|avg_sales_inventory|avg_rent_inventory|avg_sales_list_ratio|\n",
      "+--------+----------+--------------+-------------------+--------------------+---------------------+----------+----+------------+--------------------+------------+-------------------+------------------+-------------------+-------+--------+---------+------+------+----------+--------+--------+--------+--------+----------+-------+-------+-------+-------+----------+------------+---+------+-----+--------+------------+----+---------+---------+---------+--------------------+--------------------+--------+------------------+------------------+----------------------+----------------------+----------------------+-------------------+------------------+-------------------+------------------+--------------------+\n",
      "|Brooklyn|   2020-06|          3419|Douglass St & 4 Ave|   40.67927879999999|         -73.98154004|2020-06-01|   0|        1062|2020-06-01 00:00:...|      3419.0|Douglass St & 4 Ave| 40.67927879999999|       -73.98154004|39852.0|Customer|     1997|   2.0|64.292|     57.38|  62.006|  62.006|    1018|      43|      3.93|    0.0|    0.0|    0.0|    0.0|         1|       Clear|  2|Monday|  Jun|   Night|    non_peak|2020|      0.0|      0.0|no_precip|[40.6792787999999...|[40.6792787999999...|   11217| 90.31829652996842|0.1875610615471485|     854338.1216332259|    1057032.5681996944|     2549.918969486926|0.08441581266425231|38.345454545454544|  241.6909090909091|1002.4363636363636|  0.9601094091903719|\n",
      "+--------+----------+--------------+-------------------+--------------------+---------------------+----------+----+------------+--------------------+------------+-------------------+------------------+-------------------+-------+--------+---------+------+------+----------+--------+--------+--------+--------+----------+-------+-------+-------+-------+----------+------------+---+------+-----+--------+------------+----+---------+---------+---------+--------------------+--------------------+--------+------------------+------------------+----------------------+----------------------+----------------------+-------------------+------------------+-------------------+------------------+--------------------+\n",
      "only showing top 1 row\n",
      "\n"
     ]
    }
   ],
   "source": [
    "df.show(1)"
   ]
  },
  {
   "cell_type": "markdown",
   "metadata": {},
   "source": [
    "### Borough Ride Analysis"
   ]
  },
  {
   "cell_type": "markdown",
   "metadata": {},
   "source": [
    "#### Where do rides start?\n",
    "- Some initial analysis\n",
    "- Number of rides and their relative frequency"
   ]
  },
  {
   "cell_type": "code",
   "execution_count": 9,
   "metadata": {},
   "outputs": [
    {
     "name": "stdout",
     "output_type": "stream",
     "text": [
      "+---------+--------+-------+\n",
      "|  Borough| # Rides|% Total|\n",
      "+---------+--------+-------+\n",
      "|   Queens| 1849398|   3.74|\n",
      "| Brooklyn| 9574892|  19.38|\n",
      "|Manhattan|37688969|   76.3|\n",
      "|    Bronx|  280961|   0.57|\n",
      "+---------+--------+-------+\n",
      "\n"
     ]
    }
   ],
   "source": [
    "import pyspark.sql.functions as F\n",
    "from pyspark.sql.types import *\n",
    "\n",
    "tot = df.count()\n",
    "\n",
    "df.groupby('Borough').count()\\\n",
    "  .withColumnRenamed('count', '# Rides') \\\n",
    "  .withColumn('% Total', F.round((F.col('# Rides') / tot) * 100, 2) ) \\\n",
    "  .show()"
   ]
  },
  {
   "cell_type": "markdown",
   "metadata": {},
   "source": [
    "### Notice that there are no rides in Staten Island due to there being no stations located there."
   ]
  },
  {
   "cell_type": "markdown",
   "metadata": {},
   "source": [
    "- Number of stations in each borough"
   ]
  },
  {
   "cell_type": "code",
   "execution_count": 10,
   "metadata": {},
   "outputs": [
    {
     "name": "stdout",
     "output_type": "stream",
     "text": [
      "+---------+----------+-------+\n",
      "|  Borough|# Stations|% Total|\n",
      "+---------+----------+-------+\n",
      "|   Queens|       179|  11.72|\n",
      "| Brooklyn|       471|  30.84|\n",
      "|Manhattan|       651|  42.63|\n",
      "|    Bronx|       226|   14.8|\n",
      "+---------+----------+-------+\n",
      "\n"
     ]
    }
   ],
   "source": [
    "tot = df.select('startStationName', 'Borough')\\\n",
    ".distinct().count()\n",
    "\n",
    "df.select('startStationName', 'Borough')\\\n",
    ".distinct().groupby('Borough').count()\\\n",
    "  .withColumnRenamed('count', '# Stations') \\\n",
    "  .withColumn('% Total', F.round((F.col('# Stations') / tot) * 100, 2) ) \\\n",
    "  .show()"
   ]
  },
  {
   "cell_type": "markdown",
   "metadata": {},
   "source": [
    "### There is an outsized number of rides in Manhattan and Brooklyn relative to the number of stations there are in these two boroughs. "
   ]
  },
  {
   "cell_type": "code",
   "execution_count": 11,
   "metadata": {},
   "outputs": [],
   "source": [
    "import pyspark.sql.functions\n",
    "\n",
    "df = df.withColumn('month', pyspark.sql.functions.split(df['month_year'], '-').getItem(1))"
   ]
  },
  {
   "cell_type": "code",
   "execution_count": 12,
   "metadata": {},
   "outputs": [],
   "source": [
    "df_rf = df.select('month_year', 'startStationName', 'hour', 'tripduration', 'endStationName', 'day', 'month', 'time_bin', 'peak_commute', )"
   ]
  },
  {
   "cell_type": "code",
   "execution_count": 13,
   "metadata": {},
   "outputs": [
    {
     "name": "stdout",
     "output_type": "stream",
     "text": [
      "+----------+--------------------+----+------------+--------------------+------+-----+--------+------------+\n",
      "|month_year|    startStationName|hour|tripduration|      endStationName|   day|month|time_bin|peak_commute|\n",
      "+----------+--------------------+----+------------+--------------------+------+-----+--------+------------+\n",
      "|   2020-06| Douglass St & 4 Ave|   0|        1062| Douglass St & 4 Ave|Monday|   06|   Night|    non_peak|\n",
      "|   2020-06|Clinton Ave & Myr...|   0|        3810|Sullivan St & Was...|Monday|   06|   Night|    non_peak|\n",
      "|   2020-06| Broadway & Berry St|   0|        1017|Classon Ave & St ...|Monday|   06|   Night|    non_peak|\n",
      "|   2020-06|E 53 St & Lexingt...|   0|        1437|  E 17 St & Broadway|Monday|   06|   Night|    non_peak|\n",
      "|   2020-06|Laight St & Hudso...|   0|         355|Perry St & Bleeck...|Monday|   06|   Night|    non_peak|\n",
      "|   2020-06|Duffield St & Wil...|   0|          87| Bond St & Fulton St|Monday|   06|   Night|    non_peak|\n",
      "|   2020-06|Fulton St & Broadway|   0|        2714|     1 Ave & E 44 St|Monday|   06|   Night|    non_peak|\n",
      "|   2020-06|     E 11 St & 2 Ave|   0|        2096|Cooper Square & A...|Monday|   06|   Night|    non_peak|\n",
      "|   2020-06|Frederick Douglas...|   0|        1611|Frederick Douglas...|Monday|   06|   Night|    non_peak|\n",
      "|   2020-06| Vernon Blvd & 30 Rd|   0|         529|      24 Ave & 29 St|Monday|   06|   Night|    non_peak|\n",
      "+----------+--------------------+----+------------+--------------------+------+-----+--------+------------+\n",
      "only showing top 10 rows\n",
      "\n"
     ]
    }
   ],
   "source": [
    "df_rf.show(10)"
   ]
  },
  {
   "cell_type": "code",
   "execution_count": 14,
   "metadata": {},
   "outputs": [],
   "source": [
    "from pyspark.sql.types import IntegerType\n",
    "df_rf = df_rf.withColumn(\"month\", df_rf[\"month\"].cast(IntegerType()))#.withColumnRenamed('startStationName', 'station')"
   ]
  },
  {
   "cell_type": "code",
   "execution_count": 15,
   "metadata": {},
   "outputs": [
    {
     "name": "stdout",
     "output_type": "stream",
     "text": [
      "+----------+--------------------+----+------------+--------------------+------+-----+--------+------------+\n",
      "|month_year|    startStationName|hour|tripduration|      endStationName|   day|month|time_bin|peak_commute|\n",
      "+----------+--------------------+----+------------+--------------------+------+-----+--------+------------+\n",
      "|   2020-06| Douglass St & 4 Ave|   0|        1062| Douglass St & 4 Ave|Monday|    6|   Night|    non_peak|\n",
      "|   2020-06|Clinton Ave & Myr...|   0|        3810|Sullivan St & Was...|Monday|    6|   Night|    non_peak|\n",
      "|   2020-06| Broadway & Berry St|   0|        1017|Classon Ave & St ...|Monday|    6|   Night|    non_peak|\n",
      "|   2020-06|E 53 St & Lexingt...|   0|        1437|  E 17 St & Broadway|Monday|    6|   Night|    non_peak|\n",
      "|   2020-06|Laight St & Hudso...|   0|         355|Perry St & Bleeck...|Monday|    6|   Night|    non_peak|\n",
      "|   2020-06|Duffield St & Wil...|   0|          87| Bond St & Fulton St|Monday|    6|   Night|    non_peak|\n",
      "|   2020-06|Fulton St & Broadway|   0|        2714|     1 Ave & E 44 St|Monday|    6|   Night|    non_peak|\n",
      "|   2020-06|     E 11 St & 2 Ave|   0|        2096|Cooper Square & A...|Monday|    6|   Night|    non_peak|\n",
      "|   2020-06|Frederick Douglas...|   0|        1611|Frederick Douglas...|Monday|    6|   Night|    non_peak|\n",
      "|   2020-06| Vernon Blvd & 30 Rd|   0|         529|      24 Ave & 29 St|Monday|    6|   Night|    non_peak|\n",
      "+----------+--------------------+----+------------+--------------------+------+-----+--------+------------+\n",
      "only showing top 10 rows\n",
      "\n"
     ]
    }
   ],
   "source": [
    "df_rf.show(10)"
   ]
  },
  {
   "cell_type": "markdown",
   "metadata": {},
   "source": [
    "## Join the neighborhoods created by the K-Means algorithm (in `b_map`) to the rest of the data:"
   ]
  },
  {
   "cell_type": "code",
   "execution_count": 16,
   "metadata": {},
   "outputs": [],
   "source": [
    "df_rf = df_rf.join(b_map, on = df_rf.startStationName == b_map.stationName).withColumnRenamed('concat', 'start_neighborhood')"
   ]
  },
  {
   "cell_type": "code",
   "execution_count": 17,
   "metadata": {},
   "outputs": [
    {
     "name": "stdout",
     "output_type": "stream",
     "text": [
      "+----------+--------------------+----+------------+--------------------+------+-----+--------+------------+--------------------+--------------------+\n",
      "|month_year|    startStationName|hour|tripduration|      endStationName|   day|month|time_bin|peak_commute|         stationName|  start_neighborhood|\n",
      "+----------+--------------------+----+------------+--------------------+------+-----+--------+------------+--------------------+--------------------+\n",
      "|   2020-06| Douglass St & 4 Ave|   0|        1062| Douglass St & 4 Ave|Monday|    6|   Night|    non_peak| Douglass St & 4 Ave|          Midtown BK|\n",
      "|   2020-06|Clinton Ave & Myr...|   0|        3810|Sullivan St & Was...|Monday|    6|   Night|    non_peak|Clinton Ave & Myr...|          Midtown BK|\n",
      "|   2020-06| Broadway & Berry St|   0|        1017|Classon Ave & St ...|Monday|    6|   Night|    non_peak| Broadway & Berry St|           Uptown BK|\n",
      "|   2020-06|E 53 St & Lexingt...|   0|        1437|  E 17 St & Broadway|Monday|    6|   Night|    non_peak|E 53 St & Lexingt...|Central Park East...|\n",
      "|   2020-06|Laight St & Hudso...|   0|         355|Perry St & Bleeck...|Monday|    6|   Night|    non_peak|Laight St & Hudso...|  Downtown Manhattan|\n",
      "+----------+--------------------+----+------------+--------------------+------+-----+--------+------------+--------------------+--------------------+\n",
      "only showing top 5 rows\n",
      "\n"
     ]
    }
   ],
   "source": [
    "df_rf.show(5)"
   ]
  },
  {
   "cell_type": "code",
   "execution_count": 18,
   "metadata": {},
   "outputs": [],
   "source": [
    "df_rf = df_rf.drop('stationName')"
   ]
  },
  {
   "cell_type": "code",
   "execution_count": 19,
   "metadata": {},
   "outputs": [
    {
     "data": {
      "text/plain": [
       "49614503"
      ]
     },
     "execution_count": 19,
     "metadata": {},
     "output_type": "execute_result"
    }
   ],
   "source": [
    "df_rf.count()"
   ]
  },
  {
   "cell_type": "markdown",
   "metadata": {},
   "source": [
    "### There is now a column of neighborhood values in the dataframe. "
   ]
  },
  {
   "cell_type": "markdown",
   "metadata": {},
   "source": [
    "### Similar analysis performed on the boroughs seen below for the neighborhoods:"
   ]
  },
  {
   "cell_type": "code",
   "execution_count": 20,
   "metadata": {},
   "outputs": [
    {
     "name": "stdout",
     "output_type": "stream",
     "text": [
      "+--------------------+--------+-------+\n",
      "|  start_neighborhood| # Rides|% Total|\n",
      "+--------------------+--------+-------+\n",
      "|              Queens| 1900644|   3.83|\n",
      "|         Downtown BK|  491417|   0.99|\n",
      "|Central Park East...| 8340058|  16.81|\n",
      "|  Downtown Manhattan|10076749|  20.31|\n",
      "|Harlem & Wash. He...|  147133|    0.3|\n",
      "|          Midtown BK| 5202790|  10.49|\n",
      "|           Uptown BK| 3949040|   7.96|\n",
      "|   Midtown Manhattan|16070516|  32.39|\n",
      "|    Uptown Manhattan| 3155195|   6.36|\n",
      "|               Bronx|  280961|   0.57|\n",
      "+--------------------+--------+-------+\n",
      "\n"
     ]
    }
   ],
   "source": [
    "tot = df_rf.select('start_neighborhood').count()\n",
    "\n",
    "df_rf.select('start_neighborhood').groupby('start_neighborhood').count()\\\n",
    "  .withColumnRenamed('count', '# Rides') \\\n",
    "  .withColumn('% Total', F.round((F.col('# Rides') / tot) * 100, 2) ) \\\n",
    "  .show()"
   ]
  },
  {
   "cell_type": "code",
   "execution_count": 21,
   "metadata": {},
   "outputs": [
    {
     "name": "stdout",
     "output_type": "stream",
     "text": [
      "+--------------------+----------+-------+\n",
      "|  start_neighborhood|# Stations|% Total|\n",
      "+--------------------+----------+-------+\n",
      "|              Queens|       179|  11.75|\n",
      "|         Downtown BK|       116|   7.62|\n",
      "|Central Park East...|       137|    9.0|\n",
      "|  Downtown Manhattan|       138|   9.06|\n",
      "|Harlem & Wash. He...|        67|    4.4|\n",
      "|          Midtown BK|       172|  11.29|\n",
      "|           Uptown BK|       183|  12.02|\n",
      "|   Midtown Manhattan|       171|  11.23|\n",
      "|    Uptown Manhattan|       138|   9.06|\n",
      "|               Bronx|       226|  14.84|\n",
      "+--------------------+----------+-------+\n",
      "\n"
     ]
    }
   ],
   "source": [
    "tot = df_rf.select('startStationName')\\\n",
    ".distinct().count()\n",
    "\n",
    "df_rf.select('start_neighborhood', 'startStationName')\\\n",
    ".distinct().groupby('start_neighborhood').count()\\\n",
    "  .withColumnRenamed('count', '# Stations') \\\n",
    "  .withColumn('% Total', F.round((F.col('# Stations') / tot) * 100, 2) ) \\\n",
    "  .show()"
   ]
  },
  {
   "cell_type": "markdown",
   "metadata": {},
   "source": [
    "### We still see some imbalanced data when considering the number of rides, but the number of stations is relatively spread across all of the neighborhoods."
   ]
  },
  {
   "cell_type": "markdown",
   "metadata": {},
   "source": [
    "**Bring in the neighborhoods for the end stations:**"
   ]
  },
  {
   "cell_type": "code",
   "execution_count": 22,
   "metadata": {},
   "outputs": [],
   "source": [
    "df_rf = df_rf.join(b_map, on = df_rf.endStationName == b_map.stationName).withColumnRenamed('concat', 'end_neighborhood').drop('stationName')"
   ]
  },
  {
   "cell_type": "code",
   "execution_count": 23,
   "metadata": {},
   "outputs": [
    {
     "name": "stdout",
     "output_type": "stream",
     "text": [
      "+----------+--------------------+----+------------+--------------------+------+-----+--------+------------+--------------------+------------------+\n",
      "|month_year|    startStationName|hour|tripduration|      endStationName|   day|month|time_bin|peak_commute|  start_neighborhood|  end_neighborhood|\n",
      "+----------+--------------------+----+------------+--------------------+------+-----+--------+------------+--------------------+------------------+\n",
      "|   2020-06| Douglass St & 4 Ave|   0|        1062| Douglass St & 4 Ave|Monday|    6|   Night|    non_peak|          Midtown BK|        Midtown BK|\n",
      "|   2020-06|Clinton Ave & Myr...|   0|        3810|Sullivan St & Was...|Monday|    6|   Night|    non_peak|          Midtown BK|Downtown Manhattan|\n",
      "|   2020-06| Broadway & Berry St|   0|        1017|Classon Ave & St ...|Monday|    6|   Night|    non_peak|           Uptown BK|        Midtown BK|\n",
      "|   2020-06|E 53 St & Lexingt...|   0|        1437|  E 17 St & Broadway|Monday|    6|   Night|    non_peak|Central Park East...| Midtown Manhattan|\n",
      "|   2020-06|Laight St & Hudso...|   0|         355|Perry St & Bleeck...|Monday|    6|   Night|    non_peak|  Downtown Manhattan| Midtown Manhattan|\n",
      "+----------+--------------------+----+------------+--------------------+------+-----+--------+------------+--------------------+------------------+\n",
      "only showing top 5 rows\n",
      "\n"
     ]
    }
   ],
   "source": [
    "df_rf.show(5)"
   ]
  },
  {
   "cell_type": "code",
   "execution_count": 24,
   "metadata": {},
   "outputs": [
    {
     "data": {
      "text/plain": [
       "49271009"
      ]
     },
     "execution_count": 24,
     "metadata": {},
     "output_type": "execute_result"
    }
   ],
   "source": [
    "df_rf.count()"
   ]
  },
  {
   "cell_type": "code",
   "execution_count": 25,
   "metadata": {},
   "outputs": [],
   "source": [
    "df_rf = df_rf.drop('month_year')"
   ]
  },
  {
   "cell_type": "code",
   "execution_count": 26,
   "metadata": {},
   "outputs": [
    {
     "name": "stdout",
     "output_type": "stream",
     "text": [
      "+--------------------+----+------------+--------------------+------+-----+--------+------------+--------------------+------------------+\n",
      "|    startStationName|hour|tripduration|      endStationName|   day|month|time_bin|peak_commute|  start_neighborhood|  end_neighborhood|\n",
      "+--------------------+----+------------+--------------------+------+-----+--------+------------+--------------------+------------------+\n",
      "| Douglass St & 4 Ave|   0|        1062| Douglass St & 4 Ave|Monday|    6|   Night|    non_peak|          Midtown BK|        Midtown BK|\n",
      "|Clinton Ave & Myr...|   0|        3810|Sullivan St & Was...|Monday|    6|   Night|    non_peak|          Midtown BK|Downtown Manhattan|\n",
      "| Broadway & Berry St|   0|        1017|Classon Ave & St ...|Monday|    6|   Night|    non_peak|           Uptown BK|        Midtown BK|\n",
      "|E 53 St & Lexingt...|   0|        1437|  E 17 St & Broadway|Monday|    6|   Night|    non_peak|Central Park East...| Midtown Manhattan|\n",
      "|Laight St & Hudso...|   0|         355|Perry St & Bleeck...|Monday|    6|   Night|    non_peak|  Downtown Manhattan| Midtown Manhattan|\n",
      "+--------------------+----+------------+--------------------+------+-----+--------+------------+--------------------+------------------+\n",
      "only showing top 5 rows\n",
      "\n"
     ]
    }
   ],
   "source": [
    "df_rf.show(5)"
   ]
  },
  {
   "cell_type": "markdown",
   "metadata": {},
   "source": [
    "### We now have the starting neighborhoods and ending neighborhoods for each ride in the full dataset. Let's look at some ride details below:"
   ]
  },
  {
   "cell_type": "code",
   "execution_count": 27,
   "metadata": {},
   "outputs": [
    {
     "name": "stdout",
     "output_type": "stream",
     "text": [
      "+--------------------+--------------------+--------+-------+\n",
      "|  start_neighborhood|    end_neighborhood| # Rides|% Total|\n",
      "+--------------------+--------------------+--------+-------+\n",
      "|   Midtown Manhattan|   Midtown Manhattan|10154874|  20.61|\n",
      "|  Downtown Manhattan|  Downtown Manhattan| 5763571|   11.7|\n",
      "|Central Park East...|Central Park East...| 4880562|   9.91|\n",
      "|          Midtown BK|          Midtown BK| 3825678|   7.76|\n",
      "|  Downtown Manhattan|   Midtown Manhattan| 3040322|   6.17|\n",
      "|   Midtown Manhattan|  Downtown Manhattan| 3014183|   6.12|\n",
      "|           Uptown BK|           Uptown BK| 2735445|   5.55|\n",
      "|   Midtown Manhattan|Central Park East...| 2108910|   4.28|\n",
      "|    Uptown Manhattan|    Uptown Manhattan| 1962820|   3.98|\n",
      "|Central Park East...|   Midtown Manhattan| 1962534|   3.98|\n",
      "|              Queens|              Queens| 1411336|   2.86|\n",
      "|    Uptown Manhattan|Central Park East...|  851787|   1.73|\n",
      "|Central Park East...|    Uptown Manhattan|  844450|   1.71|\n",
      "|           Uptown BK|          Midtown BK|  549869|   1.12|\n",
      "|          Midtown BK|           Uptown BK|  506213|   1.03|\n",
      "|  Downtown Manhattan|          Midtown BK|  428341|   0.87|\n",
      "|          Midtown BK|  Downtown Manhattan|  380457|   0.77|\n",
      "|  Downtown Manhattan|Central Park East...|  369211|   0.75|\n",
      "|Central Park East...|  Downtown Manhattan|  362208|   0.74|\n",
      "|          Midtown BK|         Downtown BK|  333177|   0.68|\n",
      "|  Downtown Manhattan|           Uptown BK|  315270|   0.64|\n",
      "|           Uptown BK|  Downtown Manhattan|  290553|   0.59|\n",
      "|         Downtown BK|          Midtown BK|  260538|   0.53|\n",
      "|              Queens|           Uptown BK|  255841|   0.52|\n",
      "|           Uptown BK|              Queens|  228209|   0.46|\n",
      "|               Bronx|               Bronx|  210869|   0.43|\n",
      "|   Midtown Manhattan|    Uptown Manhattan|  185598|   0.38|\n",
      "|    Uptown Manhattan|   Midtown Manhattan|  182013|   0.37|\n",
      "|         Downtown BK|         Downtown BK|  173911|   0.35|\n",
      "|   Midtown Manhattan|          Midtown BK|  148214|    0.3|\n",
      "|           Uptown BK|   Midtown Manhattan|  143143|   0.29|\n",
      "|   Midtown Manhattan|           Uptown BK|  140509|   0.29|\n",
      "|          Midtown BK|   Midtown Manhattan|  139842|   0.28|\n",
      "|              Queens|Central Park East...|  127071|   0.26|\n",
      "|Central Park East...|              Queens|  118514|   0.24|\n",
      "|Harlem & Wash. He...|Harlem & Wash. He...|   62536|   0.13|\n",
      "|              Queens|   Midtown Manhattan|   57950|   0.12|\n",
      "|   Midtown Manhattan|              Queens|   57519|   0.12|\n",
      "|Harlem & Wash. He...|    Uptown Manhattan|   49448|    0.1|\n",
      "|               Bronx|    Uptown Manhattan|   45415|   0.09|\n",
      "|    Uptown Manhattan|               Bronx|   43937|   0.09|\n",
      "|    Uptown Manhattan|Harlem & Wash. He...|   41349|   0.08|\n",
      "|    Uptown Manhattan|  Downtown Manhattan|   38119|   0.08|\n",
      "|  Downtown Manhattan|    Uptown Manhattan|   33413|   0.07|\n",
      "|           Uptown BK|Central Park East...|   33075|   0.07|\n",
      "|Central Park East...|           Uptown BK|   32180|   0.07|\n",
      "|         Downtown BK|  Downtown Manhattan|   31451|   0.06|\n",
      "|              Queens|          Midtown BK|   29789|   0.06|\n",
      "|          Midtown BK|Central Park East...|   22818|   0.05|\n",
      "|          Midtown BK|              Queens|   22653|   0.05|\n",
      "|Central Park East...|          Midtown BK|   22608|   0.05|\n",
      "|  Downtown Manhattan|         Downtown BK|   21092|   0.04|\n",
      "|           Uptown BK|         Downtown BK|   19035|   0.04|\n",
      "|  Downtown Manhattan|              Queens|   18870|   0.04|\n",
      "|Harlem & Wash. He...|Central Park East...|   17992|   0.04|\n",
      "|              Queens|  Downtown Manhattan|   17987|   0.04|\n",
      "|    Uptown Manhattan|              Queens|   14145|   0.03|\n",
      "|              Queens|    Uptown Manhattan|   13646|   0.03|\n",
      "|         Downtown BK|           Uptown BK|   13108|   0.03|\n",
      "|Central Park East...|Harlem & Wash. He...|   10706|   0.02|\n",
      "|               Bronx|Central Park East...|   10355|   0.02|\n",
      "|Central Park East...|               Bronx|   10037|   0.02|\n",
      "|Harlem & Wash. He...|               Bronx|    8335|   0.02|\n",
      "|   Midtown Manhattan|         Downtown BK|    8188|   0.02|\n",
      "|               Bronx|Harlem & Wash. He...|    7780|   0.02|\n",
      "|         Downtown BK|   Midtown Manhattan|    7317|   0.01|\n",
      "|Harlem & Wash. He...|   Midtown Manhattan|    6273|   0.01|\n",
      "|   Midtown Manhattan|Harlem & Wash. He...|    4340|   0.01|\n",
      "|   Midtown Manhattan|               Bronx|    3015|   0.01|\n",
      "|           Uptown BK|    Uptown Manhattan|    2906|   0.01|\n",
      "|    Uptown Manhattan|           Uptown BK|    2906|   0.01|\n",
      "|               Bronx|   Midtown Manhattan|    2708|   0.01|\n",
      "|               Bronx|              Queens|    2369|    0.0|\n",
      "|    Uptown Manhattan|          Midtown BK|    2307|    0.0|\n",
      "|              Queens|               Bronx|    2252|    0.0|\n",
      "|          Midtown BK|    Uptown Manhattan|    2081|    0.0|\n",
      "|Harlem & Wash. He...|  Downtown Manhattan|    1740|    0.0|\n",
      "|Central Park East...|         Downtown BK|    1476|    0.0|\n",
      "|              Queens|         Downtown BK|    1289|    0.0|\n",
      "|         Downtown BK|Central Park East...|    1269|    0.0|\n",
      "|  Downtown Manhattan|Harlem & Wash. He...|    1085|    0.0|\n",
      "|         Downtown BK|              Queens|     780|    0.0|\n",
      "|               Bronx|  Downtown Manhattan|     753|    0.0|\n",
      "|  Downtown Manhattan|               Bronx|     704|    0.0|\n",
      "|               Bronx|           Uptown BK|     209|    0.0|\n",
      "|           Uptown BK|               Bronx|     208|    0.0|\n",
      "|Harlem & Wash. He...|              Queens|     204|    0.0|\n",
      "|    Uptown Manhattan|         Downtown BK|     200|    0.0|\n",
      "|              Queens|Harlem & Wash. He...|     154|    0.0|\n",
      "|Harlem & Wash. He...|          Midtown BK|     146|    0.0|\n",
      "|               Bronx|          Midtown BK|     135|    0.0|\n",
      "|         Downtown BK|    Uptown Manhattan|     131|    0.0|\n",
      "|           Uptown BK|Harlem & Wash. He...|     119|    0.0|\n",
      "|          Midtown BK|Harlem & Wash. He...|     109|    0.0|\n",
      "|Harlem & Wash. He...|           Uptown BK|     108|    0.0|\n",
      "|          Midtown BK|               Bronx|      94|    0.0|\n",
      "|         Downtown BK|               Bronx|      15|    0.0|\n",
      "|               Bronx|         Downtown BK|      15|    0.0|\n",
      "|Harlem & Wash. He...|         Downtown BK|       8|    0.0|\n",
      "|         Downtown BK|Harlem & Wash. He...|       5|    0.0|\n",
      "+--------------------+--------------------+--------+-------+\n",
      "\n"
     ]
    }
   ],
   "source": [
    "from pyspark.sql.functions import desc\n",
    "\n",
    "tot = df_rf.count()\n",
    "\n",
    "df_rf.groupby('start_neighborhood', 'end_neighborhood').count()\\\n",
    "  .withColumnRenamed('count', '# Rides') \\\n",
    "  .withColumn('% Total', F.round((F.col('# Rides') / tot) * 100, 2) ) \\\n",
    "  .sort(desc(\"count\")).show(100)"
   ]
  },
  {
   "cell_type": "markdown",
   "metadata": {},
   "source": [
    "### Most rides start and end in the same neighborhood; 63% start and end in the same neighborhood"
   ]
  },
  {
   "cell_type": "code",
   "execution_count": 28,
   "metadata": {},
   "outputs": [
    {
     "data": {
      "text/plain": [
       "0.6328590104578536"
      ]
     },
     "execution_count": 28,
     "metadata": {},
     "output_type": "execute_result"
    }
   ],
   "source": [
    "df_rf.where(df_rf.start_neighborhood == df_rf.end_neighborhood).count()/df_rf.count()\n",
    "#.groupby('start_neighborhood', 'end_neighborhood').count()#sort(desc(\"count\")).show(100)"
   ]
  },
  {
   "cell_type": "code",
   "execution_count": 29,
   "metadata": {},
   "outputs": [],
   "source": [
    "df_group = df_rf.select('start_neighborhood', 'end_neighborhood', 'day', 'time_bin', 'peak_commute', 'month', 'hour')#.avg('tripduration')"
   ]
  },
  {
   "cell_type": "markdown",
   "metadata": {},
   "source": [
    "## Start modeling pre-processing\n",
    "- Predict end neighborhood from the start neighborhood, day of the week, time bin (morning, evening, etc.), whether the ride started at peak commute, and the month in which it was taken."
   ]
  },
  {
   "cell_type": "markdown",
   "metadata": {},
   "source": [
    "### Create the pipeline to transform the data for modeling"
   ]
  },
  {
   "cell_type": "code",
   "execution_count": null,
   "metadata": {},
   "outputs": [],
   "source": [
    "from pyspark.ml import Pipeline\n",
    "from pyspark.ml.feature import StringIndexer, OneHotEncoder, VectorAssembler\n",
    "\n",
    "cats = ['day', 'time_bin', 'peak_commute', 'month', 'start_neighborhood']\n",
    "\n",
    "# The index of string vlaues multiple columns\n",
    "indexers = [\n",
    "    StringIndexer(inputCol=c, outputCol=\"{0}_indexed\".format(c))\n",
    "    for c in cats\n",
    "]\n",
    "\n",
    "# The encode of indexed vlaues multiple columns\n",
    "encoders = [OneHotEncoder(dropLast=False,inputCol=indexer.getOutputCol(),\n",
    "            outputCol=\"{0}_encoded\".format(indexer.getOutputCol())) \n",
    "    for indexer in indexers\n",
    "]\n",
    "\n",
    "# Vectorizing encoded values\n",
    "assembler = VectorAssembler(inputCols=[encoder.getOutputCol() for encoder in encoders],outputCol=\"features\")\n",
    "\n",
    "label_indexer = StringIndexer(inputCol='end_neighborhood', outputCol= 'n_index')\n",
    "\n",
    "label_encoder = OneHotEncoder(inputCol='n_index',outputCol= 'label')\n",
    "                              \n",
    "#label_assember = VectorAssembler(inputCols=,outputCol=\"label\")\n",
    "\n",
    "pipeline = Pipeline(stages=indexers + [label_indexer] + encoders+ [label_encoder] + [assembler])\n",
    "model=pipeline.fit(df_group)\n",
    "transformed = model.transform(df_group)\n",
    "transformed.show(5)"
   ]
  },
  {
   "cell_type": "markdown",
   "metadata": {},
   "source": [
    "**To avoid having to transform the data over and over, I saved the data to parquet files and loaded from there.**"
   ]
  },
  {
   "cell_type": "code",
   "execution_count": 30,
   "metadata": {},
   "outputs": [],
   "source": [
    "#transformed.write.parquet(\"pipelined_data_NBs.parquet\")"
   ]
  },
  {
   "cell_type": "code",
   "execution_count": 31,
   "metadata": {},
   "outputs": [],
   "source": [
    "transformed = spark.read.parquet(\"pipelined_data_NBs.parquet\");"
   ]
  },
  {
   "cell_type": "markdown",
   "metadata": {},
   "source": [
    "#### Split the transformed data:"
   ]
  },
  {
   "cell_type": "code",
   "execution_count": 33,
   "metadata": {},
   "outputs": [],
   "source": [
    "from pyspark.ml.feature import VectorAssembler, OneHotEncoder\n",
    "from pyspark.ml.classification import RandomForestClassifier\n",
    "\n",
    "#randomly split data into training and test dataset\n",
    "(train_data, test_data, hold_out) = transformed.randomSplit([0.60, 0.20, 0.20], seed = 33)"
   ]
  },
  {
   "cell_type": "code",
   "execution_count": 34,
   "metadata": {},
   "outputs": [
    {
     "name": "stdout",
     "output_type": "stream",
     "text": [
      "+--------------------+--------------------+--------+---------+------------+-----+----+-----------+----------------+--------------------+-------------+--------------------------+-------+-------------------+------------------------+----------------------------+---------------------+----------------------------------+-------------+--------------------+\n",
      "|  start_neighborhood|    end_neighborhood|     day| time_bin|peak_commute|month|hour|day_indexed|time_bin_indexed|peak_commute_indexed|month_indexed|start_neighborhood_indexed|n_index|day_indexed_encoded|time_bin_indexed_encoded|peak_commute_indexed_encoded|month_indexed_encoded|start_neighborhood_indexed_encoded|        label|            features|\n",
      "+--------------------+--------------------+--------+---------+------------+-----+----+-----------+----------------+--------------------+-------------+--------------------------+-------+-------------------+------------------------+----------------------------+---------------------+----------------------------------+-------------+--------------------+\n",
      "|Central Park East...|Central Park East...|Thursday|  Evening|        peak|    5|  17|        3.0|             1.0|                 1.0|          1.0|                       2.0|    2.0|      (7,[3],[1.0])|           (4,[1],[1.0])|               (2,[1],[1.0])|       (12,[1],[1.0])|                    (10,[2],[1.0])|(9,[2],[1.0])|(35,[3,8,12,14,27...|\n",
      "|   Midtown Manhattan|  Downtown Manhattan|Thursday|Afternoon|    non_peak|    5|  12|        3.0|             0.0|                 0.0|          1.0|                       0.0|    1.0|      (7,[3],[1.0])|           (4,[0],[1.0])|               (2,[0],[1.0])|       (12,[1],[1.0])|                    (10,[0],[1.0])|(9,[1],[1.0])|(35,[3,7,11,14,25...|\n",
      "|              Queens|              Queens|  Sunday|  Morning|    non_peak|    5|   8|        6.0|             2.0|                 0.0|          1.0|                       6.0|    6.0|      (7,[6],[1.0])|           (4,[2],[1.0])|               (2,[0],[1.0])|       (12,[1],[1.0])|                    (10,[6],[1.0])|(9,[6],[1.0])|(35,[6,9,11,14,31...|\n",
      "|              Queens|              Queens|Saturday|  Morning|    non_peak|    5|   8|        4.0|             2.0|                 0.0|          1.0|                       6.0|    6.0|      (7,[4],[1.0])|           (4,[2],[1.0])|               (2,[0],[1.0])|       (12,[1],[1.0])|                    (10,[6],[1.0])|(9,[6],[1.0])|(35,[4,9,11,14,31...|\n",
      "|              Queens|              Queens|  Sunday|  Morning|    non_peak|    5|   8|        6.0|             2.0|                 0.0|          1.0|                       6.0|    6.0|      (7,[6],[1.0])|           (4,[2],[1.0])|               (2,[0],[1.0])|       (12,[1],[1.0])|                    (10,[6],[1.0])|(9,[6],[1.0])|(35,[6,9,11,14,31...|\n",
      "+--------------------+--------------------+--------+---------+------------+-----+----+-----------+----------------+--------------------+-------------+--------------------------+-------+-------------------+------------------------+----------------------------+---------------------+----------------------------------+-------------+--------------------+\n",
      "only showing top 5 rows\n",
      "\n"
     ]
    }
   ],
   "source": [
    "transformed.show(5)"
   ]
  },
  {
   "cell_type": "markdown",
   "metadata": {},
   "source": [
    "# LR Model with Cross Validation"
   ]
  },
  {
   "cell_type": "markdown",
   "metadata": {},
   "source": [
    "### Run the model on the training data; too many folds in the CV process and too many grid elements proved to be computationally expensive, so I scaled back"
   ]
  },
  {
   "cell_type": "code",
   "execution_count": 35,
   "metadata": {},
   "outputs": [],
   "source": [
    "from pyspark.ml.classification import LogisticRegression\n",
    "from pyspark.ml.tuning import ParamGridBuilder, CrossValidator"
   ]
  },
  {
   "cell_type": "code",
   "execution_count": 36,
   "metadata": {},
   "outputs": [],
   "source": [
    "lr = LogisticRegression(labelCol=\"n_index\", featuresCol=\"features\", maxIter=10, regParam=0.3, elasticNetParam=0)\n",
    "\n",
    "evaluator = MulticlassClassificationEvaluator(\n",
    "    labelCol=\"n_index\", predictionCol=\"prediction\", metricName=\"accuracy\")\n",
    "\n",
    "# Create ParamGrid for Cross Validation\n",
    "\n",
    "paramGrid = (ParamGridBuilder()\n",
    "             .addGrid(lr.regParam, [0.3, 0.5]) # regularization parameter\n",
    "             .addGrid(lr.elasticNetParam, [0.0, 0.5, 1]) # Elastic Net Parameter (Ridge = 0)\n",
    "#            .addGrid(model.maxIter, [10, 20, 50]) #Number of iterations\n",
    "#            .addGrid(idf.numFeatures, [10, 100, 1000]) # Number of features\n",
    "             .build())\n",
    "\n",
    "# Create 3-fold CrossValidator\n",
    "cv = CrossValidator(estimator=lr, \\\n",
    "                    estimatorParamMaps=paramGrid, \\\n",
    "                    evaluator=evaluator, \\\n",
    "                    numFolds=3)\n",
    "\n",
    "cvModel = cv.fit(train_data)"
   ]
  },
  {
   "cell_type": "markdown",
   "metadata": {},
   "source": [
    "### Save the model and predict on the test data"
   ]
  },
  {
   "cell_type": "code",
   "execution_count": 39,
   "metadata": {},
   "outputs": [],
   "source": [
    "cvModel.save(\"lr_nbs\")"
   ]
  },
  {
   "cell_type": "code",
   "execution_count": 42,
   "metadata": {},
   "outputs": [],
   "source": [
    "predictions = cvModel.transform(test_data)"
   ]
  },
  {
   "cell_type": "code",
   "execution_count": 45,
   "metadata": {},
   "outputs": [],
   "source": [
    "predictions.write.parquet(\"lr_preds_NBs.parquet\")"
   ]
  },
  {
   "cell_type": "markdown",
   "metadata": {},
   "source": [
    "### Important output files are saved for later analysis so this model does not have to be run again. "
   ]
  }
 ],
 "metadata": {
  "kernelspec": {
   "display_name": "DS 5110",
   "language": "python",
   "name": "ds5110"
  },
  "language_info": {
   "codemirror_mode": {
    "name": "ipython",
    "version": 3
   },
   "file_extension": ".py",
   "mimetype": "text/x-python",
   "name": "python",
   "nbconvert_exporter": "python",
   "pygments_lexer": "ipython3",
   "version": "3.7.10"
  }
 },
 "nbformat": 4,
 "nbformat_minor": 5
}
