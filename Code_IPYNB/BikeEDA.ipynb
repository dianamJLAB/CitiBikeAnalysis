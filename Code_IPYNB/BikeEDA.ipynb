{
 "cells": [
  {
   "cell_type": "markdown",
   "metadata": {},
   "source": [
    "# This notebook is dedicated to CitiBike/Weather/Real Estate EDA "
   ]
  },
  {
   "cell_type": "markdown",
   "metadata": {},
   "source": [
    "## Setting Configurations"
   ]
  },
  {
   "cell_type": "code",
   "execution_count": 63,
   "metadata": {},
   "outputs": [],
   "source": [
    "from pyspark.sql import SparkSession\n",
    "\n",
    "from pyspark.mllib.stat import Statistics as stat\n",
    "from pyspark.sql.functions import desc, asc\n",
    "from pyspark.sql.functions import explode\n",
    "from pyspark.sql import functions as F\n",
    "from pyspark.ml import Pipeline\n",
    "from pyspark.ml.feature import Bucketizer\n",
    "from pyspark.sql.functions import udf\n",
    "import numpy as np\n",
    "import seaborn as sns\n",
    "\n",
    "from itertools import chain\n",
    "from pyspark.sql.functions import create_map, lit\n",
    "from pyspark.mllib.classification import LogisticRegressionWithLBFGS, LogisticRegressionModel\n",
    "from pyspark.mllib.regression import LabeledPoint\n",
    "from pyspark.ml.feature import VectorAssembler \n",
    "from pyspark.mllib.linalg import Vectors\n",
    "from pyspark.mllib.evaluation import MulticlassMetrics\n",
    "from pyspark.ml.feature import StandardScaler\n",
    "from pyspark.sql.functions import round, col\n",
    "import seaborn as sb\n",
    "import matplotlib.pyplot as plt\n",
    "import pyarrow.parquet as pq\n",
    "\n",
    "# Necessary for distance calculations\n",
    "from math import sin, cos, sqrt, atan2, radians    \n",
    "from pyspark.sql.functions import col, radians, asin, sin, sqrt, cos\n",
    "\n",
    "# set configurations\n",
    "from pyspark import SparkConf, SparkContext\n",
    "from pyspark.sql.types import DoubleType, StringType\n",
    "\n",
    "import pandas as pd\n",
    "import os"
   ]
  },
  {
   "cell_type": "code",
   "execution_count": 64,
   "metadata": {},
   "outputs": [],
   "source": [
    "conf = SparkConf().setMaster(\"local[*]\").setAppName(\"weatherwork\")\n",
    "sc = SparkContext.getOrCreate(conf=conf)"
   ]
  },
  {
   "cell_type": "code",
   "execution_count": 65,
   "metadata": {},
   "outputs": [],
   "source": [
    "spark = SparkSession.builder \\\n",
    "        .appName(\"comm\") \\\n",
    "        .getOrCreate()"
   ]
  },
  {
   "cell_type": "code",
   "execution_count": 66,
   "metadata": {},
   "outputs": [],
   "source": [
    "spark = SparkSession.builder \\\n",
    "        .appName(\"bike\") \\\n",
    "        .getOrCreate()\n",
    "%matplotlib inline"
   ]
  },
  {
   "cell_type": "code",
   "execution_count": 5,
   "metadata": {},
   "outputs": [],
   "source": [
    "#Spark session\n",
    "#spark = SparkSession.builder \\\n",
    "#        .appName(\"model\") \\\n",
    "#        .config(\"spark.executor.memory\", '18g') \\\n",
    "#        .config('spark.executor.cores', '6') \\\n",
    "#        .config('spark.executor.instances', '29') \\\n",
    "#        .getOrCreate()"
   ]
  },
  {
   "cell_type": "markdown",
   "metadata": {},
   "source": [
    "### Reading in the data"
   ]
  },
  {
   "cell_type": "code",
   "execution_count": 67,
   "metadata": {},
   "outputs": [],
   "source": [
    "df = spark.read.parquet(\"/project/ds5559/Summer2021_TeamBike/master_dataset.parquet\")"
   ]
  },
  {
   "cell_type": "code",
   "execution_count": null,
   "metadata": {},
   "outputs": [],
   "source": []
  },
  {
   "cell_type": "code",
   "execution_count": 7,
   "metadata": {},
   "outputs": [
    {
     "name": "stdout",
     "output_type": "stream",
     "text": [
      "+--------+----------+--------------+-------------------+--------------------+---------------------+----------+----+------------+--------------------+------------+-------------------+------------------+-------------------+-------+--------+---------+------+------+----------+--------+--------+--------+--------+----------+-------+-------+-------+-------+----------+------------+---+------+-----+--------+------------+----+---------+---------+---------+--------------------+--------------------+--------+------------------+------------------+----------------------+----------------------+----------------------+-------------------+------------------+-------------------+------------------+--------------------+\n",
      "| Borough|month_year|startStationId|   startStationName|startStationLatitude|startStationLongitude|      date|hour|tripduration|           starttime|endStationId|     endStationName|endStationLatitude|endStationLongitude| bikeid|usertype|birthyear|gender|  temp|feels_like|temp_min|temp_max|pressure|humidity|wind_speed|rain_1h|rain_3h|snow_1h|snow_3h|clouds_all|weather_main|dow|   day|month|time_bin|peak_commute|year|3h_precip|1h_precip|   precip|      start_lat_long|        end_lat_long|zipcodes|avg_days_on_market|avg_discount_share|avg_median_sales_price|avg_median_asking_sale|avg_median_asking_rent|avg_price_cut_share|  avg_sales_volume|avg_sales_inventory|avg_rent_inventory|avg_sales_list_ratio|\n",
      "+--------+----------+--------------+-------------------+--------------------+---------------------+----------+----+------------+--------------------+------------+-------------------+------------------+-------------------+-------+--------+---------+------+------+----------+--------+--------+--------+--------+----------+-------+-------+-------+-------+----------+------------+---+------+-----+--------+------------+----+---------+---------+---------+--------------------+--------------------+--------+------------------+------------------+----------------------+----------------------+----------------------+-------------------+------------------+-------------------+------------------+--------------------+\n",
      "|Brooklyn|   2020-06|          3419|Douglass St & 4 Ave|   40.67927879999999|         -73.98154004|2020-06-01|   0|        1062|2020-06-01 00:00:...|      3419.0|Douglass St & 4 Ave| 40.67927879999999|       -73.98154004|39852.0|Customer|     1997|   2.0|64.292|     57.38|  62.006|  62.006|    1018|      43|      3.93|    0.0|    0.0|    0.0|    0.0|         1|       Clear|  2|Monday|  Jun|   Night|    non_peak|2020|      0.0|      0.0|no_precip|[40.6792787999999...|[40.6792787999999...|   11217| 90.31829652996842|0.1875610615471485|     854338.1216332259|    1057032.5681996944|     2549.918969486926|0.08441581266425231|38.345454545454544|  241.6909090909091|1002.4363636363636|  0.9601094091903719|\n",
      "+--------+----------+--------------+-------------------+--------------------+---------------------+----------+----+------------+--------------------+------------+-------------------+------------------+-------------------+-------+--------+---------+------+------+----------+--------+--------+--------+--------+----------+-------+-------+-------+-------+----------+------------+---+------+-----+--------+------------+----+---------+---------+---------+--------------------+--------------------+--------+------------------+------------------+----------------------+----------------------+----------------------+-------------------+------------------+-------------------+------------------+--------------------+\n",
      "only showing top 1 row\n",
      "\n"
     ]
    }
   ],
   "source": [
    "df.show(1)"
   ]
  },
  {
   "cell_type": "markdown",
   "metadata": {},
   "source": [
    "#### Exploring some variables before altering the dataset "
   ]
  },
  {
   "cell_type": "code",
   "execution_count": 8,
   "metadata": {},
   "outputs": [
    {
     "name": "stdout",
     "output_type": "stream",
     "text": [
      "+------+--------+\n",
      "|gender|   count|\n",
      "+------+--------+\n",
      "|   0.0| 3742634|\n",
      "|  null| 7269482|\n",
      "|   2.0|10880886|\n",
      "|   1.0|27501218|\n",
      "+------+--------+\n",
      "\n",
      "+------+--------+------------------+\n",
      "|gender|   count|           percent|\n",
      "+------+--------+------------------+\n",
      "|   0.0| 3742634| 7.577068733953082|\n",
      "|  null| 7269482|14.717272587764318|\n",
      "|   1.0|27501218|55.676996215346655|\n",
      "|   2.0|10880886|22.028662462935948|\n",
      "+------+--------+------------------+\n",
      "\n"
     ]
    }
   ],
   "source": [
    "total = df.count()\n",
    "df.groupby('gender').count().sort(\"count\").show()\n",
    "# Gender(Zero=unknown; 1=male; 2=female)... Null? \n",
    "\n",
    "df.groupBy(\"gender\") \\\n",
    "  .count() \\\n",
    "  .withColumn('percent', (F.col('count') / total) * 100 ) \\\n",
    "  .show()"
   ]
  },
  {
   "cell_type": "markdown",
   "metadata": {},
   "source": [
    "The gender variable in this dataset turned out to be not very useful. There were almost 4 million observations that were unknown, and over 7 million null observations. There also was almost 3 times as many males than there were females which made us believe male was some sort of default value. However, when we went in to create a Citibike account, there actually was no default value, and Citibike had changed from asking their customers for their genders, to asking them for their pronouns. With the disparity in the actual data, and the fact that the Citibike changed the question they asked, we decided to drop this variable. "
   ]
  },
  {
   "cell_type": "code",
   "execution_count": 9,
   "metadata": {},
   "outputs": [
    {
     "name": "stdout",
     "output_type": "stream",
     "text": [
      "+---------+------+--------------------+\n",
      "|birthyear| count|             percent|\n",
      "+---------+------+--------------------+\n",
      "|   2005.0|     2|4.049056751984341...|\n",
      "|   2004.0|  1008|0.002040724603000108|\n",
      "|     2004|  7159| 0.01449359864372795|\n",
      "|   2003.0|  2115|0.004281877515223441|\n",
      "|     2003| 37318| 0.07555134993527582|\n",
      "|   2002.0|  4905|0.009930311684241598|\n",
      "|     2002| 95942| 0.19423730144944085|\n",
      "|   2001.0|  7058|0.014289121277752743|\n",
      "|     2001|174094| 0.35245824308998097|\n",
      "|   2000.0|  9591|0.019417251654140908|\n",
      "|     2000|291324|  0.5897937046075431|\n",
      "|   1999.0|  9384| 0.01899817428031053|\n",
      "|     1999|339773|  0.6878800798959879|\n",
      "|   1998.0| 10401| 0.02105711963869457|\n",
      "|     1998|389344|  0.7882379760222957|\n",
      "|   1997.0| 16123| 0.03264147100612177|\n",
      "|     1997|549442|  1.1123609199618902|\n",
      "|   1996.0| 21771| 0.04407600727372555|\n",
      "|     1996|813447|  1.6468465338657035|\n",
      "|   1995.0| 27234| 0.05513600579177078|\n",
      "+---------+------+--------------------+\n",
      "only showing top 20 rows\n",
      "\n",
      "+---------+-------+--------------------+\n",
      "|birthyear|  count|             percent|\n",
      "+---------+-------+--------------------+\n",
      "|     null|7269482|  14.717272587764318|\n",
      "|     1857|      6|1.214717025595302...|\n",
      "|     1863|      2|4.049056751984341...|\n",
      "|   1866.0|      1|2.024528375992170...|\n",
      "|     1873|     45|9.110377691964769E-5|\n",
      "|     1874|      6|1.214717025595302...|\n",
      "|     1879|      1|2.024528375992170...|\n",
      "|     1880|      1|2.024528375992170...|\n",
      "|     1884|     13|2.631886888789822E-5|\n",
      "|     1885|    464|9.393811664603672E-4|\n",
      "|   1885.0|     13|2.631886888789822E-5|\n",
      "|     1886|    458|9.272339962044143E-4|\n",
      "|   1886.0|      3|6.073585127976512E-6|\n",
      "|     1887|    657|0.001330115143026...|\n",
      "|     1888|   2067|0.004184700153175817|\n",
      "|   1888.0|     32|6.478490803174946E-5|\n",
      "|     1889|    659|0.001334164199778...|\n",
      "|   1889.0|      8|1.619622700793736...|\n",
      "|     1890|   1076|0.002178392532567576|\n",
      "|   1890.0|     20|4.049056751984341...|\n",
      "+---------+-------+--------------------+\n",
      "only showing top 20 rows\n",
      "\n"
     ]
    }
   ],
   "source": [
    "#df.groupby('birthyear').count().sort(\"count\").show()\n",
    "# NOT required when signing up; but also no default\n",
    "\n",
    "df.groupBy(\"birthyear\") \\\n",
    "  .count().sort(desc(\"birthyear\")) \\\n",
    "  .withColumn('percent', (F.col('count') / total) * 100 ) \\\n",
    "  .show()\n",
    "\n",
    "df.groupBy(\"birthyear\") \\\n",
    "  .count().sort(asc(\"birthyear\")) \\\n",
    "  .withColumn('percent', (F.col('count') / total) * 100 ) \\\n",
    "  .show()"
   ]
  },
  {
   "cell_type": "markdown",
   "metadata": {},
   "source": [
    "Note: The birthyear variable has birth years that range from 1857 to 2005. For now, we have grouped all of the dates prior to 1940 into \">1940\". We will eventually bin these dates in groups of 10. "
   ]
  },
  {
   "cell_type": "code",
   "execution_count": 10,
   "metadata": {},
   "outputs": [
    {
     "name": "stdout",
     "output_type": "stream",
     "text": [
      "+-------+-----+\n",
      "| bikeid|count|\n",
      "+-------+-----+\n",
      "|42938.0|    1|\n",
      "|37967.0|    1|\n",
      "|35605.0|    1|\n",
      "|44779.0|    1|\n",
      "|29515.0|    1|\n",
      "|37952.0|    1|\n",
      "|44790.0|    1|\n",
      "|44769.0|    1|\n",
      "|38002.0|    1|\n",
      "|49847.0|    1|\n",
      "|42068.0|    1|\n",
      "|44752.0|    1|\n",
      "|31041.0|    1|\n",
      "|34839.0|    1|\n",
      "|45335.0|    1|\n",
      "|42497.0|    1|\n",
      "|45441.0|    1|\n",
      "|26181.0|    1|\n",
      "|44329.0|    1|\n",
      "|34924.0|    1|\n",
      "+-------+-----+\n",
      "only showing top 20 rows\n",
      "\n",
      "+-------+-------+--------------------+\n",
      "| bikeid|  count|             percent|\n",
      "+-------+-------+--------------------+\n",
      "|   null|7269482|  14.717272587764318|\n",
      "|34000.0|   5485|0.011104538142317056|\n",
      "|33800.0|   5480|0.011094415500437094|\n",
      "|34088.0|   5415|0.010962821155997605|\n",
      "|34187.0|   5361|0.010853496623694028|\n",
      "|34059.0|   5313|0.010756319261646403|\n",
      "|33892.0|   5307| 0.01074417209139045|\n",
      "|33973.0|   5284| 0.01069760793874263|\n",
      "|34266.0|   5250|0.010628773973958897|\n",
      "|33915.0|   5225|0.010578160764559091|\n",
      "|34090.0|   5211|0.010549817367295202|\n",
      "|34396.0|   5207|0.010541719253791233|\n",
      "|34192.0|   5192| 0.01051135132815135|\n",
      "|33929.0|   5185|0.010497179629519406|\n",
      "|34295.0|   5160|0.010446566420119601|\n",
      "|34042.0|   5159| 0.01044454189174361|\n",
      "|34156.0|   5157|0.010440492834991624|\n",
      "|33958.0|   5145|0.010416198494479719|\n",
      "|34275.0|   5144|0.010414173966103725|\n",
      "|33968.0|   5135|0.010395953210719797|\n",
      "+-------+-------+--------------------+\n",
      "only showing top 20 rows\n",
      "\n"
     ]
    }
   ],
   "source": [
    "df.groupby('bikeid').count().sort(\"count\").show()\n",
    "# Gender(Zero=unknown; 1=male; 2=female)... Null? \n",
    "\n",
    "df.groupBy(\"bikeid\") \\\n",
    "  .count().sort(desc(\"count\")) \\\n",
    "  .withColumn('percent', (F.col('count') / total) * 100 ) \\\n",
    "  .show()"
   ]
  },
  {
   "cell_type": "code",
   "execution_count": 11,
   "metadata": {},
   "outputs": [
    {
     "name": "stdout",
     "output_type": "stream",
     "text": [
      "+----------+--------+\n",
      "|  usertype|   count|\n",
      "+----------+--------+\n",
      "|    member| 5483991|\n",
      "|  Customer| 7124164|\n",
      "|Subscriber|36786065|\n",
      "+----------+--------+\n",
      "\n"
     ]
    }
   ],
   "source": [
    "df.groupby('usertype').count().sort(\"count\").show()\n",
    "#User Type(Customer = 24-hour pass or 3-day pass user; Subscriber = Annual Member)"
   ]
  },
  {
   "cell_type": "markdown",
   "metadata": {},
   "source": [
    "### Changing the dataset"
   ]
  },
  {
   "cell_type": "markdown",
   "metadata": {},
   "source": [
    "#### Adding the \"good\" and \"bad\" weather variables"
   ]
  },
  {
   "cell_type": "code",
   "execution_count": 68,
   "metadata": {},
   "outputs": [],
   "source": [
    "\n",
    "# load the broadcast variables from csv\n",
    "# duration by station and month\n",
    "durationByStationMonth_filepath = \"/project/ds5559/Summer2021_TeamBike/broadcastMonthStationDuration.csv\"\n",
    "df_durationByStationMonth = spark.read.csv(durationByStationMonth_filepath).rdd.collectAsMap()\n",
    "#for x in list(df_durationByStationMonth)[0:3]:\n",
    "#    print (\"key {}, value {} \".format(x,  df_durationByStationMonth[x]))\n",
    "bc_durationByStationMonth = sc.broadcast(df_durationByStationMonth)\n",
    "# duration by station and month and good/bad weather\n",
    "goodBadDurationByStationMonth_filepath = \"/project/ds5559/Summer2021_TeamBike/broadcastMonthStationWeatherGoodBadDuration.csv\"\n",
    "df_goodBadDurationByStationMonth = spark.read.csv(goodBadDurationByStationMonth_filepath).rdd.collectAsMap()\n",
    "#for x in list(df_goodBadDurationByStationMonth)[0:3]:\n",
    "#    print (\"key {}, value {} \".format(x,  df_goodBadDurationByStationMonth[x]))\n",
    "bc_goodBadDurationByStationMonth = sc.broadcast(df_goodBadDurationByStationMonth)\n",
    "# to add columns with the GOOD and bad weather duration indexes\n",
    "from pyspark.sql.functions import col\n",
    "@udf(returnType=DoubleType())\n",
    "def setweatherGoodDurationIndex(month : str, startStationName : str):\n",
    "    averageDuration = bc_durationByStationMonth.value.get(month + \"-\" + startStationName)\n",
    "    goodDuration= bc_goodBadDurationByStationMonth.value.get(month + \"-\" + startStationName + \"GOOD\")\n",
    "    if goodDuration is None:\n",
    "        # if the dictionary doesn't have a good duration value, use the average trips\n",
    "        goodDuration = averageDuration\n",
    "    index_value = float(goodDuration) / float(averageDuration)\n",
    "    return index_value\n",
    "@udf(returnType=DoubleType())\n",
    "def setweatherBadDurationIndex(month : str, startStationName : str):\n",
    "    averageDuration = bc_durationByStationMonth.value.get(month + \"-\" + startStationName)\n",
    "    badDuration= bc_goodBadDurationByStationMonth.value.get(month + \"-\" + startStationName + \"BAD\")\n",
    "    if badDuration is None:\n",
    "        # if the dictionary doesn't have a bad duration value, use the average trips\n",
    "        badDuration = averageDuration\n",
    "    index_value = float(badDuration) / float(averageDuration)\n",
    "    return index_value\n",
    "# load the standard data file with only the columns I am interested in using:\n",
    "# THE IS THE FINAL DATA FILE\n",
    "file = \"/project/ds5559/Summer2021_TeamBike/master_dataset.parquet\" \n",
    "df = spark.read.parquet(file)\n",
    "df = df.withColumn(\"weatherGoodDurationIndex\", setweatherGoodDurationIndex(col(\"month\"), col(\"startStationName\")))\n",
    "df = df.withColumn(\"weatherBadDurationIndex\", setweatherBadDurationIndex(col(\"month\"), col(\"startStationName\")))\n"
   ]
  },
  {
   "cell_type": "markdown",
   "metadata": {},
   "source": [
    "#### Droping the gender variable\n",
    "* For this analysis, we decided to drop the gender variable. the first reason was because there were over 7 million null values and almost 4 million unknown values. The second reason was after actually signing up for a CitiBike account to see what was defaulted gender is set to, I noticed it required a pronoun instead of a gender. At this point we thought this variable was moot to the analysis. "
   ]
  },
  {
   "cell_type": "code",
   "execution_count": 69,
   "metadata": {},
   "outputs": [],
   "source": [
    "df = df.drop(F.col(\"gender\"))"
   ]
  },
  {
   "cell_type": "code",
   "execution_count": 70,
   "metadata": {},
   "outputs": [],
   "source": [
    "#print(len(df.columns))\n",
    "#df.printSchema()"
   ]
  },
  {
   "cell_type": "markdown",
   "metadata": {},
   "source": [
    "#### Changing usertype variable observations\n",
    "* A couple of years ago, CitiBike started referring to their annual subscripbers as a \"member\" when they used to be called a \"subscriber\" to make this more simple, we decided to group both the \"members\" and \"subscribers\" into one observation type called \"annual\", and changed the original \"customer\" to \"daily. "
   ]
  },
  {
   "cell_type": "code",
   "execution_count": 71,
   "metadata": {},
   "outputs": [],
   "source": [
    "userDict = {'member':'annual','Subscriber':'annual','Customer':'daily'}\n",
    "df = df.replace(userDict,subset=['usertype'])"
   ]
  },
  {
   "cell_type": "code",
   "execution_count": 72,
   "metadata": {},
   "outputs": [
    {
     "name": "stdout",
     "output_type": "stream",
     "text": [
      "+--------+\n",
      "|usertype|\n",
      "+--------+\n",
      "|   daily|\n",
      "|  annual|\n",
      "|   daily|\n",
      "|   daily|\n",
      "|  annual|\n",
      "|  annual|\n",
      "|  annual|\n",
      "|   daily|\n",
      "|   daily|\n",
      "|  annual|\n",
      "|  annual|\n",
      "|  annual|\n",
      "|   daily|\n",
      "|  annual|\n",
      "|  annual|\n",
      "|  annual|\n",
      "|   daily|\n",
      "|  annual|\n",
      "|   daily|\n",
      "|  annual|\n",
      "+--------+\n",
      "only showing top 20 rows\n",
      "\n"
     ]
    }
   ],
   "source": [
    "df.select(['usertype']).show()\n",
    "#df.printSchema()"
   ]
  },
  {
   "cell_type": "code",
   "execution_count": 73,
   "metadata": {},
   "outputs": [
    {
     "name": "stdout",
     "output_type": "stream",
     "text": [
      "+--------+--------+\n",
      "|usertype|   count|\n",
      "+--------+--------+\n",
      "|   daily| 7124164|\n",
      "|  annual|42270056|\n",
      "+--------+--------+\n",
      "\n"
     ]
    }
   ],
   "source": [
    "df.groupby('usertype').count().sort(\"count\").show()\n",
    "#User Type(Customer = 24-hour pass or 3-day pass user; Subscriber = Annual Member)"
   ]
  },
  {
   "cell_type": "markdown",
   "metadata": {},
   "source": [
    "#### Changing tripduration variable from seconds to minutes\n",
    "* Minutes were easier for us to take a  quick look at data points and understand how long a bike ride was, but we could not do this with seconds so we converted between the two. After I added the tripduration_minute vairable, I was able to drop the orginal tripduration variable. We also decided to bin anything that was over 8 hours into one observation type. We did this because unless you are working all day and decide to lock the bike up not at a station, it would be rare for someone to have a bike for longer that 8 hours.  "
   ]
  },
  {
   "cell_type": "code",
   "execution_count": 74,
   "metadata": {},
   "outputs": [
    {
     "name": "stdout",
     "output_type": "stream",
     "text": [
      "+-------+-------------------+\n",
      "|summary|tripduration_minute|\n",
      "+-------+-------------------+\n",
      "|  count|           49394220|\n",
      "|   mean| 18.305129223284123|\n",
      "| stddev| 204.05231864630437|\n",
      "|    min|           -10008.9|\n",
      "|    max|          165074.55|\n",
      "+-------+-------------------+\n",
      "\n"
     ]
    }
   ],
   "source": [
    "#df.select('tripduration').describe().show() # negatives\n",
    "#df.groupby('tripduration').count().sort(asc(\"tripduration\")).show(250)\n",
    "\n",
    "# need to drop negative seconds?\n",
    "df = df.withColumn(\"tripduration_minute\", (df.tripduration / 60))\n",
    "\n",
    "df.select('tripduration_minute').describe().show()\n",
    "\n",
    "#df = df.withColumn(\"tripduration_hour\", (df.tripduration_minute / 60))\n",
    "\n",
    "#df.select('tripduration_hour').describe().show()"
   ]
  },
  {
   "cell_type": "code",
   "execution_count": 75,
   "metadata": {},
   "outputs": [],
   "source": [
    "df = df.drop(F.col(\"tripduration\"))"
   ]
  },
  {
   "cell_type": "code",
   "execution_count": 76,
   "metadata": {},
   "outputs": [
    {
     "data": {
      "text/plain": [
       "8861"
      ]
     },
     "execution_count": 76,
     "metadata": {},
     "output_type": "execute_result"
    }
   ],
   "source": [
    "\n",
    "\n",
    "df.filter(F.col(\"tripduration_minute\") <= 0).count()"
   ]
  },
  {
   "cell_type": "code",
   "execution_count": 77,
   "metadata": {},
   "outputs": [
    {
     "data": {
      "text/plain": [
       "44387"
      ]
     },
     "execution_count": 77,
     "metadata": {},
     "output_type": "execute_result"
    }
   ],
   "source": [
    "df.filter(col(\"tripduration_minute\") > 480).count()"
   ]
  },
  {
   "cell_type": "code",
   "execution_count": 78,
   "metadata": {},
   "outputs": [],
   "source": [
    "#df = df.filter(((F.col(\"tripduration_minute\") <= 0)))\n",
    "#df1=df.where(\"tripduration_minute <= 0\")\n",
    "#df_orders1.show()\n",
    "\n",
    "df = df.withColumn(\"tripduration_minute\", F.when(F.col(\"tripduration_minute\") > 0, F.col(\"tripduration_minute\")).otherwise(\"0\"))\n",
    "\n",
    "#df.groupby('tripduration_minute').count().sort(asc(\"tripduration_minute\")).show(10)\n",
    "#df.groupby('tripduration_minute').count().sort(desc(\"tripduration_minute\")).show(10)\n",
    "\n",
    "#df.filter(col(\"tripduration_minute\") >= 480).count()\n",
    "#df = df.withColumn(\"tripduration_minute\", F.when(F.col(\"tripduration_minute\") < 480, F.col(\"tripduration_minute\")).otherwise(\"0\"))\n",
    "\n"
   ]
  },
  {
   "cell_type": "code",
   "execution_count": 79,
   "metadata": {},
   "outputs": [],
   "source": [
    "df = df.withColumn(\"tripduration_minute\", F.when(F.col(\"tripduration_minute\") < 480, F.col(\"tripduration_minute\")).otherwise(\"0.0\"))\n",
    "#df.groupby('tripduration_minute').count().sort(desc(\"tripduration_minute\")).show(10)"
   ]
  },
  {
   "cell_type": "code",
   "execution_count": 80,
   "metadata": {},
   "outputs": [
    {
     "name": "stdout",
     "output_type": "stream",
     "text": [
      "+--------------------+-----+\n",
      "| tripduration_minute|count|\n",
      "+--------------------+-----+\n",
      "|                   0| 8861|\n",
      "|                 0.0|44389|\n",
      "|0.016666666666666666| 1199|\n",
      "| 0.03333333333333333| 2686|\n",
      "|                0.05| 5698|\n",
      "| 0.06666666666666667| 4433|\n",
      "| 0.08333333333333333| 2978|\n",
      "|                 0.1| 2604|\n",
      "| 0.11666666666666667| 2434|\n",
      "| 0.13333333333333333| 2319|\n",
      "+--------------------+-----+\n",
      "only showing top 10 rows\n",
      "\n"
     ]
    }
   ],
   "source": [
    "#df.groupby('tripduration_minute').count().sort(desc(\"tripduration_minute\")).show(10)\n",
    "df.groupby('tripduration_minute').count().sort(asc('tripduration_minute')).show(10)"
   ]
  },
  {
   "cell_type": "markdown",
   "metadata": {},
   "source": [
    "\n",
    "#### Adding distances"
   ]
  },
  {
   "cell_type": "code",
   "execution_count": 81,
   "metadata": {},
   "outputs": [
    {
     "name": "stdout",
     "output_type": "stream",
     "text": [
      "+------------------+------------------+-------------------+-------------------+\n",
      "|startRadLat       |endRadLat         |startRadLong       |endRadLong         |\n",
      "+------------------+------------------+-------------------+-------------------+\n",
      "|0.7099873523967277|0.7099873523967277|-1.2912214593940174|-1.2912214593940174|\n",
      "|0.7102313878234002|0.7108809377608699|-1.2910007792652636|-1.2915272517254752|\n",
      "|0.7105313146268409|0.7099391987626652|-1.29093715555631  |-1.2908386765749968|\n",
      "|0.7113661947943947|0.7109956472570291|-1.291032165695735 |-1.291370736008677 |\n",
      "|0.7107304261512315|0.7109660489163764|-1.2916783473222815|-1.2916279617611712|\n",
      "+------------------+------------------+-------------------+-------------------+\n",
      "only showing top 5 rows\n",
      "\n"
     ]
    }
   ],
   "source": [
    "# radius of earth in miles\n",
    "R = 3963.0\n",
    "\n",
    "#Convert start/end latitude and longitude from degrees to Radians\n",
    "df = df.withColumn(\"startRadLat\", radians(df.startStationLatitude)) \\\n",
    "       .withColumn(\"endRadLat\", radians(df.endStationLatitude)) \\\n",
    "       .withColumn(\"startRadLong\", radians(df.startStationLongitude)) \\\n",
    "       .withColumn(\"endRadLong\", radians(df.endStationLongitude))\n",
    "\n",
    "df.select(df.startRadLat,df.endRadLat,df.startRadLong,df.endRadLong).show(5,False)"
   ]
  },
  {
   "cell_type": "code",
   "execution_count": 82,
   "metadata": {},
   "outputs": [],
   "source": [
    "df = df.withColumn(\"diffRadLat\", (df.startRadLat-df.endRadLat)) \\\n",
    "       .withColumn(\"diffRadLong\", (df.startRadLong-df.endRadLong)) \\\n",
    "       .withColumn(\"diffLat\", (df.startStationLatitude-df.endStationLatitude)) \\\n",
    "       .withColumn(\"diffLong\", (df.startStationLongitude-df.endStationLongitude))\n",
    "\n",
    "df = df.withColumn(\"crowDist\", asin(sqrt((sin(df.diffRadLat/2))**2 + (cos(df.startRadLat) * cos(df.endRadLat)) * (sin(df.diffRadLong/2))**2)) * 2 * R)"
   ]
  },
  {
   "cell_type": "code",
   "execution_count": 83,
   "metadata": {},
   "outputs": [],
   "source": [
    "df = df.withColumn(\"verticalDist\", asin(sqrt((sin(df.diffRadLat/2))**2)) * 2 * R)\n",
    "df = df.withColumn(\"horizontalDist\", asin(sqrt((sin(df.diffRadLong/2))**2)) * 2 * R)\n",
    "df = df.withColumn(\"manhattanDist\", (df.horizontalDist + df.verticalDist))"
   ]
  },
  {
   "cell_type": "markdown",
   "metadata": {},
   "source": [
    "#### Birthyear variable\n",
    "* This variable is interesting because some of the dates that the riders mentioned were their birthday fall in the early 1800s. To mediate with this concern, we binned the data prior to 1940 into one variable type. "
   ]
  },
  {
   "cell_type": "code",
   "execution_count": 84,
   "metadata": {},
   "outputs": [],
   "source": [
    "#df.groupby('birthyear').count().sort(\"count\").show()\n",
    "# NOT required when signing up; but also no default\n",
    "#total = df.count()\n",
    "#df.groupBy(\"birthyear\") \n",
    "#  .count().sort(desc(\"count\")) \\\n",
    "#  .withColumn('percent', round((F.col('count') / total) * 100,2 )) \\\n",
    "#  .show()\n",
    "\n",
    "#df.groupBy(\"birthyear\") \\\n",
    "#  .count().sort(asc(\"birthyear\")) \\\n",
    "#  .withColumn('percent', (F.col('count') / total) * 100 ) \\\n",
    "#  .show()\n",
    "# has birth years in from the 1800's\n",
    "\n",
    "#df = df.withColumn(\"birthyear\", F.when(F.col(\"birthyear\") > 1940, F.col(\"birthyear\")).otherwise(\">1940\"))#\n",
    "\n",
    "#df.groupBy(\"birthyear\") \\\n",
    "#  .count().sort(desc(\"count\")) \\\n",
    "#  .withColumn('percent', round((F.col('count') / total) * 100,2 )) \\\n",
    "#  .show()\n",
    "\n",
    "#df.groupBy(\"birthyear\") \\\n",
    "#  .count().sort(asc(\"count\")) \\\n",
    "#  .withColumn('percent', round((F.col('count') / total) * 100,2 )) \\\n",
    "#  .show()\n",
    "df = df.drop(F.col(\"birthyear\"))"
   ]
  },
  {
   "cell_type": "code",
   "execution_count": 29,
   "metadata": {},
   "outputs": [
    {
     "name": "stdout",
     "output_type": "stream",
     "text": [
      "+-------+----------+--------------+----------------+--------------------+---------------------+----+----+---------+------------+--------------+------------------+-------------------+-------+--------+-------------------+-----------+---------+----------+-----------+-------+--------+--------+------------+--------------+-------------+\n",
      "|Borough|month_year|startStationId|startStationName|startStationLatitude|startStationLongitude|date|hour|starttime|endStationId|endStationName|endStationLatitude|endStationLongitude| bikeid|usertype|tripduration_minute|startRadLat|endRadLat|diffRadLat|diffRadLong|diffLat|diffLong|crowDist|verticalDist|horizontalDist|manhattanDist|\n",
      "+-------+----------+--------------+----------------+--------------------+---------------------+----+----+---------+------------+--------------+------------------+-------------------+-------+--------+-------------------+-----------+---------+----------+-----------+-------+--------+--------+------------+--------------+-------------+\n",
      "|      0|         0|             0|               0|                   0|                    0|   0|   0|        0|           0|         13885|             13885|              13885|7269482|       0|                  0|          0|    13885|     13885|      13885|  13885|   13885|   13885|       13885|         13885|        13885|\n",
      "+-------+----------+--------------+----------------+--------------------+---------------------+----+----+---------+------------+--------------+------------------+-------------------+-------+--------+-------------------+-----------+---------+----------+-----------+-------+--------+--------+------------+--------------+-------------+\n",
      "\n"
     ]
    }
   ],
   "source": [
    "from pyspark.sql.functions import col,isnan, when, count\n",
    "df_ColumnsBike=[\"Borough\",\"month_year\",\"startStationId\",\"startStationName\",\"startStationLatitude\",\"startStationLongitude\",\"date\",\"hour\",\"starttime\",\"endStationId\",\"endStationName\",\"endStationLatitude\",\"endStationLongitude\",\"bikeid\",\"usertype\", \n",
    "               \"tripduration_minute\", \"startRadLat\",\"endRadLat\", \"diffRadLat\", \"diffRadLong\", \"diffLat\", \"diffLong\", \"crowDist\",\"verticalDist\",\"horizontalDist\",\"manhattanDist\"]\n",
    "\n",
    "\n",
    "df.select([col for col in df.columns])\n",
    "\n",
    "\n",
    "df.select([count(when(isnan(c) | col(c).isNull(), c)).alias(c) for c in df_ColumnsBike]).show()"
   ]
  },
  {
   "cell_type": "code",
   "execution_count": 117,
   "metadata": {},
   "outputs": [],
   "source": [
    "df = df.filter(df.endStationName.isNotNull())\n",
    "df = df.filter(df.endStationLatitude.isNotNull())\n",
    "df = df.filter(df.endStationLongitude.isNotNull())\n",
    "df = df.filter(df.endRadLat.isNotNull())\n",
    "df = df.filter(df.diffRadLat.isNotNull())\n",
    "df = df.filter(df.diffRadLong.isNotNull())\n",
    "df = df.filter(df.diffLat.isNotNull())\n",
    "df = df.filter(df.diffLong.isNotNull())\n",
    "df = df.filter(df.crowDist.isNotNull())\n",
    "df = df.filter(df.verticalDist.isNotNull())\n",
    "df = df.filter(df.horizontalDist.isNotNull())\n",
    "df = df.filter(df.manhattanDist.isNotNull())\n",
    "\n",
    "df10 = df"
   ]
  },
  {
   "cell_type": "code",
   "execution_count": 62,
   "metadata": {},
   "outputs": [
    {
     "name": "stdout",
     "output_type": "stream",
     "text": [
      "root\n",
      " |-- date: string (nullable = true)\n",
      " |-- temp: double (nullable = true)\n",
      " |-- feels_like: double (nullable = true)\n",
      " |-- pressure: long (nullable = true)\n",
      " |-- humidity: long (nullable = true)\n",
      " |-- wind_speed: double (nullable = true)\n",
      " |-- rain_3h: double (nullable = true)\n",
      " |-- precip: string (nullable = true)\n",
      " |-- feels_like: double (nullable = true)\n",
      " |-- humidity: long (nullable = true)\n",
      " |-- wind_speed: double (nullable = true)\n",
      " |-- clouds_all: long (nullable = true)\n",
      " |-- precip: string (nullable = true)\n",
      "\n"
     ]
    }
   ],
   "source": [
    "df.printSchema()"
   ]
  },
  {
   "cell_type": "code",
   "execution_count": 32,
   "metadata": {},
   "outputs": [
    {
     "name": "stdout",
     "output_type": "stream",
     "text": [
      "+-------+----------+--------------+----------------+--------------------+---------------------+----+----+---------+------------+--------------+------------------+-------------------+-------+--------+-------------------+-----------+---------+----------+-----------+-------+--------+--------+------------+--------------+-------------+\n",
      "|Borough|month_year|startStationId|startStationName|startStationLatitude|startStationLongitude|date|hour|starttime|endStationId|endStationName|endStationLatitude|endStationLongitude| bikeid|usertype|tripduration_minute|startRadLat|endRadLat|diffRadLat|diffRadLong|diffLat|diffLong|crowDist|verticalDist|horizontalDist|manhattanDist|\n",
      "+-------+----------+--------------+----------------+--------------------+---------------------+----+----+---------+------------+--------------+------------------+-------------------+-------+--------+-------------------+-----------+---------+----------+-----------+-------+--------+--------+------------+--------------+-------------+\n",
      "|      0|         0|             0|               0|                   0|                    0|   0|   0|        0|           0|             0|                 0|                  0|7255597|       0|                  0|          0|        0|         0|          0|      0|       0|       0|           0|             0|            0|\n",
      "+-------+----------+--------------+----------------+--------------------+---------------------+----+----+---------+------------+--------------+------------------+-------------------+-------+--------+-------------------+-----------+---------+----------+-----------+-------+--------+--------+------------+--------------+-------------+\n",
      "\n"
     ]
    }
   ],
   "source": [
    "df.select([col for col in df.columns])\n",
    "\n",
    "\n",
    "df.select([count(when(isnan(c) | col(c).isNull(), c)).alias(c) for c in df_ColumnsBike]).show()"
   ]
  },
  {
   "cell_type": "code",
   "execution_count": 33,
   "metadata": {},
   "outputs": [
    {
     "name": "stdout",
     "output_type": "stream",
     "text": [
      "+----+----------+--------+--------+--------+--------+----------+-------+-------+-------+-------+----------+------------+---+---+-----+--------+------------+----+---------+---------+------+------------------------+-----------------------+\n",
      "|temp|feels_like|temp_min|temp_max|pressure|humidity|wind_speed|rain_1h|rain_3h|snow_1h|snow_3h|clouds_all|weather_main|dow|day|month|time_bin|peak_commute|year|3h_precip|1h_precip|precip|weatherGoodDurationIndex|weatherBadDurationIndex|\n",
      "+----+----------+--------+--------+--------+--------+----------+-------+-------+-------+-------+----------+------------+---+---+-----+--------+------------+----+---------+---------+------+------------------------+-----------------------+\n",
      "|   0|         0|       0|       0|       0|       0|         0|      0|      0|      0|      0|         0|           0|  0|  0|    0|       0|           0|   0|        0|        0|     0|                       0|                      0|\n",
      "+----+----------+--------+--------+--------+--------+----------+-------+-------+-------+-------+----------+------------+---+---+-----+--------+------------+----+---------+---------+------+------------------------+-----------------------+\n",
      "\n"
     ]
    }
   ],
   "source": [
    "from pyspark.sql.functions import col,isnan, when, count\n",
    "df_ColumnsWeather = [\"temp\",\"feels_like\",\"temp_min\",\"temp_max\",\"pressure\",\"humidity\",\"wind_speed\",\"rain_1h\",\"rain_3h\",\"snow_1h\",\"snow_3h\",\n",
    "                     \"clouds_all\",\"weather_main\",\"dow\",\"day\",\"month\",\"time_bin\",\"peak_commute\",\"year\",\"3h_precip\",\"1h_precip\",\"precip\",\n",
    "                     \"weatherGoodDurationIndex\",\"weatherBadDurationIndex\"]\n",
    "\n",
    "df.select([col for col in df.columns])\n",
    "\n",
    "\n",
    "df.select([count(when(isnan(c) | col(c).isNull(), c)).alias(c) for c in df_ColumnsWeather]).show()\n"
   ]
  },
  {
   "cell_type": "code",
   "execution_count": 34,
   "metadata": {},
   "outputs": [
    {
     "name": "stdout",
     "output_type": "stream",
     "text": [
      "+--------+------------------+------------------+----------------------+----------------------+----------------------+-------------------+----------------+-------------------+------------------+--------------------+\n",
      "|zipcodes|avg_days_on_market|avg_discount_share|avg_median_sales_price|avg_median_asking_sale|avg_median_asking_rent|avg_price_cut_share|avg_sales_volume|avg_sales_inventory|avg_rent_inventory|avg_sales_list_ratio|\n",
      "+--------+------------------+------------------+----------------------+----------------------+----------------------+-------------------+----------------+-------------------+------------------+--------------------+\n",
      "|  211345|                 0|                 0|                     0|                     0|                     0|                  0|               0|                  0|                 0|                   0|\n",
      "+--------+------------------+------------------+----------------------+----------------------+----------------------+-------------------+----------------+-------------------+------------------+--------------------+\n",
      "\n"
     ]
    }
   ],
   "source": [
    "from pyspark.sql.functions import col,isnan, when, count\n",
    "df_ColumnsHouse=[\"zipcodes\",\"avg_days_on_market\",\"avg_discount_share\",\"avg_median_sales_price\",\"avg_median_asking_sale\",\"avg_median_asking_rent\",\n",
    "                 \"avg_price_cut_share\",\"avg_sales_volume\",\"avg_sales_inventory\",\"avg_rent_inventory\",\"avg_sales_list_ratio\"]\n",
    "df.select([col for col in df.columns])\n",
    "\n",
    "\n",
    "df.select([count(when(isnan(c) | col(c).isNull(), c)).alias(c) for c in df_ColumnsHouse]).show()"
   ]
  },
  {
   "cell_type": "markdown",
   "metadata": {},
   "source": [
    "#### Taking a sample of the data to turn it into a pandas dataframe for visualizations"
   ]
  },
  {
   "cell_type": "code",
   "execution_count": 35,
   "metadata": {},
   "outputs": [],
   "source": [
    "df1 = df\\\n",
    ".select(\"Borough\",\"date\", \"usertype\", \"feels_like\", \"tripduration_minute\", \"weatherGoodDurationIndex\",\"weatherBadDurationIndex\")\n"
   ]
  },
  {
   "cell_type": "code",
   "execution_count": 36,
   "metadata": {},
   "outputs": [],
   "source": [
    "df2 = df1.sample(0.05)\n",
    "df3 = df1.sample(0.01)"
   ]
  },
  {
   "cell_type": "code",
   "execution_count": 37,
   "metadata": {},
   "outputs": [
    {
     "name": "stdout",
     "output_type": "stream",
     "text": [
      "root\n",
      " |-- Borough: string (nullable = true)\n",
      " |-- date: string (nullable = true)\n",
      " |-- usertype: string (nullable = true)\n",
      " |-- feels_like: double (nullable = true)\n",
      " |-- tripduration_minute: string (nullable = true)\n",
      " |-- weatherGoodDurationIndex: double (nullable = true)\n",
      " |-- weatherBadDurationIndex: double (nullable = true)\n",
      "\n"
     ]
    }
   ],
   "source": [
    "df2.printSchema()"
   ]
  },
  {
   "cell_type": "code",
   "execution_count": 38,
   "metadata": {},
   "outputs": [
    {
     "data": {
      "text/plain": [
       "2467548"
      ]
     },
     "execution_count": 38,
     "metadata": {},
     "output_type": "execute_result"
    }
   ],
   "source": [
    "#df2.count()\n",
    "df2.count()"
   ]
  },
  {
   "cell_type": "code",
   "execution_count": 39,
   "metadata": {},
   "outputs": [],
   "source": [
    "pandasdf = df2.toPandas()"
   ]
  },
  {
   "cell_type": "code",
   "execution_count": 40,
   "metadata": {},
   "outputs": [],
   "source": [
    "pandasdf2 = df3.toPandas()"
   ]
  },
  {
   "cell_type": "code",
   "execution_count": 41,
   "metadata": {},
   "outputs": [
    {
     "data": {
      "text/plain": [
       "Borough                      object\n",
       "date                         object\n",
       "usertype                     object\n",
       "feels_like                  float64\n",
       "tripduration_minute          object\n",
       "weatherGoodDurationIndex    float64\n",
       "weatherBadDurationIndex     float64\n",
       "dtype: object"
      ]
     },
     "execution_count": 41,
     "metadata": {},
     "output_type": "execute_result"
    }
   ],
   "source": [
    "dataTypeSeries = pandasdf.dtypes\n",
    "dataTypeSeries"
   ]
  },
  {
   "cell_type": "code",
   "execution_count": null,
   "metadata": {},
   "outputs": [],
   "source": []
  },
  {
   "cell_type": "code",
   "execution_count": 42,
   "metadata": {},
   "outputs": [
    {
     "data": {
      "text/plain": [
       "Borough                      object\n",
       "date                         object\n",
       "usertype                     object\n",
       "feels_like                  float64\n",
       "tripduration_minute          object\n",
       "weatherGoodDurationIndex    float64\n",
       "weatherBadDurationIndex     float64\n",
       "dtype: object"
      ]
     },
     "execution_count": 42,
     "metadata": {},
     "output_type": "execute_result"
    }
   ],
   "source": [
    "dataTypeSeries2 = pandasdf2.dtypes\n",
    "dataTypeSeries2"
   ]
  },
  {
   "cell_type": "markdown",
   "metadata": {},
   "source": [
    "### Required EDA"
   ]
  },
  {
   "cell_type": "markdown",
   "metadata": {},
   "source": [
    "A lot of our main dataset is categorical data, or in numerical format, but acts like categorical data like a date and coordinates. It does not make sense to take a statistical summary of a coordinate, date, or even an ID number.  "
   ]
  },
  {
   "cell_type": "code",
   "execution_count": 118,
   "metadata": {},
   "outputs": [
    {
     "data": {
      "text/plain": [
       "49380335"
      ]
     },
     "execution_count": 118,
     "metadata": {},
     "output_type": "execute_result"
    }
   ],
   "source": [
    "df.count() # Number of Records"
   ]
  },
  {
   "cell_type": "code",
   "execution_count": 119,
   "metadata": {},
   "outputs": [
    {
     "name": "stdout",
     "output_type": "stream",
     "text": [
      "65\n"
     ]
    }
   ],
   "source": [
    "print(len(df10.columns)) # Number of variables"
   ]
  },
  {
   "cell_type": "code",
   "execution_count": 49,
   "metadata": {},
   "outputs": [
    {
     "data": {
      "image/png": "[encoded data removed]",
      "text/plain": [
       "<Figure size 432x288 with 1 Axes>"
      ]
     },
     "metadata": {},
     "output_type": "display_data"
    }
   ],
   "source": [
    "sns.set_theme(style=\"darkgrid\")\n",
    "ax = sns.countplot(x=\"Borough\", data=pandasdf)"
   ]
  },
  {
   "cell_type": "code",
   "execution_count": 120,
   "metadata": {},
   "outputs": [
    {
     "name": "stdout",
     "output_type": "stream",
     "text": [
      "+---------+--------+-------+\n",
      "|  Borough|   count|percent|\n",
      "+---------+--------+-------+\n",
      "|   Queens| 1848471|   3.74|\n",
      "| Brooklyn| 9572096|  19.38|\n",
      "|Manhattan|37679125|   76.3|\n",
      "|    Bronx|  280643|   0.57|\n",
      "+---------+--------+-------+\n",
      "\n"
     ]
    }
   ],
   "source": [
    "total = df10.count()\n",
    "\n",
    "df10.groupBy(\"Borough\") \\\n",
    "  .count() \\\n",
    "  .withColumn('percent', round((F.col('count') / total) * 100, 2)) \\\n",
    "  .show()\n",
    "\n",
    "# Note: Manhattan represents 76.3% of the data and Brooklyn represents 19.38%"
   ]
  },
  {
   "cell_type": "code",
   "execution_count": 121,
   "metadata": {},
   "outputs": [
    {
     "name": "stdout",
     "output_type": "stream",
     "text": [
      "+----------+-----+\n",
      "|       day|count|\n",
      "+----------+-----+\n",
      "|2020-02-26|44503|\n",
      "|2019-08-08|68714|\n",
      "|2019-08-22|60527|\n",
      "|2019-08-23|54493|\n",
      "|2020-04-13|12394|\n",
      "|2020-06-24|55850|\n",
      "|2019-09-29|61919|\n",
      "|2019-08-31|52390|\n",
      "|2019-04-25|48615|\n",
      "|2018-12-31|15405|\n",
      "|2020-06-08|51073|\n",
      "|2020-11-12|46182|\n",
      "|2020-09-12|82785|\n",
      "|2018-08-23|59918|\n",
      "|2021-04-06|76015|\n",
      "|2020-06-20|67686|\n",
      "|2020-06-22|50198|\n",
      "|2020-01-05|23003|\n",
      "|2019-04-08|61904|\n",
      "|2019-04-26|46301|\n",
      "+----------+-----+\n",
      "only showing top 20 rows\n",
      "\n"
     ]
    }
   ],
   "source": [
    "count_df = df10.select(F.date_format('date','yyyy-MM-dd').alias('day')).groupby('day').count()\n",
    "count_df.show()"
   ]
  },
  {
   "cell_type": "code",
   "execution_count": 122,
   "metadata": {},
   "outputs": [
    {
     "name": "stdout",
     "output_type": "stream",
     "text": [
      "+----+--------+\n",
      "|year|   count|\n",
      "+----+--------+\n",
      "|2020|16813026|\n",
      "|2019|17500827|\n",
      "|2018| 6892454|\n",
      "|2021| 8174028|\n",
      "+----+--------+\n",
      "\n"
     ]
    }
   ],
   "source": [
    "count_df2 = df10.select(F.date_format('date','yyyy').alias('year')).groupby('year').count()\n",
    "count_df2.show()"
   ]
  },
  {
   "cell_type": "code",
   "execution_count": 123,
   "metadata": {},
   "outputs": [],
   "source": [
    "pandasdf4 = count_df2.toPandas()"
   ]
  },
  {
   "cell_type": "code",
   "execution_count": 124,
   "metadata": {},
   "outputs": [
    {
     "data": {
      "image/png": "[encoded data removed]",
      "text/plain": [
       "<Figure size 432x288 with 1 Axes>"
      ]
     },
     "metadata": {
      "needs_background": "light"
     },
     "output_type": "display_data"
    }
   ],
   "source": [
    "plot = pandasdf4.plot.scatter(x = 'year', y = 'count', c = 'blue')"
   ]
  },
  {
   "cell_type": "code",
   "execution_count": null,
   "metadata": {},
   "outputs": [],
   "source": []
  },
  {
   "cell_type": "code",
   "execution_count": 91,
   "metadata": {},
   "outputs": [
    {
     "data": {
      "text/plain": [
       "<matplotlib.legend.Legend at 0x7fa9a47f0590>"
      ]
     },
     "execution_count": 91,
     "metadata": {},
     "output_type": "execute_result"
    },
    {
     "data": {
      "image/png": "[encoded data removed]",
      "text/plain": [
       "<Figure size 576x576 with 1 Axes>"
      ]
     },
     "metadata": {},
     "output_type": "display_data"
    }
   ],
   "source": [
    "colors = ['yellowgreen', 'gold', 'lightskyblue', 'lightcoral']\n",
    "labels = '2020', '2019', '2018', '2021'\n",
    "plot = pandasdf4.plot.pie(y='count', colors=colors, figsize=(8,8), autopct='%1.1f%%', labels=None)\n",
    "plt.title(\"Number of CitiBike rides per year\")\n",
    "plt.legend(labels)"
   ]
  },
  {
   "cell_type": "code",
   "execution_count": 125,
   "metadata": {},
   "outputs": [],
   "source": [
    "count_df2 = df10.withColumn('years',F.year(F.to_timestamp('date', 'yyyy-MM-dd')))"
   ]
  },
  {
   "cell_type": "code",
   "execution_count": 93,
   "metadata": {},
   "outputs": [],
   "source": [
    "l1 = [('13/08/2010',342),('6/10/2011',334),('27/11/2011',269),('12/01/2012',303),('22/02/2012',286),('31/07/2012',276),('25/04/2013',222)]\n",
    "dfl1 =  spark.createDataFrame(l1).toDF(\"dates\",\"sum\")"
   ]
  },
  {
   "cell_type": "code",
   "execution_count": 126,
   "metadata": {},
   "outputs": [
    {
     "name": "stdout",
     "output_type": "stream",
     "text": [
      "+--------------+--------------------+------+-------+\n",
      "|startStationId|    startStationName| count|percent|\n",
      "+--------------+--------------------+------+-------+\n",
      "|         519.0|Pershing Square N...|238157|   0.48|\n",
      "|         497.0|  E 17 St & Broadway|186565|   0.38|\n",
      "|         402.0|  Broadway & E 22 St|173650|   0.35|\n",
      "|         435.0|     W 21 St & 6 Ave|173176|   0.35|\n",
      "|         285.0|  Broadway & E 14 St|168102|   0.34|\n",
      "|         426.0|West St & Chamber...|155825|   0.32|\n",
      "|         499.0|  Broadway & W 60 St|152965|   0.31|\n",
      "|         490.0|     8 Ave & W 33 St|147490|    0.3|\n",
      "|         358.0|Christopher St & ...|145180|   0.29|\n",
      "|         514.0|    12 Ave & W 40 St|144861|   0.29|\n",
      "|         459.0|    W 20 St & 11 Ave|142149|   0.29|\n",
      "|         477.0|     W 41 St & 8 Ave|138817|   0.28|\n",
      "|         379.0|     W 31 St & 7 Ave|130071|   0.26|\n",
      "|         523.0|     W 38 St & 8 Ave|127524|   0.26|\n",
      "|         491.0|E 24 St & Park Ave S|125122|   0.25|\n",
      "|         504.0|     1 Ave & E 16 St|124833|   0.25|\n",
      "|        3002.0|South End Ave & L...|124576|   0.25|\n",
      "|         359.0|  E 47 St & Park Ave|123670|   0.25|\n",
      "|        3435.0|Grand St & Elizab...|123136|   0.25|\n",
      "|         492.0|     W 33 St & 7 Ave|122546|   0.25|\n",
      "+--------------+--------------------+------+-------+\n",
      "only showing top 20 rows\n",
      "\n"
     ]
    }
   ],
   "source": [
    "df10.groupBy(\"startStationId\", \"startStationName\") \\\n",
    "  .count().sort(desc('count')) \\\n",
    "  .withColumn('percent', round((F.col('count') / total) * 100, 2)) \\\n",
    "  .show()"
   ]
  },
  {
   "cell_type": "code",
   "execution_count": 96,
   "metadata": {},
   "outputs": [
    {
     "name": "stdout",
     "output_type": "stream",
     "text": [
      "+------------+--------------------+------+-------+\n",
      "|endStationId|      endStationName| count|percent|\n",
      "+------------+--------------------+------+-------+\n",
      "|       519.0|Pershing Square N...|256944|   0.52|\n",
      "|       497.0|  E 17 St & Broadway|230983|   0.47|\n",
      "|       435.0|     W 21 St & 6 Ave|227392|   0.46|\n",
      "|       426.0|West St & Chamber...|222072|   0.45|\n",
      "|       402.0|  Broadway & E 22 St|221770|   0.45|\n",
      "|       514.0|    12 Ave & W 40 St|196134|    0.4|\n",
      "|       285.0|  Broadway & E 14 St|193524|   0.39|\n",
      "|       499.0|  Broadway & W 60 St|190172|   0.39|\n",
      "|       358.0|Christopher St & ...|189280|   0.38|\n",
      "|      3255.0|     8 Ave & W 31 St|188384|   0.38|\n",
      "|       490.0|     8 Ave & W 33 St|172919|   0.35|\n",
      "|       293.0|Lafayette St & E ...|171450|   0.35|\n",
      "|      3641.0|  Broadway & W 25 St|169475|   0.34|\n",
      "|      3141.0|     1 Ave & E 68 St|166474|   0.34|\n",
      "|      3435.0|Grand St & Elizab...|164345|   0.33|\n",
      "|       368.0|  Carmine St & 6 Ave|162165|   0.33|\n",
      "|       151.0|Cleveland Pl & Sp...|161157|   0.33|\n",
      "|       459.0|    W 20 St & 11 Ave|156117|   0.32|\n",
      "|      3711.0|  E 13 St & Avenue A|153459|   0.31|\n",
      "|       477.0|     W 41 St & 8 Ave|152643|   0.31|\n",
      "+------------+--------------------+------+-------+\n",
      "only showing top 20 rows\n",
      "\n"
     ]
    }
   ],
   "source": [
    "df10.groupBy(\"endStationId\", \"endStationName\") \\\n",
    "  .count().sort(desc('count')) \\\n",
    "  .withColumn('percent', round((F.col('count') / total) * 100,2)) \\\n",
    "  .show()\n",
    "# Park Ave. near emp. state building"
   ]
  },
  {
   "cell_type": "code",
   "execution_count": 97,
   "metadata": {},
   "outputs": [],
   "source": [
    "#df.groupBy(\"bikeid\") \\\n",
    "#  .count().sort(desc('count')) \\\n",
    "#  .withColumn('percent', (F.col('count') / total) * 100) \\\n",
    "#  .show()\n",
    "\n",
    "#Possible for bikes to have no ID... doesnt make sense to keep this "
   ]
  },
  {
   "cell_type": "code",
   "execution_count": 127,
   "metadata": {},
   "outputs": [
    {
     "name": "stdout",
     "output_type": "stream",
     "text": [
      "+-------+-------------------+\n",
      "|summary|tripduration_minute|\n",
      "+-------+-------------------+\n",
      "|  count|           49380335|\n",
      "|   mean| 15.421320367375605|\n",
      "| stddev| 16.780753226260074|\n",
      "|    min|                  0|\n",
      "|    max|  99.98333333333333|\n",
      "+-------+-------------------+\n",
      "\n"
     ]
    }
   ],
   "source": [
    "df10.select('tripduration_minute').describe().show() # negatives"
   ]
  },
  {
   "cell_type": "code",
   "execution_count": 128,
   "metadata": {},
   "outputs": [
    {
     "name": "stdout",
     "output_type": "stream",
     "text": [
      "+-------+------------------+\n",
      "|summary|              hour|\n",
      "+-------+------------------+\n",
      "|  count|          49380335|\n",
      "|   mean|14.008320356676398|\n",
      "| stddev|  4.78132792823245|\n",
      "|    min|                 0|\n",
      "|    max|                23|\n",
      "+-------+------------------+\n",
      "\n"
     ]
    }
   ],
   "source": [
    "df10.select('hour').describe().show()"
   ]
  },
  {
   "cell_type": "code",
   "execution_count": 129,
   "metadata": {},
   "outputs": [],
   "source": [
    "#df_vis = pd.DataFrame(data=pandasdf, columns=['tripduration_minute','feels_like']);\n",
    "\n",
    "#df_vis.plot.scatter(x='tripduration_minute', y='feels_like', title= \"Scatter plot between two variables X and Y\");\n",
    "\n",
    "#plt.show()\n",
    "\n",
    "\n",
    "#sb.scatterplot(data = pandasdf2(x='tripduration_minute', y = 'feels_like').set_title(\"test\"))\n",
    "#plt.show()"
   ]
  },
  {
   "cell_type": "code",
   "execution_count": 130,
   "metadata": {},
   "outputs": [
    {
     "name": "stdout",
     "output_type": "stream",
     "text": [
      "+-------+------------------+\n",
      "|summary|        feels_like|\n",
      "+-------+------------------+\n",
      "|  count|          49380335|\n",
      "|   mean|  56.7457723014488|\n",
      "| stddev|20.941480358416648|\n",
      "|    min|           -11.398|\n",
      "|    max|             107.6|\n",
      "+-------+------------------+\n",
      "\n"
     ]
    }
   ],
   "source": [
    "df10.select('feels_like').describe().show() "
   ]
  },
  {
   "cell_type": "code",
   "execution_count": 131,
   "metadata": {},
   "outputs": [
    {
     "name": "stdout",
     "output_type": "stream",
     "text": [
      "+-------+------------------+\n",
      "|summary|          humidity|\n",
      "+-------+------------------+\n",
      "|  count|          49380335|\n",
      "|   mean| 61.77208909174067|\n",
      "| stddev|20.422485031052133|\n",
      "|    min|                 7|\n",
      "|    max|               100|\n",
      "+-------+------------------+\n",
      "\n"
     ]
    }
   ],
   "source": [
    "df10.select('humidity').describe().show() "
   ]
  },
  {
   "cell_type": "code",
   "execution_count": 132,
   "metadata": {},
   "outputs": [
    {
     "name": "stdout",
     "output_type": "stream",
     "text": [
      "+-------+------------------+\n",
      "|summary|avg_days_on_market|\n",
      "+-------+------------------+\n",
      "|  count|          49380335|\n",
      "|   mean|  89.4626538266957|\n",
      "| stddev|  11.6097304917609|\n",
      "|    min| 60.79050759965584|\n",
      "|    max|117.91532458907518|\n",
      "+-------+------------------+\n",
      "\n",
      "+--------------------------------+----+--------+------+\n",
      "|round(avg_median_sales_price, 2)|year|zipcodes| count|\n",
      "+--------------------------------+----+--------+------+\n",
      "|                      1025191.29|2019|   10011|122068|\n",
      "|                      1093787.33|2020|   10002|116297|\n",
      "|                      1133273.42|2021|   10009|115913|\n",
      "|                      1133273.42|2021|   10002|115793|\n",
      "|                      1133273.42|2021|   10003|113692|\n",
      "|                      1133273.42|2021|   10019|113481|\n",
      "|                      1008986.98|2019|   10011|113454|\n",
      "|                      1023422.69|2019|   10011|111917|\n",
      "|                      1002035.14|2020|   10002|107672|\n",
      "|                       953360.34|2019|   10011|106963|\n",
      "|                      1133273.42|2021|   10014|106732|\n",
      "|                      1025191.29|2019|   10002|105513|\n",
      "|                      1404366.29|2019|   10011|105281|\n",
      "|                      1008986.98|2019|   10002|105108|\n",
      "|                       1028561.5|2020|   10002|104756|\n",
      "|                      1025191.29|2019|   10009|101915|\n",
      "|                      1133273.42|2021|   10011|101467|\n",
      "|                      1404366.29|2019|   10002|101418|\n",
      "|                       953360.34|2019|   10002|100572|\n",
      "|                      1025191.29|2019|   10003| 96238|\n",
      "+--------------------------------+----+--------+------+\n",
      "only showing top 20 rows\n",
      "\n"
     ]
    }
   ],
   "source": [
    "df10.select('avg_days_on_market').describe().show()\n",
    "df10.groupby(round('avg_median_sales_price', 2), 'year', 'zipcodes').count().sort(desc(\"count\")).show()"
   ]
  },
  {
   "cell_type": "code",
   "execution_count": null,
   "metadata": {},
   "outputs": [],
   "source": [
    "df10.select(round('avg_median_sales_price', 2)).describe().show() # SURPRISE... years 2017 - 2021?\n",
    "df10.groupby(round('avg_median_sales_price', 2), 'year', 'zipcodes').count().sort(desc(\"count\")).show()"
   ]
  },
  {
   "cell_type": "code",
   "execution_count": null,
   "metadata": {},
   "outputs": [],
   "source": [
    "df10.select('avg_median_asking_sale').describe().show() \n",
    "df10.groupby(round('avg_median_asking_sale', 2), 'year', 'zipcodes').count().sort(desc(\"count\")).show()"
   ]
  },
  {
   "cell_type": "code",
   "execution_count": null,
   "metadata": {},
   "outputs": [],
   "source": [
    "time_vs_crow = df10.select(round('tripduration_minute', 2), round('manhattanDist',2),round('crowDist', 2)).show()"
   ]
  },
  {
   "cell_type": "code",
   "execution_count": null,
   "metadata": {},
   "outputs": [],
   "source": [
    "columns = df10.columns\n",
    "print(columns)"
   ]
  },
  {
   "cell_type": "code",
   "execution_count": null,
   "metadata": {},
   "outputs": [],
   "source": [
    "# MODEL"
   ]
  },
  {
   "cell_type": "code",
   "execution_count": null,
   "metadata": {},
   "outputs": [],
   "source": [
    "#df10.printSchema()"
   ]
  },
  {
   "cell_type": "code",
   "execution_count": 110,
   "metadata": {},
   "outputs": [],
   "source": [
    "df1 = df10.select('date','temp','feels_like','pressure','humidity','wind_speed','rain_3h', 'precip')"
   ]
  },
  {
   "cell_type": "code",
   "execution_count": 111,
   "metadata": {},
   "outputs": [
    {
     "name": "stdout",
     "output_type": "stream",
     "text": [
      "+----------+------+----------+--------+--------+----------+-------+------+\n",
      "|      date|  temp|feels_like|pressure|humidity|wind_speed|rain_3h|precip|\n",
      "+----------+------+----------+--------+--------+----------+-------+------+\n",
      "|2020-06-01|64.292|     57.38|    1018|      43|      3.93|    0.0|     0|\n",
      "|2020-06-01|64.292|     57.38|    1018|      43|      3.93|    0.0|     0|\n",
      "|2020-06-01|64.292|     57.38|    1018|      43|      3.93|    0.0|     0|\n",
      "|2020-06-01|64.292|     57.38|    1018|      43|      3.93|    0.0|     0|\n",
      "|2020-06-01|64.292|     57.38|    1018|      43|      3.93|    0.0|     0|\n",
      "|2020-06-01|64.292|     57.38|    1018|      43|      3.93|    0.0|     0|\n",
      "|2020-06-01|64.292|     57.38|    1018|      43|      3.93|    0.0|     0|\n",
      "|2020-06-01|64.292|     57.38|    1018|      43|      3.93|    0.0|     0|\n",
      "|2020-06-01|64.292|     57.38|    1018|      43|      3.93|    0.0|     0|\n",
      "|2020-06-01|64.292|     57.38|    1018|      43|      3.93|    0.0|     0|\n",
      "+----------+------+----------+--------+--------+----------+-------+------+\n",
      "only showing top 10 rows\n",
      "\n"
     ]
    }
   ],
   "source": [
    "from pyspark.sql.functions import *\n",
    "df1 = df1.withColumn('precip', regexp_replace('precip', 'no_precip', '0'))\n",
    "df1 = df1.withColumn('precip', regexp_replace('precip', 'precip', '1'))\n",
    "df1.show(10)"
   ]
  },
  {
   "cell_type": "code",
   "execution_count": 112,
   "metadata": {},
   "outputs": [
    {
     "name": "stdout",
     "output_type": "stream",
     "text": [
      "+----------+-----+\n",
      "|       day|count|\n",
      "+----------+-----+\n",
      "|2020-02-26|44503|\n",
      "|2019-08-08|68714|\n",
      "+----------+-----+\n",
      "only showing top 2 rows\n",
      "\n"
     ]
    }
   ],
   "source": [
    "count_df = df1.select(F.date_format('date','yyyy-MM-dd').alias('day')).groupby('day').count()\n",
    "count_df.show(2)"
   ]
  },
  {
   "cell_type": "code",
   "execution_count": 113,
   "metadata": {},
   "outputs": [
    {
     "name": "stdout",
     "output_type": "stream",
     "text": [
      "+----------+------+----------+--------+--------+----------+-------+------+\n",
      "|      date|  temp|feels_like|pressure|humidity|wind_speed|rain_3h|precip|\n",
      "+----------+------+----------+--------+--------+----------+-------+------+\n",
      "|2019-08-08|70.664|    76.748|    1009|     100|       1.5|    0.0|     1|\n",
      "|2019-08-22|77.972|    87.224|    1011|      94|      1.39|    0.0|     0|\n",
      "+----------+------+----------+--------+--------+----------+-------+------+\n",
      "only showing top 2 rows\n",
      "\n"
     ]
    }
   ],
   "source": [
    "df1 = df1.dropDuplicates(['date'])\n",
    "df1.show(2)"
   ]
  },
  {
   "cell_type": "code",
   "execution_count": 114,
   "metadata": {},
   "outputs": [],
   "source": [
    "df1 = df1.join(count_df,df1.date ==  count_df.day,\"inner\")"
   ]
  },
  {
   "cell_type": "code",
   "execution_count": 115,
   "metadata": {},
   "outputs": [
    {
     "name": "stdout",
     "output_type": "stream",
     "text": [
      "+----------+------+----------+--------+--------+----------+-------+------+----------+-----+\n",
      "|      date|  temp|feels_like|pressure|humidity|wind_speed|rain_3h|precip|       day|count|\n",
      "+----------+------+----------+--------+--------+----------+-------+------+----------+-----+\n",
      "|2019-08-08|70.664|    76.748|    1009|     100|       1.5|    0.0|     1|2019-08-08|68714|\n",
      "|2019-08-22|77.972|    87.224|    1011|      94|      1.39|    0.0|     0|2019-08-22|60527|\n",
      "+----------+------+----------+--------+--------+----------+-------+------+----------+-----+\n",
      "only showing top 2 rows\n",
      "\n"
     ]
    }
   ],
   "source": [
    "df1.show(2)"
   ]
  },
  {
   "cell_type": "code",
   "execution_count": null,
   "metadata": {},
   "outputs": [],
   "source": []
  },
  {
   "cell_type": "code",
   "execution_count": null,
   "metadata": {},
   "outputs": [],
   "source": []
  },
  {
   "cell_type": "code",
   "execution_count": null,
   "metadata": {},
   "outputs": [],
   "source": []
  },
  {
   "cell_type": "code",
   "execution_count": null,
   "metadata": {},
   "outputs": [],
   "source": []
  }
 ],
 "metadata": {
  "kernelspec": {
   "display_name": "DS 5110",
   "language": "python",
   "name": "ds5110"
  },
  "language_info": {
   "codemirror_mode": {
    "name": "ipython",
    "version": 3
   },
   "file_extension": ".py",
   "mimetype": "text/x-python",
   "name": "python",
   "nbconvert_exporter": "python",
   "pygments_lexer": "ipython3",
   "version": "3.7.10"
  }
 },
 "nbformat": 4,
 "nbformat_minor": 4
}
